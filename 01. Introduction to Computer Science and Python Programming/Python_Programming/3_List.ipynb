{
 "cells": [
  {
   "cell_type": "markdown",
   "id": "cfe05483-e35c-4003-a547-d5ebd4e18c79",
   "metadata": {},
   "source": [
    "<h1 style='color: #FEC260'> List </h1>"
   ]
  },
  {
   "cell_type": "code",
   "execution_count": 1,
   "id": "1f5769b8-a895-469a-846a-0a651446f1e7",
   "metadata": {},
   "outputs": [
    {
     "name": "stdout",
     "output_type": "stream",
     "text": [
      "Original list:  ['one', 'two', 'three', 'four']\n",
      "Length of the list:  4\n"
     ]
    }
   ],
   "source": [
    "num = ['one', 'two', 'three', 'four']\n",
    "\n",
    "print(\"Original list: \", num)\n",
    "print(\"Length of the list: \", len(num))"
   ]
  },
  {
   "cell_type": "code",
   "execution_count": 3,
   "id": "38e35e9b",
   "metadata": {},
   "outputs": [
    {
     "name": "stdout",
     "output_type": "stream",
     "text": [
      "New list:  ['zero', 'two', 'three', 'four', 'ten', 'ten', 'five', 'threefour', 'five', 'threefour']\n"
     ]
    }
   ],
   "source": [
    "# we can index a list\n",
    "num[0] = \"zero\"\n",
    "\n",
    "# we can add new elements to a list using append\n",
    "num.append(\"five\")\n",
    "num.append(num[2] + num[3])\n",
    "\n",
    "# we can use the insert method to insert an element at a specific index\n",
    "num.insert(4, \"ten\")\n",
    "print('New list: ', num)"
   ]
  },
  {
   "cell_type": "code",
   "execution_count": 4,
   "id": "05632844",
   "metadata": {},
   "outputs": [
    {
     "name": "stdout",
     "output_type": "stream",
     "text": [
      "Extended list:  ['zero', 'two', 'three', 'four', 'ten', 'ten', 'five', 'threefour', 'five', 'threefour', 'six', 'seven']\n",
      "three\n",
      "seven\n"
     ]
    }
   ],
   "source": [
    "# we can add another iterable to the end of the list using the extend method\n",
    "f = ['six', 'seven']\n",
    "num.extend(f)\n",
    "print(\"Extended list: \", num)\n",
    "\n",
    "# we can remove the first item whose value is x by using the remove method\n",
    "num.remove('ten')\n",
    "\n",
    "# we can remove an item at a given index and return it using pop method\n",
    "a = num.pop(2)\n",
    "print(a)\n",
    "\n",
    "# if no index is specified pop would remove the last element and return it\n",
    "b = num.pop()\n",
    "print(b)"
   ]
  },
  {
   "cell_type": "code",
   "execution_count": 5,
   "id": "d8ad60eb",
   "metadata": {},
   "outputs": [
    {
     "name": "stdout",
     "output_type": "stream",
     "text": [
      "Number of 'ten':  4\n",
      "Index of 5:  4\n"
     ]
    }
   ],
   "source": [
    "# we can count the number of times an element appears using the count method\n",
    "s = ['ten', 'ten', 'ten']\n",
    "num.extend(s)\n",
    "print(\"Number of 'ten': \", num.count('ten'))\n",
    "\n",
    "# we can get index of an item using the index method (It return the first appearance)\n",
    "print(\"Index of 5: \", num.index('five'))"
   ]
  },
  {
   "cell_type": "code",
   "execution_count": 7,
   "id": "b9701b5a",
   "metadata": {},
   "outputs": [
    {
     "name": "stdout",
     "output_type": "stream",
     "text": [
      "Sorted list:  ['five', 'five', 'four', 'six', 'ten', 'ten', 'ten', 'ten', 'threefour', 'threefour', 'two', 'zero']\n",
      "\n",
      "Reversed list:  ['zero', 'two', 'threefour', 'threefour', 'ten', 'ten', 'ten', 'ten', 'six', 'four', 'five', 'five']\n",
      "\n",
      "Copy of list:  ['zero', 'two', 'threefour', 'threefour', 'ten', 'ten', 'ten', 'ten', 'six', 'four', 'five', 'five']\n"
     ]
    }
   ],
   "source": [
    "# we can use the built-in sort function to sort the list\n",
    "num.sort()\n",
    "print(\"Sorted list: \", num)\n",
    "\n",
    "# we can use the reverse method to reverse the list\n",
    "num.reverse()\n",
    "print(\"\\nReversed list: \", num)\n",
    "\n",
    "# we can create a copy of the list using copy method\n",
    "p = num.copy()\n",
    "print(\"\\nCopy of list: \", p)"
   ]
  },
  {
   "cell_type": "markdown",
   "id": "362a8919",
   "metadata": {},
   "source": [
    "<h2 style='color: #FEC260'> Slicing </h2>"
   ]
  },
  {
   "cell_type": "code",
   "execution_count": 1,
   "id": "8cb02399",
   "metadata": {},
   "outputs": [],
   "source": [
    "shows = ['Breaking bad', 'Dark', 'Friends', 'GOT', 'House', 'Sherlock holmes', 'The office', 'Vikings']"
   ]
  },
  {
   "cell_type": "code",
   "execution_count": 2,
   "id": "e6a975e7",
   "metadata": {},
   "outputs": [
    {
     "data": {
      "text/plain": [
       "['Dark', 'Friends', 'GOT']"
      ]
     },
     "execution_count": 2,
     "metadata": {},
     "output_type": "execute_result"
    }
   ],
   "source": [
    "shows[1:4] # start index to end-1 index"
   ]
  },
  {
   "cell_type": "code",
   "execution_count": 3,
   "id": "2b4f68b8",
   "metadata": {},
   "outputs": [
    {
     "data": {
      "text/plain": [
       "['Breaking bad', 'Dark', 'Friends', 'GOT', 'House']"
      ]
     },
     "execution_count": 3,
     "metadata": {},
     "output_type": "execute_result"
    }
   ],
   "source": [
    "shows[:5] # all the elements from beginning to end-1 index"
   ]
  },
  {
   "cell_type": "code",
   "execution_count": 4,
   "id": "7087df63",
   "metadata": {},
   "outputs": [
    {
     "data": {
      "text/plain": [
       "['Friends', 'GOT', 'House', 'Sherlock holmes', 'The office', 'Vikings']"
      ]
     },
     "execution_count": 4,
     "metadata": {},
     "output_type": "execute_result"
    }
   ],
   "source": [
    "shows[2:] # all the elements from start index to to last"
   ]
  },
  {
   "cell_type": "code",
   "execution_count": 5,
   "id": "1f2b828b",
   "metadata": {},
   "outputs": [
    {
     "name": "stdout",
     "output_type": "stream",
     "text": [
      "['Breaking bad', 'Friends', 'House', 'The office']\n"
     ]
    },
    {
     "data": {
      "text/plain": [
       "['Breaking bad', 'Friends', 'House', 'The office']"
      ]
     },
     "execution_count": 5,
     "metadata": {},
     "output_type": "execute_result"
    }
   ],
   "source": [
    "print(shows[0:len(shows):2]) # from beginning to end with 2 increment\n",
    "\n",
    "# we can write the above code by omitting the default values\n",
    "shows[::2]"
   ]
  },
  {
   "cell_type": "code",
   "execution_count": 6,
   "id": "7bdf1a00",
   "metadata": {},
   "outputs": [
    {
     "name": "stdout",
     "output_type": "stream",
     "text": [
      "['Breaking bad', 'Dark', 'Friends', 'GOT', 'House', 'Sherlock holmes', 'The office', 'Vikings']\n",
      "['Vikings', 'The office', 'Sherlock holmes', 'House', 'GOT', 'Friends', 'Dark', 'Breaking bad']\n"
     ]
    }
   ],
   "source": [
    "p = shows[::-1] # from beginning to end all elements from the last\n",
    "print(shows)\n",
    "print(p)"
   ]
  },
  {
   "cell_type": "code",
   "execution_count": 8,
   "id": "898a21ed",
   "metadata": {},
   "outputs": [
    {
     "data": {
      "text/plain": [
       "['Sherlock holmes', 'House', 'GOT']"
      ]
     },
     "execution_count": 8,
     "metadata": {},
     "output_type": "execute_result"
    }
   ],
   "source": [
    "shows[5:2:-1]  # from the start index to end-1 index in left direction\n",
    "\n",
    "# The default value for increment is 1, we can skip giving 1, \n",
    "# anything other than one  we have to give."
   ]
  },
  {
   "cell_type": "code",
   "execution_count": 9,
   "id": "5b6b0ba5",
   "metadata": {},
   "outputs": [
    {
     "data": {
      "text/plain": [
       "['Vikings', 'The office', 'Sherlock holmes']"
      ]
     },
     "execution_count": 9,
     "metadata": {},
     "output_type": "execute_result"
    }
   ],
   "source": [
    "shows[-1:-4:-1] # we can use indexing in negative direction also"
   ]
  },
  {
   "cell_type": "markdown",
   "id": "7547492f",
   "metadata": {},
   "source": [
    "### Taking input into a list"
   ]
  },
  {
   "cell_type": "code",
   "execution_count": 1,
   "id": "c51d8d3f",
   "metadata": {},
   "outputs": [
    {
     "name": "stdout",
     "output_type": "stream",
     "text": [
      "4 5 6 7 8 9\n",
      "[4, 5, 6, 7, 8, 9]\n"
     ]
    }
   ],
   "source": [
    "a = input(\"Enter numbers: \")\n",
    "print(a)\n",
    "\n",
    "# we can define the condition for splitting the string\n",
    "b = a.split()\n",
    "\n",
    "# Now b is a list but each entry of b is still a string literal;\n",
    "# We can convert this using a simple loop.\n",
    "\n",
    "for i in range(len(b)):\n",
    "    b[i] = int(b[i]) \n",
    "     \n",
    "print(b)"
   ]
  },
  {
   "cell_type": "code",
   "execution_count": 4,
   "id": "dfa461e0",
   "metadata": {},
   "outputs": [
    {
     "name": "stdout",
     "output_type": "stream",
     "text": [
      "[1, 2, 3, 4, 5] <class 'int'>\n"
     ]
    }
   ],
   "source": [
    "int_list = list(map(int, input().split()))\n",
    "print(int_list, type(int_list[0]))"
   ]
  },
  {
   "cell_type": "markdown",
   "id": "f3fa1fe9",
   "metadata": {},
   "source": [
    "### Reversing a list"
   ]
  },
  {
   "cell_type": "code",
   "execution_count": 1,
   "id": "671e3fd0",
   "metadata": {},
   "outputs": [
    {
     "name": "stdout",
     "output_type": "stream",
     "text": [
      "Original list:  [1, 3, 5, 7, 9]\n",
      "Reversing the list using reverse():  [9, 7, 5, 3, 1]\n",
      "Reversing the list using Slicing:  [1, 3, 5, 7, 9]\n"
     ]
    }
   ],
   "source": [
    "l = [1, 3, 5, 7, 9]\n",
    "print(\"Original list: \", l)\n",
    "\n",
    "l.reverse()\n",
    "\n",
    "print(\"Reversing the list using reverse(): \", l)\n",
    "\n",
    "l = l[::-1]\n",
    "print(\"Reversing the list using Slicing: \", l)"
   ]
  },
  {
   "cell_type": "markdown",
   "id": "f692a4a7",
   "metadata": {},
   "source": [
    "<h2 style='color: #FEC260'> 2-Dimensional List </h2>"
   ]
  },
  {
   "cell_type": "code",
   "execution_count": 3,
   "id": "8abe2f19",
   "metadata": {},
   "outputs": [
    {
     "name": "stdout",
     "output_type": "stream",
     "text": [
      "[[1, 2, 3, 4], [5, 6, 7, 8], [9, 10, 11, 12]]\n"
     ]
    }
   ],
   "source": [
    "lis = [\n",
    "    [1, 2, 3, 4], \n",
    "    [5, 6, 7, 8],\n",
    "    [9, 10, 11, 12]\n",
    "]\n",
    "print(lis) # we can consider this as a matrix"
   ]
  },
  {
   "cell_type": "code",
   "execution_count": 4,
   "id": "1adbb732",
   "metadata": {},
   "outputs": [
    {
     "name": "stdout",
     "output_type": "stream",
     "text": [
      "[1, 2, 3, 4]\n"
     ]
    },
    {
     "data": {
      "text/plain": [
       "1"
      ]
     },
     "execution_count": 4,
     "metadata": {},
     "output_type": "execute_result"
    }
   ],
   "source": [
    "print(lis[0]) # first row\n",
    "\n",
    "lis[0][0] # first element"
   ]
  },
  {
   "cell_type": "code",
   "execution_count": 6,
   "id": "1b4d3a22",
   "metadata": {},
   "outputs": [
    {
     "name": "stdout",
     "output_type": "stream",
     "text": [
      "[1, 2, 3, 4]\n",
      "[5, 6, 7, 8]\n",
      "[9, 10, 11, 12]\n"
     ]
    }
   ],
   "source": [
    "for row in lis:\n",
    "    print(row)\n",
    "# here row is a list"
   ]
  },
  {
   "cell_type": "code",
   "execution_count": 7,
   "id": "709f20fa",
   "metadata": {},
   "outputs": [
    {
     "name": "stdout",
     "output_type": "stream",
     "text": [
      "1 4 9 16 \n",
      "25 36 49 64 \n",
      "81 100 121 144 \n"
     ]
    }
   ],
   "source": [
    "# Print the squares of each element of the matrix\n",
    "for row in lis:\n",
    "    for element in row:\n",
    "        print(element**2, end=' ')\n",
    "    print()"
   ]
  },
  {
   "cell_type": "code",
   "execution_count": null,
   "id": "9172ced5",
   "metadata": {},
   "outputs": [
    {
     "name": "stdout",
     "output_type": "stream",
     "text": [
      "1 2 3 4\n",
      "5 6 7 8\n",
      "9 10 11 12\n"
     ]
    }
   ],
   "source": [
    "# Here also we can use the spread operator \n",
    "for row in lis:\n",
    "    print(*row)"
   ]
  },
  {
   "cell_type": "markdown",
   "id": "91412a11",
   "metadata": {},
   "source": [
    "### Taking input to a 2-Dimensional List"
   ]
  },
  {
   "cell_type": "code",
   "execution_count": 10,
   "id": "8d1e2fb4",
   "metadata": {},
   "outputs": [
    {
     "name": "stdout",
     "output_type": "stream",
     "text": [
      "[[1, 2, 3], [3, 2, 1]]\n"
     ]
    }
   ],
   "source": [
    "## we need to know the number of number of rows and col's beforehand\n",
    "r, c = map(int, input(\"Enter rows and columns: \").split())  # reading rows and col's\n",
    "\n",
    "a = []\n",
    "\n",
    "# we can take the input row by row\n",
    "for i in range(r):\n",
    "    row = list(map(int, input().split()))\n",
    "    a.append(row)\n",
    "\n",
    "print(a)"
   ]
  },
  {
   "cell_type": "markdown",
   "id": "5cf5a28d",
   "metadata": {},
   "source": [
    "### Adding two matrices"
   ]
  },
  {
   "cell_type": "code",
   "execution_count": 9,
   "id": "d8271bca",
   "metadata": {},
   "outputs": [],
   "source": [
    "def getMatrixInput() -> list[list[int]]:\n",
    "\n",
    "    print('Enter dimensions of matrix (rows and columns): ')\n",
    "    r, c = map(int, input().split())\n",
    "\n",
    "    matrix = [[0 for _ in range(c)] for _ in range(r)]\n",
    "\n",
    "    for i in range(r):\n",
    "        row = list(map(int, input(f\"Enter elements for row {i+1}: \").split()))[:c]\n",
    "        matrix[i] = row\n",
    "    \n",
    "    print(\"Completed\")\n",
    "\n",
    "    return matrix\n",
    "\n",
    "\n",
    "def addMatrices(m1: list[list[int]], m2: list[list[int]]) -> list[list[int]]:\n",
    "\n",
    "    r1, c1 = len(m1), len(m1[0])\n",
    "    r2, c2 = len(m2), len(m2[0])\n",
    "\n",
    "    if r1 == r2 and c1 == c2:\n",
    "        return [[m1[i][j] + m2[i][j] for j in range(c1)] for i in range(r1)]\n",
    "    \n",
    "    print(\"Matrix addition is not compatible\")\n",
    "    return []\n",
    "  "
   ]
  },
  {
   "cell_type": "code",
   "execution_count": 10,
   "id": "c9c49721",
   "metadata": {},
   "outputs": [
    {
     "name": "stdout",
     "output_type": "stream",
     "text": [
      "Enter dimensions of matrix (rows and columns): \n",
      "Completed\n",
      "Enter dimensions of matrix (rows and columns): \n",
      "Completed\n"
     ]
    },
    {
     "data": {
      "text/plain": [
       "[[2, 4]]"
      ]
     },
     "execution_count": 10,
     "metadata": {},
     "output_type": "execute_result"
    }
   ],
   "source": [
    "m1 = getMatrixInput()\n",
    "m2 = getMatrixInput()\n",
    "addMatrices(m1, m2)"
   ]
  },
  {
   "cell_type": "markdown",
   "id": "03816957",
   "metadata": {},
   "source": [
    "### Multiplying two matrices"
   ]
  },
  {
   "cell_type": "code",
   "execution_count": 13,
   "id": "f33b45b9",
   "metadata": {},
   "outputs": [],
   "source": [
    "\n",
    "\n",
    "def matMul(m1: list[list[int]], m2: list[list[int]]):\n",
    "    # check whether multiplication is possible\n",
    "    r1, c1 = len(m1), len(m1[0])\n",
    "    r2, c2 = len(m2), len(m2[0])\n",
    "\n",
    "    if c1 == r2:\n",
    "        return [[sum(m1[i][k] * m2[k][j] for k in range(r2)) for j in range(c2)] for i in range(r1)]\n",
    "    else:\n",
    "        return []"
   ]
  },
  {
   "cell_type": "code",
   "execution_count": 14,
   "id": "47810852",
   "metadata": {},
   "outputs": [
    {
     "name": "stdout",
     "output_type": "stream",
     "text": [
      "Enter dimensions of matrix (rows and columns): \n",
      "Completed\n",
      "Enter dimensions of matrix (rows and columns): \n",
      "Completed\n"
     ]
    },
    {
     "data": {
      "text/plain": [
       "[[28, 34], [64, 79]]"
      ]
     },
     "execution_count": 14,
     "metadata": {},
     "output_type": "execute_result"
    }
   ],
   "source": [
    "m1 = getMatrixInput()\n",
    "m2 = getMatrixInput()\n",
    "\n",
    "matMul(m1, m2)"
   ]
  },
  {
   "cell_type": "markdown",
   "id": "d0a32ecc",
   "metadata": {},
   "source": [
    "### Subtracting two matrices"
   ]
  },
  {
   "cell_type": "code",
   "execution_count": 3,
   "id": "ffc8ce53",
   "metadata": {},
   "outputs": [
    {
     "name": "stdout",
     "output_type": "stream",
     "text": [
      "Enter the first matrix: \n",
      "Enter the second matrix: \n",
      "\n",
      "Matrix1:  [[1, 2, 3], [3, 2, 1]]\n",
      "\n",
      "Matrix2:  [[1, 2, 3], [3, 2, 1]]\n",
      "\n",
      "Difference matrix:  [[0, 0, 0], [0, 0, 0]]\n"
     ]
    }
   ],
   "source": [
    "# Taking input for matrix1\n",
    "print(\"Enter the first matrix: \")\n",
    "\n",
    "r1, c1 = map(int, input().split())\n",
    "\n",
    "a = []\n",
    "\n",
    "for i in range(r1):\n",
    "    row = list(map(int, input(\"Enter the elements: \").split()))[:c1]  \n",
    "    a.append(row)\n",
    "\n",
    "print(\"Enter the second matrix: \")\n",
    "\n",
    "r2, c2 = map(int, input().split())\n",
    "\n",
    "b = []\n",
    "\n",
    "for i in range(r2):\n",
    "    row = list(map(int, input(\"Enter the elements: \").split()))[:c1]\n",
    "    b.append(row)\n",
    "\n",
    "print(\"\\nMatrix1: \", a)\n",
    "print(\"\\nMatrix2: \", b)\n",
    "\n",
    "\n",
    "if r1 == r2 and c1 == c2:\n",
    "    for i in range(r1):\n",
    "        for j in range(c1):\n",
    "            a[i][j] -= b[i][j]\n",
    "\n",
    "print(\"\\nDifference matrix: \", a)"
   ]
  }
 ],
 "metadata": {
  "kernelspec": {
   "display_name": "Python 3.10.5 64-bit",
   "language": "python",
   "name": "python3"
  },
  "language_info": {
   "codemirror_mode": {
    "name": "ipython",
    "version": 3
   },
   "file_extension": ".py",
   "mimetype": "text/x-python",
   "name": "python",
   "nbconvert_exporter": "python",
   "pygments_lexer": "ipython3",
   "version": "3.11.4"
  },
  "vscode": {
   "interpreter": {
    "hash": "f4c85645bce20c702a4ecae1b93c6759c482279d1c3b7e99a0246a20b7629f3f"
   }
  }
 },
 "nbformat": 4,
 "nbformat_minor": 5
}
