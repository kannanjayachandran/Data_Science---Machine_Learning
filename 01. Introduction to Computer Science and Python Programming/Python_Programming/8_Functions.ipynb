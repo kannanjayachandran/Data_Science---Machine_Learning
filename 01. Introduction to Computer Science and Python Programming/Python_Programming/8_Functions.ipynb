{
 "cells": [
  {
   "attachments": {},
   "cell_type": "markdown",
   "metadata": {},
   "source": [
    "<h1 style='color: #FEC260'> Function </h1>"
   ]
  },
  {
   "cell_type": "code",
   "execution_count": 1,
   "metadata": {},
   "outputs": [
    {
     "name": "stdout",
     "output_type": "stream",
     "text": [
      "Hello World\n",
      "Hello 1\n",
      "<class 'function'>\n"
     ]
    }
   ],
   "source": [
    "def greet(name):\n",
    "    print(\"Hello\", name)\n",
    "    \n",
    "greet(\"World\")\n",
    "greet(1)\n",
    "\n",
    "print(type(greet))"
   ]
  },
  {
   "cell_type": "code",
   "execution_count": 1,
   "metadata": {},
   "outputs": [
    {
     "name": "stdout",
     "output_type": "stream",
     "text": [
      "20 people had gone to Paris on a Rocket\n"
     ]
    }
   ],
   "source": [
    "def tour(place, people_count, vehicle):\n",
    "    print(f\"{people_count} people had gone to {place} on a {vehicle}\")\n",
    "\n",
    "tour(\"Paris\", 20, \"Rocket\")"
   ]
  },
  {
   "cell_type": "code",
   "execution_count": 2,
   "metadata": {},
   "outputs": [
    {
     "name": "stdout",
     "output_type": "stream",
     "text": [
      "x and computer are playing chess\n",
      "x and y are playing chess\n",
      "Computer and computer are playing chess\n"
     ]
    }
   ],
   "source": [
    "# we can give give optional arguments\n",
    "def chess(player1='Computer', player2='computer'):\n",
    "    print(f\"{player1} and {player2} are playing chess\")\n",
    "    \n",
    "chess(\"x\")\n",
    "chess(\"x\", \"y\")\n",
    "chess()"
   ]
  },
  {
   "cell_type": "code",
   "execution_count": 3,
   "metadata": {},
   "outputs": [
    {
     "name": "stdout",
     "output_type": "stream",
     "text": [
      "('It is a BMW of 1998', 24) <class 'tuple'>\n"
     ]
    }
   ],
   "source": [
    "# multiple return values\n",
    "def car(model, year):\n",
    "    return f'It is a {model} of {year}', 2022 - year\n",
    "\n",
    "\n",
    "a = car(\"BMW\", 1998)\n",
    "print(a, type(a))"
   ]
  },
  {
   "cell_type": "code",
   "execution_count": 4,
   "metadata": {},
   "outputs": [
    {
     "name": "stdout",
     "output_type": "stream",
     "text": [
      "3 people had gone to London on a car\n"
     ]
    }
   ],
   "source": [
    "# we can call arguments as keyword pairs\n",
    "tour(vehicle='car', place='London', people_count=3)"
   ]
  },
  {
   "cell_type": "code",
   "execution_count": 5,
   "metadata": {},
   "outputs": [
    {
     "name": "stdout",
     "output_type": "stream",
     "text": [
      "Normal func: 25\n",
      "Lambda square func: 25\n"
     ]
    }
   ],
   "source": [
    "# Square of a number\n",
    "def square (num):\n",
    "    return num ** 2\n",
    "\n",
    "print(f\"Normal func: {square(5)}\")\n",
    "\n",
    "# Square of a number using Lambda\n",
    "square2 = lambda num: num ** 2\n",
    "\n",
    "print(f\"Lambda square func: {square2(5)}\")"
   ]
  },
  {
   "attachments": {},
   "cell_type": "markdown",
   "metadata": {},
   "source": [
    "<h3 style='color: #FEC260'> Args </h3>"
   ]
  },
  {
   "cell_type": "code",
   "execution_count": 10,
   "metadata": {},
   "outputs": [
    {
     "name": "stdout",
     "output_type": "stream",
     "text": [
      "First argument: 10\n",
      "Second argument: 20\n",
      "\n",
      "Args: ('Hello', 1, 2, 3, 4, ' world') - Type of args: <class 'tuple'>\n",
      "\n"
     ]
    }
   ],
   "source": [
    "def foo(a, b, *args):\n",
    "    print(f\"First argument: {a}\\nSecond argument: {b}\\n\")\n",
    "    print(f\"Args: {args} - Type of args: {type(args)}\\n\")\n",
    "\n",
    "\n",
    "foo(10, 20, \"Hello\", 1, 2, 3 ,4, \" world\")"
   ]
  },
  {
   "cell_type": "code",
   "execution_count": 11,
   "metadata": {},
   "outputs": [
    {
     "data": {
      "text/plain": [
       "6000"
      ]
     },
     "execution_count": 11,
     "metadata": {},
     "output_type": "execute_result"
    }
   ],
   "source": [
    "# product of all inputs\n",
    "def foo1(*args):\n",
    "    prod = 1\n",
    "    for i in args:\n",
    "        prod *= i\n",
    "    return prod\n",
    "\n",
    "\n",
    "foo1(1, 10, 3, 2, 10, 2, 5)"
   ]
  },
  {
   "attachments": {},
   "cell_type": "markdown",
   "metadata": {},
   "source": [
    "<h3 style='color: #FEC260'> Kwargs or Key word arguments </h3>"
   ]
  },
  {
   "cell_type": "code",
   "execution_count": 16,
   "metadata": {},
   "outputs": [
    {
     "name": "stdout",
     "output_type": "stream",
     "text": [
      "Hi John, Your age is 15 and your profession is DJ\n",
      "\n",
      "Your Other details: {'country': 'Russia', 'Nationality': 'Poland', 'Salary': '200k'}\n"
     ]
    }
   ],
   "source": [
    "def collect_info(name, age, profession, **kwargs):\n",
    "    print(f\"Hi {name}, Your age is {age} and your profession is {profession}\\n\")\n",
    "    print(f\"Your Other details: {kwargs}\")\n",
    "    \n",
    "\n",
    "collect_info('John', 15, \"DJ\", country='Russia', Nationality='Poland', Salary='200k')"
   ]
  },
  {
   "cell_type": "code",
   "execution_count": 18,
   "metadata": {},
   "outputs": [
    {
     "name": "stdout",
     "output_type": "stream",
     "text": [
      "Houses are:  gryffindor, Ravenclaw, Hufflepuff, Slytherin\n",
      "\n",
      "Args: ('Severus Snape', 'Horace slughorn', 'Remus Lupin')\n",
      "\n",
      "Kwargs: {'headmaster': 'Alpus dumbledoor', 'deputy_headmistress': 'Minerva McGonagall'}\n"
     ]
    }
   ],
   "source": [
    "# using args and kwargs together\n",
    "def hogwarts(house1, house2, house3, house4, *args, **kwargs):\n",
    "    print(f\"Houses are:  {house1}, {house2}, {house3}, {house4}\\n\")\n",
    "    print(f\"Args: {args}\\n\")\n",
    "    print(f\"Kwargs: {kwargs}\")\n",
    "\n",
    "hogwarts('gryffindor', 'Ravenclaw', 'Hufflepuff', \n",
    "         'Slytherin', 'Severus Snape', 'Horace slughorn', \n",
    "         'Remus Lupin', headmaster='Alpus dumbledoor', \n",
    "         deputy_headmistress='Minerva McGonagall')"
   ]
  },
  {
   "cell_type": "markdown",
   "metadata": {},
   "source": [
    "<h3 style='color: #FEC260' > Zip Function </h3>"
   ]
  },
  {
   "cell_type": "code",
   "execution_count": 1,
   "metadata": {},
   "outputs": [
    {
     "name": "stdout",
     "output_type": "stream",
     "text": [
      "[(1, 'a'), (2, 'b'), (3, 'c'), (4, 'd'), (5, 'e')] <class 'list'>\n",
      "<class 'tuple'>\n",
      "<zip object at 0x0000019A2EF276C0>\n"
     ]
    }
   ],
   "source": [
    "a = [1, 2, 3, 4, 5]\n",
    "b = ['a', 'b', 'c', 'd', 'e']\n",
    "\n",
    "c = list(zip(a, b))\n",
    "print(c, type(c))\n",
    "print(type(c[0]))\n",
    "\n",
    "d = zip(c, a)\n",
    "print(d)"
   ]
  },
  {
   "cell_type": "code",
   "execution_count": 2,
   "metadata": {},
   "outputs": [
    {
     "name": "stdout",
     "output_type": "stream",
     "text": [
      "(1, 2, 3, 4, 5) \n",
      " ('a', 'b', 'c', 'd', 'e')\n"
     ]
    }
   ],
   "source": [
    "i, j = zip(*c)\n",
    "print(i, '\\n', j)"
   ]
  },
  {
   "cell_type": "code",
   "execution_count": 20,
   "metadata": {},
   "outputs": [
    {
     "name": "stdout",
     "output_type": "stream",
     "text": [
      "Tuples i & j are: \n",
      "('fourarms', 'heatblast', 'diamondhead', 'greymatter')\n",
      "('tetramand', 'pyronite', 'petrosapien', 'galvan')\n"
     ]
    }
   ],
   "source": [
    "omnitrix = {\n",
    "    'fourarms': 'tetramand',\n",
    "    'heatblast': 'pyronite', \n",
    "    'diamondhead': 'petrosapien', \n",
    "    'greymatter': 'galvan'\n",
    "}\n",
    "\n",
    "i, j = zip(*omnitrix.items())\n",
    "\n",
    "print(f\"Tuples i & j are: \\n{i}\\n{j}\")\n"
   ]
  }
 ],
 "metadata": {
  "kernelspec": {
   "display_name": "Python 3.10.5 64-bit",
   "language": "python",
   "name": "python3"
  },
  "language_info": {
   "codemirror_mode": {
    "name": "ipython",
    "version": 3
   },
   "file_extension": ".py",
   "mimetype": "text/x-python",
   "name": "python",
   "nbconvert_exporter": "python",
   "pygments_lexer": "ipython3",
   "version": "3.11.4"
  },
  "orig_nbformat": 4,
  "vscode": {
   "interpreter": {
    "hash": "f4c85645bce20c702a4ecae1b93c6759c482279d1c3b7e99a0246a20b7629f3f"
   }
  }
 },
 "nbformat": 4,
 "nbformat_minor": 2
}
