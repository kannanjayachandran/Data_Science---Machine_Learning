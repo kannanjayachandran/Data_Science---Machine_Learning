{
  "cells": [
    {
      "attachments": {},
      "cell_type": "markdown",
      "metadata": {},
      "source": [
        "## Functional Programming\n",
        "\n",
        "**Core Ideas of Functional Programming**\n",
        "\n",
        "_Functional programming is a programming paradigm that emphasizes the use of pure functions, immutable data, and declarative programming. The core ideas of functional programming are:_\n",
        "\n",
        "- Pure functions (First class functions)\n",
        "- Immutability (Data should not be modified once created)\n",
        "- Declarative Programming (Using expressions and declarations instead of statements and control flow)\n",
        "- The program logic is described as a series of functions that transform the data\n",
        "- Lazy evaluation \n",
        "- Recursion"
      ]
    },
    {
      "attachments": {},
      "cell_type": "markdown",
      "metadata": {},
      "source": [
        "### map(), filter(), reduce()"
      ]
    },
    {
      "cell_type": "code",
      "execution_count": 9,
      "metadata": {
        "trusted": true
      },
      "outputs": [
        {
          "name": "stdout",
          "output_type": "stream",
          "text": [
            "[1, 2, 3, 4, 5]\n",
            "\n",
            "[2, 4, 6, 8, 10]\n"
          ]
        }
      ],
      "source": [
        "## Imperative style (showing how it is done)\n",
        "list1 = [1, 2, 3, 4, 5]\n",
        "\n",
        "list2 = []\n",
        "for element in list1:\n",
        "    list2.append(element*2)\n",
        "print(list1, list2, sep='\\n\\n')"
      ]
    },
    {
      "cell_type": "code",
      "execution_count": 5,
      "metadata": {
        "trusted": true
      },
      "outputs": [
        {
          "name": "stdout",
          "output_type": "stream",
          "text": [
            "[1, 2, 3, 4, 5]\n",
            "\n",
            "[2, 4, 6, 8, 10]\n"
          ]
        }
      ],
      "source": [
        "# functional way of doing the same thing\n",
        "list3 = list(map(lambda x: x*2, list1))\n",
        "\n",
        "print(list1, list3, sep='\\n\\n')"
      ]
    },
    {
      "cell_type": "code",
      "execution_count": 10,
      "metadata": {
        "trusted": true
      },
      "outputs": [
        {
          "name": "stdout",
          "output_type": "stream",
          "text": [
            "[0, 1, 2, 3, 4, 5, 6, 7, 8, 9, 10, 11, 12, 13, 14, 15, 16, 17, 18, 19]\n",
            "\n",
            "[0, 2, 4, 6, 8, 10, 12, 14, 16, 18]\n"
          ]
        }
      ],
      "source": [
        "nums = [x for x in range(20)]\n",
        "\n",
        "even = list(filter(lambda x: x % 2 == 0, nums))\n",
        "print(nums, even, sep='\\n\\n')"
      ]
    },
    {
      "cell_type": "code",
      "execution_count": 16,
      "metadata": {
        "trusted": true
      },
      "outputs": [
        {
          "name": "stdout",
          "output_type": "stream",
          "text": [
            "List is: [0, 1, 2, 3, 4, 5, 6, 7, 8, 9, 10] and sum of elements is 55\n"
          ]
        }
      ],
      "source": [
        "import functools\n",
        "\n",
        "lis4 = [x for x in range(11)]\n",
        "\n",
        "total = functools.reduce(lambda x,y: x+y, lis4)\n",
        "print(f'List is: {lis4} and sum of elements is {total}')"
      ]
    },
    {
      "attachments": {},
      "cell_type": "markdown",
      "metadata": {},
      "source": [
        "### Note\n",
        "\n",
        "Functional programming makes it extremely easy to work with incremental data (data flowing in real time)"
      ]
    },
    {
      "attachments": {},
      "cell_type": "markdown",
      "metadata": {},
      "source": [
        "**A sample problem**\n",
        "\n",
        "> You need to calculate the total required cloth for making T-Shirt. A list with 10 values would be given. Do the following operation on the data.\n",
        "\n",
        "- Preprocess the data (Remove all invalid values)\n",
        "- Convert the data into CM (Given in inches)\n",
        "- Find the total\n",
        "\n",
        "> Be sure to use Functional programming paradigm\n",
        "\n",
        "> data : cloth_lis = [3, 4, -2, 5, 1, 2.4, 5, -9, 3, -5]"
      ]
    },
    {
      "cell_type": "code",
      "execution_count": 23,
      "metadata": {
        "trusted": true
      },
      "outputs": [
        {
          "name": "stdout",
          "output_type": "stream",
          "text": [
            "Total length of cloth requried is : 59.436 cms\n"
          ]
        }
      ],
      "source": [
        "import functools\n",
        "\n",
        "cloth_lis = [3, 4, -2, 5, 1, 2.4, 5, -9, 3, -5]\n",
        "\n",
        "# removing negative values\n",
        "preprocessing = filter(lambda x: x>0, cloth_lis)\n",
        "\n",
        "# converting into inches\n",
        "centimeters = map(lambda x: x*2.54, preprocessing)\n",
        "\n",
        "# total length of cloth required\n",
        "total = functools.reduce(lambda x, y: x+y, centimeters)\n",
        "\n",
        "print(f\"Total length of cloth requried is : {total} cms\")\n",
        "\n"
      ]
    },
    {
      "cell_type": "code",
      "execution_count": null,
      "metadata": {},
      "outputs": [],
      "source": []
    }
  ],
  "metadata": {
    "kernelspec": {
      "display_name": "Python (Pyodide)",
      "language": "python",
      "name": "python"
    },
    "language_info": {
      "codemirror_mode": {
        "name": "python",
        "version": 3
      },
      "file_extension": ".py",
      "mimetype": "text/x-python",
      "name": "python",
      "nbconvert_exporter": "python",
      "pygments_lexer": "ipython3",
      "version": "3.8"
    }
  },
  "nbformat": 4,
  "nbformat_minor": 4
}
