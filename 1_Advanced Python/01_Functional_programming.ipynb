{
  "metadata": {
    "language_info": {
      "codemirror_mode": {
        "name": "python",
        "version": 3
      },
      "file_extension": ".py",
      "mimetype": "text/x-python",
      "name": "python",
      "nbconvert_exporter": "python",
      "pygments_lexer": "ipython3",
      "version": "3.8"
    },
    "kernelspec": {
      "name": "python",
      "display_name": "Python (Pyodide)",
      "language": "python"
    }
  },
  "nbformat_minor": 4,
  "nbformat": 4,
  "cells": [
    {
      "cell_type": "markdown",
      "source": "## Functional Programming\n\n**Core Ideas of Functional Programming**\n\n_Functional programming is a programming paradigm that emphasizes the use of pure functions, immutable data, and declarative programming. The core ideas of functional programming are:_\n\n- Pure functions (First class functions)\n- Immutability (Data should not be modified once created)\n- Declarative Programming (Using expressions and declarations instead of statements and control flow)\n  - _The program logic is described as a series of functions that transform the data_\n- Lazy evaluation \n- Recursion",
      "metadata": {}
    },
    {
      "cell_type": "markdown",
      "source": "### map(), filter(), reduce()",
      "metadata": {}
    },
    {
      "cell_type": "code",
      "source": "## Imperative style (showing how it is done)\nlist1 = [1, 2, 3, 4, 5]\n\nlist2 = []\nfor element in list1:\n    list2.append(element*2)\nprint(list1, list2, sep='\\n\\n')",
      "metadata": {
        "trusted": true
      },
      "execution_count": 9,
      "outputs": [
        {
          "name": "stdout",
          "text": "[1, 2, 3, 4, 5]\n\n[2, 4, 6, 8, 10]\n",
          "output_type": "stream"
        }
      ]
    },
    {
      "cell_type": "code",
      "source": "# functional way of doing the same thing\nlist3 = list(map(lambda x: x*2, list1))\n\nprint(list1, list3, sep='\\n\\n')",
      "metadata": {
        "trusted": true
      },
      "execution_count": 5,
      "outputs": [
        {
          "name": "stdout",
          "text": "[1, 2, 3, 4, 5]\n\n[2, 4, 6, 8, 10]\n",
          "output_type": "stream"
        }
      ]
    },
    {
      "cell_type": "code",
      "source": "nums = [x for x in range(20)]\n\neven = list(filter(lambda x: x % 2 == 0, nums))\nprint(nums, even, sep='\\n\\n')",
      "metadata": {
        "trusted": true
      },
      "execution_count": 10,
      "outputs": [
        {
          "name": "stdout",
          "text": "[0, 1, 2, 3, 4, 5, 6, 7, 8, 9, 10, 11, 12, 13, 14, 15, 16, 17, 18, 19]\n\n[0, 2, 4, 6, 8, 10, 12, 14, 16, 18]\n",
          "output_type": "stream"
        }
      ]
    },
    {
      "cell_type": "code",
      "source": "import functools\n\nlis4 = [x for x in range(11)]\n\ntotal = functools.reduce(lambda x,y: x+y, lis4)\nprint(f'List is: {lis4} and sum of elements is {total}')",
      "metadata": {
        "trusted": true
      },
      "execution_count": 16,
      "outputs": [
        {
          "name": "stdout",
          "text": "List is: [0, 1, 2, 3, 4, 5, 6, 7, 8, 9, 10] and sum of elements is 55\n",
          "output_type": "stream"
        }
      ]
    },
    {
      "cell_type": "markdown",
      "source": "### Note\n\nFunctional programming makes it extremely easy to work with incremental data (data flowing in real time)",
      "metadata": {}
    },
    {
      "cell_type": "markdown",
      "source": "**A sample problem**\n\n> You need to calculate the total required cloth for making T-Shirt. A list with 10 values would be given. Do the following operation on the data.\n\n- Preprocess the data (Remove all invalid values)\n- Convert the data into CM (Given in inches)\n- Find the total\n\n> Be sure to use Functional programming paradigm\n\n> data : cloth_lis = [3, 4, -2, 5, 1, 2.4, 5, -9, 3, -5]",
      "metadata": {}
    },
    {
      "cell_type": "code",
      "source": "import functools\n\ncloth_lis = [3, 4, -2, 5, 1, 2.4, 5, -9, 3, -5]\n\n# removing negative values\npreprocessing = filter(lambda x: x>0, cloth_lis)\n\n# converting into inches\ncentimeters = map(lambda x: x*2.54, preprocessing)\n\n# total length of cloth required\ntotal = functools.reduce(lambda x, y: x+y, centimeters)\n\nprint(f\"Total length of cloth requried is : {total} cms\")\n\n",
      "metadata": {
        "trusted": true
      },
      "execution_count": 23,
      "outputs": [
        {
          "name": "stdout",
          "text": "Total length of cloth requried is : 59.436 cms\n",
          "output_type": "stream"
        }
      ]
    },
    {
      "cell_type": "code",
      "source": "",
      "metadata": {},
      "execution_count": null,
      "outputs": []
    }
  ]
}