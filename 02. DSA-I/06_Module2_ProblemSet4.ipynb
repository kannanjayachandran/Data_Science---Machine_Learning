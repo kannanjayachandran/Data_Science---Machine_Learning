{
 "cells": [
  {
   "attachments": {},
   "cell_type": "markdown",
   "metadata": {},
   "source": [
    "## <span style=\"color:#FEC260\">Array ~ Problems 4 : Matrices </span>"
   ]
  },
  {
   "attachments": {},
   "cell_type": "markdown",
   "metadata": {},
   "source": [
    "- Rank of a matrix : **Row X Col**\n",
    "- Indexing starts from 0\n",
    "- **Identity Matrix** : A square matrix with 1s on the diagonal and 0s elsewhere\n",
    "- **Diagonal Matrix** : A square matrix with 0s everywhere except the diagonal\n",
    "\n",
    "```json\n",
    "     \n",
    "       (0, 0)       (0, m-1)\n",
    "M  =   TL -------- TR \n",
    "        |           |\n",
    "        |           | \n",
    "        |           |\n",
    "        |           |\n",
    "        |           |\n",
    "        BL -------- BR\n",
    "        (n-1, 0)     (n-1, m-1)\n",
    "\n",
    "```"
   ]
  },
  {
   "cell_type": "code",
   "execution_count": 1,
   "metadata": {},
   "outputs": [],
   "source": [
    "matrix = [\n",
    "    [0, 1, -6, 8, 3, 2, 5],\n",
    "    [10, 10, 9, 7, 0, 1, 3],\n",
    "    [1, 6, 8, 2, 4, 9, 7],\n",
    "    [3, -1, 7, 7, 8, 9, 0]\n",
    "]"
   ]
  },
  {
   "attachments": {},
   "cell_type": "markdown",
   "metadata": {},
   "source": [
    "- Traversing a matrix Row-wise"
   ]
  },
  {
   "cell_type": "code",
   "execution_count": 2,
   "metadata": {},
   "outputs": [
    {
     "name": "stdout",
     "output_type": "stream",
     "text": [
      "0 1 -6 8 3 2 5 \n",
      "10 10 9 7 0 1 3 \n",
      "1 6 8 2 4 9 7 \n",
      "3 -1 7 7 8 9 0 \n",
      "\n",
      "0 | 1 | -6 | 8 | 3 | 2 | 5 | \n",
      "10 | 10 | 9 | 7 | 0 | 1 | 3 | \n",
      "1 | 6 | 8 | 2 | 4 | 9 | 7 | \n",
      "3 | -1 | 7 | 7 | 8 | 9 | 0 | \n"
     ]
    }
   ],
   "source": [
    "n_rows = len(matrix)\n",
    "m_cols = len(matrix[0])\n",
    "\n",
    "for rows in range(n_rows):\n",
    "    for cols in range(m_cols):\n",
    "        print(matrix[rows][cols], end=\" \")\n",
    "    print()\n",
    "  \n",
    "print()\n",
    "\n",
    "# same thing using `in` \n",
    "for row in matrix:\n",
    "    for element in row:\n",
    "        print(element, end=\" | \")\n",
    "    print()"
   ]
  },
  {
   "attachments": {},
   "cell_type": "markdown",
   "metadata": {},
   "source": [
    "- Traversing column-wise"
   ]
  },
  {
   "cell_type": "code",
   "execution_count": 3,
   "metadata": {},
   "outputs": [
    {
     "name": "stdout",
     "output_type": "stream",
     "text": [
      "0 | 10 | 1 | 3 | \n",
      "1 | 10 | 6 | -1 | \n",
      "-6 | 9 | 8 | 7 | \n",
      "8 | 7 | 2 | 7 | \n",
      "3 | 0 | 4 | 8 | \n",
      "2 | 1 | 9 | 9 | \n",
      "5 | 3 | 7 | 0 | \n"
     ]
    }
   ],
   "source": [
    "for col in range(m_cols):\n",
    "    for row in range(n_rows):\n",
    "        print(matrix[row][col], end=\" | \")\n",
    "    print()"
   ]
  },
  {
   "attachments": {},
   "cell_type": "markdown",
   "metadata": {},
   "source": [
    "### Print the sum of each row in a matrix"
   ]
  },
  {
   "cell_type": "code",
   "execution_count": 4,
   "metadata": {},
   "outputs": [
    {
     "name": "stdout",
     "output_type": "stream",
     "text": [
      "13\n",
      "40\n",
      "37\n",
      "33\n"
     ]
    }
   ],
   "source": [
    "for r in matrix:\n",
    "    total = 0\n",
    "    for element in r:\n",
    "        total += element\n",
    "    print(total)"
   ]
  },
  {
   "attachments": {},
   "cell_type": "markdown",
   "metadata": {},
   "source": [
    "### Print the sum of each col in a matrix"
   ]
  },
  {
   "cell_type": "code",
   "execution_count": 6,
   "metadata": {},
   "outputs": [
    {
     "name": "stdout",
     "output_type": "stream",
     "text": [
      "14\n",
      "16\n",
      "18\n",
      "24\n",
      "15\n",
      "21\n",
      "15\n"
     ]
    }
   ],
   "source": [
    "for col in range(m_cols):\n",
    "    total = 0\n",
    "    for r in range(n_rows):\n",
    "        total += matrix[r][col]\n",
    "    print(total)"
   ]
  },
  {
   "attachments": {},
   "cell_type": "markdown",
   "metadata": {},
   "source": [
    "### Given a square matrix print its diagonals"
   ]
  },
  {
   "cell_type": "code",
   "execution_count": 28,
   "metadata": {},
   "outputs": [
    {
     "name": "stdout",
     "output_type": "stream",
     "text": [
      "The matrix is:\n",
      "0 2 4 6 8 \n",
      "1 3 5 7 9 \n",
      "2 4 6 8 10 \n",
      "3 5 7 9 11 \n",
      "4 6 8 10 12 \n",
      "\n",
      "Primary Diagonal: \n",
      "0\n",
      " 3\n",
      "  6\n",
      "   9\n",
      "    12\n",
      "\n",
      "Secondary Diagonal: \n",
      "     8\n",
      "    7\n",
      "   6\n",
      "  5\n",
      " 4\n"
     ]
    }
   ],
   "source": [
    "sq_matrix = [[2*x+y for x in range(5)] for y in range(5)]\n",
    "\n",
    "rows_cols = len(sq_matrix)\n",
    "\n",
    "print('The matrix is:')\n",
    "for i in range(rows_cols):\n",
    "    for j in range(len(sq_matrix)):\n",
    "        print(sq_matrix[i][j], end=\" \")\n",
    "    print()\n",
    "print()\n",
    "\n",
    "# Primary diagonal\n",
    "print(\"Primary Diagonal: \")\n",
    "for i in range(rows_cols):\n",
    "    print(' ' * i, end='')\n",
    "    print(sq_matrix[i][i])\n",
    "\n",
    "print()\n",
    "    \n",
    "# secondary diagonal\n",
    "print(\"Secondary Diagonal: \")\n",
    "for i in range(rows_cols):\n",
    "    c = rows_cols-i-1\n",
    "    print(' ' * (rows_cols-i), end='')\n",
    "    print(sq_matrix[i][c])"
   ]
  },
  {
   "attachments": {},
   "cell_type": "markdown",
   "metadata": {},
   "source": [
    "### Sum of two matrices\n",
    "\n",
    "Given two matrices of same size, find the sum of the two matrices."
   ]
  },
  {
   "cell_type": "code",
   "execution_count": 13,
   "metadata": {},
   "outputs": [
    {
     "name": "stdout",
     "output_type": "stream",
     "text": [
      "[[10, 10, 10], [10, 10, 10], [10, 10, 10]]\n"
     ]
    }
   ],
   "source": [
    "mat1 = [\n",
    "    [1,2,4],\n",
    "    [4,5,6],\n",
    "    [7,8,9]\n",
    "    ]\n",
    "mat2 = [\n",
    "    [9, 8, 6], \n",
    "    [6, 5, 4], \n",
    "    [3, 2, 1]\n",
    "]\n",
    "\n",
    "mat_sum = mat1.copy()\n",
    "for r in range(len(mat1)):\n",
    "    for c in range(len(mat1[0])):\n",
    "        mat_sum[r][c] = mat1[r][c] + mat2[r][c]\n",
    "\n",
    "print(mat_sum)"
   ]
  },
  {
   "attachments": {},
   "cell_type": "markdown",
   "metadata": {},
   "source": [
    "### Product of two matrices\n",
    "\n",
    "The product of two matrices A and B is defined only if the number of columns in A is equal to the number of rows in B. If A is of order `m x n` and B is of order `n x p`, then the order of matrix C, where C = A * B will be `m x p`."
   ]
  },
  {
   "cell_type": "code",
   "execution_count": 5,
   "metadata": {},
   "outputs": [
    {
     "data": {
      "text/plain": [
       "[[33, 26, 18, 29], [84, 69, 50, 54], [138, 114, 83, 84], [192, 159, 116, 114]]"
      ]
     },
     "execution_count": 5,
     "metadata": {},
     "output_type": "execute_result"
    }
   ],
   "source": [
    "mat1 = [\n",
    "    [1, 2, 4],\n",
    "    [4, 5, 6],\n",
    "    [7, 8, 9],\n",
    "    [10, 11, 12, 13]\n",
    "    ]\n",
    "mat2 = [\n",
    "    [9, 8, 6, 1], \n",
    "    [6, 5, 4, 4], \n",
    "    [3, 2, 1, 5]\n",
    "]\n",
    "\n",
    "\n",
    "def matMul(m1: list[int], m2: list[int]) -> list[int]:\n",
    "\n",
    "    answer = [[0 for _ in range(len(mat1))] for _ in range(len(mat2[0]))]\n",
    "\n",
    "    # iterating the rows of matrix 1\n",
    "    for i in range(len(m1)):\n",
    "\n",
    "        # iterating the columns of matrix 2\n",
    "        for j in range(len(m2[0])):\n",
    "\n",
    "            # iterating over row of matrix 2\n",
    "            for k in range(len(m2)):\n",
    "                answer[i][j] += m1[i][k] * m2[k][j]\n",
    "    return answer\n",
    "\n",
    "\n",
    "matMul(mat1, mat2)\n"
   ]
  },
  {
   "attachments": {},
   "cell_type": "markdown",
   "metadata": {},
   "source": [
    "### Print the boundary elements of a matrix\n",
    "\n",
    "Given a matrix, print its boundary elements in clockwise direction.\n",
    "\n",
    "Boundary elements are those elements which are not surrounded by elements on all four directions, i.e. elements in\n",
    "\n",
    "- first row \n",
    "- first column \n",
    "- last row  \n",
    "- last column."
   ]
  },
  {
   "cell_type": "code",
   "execution_count": 30,
   "metadata": {},
   "outputs": [
    {
     "name": "stdout",
     "output_type": "stream",
     "text": [
      "1 5 9 13 17 21 25 \n",
      "29 30 31 \n",
      "32 28 24 20 16 12 8 \n",
      "4 3 2 "
     ]
    }
   ],
   "source": [
    "m1 = [\n",
    "    [1, 5, 9, 13, 17, 21, 25, 29],\n",
    "    [2, 6, 10, 14, 18, 22, 26, 30],\n",
    "    [3, 7, 11, 15, 19, 23, 27, 31],\n",
    "    [4, 8, 12, 16, 20, 24, 28, 32]\n",
    "]\n",
    "\n",
    "row = len(m1)\n",
    "col = len(m1[0])\n",
    "\n",
    "# Top row\n",
    "for c in range(col - 1):\n",
    "    print(m1[0][c], end=\" \")\n",
    "\n",
    "print()\n",
    "# right col\n",
    "for r in range(row-1):\n",
    "    print(m1[r][col-1], end=\" \")\n",
    "\n",
    "print()\n",
    "# bottom row\n",
    "for c in reversed(range(1, col)):\n",
    "    print(m1[row-1][c], end=\" \")\n",
    "\n",
    "print()\n",
    "# left col\n",
    "for r in reversed(range(1, row)):\n",
    "    print(m1[r][0], end=\" \")"
   ]
  },
  {
   "cell_type": "code",
   "execution_count": 1,
   "metadata": {},
   "outputs": [
    {
     "name": "stdout",
     "output_type": "stream",
     "text": [
      "1 5 9 13 17 21 25 29 30 31 32 28 24 20 16 12 8 4 3 2 "
     ]
    }
   ],
   "source": [
    "# another approach\n",
    "\n",
    "m1 = [\n",
    "    [1, 5, 9, 13, 17, 21, 25, 29],\n",
    "    [2, 6, 10, 14, 18, 22, 26, 30],\n",
    "    [3, 7, 11, 15, 19, 23, 27, 31],\n",
    "    [4, 8, 12, 16, 20, 24, 28, 32]\n",
    "]\n",
    "\n",
    "row = len(m1)\n",
    "col = len(m1[0])\n",
    "\n",
    "r, c = 0, 0\n",
    "direction = \"right\"\n",
    "\n",
    "while True:\n",
    "    print(m1[r][c], end=\" \")\n",
    "\n",
    "    if direction == \"right\":\n",
    "        if c < col-1:\n",
    "            c += 1\n",
    "        else:\n",
    "            direction = \"down\"\n",
    "            r += 1\n",
    "\n",
    "    elif direction == \"down\":\n",
    "        if r < row-1:\n",
    "            r += 1\n",
    "        else:\n",
    "            direction = \"left\"\n",
    "            c -= 1\n",
    "\n",
    "    elif direction == \"left\":\n",
    "        if c > 0:\n",
    "            c -= 1\n",
    "        else:\n",
    "            direction = \"up\"\n",
    "            r -= 1\n",
    "        \n",
    "    else:\n",
    "        if r > 1:\n",
    "            r -= 1\n",
    "        else:\n",
    "            break"
   ]
  },
  {
   "attachments": {},
   "cell_type": "markdown",
   "metadata": {},
   "source": [
    "### Traversing a matrix in spiral order\n",
    "\n",
    "Given a matrix, print its elements in spiral order.\n",
    "\n",
    "Time complexity : $O(m*n)$"
   ]
  },
  {
   "cell_type": "code",
   "execution_count": 15,
   "metadata": {},
   "outputs": [],
   "source": [
    "m1 = [\n",
    "    [1, 5, 9, 13, 17],\n",
    "    [21, 25, 29, 1, 2],\n",
    "    [2, 6, 10, 14, 18],\n",
    "    [ 22, 26, 30, 7, 8],\n",
    "    [3, 7, 11, 15, 19],\n",
    "    [23, 27, 31, 11, 32],\n",
    "    [4, 8, 12, 16, 20],\n",
    "    [24, 28, 32, 75, 23]\n",
    "]\n",
    "\n",
    "# m1 = [\n",
    "#     [1, 2, 3, 4, 5],\n",
    "#     [1, 2, 3, 4, 5],\n",
    "#     [1, 2, 3, 4, 5],\n",
    "#     [1, 2, 3, 4, 5],\n",
    "#     [1, 2, 3, 4, 5],\n",
    "\n",
    "# ]\n",
    "\n",
    "row = len(m1)\n",
    "col = len(m1[0])\n"
   ]
  },
  {
   "cell_type": "code",
   "execution_count": 38,
   "metadata": {},
   "outputs": [
    {
     "name": "stdout",
     "output_type": "stream",
     "text": [
      "1 5 9 13 17 2 18 8 19 32 20 23 75 32 28 24 4 23 3 22 2 21 25 29 1 14 7 15 11 16 12 8 27 7 26 6 10 30 11 31 "
     ]
    }
   ],
   "source": [
    "# answer\n",
    "\n",
    "r, c = 0, 0\n",
    "direction = \"right\"\n",
    "boundary = 0\n",
    "\n",
    "for _ in range(row * col):\n",
    "    print(m1[r][c], end=\" \")\n",
    "\n",
    "    if direction == \"right\":\n",
    "        if c == col-1-boundary:\n",
    "            direction = \"down\"\n",
    "            r += 1\n",
    "        else:\n",
    "            c += 1\n",
    "\n",
    "    elif direction == \"down\":\n",
    "        if r == row-1-boundary:\n",
    "            direction = \"left\"\n",
    "            c -= 1\n",
    "        else:\n",
    "            r += 1\n",
    "    elif direction == \"left\":\n",
    "        if c == 0+boundary:\n",
    "            direction = \"up\"\n",
    "            r -= 1\n",
    "        else:\n",
    "            c -= 1\n",
    "\n",
    "    else:\n",
    "        if r == 1 + boundary:\n",
    "            direction = \"right\"\n",
    "            boundary += 1\n",
    "            c += 1\n",
    "        else:\n",
    "            r -= 1"
   ]
  },
  {
   "attachments": {},
   "cell_type": "markdown",
   "metadata": {},
   "source": [
    "### Christmas Trees\n",
    "\n",
    "Given an array $A_N$ containing the heights of christmas trees, and another array $B_N$ containing the cost of each tree, Choose `3` christmas trees in ascending order of their heights while minimizing the cost. we can only choose the trees from left to right.\n",
    "\n",
    "- Time complexity : Brute force ($O(n^3)$)\n",
    "\n"
   ]
  },
  {
   "cell_type": "code",
   "execution_count": 13,
   "metadata": {},
   "outputs": [
    {
     "data": {
      "text/plain": [
       "6"
      ]
     },
     "execution_count": 13,
     "metadata": {},
     "output_type": "execute_result"
    }
   ],
   "source": [
    "# brute force \n",
    "\n",
    "A = [9, 7, 15, 3, 6, 1, 2, 8, 2, 11, 5, 13, 15, 6]  # heights\n",
    "B = [6, 4, 1, 5, 8, 5, 9, 11, 6, 3, 3, 2, 1, 4]     # cost \n",
    "n = len(A)\n",
    "min_cost = float('inf')\n",
    "\n",
    "for x in range(n):\n",
    "    for y in range(x, n):\n",
    "        for z in range(y, n):\n",
    "            if A[x] < A[y] < A[z]:\n",
    "                tree_cost = B[x] + B[y] + B[z]\n",
    "                if tree_cost < min_cost:\n",
    "                    min_cost = tree_cost\n",
    "\n",
    "min_cost"
   ]
  },
  {
   "cell_type": "code",
   "execution_count": 2,
   "metadata": {},
   "outputs": [
    {
     "name": "stdout",
     "output_type": "stream",
     "text": [
      "6\n"
     ]
    }
   ],
   "source": [
    "# Optimized approach  Time Complexity : O(n^2)\n",
    "# t1 -> first_tree\n",
    "# t2 -> middle_tree\n",
    "# t3 -> last_tree\n",
    "\n",
    "height = [9, 7, 15, 3, 6, 1, 2, 8, 2, 11, 5, 13, 15, 6]\n",
    "cost = [6, 4, 1, 5, 8, 5, 9, 11, 6, 3, 3, 2, 1, 4]\n",
    "\n",
    "\n",
    "min_cost = float('inf')\n",
    "n = len(height)\n",
    "\n",
    "for t2 in range(n):\n",
    "    t2_height = height[t2]\n",
    "    t2_cost = cost[t2]\n",
    "    t1_cost = float('inf')\n",
    "\n",
    "    for i in range(t2):\n",
    "        if height[i] < t2_height:\n",
    "            t1_cost = min(t1_cost, cost[i])\n",
    "\n",
    "    t3_cost = float('inf')\n",
    "    \n",
    "    for i in range(t2+1, n):\n",
    "        if height[i] > t2_height:\n",
    "            t3_cost = min(t3_cost, cost[i])\n",
    "\n",
    "    cost_3_trees = t1_cost + t2_cost + t3_cost\n",
    "    min_cost = min(min_cost, cost_3_trees)\n",
    "\n",
    "print(min_cost)\n"
   ]
  },
  {
   "attachments": {},
   "cell_type": "markdown",
   "metadata": {},
   "source": [
    "### Anti Diagonals\n",
    "\n",
    "Give a `N*N` square matrix, return an array of its anti-diagonals. "
   ]
  },
  {
   "cell_type": "code",
   "execution_count": 26,
   "metadata": {},
   "outputs": [
    {
     "name": "stdout",
     "output_type": "stream",
     "text": [
      "The matrix is: \n",
      "0 2 4 \n",
      "1 3 5 \n",
      "2 4 6 \n",
      "Anti diagonal elements : [[0], [2, 1], [4, 3, 2], [5, 4], [6]]\n"
     ]
    }
   ],
   "source": [
    "matrix = [[x*2+y for x in range(3)] for y in range(3)]\n",
    "\n",
    "def print_Matrix(matrix):\n",
    "    print(\"The matrix is: \")\n",
    "    for x in matrix:\n",
    "        for num in x:\n",
    "            print(num, end=\" \")\n",
    "        print()\n",
    "\n",
    "def find_anti_diagonal(matrix):\n",
    "    n = len(matrix)\n",
    "    antiDiagonals = [[] for _ in range(2*n-1)]\n",
    "\n",
    "    for i in range(n):\n",
    "        for j in range(n):\n",
    "            antiDiagonals[i+j].append(matrix[i][j])\n",
    "    \n",
    "    return antiDiagonals\n",
    "\n",
    "print_Matrix(matrix)\n",
    "print(\"Anti diagonal elements :\",  find_anti_diagonal(matrix))\n"
   ]
  },
  {
   "cell_type": "code",
   "execution_count": null,
   "metadata": {},
   "outputs": [],
   "source": []
  }
 ],
 "metadata": {
  "kernelspec": {
   "display_name": "base",
   "language": "python",
   "name": "python3"
  },
  "language_info": {
   "codemirror_mode": {
    "name": "ipython",
    "version": 3
   },
   "file_extension": ".py",
   "mimetype": "text/x-python",
   "name": "python",
   "nbconvert_exporter": "python",
   "pygments_lexer": "ipython3",
   "version": "3.9.16"
  },
  "orig_nbformat": 4
 },
 "nbformat": 4,
 "nbformat_minor": 2
}
