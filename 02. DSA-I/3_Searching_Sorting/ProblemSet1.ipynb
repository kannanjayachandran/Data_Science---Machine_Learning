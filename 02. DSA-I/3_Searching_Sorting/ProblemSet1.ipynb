{
 "cells": [
  {
   "cell_type": "markdown",
   "metadata": {},
   "source": [
    "# <span style=\"color:#FEC260\">Binary Search </span> Problem Set 1"
   ]
  },
  {
   "cell_type": "markdown",
   "metadata": {},
   "source": [
    "**Q1 Binary search Iterative implementation { Ascending order }**\n",
    "\n",
    "> There will be at least one element in the input array.\n",
    "\n",
    ">Return the index of the target element, if found, else return -1."
   ]
  },
  {
   "cell_type": "code",
   "execution_count": 4,
   "metadata": {},
   "outputs": [],
   "source": [
    "def binarySearch(nums: list[int], target: int) -> int:\n",
    "\n",
    "    start, end = 0, len(nums)-1\n",
    "\n",
    "    # check array order\n",
    "    if nums[start] > nums[end]: return -1\n",
    "\n",
    "    while start <= end: \n",
    "        mid = start + (end-start) // 2\n",
    "        if nums[mid] == target:\n",
    "            return mid\n",
    "        elif nums[mid] > target:\n",
    "            end = mid-1\n",
    "        else:\n",
    "            start = mid+1\n",
    "    return -1"
   ]
  },
  {
   "cell_type": "code",
   "execution_count": 7,
   "metadata": {},
   "outputs": [
    {
     "data": {
      "text/plain": [
       "7"
      ]
     },
     "execution_count": 7,
     "metadata": {},
     "output_type": "execute_result"
    }
   ],
   "source": [
    "binarySearch([-1, -4, 7, 9, 10, 20, 30, 60, 90], 60)"
   ]
  },
  {
   "cell_type": "code",
   "execution_count": 5,
   "metadata": {},
   "outputs": [],
   "source": [
    "def binarySearch2(nums: list[int], target: int, start: int, end: int) -> int:\n",
    "\n",
    "    # check array order\n",
    "    if nums[start] > nums[end]: return -1\n",
    "\n",
    "    while start <= end: \n",
    "        mid = start + (end-start) // 2\n",
    "        if nums[mid] == target:\n",
    "            return mid\n",
    "        elif nums[mid] > target:\n",
    "            end = mid-1\n",
    "        else:\n",
    "            start = mid+1\n",
    "    return -1"
   ]
  },
  {
   "cell_type": "code",
   "execution_count": 8,
   "metadata": {},
   "outputs": [
    {
     "data": {
      "text/plain": [
       "7"
      ]
     },
     "execution_count": 8,
     "metadata": {},
     "output_type": "execute_result"
    }
   ],
   "source": [
    "binarySearch2([-1, -4, 7, 9, 10, 20, 30, 60, 90], 60, 0, 8)"
   ]
  },
  {
   "cell_type": "markdown",
   "metadata": {},
   "source": [
    "**Q2 Binary search Recursive implementation { Ascending order }**"
   ]
  },
  {
   "cell_type": "code",
   "execution_count": 11,
   "metadata": {},
   "outputs": [],
   "source": [
    "def recursiveBS(arr: list[int], target: int, start: int, end: int) -> int: \n",
    "    while start <= end:\n",
    "        mid = start + (end-start) // 2\n",
    "\n",
    "        if arr[mid] == target:\n",
    "            return mid\n",
    "\n",
    "        if arr[mid] > target:\n",
    "            return bs(arr, target, start, mid-1)\n",
    "        else:\n",
    "           return bs(arr, target, mid+1, end)\n",
    "    return -1"
   ]
  },
  {
   "cell_type": "code",
   "execution_count": 12,
   "metadata": {},
   "outputs": [
    {
     "data": {
      "text/plain": [
       "5"
      ]
     },
     "execution_count": 12,
     "metadata": {},
     "output_type": "execute_result"
    }
   ],
   "source": [
    "arr = [1, 3, 4, 6, 7, 8, 10]\n",
    "recursiveBS(arr, 8, 0, len(arr)-1)"
   ]
  },
  {
   "cell_type": "markdown",
   "metadata": {},
   "source": [
    "**Q3 Binary search {Descending order}**"
   ]
  },
  {
   "cell_type": "code",
   "execution_count": 20,
   "metadata": {},
   "outputs": [],
   "source": [
    "def bsDescending(arr: list[int], target: int, start: int, end: int) -> int:\n",
    "    while start <= end:\n",
    "        mid = start + (end-start) // 2\n",
    "        if arr[mid] == target:\n",
    "            return mid\n",
    "        elif arr[mid] > target:\n",
    "            start = mid+1\n",
    "        else:\n",
    "            end = mid-1\n",
    "    return -1"
   ]
  },
  {
   "cell_type": "code",
   "execution_count": 21,
   "metadata": {},
   "outputs": [
    {
     "data": {
      "text/plain": [
       "1"
      ]
     },
     "execution_count": 21,
     "metadata": {},
     "output_type": "execute_result"
    }
   ],
   "source": [
    "arr = [11, 8, 5, 4, 3, 2, 1]\n",
    "bsDescending(arr, 8, 0, len(arr)-1)"
   ]
  },
  {
   "cell_type": "markdown",
   "metadata": {},
   "source": [
    "**Q4 Order agnostic binary search**"
   ]
  },
  {
   "cell_type": "code",
   "execution_count": 22,
   "metadata": {},
   "outputs": [],
   "source": [
    "def orderAgnosticBS(nums: list[int], target: int, start: int, end: int):\n",
    "    if nums[start] < nums[end]:\n",
    "        return recursiveBS(nums, target, start, end)\n",
    "    elif nums[start] > nums[end]:\n",
    "        return bsDescending(nums, target, start, end)\n",
    "    return -1"
   ]
  },
  {
   "cell_type": "code",
   "execution_count": 25,
   "metadata": {},
   "outputs": [
    {
     "name": "stdout",
     "output_type": "stream",
     "text": [
      "5\n",
      "8\n"
     ]
    }
   ],
   "source": [
    "arr = [1, 2, 3, 4, 5, 6, 5, 4, 3, 2, 1]\n",
    "print(orderAgnosticBS(arr, 6, 0, 5))\n",
    "print(orderAgnosticBS(arr, 3, 6, len(arr)-1))"
   ]
  },
  {
   "cell_type": "markdown",
   "metadata": {},
   "source": [
    "**Q5 Modified binary search to find the Lower bound**"
   ]
  },
  {
   "cell_type": "code",
   "execution_count": 26,
   "metadata": {},
   "outputs": [],
   "source": [
    "def lowerBound(nums: list[int], k: int) -> int:\n",
    "\n",
    "    n = len(nums)\n",
    "    start, end, ans = 0, n-1, -1\n",
    "\n",
    "    while start <= end:\n",
    "        mid = start + (end-start) // 2\n",
    "        if nums[mid] == k:\n",
    "            ans = mid\n",
    "            end = mid-1\n",
    "        elif nums[mid] > k:\n",
    "            end = mid-1\n",
    "        else:\n",
    "            start = mid+1\n",
    "    return ans"
   ]
  },
  {
   "cell_type": "code",
   "execution_count": 27,
   "metadata": {},
   "outputs": [
    {
     "data": {
      "text/plain": [
       "2"
      ]
     },
     "execution_count": 27,
     "metadata": {},
     "output_type": "execute_result"
    }
   ],
   "source": [
    "lowerBound([1, 1, 2, 2, 2, 2, 3, 4, 4, 5, 5, 6, 7], 2)"
   ]
  },
  {
   "cell_type": "markdown",
   "metadata": {},
   "source": [
    "**Q6 Modified binary search to find the Upper bound**"
   ]
  },
  {
   "cell_type": "code",
   "execution_count": 3,
   "metadata": {},
   "outputs": [],
   "source": [
    "def upperBound(nums: list[int], k: int) -> int:\n",
    "\n",
    "    n = len(nums)\n",
    "    start, end, ans = 0, n-1, -1\n",
    "\n",
    "    while start <= end:\n",
    "        mid = start + (end-start) // 2\n",
    "        if nums[mid] == k:\n",
    "            ans = mid\n",
    "            start = mid+1\n",
    "        elif nums[mid] > k:\n",
    "            end = mid-1\n",
    "        else:\n",
    "            start = mid+1\n",
    "    return ans"
   ]
  },
  {
   "cell_type": "code",
   "execution_count": 4,
   "metadata": {},
   "outputs": [
    {
     "data": {
      "text/plain": [
       "5"
      ]
     },
     "execution_count": 4,
     "metadata": {},
     "output_type": "execute_result"
    }
   ],
   "source": [
    "upperBound([1, 1, 2, 2, 2, 2, 3, 4, 4, 5, 5, 6, 7], 2)"
   ]
  },
  {
   "cell_type": "markdown",
   "metadata": {},
   "source": [
    "**Q7 Find the first and last occurrence of a number in a sorted array**"
   ]
  },
  {
   "cell_type": "code",
   "execution_count": 1,
   "metadata": {},
   "outputs": [],
   "source": [
    "def searchOccurrence(nums: list[int], k: int, isFirst: bool) -> int:\n",
    "\n",
    "    start, end, ans = 0, len(nums)-1, -1\n",
    "\n",
    "    while start <= end:\n",
    "        mid  = start + (end-start) // 2\n",
    "        if nums[mid] == k:\n",
    "            ans = mid\n",
    "            if isFirst: end = mid-1\n",
    "            else: start = mid+1\n",
    "        elif nums[mid] > k:\n",
    "            end = mid-1\n",
    "        else:\n",
    "            start = mid+1\n",
    "    return ans\n",
    "\n",
    "\n",
    "\n",
    "def solution(nums: list[int], k: int) -> list[int]:\n",
    "\n",
    "    ans = [-1, -1]\n",
    "    ans[0] = searchOccurrence(nums, k, True)\n",
    "    if ans[0] != - 1:\n",
    "        ans[1] = searchOccurrence(nums, k , False)\n",
    "    \n",
    "    return ans"
   ]
  },
  {
   "cell_type": "code",
   "execution_count": 32,
   "metadata": {},
   "outputs": [
    {
     "data": {
      "text/plain": [
       "[6, 9]"
      ]
     },
     "execution_count": 32,
     "metadata": {},
     "output_type": "execute_result"
    }
   ],
   "source": [
    "solution([1, 2, 3, 4, 5, 6, 7, 7, 7, 7, 8, 9], 7)"
   ]
  },
  {
   "cell_type": "markdown",
   "metadata": {},
   "source": [
    "**Q8 Find the first and last occurrence of a character in a sorted array**"
   ]
  },
  {
   "cell_type": "code",
   "execution_count": 33,
   "metadata": {},
   "outputs": [],
   "source": [
    "def searchOccurrence2(chars: list[str], k: str, isFirst: bool) -> int:\n",
    "\n",
    "    start, end, ans = 0, len(chars)-1, -1\n",
    "\n",
    "    while start <= end:\n",
    "        mid  = start + (end-start) // 2\n",
    "        if chars[mid] == k:\n",
    "            ans = mid\n",
    "            if isFirst: end = mid-1\n",
    "            else: start = mid+1\n",
    "        elif chars[mid] > k:\n",
    "            end = mid-1\n",
    "        else:\n",
    "            start = mid+1\n",
    "    return ans\n",
    "\n",
    "\n",
    "\n",
    "def solution2(chars: list[str], k: str) -> list[int]:\n",
    "\n",
    "    ans = ['', '']\n",
    "    ans[0] = searchOccurrence(chars, k, True)\n",
    "    if ans[0] != - 1:\n",
    "        ans[1] = searchOccurrence(chars, k , False)\n",
    "    \n",
    "    return ans"
   ]
  },
  {
   "cell_type": "code",
   "execution_count": 35,
   "metadata": {},
   "outputs": [
    {
     "data": {
      "text/plain": [
       "[2, 4]"
      ]
     },
     "execution_count": 35,
     "metadata": {},
     "output_type": "execute_result"
    }
   ],
   "source": [
    "solution2(['c','f','g', 'g', 'g', 'p', 'q', 'r', 'r'], 'g')"
   ]
  },
  {
   "cell_type": "markdown",
   "metadata": {},
   "source": [
    "**Q9 Find the number of times a number occurs in a sorted array**"
   ]
  },
  {
   "cell_type": "code",
   "execution_count": 2,
   "metadata": {},
   "outputs": [],
   "source": [
    "def countInSorted(nums: list[int], target: int) -> int:\n",
    "    firstOccurrence = searchOccurrence(nums, target, True)\n",
    "    if firstOccurrence != -1:\n",
    "        secondOccurrence = searchOccurrence(nums, target, False)\n",
    "        return (secondOccurrence - firstOccurrence) + 1\n",
    "    return -1"
   ]
  },
  {
   "cell_type": "code",
   "execution_count": 5,
   "metadata": {},
   "outputs": [
    {
     "data": {
      "text/plain": [
       "4"
      ]
     },
     "execution_count": 5,
     "metadata": {},
     "output_type": "execute_result"
    }
   ],
   "source": [
    "countInSorted([1, 2, 3, 4, 5, 6, 7, 7, 7, 7, 8, 9], 7)"
   ]
  },
  {
   "cell_type": "markdown",
   "metadata": {},
   "source": [
    "**Q10 Find teh number of times a sorted array is rotated**"
   ]
  },
  {
   "cell_type": "code",
   "execution_count": 6,
   "metadata": {},
   "outputs": [],
   "source": [
    "def sortedRotationCount(nums: list[int]) -> int:\n",
    "\n",
    "    n = len(nums)\n",
    "    start, end, ans = 0, n-1, 0\n",
    "    if nums[start] <= nums[end]: return ans\n",
    "\n",
    "    while start <= end:\n",
    "        mid = start + (end-start) // 2\n",
    "        nxt = (mid + 1) % n\n",
    "        prev = (mid + n - 1) % n\n",
    "\n",
    "        if nums[nxt] >= nums[mid] and nums[prev] >= nums[mid]:\n",
    "            return mid\n",
    "        if nums[0] <= nums[mid]:\n",
    "            start = mid+1\n",
    "        elif nums[n-1] >= nums[mid]:\n",
    "            end = mid-1\n",
    "    return -1 "
   ]
  },
  {
   "cell_type": "code",
   "execution_count": 7,
   "metadata": {},
   "outputs": [
    {
     "data": {
      "text/plain": [
       "4"
      ]
     },
     "execution_count": 7,
     "metadata": {},
     "output_type": "execute_result"
    }
   ],
   "source": [
    "sortedRotationCount([4,5,6,7,0,1,2])"
   ]
  }
 ],
 "metadata": {
  "kernelspec": {
   "display_name": "ML",
   "language": "python",
   "name": "python3"
  },
  "language_info": {
   "codemirror_mode": {
    "name": "ipython",
    "version": 3
   },
   "file_extension": ".py",
   "mimetype": "text/x-python",
   "name": "python",
   "nbconvert_exporter": "python",
   "pygments_lexer": "ipython3",
   "version": "3.11.4"
  },
  "orig_nbformat": 4
 },
 "nbformat": 4,
 "nbformat_minor": 2
}
