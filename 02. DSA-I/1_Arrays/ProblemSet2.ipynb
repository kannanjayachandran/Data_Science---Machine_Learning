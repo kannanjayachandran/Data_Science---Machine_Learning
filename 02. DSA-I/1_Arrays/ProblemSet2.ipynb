{
 "cells": [
  {
   "cell_type": "markdown",
   "metadata": {},
   "source": [
    "# <span style=\"color:#FEC260\">Arrays</span> ~ Problem set - II"
   ]
  },
  {
   "cell_type": "markdown",
   "metadata": {},
   "source": [
    "**Q1 Return all the sub-arrays**"
   ]
  },
  {
   "cell_type": "code",
   "execution_count": 12,
   "metadata": {},
   "outputs": [],
   "source": [
    "def subArrays(arr: list[list]) -> list[list[int]]:\n",
    "    \n",
    "    result = []\n",
    "    for start in range(len(arr)):\n",
    "        for end in range(start, len(arr)):\n",
    "            result.append(arr[start:end+1])\n",
    "    return result"
   ]
  },
  {
   "cell_type": "code",
   "execution_count": 13,
   "metadata": {},
   "outputs": [
    {
     "data": {
      "text/plain": [
       "[[1], [1, 2], [1, 2, 3], [2], [2, 3], [3]]"
      ]
     },
     "execution_count": 13,
     "metadata": {},
     "output_type": "execute_result"
    }
   ],
   "source": [
    "subArrays([1, 2, 3])"
   ]
  },
  {
   "cell_type": "markdown",
   "metadata": {},
   "source": [
    "**Q2 Find Leaders in an array**"
   ]
  },
  {
   "cell_type": "code",
   "execution_count": 41,
   "metadata": {},
   "outputs": [],
   "source": [
    "def findLeader(nums: list[int]) -> list[int]:\n",
    "    n = len(nums)\n",
    "    leader = [nums[-1]]\n",
    "\n",
    "    for i in reversed(range(n)):\n",
    "        if nums[i] > leader[-1]:\n",
    "            leader.append(nums[i])\n",
    "    return leader"
   ]
  },
  {
   "cell_type": "code",
   "execution_count": 42,
   "metadata": {},
   "outputs": [
    {
     "data": {
      "text/plain": [
       "[2, 5, 17]"
      ]
     },
     "execution_count": 42,
     "metadata": {},
     "output_type": "execute_result"
    }
   ],
   "source": [
    "findLeader([16, 17, 4, 3, 5, 2])"
   ]
  },
  {
   "cell_type": "markdown",
   "metadata": {},
   "source": [
    "**Q3 Find the length of the smallest sub-array containing the min and max element of the array**"
   ]
  },
  {
   "cell_type": "code",
   "execution_count": 11,
   "metadata": {},
   "outputs": [],
   "source": [
    "def subMinMax(arr: list) -> int:\n",
    "\n",
    "    smallestElement = min(arr)\n",
    "    largestElement = max(arr)\n",
    "\n",
    "    minIndex = None\n",
    "    maxIndex = None\n",
    "\n",
    "    subArrayLen = float('inf')\n",
    "\n",
    "    for i in range(len(arr)):\n",
    "\n",
    "        # for min element\n",
    "        if arr[i] == smallestElement:\n",
    "            minIndex = i\n",
    "            if maxIndex is not None:\n",
    "                length = minIndex-maxIndex + 1\n",
    "                subArrayLen = min(length, subArrayLen)\n",
    "\n",
    "        # for max element\n",
    "        if arr[i] == largestElement:\n",
    "            maxIndex = i\n",
    "            if minIndex is not None:\n",
    "                length = maxIndex- minIndex + 1\n",
    "                subArrayLen = min(length, subArrayLen)\n",
    "\n",
    "    return subArrayLen"
   ]
  },
  {
   "cell_type": "code",
   "execution_count": 12,
   "metadata": {},
   "outputs": [
    {
     "data": {
      "text/plain": [
       "3"
      ]
     },
     "execution_count": 12,
     "metadata": {},
     "output_type": "execute_result"
    }
   ],
   "source": [
    "subMinMax([2, 8, 1, 3, 0, -1, 0, 8])"
   ]
  },
  {
   "cell_type": "markdown",
   "metadata": {},
   "source": [
    "**Q4 Sum in range**\n",
    "\n",
    ">Given an array of 'N' elements, find the equilibrium index of the array. An equilibrium index is an index 'i' such that the sum of the elements on the left of 'i' is equal to the sum of the elements on the right of 'i'. The array can have negative elements. If no equilibrium index is found, return -1. There would be only one equilibrium index in the array."
   ]
  },
  {
   "cell_type": "code",
   "execution_count": 1,
   "metadata": {},
   "outputs": [],
   "source": [
    "def sumInRange(arr: list, qrr: list[list[int]]) -> list[int]:\n",
    "    res = []\n",
    "\n",
    "    # creating the prefix sum array\n",
    "    prefixSum = [arr[0]]\n",
    "    for x in arr[1:]:\n",
    "        prefixSum.append(prefixSum[-1] + x)\n",
    "\n",
    "    # finding sum\n",
    "    for i in range(len(qrr)):\n",
    "        start = qrr[i][0]\n",
    "        end = qrr[i][1]\n",
    "\n",
    "        total = 0\n",
    "        if start == 0:\n",
    "            total = prefixSum[end]\n",
    "        else:\n",
    "            total = prefixSum[end] - prefixSum[start-1]\n",
    "\n",
    "        res.append(total)\n",
    "\n",
    "    return res"
   ]
  },
  {
   "cell_type": "code",
   "execution_count": 2,
   "metadata": {},
   "outputs": [
    {
     "data": {
      "text/plain": [
       "[5, 10]"
      ]
     },
     "execution_count": 2,
     "metadata": {},
     "output_type": "execute_result"
    }
   ],
   "source": [
    "sumInRange([1, 2, 3, 4, 5], [[1, 2], [0, 3]])"
   ]
  },
  {
   "cell_type": "markdown",
   "metadata": {},
   "source": [
    "**Q5 Equilibrium index of an array | Middle index of an array | Pivot index of an array**"
   ]
  },
  {
   "cell_type": "code",
   "execution_count": 3,
   "metadata": {},
   "outputs": [],
   "source": [
    "def equilibrium(arr: list[int]) -> int:\n",
    "\n",
    "    total = sum(arr)\n",
    "\n",
    "    left_sum = 0\n",
    "    for i in range(len(arr)):\n",
    "        \n",
    "        right_sum = total-left_sum-arr[i]\n",
    "\n",
    "        if left_sum == right_sum:\n",
    "            return i\n",
    "\n",
    "        left_sum += arr[i]\n",
    "\n",
    "    return -1"
   ]
  },
  {
   "cell_type": "code",
   "execution_count": 4,
   "metadata": {},
   "outputs": [
    {
     "data": {
      "text/plain": [
       "2"
      ]
     },
     "execution_count": 4,
     "metadata": {},
     "output_type": "execute_result"
    }
   ],
   "source": [
    "equilibrium([-1, 1, 100, 0])"
   ]
  },
  {
   "cell_type": "markdown",
   "metadata": {},
   "source": [
    "**Q6 Find all equilibrium indices**"
   ]
  },
  {
   "cell_type": "code",
   "execution_count": 5,
   "metadata": {},
   "outputs": [],
   "source": [
    "def multiEquilibrium(arr: list[int]) -> list[int]:\n",
    "    res = []\n",
    "\n",
    "    total = sum(arr)\n",
    "    left_sum = 0\n",
    "    for i in range(len(arr)): \n",
    "        right_sum = total-left_sum-arr[i]\n",
    "        if left_sum == right_sum:\n",
    "             res.append(i)\n",
    "        left_sum += arr[i]\n",
    "\n",
    "    return res"
   ]
  },
  {
   "cell_type": "code",
   "execution_count": 6,
   "metadata": {},
   "outputs": [
    {
     "data": {
      "text/plain": [
       "[]"
      ]
     },
     "execution_count": 6,
     "metadata": {},
     "output_type": "execute_result"
    }
   ],
   "source": [
    "multiEquilibrium([4, 5, 0, 9, -9])"
   ]
  },
  {
   "cell_type": "markdown",
   "metadata": {},
   "source": [
    "**Q7 Count good pairs**\n",
    "\n",
    ">Given a string 'S' all chars are lowercase. Count the number of pairs (i, j) such that i < j and s[i] = 'a' and s[j] = 'g'. or Given a string S, count the number of occurrences of the sub-sequences 'ag'. Return the count of all such pairs."
   ]
  },
  {
   "cell_type": "code",
   "execution_count": 7,
   "metadata": {},
   "outputs": [],
   "source": [
    "def goodPair(s: str) -> int:\n",
    "\n",
    "    n = len(s)\n",
    "    gCount = 0\n",
    "    count = 0\n",
    "\n",
    "    for i in reversed(range(n)):\n",
    "\n",
    "        if s[i] == 'a':\n",
    "            count += gCount\n",
    "        elif s[i] == 'g':\n",
    "            gCount += 1\n",
    "\n",
    "    return count"
   ]
  },
  {
   "cell_type": "code",
   "execution_count": 8,
   "metadata": {},
   "outputs": [
    {
     "data": {
      "text/plain": [
       "13"
      ]
     },
     "execution_count": 8,
     "metadata": {},
     "output_type": "execute_result"
    }
   ],
   "source": [
    "goodPair('xxaxxxaggxaxxxagxagx')"
   ]
  },
  {
   "cell_type": "markdown",
   "metadata": {},
   "source": [
    "**Q8 Count the number of leaders in array**\n",
    "\n",
    "> Given an array of size N, count the number of leaders in the array. An element is leader if it is strictly greater than all the elements to its right side. The rightmost element is always a leader."
   ]
  },
  {
   "cell_type": "code",
   "execution_count": 9,
   "metadata": {},
   "outputs": [],
   "source": [
    "def countLeaders(arr: list[int]) -> int:\n",
    "\n",
    "    largest = -float('inf')\n",
    "    count = 0\n",
    "    n = len(arr)\n",
    "\n",
    "    for i in reversed(range(n)):\n",
    "        if arr[i] > largest:\n",
    "            count += 1\n",
    "            largest = arr[i]\n",
    "\n",
    "    return count"
   ]
  },
  {
   "cell_type": "code",
   "execution_count": 11,
   "metadata": {},
   "outputs": [
    {
     "data": {
      "text/plain": [
       "4"
      ]
     },
     "execution_count": 11,
     "metadata": {},
     "output_type": "execute_result"
    }
   ],
   "source": [
    "countLeaders([1, 2, 7, 8, -6, 0, 3, -7, -10])"
   ]
  },
  {
   "cell_type": "markdown",
   "metadata": {},
   "source": [
    "**Q9 Two sum**"
   ]
  },
  {
   "cell_type": "code",
   "execution_count": 3,
   "metadata": {},
   "outputs": [],
   "source": [
    "def twoSum(arr: list[int], num: int) -> list[int]:\n",
    "\n",
    "    dic = {}\n",
    "\n",
    "    for i in range(len(arr)):\n",
    "\n",
    "        req  = num - arr[i]\n",
    "\n",
    "        if req in dic: \n",
    "            return  dic[req]+1, i+1\n",
    "        if arr[i] not in dic:\n",
    "            dic[arr[i]] = i\n",
    "    \n",
    "    return []"
   ]
  },
  {
   "cell_type": "code",
   "execution_count": 4,
   "metadata": {},
   "outputs": [
    {
     "data": {
      "text/plain": [
       "(1, 4)"
      ]
     },
     "execution_count": 4,
     "metadata": {},
     "output_type": "execute_result"
    }
   ],
   "source": [
    "twoSum([2, 2 ,7, 11, 13, 12], 13)"
   ]
  }
 ],
 "metadata": {
  "kernelspec": {
   "display_name": "ML",
   "language": "python",
   "name": "python3"
  },
  "language_info": {
   "codemirror_mode": {
    "name": "ipython",
    "version": 3
   },
   "file_extension": ".py",
   "mimetype": "text/x-python",
   "name": "python",
   "nbconvert_exporter": "python",
   "pygments_lexer": "ipython3",
   "version": "3.11.4"
  },
  "orig_nbformat": 4
 },
 "nbformat": 4,
 "nbformat_minor": 2
}
