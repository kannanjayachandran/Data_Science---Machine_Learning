{
 "cells": [
  {
   "cell_type": "markdown",
   "metadata": {},
   "source": [
    "# <span style=\"color:#FEC260\">Arrays</span> ~ Problem set - II"
   ]
  },
  {
   "cell_type": "markdown",
   "metadata": {},
   "source": [
    "**Q1 Find the sum of each row in a matrix**"
   ]
  },
  {
   "cell_type": "code",
   "execution_count": 7,
   "metadata": {},
   "outputs": [],
   "source": [
    "def sumOfRows(matrix: list[list[int]]) -> list[int]:\n",
    "    res = []\n",
    "\n",
    "    for row in matrix:\n",
    "        row_sum = 0\n",
    "        for element in row:\n",
    "            row_sum += element\n",
    "        res.append(row_sum)\n",
    "    return res"
   ]
  },
  {
   "cell_type": "code",
   "execution_count": 8,
   "metadata": {},
   "outputs": [
    {
     "data": {
      "text/plain": [
       "[13, 40, 37, 33]"
      ]
     },
     "execution_count": 8,
     "metadata": {},
     "output_type": "execute_result"
    }
   ],
   "source": [
    "sumOfRows([\n",
    "    [0, 1, -6, 8, 3, 2, 5],\n",
    "    [10, 10, 9, 7, 0, 1, 3],\n",
    "    [1, 6, 8, 2, 4, 9, 7],\n",
    "    [3, -1, 7, 7, 8, 9, 0]\n",
    "])"
   ]
  },
  {
   "cell_type": "markdown",
   "metadata": {},
   "source": [
    "**Q2 Find the sum of each column in a matrix**"
   ]
  },
  {
   "cell_type": "code",
   "execution_count": 9,
   "metadata": {},
   "outputs": [],
   "source": [
    "def sumOfCols(matrix: list[list[int]]) -> list[int]:\n",
    "    res = []\n",
    "    r, c = len(matrix), len(matrix[0])\n",
    "\n",
    "    for col in range(c):\n",
    "        col_sum = 0\n",
    "        for row in range(r):\n",
    "            col_sum += matrix[row][col]\n",
    "        res.append(col_sum)\n",
    "    return res"
   ]
  },
  {
   "cell_type": "code",
   "execution_count": 10,
   "metadata": {},
   "outputs": [
    {
     "data": {
      "text/plain": [
       "[14, 16, 18, 24, 15, 21, 15]"
      ]
     },
     "execution_count": 10,
     "metadata": {},
     "output_type": "execute_result"
    }
   ],
   "source": [
    "sumOfCols([\n",
    "    [0, 1, -6, 8, 3, 2, 5],\n",
    "    [10, 10, 9, 7, 0, 1, 3],\n",
    "    [1, 6, 8, 2, 4, 9, 7],\n",
    "    [3, -1, 7, 7, 8, 9, 0]\n",
    "])"
   ]
  },
  {
   "cell_type": "markdown",
   "metadata": {},
   "source": [
    "**Q3 Given a square matrix return its diagonals**\n",
    "\n",
    "> return a list of lists containing the two diagonals of the matrix"
   ]
  },
  {
   "cell_type": "code",
   "execution_count": 13,
   "metadata": {},
   "outputs": [],
   "source": [
    "def diagonals(matrix: list[list[int]]) -> list[list[int]]:\n",
    "    n = len(matrix)\n",
    "    primaryDiag = [matrix[i][i] for i in range(n)]\n",
    "    secondaryDiag = [matrix[i][n-i-1] for i in range(n)]\n",
    "\n",
    "    return [primaryDiag, secondaryDiag]"
   ]
  },
  {
   "cell_type": "code",
   "execution_count": 16,
   "metadata": {},
   "outputs": [
    {
     "data": {
      "text/plain": [
       "[[0, 3, 6, 9, 12], [8, 7, 6, 5, 4]]"
      ]
     },
     "execution_count": 16,
     "metadata": {},
     "output_type": "execute_result"
    }
   ],
   "source": [
    "diagonals([\n",
    "[0, 2, 4, 6, 8], \n",
    "[1, 3, 5, 7, 9], \n",
    "[2, 4, 6, 8, 10], \n",
    "[3, 5, 7, 9, 11], \n",
    "[4, 6, 8, 10, 12]\n",
    "])"
   ]
  },
  {
   "cell_type": "markdown",
   "metadata": {},
   "source": [
    "**Q4 Sum of two matrices**"
   ]
  },
  {
   "cell_type": "code",
   "execution_count": 4,
   "metadata": {},
   "outputs": [],
   "source": [
    "def addMatrices(matrix1: list[list[int]], matrix2: list[list[int]]) -> list[list[int]]:\n",
    "    if  len(matrix1) == len(matrix2) and len(matrix1[0]) ==  len(matrix2[0]):\n",
    "\n",
    "        return[[matrix1[i][j] + matrix2[i][j] for j in range(len(matrix1[0]))] for i in range(len(matrix1))]\n",
    "    else:\n",
    "        raise ValueError(\"Addition not possible !\")"
   ]
  },
  {
   "cell_type": "code",
   "execution_count": 6,
   "metadata": {},
   "outputs": [
    {
     "data": {
      "text/plain": [
       "[[10, 10, 10], [10, 10, 10], [10, 10, 10]]"
      ]
     },
     "execution_count": 6,
     "metadata": {},
     "output_type": "execute_result"
    }
   ],
   "source": [
    "m1 = [[1, 2, 3], [4, 5, 6], [7, 8, 9]]\n",
    "m2 = [[9, 8, 7], [6, 5, 4], [3, 2, 1]]\n",
    "\n",
    "addMatrices(m1, m2)"
   ]
  },
  {
   "cell_type": "markdown",
   "metadata": {},
   "source": [
    "**Q5 Product of 2 matrices**"
   ]
  },
  {
   "cell_type": "code",
   "execution_count": 2,
   "metadata": {},
   "outputs": [],
   "source": [
    "def matMul(m1: list[int], m2: list[int]) -> list[int]:\n",
    "\n",
    "    answer = [[0 for _ in range(len(m1))] for _ in range(len(m2[0]))]\n",
    "\n",
    "    # iterating the rows of matrix 1\n",
    "    for i in range(len(m1)):\n",
    "\n",
    "        # iterating the columns of matrix 2\n",
    "        for j in range(len(m2[0])):\n",
    "\n",
    "            # iterating over row of matrix 2\n",
    "            for k in range(len(m2)):\n",
    "                answer[i][j] += m1[i][k] * m2[k][j]\n",
    "    return answer"
   ]
  },
  {
   "cell_type": "code",
   "execution_count": 3,
   "metadata": {},
   "outputs": [
    {
     "data": {
      "text/plain": [
       "[[33, 26, 18, 29], [84, 69, 50, 54], [138, 114, 83, 84], [192, 159, 116, 114]]"
      ]
     },
     "execution_count": 3,
     "metadata": {},
     "output_type": "execute_result"
    }
   ],
   "source": [
    "m1 = [\n",
    "    [1, 2, 4],\n",
    "    [4, 5, 6],\n",
    "    [7, 8, 9],\n",
    "    [10, 11, 12, 13]\n",
    "    ]\n",
    "m2 = [\n",
    "    [9, 8, 6, 1], \n",
    "    [6, 5, 4, 4], \n",
    "    [3, 2, 1, 5]\n",
    "]\n",
    "\n",
    "matMul(m1, m2)"
   ]
  },
  {
   "cell_type": "markdown",
   "metadata": {},
   "source": [
    "**Q6 Find the boundary elements of a matrix**\n",
    "> first row | first column | last row  | last column."
   ]
  },
  {
   "cell_type": "code",
   "execution_count": 6,
   "metadata": {},
   "outputs": [],
   "source": [
    "def boundaryOfMatrix(m: list[list[int]]) -> list[int]:\n",
    "\n",
    "    row, col = len(m), len(m[0])\n",
    "    r, c, res = 0, 0, []\n",
    "    direction = \"right\"\n",
    "\n",
    "    while True:\n",
    "        res.append(m[r][c])\n",
    "\n",
    "        if direction == \"right\":\n",
    "            if c < col-1:\n",
    "                c +=  1\n",
    "            else:\n",
    "                direction = \"down\"\n",
    "                r += 1\n",
    "        elif direction == \"down\":\n",
    "            if r < row-1:\n",
    "                r += 1\n",
    "            else:\n",
    "                direction = \"left\"\n",
    "                c -= 1\n",
    "        elif direction == \"left\":\n",
    "            if c > 0:\n",
    "                c -= 1\n",
    "            else:\n",
    "                direction = \"up\"\n",
    "                r -= 1\n",
    "        elif r > 1:\n",
    "            r -= 1\n",
    "        else: \n",
    "            break\n",
    "    return res"
   ]
  },
  {
   "cell_type": "code",
   "execution_count": 7,
   "metadata": {},
   "outputs": [
    {
     "data": {
      "text/plain": [
       "[1, 5, 9, 13, 17, 21, 25, 29, 30, 31, 32, 28, 24, 20, 16, 12, 8, 4, 3, 2]"
      ]
     },
     "execution_count": 7,
     "metadata": {},
     "output_type": "execute_result"
    }
   ],
   "source": [
    "m1 = [\n",
    "    [1, 5, 9, 13, 17, 21, 25, 29],\n",
    "    [2, 6, 10, 14, 18, 22, 26, 30],\n",
    "    [3, 7, 11, 15, 19, 23, 27, 31],\n",
    "    [4, 8, 12, 16, 20, 24, 28, 32]\n",
    "]\n",
    "boundaryOfMatrix(m1)"
   ]
  },
  {
   "cell_type": "markdown",
   "metadata": {},
   "source": [
    "**Q7 Traverse matrix in spiral order**"
   ]
  }
 ],
 "metadata": {
  "kernelspec": {
   "display_name": "ML",
   "language": "python",
   "name": "python3"
  },
  "language_info": {
   "codemirror_mode": {
    "name": "ipython",
    "version": 3
   },
   "file_extension": ".py",
   "mimetype": "text/x-python",
   "name": "python",
   "nbconvert_exporter": "python",
   "pygments_lexer": "ipython3",
   "version": "3.11.4"
  },
  "orig_nbformat": 4
 },
 "nbformat": 4,
 "nbformat_minor": 2
}
