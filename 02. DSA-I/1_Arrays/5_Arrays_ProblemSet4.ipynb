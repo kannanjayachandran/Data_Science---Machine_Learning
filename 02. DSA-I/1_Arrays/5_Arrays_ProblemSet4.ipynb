{
 "cells": [
  {
   "attachments": {},
   "cell_type": "markdown",
   "metadata": {},
   "source": [
    "### Traversing a matrix in spiral order\n",
    "\n",
    "Given a matrix, print its elements in spiral order.\n",
    "\n",
    "Time complexity : $O(m*n)$"
   ]
  },
  {
   "cell_type": "code",
   "execution_count": 15,
   "metadata": {},
   "outputs": [],
   "source": [
    "m1 = [\n",
    "    [1, 5, 9, 13, 17],\n",
    "    [21, 25, 29, 1, 2],\n",
    "    [2, 6, 10, 14, 18],\n",
    "    [ 22, 26, 30, 7, 8],\n",
    "    [3, 7, 11, 15, 19],\n",
    "    [23, 27, 31, 11, 32],\n",
    "    [4, 8, 12, 16, 20],\n",
    "    [24, 28, 32, 75, 23]\n",
    "]\n",
    "\n",
    "# m1 = [\n",
    "#     [1, 2, 3, 4, 5],\n",
    "#     [1, 2, 3, 4, 5],\n",
    "#     [1, 2, 3, 4, 5],\n",
    "#     [1, 2, 3, 4, 5],\n",
    "#     [1, 2, 3, 4, 5],\n",
    "\n",
    "# ]\n",
    "\n",
    "row = len(m1)\n",
    "col = len(m1[0])\n"
   ]
  },
  {
   "cell_type": "code",
   "execution_count": 38,
   "metadata": {},
   "outputs": [
    {
     "name": "stdout",
     "output_type": "stream",
     "text": [
      "1 5 9 13 17 2 18 8 19 32 20 23 75 32 28 24 4 23 3 22 2 21 25 29 1 14 7 15 11 16 12 8 27 7 26 6 10 30 11 31 "
     ]
    }
   ],
   "source": [
    "# answer\n",
    "\n",
    "r, c = 0, 0\n",
    "direction = \"right\"\n",
    "boundary = 0\n",
    "\n",
    "for _ in range(row * col):\n",
    "    print(m1[r][c], end=\" \")\n",
    "\n",
    "    if direction == \"right\":\n",
    "        if c == col-1-boundary:\n",
    "            direction = \"down\"\n",
    "            r += 1\n",
    "        else:\n",
    "            c += 1\n",
    "\n",
    "    elif direction == \"down\":\n",
    "        if r == row-1-boundary:\n",
    "            direction = \"left\"\n",
    "            c -= 1\n",
    "        else:\n",
    "            r += 1\n",
    "    elif direction == \"left\":\n",
    "        if c == 0+boundary:\n",
    "            direction = \"up\"\n",
    "            r -= 1\n",
    "        else:\n",
    "            c -= 1\n",
    "\n",
    "    else:\n",
    "        if r == 1 + boundary:\n",
    "            direction = \"right\"\n",
    "            boundary += 1\n",
    "            c += 1\n",
    "        else:\n",
    "            r -= 1"
   ]
  },
  {
   "attachments": {},
   "cell_type": "markdown",
   "metadata": {},
   "source": [
    "### Christmas Trees\n",
    "\n",
    "Given an array $A_N$ containing the heights of christmas trees, and another array $B_N$ containing the cost of each tree, Choose `3` christmas trees in ascending order of their heights while minimizing the cost. we can only choose the trees from left to right.\n",
    "\n",
    "- Time complexity : Brute force ($O(n^3)$)\n",
    "\n"
   ]
  },
  {
   "cell_type": "code",
   "execution_count": 13,
   "metadata": {},
   "outputs": [
    {
     "data": {
      "text/plain": [
       "6"
      ]
     },
     "execution_count": 13,
     "metadata": {},
     "output_type": "execute_result"
    }
   ],
   "source": [
    "# brute force \n",
    "\n",
    "A = [9, 7, 15, 3, 6, 1, 2, 8, 2, 11, 5, 13, 15, 6]  # heights\n",
    "B = [6, 4, 1, 5, 8, 5, 9, 11, 6, 3, 3, 2, 1, 4]     # cost \n",
    "n = len(A)\n",
    "min_cost = float('inf')\n",
    "\n",
    "for x in range(n):\n",
    "    for y in range(x, n):\n",
    "        for z in range(y, n):\n",
    "            if A[x] < A[y] < A[z]:\n",
    "                tree_cost = B[x] + B[y] + B[z]\n",
    "                if tree_cost < min_cost:\n",
    "                    min_cost = tree_cost\n",
    "\n",
    "min_cost"
   ]
  },
  {
   "cell_type": "code",
   "execution_count": 2,
   "metadata": {},
   "outputs": [
    {
     "name": "stdout",
     "output_type": "stream",
     "text": [
      "6\n"
     ]
    }
   ],
   "source": [
    "# Optimized approach  Time Complexity : O(n^2)\n",
    "# t1 -> first_tree\n",
    "# t2 -> middle_tree\n",
    "# t3 -> last_tree\n",
    "\n",
    "height = [9, 7, 15, 3, 6, 1, 2, 8, 2, 11, 5, 13, 15, 6]\n",
    "cost = [6, 4, 1, 5, 8, 5, 9, 11, 6, 3, 3, 2, 1, 4]\n",
    "\n",
    "\n",
    "min_cost = float('inf')\n",
    "n = len(height)\n",
    "\n",
    "for t2 in range(n):\n",
    "    t2_height = height[t2]\n",
    "    t2_cost = cost[t2]\n",
    "    t1_cost = float('inf')\n",
    "\n",
    "    for i in range(t2):\n",
    "        if height[i] < t2_height:\n",
    "            t1_cost = min(t1_cost, cost[i])\n",
    "\n",
    "    t3_cost = float('inf')\n",
    "    \n",
    "    for i in range(t2+1, n):\n",
    "        if height[i] > t2_height:\n",
    "            t3_cost = min(t3_cost, cost[i])\n",
    "\n",
    "    cost_3_trees = t1_cost + t2_cost + t3_cost\n",
    "    min_cost = min(min_cost, cost_3_trees)\n",
    "\n",
    "print(min_cost)\n"
   ]
  },
  {
   "attachments": {},
   "cell_type": "markdown",
   "metadata": {},
   "source": [
    "### Anti Diagonals\n",
    "\n",
    "Give a `N*N` square matrix, return an array of its anti-diagonals. "
   ]
  },
  {
   "cell_type": "code",
   "execution_count": 26,
   "metadata": {},
   "outputs": [
    {
     "name": "stdout",
     "output_type": "stream",
     "text": [
      "The matrix is: \n",
      "0 2 4 \n",
      "1 3 5 \n",
      "2 4 6 \n",
      "Anti diagonal elements : [[0], [2, 1], [4, 3, 2], [5, 4], [6]]\n"
     ]
    }
   ],
   "source": [
    "matrix = [[x*2+y for x in range(3)] for y in range(3)]\n",
    "\n",
    "def print_Matrix(matrix):\n",
    "    print(\"The matrix is: \")\n",
    "    for x in matrix:\n",
    "        for num in x:\n",
    "            print(num, end=\" \")\n",
    "        print()\n",
    "\n",
    "def find_anti_diagonal(matrix):\n",
    "    n = len(matrix)\n",
    "    antiDiagonals = [[] for _ in range(2*n-1)]\n",
    "\n",
    "    for i in range(n):\n",
    "        for j in range(n):\n",
    "            antiDiagonals[i+j].append(matrix[i][j])\n",
    "    \n",
    "    return antiDiagonals\n",
    "\n",
    "print_Matrix(matrix)\n",
    "print(\"Anti diagonal elements :\",  find_anti_diagonal(matrix))\n"
   ]
  }
 ],
 "metadata": {
  "kernelspec": {
   "display_name": "base",
   "language": "python",
   "name": "python3"
  },
  "language_info": {
   "codemirror_mode": {
    "name": "ipython",
    "version": 3
   },
   "file_extension": ".py",
   "mimetype": "text/x-python",
   "name": "python",
   "nbconvert_exporter": "python",
   "pygments_lexer": "ipython3",
   "version": "3.9.16"
  },
  "orig_nbformat": 4
 },
 "nbformat": 4,
 "nbformat_minor": 2
}
