{
 "cells": [
  {
   "cell_type": "markdown",
   "metadata": {},
   "source": [
    "# <span style=\"color:#FEC260\">Arrays</span> ~ Problem set - I"
   ]
  },
  {
   "cell_type": "markdown",
   "metadata": {
    "vscode": {
     "languageId": "plaintext"
    }
   },
   "source": [
    "**Q1 Find the minimum and maximum element in an array**"
   ]
  },
  {
   "cell_type": "code",
   "execution_count": 3,
   "metadata": {},
   "outputs": [],
   "source": [
    "def findMinMax(nums: list[int]) -> list[int]:\n",
    "    \n",
    "    if len(nums) == 1: return [nums[0], nums[0]]\n",
    "\n",
    "    minimum = float('inf')\n",
    "    maximum = -float('inf')\n",
    "\n",
    "    for x in nums:\n",
    "        if x > maximum:\n",
    "            maximum = x\n",
    "        if  x < minimum:\n",
    "            minimum = x\n",
    "    return [maximum, minimum]\n",
    "\n",
    "\n",
    "def minMax2(nums: list[int]) -> list[int]:\n",
    "    return [max(nums), min(nums)]"
   ]
  },
  {
   "cell_type": "code",
   "execution_count": 4,
   "metadata": {},
   "outputs": [
    {
     "name": "stdout",
     "output_type": "stream",
     "text": [
      "[9, 1]\n",
      "[9, 1]\n"
     ]
    }
   ],
   "source": [
    "print(findMinMax([1, 3, 2, 5, 4, 9]))\n",
    "print(minMax2([1, 3, 2, 5, 4, 9]))"
   ]
  },
  {
   "cell_type": "markdown",
   "metadata": {},
   "source": [
    "**Q2 Reverse element in an array**"
   ]
  },
  {
   "cell_type": "code",
   "execution_count": 8,
   "metadata": {},
   "outputs": [],
   "source": [
    "def reverseArray(nums: list[int]) -> list[int]:\n",
    "    ptr1 = 0\n",
    "    ptr2 = len(nums)-1\n",
    "    while ptr1 < ptr2:\n",
    "        nums[ptr1], nums[ptr2] = nums[ptr2], nums[ptr1]\n",
    "        ptr1 += 1\n",
    "        ptr2 -= 1\n",
    "    return nums\n",
    "\n",
    "\n",
    "def reverseArray2(nums: list[int]) -> list[int]:\n",
    "    nums.reverse()\n",
    "    return nums "
   ]
  },
  {
   "cell_type": "code",
   "execution_count": 11,
   "metadata": {},
   "outputs": [
    {
     "name": "stdout",
     "output_type": "stream",
     "text": [
      "[7, 6, 5, 4, 3, 2, 1]\n",
      "[7, 6, 5, 4, 3, 2, 1]\n"
     ]
    }
   ],
   "source": [
    "print(reverseArray2([1, 2, 3, 4, 5, 6, 7]))\n",
    "print(reverseArray([1, 2, 3, 4, 5, 6, 7]))"
   ]
  },
  {
   "cell_type": "markdown",
   "metadata": {},
   "source": [
    "**Q3 Return all the sub-arrays**"
   ]
  },
  {
   "cell_type": "code",
   "execution_count": 12,
   "metadata": {},
   "outputs": [],
   "source": [
    "def subArrays(arr: list[list]) -> list[list[int]]:\n",
    "    \n",
    "    result = []\n",
    "    for start in range(len(arr)):\n",
    "        for end in range(start, len(arr)):\n",
    "            result.append(arr[start:end+1])\n",
    "    return result"
   ]
  },
  {
   "cell_type": "code",
   "execution_count": 13,
   "metadata": {},
   "outputs": [
    {
     "data": {
      "text/plain": [
       "[[1], [1, 2], [1, 2, 3], [2], [2, 3], [3]]"
      ]
     },
     "execution_count": 13,
     "metadata": {},
     "output_type": "execute_result"
    }
   ],
   "source": [
    "subArrays([1, 2, 3])"
   ]
  },
  {
   "cell_type": "code",
   "execution_count": null,
   "metadata": {},
   "outputs": [],
   "source": []
  },
  {
   "cell_type": "code",
   "execution_count": null,
   "metadata": {},
   "outputs": [],
   "source": []
  },
  {
   "cell_type": "code",
   "execution_count": null,
   "metadata": {},
   "outputs": [],
   "source": []
  },
  {
   "cell_type": "code",
   "execution_count": null,
   "metadata": {},
   "outputs": [],
   "source": []
  }
 ],
 "metadata": {
  "kernelspec": {
   "display_name": "ML",
   "language": "python",
   "name": "python3"
  },
  "language_info": {
   "codemirror_mode": {
    "name": "ipython",
    "version": 3
   },
   "file_extension": ".py",
   "mimetype": "text/x-python",
   "name": "python",
   "nbconvert_exporter": "python",
   "pygments_lexer": "ipython3",
   "version": "3.11.4"
  },
  "orig_nbformat": 4
 },
 "nbformat": 4,
 "nbformat_minor": 2
}
