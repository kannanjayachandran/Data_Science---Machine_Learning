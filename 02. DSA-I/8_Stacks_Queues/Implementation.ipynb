{
 "cells": [
  {
   "cell_type": "markdown",
   "metadata": {},
   "source": [
    "# <span style=\"color:#FEC260\">Stack | Queues | Heaps</span> "
   ]
  },
  {
   "cell_type": "markdown",
   "metadata": {},
   "source": [
    "## Stack { Using list }"
   ]
  },
  {
   "cell_type": "code",
   "execution_count": 5,
   "metadata": {},
   "outputs": [],
   "source": [
    "class Stack:\n",
    "    \"\"\"\n",
    "    Stack Implemented using List\n",
    "    \"\"\"\n",
    "    def __init__(self) -> list:\n",
    "        self.items = []\n",
    "    \n",
    "    def isEmpty(self):\n",
    "        return len(self.items) == 0\n",
    "\n",
    "    def push(self, item):\n",
    "        self.items.append(item)\n",
    "\n",
    "    def pop(self):\n",
    "        if not self.isEmpty():\n",
    "            return self.items.pop()\n",
    "        else:\n",
    "            raise Exception(\"Stack Underflow : Stack is empty !\")\n",
    "\n",
    "    def top(self):\n",
    "        if not self.isEmpty():\n",
    "            return self.items[-1]\n",
    "        else:\n",
    "            raise Exception(\"Stack Underflow : Stack is empty !\")\n",
    "\n",
    "    def size(self):\n",
    "        return len(self.items)"
   ]
  },
  {
   "cell_type": "code",
   "execution_count": 6,
   "metadata": {},
   "outputs": [
    {
     "name": "stdout",
     "output_type": "stream",
     "text": [
      "True\n",
      "5\n"
     ]
    },
    {
     "data": {
      "text/plain": [
       "1"
      ]
     },
     "execution_count": 6,
     "metadata": {},
     "output_type": "execute_result"
    }
   ],
   "source": [
    "stack = Stack()\n",
    "\n",
    "print(stack.isEmpty())\n",
    "stack.push(5)\n",
    "print(stack.top())\n",
    "stack.size()"
   ]
  },
  {
   "cell_type": "markdown",
   "metadata": {},
   "source": [
    "## Stack { Using collections.deque }"
   ]
  },
  {
   "cell_type": "code",
   "execution_count": 12,
   "metadata": {},
   "outputs": [],
   "source": [
    "from collections import deque\n",
    "\n",
    "class Stack2:\n",
    "    \"\"\"\n",
    "    Stack Implemented using Collections.deque\n",
    "    \"\"\"\n",
    "    def __init__(self):\n",
    "        self.items = deque()\n",
    "\n",
    "    def isEmpty(self):\n",
    "        return len(self.items) == 0\n",
    "\n",
    "    def push(self, item):\n",
    "        self.items.append(item)\n",
    "\n",
    "    def pop(self):\n",
    "        if not self.isEmpty():\n",
    "            return self.items.pop()\n",
    "        else:\n",
    "            raise Exception(\"Stack Underflow : Stack is empty !\")\n",
    "\n",
    "    def top(self):\n",
    "        if not self.isEmpty():\n",
    "            return self.items[-1]\n",
    "        else:\n",
    "            raise Exception(\"Stack Underflow : Stack is empty !\")\n",
    "\n",
    "    def size(self):\n",
    "        return len(self.items)"
   ]
  },
  {
   "cell_type": "code",
   "execution_count": 11,
   "metadata": {},
   "outputs": [
    {
     "name": "stdout",
     "output_type": "stream",
     "text": [
      "True\n",
      "5\n"
     ]
    },
    {
     "data": {
      "text/plain": [
       "1"
      ]
     },
     "execution_count": 11,
     "metadata": {},
     "output_type": "execute_result"
    }
   ],
   "source": [
    "stack2 = Stack2()\n",
    "\n",
    "print(stack2.isEmpty())\n",
    "stack2.push(5)\n",
    "print(stack2.top())\n",
    "stack2.size()"
   ]
  },
  {
   "cell_type": "markdown",
   "metadata": {},
   "source": [
    "## Queue"
   ]
  },
  {
   "cell_type": "code",
   "execution_count": 1,
   "metadata": {},
   "outputs": [
    {
     "name": "stdout",
     "output_type": "stream",
     "text": [
      "deque([25, 50])\n",
      "deque([50])\n",
      "deque([75, 50])\n"
     ]
    }
   ],
   "source": [
    "from collections import deque\n",
    "\n",
    "queue = deque()\n",
    "\n",
    "queue.append(25)\n",
    "queue.append(50)\n",
    "\n",
    "print(queue)\n",
    "\n",
    "queue.popleft()\n",
    "print(queue)\n",
    "\n",
    "queue.appendleft(75)\n",
    "print(queue)"
   ]
  },
  {
   "cell_type": "markdown",
   "metadata": {},
   "source": [
    "## Heaps\n",
    "\n",
    "**Min heap**"
   ]
  },
  {
   "cell_type": "code",
   "execution_count": 5,
   "metadata": {},
   "outputs": [
    {
     "name": "stdout",
     "output_type": "stream",
     "text": [
      "2\n",
      "3\n",
      "5\n",
      "10\n"
     ]
    }
   ],
   "source": [
    "import heapq\n",
    "\n",
    "minHeap = []\n",
    "heapq.heappush(minHeap, 10)\n",
    "heapq.heappush(minHeap, 2)\n",
    "heapq.heappush(minHeap, 5)\n",
    "heapq.heappush(minHeap, 3)\n",
    "\n",
    "# min element will always be at the 0-th index\n",
    "while len(minHeap):\n",
    "    print(heapq.heappop(minHeap))"
   ]
  },
  {
   "cell_type": "markdown",
   "metadata": {},
   "source": [
    "**Max heap**\n",
    "\n",
    "> Python does not have max heap by default, one workaround is to use min heap and negate the values"
   ]
  },
  {
   "cell_type": "code",
   "execution_count": 7,
   "metadata": {},
   "outputs": [
    {
     "name": "stdout",
     "output_type": "stream",
     "text": [
      "10\n",
      "9\n",
      "7\n",
      "6\n"
     ]
    }
   ],
   "source": [
    "import heapq\n",
    "\n",
    "maxHeap = []\n",
    "\n",
    "heapq.heappush(maxHeap, -6)\n",
    "heapq.heappush(maxHeap, -10)\n",
    "heapq.heappush(maxHeap, -7)\n",
    "heapq.heappush(maxHeap, -9)\n",
    "\n",
    "while len(maxHeap):\n",
    "    print(-1 * heapq.heappop(maxHeap))"
   ]
  },
  {
   "cell_type": "code",
   "execution_count": 10,
   "metadata": {},
   "outputs": [
    {
     "name": "stdout",
     "output_type": "stream",
     "text": [
      "1\n",
      "2\n",
      "3\n",
      "4\n",
      "5\n"
     ]
    }
   ],
   "source": [
    "# heap from list\n",
    "arr = [5, 4, 3, 2, 1]\n",
    "heapq.heapify(arr)\n",
    "\n",
    "while len(arr):\n",
    "    print(heapq.heappop(arr))"
   ]
  }
 ],
 "metadata": {
  "kernelspec": {
   "display_name": "ML",
   "language": "python",
   "name": "python3"
  },
  "language_info": {
   "codemirror_mode": {
    "name": "ipython",
    "version": 3
   },
   "file_extension": ".py",
   "mimetype": "text/x-python",
   "name": "python",
   "nbconvert_exporter": "python",
   "pygments_lexer": "ipython3",
   "version": "3.11.4"
  },
  "orig_nbformat": 4
 },
 "nbformat": 4,
 "nbformat_minor": 2
}
