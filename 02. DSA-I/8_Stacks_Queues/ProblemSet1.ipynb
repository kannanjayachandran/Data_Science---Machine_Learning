{
 "cells": [
  {
   "cell_type": "markdown",
   "metadata": {},
   "source": [
    "# <span style=\"color:#FEC260\">Stack and Queues</span> ~ Problem set - I"
   ]
  },
  {
   "cell_type": "markdown",
   "metadata": {},
   "source": [
    "**Q1 Baseball Game**"
   ]
  },
  {
   "cell_type": "code",
   "execution_count": 2,
   "metadata": {},
   "outputs": [],
   "source": [
    "def calculatePoints(operations: list[str]) -> int:\n",
    "\n",
    "    stack = []\n",
    "\n",
    "    for operator in operations:\n",
    "        if operator == \"+\":\n",
    "            stack.append(stack[-1] + stack[-2])\n",
    "        elif operator == \"D\":\n",
    "            stack.append(2 * stack[-1])\n",
    "        elif operator == \"C\":\n",
    "            stack.pop()\n",
    "        else:\n",
    "            stack.append(int(operator))\n",
    "    \n",
    "    return sum(stack)"
   ]
  },
  {
   "cell_type": "code",
   "execution_count": 3,
   "metadata": {},
   "outputs": [
    {
     "data": {
      "text/plain": [
       "30"
      ]
     },
     "execution_count": 3,
     "metadata": {},
     "output_type": "execute_result"
    }
   ],
   "source": [
    "calculatePoints([\"5\",\"2\",\"C\",\"D\",\"+\"])"
   ]
  },
  {
   "cell_type": "markdown",
   "metadata": {},
   "source": [
    "**Q2 Valid parenthesis**"
   ]
  },
  {
   "cell_type": "code",
   "execution_count": 3,
   "metadata": {},
   "outputs": [],
   "source": [
    "def isValid(s: str) -> bool:\n",
    "    \n",
    "    stack = []\n",
    "    lookUp = {\")\": \"(\", \"]\": \"[\", \"}\": \"{\"}\n",
    "\n",
    "    for char in s:\n",
    "        if char in lookUp:\n",
    "            if stack and stack[-1] == lookUp[char]:\n",
    "                stack.pop()\n",
    "            else:\n",
    "                return False\n",
    "        else:\n",
    "            stack.append(char)\n",
    "    return True if not stack else False"
   ]
  },
  {
   "cell_type": "code",
   "execution_count": 4,
   "metadata": {},
   "outputs": [
    {
     "data": {
      "text/plain": [
       "True"
      ]
     },
     "execution_count": 4,
     "metadata": {},
     "output_type": "execute_result"
    }
   ],
   "source": [
    "isValid(\"()[]{}\")"
   ]
  },
  {
   "cell_type": "markdown",
   "metadata": {},
   "source": [
    "**Q3 Min stack**"
   ]
  },
  {
   "cell_type": "code",
   "execution_count": 5,
   "metadata": {},
   "outputs": [],
   "source": [
    "class MinStack:\n",
    "\n",
    "    def __init__(self):\n",
    "        self.stack = []\n",
    "        self.minStack = []\n",
    "    \n",
    "    def push(self, val: int) -> None:\n",
    "        self.stack.append(val)\n",
    "        val = min(val, self.minStack[-1] if self.minStack else val)\n",
    "        self.minStack.append(val)\n",
    "    \n",
    "    def pop(self) -> None:\n",
    "        self.minStack.pop()\n",
    "        self.stack.pop()\n",
    "    \n",
    "    def top(self) -> int:\n",
    "        return self.stack[-1]\n",
    "    \n",
    "    def getMin(self) -> int:\n",
    "        return self.minStack[-1]"
   ]
  },
  {
   "cell_type": "markdown",
   "metadata": {},
   "source": [
    "**Q4 Stack using Queues**"
   ]
  },
  {
   "cell_type": "code",
   "execution_count": 1,
   "metadata": {},
   "outputs": [],
   "source": [
    "class MyStack:\n",
    "\n",
    "    def __init__(self):\n",
    "        self.q = deque()\n",
    "        \n",
    "\n",
    "    def push(self, x: int) -> None:\n",
    "        self.q.append(x)\n",
    "        \n",
    "\n",
    "    def pop(self) -> int:\n",
    "        for _ in range(len(self.q)-1):\n",
    "            self.push(self.q.popleft())\n",
    "        return self.q.popleft()\n",
    "\n",
    "\n",
    "    def top(self) -> int:\n",
    "        return self.q[-1]\n",
    "\n",
    "    def empty(self) -> bool:\n",
    "        return len(self.q) == 0"
   ]
  },
  {
   "cell_type": "markdown",
   "metadata": {},
   "source": [
    "**Q5 Number of Students Unable to Eat Lunch**"
   ]
  },
  {
   "cell_type": "code",
   "execution_count": 3,
   "metadata": {},
   "outputs": [],
   "source": [
    "from collections import deque\n",
    "\n",
    "\n",
    "def countStudents(students: list[int], sandwiches: list[int]) -> int:\n",
    "    \n",
    "    students = deque(students)\n",
    "    sandwiches = deque(sandwiches)\n",
    "\n",
    "    while sandwiches:\n",
    "        student = students[0]\n",
    "        if student == sandwiches[0]:\n",
    "            students.popleft()\n",
    "            sandwiches.popleft()\n",
    "        else:\n",
    "            if sandwiches[0] not in students:\n",
    "                break\n",
    "\n",
    "            students.popleft()\n",
    "            students.append(student)\n",
    "    return len(students)"
   ]
  },
  {
   "cell_type": "code",
   "execution_count": 4,
   "metadata": {},
   "outputs": [
    {
     "data": {
      "text/plain": [
       "0"
      ]
     },
     "execution_count": 4,
     "metadata": {},
     "output_type": "execute_result"
    }
   ],
   "source": [
    "students = [1,1,0,0]\n",
    "sandwiches = [0,1,0,1]\n",
    "\n",
    "countStudents(students, sandwiches)"
   ]
  }
 ],
 "metadata": {
  "kernelspec": {
   "display_name": "ML",
   "language": "python",
   "name": "python3"
  },
  "language_info": {
   "codemirror_mode": {
    "name": "ipython",
    "version": 3
   },
   "file_extension": ".py",
   "mimetype": "text/x-python",
   "name": "python",
   "nbconvert_exporter": "python",
   "pygments_lexer": "ipython3",
   "version": "3.11.4"
  },
  "orig_nbformat": 4
 },
 "nbformat": 4,
 "nbformat_minor": 2
}
