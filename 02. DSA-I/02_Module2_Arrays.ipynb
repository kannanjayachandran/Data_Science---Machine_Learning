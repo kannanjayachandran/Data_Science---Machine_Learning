{
 "cells": [
  {
   "cell_type": "markdown",
   "metadata": {},
   "source": [
    "## <span style=\"color:#FEC260\">Arrays</span>"
   ]
  },
  {
   "cell_type": "markdown",
   "metadata": {},
   "source": [
    "- Arrays are a collection of elements of the same type. The elements of an array are stored in contiguous memory locations. The lowest address corresponds to the first element and the highest address to the last element. \n",
    "\n",
    "- In python we have **Lists** (Arrays on steroids 💊). Lists are superset of arrays. Lists are capable of doing anything an array can do. "
   ]
  },
  {
   "attachments": {},
   "cell_type": "markdown",
   "metadata": {},
   "source": [
    "### Time complexity of operations on Lists\n",
    "\n",
    "| Operation | Time Complexity |\n",
    "|:---------:|:---------------:|\n",
    "| Access | O(1) |\n",
    "| Search | O(n) |\n",
    "| Insertion | O(n) |\n",
    "| Deletion | O(n) |\n",
    "| Append | O(1) |\n",
    "| len() | O(1) |\n",
    "| Pop | O(1) |\n",
    "| Pop(i) | O(n) |\n",
    "| Insert(i, e) | O(n) |\n",
    "| Remove(e) | O(n) |\n",
    "| Clear | O(1) |\n",
    "| Extend | O(k) |\n",
    "| Reverse | O(n) |\n",
    "| Contains | O(n) |\n",
    "| Get Slice | O(k) |\n",
    "| Del Slice | O(n) |\n",
    "| Set Slice | O(n+k) |\n",
    "| Sort | O(n log n) |\n",
    "| Multiply | O(nk) |"
   ]
  }
 ],
 "metadata": {
  "kernelspec": {
   "display_name": "Python 3.10.5 64-bit",
   "language": "python",
   "name": "python3"
  },
  "language_info": {
   "name": "python",
   "version": "3.10.7"
  },
  "orig_nbformat": 4,
  "vscode": {
   "interpreter": {
    "hash": "f4c85645bce20c702a4ecae1b93c6759c482279d1c3b7e99a0246a20b7629f3f"
   }
  }
 },
 "nbformat": 4,
 "nbformat_minor": 2
}
