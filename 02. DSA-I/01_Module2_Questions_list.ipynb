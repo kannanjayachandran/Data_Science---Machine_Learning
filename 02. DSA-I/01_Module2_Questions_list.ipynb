{
 "cells": [
  {
   "cell_type": "markdown",
   "metadata": {},
   "source": [
    "# <span style=\"color:#FEC260\">Topics Covered in this Module</span>"
   ]
  },
  {
   "attachments": {},
   "cell_type": "markdown",
   "metadata": {},
   "source": [
    "### Arrays\n",
    "\n",
    "* Introduction to Arrays and Python List\n",
    "* Array traversal techniques {linear, reverse, indexed, two-pointer, and diagonal traversal}\n",
    "* Prefix and Postfix sums and arrays, Max and Min operations\n",
    "* Array rotation\n",
    "* Array Searching and Sorting\n",
    "* Sliding Window and Two Pointer Technique\n",
    "* Sub-array, Subsequence and Subset\n",
    "* Matrix or 2D Array"
   ]
  }
 ],
 "metadata": {
  "kernelspec": {
   "display_name": "Python 3.10.5 64-bit",
   "language": "python",
   "name": "python3"
  },
  "language_info": {
   "name": "python",
   "version": "3.10.7"
  },
  "orig_nbformat": 4,
  "vscode": {
   "interpreter": {
    "hash": "f4c85645bce20c702a4ecae1b93c6759c482279d1c3b7e99a0246a20b7629f3f"
   }
  }
 },
 "nbformat": 4,
 "nbformat_minor": 2
}
