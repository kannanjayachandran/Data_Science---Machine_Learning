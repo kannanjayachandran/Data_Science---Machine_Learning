{
 "cells": [
  {
   "cell_type": "markdown",
   "metadata": {},
   "source": [
    "# <span style=\"color:#FEC260\">DSA Mathematics</span> ~ Problem set"
   ]
  },
  {
   "cell_type": "markdown",
   "metadata": {},
   "source": [
    "**1. Prime Numbers**"
   ]
  },
  {
   "cell_type": "code",
   "execution_count": null,
   "metadata": {},
   "outputs": [],
   "source": [
    "def isPrime(num: int) -> bool:\n",
    "\n",
    "    if num <= 1: return False\n",
    "    if num == 2 or num == 3: return True\n",
    "    if num % 2 == 0 or num % 3 == 0: return False\n",
    "\n",
    "    i = 5\n",
    "    while i*i <= num:\n",
    "        if num % i  == 0 or num+2 % i == 0:\n",
    "            return False\n",
    "        i += 6\n",
    "    \n",
    "    return True"
   ]
  },
  {
   "cell_type": "code",
   "execution_count": null,
   "metadata": {},
   "outputs": [],
   "source": [
    "isPrime(17)"
   ]
  },
  {
   "cell_type": "markdown",
   "metadata": {},
   "source": [
    "**2. Prime in a range (Sieve method)**"
   ]
  },
  {
   "cell_type": "code",
   "execution_count": null,
   "metadata": {},
   "outputs": [],
   "source": [
    "def primeRange(num: int) -> list[int]:\n",
    "\n",
    "    ans = []\n",
    "    sieve = ['True'] * (num+1)\n",
    "    sieve[0], sieve[1] = False, False\n",
    "\n",
    "    i = 2\n",
    "    while i*i <= num:\n",
    "        if sieve[i]:\n",
    "           j = i*i\n",
    "           while j <= num: \n",
    "                sieve[j] = False\n",
    "                j += i\n",
    "        i += 1\n",
    "    \n",
    "    for i in range(len(sieve)):\n",
    "        if sieve[i]:\n",
    "            ans.append(i)\n",
    "\n",
    "    return ans"
   ]
  },
  {
   "cell_type": "code",
   "execution_count": null,
   "metadata": {},
   "outputs": [],
   "source": [
    "primeRange(20)"
   ]
  },
  {
   "cell_type": "markdown",
   "metadata": {},
   "source": [
    "**3. Square root**"
   ]
  },
  {
   "cell_type": "code",
   "execution_count": null,
   "metadata": {},
   "outputs": [],
   "source": [
    "# using binary search, no decimal part\n",
    "def squareRoot(num: int) -> int: \n",
    "    if num == 0: return 0\n",
    "    if num == 1: return 1\n",
    "\n",
    "    start = 0\n",
    "    end = num\n",
    "\n",
    "    while start <= end:\n",
    "        mid = start + (end-start) // 2\n",
    "        if mid*mid == num:\n",
    "            return mid\n",
    "        if mid*mid > num:\n",
    "            end = mid-1\n",
    "        else:\n",
    "            start = mid+1\n",
    "    return end"
   ]
  },
  {
   "cell_type": "code",
   "execution_count": null,
   "metadata": {},
   "outputs": [],
   "source": [
    "# using binary search, with decimal part\n",
    "def squareRoot2(num: int, precision: int) -> float: \n",
    "    if num == 0: return 0\n",
    "    if num == 1: return 1\n",
    "\n",
    "    start = 0\n",
    "    end = num\n",
    "    ans = 0.0\n",
    "\n",
    "    while start <= end:\n",
    "        mid = start + (end-start) // 2\n",
    "        if mid*mid == num:\n",
    "            return mid\n",
    "        if mid*mid > num:\n",
    "            end = mid-1\n",
    "        else:\n",
    "            start = mid+1\n",
    "\n",
    "    ans = end\n",
    "    increment = 0.1\n",
    "    for i in range(precision):\n",
    "        while  ans*ans <= num:\n",
    "            ans += increment\n",
    "        ans -= increment\n",
    "        increment /= 10\n",
    "\n",
    "    return ans"
   ]
  },
  {
   "cell_type": "code",
   "execution_count": null,
   "metadata": {},
   "outputs": [],
   "source": [
    "print(squareRoot(90))\n",
    "print(f'{squareRoot2(90, 3):.3f}')"
   ]
  }
 ],
 "metadata": {
  "kernelspec": {
   "display_name": "ML",
   "language": "python",
   "name": "python3"
  },
  "language_info": {
   "codemirror_mode": {
    "name": "ipython",
    "version": 3
   },
   "file_extension": ".py",
   "mimetype": "text/x-python",
   "name": "python",
   "nbconvert_exporter": "python",
   "pygments_lexer": "ipython3",
   "version": "3.11.4"
  },
  "orig_nbformat": 4
 },
 "nbformat": 4,
 "nbformat_minor": 2
}
