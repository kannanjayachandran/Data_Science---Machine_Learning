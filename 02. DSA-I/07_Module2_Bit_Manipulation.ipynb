{
 "cells": [
  {
   "attachments": {},
   "cell_type": "markdown",
   "metadata": {},
   "source": [
    "## <span style=\"color:#FEC260\">Bit manipulation </span>"
   ]
  },
  {
   "attachments": {},
   "cell_type": "markdown",
   "metadata": {},
   "source": [
    "### Decimal to Binary conversion\n",
    "\n",
    "- One-liner"
   ]
  },
  {
   "cell_type": "code",
   "execution_count": null,
   "metadata": {},
   "outputs": [],
   "source": [
    "print(bin(29)[2:])"
   ]
  },
  {
   "attachments": {},
   "cell_type": "markdown",
   "metadata": {},
   "source": [
    "- Custom function"
   ]
  },
  {
   "cell_type": "code",
   "execution_count": null,
   "metadata": {},
   "outputs": [],
   "source": [
    "num = 29\n",
    "\n",
    "if num > 0:\n",
    "    binary_num = []\n",
    "\n",
    "    while num > 0:\n",
    "        rem = num % 2\n",
    "        binary_num.append(str(rem))\n",
    "        num //= 2\n",
    "    binary_num.reverse()\n",
    "    binary_num = ''.join(binary_num)\n",
    "    print(binary_num)\n",
    "else:\n",
    "    print('0')\n"
   ]
  },
  {
   "attachments": {},
   "cell_type": "markdown",
   "metadata": {},
   "source": [
    "- Number of digits in binary representation\n",
    "\n",
    "**Formula**: $\\color{gold}log_2(n) + 1$\n",
    "\n",
    "where $\\color{gold}n$ is the number to be converted to binary"
   ]
  },
  {
   "cell_type": "code",
   "execution_count": null,
   "metadata": {},
   "outputs": [],
   "source": [
    "import math\n",
    "\n",
    "num = 29\n",
    "num_digits = int(math.log2(num) + 1)\n",
    "num_digits"
   ]
  },
  {
   "attachments": {},
   "cell_type": "markdown",
   "metadata": {},
   "source": [
    "### Binary to Decimal\n",
    "\n",
    "- One-liner to \n",
    "\n",
    "```python\n",
    "int(value, base)\n",
    "```"
   ]
  },
  {
   "cell_type": "code",
   "execution_count": 24,
   "metadata": {},
   "outputs": [
    {
     "data": {
      "text/plain": [
       "29"
      ]
     },
     "execution_count": 24,
     "metadata": {},
     "output_type": "execute_result"
    }
   ],
   "source": [
    "int('11101', 2)"
   ]
  },
  {
   "attachments": {},
   "cell_type": "markdown",
   "metadata": {},
   "source": [
    "- Custom function"
   ]
  },
  {
   "cell_type": "code",
   "execution_count": 1,
   "metadata": {},
   "outputs": [
    {
     "name": "stdout",
     "output_type": "stream",
     "text": [
      "29\n"
     ]
    }
   ],
   "source": [
    "binary_num = '11101'\n",
    "\n",
    "decimal = 0\n",
    "power = 0\n",
    "\n",
    "for digit in reversed(binary_num):\n",
    "    decimal += int(digit) * (2 ** power)\n",
    "    power += 1\n",
    "print(decimal)"
   ]
  },
  {
   "attachments": {},
   "cell_type": "markdown",
   "metadata": {},
   "source": [
    "### Questions\n",
    "\n",
    "1. Count the number of set bits in a number"
   ]
  },
  {
   "cell_type": "code",
   "execution_count": 6,
   "metadata": {},
   "outputs": [
    {
     "name": "stdout",
     "output_type": "stream",
     "text": [
      "The number: 181\n",
      "Binary representation: 10110101\n",
      "No: of set bits: 5\n"
     ]
    }
   ],
   "source": [
    "# approach 1\n",
    "\n",
    "num = 181\n",
    "bin_rep = bin(num)[2:]\n",
    "count = 0\n",
    "for bit in bin_rep:\n",
    "    if bit == \"1\":\n",
    "        count+=1\n",
    "    \n",
    "print(f'The number: {num}\\nBinary representation: {bin_rep}\\nNo: of set bits: {count}')"
   ]
  },
  {
   "cell_type": "code",
   "execution_count": 7,
   "metadata": {},
   "outputs": [
    {
     "name": "stdout",
     "output_type": "stream",
     "text": [
      "The number: 0\n",
      "Binary representation: 1001001\n",
      "No: of set bits: 3\n"
     ]
    }
   ],
   "source": [
    "# approach 2 : Brian Kernighan's Algorithm\n",
    "\n",
    "num = 73\n",
    "count = 0\n",
    "\n",
    "bin_rep = bin(num)[2:]\n",
    "\n",
    "while num > 0:\n",
    "    num &= num-1\n",
    "    count += 1\n",
    "print(f'The number: {num}\\nBinary representation: {bin_rep}\\nNo: of set bits: {count}')"
   ]
  },
  {
   "cell_type": "code",
   "execution_count": null,
   "metadata": {},
   "outputs": [],
   "source": []
  }
 ],
 "metadata": {
  "kernelspec": {
   "display_name": "base",
   "language": "python",
   "name": "python3"
  },
  "language_info": {
   "codemirror_mode": {
    "name": "ipython",
    "version": 3
   },
   "file_extension": ".py",
   "mimetype": "text/x-python",
   "name": "python",
   "nbconvert_exporter": "python",
   "pygments_lexer": "ipython3",
   "version": "3.9.16"
  },
  "orig_nbformat": 4
 },
 "nbformat": 4,
 "nbformat_minor": 2
}
