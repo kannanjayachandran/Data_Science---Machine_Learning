{
 "cells": [
  {
   "attachments": {},
   "cell_type": "markdown",
   "metadata": {},
   "source": [
    "# Coursera ~ Linear Algebra for ML\n",
    "\n",
    "## Week 1\n",
    "\n",
    "[Course Link](https://www.coursera.org/learn/machine-learning-linear-algebra)"
   ]
  },
  {
   "cell_type": "code",
   "execution_count": 1,
   "metadata": {},
   "outputs": [],
   "source": [
    "# importing deps/libraries\n",
    "\n",
    "import numpy as np"
   ]
  },
  {
   "attachments": {},
   "cell_type": "markdown",
   "metadata": {},
   "source": [
    "**Introductory Question**\n",
    "\n",
    "1. Bob has a mixture of apples and oranges of the same size, which he split into two bags. The first bag contains 4 apples and 3 oranges and weighs 700g. The second bag contains 2 apples and 6 oranges and weighs 1000g. \n",
    "\n",
    "  Translate the following description into a system of linear equations.\n",
    "\n",
    "Ans: $4a + 3o = 700$ and $2a + 6o = 1000$\n",
    "\n",
    "2. Translate the following system of linear equations into the matrix form:\n",
    "\n",
    "$$5x+3y+5z=6\\\\7x+2y+8z=17\\\\4x+3z=8$$\n",
    "\n",
    "  Ans: $ \\begin{bmatrix} 5 & 3 & 5 &\\\\ 7 & 2 & 8 \\\\ 0 & 4 & 3 \\end{bmatrix} \\hspace{1em} \\begin{bmatrix}  x\\\\y\\\\z \\end{bmatrix} \\hspace{1em}=\\hspace{1em} \\begin{bmatrix} 6 \\\\ 17 \\\\ 8\\end{bmatrix}$\n",
    "\n",
    "\n",
    "\n",
    "3. Compute the determinant of the following matrix.\n",
    "\n",
    "```py\n",
    "  X = [\n",
    "    [1, 2, 1],\n",
    "    [0, 3, 5], \n",
    "    [4, 3, 8]\n",
    "  ]\n",
    "```"
   ]
  },
  {
   "cell_type": "code",
   "execution_count": 2,
   "metadata": {},
   "outputs": [
    {
     "name": "stdout",
     "output_type": "stream",
     "text": [
      "Determinant of the matrix:\n",
      " [[1 2 1]\n",
      " [0 3 5]\n",
      " [4 3 8]] = 37.00\n"
     ]
    }
   ],
   "source": [
    "x = np.array([\n",
    "    [1, 2, 1],\n",
    "    [0, 3, 5], \n",
    "    [4, 3, 8]\n",
    "  ])\n",
    "\n",
    "det_x = np.linalg.det(x)\n",
    "\n",
    "print(f'Determinant of the matrix:\\n {x} = {det_x:.2f}')"
   ]
  },
  {
   "attachments": {},
   "cell_type": "markdown",
   "metadata": {},
   "source": [
    "## Determinant of a matrix\n",
    "\n",
    "Determinant of a matrix is a special value which tells us some important properties of the matrix, like; \n",
    "\n",
    "  - If the matrix has inverse or not.\n",
    "  - Solving systems of linear equations.\n",
    "\n",
    "**Calculating the determinant of a 2x2 matrix** : $det(X) = ad-bc$ where; \n",
    "$$ X= \\begin{bmatrix} a & b \\\\ c & d\\end{bmatrix}$$\n",
    "\n",
    "> For a larger matrix we can find the determinant using a process called Co-factor expansion; which involves choosing a row or column and calculating the determinants of smaller matrices called cofactors. This process can be recursive, meaning you keep calculating determinants of smaller matrices until you reach a 2x2 matrix that you can solve using the formula above\n",
    "\n",
    "**Note**\n",
    "\n",
    "- All matrices have a determinant. Only square matrices have determinant. \n",
    "\n",
    "- If the determinant is zero, the matrix is said to be singular, and it does not have an inverse.\n",
    "\n",
    "```py\n",
    "numpy.linalg.det() \n",
    "```"
   ]
  },
  {
   "attachments": {},
   "cell_type": "markdown",
   "metadata": {},
   "source": [
    "## Slope \n",
    "\n",
    "Slope is a measure of how steep a line is. It is defined as the change in the `y-coordinate` (vertical change) divided by the change in the `x-coordinate` (horizontal change) between any two points on the line. \n",
    "$$Slope = \\frac{rise}{run}$$\n",
    "\n",
    "**In simple terms it tells us how many units the line moves down for every unit we moves to the right**\n",
    "\n",
    "### Note\n",
    "\n",
    "- If a system of linear equations has a unique solution; then they are complete and non-singular.\n",
    "\n",
    "- If a system of linear equation has infinite solutions; it is redundant and singular.\n",
    "\n",
    "- if the system of linear equation has no solution; it is called Contradictory and singular.\n",
    "\n",
    "The constants in the system of equation are not important in determining whether the system is singular or not.\n",
    "\n"
   ]
  },
  {
   "attachments": {},
   "cell_type": "markdown",
   "metadata": {},
   "source": []
  }
 ],
 "metadata": {
  "kernelspec": {
   "display_name": "ML",
   "language": "python",
   "name": "ml"
  },
  "language_info": {
   "codemirror_mode": {
    "name": "ipython",
    "version": 3
   },
   "file_extension": ".py",
   "mimetype": "text/x-python",
   "name": "python",
   "nbconvert_exporter": "python",
   "pygments_lexer": "ipython3",
   "version": "3.10.10"
  },
  "orig_nbformat": 4
 },
 "nbformat": 4,
 "nbformat_minor": 2
}
