{
 "cells": [
  {
   "attachments": {},
   "cell_type": "markdown",
   "metadata": {},
   "source": [
    "<h1 align=\"center\" style=\"color:orange;\"> Linear Algebra </h1>"
   ]
  },
  {
   "cell_type": "code",
   "execution_count": 1,
   "metadata": {},
   "outputs": [],
   "source": [
    "import numpy as np\n",
    "from math import inf\n",
    "from scipy.sparse import csr_matrix"
   ]
  },
  {
   "cell_type": "markdown",
   "metadata": {},
   "source": [
    "### Vector norms"
   ]
  },
  {
   "cell_type": "code",
   "execution_count": 2,
   "metadata": {},
   "outputs": [
    {
     "name": "stdout",
     "output_type": "stream",
     "text": [
      "L1 norm :  28.0\n",
      "L2 norm :  11.832159566199232\n",
      "L max norm :  7.0\n"
     ]
    }
   ],
   "source": [
    "a0 = np.array((1, 2, 3, 4, 5, 6, 7))\n",
    "l1 = np.linalg.norm(a0, 1)\n",
    "print('L1 norm : ', l1)\n",
    "\n",
    "l2 = np.linalg.norm(a0)\n",
    "print('L2 norm : ', l2)\n",
    "\n",
    "l_inf = np.linalg.norm(a0, math.inf)\n",
    "print('L max norm : ', l_inf)"
   ]
  },
  {
   "cell_type": "markdown",
   "metadata": {},
   "source": [
    "### Matrices"
   ]
  },
  {
   "cell_type": "code",
   "execution_count": 15,
   "metadata": {},
   "outputs": [
    {
     "name": "stdout",
     "output_type": "stream",
     "text": [
      "Original matrix (a1) : \n",
      " [[ 1  2  3  4]\n",
      " [ 5  6  7  8]\n",
      " [ 9 10 11 12]\n",
      " [13 14 15 16]]\n",
      "\n",
      "Transpose fo the matrix : \n",
      " [[ 1  5  9 13]\n",
      " [ 2  6 10 14]\n",
      " [ 3  7 11 15]\n",
      " [ 4  8 12 16]]\n",
      "\n",
      "Determinant of \n",
      "[[ 1  2  3  4]\n",
      " [ 5  6  7  8]\n",
      " [ 9 10 11 12]\n",
      " [13 14 15 16]]\n",
      "=4.7331654313261276e-30\n",
      "\n",
      "Trace of matrix :  34\n",
      "\n",
      "Rank of the matrix :  2\n",
      "\n",
      "Inverse of the matrix :  [[ 3.94064967e+15 -4.50359963e+15 -2.81474977e+15  3.37769972e+15]\n",
      " [-4.12829966e+15  4.50359963e+15  3.37769972e+15 -3.75299969e+15]\n",
      " [-3.56534971e+15  4.50359963e+15  1.68884986e+15 -2.62709978e+15]\n",
      " [ 3.75299969e+15 -4.50359963e+15 -2.25179981e+15  3.00239975e+15]]\n",
      "\n",
      "Eigen value : [ 3.62093727e+01 -2.20937271e+00  2.80575969e-16 -8.29646454e-16]\n",
      "\n",
      "Eigen vector : [[-0.15115432 -0.72704996 -0.01128698 -0.250341  ]\n",
      " [-0.34923733 -0.28320876  0.42321091  0.69689908]\n",
      " [-0.54732033  0.16063243 -0.81256087 -0.64277516]\n",
      " [-0.74540333  0.60447363  0.40063694  0.19621708]]\n",
      "\n",
      "\n",
      "Original matrix : \n",
      "[[0 0 1 0 0 0 0 1 0 0]\n",
      " [1 0 0 0 1 0 0 0 0 0]\n",
      " [1 0 0 0 0 0 0 0 0 1]\n",
      " [1 1 0 0 0 0 0 0 0 1]]\n",
      "\n",
      "Sparse matrix : \n",
      "  (0, 2)\t1\n",
      "  (0, 7)\t1\n",
      "  (1, 0)\t1\n",
      "  (1, 4)\t1\n",
      "  (2, 0)\t1\n",
      "  (2, 9)\t1\n",
      "  (3, 0)\t1\n",
      "  (3, 1)\t1\n",
      "  (3, 9)\t1\n",
      "\n",
      "Dense matrix : \n",
      "[[0 0 1 0 0 0 0 1 0 0]\n",
      " [1 0 0 0 1 0 0 0 0 0]\n",
      " [1 0 0 0 0 0 0 0 0 1]\n",
      " [1 1 0 0 0 0 0 0 0 1]]\n",
      "\n",
      "Sparsity score : 0.775 or 77.5 %\n"
     ]
    }
   ],
   "source": [
    "a1 = np.arange(1, 17).reshape((4, 4))\n",
    "print(\"Original matrix (a1) : \\n\", a1)\n",
    "\n",
    "# transpose\n",
    "print(\"\\nTranspose fo the matrix : \\n\", a1.T)\n",
    "\n",
    "# determinant\n",
    "determinant = np.linalg.det(a1)\n",
    "print(f\"\\nDeterminant of \\n{a1}\\n={determinant}\")\n",
    "\n",
    "# trace\n",
    "print(\"\\nTrace of matrix : \", a1.trace())\n",
    "\n",
    "# rank \n",
    "print(\"\\nRank of the matrix : \", np.linalg.matrix_rank(a1))\n",
    "\n",
    "# inverse\n",
    "print(\"\\nInverse of the matrix : \", np.linalg.inv(a1))\n",
    "\n",
    "# eigen value, eigen vector\n",
    "eigen_value, eigen_vector = np.linalg.eig(a1)\n",
    "print(f'\\nEigen value : {eigen_value}\\n\\nEigen vector : {eigen_vector}')\n",
    "\n",
    "# Sparse matrix\n",
    "a2 = np.array([\n",
    "    [0, 0, 1, 0, 0, 0, 0, 1, 0, 0],\n",
    "    [1, 0, 0, 0, 1, 0, 0, 0, 0, 0],\n",
    "    [1, 0, 0, 0, 0, 0, 0, 0, 0, 1],\n",
    "    [1, 1, 0, 0, 0, 0, 0, 0, 0, 1]\n",
    "])\n",
    "\n",
    "sparse_matrix = csr_matrix(a2)\n",
    "dense_matrix = sparse_matrix.todense()\n",
    "\n",
    "print(f'\\n\\nOriginal matrix : \\n{a2}\\n\\nSparse matrix : \\n{sparse_matrix}\\n\\nDense matrix : \\n{dense_matrix}')\n",
    "\n",
    "sparsity_score = 1 - np.count_nonzero(a2) / a2.size\n",
    "print(f'\\nSparsity score : {sparsity_score} or {sparsity_score*100} %')"
   ]
  },
  {
   "cell_type": "markdown",
   "metadata": {},
   "source": [
    "### Tensor Operations"
   ]
  },
  {
   "cell_type": "code",
   "execution_count": 14,
   "metadata": {},
   "outputs": [
    {
     "name": "stdout",
     "output_type": "stream",
     "text": [
      "Original matrix : \n",
      "[[0 0 1 0 0 0 0 1 0 0]\n",
      " [1 0 0 0 1 0 0 0 0 0]\n",
      " [1 0 0 0 0 0 0 0 0 1]\n",
      " [1 1 0 0 0 0 0 0 0 1]]\n",
      "\n",
      "Sparse matrix : \n",
      "  (0, 2)\t1\n",
      "  (0, 7)\t1\n",
      "  (1, 0)\t1\n",
      "  (1, 4)\t1\n",
      "  (2, 0)\t1\n",
      "  (2, 9)\t1\n",
      "  (3, 0)\t1\n",
      "  (3, 1)\t1\n",
      "  (3, 9)\t1\n",
      "\n",
      "Dense matrix : \n",
      "[[0 0 1 0 0 0 0 1 0 0]\n",
      " [1 0 0 0 1 0 0 0 0 0]\n",
      " [1 0 0 0 0 0 0 0 0 1]\n",
      " [1 1 0 0 0 0 0 0 0 1]]\n",
      "\n",
      "Sparsity score : 0.775 or 77.5 %\n",
      "\n",
      "Tensor dot product of a3 : [2 5] and a4 [1 3] is\n",
      "[[ 2  6]\n",
      " [ 5 15]]\n"
     ]
    }
   ],
   "source": [
    "# tensor dot product\n",
    "# a3 = np.arange(1, 25).reshape(2, 4, 3)\n",
    "# a4 = np.arange(25, 49).reshape(2, 4, 3)\n",
    "\n",
    "# tensor_dot_prod = np.tensordot(a3, a4, axes=0)\n",
    "# print(f'Tensor dot product of a3\\n{a3}\\nand a4\\n{a4}\\nis\\n{tensor_dot_prod}')\n",
    "\n",
    "a5 = np.array((2, 5))\n",
    "a6 = np.array((1, 3))\n",
    "\n",
    "tensor_dot_product = np.tensordot(a5, a6, axes=0)\n",
    "print(f'\\nTensor dot product of a3 : {a5} and a4 {a6} is\\n{tensor_dot_product}')"
   ]
  },
  {
   "cell_type": "code",
   "execution_count": 23,
   "metadata": {},
   "outputs": [
    {
     "name": "stdout",
     "output_type": "stream",
     "text": [
      "Solution :  [[-17. -18. -27.]\n",
      " [ 26.  27.  44.]\n",
      " [ -8.  -8. -16.]]\n",
      "\n",
      "Is the solution correct :  True\n",
      "\n",
      "Inner product : [[18]]\n"
     ]
    }
   ],
   "source": [
    "# solve matrix (system of linear equation)\n",
    "a7 = np.arange(1, 10).reshape((3, 3))\n",
    "a8 = np.arange(11, 20).reshape((3, 3))\n",
    "\n",
    "a9 = np.linalg.solve(a7, a8)\n",
    "\n",
    "print(\"Solution : \", a9)\n",
    "print('\\nIs the solution correct : ', np.allclose(np.dot(a7, a9), a8))\n",
    "\n",
    "# inner product\n",
    "a10 = np.array([[1], [2], [3]])\n",
    "a11 = np.array([[-1], [2], [5]])\n",
    "\n",
    "print(f'\\nInner product : {np.dot(np.transpose(a10), a11)}')"
   ]
  }
 ],
 "metadata": {
  "kernelspec": {
   "display_name": "ML",
   "language": "python",
   "name": "python3"
  },
  "language_info": {
   "codemirror_mode": {
    "name": "ipython",
    "version": 3
   },
   "file_extension": ".py",
   "mimetype": "text/x-python",
   "name": "python",
   "nbconvert_exporter": "python",
   "pygments_lexer": "ipython3",
   "version": "3.11.5"
  },
  "orig_nbformat": 4
 },
 "nbformat": 4,
 "nbformat_minor": 2
}
