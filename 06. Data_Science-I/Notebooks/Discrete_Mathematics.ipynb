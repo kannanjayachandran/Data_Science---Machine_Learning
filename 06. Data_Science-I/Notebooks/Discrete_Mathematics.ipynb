{
 "cells": [
  {
   "cell_type": "markdown",
   "metadata": {},
   "source": [
    "<h1 align=\"center\" style=\"color:orange;\"> Discrete Mathematics </h1>\n",
    "\n",
    "### Combinatorics"
   ]
  },
  {
   "cell_type": "code",
   "execution_count": 5,
   "metadata": {},
   "outputs": [],
   "source": [
    "from itertools import permutations, combinations\n",
    "from scipy.special import factorial"
   ]
  },
  {
   "cell_type": "code",
   "execution_count": 3,
   "metadata": {},
   "outputs": [
    {
     "name": "stdout",
     "output_type": "stream",
     "text": [
      "permutations : [('Python', 'Biology', 'Mathematics'), ('Python', 'Biology', 'Physics'), ('Python', 'Mathematics', 'Biology'), ('Python', 'Mathematics', 'Physics'), ('Python', 'Physics', 'Biology'), ('Python', 'Physics', 'Mathematics'), ('Biology', 'Python', 'Mathematics'), ('Biology', 'Python', 'Physics'), ('Biology', 'Mathematics', 'Python'), ('Biology', 'Mathematics', 'Physics'), ('Biology', 'Physics', 'Python'), ('Biology', 'Physics', 'Mathematics'), ('Mathematics', 'Python', 'Biology'), ('Mathematics', 'Python', 'Physics'), ('Mathematics', 'Biology', 'Python'), ('Mathematics', 'Biology', 'Physics'), ('Mathematics', 'Physics', 'Python'), ('Mathematics', 'Physics', 'Biology'), ('Physics', 'Python', 'Biology'), ('Physics', 'Python', 'Mathematics'), ('Physics', 'Biology', 'Python'), ('Physics', 'Biology', 'Mathematics'), ('Physics', 'Mathematics', 'Python'), ('Physics', 'Mathematics', 'Biology')]\n",
      "\n",
      " Count : 24\n"
     ]
    }
   ],
   "source": [
    "# How many combinations of 2 subjects from the list\n",
    "subjects = ( 'Python', 'Biology', 'Mathematics', 'Physics' )\n",
    "arrangements = list(permutations(subjects, 3))\n",
    "print(f\"permutations : {arrangements}\\n\\n Count : {len(arrangements)}\")"
   ]
  },
  {
   "cell_type": "code",
   "execution_count": 4,
   "metadata": {},
   "outputs": [
    {
     "name": "stdout",
     "output_type": "stream",
     "text": [
      "combinations : [('Python', 'Biology', 'Mathematics'), ('Python', 'Biology', 'Physics'), ('Python', 'Mathematics', 'Physics'), ('Biology', 'Mathematics', 'Physics')]\n",
      "\n",
      "Count : 4\n"
     ]
    }
   ],
   "source": [
    "comb = list(combinations(subjects, 3))\n",
    "print(f'combinations : {comb}\\n\\nCount : {len(comb)}')"
   ]
  },
  {
   "cell_type": "code",
   "execution_count": 6,
   "metadata": {},
   "outputs": [
    {
     "name": "stdout",
     "output_type": "stream",
     "text": [
      "factorial of 10 : 3628800.0\n",
      "62990928000.000015\n"
     ]
    }
   ],
   "source": [
    "# factorial \n",
    "print(f'factorial of 10 : {factorial(10)}')\n",
    "n = 26\n",
    "k = 8\n",
    "print(factorial(n)/factorial(n-k))"
   ]
  }
 ],
 "metadata": {
  "kernelspec": {
   "display_name": "ML",
   "language": "python",
   "name": "python3"
  },
  "language_info": {
   "codemirror_mode": {
    "name": "ipython",
    "version": 3
   },
   "file_extension": ".py",
   "mimetype": "text/x-python",
   "name": "python",
   "nbconvert_exporter": "python",
   "pygments_lexer": "ipython3",
   "version": "3.11.5"
  }
 },
 "nbformat": 4,
 "nbformat_minor": 2
}
