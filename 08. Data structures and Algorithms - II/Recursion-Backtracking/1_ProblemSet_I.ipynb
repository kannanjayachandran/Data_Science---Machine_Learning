{
 "cells": [
  {
   "cell_type": "markdown",
   "metadata": {},
   "source": [
    "<h1 align=\"center\" style=\"color: orange\"> Recursion </h1>"
   ]
  },
  {
   "cell_type": "markdown",
   "metadata": {
    "vscode": {
     "languageId": "plaintext"
    }
   },
   "source": [
    "**Q1 Fibonacci series { Two branch recursion }**"
   ]
  },
  {
   "cell_type": "code",
   "execution_count": 5,
   "metadata": {},
   "outputs": [],
   "source": [
    "def fib(n: int) -> int:\n",
    "    if n <= 1:\n",
    "        return n\n",
    "    else: \n",
    "        return fib(n-1) + fib(n-2)"
   ]
  },
  {
   "cell_type": "code",
   "execution_count": 6,
   "metadata": {},
   "outputs": [
    {
     "data": {
      "text/plain": [
       "55"
      ]
     },
     "execution_count": 6,
     "metadata": {},
     "output_type": "execute_result"
    }
   ],
   "source": [
    "fib(10)"
   ]
  },
  {
   "cell_type": "markdown",
   "metadata": {},
   "source": [
    "**Q2 Factorial using recursion { Single branch recursion }**"
   ]
  },
  {
   "cell_type": "code",
   "execution_count": 1,
   "metadata": {},
   "outputs": [],
   "source": [
    "def facto(num: int) -> int:\n",
    "    if num <= 1:\n",
    "        return 1\n",
    "    return num * facto(num-1)"
   ]
  },
  {
   "cell_type": "code",
   "execution_count": 2,
   "metadata": {},
   "outputs": [
    {
     "data": {
      "text/plain": [
       "120"
      ]
     },
     "execution_count": 2,
     "metadata": {},
     "output_type": "execute_result"
    }
   ],
   "source": [
    "facto(5)"
   ]
  },
  {
   "cell_type": "markdown",
   "metadata": {},
   "source": [
    "**Q3 Tower of Hanoi**"
   ]
  },
  {
   "cell_type": "code",
   "execution_count": 1,
   "metadata": {},
   "outputs": [
    {
     "name": "stdout",
     "output_type": "stream",
     "text": [
      "Move disk from A to C\n",
      "Move disk from A to B\n",
      "Move disk from C to B\n",
      "Move disk from A to C\n",
      "Move disk from B to A\n",
      "Move disk from B to C\n",
      "Move disk from A to C\n",
      "Move disk from A to B\n",
      "Move disk from C to B\n",
      "Move disk from C to A\n",
      "Move disk from B to A\n",
      "Move disk from C to B\n",
      "Move disk from A to C\n",
      "Move disk from A to B\n",
      "Move disk from C to B\n"
     ]
    }
   ],
   "source": [
    "def hanoi(n, source, destination, helper):\n",
    "    \n",
    "    if n == 1:\n",
    "        print(f'Move disk from {source} to {destination}')\n",
    "        return\n",
    "\n",
    "    hanoi(n-1, source, helper, destination)\n",
    "    print(f'Move disk from {source} to {destination}')\n",
    "\n",
    "    hanoi(n-1, helper, destination, source)\n",
    "\n",
    "hanoi(4,'A','B','C')"
   ]
  },
  {
   "cell_type": "markdown",
   "metadata": {},
   "source": [
    "**4. Binary search using recursion**"
   ]
  },
  {
   "cell_type": "code",
   "execution_count": 5,
   "metadata": {},
   "outputs": [],
   "source": [
    "def bs(arr: list[int], start: int, end: int, val: int,) -> int:\n",
    "\n",
    "    # base case\n",
    "    if start > end:\n",
    "        return -1\n",
    "\n",
    "    mid = start + (end-start) // 2\n",
    "    if arr[mid] == val:\n",
    "        return mid\n",
    "    if arr[mid] > val:\n",
    "        return bs(arr, start, mid-1, val)\n",
    "    else:\n",
    "        return bs(arr, mid+1, end, val)"
   ]
  },
  {
   "cell_type": "code",
   "execution_count": 6,
   "metadata": {},
   "outputs": [
    {
     "data": {
      "text/plain": [
       "4"
      ]
     },
     "execution_count": 6,
     "metadata": {},
     "output_type": "execute_result"
    }
   ],
   "source": [
    "bs([1, 3, 5, 7, 100], 0, 5, 100)"
   ]
  },
  {
   "cell_type": "markdown",
   "metadata": {},
   "source": [
    "**5. Given a string, remove the argument letter**"
   ]
  },
  {
   "cell_type": "code",
   "execution_count": 7,
   "metadata": {},
   "outputs": [],
   "source": [
    "def remove_char(input_str: str, char_to_remove: str) -> str:\n",
    "\n",
    "    # base case\n",
    "    if not input_str:\n",
    "        return input_str\n",
    "    \n",
    "    # skip if char to remove is present\n",
    "    if input_str[0] == char_to_remove:\n",
    "        return remove_char(input_str[1:], char_to_remove)\n",
    "    else:\n",
    "        return input_str[0] + remove_char(input_str[1:], char_to_remove)"
   ]
  },
  {
   "cell_type": "code",
   "execution_count": 14,
   "metadata": {},
   "outputs": [
    {
     "data": {
      "text/plain": [
       "'Ths s a long strng to test'"
      ]
     },
     "execution_count": 14,
     "metadata": {},
     "output_type": "execute_result"
    }
   ],
   "source": [
    "remove_char(\"This is a long string to test\", \"i\")"
   ]
  },
  {
   "cell_type": "code",
   "execution_count": null,
   "metadata": {},
   "outputs": [],
   "source": []
  }
 ],
 "metadata": {
  "kernelspec": {
   "display_name": "ML",
   "language": "python",
   "name": "python3"
  },
  "language_info": {
   "codemirror_mode": {
    "name": "ipython",
    "version": 3
   },
   "file_extension": ".py",
   "mimetype": "text/x-python",
   "name": "python",
   "nbconvert_exporter": "python",
   "pygments_lexer": "ipython3",
   "version": "3.11.5"
  },
  "orig_nbformat": 4
 },
 "nbformat": 4,
 "nbformat_minor": 2
}
