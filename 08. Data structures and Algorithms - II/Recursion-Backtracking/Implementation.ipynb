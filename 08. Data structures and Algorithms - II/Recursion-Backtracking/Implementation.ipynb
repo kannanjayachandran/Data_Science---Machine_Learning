{
 "cells": [
  {
   "cell_type": "markdown",
   "metadata": {},
   "source": [
    "# <span style=\"color:#FEC260\">Backtracking</span> \n",
    "\n",
    "<!-- Remove theory from here -->\n",
    "\n",
    "Backtracking is an algorithmic-technique for solving problems recursively by trying to build a solution incrementally, one piece at a time, removing those solutions that fail to satisfy the constraints of the problem at any point of time. We generally employ backtracking when we have the following premises:\n",
    "\n",
    "1. We are searching for a solution in a search space.\n",
    "\n",
    "2. The problem is formulated in terms of choices.\n",
    "\n",
    "3. We need to make a sequence of choices to arrive at a solution.\n",
    "\n",
    "4. We need to backtrack when we hit a dead end.\n",
    "\n",
    "\n",
    "Backtracking is commonly used in various problem-solving domains, including:\n",
    "\n",
    "- **Combinatorial Problems**: Problems where you have to find a subset of elements that satisfy certain conditions. For example, finding the shortest path to visit all cities in a graph.\n",
    "\n",
    "- **Game Playing**: Backtracking can be used in games such as chess, sudoku, and many more. In such games, we try to find the best possible move for the current player, assuming that the opponent will also play optimally. Here, we can use backtracking to find the optimal move for the current player.\n",
    "\n",
    "- **Constraint Satisfaction Problems (CSP)** : Backtracking is the backbone of CSP solvers. In CSP, we try to find the solution by assigning values to variables while satisfying all the constraints. If we are not able to find a solution, we backtrack and change the previous assignment.\n",
    "\n",
    "- **Parsing and Searching**: Backtracking can be used in parsing expressions or searching through a state space for a solution.\n",
    "\n",
    "Let us understand backtracking with the following example.\n",
    "\n",
    "> In a binary tree, you have to determine if there exists a root to leaf path such that there are no zeros in the path.\n",
    "\n",
    "- Why use backtracking for this problem ? \n",
    "\n",
    "It's clear that while finding the path, we have to make a sequence of choices. We have to choose whether to go left or right at each node. We have to backtrack when we hit a dead end, finding a zero in the path. So, we can use backtracking to solve this problem."
   ]
  },
  {
   "cell_type": "code",
   "execution_count": null,
   "metadata": {},
   "outputs": [],
   "source": [
    "def can_reach_leaf(root):\n",
    "\n",
    "    # no root or got 0 as value for root\n",
    "    if not root and root.val == 0:\n",
    "        return False\n",
    "    \n",
    "    # did we reached a leaf node\n",
    "    if not root.left and not root.right:\n",
    "        return True\n",
    "    \n",
    "    # recursively checking the left and right sub-tree\n",
    "    if can_reach_leaf(root.left):\n",
    "        return True\n",
    "    if can_reach_leaf(root.right):\n",
    "        return False\n",
    "    \n",
    "    # We reached leaf node it is 0\n",
    "    return False"
   ]
  },
  {
   "cell_type": "markdown",
   "metadata": {},
   "source": [
    "Now instead of returning True or False, we can also return the path itself, this one situation where backtracking is truly powerful."
   ]
  },
  {
   "cell_type": "code",
   "execution_count": null,
   "metadata": {},
   "outputs": [],
   "source": [
    "path = []\n",
    "\n",
    "\n",
    "def leaf_path(root, path: list[int]):\n",
    "\n",
    "    if not root or root.val == 0:\n",
    "        return False\n",
    "    path.append(root.val)\n",
    "\n",
    "    if not root.left and not root.right:\n",
    "        return True\n",
    "    if leaf_path(root.left, path):\n",
    "        return True\n",
    "    if leaf_path(root.right, path):\n",
    "        return True\n",
    "    \n",
    "    path.pop() # backtrack\n",
    "\n",
    "    return False"
   ]
  }
 ],
 "metadata": {
  "kernelspec": {
   "display_name": "ML",
   "language": "python",
   "name": "python3"
  },
  "language_info": {
   "name": "python",
   "version": "3.11.5"
  },
  "orig_nbformat": 4
 },
 "nbformat": 4,
 "nbformat_minor": 2
}
