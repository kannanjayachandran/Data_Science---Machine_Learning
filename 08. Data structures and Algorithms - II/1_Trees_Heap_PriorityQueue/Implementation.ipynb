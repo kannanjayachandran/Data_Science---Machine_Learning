{
 "cells": [
  {
   "cell_type": "markdown",
   "metadata": {},
   "source": [
    "# <span style=\"color:#FEC260\">Trees</span> \n",
    "\n",
    "**Binary tree**"
   ]
  },
  {
   "cell_type": "code",
   "execution_count": 3,
   "metadata": {},
   "outputs": [],
   "source": [
    "class TreeNode:\n",
    "    def __init__(self, data):\n",
    "        self.data = data\n",
    "        self.left = None\n",
    "        self.right = None\n",
    "    \n",
    "    def insert(self, data):\n",
    "        if self.data:\n",
    "            if data < self.data:\n",
    "                if self.left is None:\n",
    "                    self.left = TreeNode(data)\n",
    "                else:\n",
    "                    self.left.insert(data)\n",
    "            elif data > self.data:\n",
    "                if self.right is None:\n",
    "                    self.right = TreeNode(data)\n",
    "                else:\n",
    "                    self.right.insert(data)\n",
    "        else:\n",
    "            self.data = TreeNode(data)\n",
    "\n",
    "    def print_tree(self):\n",
    "        if self.left:\n",
    "            self.left.print_tree()\n",
    "        print(self.data)\n",
    "        if self.right:\n",
    "            self.right.print_tree()"
   ]
  },
  {
   "cell_type": "code",
   "execution_count": 4,
   "metadata": {},
   "outputs": [
    {
     "name": "stdout",
     "output_type": "stream",
     "text": [
      "1\n",
      "2\n",
      "4\n",
      "6\n",
      "9\n",
      "12\n",
      "14\n",
      "15\n",
      "21\n",
      "30\n"
     ]
    }
   ],
   "source": [
    "btree = TreeNode(12)\n",
    "btree.insert(6)\n",
    "btree.insert(14)\n",
    "btree.insert(4)\n",
    "btree.insert(1)\n",
    "btree.insert(2)\n",
    "btree.insert(9)\n",
    "btree.insert(21)\n",
    "btree.insert(15)\n",
    "btree.insert(30)\n",
    "btree.print_tree()"
   ]
  },
  {
   "cell_type": "markdown",
   "metadata": {},
   "source": [
    "**Binary Search Tree {BST}**"
   ]
  },
  {
   "cell_type": "code",
   "execution_count": 18,
   "metadata": {},
   "outputs": [
    {
     "name": "stdout",
     "output_type": "stream",
     "text": [
      "True\n"
     ]
    }
   ],
   "source": [
    "# Binary search tree\n",
    "def search(root, target):\n",
    "    if not root:\n",
    "        return False\n",
    "    if root.data == target:\n",
    "        return True\n",
    "    if target < root.data:\n",
    "        return search(root.left, target)\n",
    "    else:\n",
    "        return search(root.right, target)\n",
    "    \n",
    "print(search(btree, 6))"
   ]
  },
  {
   "cell_type": "markdown",
   "metadata": {},
   "source": [
    "**Depth First Search [DFS]**\n",
    "\n",
    "When we do in-order traversal on BST, we get all nodes in ascending order (left -> root -> right)\n",
    "\n",
    "Time complexity: O(n)"
   ]
  },
  {
   "cell_type": "code",
   "execution_count": 19,
   "metadata": {},
   "outputs": [],
   "source": [
    "def inOrder(root):\n",
    "    if not root:\n",
    "        return\n",
    "    inOrder(root.left)\n",
    "    print(root.data)\n",
    "    inOrder(root.right)"
   ]
  },
  {
   "cell_type": "code",
   "execution_count": 20,
   "metadata": {},
   "outputs": [
    {
     "name": "stdout",
     "output_type": "stream",
     "text": [
      "1\n",
      "2\n",
      "4\n",
      "6\n",
      "9\n",
      "12\n",
      "14\n",
      "21\n",
      "30\n"
     ]
    }
   ],
   "source": [
    "inOrder(btree)"
   ]
  },
  {
   "cell_type": "code",
   "execution_count": 21,
   "metadata": {},
   "outputs": [],
   "source": [
    "def preOrder(root):\n",
    "    if not root:\n",
    "        return\n",
    "    print(root.data)\n",
    "    preOrder(root.left)\n",
    "    preOrder(root.right)"
   ]
  },
  {
   "cell_type": "code",
   "execution_count": 22,
   "metadata": {},
   "outputs": [
    {
     "name": "stdout",
     "output_type": "stream",
     "text": [
      "12\n",
      "6\n",
      "4\n",
      "1\n",
      "2\n",
      "9\n",
      "14\n",
      "21\n",
      "30\n"
     ]
    }
   ],
   "source": [
    "preOrder(btree)"
   ]
  },
  {
   "cell_type": "code",
   "execution_count": 28,
   "metadata": {},
   "outputs": [],
   "source": [
    "def postOrder(root):\n",
    "    if not root:\n",
    "        return\n",
    "    postOrder(root.left)\n",
    "    postOrder(root.right)\n",
    "    print(root.data)"
   ]
  },
  {
   "cell_type": "code",
   "execution_count": 29,
   "metadata": {},
   "outputs": [
    {
     "name": "stdout",
     "output_type": "stream",
     "text": [
      "2\n",
      "1\n",
      "4\n",
      "9\n",
      "6\n",
      "15\n",
      "30\n",
      "21\n",
      "14\n",
      "12\n"
     ]
    }
   ],
   "source": [
    "postOrder(btree)"
   ]
  },
  {
   "cell_type": "code",
   "execution_count": 32,
   "metadata": {},
   "outputs": [],
   "source": [
    "def inOrder_reverse(root):\n",
    "    if not root:\n",
    "        return\n",
    "    inOrder_reverse(root.right)\n",
    "    print(root.data)\n",
    "    inOrder_reverse(root.left)"
   ]
  },
  {
   "cell_type": "code",
   "execution_count": 33,
   "metadata": {},
   "outputs": [
    {
     "name": "stdout",
     "output_type": "stream",
     "text": [
      "30\n",
      "21\n",
      "15\n",
      "14\n",
      "12\n",
      "9\n",
      "6\n",
      "4\n",
      "2\n",
      "1\n"
     ]
    }
   ],
   "source": [
    "inOrder_reverse(btree)"
   ]
  },
  {
   "cell_type": "markdown",
   "metadata": {},
   "source": [
    "**Breadth First Search [BFS]**\n",
    "\n"
   ]
  },
  {
   "cell_type": "code",
   "execution_count": 5,
   "metadata": {},
   "outputs": [],
   "source": [
    "from collections import deque\n",
    "\n",
    "\n",
    "def bfs(root):\n",
    "    queue  = deque()\n",
    "\n",
    "    if root:\n",
    "        queue.append(root)\n",
    "    \n",
    "    level = 0\n",
    "    while len(queue) > 0:\n",
    "        print(\"Level : \", level)\n",
    "        for _ in range(len(queue)):\n",
    "            cur_val = queue.popleft()\n",
    "            print(cur_val.data)\n",
    "            if cur_val.left:\n",
    "                queue.append(cur_val.left)\n",
    "            if cur_val.right:\n",
    "                queue.append(cur_val.right)\n",
    "        level += 1   "
   ]
  },
  {
   "cell_type": "code",
   "execution_count": 7,
   "metadata": {},
   "outputs": [
    {
     "name": "stdout",
     "output_type": "stream",
     "text": [
      "Level :  0\n",
      "12\n",
      "Level :  1\n",
      "6\n",
      "14\n",
      "Level :  2\n",
      "4\n",
      "9\n",
      "21\n",
      "Level :  3\n",
      "1\n",
      "15\n",
      "30\n",
      "Level :  4\n",
      "2\n"
     ]
    }
   ],
   "source": [
    "bfs(btree)\n",
    "\n",
    "# Time complexity O(n)"
   ]
  },
  {
   "cell_type": "markdown",
   "metadata": {},
   "source": [
    "# <span style=\"color:#FEC260\">Heap</span> \n",
    "\n",
    "**Min heap**"
   ]
  },
  {
   "cell_type": "code",
   "execution_count": 2,
   "metadata": {},
   "outputs": [
    {
     "name": "stdout",
     "output_type": "stream",
     "text": [
      "2\n",
      "3\n",
      "5\n",
      "10\n"
     ]
    }
   ],
   "source": [
    "import heapq\n",
    "\n",
    "minHeap = []\n",
    "heapq.heappush(minHeap, 10)\n",
    "heapq.heappush(minHeap, 2)\n",
    "heapq.heappush(minHeap, 5)\n",
    "heapq.heappush(minHeap, 3)\n",
    "\n",
    "# min element will always be at the 0-th index\n",
    "while len(minHeap):\n",
    "    print(heapq.heappop(minHeap))"
   ]
  },
  {
   "cell_type": "markdown",
   "metadata": {},
   "source": [
    "**Max heap**\n",
    "\n",
    "> Python does not have max heap by default, one workaround is to use min heap and negate the values when inserting and popping"
   ]
  },
  {
   "cell_type": "code",
   "execution_count": 3,
   "metadata": {},
   "outputs": [
    {
     "name": "stdout",
     "output_type": "stream",
     "text": [
      "10\n",
      "9\n",
      "7\n",
      "6\n"
     ]
    }
   ],
   "source": [
    "import heapq\n",
    "\n",
    "maxHeap = []\n",
    "\n",
    "heapq.heappush(maxHeap, -6)\n",
    "heapq.heappush(maxHeap, -10)\n",
    "heapq.heappush(maxHeap, -7)\n",
    "heapq.heappush(maxHeap, -9)\n",
    "\n",
    "while len(maxHeap):\n",
    "    print(-1 * heapq.heappop(maxHeap))"
   ]
  },
  {
   "cell_type": "markdown",
   "metadata": {},
   "source": [
    "**Heap using a list**"
   ]
  },
  {
   "cell_type": "code",
   "execution_count": 4,
   "metadata": {},
   "outputs": [
    {
     "name": "stdout",
     "output_type": "stream",
     "text": [
      "1\n",
      "2\n",
      "3\n",
      "4\n",
      "5\n"
     ]
    }
   ],
   "source": [
    "arr = [5, 4, 3, 2, 1]\n",
    "heapq.heapify(arr)\n",
    "\n",
    "while len(arr):\n",
    "    print(heapq.heappop(arr))"
   ]
  },
  {
   "cell_type": "markdown",
   "metadata": {},
   "source": [
    "# <span style=\"color:#FEC260\">Priority Queue</span> \n",
    "\n",
    "Priority queue is an abstract data type which is like a regular queue or stack data structure, but where additionally each element has a \"priority\" associated with it. In a priority queue, an element with high priority is served before an element with low priority. If two elements have the same priority, they are served according to their order in the queue. We can implement a priority queue using a heap.\n",
    "\n",
    "If use a min heap, the element with the smallest value will be popped first{ root element would always be smaller than its children }. If use a max heap, the element with the largest value will be popped first.\n",
    "\n",
    "For a priority queue the indexing starts at 1, not 0. It is because, for the following formulas to workout.\n",
    "\n",
    "$\\texttt{Parent node:} \\;i // 2$\n",
    "\n",
    "$\\texttt{Left child:} \\;2 * i$\n",
    "\n",
    "$\\texttt{Right child:} \\;2 * i + 1$\n",
    "\n",
    "Also these above formulas are true because we use a complete binary tree {all levels are completely filled except possibly the last level and the last level has all keys as left as possible}. So we can use an array to represent the heap.\n",
    "\n",
    "A priority queue always needs to maintain the two properties:\n",
    "\n",
    "1. Structure property : The structure property of a heap is that it is a complete binary tree. That means that all levels of the tree are fully filled, except possibly the last level. And the last level has all keys as left as possible.\n",
    "\n",
    "2. Order property : The order property of a heap is that for every node of the heap, the root node is the minimum {min heap} or maximum {max heap} of all nodes at that level.\n",
    "\n",
    "For adding an element to the heap, we add it to the end of the array and then we check if it is smaller than its parent { min heap }, and if it is not, we swap it with its parent. We keep doing this until we reach the root node or until we find a parent that is smaller than the current node {Percolate Up}.\n",
    "\n",
    "For removing an element, we may think of removing the root node and then replacing it with the minimum of next level nodes; but that would break the structure property of the heap. So we replace the root node with the last node of the heap and then we check if it is smaller than its children { min heap }, and if it is, we swap it with its smallest child. We keep doing this until we reach the last level or until we find a child that is larger than the current node {Percolate Down}."
   ]
  },
  {
   "cell_type": "code",
   "execution_count": 5,
   "metadata": {},
   "outputs": [],
   "source": [
    "class PriorityQueue:\n",
    "\n",
    "    def __init__(self):\n",
    "        self.heap = [0]     # dummy value\n",
    "\n",
    "    def push(self, val):\n",
    "        self.heap.append(val)\n",
    "        i = len(self.heap) - 1 # index which we just inserted\n",
    "\n",
    "        # percolate up\n",
    "        while self.heap[i] < self.heap[i//2]:\n",
    "            self.heap[i], self.heap[i//2] = self.heap[i//2], self.heap[i]\n",
    "            i //= 2\n",
    "\n",
    "    def pop(self):\n",
    "\n",
    "        if len(self.heap) == 1: # cause we have the dummy value at the 0th index\n",
    "            return None\n",
    "        if len(self.heap) == 2:\n",
    "            return self.heap.pop()\n",
    "\n",
    "        res = self.heap.pop()\n",
    "        # moving last value to root\n",
    "        self.heap[1] = self.heap.pop()\n",
    "        i = 1   # setting our pointer to the root node\n",
    "\n",
    "        # percolate down\n",
    "        while 2*i < len(self.heap): # while we have at-least one left child\n",
    "            if 2*i + 1 < len(self.heap) and self.heap[2*i+1] < self.heap[2*i] and self.heap[i] > self.heap[2*i+1]:\n",
    "                # First one checks if we have a right child\n",
    "                # second one checks if the right child is less than the second child\n",
    "                # Third one checks if the root is greater than the current node after we swapped the original root with last element\n",
    "                # If all the above conditions works, we swap the right child\n",
    "                self.heap[i], self.heap[2*i+1] = self.heap[2*i+1], self.heap[i]\n",
    "                i = 2*i + 1\n",
    "            elif self.heap[i] > self.heap[2*i]:\n",
    "                # swap with left child\n",
    "                self.heap[i], self.heap[2*i] = self.heap[2*i], self.heap[i]\n",
    "                i *= 2\n",
    "            else:\n",
    "                break\n",
    "        return res"
   ]
  },
  {
   "cell_type": "code",
   "execution_count": 12,
   "metadata": {},
   "outputs": [
    {
     "name": "stdout",
     "output_type": "stream",
     "text": [
      "8\n",
      "7\n",
      "8\n",
      "10\n"
     ]
    }
   ],
   "source": [
    "pq = PriorityQueue()\n",
    "\n",
    "pq.push(5)\n",
    "pq.push(10)\n",
    "pq.push(8)\n",
    "pq.push(3)\n",
    "pq.push(7)\n",
    "pq.push(4)\n",
    "pq.push(8)\n",
    "\n",
    "print(pq.pop())\n",
    "print(pq.pop())\n",
    "print(pq.pop())\n",
    "print(pq.pop())\n"
   ]
  }
 ],
 "metadata": {
  "kernelspec": {
   "display_name": "ML",
   "language": "python",
   "name": "python3"
  },
  "language_info": {
   "codemirror_mode": {
    "name": "ipython",
    "version": 3
   },
   "file_extension": ".py",
   "mimetype": "text/x-python",
   "name": "python",
   "nbconvert_exporter": "python",
   "pygments_lexer": "ipython3",
   "version": "3.11.5"
  },
  "orig_nbformat": 4
 },
 "nbformat": 4,
 "nbformat_minor": 2
}
