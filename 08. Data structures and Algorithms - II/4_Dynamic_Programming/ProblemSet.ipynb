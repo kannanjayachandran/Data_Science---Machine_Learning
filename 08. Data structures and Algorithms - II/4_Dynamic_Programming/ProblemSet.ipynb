{
 "cells": [
  {
   "cell_type": "markdown",
   "metadata": {},
   "source": [
    "# <span style=\"color:#FEC260\">DP</span> Problem set - I "
   ]
  },
  {
   "cell_type": "markdown",
   "metadata": {},
   "source": [
    "**1. Count the number of unique paths from top left to bottom right of a mXn matrix. You are only allowed to move right or down**"
   ]
  },
  {
   "cell_type": "code",
   "execution_count": 1,
   "metadata": {},
   "outputs": [],
   "source": [
    "# Brute force\n",
    "def brute_force(r, c, rows, cols):\n",
    "    if r == rows or c == cols:\n",
    "        return 0\n",
    "    if r == rows-1 or c == cols-1:\n",
    "        return 1\n",
    "\n",
    "    return (brute_force(r+1, c, rows, cols) + brute_force(r, c+1, rows, cols))"
   ]
  },
  {
   "cell_type": "code",
   "execution_count": 2,
   "metadata": {},
   "outputs": [],
   "source": [
    "def memoization(r, c, rows, cols, cache):\n",
    "    if r == rows or c == cols:\n",
    "        return 0\n",
    "    if cache[r][c] > 0:\n",
    "        return cache[r][c]\n",
    "    \n",
    "    if r == rows - 1 and c == cols-1:\n",
    "        return 1\n",
    "    \n",
    "    cache[r][c] = (memoization(r+1, c, rows, cols, cache) + memoization(r, c+1, rows, cols, cache))\n",
    "    return cache[r][c]"
   ]
  },
  {
   "cell_type": "code",
   "execution_count": 4,
   "metadata": {},
   "outputs": [
    {
     "data": {
      "text/plain": [
       "20"
      ]
     },
     "execution_count": 4,
     "metadata": {},
     "output_type": "execute_result"
    }
   ],
   "source": [
    "memoization(0, 0, 4, 4, [[0]*4 for _ in range(4)])"
   ]
  }
 ],
 "metadata": {
  "kernelspec": {
   "display_name": "ML",
   "language": "python",
   "name": "python3"
  },
  "language_info": {
   "codemirror_mode": {
    "name": "ipython",
    "version": 3
   },
   "file_extension": ".py",
   "mimetype": "text/x-python",
   "name": "python",
   "nbconvert_exporter": "python",
   "pygments_lexer": "ipython3",
   "version": "3.11.5"
  },
  "orig_nbformat": 4
 },
 "nbformat": 4,
 "nbformat_minor": 2
}
