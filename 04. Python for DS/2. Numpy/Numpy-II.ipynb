{
 "cells": [
  {
   "cell_type": "markdown",
   "metadata": {},
   "source": [
    "<div align=\"center\"> <h1> <font color=\"Orange\"> Numpy - II </font> </h1> </div>"
   ]
  },
  {
   "cell_type": "markdown",
   "metadata": {},
   "source": [
    "The real power of Numpy lies in its ability to perform **vectorized operations** { element-wise operations }. The vectorized operations are implemented through `ufuncs` { universal functions }.\n",
    "\n",
    "`Aggregate/reduction Functions` are the functions in numpy that can be used to perform operations on the entire array. Some of the aggregate functions are:\n",
    "- `np.sum()`\n",
    "- `np.min()`\n",
    "- `np.max()`\n",
    "- `np.mean()`\n",
    "- `np.any()`\n",
    "- `np.all()`"
   ]
  },
  {
   "cell_type": "code",
   "execution_count": 1,
   "metadata": {},
   "outputs": [],
   "source": [
    "import numpy as np"
   ]
  },
  {
   "cell_type": "code",
   "execution_count": 4,
   "metadata": {},
   "outputs": [
    {
     "data": {
      "text/plain": [
       "array([[ 1,  2,  3,  4],\n",
       "       [ 5,  6,  7,  8],\n",
       "       [ 9, 10, 11, 12]])"
      ]
     },
     "execution_count": 4,
     "metadata": {},
     "output_type": "execute_result"
    }
   ],
   "source": [
    "arr1 = np.arange(1, 13).reshape(3, 4)\n",
    "arr1"
   ]
  },
  {
   "cell_type": "code",
   "execution_count": 9,
   "metadata": {},
   "outputs": [
    {
     "name": "stdout",
     "output_type": "stream",
     "text": [
      "78\n",
      "[15 18 21 24]\n",
      "[10 26 42]\n"
     ]
    }
   ],
   "source": [
    "# sum()\n",
    "print(np.sum(arr1))\n",
    "\n",
    "# sum() along the 0-th dimension. Col wise\n",
    "print(np.sum(arr1, axis=0))\n",
    "\n",
    "# sum() along the 1-st dimension. row wise\n",
    "print(np.sum(arr1, axis=1))"
   ]
  },
  {
   "cell_type": "code",
   "execution_count": 11,
   "metadata": {},
   "outputs": [
    {
     "name": "stdout",
     "output_type": "stream",
     "text": [
      "6.5\n",
      "[5 6 7 8]\n",
      "[ 2.5  6.5 10.5]\n"
     ]
    }
   ],
   "source": [
    "# mean()\n",
    "print(np.mean(arr1), np.mean(arr1, axis=0, dtype=int), np.mean(arr1, axis=1), sep='\\n')"
   ]
  },
  {
   "cell_type": "code",
   "execution_count": 13,
   "metadata": {},
   "outputs": [
    {
     "name": "stdout",
     "output_type": "stream",
     "text": [
      "6.5\n",
      "[5. 6. 7. 8.]\n",
      "[ 2.5  6.5 10.5]\n"
     ]
    }
   ],
   "source": [
    "# median\n",
    "print(np.median(arr1), np.median(arr1, axis=0), np.median(arr1, axis=1), sep='\\n')\n"
   ]
  },
  {
   "cell_type": "code",
   "execution_count": 15,
   "metadata": {},
   "outputs": [
    {
     "name": "stdout",
     "output_type": "stream",
     "text": [
      "1\n",
      "[1 2 3 4]\n",
      "[1 5 9]\n"
     ]
    }
   ],
   "source": [
    "# min\n",
    "print(np.min(arr1), np.min(arr1, axis=0), np.min(arr1, axis=1), sep='\\n')\n"
   ]
  },
  {
   "cell_type": "code",
   "execution_count": 26,
   "metadata": {},
   "outputs": [
    {
     "name": "stdout",
     "output_type": "stream",
     "text": [
      "True\n",
      "True\n",
      "False\n"
     ]
    }
   ],
   "source": [
    "# any()\n",
    "\n",
    "print(np.array([1, 2, 3, 4]).any())\n",
    "print(np.array([1, 0, 3, 0, 0]).any())\n",
    "print(np.array([0, 0, 0, 0, 0]).any())"
   ]
  },
  {
   "cell_type": "code",
   "execution_count": 28,
   "metadata": {},
   "outputs": [
    {
     "name": "stdout",
     "output_type": "stream",
     "text": [
      "(array([0, 1, 2], dtype=int64),)\n"
     ]
    }
   ],
   "source": [
    "# nonzero() : return the indices of elements that are non-zero\n",
    "\n",
    "print(np.array([1, 2, 3, 0]).nonzero())"
   ]
  },
  {
   "cell_type": "code",
   "execution_count": 32,
   "metadata": {},
   "outputs": [
    {
     "name": "stdout",
     "output_type": "stream",
     "text": [
      "[False  True False]\n"
     ]
    }
   ],
   "source": [
    "print(np.array([1, 2, 5]) < np.array([1, 3, 2]))"
   ]
  },
  {
   "cell_type": "code",
   "execution_count": 37,
   "metadata": {},
   "outputs": [
    {
     "name": "stdout",
     "output_type": "stream",
     "text": [
      "True\n",
      "True\n"
     ]
    }
   ],
   "source": [
    "# using conditionals with any())\n",
    "arr_first = np.array([5, 6, 3, 7, 9, 10])\n",
    "arr_second = np.array([3, 1, 8, 7, 5, 5])\n",
    "\n",
    "# check if there are any values in the first array such that it is smaller than the value at the same index in the second array.\n",
    "print(np.any(arr_first < arr_second))\n",
    "\n",
    "# any value at first array which is double of an element in the second index\n",
    "print(np.any(arr_first == 2*arr_second))"
   ]
  },
  {
   "cell_type": "code",
   "execution_count": 38,
   "metadata": {},
   "outputs": [
    {
     "data": {
      "text/plain": [
       "False"
      ]
     },
     "execution_count": 38,
     "metadata": {},
     "output_type": "execute_result"
    }
   ],
   "source": [
    "# all() checks for all the elements\n",
    "np.all(arr_first < arr_second)"
   ]
  },
  {
   "cell_type": "code",
   "execution_count": 39,
   "metadata": {},
   "outputs": [
    {
     "data": {
      "text/plain": [
       "False"
      ]
     },
     "execution_count": 39,
     "metadata": {},
     "output_type": "execute_result"
    }
   ],
   "source": [
    "np.all((arr_first <= arr_second) & (arr_second <= arr_first))"
   ]
  },
  {
   "cell_type": "markdown",
   "metadata": {},
   "source": [
    "**`Sorting`**"
   ]
  },
  {
   "cell_type": "code",
   "execution_count": 14,
   "metadata": {},
   "outputs": [
    {
     "name": "stdout",
     "output_type": "stream",
     "text": [
      "Array to sort:  [10  8  9 10  5  3  2  0  5  9]\n"
     ]
    }
   ],
   "source": [
    "arr_to_sort = np.random.randint(11, size=10)\n",
    "print(\"Array to sort: \", arr_to_sort)"
   ]
  },
  {
   "cell_type": "code",
   "execution_count": 28,
   "metadata": {},
   "outputs": [
    {
     "data": {
      "text/plain": [
       "array([ 0,  2,  3,  5,  5,  8,  9,  9, 10, 10])"
      ]
     },
     "execution_count": 28,
     "metadata": {},
     "output_type": "execute_result"
    }
   ],
   "source": [
    "np.sort(arr_to_sort)"
   ]
  },
  {
   "cell_type": "markdown",
   "metadata": {},
   "source": [
    "- Quick sort (default) : 1.9 µs ± 64.7 ns per loop (mean ± std. dev. of 7 runs, 100,000 loops each)\n",
    "- Merge sort : 1.97 µs ± 59.6 ns per loop (mean ± std. dev. of 7 runs, 1,000,000 loops each)\n",
    "- heap sort : 1.92 µs ± 76.7 ns per loop (mean ± std. dev. of 7 runs, 100,000 loops each)\n",
    "- Stable sort : 2.01 µs ± 29.2 ns per loop (mean ± std. dev. of 7 runs, 1,000,000 loops each)"
   ]
  },
  {
   "cell_type": "code",
   "execution_count": 31,
   "metadata": {},
   "outputs": [],
   "source": [
    "arr2D_to_sort = np.random.randint(11, size=(3, 4))"
   ]
  },
  {
   "cell_type": "code",
   "execution_count": 42,
   "metadata": {},
   "outputs": [
    {
     "name": "stdout",
     "output_type": "stream",
     "text": [
      "Original array:\n",
      " [[ 2  4  6  6]\n",
      " [10  7 10  9]\n",
      " [ 4  2  4  7]]\n"
     ]
    }
   ],
   "source": [
    "# default sorting is in the last dim; for a matrix it sorts each row { matrix : col wise -> dim0, row wise -> dim1 }\n",
    "print(\"Original array:\\n\", arr2D_to_sort)"
   ]
  },
  {
   "cell_type": "code",
   "execution_count": 45,
   "metadata": {},
   "outputs": [
    {
     "name": "stdout",
     "output_type": "stream",
     "text": [
      "[[ 2  2  4  6]\n",
      " [ 4  4  6  7]\n",
      " [10  7 10  9]]\n"
     ]
    },
    {
     "data": {
      "text/plain": [
       "array([[ 2,  4,  6,  6],\n",
       "       [ 7,  9, 10, 10],\n",
       "       [ 2,  4,  4,  7]])"
      ]
     },
     "execution_count": 45,
     "metadata": {},
     "output_type": "execute_result"
    }
   ],
   "source": [
    "print(np.sort(arr2D_to_sort, axis=0)) # col wise sort\n",
    "np.sort(arr2D_to_sort)  # row wise sort"
   ]
  },
  {
   "cell_type": "code",
   "execution_count": 48,
   "metadata": {},
   "outputs": [
    {
     "name": "stdout",
     "output_type": "stream",
     "text": [
      "9\n"
     ]
    },
    {
     "data": {
      "text/plain": [
       "4"
      ]
     },
     "execution_count": 48,
     "metadata": {},
     "output_type": "execute_result"
    }
   ],
   "source": [
    "# argmax : Returns the indices of the maximum values along an axis.\n",
    "arr23 = np.array([1, 3, 5, 7, 9])\n",
    "print(np.max(arr23))\n",
    "\n",
    "np.argmax(arr23)"
   ]
  },
  {
   "cell_type": "code",
   "execution_count": 50,
   "metadata": {},
   "outputs": [
    {
     "name": "stdout",
     "output_type": "stream",
     "text": [
      "[[ 0  6  1  8]\n",
      " [ 8 10  4  6]\n",
      " [ 6  3 10  8]]\n",
      "\n",
      "[[ 6  0]\n",
      " [ 3  8]\n",
      " [ 8 10]\n",
      " [ 7  1]]\n"
     ]
    },
    {
     "data": {
      "text/plain": [
       "array([[ 82,  66],\n",
       "       [152, 126],\n",
       "       [181, 132]])"
      ]
     },
     "execution_count": 50,
     "metadata": {},
     "output_type": "execute_result"
    }
   ],
   "source": [
    "# Matrix multiplication\n",
    "\n",
    "mat1 = np.random.randint(11, size=(3, 4))\n",
    "mat2 = np.random.randint(11, size=(4, 2))\n",
    "\n",
    "print(mat1, mat2, sep='\\n\\n')\n",
    "np.matmul(mat1, mat2)"
   ]
  },
  {
   "cell_type": "code",
   "execution_count": 52,
   "metadata": {},
   "outputs": [
    {
     "data": {
      "text/plain": [
       "array([[ 82,  66],\n",
       "       [152, 126],\n",
       "       [181, 132]])"
      ]
     },
     "execution_count": 52,
     "metadata": {},
     "output_type": "execute_result"
    }
   ],
   "source": [
    "mat1 @ mat2 # we can perform matrix multiplication usign @ also."
   ]
  },
  {
   "cell_type": "code",
   "execution_count": 53,
   "metadata": {},
   "outputs": [
    {
     "data": {
      "text/plain": [
       "array([[ 82,  66],\n",
       "       [152, 126],\n",
       "       [181, 132]])"
      ]
     },
     "execution_count": 53,
     "metadata": {},
     "output_type": "execute_result"
    }
   ],
   "source": [
    "# mat mul using dot() method\n",
    "np.dot(mat1, mat2)"
   ]
  }
 ],
 "metadata": {
  "kernelspec": {
   "display_name": "ML",
   "language": "python",
   "name": "python3"
  },
  "language_info": {
   "codemirror_mode": {
    "name": "ipython",
    "version": 3
   },
   "file_extension": ".py",
   "mimetype": "text/x-python",
   "name": "python",
   "nbconvert_exporter": "python",
   "pygments_lexer": "ipython3",
   "version": "3.11.4"
  },
  "orig_nbformat": 4
 },
 "nbformat": 4,
 "nbformat_minor": 2
}
