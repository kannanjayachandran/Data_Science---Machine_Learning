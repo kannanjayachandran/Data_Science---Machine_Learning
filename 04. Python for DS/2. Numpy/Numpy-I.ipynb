{
 "cells": [
  {
   "cell_type": "markdown",
   "metadata": {},
   "source": [
    "<div align=\"center\"> <h1> <font color=\"Orange\"> Numpy - I </font> </h1> </div>\n",
    "\n",
    "`Numpy` or Numerical Python is a library for scientific computing in Python. It provides a high-performance multidimensional array object, and tools for working with these arrays. It is basically used for performing numerical computations on arrays and matrices.\n",
    "\n",
    "Numpy is implemented using `C` and `Python`, and the performance critical parts are written in C. Hence it is fast and efficient. It is also optimized for `vectorized operations` and thus it is extensively used for performing operations on individual elements.\n",
    "\n",
    "The main object in Numpy is the `ndarray` or `n-dimensional array`. It is a `homogeneous multidimensional` array of fixed-size items. In Numpy dimensions are called `axes`. The number of axes is called `rank`. \n",
    "\n",
    "Some important numpy **functions/attributes** are:\n",
    "\n",
    "- `ndarray.shape` - returns a tuple consisting of array dimensions (similar to (rows, columns))\n",
    "- `ndarray.ndim` - returns the number of array dimensions\n",
    "- `ndarray.size` - returns the total number of elements in the array\n",
    "- `ndarray.dtype` - returns the type of elements in the array\n",
    "- `ndarray.itemsize` - returns the size of each element in the array in bytes\n",
    "\n",
    "- Like `range` in python numpy has `arange` which returns an array instead of a list. It also takes float arguments unlike `range`.\n",
    "\n",
    "- Numpy also has something known as `linspace` which returns an array of evenly spaced numbers over a specified interval. It takes the number of elements as an argument instead of the step size. We use it when we want to divide a range into equal parts.\n",
    "\n",
    "- We can use `reshape` to change the shape of an array. The number of elements in the array should be the same as the number of elements in the new shape. We also have `resize` which is similar to reshape but the number of elements in the array can be different from the number of elements in the new shape, if the number of elements is less than the number of elements in the new shape then the array will be filled by repeating the elements.\n",
    ">**Note** : `np.resize()` and `arr.resize()` are different, `np.resize()` returns a new array with the new shape and `arr.resize()` changes the shape of the array in place, also `np.resize()` can take a tuple as the new shape and fills the remaining elements with *copies* while `arr.resize()` can only take a list as the new shape and fills the remaining elements with *zeros*.\n",
    "\n",
    "- We can flatten an array (converting a multidimensional array into a 1D array) using `flatten` or `ravel`. `flatten` returns a copy of the array while `ravel` performs the operation in place.\n",
    "\n",
    "Numpy also has a lot of functions for creating arrays like `zeros`, `ones`, `full`, `eye`, `random`, etc. Along with that it also has functions for performing operations on arrays like `min`, `max`, `sum`, `mean`, `std`, `var`, `argmin`, `argmax`, `cumsum`, `cumprod`, etc."
   ]
  },
  {
   "cell_type": "code",
   "execution_count": 1,
   "metadata": {},
   "outputs": [],
   "source": [
    "import numpy as np"
   ]
  },
  {
   "cell_type": "code",
   "execution_count": 2,
   "metadata": {},
   "outputs": [
    {
     "name": "stdout",
     "output_type": "stream",
     "text": [
      "Array is [1 2 3 4 5 6] \n",
      "Type of array is: <class 'numpy.ndarray'>\n",
      "Dimension of array is:  1\n",
      "shape of the array:  (6,)\n",
      "Squared list:  [ 1  4  9 16 25 36]\n",
      "The new array is :  [1. 2. 3.] \n",
      "Data type of the array is :  float64\n"
     ]
    }
   ],
   "source": [
    "# numpy arrays\n",
    "np_arr = np.array([1, 2, 3, 4, 5, 6])\n",
    "\n",
    "print(f'Array is {np_arr} \\nType of array is: {type(np_arr)}')\n",
    "\n",
    "# dimension\n",
    "print(\"Dimension of array is: \", np_arr.ndim)\n",
    "\n",
    "# shape (elements per dimension)\n",
    "print(\"shape of the array: \", np_arr.shape)\n",
    "\n",
    "# element wise operations\n",
    "print(\"Squared list: \", np_arr**2)\n",
    "\n",
    "# type casting\n",
    "np_arr1 = np.array([1, 2, 3], dtype='float')\n",
    "print(\"The new array is : \", np_arr1, \"\\nData type of the array is : \", np_arr1.dtype)\n"
   ]
  },
  {
   "cell_type": "code",
   "execution_count": 3,
   "metadata": {},
   "outputs": [
    {
     "name": "stdout",
     "output_type": "stream",
     "text": [
      "[1.  1.5 2.  2.5 3.  3.5 4.  4.5]\n",
      "[ 10.    13.75  17.5   21.25  25.    28.75  32.5   36.25  40.    43.75\n",
      "  47.5   51.25  55.    58.75  62.5   66.25  70.    73.75  77.5   81.25\n",
      "  85.    88.75  92.5   96.25 100.  ]\n"
     ]
    }
   ],
   "source": [
    "# arange()\n",
    "print(np.arange(1, 5, 0.5))\n",
    "\n",
    "# linspace\n",
    "print(np.linspace(10, 100, 25))"
   ]
  },
  {
   "cell_type": "code",
   "execution_count": 4,
   "metadata": {},
   "outputs": [
    {
     "name": "stdout",
     "output_type": "stream",
     "text": [
      "Multi-dim array : \n",
      "[[1 2 3 4]\n",
      " [5 6 7 8]\n",
      " [9 8 7 6]]\n",
      "Shape : (3, 4)\n",
      "Dimension : 2\n",
      "\n",
      "Matrix is : \n",
      "[[ 1  2  3  4]\n",
      " [ 5  6  7  8]\n",
      " [ 9 10 11 12]]\n",
      "Shape of matrix: (3, 4)\n",
      "Dimension of matrix is: 2\n",
      "\n",
      "Resized Matrix is (np.resize()) : \n",
      "[[ 1  2  3  4]\n",
      " [ 5  6  7  8]\n",
      " [ 9 10 11 12]\n",
      " [ 1  2  3  4]]\n",
      "Shape of matrix: (4, 4)\n",
      "Dimension of matrix is: 2\n",
      "\n",
      "Resized Matrix is (arr.resize()) : \n",
      "[[0 1 2 3]\n",
      " [0 0 0 0]\n",
      " [0 0 0 0]]\n",
      "Shape of matrix: (3, 4)\n",
      "Dimension of matrix is: 2\n"
     ]
    }
   ],
   "source": [
    "# Multi-dimensional arrays\n",
    "np_2d_arr = np.array([[1, 2, 3, 4], [5, 6, 7, 8], [9, 8, 7, 6]])\n",
    "print(f\"Multi-dim array : \\n{np_2d_arr}\\nShape : {np_2d_arr.shape}\\nDimension : {np_2d_arr.ndim}\")\n",
    "\n",
    "# Creating a matrix\n",
    "m1 = np.arange(1, 13)\n",
    "m1 = m1.reshape(3, 4)\n",
    "# m2 = np.arange(12).reshape(3, 4)\n",
    "print(f\"\\nMatrix is : \\n{m1}\\nShape of matrix: {m1.shape}\\nDimension of matrix is: {m1.ndim}\")\n",
    "\n",
    "# np.resize()\n",
    "m1 = np.resize(m1, (4, 4))\n",
    "print(f\"\\nResized Matrix is (np.resize()) : \\n{m1}\\nShape of matrix: {m1.shape}\\nDimension of matrix is: {m1.ndim}\")\n",
    "\n",
    "# arr.resize()\n",
    "m3 = np.arange(4)\n",
    "m3.resize((3, 4))\n",
    "print(f\"\\nResized Matrix is (arr.resize()) : \\n{m3}\\nShape of matrix: {m3.shape}\\nDimension of matrix is: {m3.ndim}\")\n",
    "\n"
   ]
  },
  {
   "cell_type": "code",
   "execution_count": 5,
   "metadata": {},
   "outputs": [
    {
     "name": "stdout",
     "output_type": "stream",
     "text": [
      "Original array is : \n",
      "[[ 0  1  2  3]\n",
      " [ 4  5  6  7]\n",
      " [ 8  9 10 11]\n",
      " [12 13 14 15]]\n",
      "\n",
      "Flattened array is : [ 0  1  2  3  4  5  6  7  8  9 10 11 12 13 14 15]\n"
     ]
    }
   ],
   "source": [
    "# flattening array\n",
    "m4 = np.arange(16).reshape(4,-1) # when we put a negative value in the second index, numpy would automatically figure out the value\n",
    "\n",
    "print(f\"Original array is : \\n{m4}\\n\\nFlattened array is : {m4.flatten()}\")"
   ]
  },
  {
   "cell_type": "code",
   "execution_count": 6,
   "metadata": {},
   "outputs": [
    {
     "name": "stdout",
     "output_type": "stream",
     "text": [
      "Array 1:  [0 0 0 0 0] \n",
      "Array 1:  [[0. 0. 0. 0.]\n",
      " [0. 0. 0. 0.]\n",
      " [0. 0. 0. 0.]]\n"
     ]
    },
    {
     "data": {
      "text/plain": [
       "array([[5, 5, 5],\n",
       "       [5, 5, 5]])"
      ]
     },
     "execution_count": 6,
     "metadata": {},
     "output_type": "execute_result"
    }
   ],
   "source": [
    "# array of zeros\n",
    "zerro_arr = np.zeros(5, dtype='int') # by default it would give float values\n",
    "zerro_arr1 = np.zeros((3, 4))\n",
    "\n",
    "print(\"Array 1: \", zerro_arr, \"\\nArray 1: \", zerro_arr1)\n",
    "\n",
    "# array of ones\n",
    "one_arr = np.ones((2, 3), dtype='int') * 5\n",
    "one_arr"
   ]
  },
  {
   "cell_type": "code",
   "execution_count": 7,
   "metadata": {},
   "outputs": [
    {
     "name": "stdout",
     "output_type": "stream",
     "text": [
      "Diagonal Matrix : \n",
      " [[1 0 0]\n",
      " [0 2 0]\n",
      " [0 0 3]]\n",
      "\n",
      "Diagonals are : [1 2 3]\n",
      "\n",
      "Identity matrix : \n",
      " [[1 0 0 0 0]\n",
      " [0 1 0 0 0]\n",
      " [0 0 1 0 0]\n",
      " [0 0 0 1 0]\n",
      " [0 0 0 0 1]]\n"
     ]
    }
   ],
   "source": [
    "# diagonal matrix\n",
    "diag_matrix = np.diag([1, 2, 3])\n",
    "print(\"Diagonal Matrix : \\n\", diag_matrix)\n",
    "\n",
    "# also we can get the list of diagonals from a diagonal matrix using the same diag() \n",
    "print(\"\\nDiagonals are :\", np.diag(diag_matrix))\n",
    "\n",
    "# identity matrix\n",
    "print(\"\\nIdentity matrix : \\n\", np.identity(5, dtype=int))\n"
   ]
  },
  {
   "cell_type": "code",
   "execution_count": 8,
   "metadata": {},
   "outputs": [
    {
     "name": "stdout",
     "output_type": "stream",
     "text": [
      "[[ 1  2  3  4]\n",
      " [ 5  6  7  8]\n",
      " [ 9 10 11 12]]\n",
      "11\n",
      "\n",
      "Multiple indexing : \n",
      "[[ 5  6  7  8]\n",
      " [ 1  2  3  4]\n",
      " [ 5  6  7  8]\n",
      " [ 9 10 11 12]\n",
      " [ 9 10 11 12]]\n",
      "\n",
      "Multi dim array indexing : \n",
      " [3 6 5]\n"
     ]
    }
   ],
   "source": [
    "# slicing / indexing\n",
    "m5 = np.arange(1, 13).reshape(3, 4)\n",
    "print(m5)\n",
    "\n",
    "print(m5[2, 2]) # we can use normal slicing syntax but not appreciated\n",
    "\n",
    "print(f\"\\nMultiple indexing : \\n{m5[[1, 0, 1, 2, 2]]}\")\n",
    "\n",
    "# indexing multi dim array\n",
    "print(\"\\nMulti dim array indexing : \\n\", m5[[0, 1, 1], [2, 1, 0]]) # it would take one element of each sub list and index\n",
    "\n"
   ]
  },
  {
   "cell_type": "code",
   "execution_count": 9,
   "metadata": {},
   "outputs": [
    {
     "name": "stdout",
     "output_type": "stream",
     "text": [
      "[[ 1  2  3  4]\n",
      " [ 5  6  7  8]\n",
      " [ 9 10 11 12]] \n",
      "\n",
      "[[False False False False]\n",
      " [False False False  True]\n",
      " [ True  True  True  True]] \n",
      "\n",
      "All numbers > 7 : [ 8  9 10 11 12] \n",
      "\n",
      "All multiple of 2 or multiples of 7 :  [ 2  4  6  7  8 10 12]\n"
     ]
    }
   ],
   "source": [
    "# masking / fancy indexing\n",
    "print(m5, \"\\n\")\n",
    "print(m5 > 7, \"\\n\")\n",
    "print(\"All numbers > 7 :\", m5[m5 > 7], \"\\n\")\n",
    "print(\"All multiple of 2 or multiples of 7 : \", m5[(m5 % 2 == 0) | (m5 % 7 == 0)])"
   ]
  },
  {
   "cell_type": "code",
   "execution_count": 13,
   "metadata": {},
   "outputs": [
    {
     "name": "stdout",
     "output_type": "stream",
     "text": [
      "Min value of the array :1\n",
      "max value of the array :12\n",
      "Mean value of the array :6.5\n"
     ]
    }
   ],
   "source": [
    "# min, max, mean\n",
    "print(f\"Min value of the array :{m5.min()}\\nmax value of the array :{m5.max()}\\nMean value of the array :{m5.mean()}\")"
   ]
  }
 ],
 "metadata": {
  "kernelspec": {
   "display_name": "ML",
   "language": "python",
   "name": "ml"
  },
  "language_info": {
   "codemirror_mode": {
    "name": "ipython",
    "version": 3
   },
   "file_extension": ".py",
   "mimetype": "text/x-python",
   "name": "python",
   "nbconvert_exporter": "python",
   "pygments_lexer": "ipython3",
   "version": "3.10.10"
  },
  "orig_nbformat": 4
 },
 "nbformat": 4,
 "nbformat_minor": 2
}
