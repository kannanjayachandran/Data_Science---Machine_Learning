{
 "cells": [
  {
   "cell_type": "markdown",
   "metadata": {},
   "source": [
    "<div align=\"center\"> <h1> <font color=\"Orange\"> Numpy - I </font> </h1> </div>\n",
    "\n",
    "#### $\\text{1. Random arrays}$\n",
    "\n",
    "There are many builtin ways to create random arrays in numpy.\n",
    "\n",
    "#### $\\text{2. View and Copy}$\n",
    "\n",
    "For efficient memory management, NumPy uses views instead of copies whenever possible. This is a very important distinction between NumPy and Python sequences. In contrast, Python always creates new lists when objects are assigned to a new variable name, while numpy shares the same memory space for all variables that refer to the same array.\n",
    "\n",
    "#### $\\text{3. Broadcasting}$\n",
    "\n",
    "Broadcasting is one of the key features of NumPy that makes it so powerful and easy to use. The term broadcasting describes how numpy treats arrays with different shapes during arithmetic operations. Subject to certain constraints, the smaller array is “broadcast” across the larger array so that they have compatible shapes."
   ]
  },
  {
   "cell_type": "code",
   "execution_count": 1,
   "metadata": {},
   "outputs": [],
   "source": [
    "import numpy as np"
   ]
  },
  {
   "cell_type": "code",
   "execution_count": 6,
   "metadata": {},
   "outputs": [
    {
     "data": {
      "text/plain": [
       "array([[0.44424104, 0.09250562, 0.26395924],\n",
       "       [0.09802076, 0.924068  , 0.9410409 ]])"
      ]
     },
     "execution_count": 6,
     "metadata": {},
     "output_type": "execute_result"
    }
   ],
   "source": [
    "# Creating random arrays\n",
    "a = np.random.rand(2, 3)    # random number in uniform distribution\n",
    "a"
   ]
  },
  {
   "cell_type": "code",
   "execution_count": 8,
   "metadata": {},
   "outputs": [
    {
     "data": {
      "text/plain": [
       "array([[-0.7961423 , -0.44882091, -0.99257882,  0.36993366],\n",
       "       [-1.19999297, -0.01864831,  0.27787967,  1.4546628 ],\n",
       "       [-1.16466027,  0.86066504,  0.23395142,  0.33554757]])"
      ]
     },
     "execution_count": 8,
     "metadata": {},
     "output_type": "execute_result"
    }
   ],
   "source": [
    "b = np.random.randn(3, 4)   # random numbers in standard normal distribution or Gaussian distribution\n",
    "b"
   ]
  },
  {
   "cell_type": "code",
   "execution_count": 13,
   "metadata": {},
   "outputs": [
    {
     "name": "stdout",
     "output_type": "stream",
     "text": [
      "Array1 is \n",
      "[[ 0  1  2  3]\n",
      " [ 4  5  6  7]\n",
      " [ 8  9 10 11]]\n",
      "Array2 is \n",
      "[[ 0  1  2  3]\n",
      " [ 8  9 10 11]]\n",
      "\n",
      "True\n"
     ]
    }
   ],
   "source": [
    "c = np.arange(12).reshape(3, 4)\n",
    "d = c[::2]\n",
    "\n",
    "print(f'Array1 is \\n{c}\\nArray2 is \\n{d}\\n')\n",
    "print(np.shares_memory(c,d))"
   ]
  },
  {
   "cell_type": "code",
   "execution_count": 18,
   "metadata": {},
   "outputs": [
    {
     "name": "stdout",
     "output_type": "stream",
     "text": [
      "Array: \n",
      " [0 1 2 3 4 5]\n",
      "\n",
      "Sin array: \n",
      " [ 0.          0.84147098  0.90929743  0.14112001 -0.7568025  -0.95892427]\n",
      "\n",
      "Log Array: \n",
      " [0.         0.69314718 1.09861229 1.38629436 1.60943791]\n",
      "\n",
      "Exponent Array: \n",
      " [  1.           2.71828183   7.3890561   20.08553692  54.59815003\n",
      " 148.4131591 ]\n"
     ]
    }
   ],
   "source": [
    "# Transcendental functions\n",
    "\n",
    "e = np.arange(6)\n",
    "print('Array: \\n', e)\n",
    "\n",
    "print('\\nSin array: \\n', np.sin(e))\n",
    "print('\\nLog Array: \\n', np.log(e[1:]))\n",
    "print('\\nExponent Array: \\n', np.exp(e))"
   ]
  }
 ],
 "metadata": {
  "kernelspec": {
   "display_name": "ML",
   "language": "python",
   "name": "python3"
  },
  "language_info": {
   "codemirror_mode": {
    "name": "ipython",
    "version": 3
   },
   "file_extension": ".py",
   "mimetype": "text/x-python",
   "name": "python",
   "nbconvert_exporter": "python",
   "pygments_lexer": "ipython3",
   "version": "3.11.4"
  },
  "orig_nbformat": 4
 },
 "nbformat": 4,
 "nbformat_minor": 2
}
