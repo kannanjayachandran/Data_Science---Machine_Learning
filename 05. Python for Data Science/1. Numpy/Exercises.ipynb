{
 "cells": [
  {
   "cell_type": "markdown",
   "metadata": {},
   "source": [
    "<h1 align=\"center\" >  <font color=\"Orange\"> Numpy ~ Exercises </font> </h1>\n",
    "\n",
    "1. Print numpy version and configurations\n",
    "\n",
    "2. Create a null vector of size 10 (an array of 10 zeros)\n",
    "\n",
    "3. Find the memory size of an array and np array containing same elements\n",
    "\n",
    "4. Reverse a vector (first element becomes last)\n",
    "\n",
    "5. Create a 3x3 matrix with values ranging from 0 to 8\n",
    "\n",
    "6. Find indices of non-zero elements from [1,2,0,0,4,0]\n",
    "\n",
    "7. Sort an array\n",
    "\n",
    "8. Double each element of an array\n",
    "\n",
    "9. Add two randomly generated 3D tensors using loops\n",
    "\n",
    "10. Create a function which displays a summary report (mean, median, variance, standard deviation) of the given numpy array\n",
    "\n",
    "11. Replace all odd numbers in an array with -1, without changing the array"
   ]
  },
  {
   "cell_type": "code",
   "execution_count": 1,
   "metadata": {},
   "outputs": [],
   "source": [
    "import numpy as np"
   ]
  },
  {
   "cell_type": "code",
   "execution_count": null,
   "metadata": {},
   "outputs": [],
   "source": [
    "# Print numpy version and configurations\n",
    "print('Version :', np.__version__)\n",
    "\n",
    "print('\\nConfig')\n",
    "np.show_config()"
   ]
  },
  {
   "cell_type": "code",
   "execution_count": null,
   "metadata": {},
   "outputs": [
    {
     "data": {
      "text/plain": [
       "array([0, 0, 0, 0, 0, 0, 0, 0, 0, 0])"
      ]
     },
     "execution_count": 12,
     "metadata": {},
     "output_type": "execute_result"
    }
   ],
   "source": [
    "# Create a null vector of size 10 (an array of 10 zeros)\n",
    "arr = np.zeros(10, dtype=int)\n",
    "arr"
   ]
  },
  {
   "cell_type": "code",
   "execution_count": 18,
   "metadata": {},
   "outputs": [
    {
     "name": "stdout",
     "output_type": "stream",
     "text": [
      "Size of numpy array: 8.0 Kilobytes\n",
      "Size of normal array: 36.856 kilobytes.\n"
     ]
    }
   ],
   "source": [
    "# Find the memory size of an array and np array containing same elements\n",
    "import sys\n",
    "\n",
    "\n",
    "arr_normal = [x for x in range(1, 1001)]\n",
    "arr_np = np.array(np.arange(1, 1001))\n",
    "\n",
    "np_array_size = arr_np.itemsize * arr_np.size\n",
    "\n",
    "list_size = sys.getsizeof(arr_normal) + sum(sys.getsizeof(x) for x in arr_normal)\n",
    "\n",
    "print(f'Size of numpy array: {np_array_size/1000} Kilobytes')\n",
    "print(f'Size of normal array: {list_size/1000:.3f} kilobytes.')\n"
   ]
  },
  {
   "cell_type": "code",
   "execution_count": 21,
   "metadata": {},
   "outputs": [
    {
     "name": "stdout",
     "output_type": "stream",
     "text": [
      "[ 1  2  3  4  5  6  7  8  9 10]\n",
      "[10  9  8  7  6  5  4  3  2  1]\n"
     ]
    }
   ],
   "source": [
    "# Reverse a vector (first element becomes last)\n",
    "vector_to_reverse = np.arange(1, 11)\n",
    "print(vector_to_reverse)\n",
    "vector_to_reverse = vector_to_reverse[::-1]\n",
    "print(vector_to_reverse)"
   ]
  },
  {
   "cell_type": "code",
   "execution_count": 24,
   "metadata": {},
   "outputs": [
    {
     "data": {
      "text/plain": [
       "array([[0, 1, 2],\n",
       "       [3, 4, 5],\n",
       "       [6, 7, 8]])"
      ]
     },
     "execution_count": 24,
     "metadata": {},
     "output_type": "execute_result"
    }
   ],
   "source": [
    "# Create a 3x3 matrix with values ranging from 0 to 8\n",
    "matrix1 = np.arange(9).reshape((3, 3))\n",
    "matrix1"
   ]
  },
  {
   "cell_type": "code",
   "execution_count": 29,
   "metadata": {},
   "outputs": [
    {
     "name": "stdout",
     "output_type": "stream",
     "text": [
      "0 1 4\n"
     ]
    }
   ],
   "source": [
    "arr_non_zero = np.array([1,2,0,0,4,0])\n",
    "print(*np.nonzero(arr_non_zero)[0])"
   ]
  },
  {
   "cell_type": "code",
   "execution_count": 10,
   "metadata": {},
   "outputs": [
    {
     "data": {
      "text/plain": [
       "array(['Ghidorah', 'Mothra', 'Shimomura'], dtype='<U9')"
      ]
     },
     "execution_count": 10,
     "metadata": {},
     "output_type": "execute_result"
    }
   ],
   "source": [
    "names = np.array(['Mothra', 'Ghidorah', 'Shimomura'])\n",
    "\n",
    "sorted_names = np.sort(names)\n",
    "sorted_names"
   ]
  },
  {
   "cell_type": "code",
   "execution_count": 19,
   "metadata": {},
   "outputs": [
    {
     "name": "stdout",
     "output_type": "stream",
     "text": [
      "Original Array : \n",
      "[[ 1  2  3  4]\n",
      " [ 7  8  9 10]\n",
      " [ 2  3  4  5]\n",
      " [ 5  6  7  8]]\n",
      "\n",
      "Doubled Array : \n",
      "[[ 2  4  6  8]\n",
      " [14 16 18 20]\n",
      " [ 4  6  8 10]\n",
      " [10 12 14 16]]\n"
     ]
    }
   ],
   "source": [
    "# double each element of an array\n",
    "arr_to_double= np.array([[1,2, 3, 4],[7, 8, 9, 10],[2, 3, 4, 5],[5, 6, 7, 8]])\n",
    "\n",
    "print(f\"Original Array : \\n{arr_to_double}\\n\")\n",
    "print(f\"Doubled Array : \\n{arr_to_double * 2}\")\n"
   ]
  },
  {
   "cell_type": "code",
   "execution_count": 26,
   "metadata": {},
   "outputs": [
    {
     "name": "stdout",
     "output_type": "stream",
     "text": [
      "Input Tensor 1 :\n",
      "[[[21 50]\n",
      "  [25  5]\n",
      "  [94 36]]\n",
      "\n",
      " [[72 54]\n",
      "  [44 17]\n",
      "  [36  7]]\n",
      "\n",
      " [[34  4]\n",
      "  [12 84]\n",
      "  [63 63]]\n",
      "\n",
      " [[23  3]\n",
      "  [80 77]\n",
      "  [86 58]]]\n",
      "\n",
      "Input Tensor 2 :\n",
      "[[[46 88]\n",
      "  [24 57]\n",
      "  [77 94]]\n",
      "\n",
      " [[ 1  3]\n",
      "  [57 34]\n",
      "  [25 86]]\n",
      "\n",
      " [[35 84]\n",
      "  [37 42]\n",
      "  [23 79]]\n",
      "\n",
      " [[80  8]\n",
      "  [62 70]\n",
      "  [24 63]]]\n",
      "\n",
      "Input Tensor 1 + Input Tensor 2 : \n",
      "[[[ 67. 138.]\n",
      "  [ 49.  62.]\n",
      "  [171. 130.]]\n",
      "\n",
      " [[ 73.  57.]\n",
      "  [101.  51.]\n",
      "  [ 61.  93.]]\n",
      "\n",
      " [[ 69.  88.]\n",
      "  [ 49. 126.]\n",
      "  [ 86. 142.]]\n",
      "\n",
      " [[103.  11.]\n",
      "  [142. 147.]\n",
      "  [110. 121.]]]\n"
     ]
    }
   ],
   "source": [
    "# Add two randomly generated 3D tensors using loops\n",
    "random_array_1 = np.random.randint(1, 100, 24).reshape((4, 3, 2))\n",
    "random_array_2 = np.random.randint(1, 100, 24).reshape((4, 3, 2))\n",
    "ans = np.zeros((4, 3, 2))\n",
    "\n",
    "print(f\"Input Tensor 1 :\\n{random_array_1}\\n\")\n",
    "print(f\"Input Tensor 2 :\\n{random_array_2}\\n\")\n",
    "\n",
    "for i in range(len(random_array_1)):\n",
    "    for j in range(len(random_array_1[0])):\n",
    "        for k in range(len(random_array_1[0][0])):\n",
    "            ans[i][j][k] = random_array_1[i][j][k] + random_array_2[i][j][k]\n",
    "\n",
    "print(f\"Input Tensor 1 + Input Tensor 2 : \\n{ans}\")\n",
    "# ans2 = random_array_1 + random_array_2 # using broadcasting -> much efficient   \n",
    "# print(f\"Input Tensor 1 + Input Tensor 2 : \\n{ans2}\")"
   ]
  },
  {
   "cell_type": "code",
   "execution_count": 31,
   "metadata": {},
   "outputs": [
    {
     "name": "stdout",
     "output_type": "stream",
     "text": [
      "Mean : 54.786\n",
      "Median : 55.200\n",
      "Variance : 287.544\n",
      "Variance : 16.957\n"
     ]
    }
   ],
   "source": [
    "# Create a function which displays a summary report (mean, median, variance, standard deviation) of the given numpy array\n",
    "def summary_report(data: np.ndarray):\n",
    "    print(f'Mean : {np.mean(data):.3f}')\n",
    "\n",
    "    print(f'Median : {np.median(data):.3f}')\n",
    "\n",
    "    print(f'Variance : {np.var(data):.3f}')\n",
    "\n",
    "    print(f'Variance : {np.std(data):.3f}')\n",
    "\n",
    "\n",
    "data = 0.6 * (np.random.randint(1, 100, 100)) + 27\n",
    "summary_report(data)"
   ]
  },
  {
   "cell_type": "code",
   "execution_count": 34,
   "metadata": {},
   "outputs": [
    {
     "name": "stdout",
     "output_type": "stream",
     "text": [
      "Original Array :\n",
      "[1 2 3 4 5 6 7 6 4 3 2 1]\n",
      "Changed Array :\n",
      "[-1  2 -1  4 -1  6 -1  6  4 -1  2 -1]\n"
     ]
    }
   ],
   "source": [
    "# Replace all odd numbers in an array with -1, without changing the array\n",
    "array_1 = np.array([1, 2, 3, 4, 5, 6, 7, 6, 4, 3, 2, 1])\n",
    "array_out = np.where(array_1 % 2 == 1, -1, array_1)\n",
    "print(f\"Original Array :\\n{array_1}\")\n",
    "print(f\"Changed Array :\\n{array_out}\")"
   ]
  },
  {
   "cell_type": "code",
   "execution_count": null,
   "metadata": {},
   "outputs": [
    {
     "data": {
      "text/plain": [
       "array([False, False,  True])"
      ]
     },
     "execution_count": 35,
     "metadata": {},
     "output_type": "execute_result"
    }
   ],
   "source": [
    "# element wise comparison\n",
    "array_2 = np.array(['a', 'b', 'h'])\n",
    "array_3 = np.array(['c', 'f', 'd'])\n",
    "array_2 > array_3"
   ]
  }
 ],
 "metadata": {
  "kernelspec": {
   "display_name": "Python (base-env)",
   "language": "python",
   "name": "base-env"
  },
  "language_info": {
   "codemirror_mode": {
    "name": "ipython",
    "version": 3
   },
   "file_extension": ".py",
   "mimetype": "text/x-python",
   "name": "python",
   "nbconvert_exporter": "python",
   "pygments_lexer": "ipython3",
   "version": "3.12.5"
  },
  "orig_nbformat": 4
 },
 "nbformat": 4,
 "nbformat_minor": 2
}
