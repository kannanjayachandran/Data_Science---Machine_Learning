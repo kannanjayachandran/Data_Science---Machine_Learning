{
 "cells": [
  {
   "cell_type": "markdown",
   "metadata": {},
   "source": [
    " <h1 align=\"center\"> <font color=\"lightgreen\"> Case study : Titanic data analysis using Numpy </font> </h1> \n",
    "\n",
    "> This is a dummy dataset and is not meant to be used for any other purpose other than learning.\n",
    "\n",
    "Here we are going to analyze the Titanic surviver dataset. It contains the following columns:\n",
    "\n",
    "> $\\color{lightgreen}number, passenger\\_id, survived, gender, ticket\\_class$\n",
    "\n",
    "> <picture>\n",
    ">   <source media=\"(prefers-color-scheme: light)\" srcset=\"https://raw.githubusercontent.com/Mqxx/GitHub-Markdown/main/blockquotes/badge/light-theme/info.svg\">\n",
    ">   <img alt=\"Info\" src=\"https://raw.githubusercontent.com/Mqxx/GitHub-Markdown/main/blockquotes/badge/dark-theme/info.svg\">\n",
    "> </picture><br>\n",
    ">\n",
    "> Although this is a case study; we won't be focusing heavily on the dataset, but more on the effectiveness of `numpy` in handling data and performing analysis. "
   ]
  },
  {
   "cell_type": "code",
   "execution_count": 1,
   "metadata": {},
   "outputs": [],
   "source": [
    "import numpy as np"
   ]
  },
  {
   "cell_type": "code",
   "execution_count": 2,
   "metadata": {},
   "outputs": [],
   "source": [
    "# import data\n",
    "data = np.loadtxt('./data/data.txt')"
   ]
  },
  {
   "cell_type": "code",
   "execution_count": 3,
   "metadata": {},
   "outputs": [
    {
     "name": "stdout",
     "output_type": "stream",
     "text": [
      "Dimension:  2\n",
      "Shape:  (400, 5)\n"
     ]
    }
   ],
   "source": [
    "print(\"Dimension: \", data.ndim)\n",
    "print(\"Shape: \", data.shape)"
   ]
  },
  {
   "cell_type": "code",
   "execution_count": 4,
   "metadata": {},
   "outputs": [],
   "source": [
    "passengerId, survived, gender, ticket_class = data.T[1:]"
   ]
  },
  {
   "cell_type": "code",
   "execution_count": 5,
   "metadata": {},
   "outputs": [
    {
     "name": "stdout",
     "output_type": "stream",
     "text": [
      "float64 float64 float64 float64\n"
     ]
    }
   ],
   "source": [
    "print(passengerId.dtype, survived.dtype, gender.dtype, ticket_class.dtype)"
   ]
  },
  {
   "cell_type": "markdown",
   "metadata": {},
   "source": [
    "### Analysis"
   ]
  },
  {
   "cell_type": "code",
   "execution_count": 7,
   "metadata": {},
   "outputs": [
    {
     "name": "stdout",
     "output_type": "stream",
     "text": [
      "144 people survived out of 400\n"
     ]
    }
   ],
   "source": [
    "# 1. How many of the total survived\n",
    "print(f'{len(survived[survived == 1])} people survived out of {len(survived)}')"
   ]
  },
  {
   "cell_type": "code",
   "execution_count": 8,
   "metadata": {},
   "outputs": [
    {
     "name": "stdout",
     "output_type": "stream",
     "text": [
      "Male: 231, Female: 169\n",
      "Ratio of male:Female: 58:42\n",
      "1st class: 41, 2nd class: 153, 3rd class: 206\n",
      "Ratio of 1st:2nd:3rd: 10:38:52\n"
     ]
    }
   ],
   "source": [
    "# 2. gender distribution {0: Male, 1: Female}\n",
    "m, f= np.unique(gender, return_counts=True)[1::][0]\n",
    "print(f'Male: {m}, Female: {f}')\n",
    "print(f'Ratio of male:Female: {(m/400)*100:.0f}:{(f/400)*100:.0f}')\n",
    "\n",
    "# 3. ticket class distribution {1: 1st, 2: 2nd, 3: 3rd}\n",
    "c1, c2, c3 = np.unique(ticket_class, return_counts=True)[1::][0]\n",
    "print(f'1st class: {c1}, 2nd class: {c2}, 3rd class: {c3}')\n",
    "print(f'Ratio of 1st:2nd:3rd: {(c1/400)*100:.0f}:{(c2/400)*100:.0f}:{(c3/400)*100:.0f}')\n"
   ]
  },
  {
   "cell_type": "code",
   "execution_count": 9,
   "metadata": {},
   "outputs": [
    {
     "name": "stdout",
     "output_type": "stream",
     "text": [
      "survived Male : 85, Females survived: 59\n",
      "Ratio: 59:41\n"
     ]
    }
   ],
   "source": [
    "# 3 Survival gender distribution\n",
    "maleCount = np.sum((survived == 1) & (gender == 0))\n",
    "femaleCount = np.sum((survived == 1) & (gender == 1))\n",
    "total_survived = maleCount + femaleCount\n",
    "\n",
    "print(f\"survived Male : {maleCount}, Females survived: {femaleCount}\")\n",
    "print(f'Ratio: {(maleCount/total_survived)*100:.0f}:{(femaleCount/total_survived)*100:.0f}')"
   ]
  },
  {
   "cell_type": "code",
   "execution_count": 11,
   "metadata": {},
   "outputs": [
    {
     "name": "stdout",
     "output_type": "stream",
     "text": [
      "9 people survived in class 1\n",
      "53 people survived in class 2\n",
      "82 people survived in class 3\n"
     ]
    }
   ],
   "source": [
    "# 5. How many of the total survived in each class\n",
    "for i in range(1, 4):\n",
    "    print(f'{len(survived[(survived == 1) & (ticket_class == i)])} people survived in class {i}')"
   ]
  },
  {
   "cell_type": "code",
   "execution_count": 12,
   "metadata": {},
   "outputs": [
    {
     "name": "stdout",
     "output_type": "stream",
     "text": [
      "Out of 231 Men 36.8% or 85 men survived.\n",
      "Out of 169 Females 34.9% or 59 females survived.\n"
     ]
    }
   ],
   "source": [
    "# percentage of men survived\n",
    "print(f'Out of {m} Men {(maleCount/m)*100:.1f}% or {maleCount} men survived.')\n",
    "print(f'Out of {f} Females {(femaleCount/f)*100:.1f}% or {femaleCount} females survived.')"
   ]
  },
  {
   "cell_type": "code",
   "execution_count": 13,
   "metadata": {},
   "outputs": [
    {
     "name": "stdout",
     "output_type": "stream",
     "text": [
      "Chance of survival in class 1: 22.0%\n",
      "Chance of survival in class 2: 34.6%\n",
      "Chance of survival in class 3: 39.8%\n"
     ]
    }
   ],
   "source": [
    "# Chance of survival in each class\n",
    "for i in range(1, 4):\n",
    "    print(f'Chance of survival in class {i}: {(len(survived[(survived == 1) & (ticket_class == i)])/len(survived[ticket_class == i]))*100:.1f}%')"
   ]
  }
 ],
 "metadata": {
  "kernelspec": {
   "display_name": "ML",
   "language": "python",
   "name": "python3"
  },
  "language_info": {
   "codemirror_mode": {
    "name": "ipython",
    "version": 3
   },
   "file_extension": ".py",
   "mimetype": "text/x-python",
   "name": "python",
   "nbconvert_exporter": "python",
   "pygments_lexer": "ipython3",
   "version": "3.11.5"
  },
  "orig_nbformat": 4
 },
 "nbformat": 4,
 "nbformat_minor": 2
}
