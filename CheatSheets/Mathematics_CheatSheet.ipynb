{
 "cells": [
  {
   "cell_type": "markdown",
   "id": "0c7c570c-2e7e-40f3-9a26-c4942f1bfcac",
   "metadata": {},
   "source": [
    "<div align=\"center\">\n",
    "\n",
    "<h1> MATHEMATICS CHEAT SHEET </h1>\n",
    "\n",
    "</div>\n",
    "\n",
    "**This jupyter notebook covers the all the basic mathematical priciples. I tried my best to cover the basics in a simple manner. More concepts would be added further.**"
   ]
  },
  {
   "cell_type": "markdown",
   "id": "bdb00fc8-1c5d-4aac-8e35-bd3a4cc609ae",
   "metadata": {
    "jp-MarkdownHeadingCollapsed": true,
    "tags": []
   },
   "source": [
    "## LINEAR ALGEBRA\n",
    "\n",
    "**Linear algebra is an important and vast field of mathematics. It encapsulates various sub-fields like;**\n",
    "\n",
    "* Vector spaces\n",
    "* Matrices\n",
    "* Linear systems and Linear maps\n",
    "* Duality\n",
    "\n",
    "- For almost anything to do with linear algebra or particulary matrix operations we probably would use `numpy`. \n"
   ]
  },
  {
   "cell_type": "markdown",
   "id": "66bfbc2f-e7d3-4136-b967-e5ed9025229a",
   "metadata": {
    "jp-MarkdownHeadingCollapsed": true,
    "tags": []
   },
   "source": [
    "### Matrix\n",
    "\n",
    "- Constructing a matrix"
   ]
  },
  {
   "cell_type": "code",
   "execution_count": 17,
   "id": "32b4aa55-ec75-445d-8576-6e5c558d1072",
   "metadata": {},
   "outputs": [
    {
     "name": "stdout",
     "output_type": "stream",
     "text": [
      "A:\n",
      " [[1 2 3]\n",
      " [4 5 6]]\n",
      "\n",
      "B:\n",
      " [[1 2]\n",
      " [3 4]\n",
      " [5 6]]\n",
      "\n",
      "<class 'numpy.ndarray'>\n"
     ]
    }
   ],
   "source": [
    "import numpy as np\n",
    "\n",
    "A = np.array([[1, 2, 3], [4, 5, 6]])\n",
    "B = np.array([[1, 2], [3, 4], [5, 6]])\n",
    "C= np.array([[6, 5, 4], [3, 2, 1]])\n",
    "\n",
    "print(f'A:\\n {A}\\n')\n",
    "print(f'B:\\n {B}\\n')\n",
    "\n",
    "print(type(A))"
   ]
  },
  {
   "cell_type": "markdown",
   "id": "b4f1f425-ca7a-49f2-802f-9730f0de04fb",
   "metadata": {},
   "source": [
    "- Addition and Subtraction of matrices"
   ]
  },
  {
   "cell_type": "code",
   "execution_count": 20,
   "id": "9b00a7ec-1aab-4d61-b57c-2346dab6c73c",
   "metadata": {},
   "outputs": [
    {
     "name": "stdout",
     "output_type": "stream",
     "text": [
      "Addition:\n",
      " [[7 7 7]\n",
      " [7 7 7]]\n",
      "\n",
      "Subtraction:\n",
      " [[-5 -3 -1]\n",
      " [ 1  3  5]]\n"
     ]
    }
   ],
   "source": [
    "print(f'Addition:\\n {A+C}\\n')\n",
    "print(f'Subtraction:\\n {A-C}')"
   ]
  },
  {
   "cell_type": "markdown",
   "id": "face562c-c5cf-4218-a208-06d230b19cdb",
   "metadata": {},
   "source": [
    "- Matrix multiplication"
   ]
  },
  {
   "cell_type": "code",
   "execution_count": 22,
   "id": "7b8189c9-8106-4f68-81dd-0fc5ebea6a41",
   "metadata": {},
   "outputs": [
    {
     "name": "stdout",
     "output_type": "stream",
     "text": [
      "Multiplication:\n",
      " [[22 28]\n",
      " [49 64]]\n"
     ]
    }
   ],
   "source": [
    "# dot product of two matrix\n",
    "\n",
    "print(f'Multiplication:\\n {A.dot(B)}')"
   ]
  },
  {
   "cell_type": "markdown",
   "id": "5724a8ff-dd17-4ac0-b5da-f72c75544a70",
   "metadata": {},
   "source": [
    "**We can perform matrix multiplication using the `dot()` function of numpy**\n",
    "\n",
    "``` python\n",
    "\n",
    "    a = np.array([[1, 2, 3], [4, 5, 6]])\n",
    "    b = np.array([[1, 2], [3, 4], [5, 6]]) \n",
    "    \n",
    "    c = a.dot(b)\n",
    "```\n",
    "\n",
    ">When multiplying two ndarray objects using the * operator, the result is the element-by-element multiplication. On the other hand, when multiplying two matrix objects using the * operator, the result is the dot (matrix) product which is equivalent to the np.dot()"
   ]
  },
  {
   "cell_type": "markdown",
   "id": "5366ed79-0785-43dc-8afe-6e4d31432ec0",
   "metadata": {
    "jp-MarkdownHeadingCollapsed": true,
    "tags": []
   },
   "source": [
    "### Matrix multiplication algorithm (Brute force approach)\n",
    "\n",
    "``` python\n",
    "    for each row i in C:\n",
    "        for each col j in C:\n",
    "            for k in 1 ... n:\n",
    "                C[i][j] += A[i][k] * B[k][j]\n",
    "```\n",
    "\n",
    "### Time complexity of this algorithm is `O(` $N^{3}$ `)`"
   ]
  },
  {
   "cell_type": "code",
   "execution_count": 24,
   "id": "856dcf28-41de-4f6f-bc1b-5f8df2a23499",
   "metadata": {},
   "outputs": [
    {
     "name": "stdout",
     "output_type": "stream",
     "text": [
      "one * two:\n",
      " [[9, 5], [7, 3]]\n"
     ]
    }
   ],
   "source": [
    "# matrix mult algo\n",
    "\n",
    "def mat_mul(A, B):\n",
    "    rows, cols, n = len(A), len(B[0]), len(B)\n",
    "    \n",
    "    C = [[0 for row in range(rows)] for col in range(cols)]\n",
    "    \n",
    "    # algo\n",
    "    for i in range(rows):\n",
    "        for j in range(cols):\n",
    "            for k in range(n):\n",
    "                \n",
    "                C[i][j] += A[i][k] * B[k][j]\n",
    "                \n",
    "    return C\n",
    "\n",
    "\n",
    "one = [[2, 3], [2, 1]]\n",
    "two = [[3, 1], [1, 1]]\n",
    "\n",
    "print(f'one * two:\\n {mat_mul(one, two)}')\n",
    "                \n",
    "    "
   ]
  },
  {
   "cell_type": "markdown",
   "id": "4c0585dd-9147-4aca-9ce0-3d5fece20b12",
   "metadata": {},
   "source": [
    "- Transpose"
   ]
  },
  {
   "cell_type": "code",
   "execution_count": 26,
   "id": "ea31d3a8-9221-4ea6-90db-da190aa815ea",
   "metadata": {},
   "outputs": [
    {
     "name": "stdout",
     "output_type": "stream",
     "text": [
      "Matrix A:\n",
      " [[1 2 3]\n",
      " [4 5 6]]\n",
      "\n",
      "Transpose of A :\n",
      " [[1 4]\n",
      " [2 5]\n",
      " [3 6]]\n"
     ]
    }
   ],
   "source": [
    "print(f'Matrix A:\\n {A}\\n')\n",
    "\n",
    "print(f'Transpose of A :\\n {np.transpose(A)}')"
   ]
  },
  {
   "cell_type": "markdown",
   "id": "1d4b3d79-bc40-45ad-9f84-174333b0780e",
   "metadata": {},
   "source": [
    "- Trace (the sum of diagonal elements in a square matrix)"
   ]
  },
  {
   "cell_type": "code",
   "execution_count": 27,
   "id": "ad1a5207-1246-4134-90f5-a08d62ad90df",
   "metadata": {},
   "outputs": [
    {
     "name": "stdout",
     "output_type": "stream",
     "text": [
      "Original array: \n",
      " [[1 2 3]\n",
      " [4 5 6]\n",
      " [7 8 9]]\n",
      "\n",
      "Trace:  15\n"
     ]
    }
   ],
   "source": [
    "m = np.array([[1, 2, 3], [4, 5, 6], [7, 8, 9]])\n",
    "\n",
    "print(f'Original array: \\n {m}\\n')\n",
    "print(f'Trace:  {m.trace()}')"
   ]
  },
  {
   "cell_type": "markdown",
   "id": "31bee183-b1b8-4e25-b366-1726fd5da3db",
   "metadata": {},
   "source": [
    "- Rank "
   ]
  },
  {
   "cell_type": "code",
   "execution_count": 28,
   "id": "c76e0a20-7faf-4aec-b0f2-266682564e92",
   "metadata": {},
   "outputs": [
    {
     "name": "stdout",
     "output_type": "stream",
     "text": [
      "Original Matrix: \n",
      " [[1 2 3]\n",
      " [4 5 6]\n",
      " [7 8 9]]\n",
      "\n",
      "Rank of the matrix is : 2\n"
     ]
    }
   ],
   "source": [
    "from numpy import linalg as npl\n",
    "\n",
    "print(f'Original Matrix: \\n {m}\\n')\n",
    "print(f'Rank of the matrix is : {npl.matrix_rank(m)}')"
   ]
  },
  {
   "cell_type": "markdown",
   "id": "83eb83c5-af8e-4222-906e-39dbe876b0d5",
   "metadata": {},
   "source": [
    "- Determinants"
   ]
  },
  {
   "cell_type": "code",
   "execution_count": 29,
   "id": "978138b4-dc48-406c-b561-4ddf0ff9d870",
   "metadata": {},
   "outputs": [
    {
     "name": "stdout",
     "output_type": "stream",
     "text": [
      "Original Matrix: \n",
      " [[1 2 3]\n",
      " [3 2 5]\n",
      " [6 5 7]]\n",
      "\n",
      "Determinant of the matrix is : 16\n"
     ]
    }
   ],
   "source": [
    "n = np.array([[1, 2, 3], [3, 2, 5], [6, 5, 7]])\n",
    "\n",
    "print(f'Original Matrix: \\n {n}\\n')\n",
    "print(f'Determinant of the matrix is : {npl.det(n):.0f}')"
   ]
  },
  {
   "cell_type": "markdown",
   "id": "e6fb492a-182e-4d1c-9d5b-e5d1af96b228",
   "metadata": {},
   "source": [
    "- Inverse (A square matrix would have inverse only if its determinant is non-zero)"
   ]
  },
  {
   "cell_type": "code",
   "execution_count": 33,
   "id": "666f986e-8899-4b77-a2d6-3b551493a597",
   "metadata": {},
   "outputs": [
    {
     "name": "stdout",
     "output_type": "stream",
     "text": [
      "Original Matrix: \n",
      " [[1 2 3]\n",
      " [3 2 5]\n",
      " [6 5 7]]\n",
      "\n",
      "Determinant of the matrix is : 16\n",
      "Inverse of the matrix is : \n",
      " [[-0.6875  0.0625  0.25  ]\n",
      " [ 0.5625 -0.6875  0.25  ]\n",
      " [ 0.1875  0.4375 -0.25  ]]\n"
     ]
    }
   ],
   "source": [
    "print(f'Original Matrix: \\n {n}\\n')\n",
    "\n",
    "print(f'Determinant of the matrix is : {npl.det(n):.0f}')\n",
    "\n",
    "print(f'Inverse of the matrix is : \\n {npl.inv(n)}')"
   ]
  },
  {
   "cell_type": "markdown",
   "id": "93691530-7906-4e50-8b3f-f2fc815dd3d4",
   "metadata": {},
   "source": [
    "- Flatten (Flatten is a simple method to transform a matrix into a one-dimensional numpy array.)"
   ]
  },
  {
   "cell_type": "code",
   "execution_count": 37,
   "id": "9041c67b-5c7f-4894-b328-1df8c9d787b6",
   "metadata": {},
   "outputs": [
    {
     "name": "stdout",
     "output_type": "stream",
     "text": [
      "Shape of original matrix: (3, 3)\n",
      "\n",
      "Original Matrix: \n",
      " [[1 2 3]\n",
      " [3 2 5]\n",
      " [6 5 7]]\n",
      "\n",
      "flattened matrix is : [1 2 3 3 2 5 6 5 7]\n"
     ]
    }
   ],
   "source": [
    "print(f'Shape of original matrix: {n.shape}\\n')\n",
    "print(f'Original Matrix: \\n {n}\\n')\n",
    "\n",
    "print(f'flattened matrix is : {n.flatten()}')\n"
   ]
  },
  {
   "cell_type": "markdown",
   "id": "8e3a894e-7c76-42f2-a47c-23d2c26beaaa",
   "metadata": {},
   "source": [
    "- Eigenvalues and Eigenvectors"
   ]
  },
  {
   "cell_type": "code",
   "execution_count": 50,
   "id": "d5703ead-30bc-4baf-aeaf-d04852e7bffb",
   "metadata": {},
   "outputs": [
    {
     "name": "stdout",
     "output_type": "stream",
     "text": [
      "Original Matrix: \n",
      " [[1 2 3]\n",
      " [3 2 5]\n",
      " [6 5 7]]\n",
      "\n",
      "Eigenvalue :\n",
      " [12.2324269 +0.j         -1.11621345+0.24913121j -1.11621345-0.24913121j]\n",
      "\n",
      "\n",
      "Eigenvectors :\n",
      " [[-0.30530324+0.j         -0.01853889-0.3737954j  -0.01853889+0.3737954j ]\n",
      " [-0.4888339 +0.j          0.75984402+0.j          0.75984402-0.j        ]\n",
      " [-0.81720949+0.j         -0.4624439 +0.26213741j -0.4624439 -0.26213741j]]\n",
      "\n",
      "Trace of the vector: 10\n"
     ]
    }
   ],
   "source": [
    "print(f'Original Matrix: \\n {n}\\n')\n",
    "\n",
    "w, v = npl.eig(n)\n",
    "\n",
    "print(f'Eigenvalue :\\n {w}\\n\\n')\n",
    "print(f'Eigenvectors :\\n {v}')\n",
    "print(f'\\nTrace of the vector: {n.trace()}')"
   ]
  },
  {
   "cell_type": "markdown",
   "id": "36b9272e-642b-4d04-9e25-1f0aa1167843",
   "metadata": {},
   "source": [
    "> Trace of the above vector is 10 which is equal to the sum of the eigenvalues (12 + (-1) + (-1))"
   ]
  },
  {
   "cell_type": "code",
   "execution_count": null,
   "id": "684175d4-19c4-4e6c-9126-3b2cd9e2f4f3",
   "metadata": {},
   "outputs": [],
   "source": []
  },
  {
   "cell_type": "markdown",
   "id": "940d4e11-286d-45af-8e51-b598a5cf565d",
   "metadata": {
    "jp-MarkdownHeadingCollapsed": true,
    "tags": []
   },
   "source": [
    "## COMBINATORICS\n",
    "\n",
    "**Combinatorics is a field of mathematics that deals mainly with counting, arranging, and analyzing the properties of discrete structures, such as sets, permutations, and graphs. Some important areas of study in combinatorics include;**\n",
    "\n",
    "* Combinatorial optimization\n",
    "* Graph theory\n",
    "* Enumerative combinatorics\n",
    "\n",
    "### There are several libraries in Python that can be used for combinatorics, including:\n",
    "\n",
    "`itertools`: This built-in Python library provides a set of functions for working with iterators. It includes functions for generating permutations, combinations, and Cartesian products of input iterables.\n",
    "\n",
    "`scipy.special`: This library, a part of the SciPy ecosystem, provides a set of special mathematical functions, including combinatorial functions like binomial coefficients, factorials, and permutations and combinations.\n",
    "\n",
    "`networkx`: This library is used for the study of the structure, dynamics, and functions of complex networks. It provides classes for graph and digraph data structures, as well as functions for generating and manipulating such structures.\n",
    "\n",
    "`SymPy`: This library is a Python library for symbolic mathematics, it includes combinatorial functions for permutations, combinations, and other discrete mathematics operations.\n",
    "\n",
    "`combinations`: This library provides an implementation of the combinatorial iterators for python, it is a simple library that allows to iterate over the possible combinations of a given iterable in a very efficient way.\n",
    "\n",
    "\n",
    "### While working with Combinatorial problems, it is important to keep in mind the time and space complexity of the algorithms used, combinatorial problems can grow exponentially"
   ]
  },
  {
   "cell_type": "markdown",
   "id": "052e8c0a-4014-477b-bcb3-e042a50e27a3",
   "metadata": {},
   "source": [
    "### Permutation and Combination"
   ]
  },
  {
   "cell_type": "markdown",
   "id": "4c1a6198-22af-4fc3-89ee-0294bf881497",
   "metadata": {},
   "source": [
    "- We can use the `itertools` module of python to do permutation"
   ]
  },
  {
   "cell_type": "code",
   "execution_count": 9,
   "id": "388a4068-5630-4e2b-b6d4-fc57a6954598",
   "metadata": {},
   "outputs": [
    {
     "data": {
      "text/plain": [
       "[('English', 'Python', 'Biology'),\n",
       " ('English', 'Python', 'Social Science'),\n",
       " ('English', 'Python', 'Mathematics'),\n",
       " ('English', 'Biology', 'Python'),\n",
       " ('English', 'Biology', 'Social Science'),\n",
       " ('English', 'Biology', 'Mathematics'),\n",
       " ('English', 'Social Science', 'Python'),\n",
       " ('English', 'Social Science', 'Biology'),\n",
       " ('English', 'Social Science', 'Mathematics'),\n",
       " ('English', 'Mathematics', 'Python'),\n",
       " ('English', 'Mathematics', 'Biology'),\n",
       " ('English', 'Mathematics', 'Social Science'),\n",
       " ('Python', 'English', 'Biology'),\n",
       " ('Python', 'English', 'Social Science'),\n",
       " ('Python', 'English', 'Mathematics'),\n",
       " ('Python', 'Biology', 'English'),\n",
       " ('Python', 'Biology', 'Social Science'),\n",
       " ('Python', 'Biology', 'Mathematics'),\n",
       " ('Python', 'Social Science', 'English'),\n",
       " ('Python', 'Social Science', 'Biology'),\n",
       " ('Python', 'Social Science', 'Mathematics'),\n",
       " ('Python', 'Mathematics', 'English'),\n",
       " ('Python', 'Mathematics', 'Biology'),\n",
       " ('Python', 'Mathematics', 'Social Science'),\n",
       " ('Biology', 'English', 'Python'),\n",
       " ('Biology', 'English', 'Social Science'),\n",
       " ('Biology', 'English', 'Mathematics'),\n",
       " ('Biology', 'Python', 'English'),\n",
       " ('Biology', 'Python', 'Social Science'),\n",
       " ('Biology', 'Python', 'Mathematics'),\n",
       " ('Biology', 'Social Science', 'English'),\n",
       " ('Biology', 'Social Science', 'Python'),\n",
       " ('Biology', 'Social Science', 'Mathematics'),\n",
       " ('Biology', 'Mathematics', 'English'),\n",
       " ('Biology', 'Mathematics', 'Python'),\n",
       " ('Biology', 'Mathematics', 'Social Science'),\n",
       " ('Social Science', 'English', 'Python'),\n",
       " ('Social Science', 'English', 'Biology'),\n",
       " ('Social Science', 'English', 'Mathematics'),\n",
       " ('Social Science', 'Python', 'English'),\n",
       " ('Social Science', 'Python', 'Biology'),\n",
       " ('Social Science', 'Python', 'Mathematics'),\n",
       " ('Social Science', 'Biology', 'English'),\n",
       " ('Social Science', 'Biology', 'Python'),\n",
       " ('Social Science', 'Biology', 'Mathematics'),\n",
       " ('Social Science', 'Mathematics', 'English'),\n",
       " ('Social Science', 'Mathematics', 'Python'),\n",
       " ('Social Science', 'Mathematics', 'Biology'),\n",
       " ('Mathematics', 'English', 'Python'),\n",
       " ('Mathematics', 'English', 'Biology'),\n",
       " ('Mathematics', 'English', 'Social Science'),\n",
       " ('Mathematics', 'Python', 'English'),\n",
       " ('Mathematics', 'Python', 'Biology'),\n",
       " ('Mathematics', 'Python', 'Social Science'),\n",
       " ('Mathematics', 'Biology', 'English'),\n",
       " ('Mathematics', 'Biology', 'Python'),\n",
       " ('Mathematics', 'Biology', 'Social Science'),\n",
       " ('Mathematics', 'Social Science', 'English'),\n",
       " ('Mathematics', 'Social Science', 'Python'),\n",
       " ('Mathematics', 'Social Science', 'Biology')]"
      ]
     },
     "execution_count": 9,
     "metadata": {},
     "output_type": "execute_result"
    }
   ],
   "source": [
    "from itertools import permutations, combinations\n",
    "\n",
    "subjects = ('English', 'Python', 'Biology', 'Social Science', 'Mathematics')\n",
    "\n",
    "arrangements = list(permutations(subjects, 3))\n",
    "\n",
    "arrangements"
   ]
  },
  {
   "cell_type": "code",
   "execution_count": 10,
   "id": "74729987-e8c1-46e0-8f9c-e0f7aa4c1bc4",
   "metadata": {},
   "outputs": [
    {
     "data": {
      "text/plain": [
       "[('English', 'Python', 'Biology'),\n",
       " ('English', 'Python', 'Social Science'),\n",
       " ('English', 'Python', 'Mathematics'),\n",
       " ('English', 'Biology', 'Social Science'),\n",
       " ('English', 'Biology', 'Mathematics'),\n",
       " ('English', 'Social Science', 'Mathematics'),\n",
       " ('Python', 'Biology', 'Social Science'),\n",
       " ('Python', 'Biology', 'Mathematics'),\n",
       " ('Python', 'Social Science', 'Mathematics'),\n",
       " ('Biology', 'Social Science', 'Mathematics')]"
      ]
     },
     "execution_count": 10,
     "metadata": {},
     "output_type": "execute_result"
    }
   ],
   "source": [
    "comb = list(combinations(subjects, 3))\n",
    "\n",
    "comb"
   ]
  },
  {
   "cell_type": "markdown",
   "id": "1da76e29-0cba-412f-9f64-c13434b724f5",
   "metadata": {},
   "source": [
    "- A practical example :\n",
    "\n",
    "**How many 8 character passwords are possible using only the lowercase characters without repeating a character ?**\n",
    "\n",
    "Since it is a password; the order matters hence we need to find the permuatation; of picking 8 letters from 26 letters and the permutation function would return the list of all the possible permutations, to find the final answer ie; no: of possible passwords; we just need to find the length of the list."
   ]
  },
  {
   "cell_type": "code",
   "execution_count": 11,
   "id": "61654605-e56f-4616-9983-1db7d86c9a35",
   "metadata": {},
   "outputs": [
    {
     "data": {
      "text/plain": [
       "'abcdefghijklmnopqrstuvwxyz'"
      ]
     },
     "execution_count": 11,
     "metadata": {},
     "output_type": "execute_result"
    }
   ],
   "source": [
    "from string import ascii_lowercase as lowercase \n",
    "\n",
    "lowercase"
   ]
  },
  {
   "cell_type": "code",
   "execution_count": 12,
   "id": "92f72e87-cc53-4af1-9378-aa7b95099f18",
   "metadata": {},
   "outputs": [],
   "source": [
    "pswd = permutations(lowercase, 8)"
   ]
  },
  {
   "cell_type": "code",
   "execution_count": 13,
   "id": "134b0184-cffc-4fc5-8e3e-cf63a67847b6",
   "metadata": {},
   "outputs": [],
   "source": [
    "# Good luck running this\n",
    "\n",
    "# print(len(list(pswd)))"
   ]
  },
  {
   "cell_type": "markdown",
   "id": "40a9ad67-921d-402f-aa46-d43fb6528964",
   "metadata": {},
   "source": [
    "### We can use scipy module to calculate factorials  "
   ]
  },
  {
   "cell_type": "code",
   "execution_count": 14,
   "id": "4100fce9-1497-4dcc-9cec-626544dbd9b3",
   "metadata": {},
   "outputs": [
    {
     "name": "stdout",
     "output_type": "stream",
     "text": [
      "62990928000.000015\n"
     ]
    }
   ],
   "source": [
    "from scipy.special import factorial\n",
    "\n",
    "n = 26\n",
    "k = 8\n",
    "\n",
    "print(factorial(n)/factorial(n-k))"
   ]
  },
  {
   "attachments": {},
   "cell_type": "markdown",
   "id": "a34cbfec-232f-4644-9d2b-c035224cf459",
   "metadata": {},
   "source": []
  }
 ],
 "metadata": {
  "kernelspec": {
   "display_name": "Python 3 (ipykernel)",
   "language": "python",
   "name": "python3"
  },
  "language_info": {
   "codemirror_mode": {
    "name": "ipython",
    "version": 3
   },
   "file_extension": ".py",
   "mimetype": "text/x-python",
   "name": "python",
   "nbconvert_exporter": "python",
   "pygments_lexer": "ipython3",
   "version": "3.9.16 (main, Jan 11 2023, 16:16:36) [MSC v.1916 64 bit (AMD64)]"
  },
  "vscode": {
   "interpreter": {
    "hash": "cb22319440f11b8bb84e6e602744710fc1e32bd2bad8dcc38bf68177a45fab0d"
   }
  }
 },
 "nbformat": 4,
 "nbformat_minor": 5
}
