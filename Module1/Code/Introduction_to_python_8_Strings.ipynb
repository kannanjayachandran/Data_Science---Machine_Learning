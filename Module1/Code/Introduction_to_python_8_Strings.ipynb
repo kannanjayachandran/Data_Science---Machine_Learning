{
 "cells": [
  {
   "cell_type": "markdown",
   "metadata": {},
   "source": [
    "### **<span style=\"color:#FEC260\">Strings</span>**"
   ]
  },
  {
   "cell_type": "markdown",
   "metadata": {},
   "source": [
    "- python has no char data type, a single character is simply a string with a length of 1\n",
    "- we can declare a string using single or double quotes or even triple quotes\n"
   ]
  },
  {
   "cell_type": "code",
   "execution_count": 1,
   "metadata": {},
   "outputs": [
    {
     "name": "stdout",
     "output_type": "stream",
     "text": [
      "Hello world\n"
     ]
    }
   ],
   "source": [
    "# concatenation\n",
    "a = \"Hello\"\n",
    "b = \"world\"\n",
    "\n",
    "c = a + ' ' + b\n",
    "print(c)"
   ]
  },
  {
   "cell_type": "code",
   "execution_count": 6,
   "metadata": {},
   "outputs": [
    {
     "name": "stdout",
     "output_type": "stream",
     "text": [
      "Hello Hello Hello Hello Hello Hello Hello Hello Hello Hello \n"
     ]
    }
   ],
   "source": [
    "# multiplication\n",
    "word = 'Hello '\n",
    "h = word*10\n",
    "print(h)"
   ]
  },
  {
   "cell_type": "code",
   "execution_count": 8,
   "metadata": {},
   "outputs": [
    {
     "name": "stdout",
     "output_type": "stream",
     "text": [
      "Vilgax\n"
     ]
    }
   ],
   "source": [
    "if \"hello\" in c:\n",
    "    print(\"Aggregor\")\n",
    "elif 'Hello' in c: \n",
    "    print(\"Vilgax\")\n",
    "else:\n",
    "    print(\"Dagon\")"
   ]
  },
  {
   "cell_type": "code",
   "execution_count": 20,
   "metadata": {},
   "outputs": [
    {
     "name": "stdout",
     "output_type": "stream",
     "text": [
      "2\n",
      "28\n",
      "The//immortals//of//Meluha//and//the//Secretes//of//the//Nagas\n",
      "the immortals of meluha and the secretes of the nagas\n",
      "THE IMMORTALS OF MELUHA AND THE SECRETES OF THE NAGAS\n"
     ]
    }
   ],
   "source": [
    "# string functions\n",
    "\n",
    "book = \"The immortals of Meluha and the Secretes of the Nagas\"\n",
    "\n",
    "print(book.count('the')) # number of occurrence\n",
    "\n",
    "print(book.find('the')) # index of first occurrence\n",
    "\n",
    "new_book = book.replace(' ', '//')\n",
    "print(new_book)\n",
    "\n",
    "new_book = book.lower()\n",
    "print(new_book)\n",
    "\n",
    "new_book = book.upper()\n",
    "print(new_book)\n"
   ]
  },
  {
   "cell_type": "code",
   "execution_count": 24,
   "metadata": {},
   "outputs": [
    {
     "name": "stdout",
     "output_type": "stream",
     "text": [
      "T*\th*\te*\t *\ti*\tm*\tm*\to*\tr*\tt*\ta*\tl*\ts*\t *\to*\tf*\t *\tM*\te*\tl*\tu*\th*\ta*\t *\ta*\tn*\td*\t *\tt*\th*\te*\t *\tS*\te*\tc*\tr*\te*\tt*\te*\ts*\t *\to*\tf*\t *\tt*\th*\te*\t *\tN*\ta*\tg*\ta*\ts*\t"
     ]
    }
   ],
   "source": [
    "# looping over a list\n",
    "for char in book:\n",
    "    print(char, end='*\\t')"
   ]
  },
  {
   "cell_type": "markdown",
   "metadata": {},
   "source": [
    "strip() method removes any whitespace from the beginning or the end"
   ]
  },
  {
   "cell_type": "code",
   "execution_count": 25,
   "metadata": {},
   "outputs": [
    {
     "name": "stdout",
     "output_type": "stream",
     "text": [
      "         Hello World             \n",
      "Hello World\n",
      "            hello world       \n",
      "hello world\n"
     ]
    }
   ],
   "source": [
    "h = \"         Hello\"\n",
    "w = \"World             \"\n",
    "hw = '            hello world       '\n",
    "print(h, w)\n",
    "print(h.lstrip(), w.rstrip())\n",
    "print(hw, hw.strip(), sep='\\n')"
   ]
  },
  {
   "cell_type": "markdown",
   "metadata": {},
   "source": [
    "split() method splits the string into substrings if it finds instances of the separator"
   ]
  },
  {
   "cell_type": "code",
   "execution_count": 26,
   "metadata": {},
   "outputs": [
    {
     "name": "stdout",
     "output_type": "stream",
     "text": [
      "['The', 'immortals', 'of', 'Meluha', 'and', 'the', 'Secretes', 'of', 'the', 'Nagas'] <class 'list'>\n"
     ]
    }
   ],
   "source": [
    "lis = book.split()\n",
    "print(lis, type(lis))"
   ]
  },
  {
   "cell_type": "markdown",
   "metadata": {},
   "source": [
    "join() method is opposite of split(), it joins the elements of an iterable to the end of the string"
   ]
  },
  {
   "cell_type": "code",
   "execution_count": 31,
   "metadata": {},
   "outputs": [
    {
     "name": "stdout",
     "output_type": "stream",
     "text": [
      "The immortals of Meluha and the Secretes of the Nagas\n"
     ]
    }
   ],
   "source": [
    "s = ' '.join(lis)\n",
    "print(s)"
   ]
  },
  {
   "cell_type": "markdown",
   "metadata": {},
   "source": [
    "By using the strip(), join(), and split() methods, we can reverse the order of the words in a string"
   ]
  },
  {
   "cell_type": "markdown",
   "metadata": {},
   "source": [
    "- 1. we are splitting the string 'p'\n",
    "- 2. we are the reversing the obtained list\n",
    "- 3. we are joining the list with space in between"
   ]
  },
  {
   "cell_type": "code",
   "execution_count": 32,
   "metadata": {},
   "outputs": [
    {
     "name": "stdout",
     "output_type": "stream",
     "text": [
      "world hello\n"
     ]
    }
   ],
   "source": [
    "p = 'hello world'\n",
    "rev = ' '.join(p.split()[::-1])\n",
    "print(rev)"
   ]
  },
  {
   "cell_type": "markdown",
   "metadata": {},
   "source": [
    "##### String Formatting"
   ]
  },
  {
   "cell_type": "code",
   "execution_count": 33,
   "metadata": {},
   "outputs": [
    {
     "name": "stdout",
     "output_type": "stream",
     "text": [
      "Apple count is  10, orange count is 20,guava count is 30\n"
     ]
    }
   ],
   "source": [
    "apple = int(input(\"Enter apple: \"))\n",
    "orange = int(input(\"Enter orange: \"))\n",
    "guava = int(input(\"Enter guava: \"))\n",
    "\n",
    "s = f'Apple count is  {apple}, orange count is {orange},guava count is {guava}'\n",
    "\n",
    "print(s)"
   ]
  }
 ],
 "metadata": {
  "kernelspec": {
   "display_name": "Python 3.10.5 64-bit",
   "language": "python",
   "name": "python3"
  },
  "language_info": {
   "codemirror_mode": {
    "name": "ipython",
    "version": 3
   },
   "file_extension": ".py",
   "mimetype": "text/x-python",
   "name": "python",
   "nbconvert_exporter": "python",
   "pygments_lexer": "ipython3",
   "version": "3.10.5"
  },
  "orig_nbformat": 4,
  "vscode": {
   "interpreter": {
    "hash": "f4c85645bce20c702a4ecae1b93c6759c482279d1c3b7e99a0246a20b7629f3f"
   }
  }
 },
 "nbformat": 4,
 "nbformat_minor": 2
}
