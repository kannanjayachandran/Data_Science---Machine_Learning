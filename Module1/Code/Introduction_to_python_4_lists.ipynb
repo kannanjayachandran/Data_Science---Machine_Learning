{
 "cells": [
  {
   "cell_type": "markdown",
   "id": "cfe05483-e35c-4003-a547-d5ebd4e18c79",
   "metadata": {},
   "source": [
    "## <span style=\"color:#B2A4FF\">List</span>"
   ]
  },
  {
   "cell_type": "code",
   "execution_count": 1,
   "id": "1f5769b8-a895-469a-846a-0a651446f1e7",
   "metadata": {},
   "outputs": [
    {
     "name": "stdout",
     "output_type": "stream",
     "text": [
      "Original list:  ['one', 'two', 'three', 'four']\n"
     ]
    }
   ],
   "source": [
    "num = ['one', 'two', 'three', 'four']\n",
    "\n",
    "print(\"Original list: \", num)\n"
   ]
  },
  {
   "cell_type": "code",
   "execution_count": 3,
   "id": "38e35e9b",
   "metadata": {},
   "outputs": [
    {
     "name": "stdout",
     "output_type": "stream",
     "text": [
      "New list:  ['zero', 'two', 'three', 'four', 'ten', 'ten', 'five', 'threefour', 'five', 'threefour']\n"
     ]
    }
   ],
   "source": [
    "# we can index a list\n",
    "num[0] = \"zero\"\n",
    "\n",
    "# we can add new elements to a list using append\n",
    "num.append(\"five\")\n",
    "num.append(num[2] + num[3])\n",
    "\n",
    "# we can use the insert method to insert an element at a specific index\n",
    "num.insert(4, \"ten\")\n",
    "print('New list: ', num)"
   ]
  },
  {
   "cell_type": "code",
   "execution_count": 4,
   "id": "05632844",
   "metadata": {},
   "outputs": [
    {
     "name": "stdout",
     "output_type": "stream",
     "text": [
      "Extended list:  ['zero', 'two', 'three', 'four', 'ten', 'ten', 'five', 'threefour', 'five', 'threefour', 'six', 'seven']\n",
      "three\n",
      "seven\n"
     ]
    }
   ],
   "source": [
    "# we can add another iterable to the end of the list using the extend method\n",
    "f = ['six', 'seven']\n",
    "num.extend(f)\n",
    "print(\"Extended list: \", num)\n",
    "\n",
    "# we can reomve the first item whose value is x by using the remove method\n",
    "num.remove('ten')\n",
    "\n",
    "# we can remove an item at a given index and return it using pop method\n",
    "a = num.pop(2)\n",
    "print(a)\n",
    "\n",
    "# if no index is specified pop would remove the last element and return it\n",
    "b = num.pop()\n",
    "print(b)"
   ]
  },
  {
   "cell_type": "code",
   "execution_count": 5,
   "id": "d8ad60eb",
   "metadata": {},
   "outputs": [
    {
     "name": "stdout",
     "output_type": "stream",
     "text": [
      "Number of 'ten':  4\n",
      "Index of 5:  4\n"
     ]
    }
   ],
   "source": [
    "# we can count the number of times an element appears using the count method\n",
    "s = ['ten', 'ten', 'ten']\n",
    "num.extend(s)\n",
    "print(\"Number of 'ten': \", num.count('ten'))\n",
    "\n",
    "# we can get index of an item using the index method (It resturn the first appearnce)\n",
    "print(\"Index of 5: \", num.index('five'))"
   ]
  },
  {
   "cell_type": "code",
   "execution_count": 7,
   "id": "b9701b5a",
   "metadata": {},
   "outputs": [
    {
     "name": "stdout",
     "output_type": "stream",
     "text": [
      "Sorted list:  ['five', 'five', 'four', 'six', 'ten', 'ten', 'ten', 'ten', 'threefour', 'threefour', 'two', 'zero']\n",
      "\n",
      "Reversed list:  ['zero', 'two', 'threefour', 'threefour', 'ten', 'ten', 'ten', 'ten', 'six', 'four', 'five', 'five']\n",
      "\n",
      "Copy of list:  ['zero', 'two', 'threefour', 'threefour', 'ten', 'ten', 'ten', 'ten', 'six', 'four', 'five', 'five']\n"
     ]
    }
   ],
   "source": [
    "# we can use the built-in sort function to sort the list\n",
    "num.sort()\n",
    "print(\"Sorted list: \", num)\n",
    "\n",
    "# we can use the reverse method to reverse the list\n",
    "num.reverse()\n",
    "print(\"\\nReversed list: \", num)\n",
    "\n",
    "# we can create a copy of the list using copy method\n",
    "p = num.copy()\n",
    "print(\"\\nCopy of list: \", p)"
   ]
  }
 ],
 "metadata": {
  "kernelspec": {
   "display_name": "Python 3.10.5 64-bit",
   "language": "python",
   "name": "python3"
  },
  "language_info": {
   "codemirror_mode": {
    "name": "ipython",
    "version": 3
   },
   "file_extension": ".py",
   "mimetype": "text/x-python",
   "name": "python",
   "nbconvert_exporter": "python",
   "pygments_lexer": "ipython3",
   "version": "3.10.5"
  },
  "vscode": {
   "interpreter": {
    "hash": "f4c85645bce20c702a4ecae1b93c6759c482279d1c3b7e99a0246a20b7629f3f"
   }
  }
 },
 "nbformat": 4,
 "nbformat_minor": 5
}
