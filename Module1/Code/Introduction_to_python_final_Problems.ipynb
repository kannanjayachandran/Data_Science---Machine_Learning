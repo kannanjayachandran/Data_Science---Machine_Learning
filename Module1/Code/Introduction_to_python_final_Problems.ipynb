{
 "cells": [
  {
   "cell_type": "markdown",
   "metadata": {},
   "source": [
    "### **<span style=\"color:#FEC260\">Module 1 Questions</span>**"
   ]
  },
  {
   "cell_type": "markdown",
   "metadata": {},
   "source": [
    "1. Given a string A consisting of lowercase characters. Check if characters of the given string can be rearranged to form a palindrome. Return 1 if it is possible to rearrange the characters of the string A such that it becomes a palindrome else return 0.\n"
   ]
  },
  {
   "cell_type": "code",
   "execution_count": 4,
   "metadata": {},
   "outputs": [
    {
     "data": {
      "text/plain": [
       "1"
      ]
     },
     "execution_count": 4,
     "metadata": {},
     "output_type": "execute_result"
    }
   ],
   "source": [
    "def solution(word):\n",
    "\n",
    "    # making a frequency map\n",
    "    freqMap = {}\n",
    "    \n",
    "    for char in word:\n",
    "        if char in freqMap:\n",
    "            freqMap[char] += 1\n",
    "        else:\n",
    "            freqMap[char] = 1\n",
    "\n",
    "    # counting the odd freqencies\n",
    "    odd_freq = 0\n",
    "\n",
    "    for i in freqMap.values():\n",
    "        if i % 2 == 1:\n",
    "            odd_freq += 1\n",
    "    \n",
    "    # checking if palindrome or not\n",
    "    if odd_freq <= 1:\n",
    "        return 1\n",
    "    else:\n",
    "        return 0\n",
    "\n",
    "\n",
    "\n",
    "word = input().lower()\n",
    "solution(word)"
   ]
  },
  {
   "cell_type": "markdown",
   "metadata": {},
   "source": [
    "2. Write a program to find the GCD of two numbers using the **Euclidean algorithm**."
   ]
  },
  {
   "cell_type": "code",
   "execution_count": 4,
   "metadata": {},
   "outputs": [
    {
     "name": "stdout",
     "output_type": "stream",
     "text": [
      "GCD is :  2\n"
     ]
    }
   ],
   "source": [
    "a = int(input(\"Enter the first number: \"))\n",
    "b = int(input(\"Enter the second number: \"))\n",
    "\n",
    "while a != 0:\n",
    "    a, b = b % a, a\n",
    "\n",
    "print(\"GCD is : \", b)"
   ]
  }
 ],
 "metadata": {
  "kernelspec": {
   "display_name": "Python 3.10.5 64-bit",
   "language": "python",
   "name": "python3"
  },
  "language_info": {
   "codemirror_mode": {
    "name": "ipython",
    "version": 3
   },
   "file_extension": ".py",
   "mimetype": "text/x-python",
   "name": "python",
   "nbconvert_exporter": "python",
   "pygments_lexer": "ipython3",
   "version": "3.10.5"
  },
  "orig_nbformat": 4,
  "vscode": {
   "interpreter": {
    "hash": "f4c85645bce20c702a4ecae1b93c6759c482279d1c3b7e99a0246a20b7629f3f"
   }
  }
 },
 "nbformat": 4,
 "nbformat_minor": 2
}
