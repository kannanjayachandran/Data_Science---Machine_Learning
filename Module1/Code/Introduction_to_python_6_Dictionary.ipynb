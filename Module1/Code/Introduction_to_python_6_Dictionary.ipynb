{
 "cells": [
  {
   "cell_type": "markdown",
   "metadata": {},
   "source": [
    "### **<span style=\"color:#FEC260\">Dictionary</span>**"
   ]
  },
  {
   "cell_type": "code",
   "execution_count": 1,
   "metadata": {},
   "outputs": [
    {
     "name": "stdout",
     "output_type": "stream",
     "text": [
      "{'India': 'Rupee', 'USA': 'Dollars', 'Japan': 'Yen', 'Spain': 'Euro', 'Italy': 'Euro'} <class 'dict'>\n"
     ]
    }
   ],
   "source": [
    "# we can make a dict in two ways\n",
    "currency = dict()\n",
    "\n",
    "currency = {\n",
    "    'India': 'Rupee',\n",
    "    'USA': 'Dollars',\n",
    "    'Japan': 'Yen',\n",
    "    'Spain': 'Euro', \n",
    "    'Italy': 'Euro'\n",
    "}\n",
    "\n",
    "print(currency, type(currency))\n",
    "\n",
    "# we can have duplicate values, but not keys."
   ]
  },
  {
   "cell_type": "code",
   "execution_count": 2,
   "metadata": {},
   "outputs": [
    {
     "data": {
      "text/plain": [
       "'Rupee'"
      ]
     },
     "execution_count": 2,
     "metadata": {},
     "output_type": "execute_result"
    }
   ],
   "source": [
    "# we can access the dicktionary elements using keys\n",
    "currency['India']"
   ]
  },
  {
   "cell_type": "code",
   "execution_count": 4,
   "metadata": {},
   "outputs": [
    {
     "name": "stdout",
     "output_type": "stream",
     "text": [
      "{'India': 'Rupee', 'USA': 'USD', 'Japan': 'Yen', 'Spain': 'Euro', 'Italy': 'Euro'}\n"
     ]
    }
   ],
   "source": [
    "# we can access and change values using keys\n",
    "currency['USA'] = 'USD'\n",
    "print(currency)"
   ]
  },
  {
   "cell_type": "code",
   "execution_count": 12,
   "metadata": {},
   "outputs": [
    {
     "name": "stdout",
     "output_type": "stream",
     "text": [
      "dict_keys(['India', 'USA', 'Japan', 'Spain', 'Italy']) <class 'dict_keys'>\n"
     ]
    }
   ],
   "source": [
    "# we can get all the keys of a dict using keys() function\n",
    "a = currency.keys()\n",
    "print(a, type(a))\n",
    "# it returns a list of the keys (dict_keys objects, which we can easily convert into list)"
   ]
  },
  {
   "cell_type": "code",
   "execution_count": 14,
   "metadata": {},
   "outputs": [
    {
     "name": "stdout",
     "output_type": "stream",
     "text": [
      "dict_values(['Rupee', 'USD', 'Yen', 'Euro', 'Euro']) <class 'dict_values'>\n"
     ]
    }
   ],
   "source": [
    "a = currency.values()\n",
    "print(a, type(a))\n",
    "# this would give values"
   ]
  },
  {
   "cell_type": "code",
   "execution_count": null,
   "metadata": {},
   "outputs": [],
   "source": []
  }
 ],
 "metadata": {
  "kernelspec": {
   "display_name": "Python 3.10.5 64-bit",
   "language": "python",
   "name": "python3"
  },
  "language_info": {
   "codemirror_mode": {
    "name": "ipython",
    "version": 3
   },
   "file_extension": ".py",
   "mimetype": "text/x-python",
   "name": "python",
   "nbconvert_exporter": "python",
   "pygments_lexer": "ipython3",
   "version": "3.10.5"
  },
  "orig_nbformat": 4,
  "vscode": {
   "interpreter": {
    "hash": "f4c85645bce20c702a4ecae1b93c6759c482279d1c3b7e99a0246a20b7629f3f"
   }
  }
 },
 "nbformat": 4,
 "nbformat_minor": 2
}
