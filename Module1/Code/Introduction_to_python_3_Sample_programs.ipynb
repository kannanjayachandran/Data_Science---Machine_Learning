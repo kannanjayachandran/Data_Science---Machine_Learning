{
 "cells": [
  {
   "cell_type": "markdown",
   "id": "81a57f6f-8597-43fe-913b-f2ac08c5b6e3",
   "metadata": {},
   "source": [
    "### <span style=\"color:#FEC260\">Sample problems</span>"
   ]
  },
  {
   "cell_type": "code",
   "execution_count": 2,
   "id": "70d511a5-1a15-40a7-965a-74fcb5f4b896",
   "metadata": {},
   "outputs": [
    {
     "name": "stdout",
     "output_type": "stream",
     "text": [
      "1 3 5 7 9 "
     ]
    }
   ],
   "source": [
    "# WAP to print all the odd numbers between 1 and 10\n",
    "\n",
    "for i in range(1, 10, 2):\n",
    "    print(i, end=' ')"
   ]
  },
  {
   "cell_type": "code",
   "execution_count": 3,
   "id": "f495add4-3c6e-4b87-ab1d-166593827a0b",
   "metadata": {},
   "outputs": [
    {
     "name": "stdout",
     "output_type": "stream",
     "text": [
      "4 16 36 64 100 "
     ]
    }
   ],
   "source": [
    "# WAP to print the squares of even numbers in the range of 1 to 10\n",
    "\n",
    "for i in range(2, 11, 2):\n",
    "    print(i**2, end=' ')"
   ]
  },
  {
   "cell_type": "code",
   "execution_count": 4,
   "id": "6322765c-90b3-4a5c-8f93-be9bbbc41f8e",
   "metadata": {},
   "outputs": [
    {
     "name": "stdout",
     "output_type": "stream",
     "text": [
      "729 343 125 27 1 "
     ]
    }
   ],
   "source": [
    "# WAP to print the cubes of odd numbers form 10 1\n",
    "\n",
    "for i in range(9, 0, -2):\n",
    "    print(i**3, end=' ')"
   ]
  },
  {
   "cell_type": "code",
   "execution_count": 7,
   "id": "b91ae08c-c637-42d5-a1cd-ff16a289ae1c",
   "metadata": {},
   "outputs": [
    {
     "name": "stdout",
     "output_type": "stream",
     "text": [
      "15\n"
     ]
    }
   ],
   "source": [
    "# Given a number compute the sum of digits\n",
    "\n",
    "num = int(input(\"Enter the number: \"))\n",
    "\n",
    "sum = 0\n",
    "while num > 0:\n",
    "    sum += num % 10\n",
    "    num //= 10\n",
    "\n",
    "print(sum)"
   ]
  },
  {
   "cell_type": "markdown",
   "id": "cbccefc3-4132-4bd5-8e09-81fe7a450c3d",
   "metadata": {},
   "source": [
    "#####  <span style=\"color:#FEC260\">print random nubmers between 1 and 10 untill we get 5</span>\n",
    "\n",
    "Running an infinite loop because we don't know how many times the loop would run to get 5. We can use the break statement to break out of the loop when we get 5."
   ]
  },
  {
   "cell_type": "code",
   "execution_count": 17,
   "id": "239ea793-cd3a-4805-b04a-cc2c9b94771c",
   "metadata": {},
   "outputs": [
    {
     "name": "stdout",
     "output_type": "stream",
     "text": [
      "8 , 6 , 2 , 7 , 1 , 7 , 4 , 2 , 7 , 2 , 5 "
     ]
    }
   ],
   "source": [
    "import random\n",
    "\n",
    "while True:\n",
    "    r = random.randint(1, 10)\n",
    "    print(r, end=' ')\n",
    "    if r == 5:\n",
    "        break\n",
    "    print(', ', end='')"
   ]
  },
  {
   "cell_type": "markdown",
   "id": "a955919f-6447-4c63-ba2d-b0e0dde16acb",
   "metadata": {},
   "source": [
    "##### <span style=\"color:#FEC260\">print all the even numbers form 0 to 100, skipping all the multiples of 3 and 4</span>"
   ]
  },
  {
   "cell_type": "code",
   "execution_count": 33,
   "id": "c09b30a5-fb73-4608-9dd7-3315be31f015",
   "metadata": {},
   "outputs": [
    {
     "name": "stdout",
     "output_type": "stream",
     "text": [
      "2 10 14 22 26 34 38 46 50 58 62 70 74 82 86 94 98 "
     ]
    }
   ],
   "source": [
    "for i in range(0, 100, 2):\n",
    "    if (i % 3 == 0) or (i % 4 ==0):\n",
    "        continue \n",
    "        \n",
    "    print(i, end=' ')\n",
    "# This code is cleaner than running another if statement inside the loop."
   ]
  },
  {
   "cell_type": "code",
   "execution_count": 8,
   "id": "2163486e-7789-4387-ac8d-fd814d61e9d1",
   "metadata": {},
   "outputs": [
    {
     "name": "stdout",
     "output_type": "stream",
     "text": [
      "2 10 14 22 26 34 38 46 50 58 62 70 74 82 86 94 98 "
     ]
    }
   ],
   "source": [
    "# print all the even numbers form 0 to 100, \n",
    "# skipping all the multiples of 3 and 4 : without continue keyword\n",
    "\n",
    "for i in range(0, 100, 2):\n",
    "    if (i % 3 != 0) and (i % 4 != 0):\n",
    "        print(i, end=' ')"
   ]
  },
  {
   "cell_type": "markdown",
   "id": "af5fe5a7-3e15-41a6-8048-ee635621399e",
   "metadata": {},
   "source": [
    "##### <span style=\"color:#FEC260\">Check if the given number is prime or not, if prime then print yes else print no</span>\n"
   ]
  },
  {
   "cell_type": "code",
   "execution_count": 9,
   "id": "e415d800-a128-4203-a396-04412ba57a0f",
   "metadata": {},
   "outputs": [
    {
     "name": "stdout",
     "output_type": "stream",
     "text": [
      "\n",
      "Yes\n"
     ]
    }
   ],
   "source": [
    "import math\n",
    "\n",
    "n = int(input(\"Enter N: \"))\n",
    "\n",
    "if n == 1 or n ==0:\n",
    "    print(\"Neither prime nor composite\")\n",
    "    \n",
    "else:\n",
    "    flag = True\n",
    "    for i in range(2, int(math.sqrt(n)) + 1):\n",
    "        if n % i == 0:\n",
    "            print(\"\\nNo\")\n",
    "            flag = False\n",
    "            break\n",
    "    if flag:\n",
    "        print(\"\\nYes\")"
   ]
  },
  {
   "cell_type": "markdown",
   "id": "2f7d04eb",
   "metadata": {},
   "source": [
    "##### <span style=\"color:#FEC260\">Reversing a list using two pointer swap</span>"
   ]
  },
  {
   "cell_type": "code",
   "execution_count": 1,
   "id": "15023337",
   "metadata": {},
   "outputs": [],
   "source": [
    "a = [1, 2, 3, 4, 5]\n",
    "print(\"Original list: \", a)\n",
    "start, end = 0, len(a)-1\n",
    "\n",
    "while start < end:\n",
    "    a[start], a[end] = a[end], a[start]\n",
    "    start += 1\n",
    "    end -= 1\n",
    "\n",
    "print(\"Reversed list: \", a)"
   ]
  }
 ],
 "metadata": {
  "kernelspec": {
   "display_name": "Python 3.10.5 64-bit",
   "language": "python",
   "name": "python3"
  },
  "language_info": {
   "codemirror_mode": {
    "name": "ipython",
    "version": 3
   },
   "file_extension": ".py",
   "mimetype": "text/x-python",
   "name": "python",
   "nbconvert_exporter": "python",
   "pygments_lexer": "ipython3",
   "version": "3.10.5"
  },
  "vscode": {
   "interpreter": {
    "hash": "f4c85645bce20c702a4ecae1b93c6759c482279d1c3b7e99a0246a20b7629f3f"
   }
  }
 },
 "nbformat": 4,
 "nbformat_minor": 5
}
