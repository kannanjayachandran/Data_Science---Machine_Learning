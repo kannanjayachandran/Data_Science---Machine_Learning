{
 "cells": [
  {
   "cell_type": "markdown",
   "id": "7bd17021",
   "metadata": {},
   "source": [
    "### <span style=\"color:#FEC260\">Introduction to programming in Python</span>\n",
    "- Prime number\n",
    "- Factorial of a number\n",
    "- GCD of two numbers\n",
    "- LCM of two numbers\n",
    "- Sum of 'n' numbers\n",
    "- Smallest of 'n' numbers"
   ]
  },
  {
   "cell_type": "code",
   "execution_count": 10,
   "id": "491c3d2b",
   "metadata": {},
   "outputs": [
    {
     "name": "stdout",
     "output_type": "stream",
     "text": [
      "Enter the number to check: 17\n",
      "17  is prime number\n"
     ]
    }
   ],
   "source": [
    "# Prime Number\n",
    "\n",
    "num = int(input(\"Enter the number to check: \"))\n",
    "if num == 0 or num == 1:\n",
    "    print(\"Neither prime nor composite\")\n",
    "else:\n",
    "    flag = True\n",
    "    for i in range(2, num):\n",
    "        if num % i == 0:\n",
    "            print(num, \" is not prime.\")\n",
    "            flag = False\n",
    "            break\n",
    "\n",
    "if(flag):\n",
    "    print(num, \" is prime number\")"
   ]
  },
  {
   "cell_type": "code",
   "execution_count": 16,
   "id": "8dbe9bed",
   "metadata": {},
   "outputs": [
    {
     "name": "stdout",
     "output_type": "stream",
     "text": [
      "Enter the number to check: 6\n",
      "720\n"
     ]
    }
   ],
   "source": [
    "# Factorial of a number\n",
    "\n",
    "num = int(input(\"Enter the number to check: \"))\n",
    "\n",
    "fact = 1\n",
    "for i in range(1, num+1):\n",
    "    fact *= i\n",
    "print(fact)"
   ]
  },
  {
   "cell_type": "code",
   "execution_count": 19,
   "id": "64f19c1b",
   "metadata": {},
   "outputs": [
    {
     "name": "stdout",
     "output_type": "stream",
     "text": [
      "Enter a number: 54\n",
      "Enter another number: 24\n",
      "GCD of 54 and 24 is: 6\n"
     ]
    }
   ],
   "source": [
    "# GCD of a number\n",
    "\n",
    "x = int(input(\"Enter a number: \"))\n",
    "y = int(input(\"Enter another number: \"))\n",
    "\n",
    "small = min(x, y)\n",
    "\n",
    "for i in range(1, small+1):\n",
    "    if (x % i == 0) and (y % i == 0):\n",
    "        result = i\n",
    "\n",
    "print(\"GCD of\", x, \"and\", y, \"is:\", result)"
   ]
  },
  {
   "cell_type": "code",
   "execution_count": 21,
   "id": "a7b18e62",
   "metadata": {},
   "outputs": [
    {
     "name": "stdout",
     "output_type": "stream",
     "text": [
      "Enter a number: 54\n",
      "Enter another number: 24\n",
      "LCM of 54 and 24 is: 216\n"
     ]
    }
   ],
   "source": [
    "# LCM of two numbers\n",
    "\n",
    "x = int(input(\"Enter a number: \"))\n",
    "y = int(input(\"Enter another number: \"))\n",
    "\n",
    "large = max(x, y)\n",
    "\n",
    "result = 1\n",
    "for i in range(large, (x*y+1)):\n",
    "    if (i % x == 0) and (i % y == 0):\n",
    "        result = i\n",
    "        break\n",
    "\n",
    "print(\"LCM of\", x, \"and\",  y, \"is:\", result)"
   ]
  },
  {
   "cell_type": "code",
   "execution_count": 23,
   "id": "f94b07be",
   "metadata": {},
   "outputs": [
    {
     "name": "stdout",
     "output_type": "stream",
     "text": [
      "Enter n: 5\n",
      "Enter the number: 1\n",
      "Enter the number: 2\n",
      "Enter the number: 3\n",
      "Enter the number: 4\n",
      "Enter the number: 5\n",
      "15\n"
     ]
    }
   ],
   "source": [
    "# smallest of n numbers\n",
    "\n",
    "n = int(input(\"Enter n: \"))\n",
    "\n",
    "sum = 0\n",
    "for i in range(n):\n",
    "    a = int(input(\"Enter the number: \"))\n",
    "    sum+=a\n",
    "\n",
    "print(sum)"
   ]
  },
  {
   "cell_type": "code",
   "execution_count": 4,
   "id": "0d1d220e",
   "metadata": {},
   "outputs": [
    {
     "name": "stdout",
     "output_type": "stream",
     "text": [
      "Enter n: 5\n",
      "Enter the number: 120\n",
      "Enter the number: 520\n",
      "Enter the number: 420\n",
      "Enter the number: 1000\n",
      "Enter the number: 1\n",
      "The largest number is: 1000\n"
     ]
    }
   ],
   "source": [
    "# smallest of n numbers.\n",
    "\n",
    "num = int(input(\"Enter n: \"))\n",
    "\n",
    "largest = 0\n",
    "for i in range(num):\n",
    "    a = int(input(\"Enter the number: \"))\n",
    "    if a > largest:\n",
    "        largest = a\n",
    "\n",
    "print(\"The largest number is:\", largest)"
   ]
  }
 ],
 "metadata": {
  "kernelspec": {
   "display_name": "Python 3 (ipykernel)",
   "language": "python",
   "name": "python3"
  },
  "language_info": {
   "codemirror_mode": {
    "name": "ipython",
    "version": 3
   },
   "file_extension": ".py",
   "mimetype": "text/x-python",
   "name": "python",
   "nbconvert_exporter": "python",
   "pygments_lexer": "ipython3",
   "version": "3.9.12"
  },
  "vscode": {
   "interpreter": {
    "hash": "cb22319440f11b8bb84e6e602744710fc1e32bd2bad8dcc38bf68177a45fab0d"
   }
  }
 },
 "nbformat": 4,
 "nbformat_minor": 5
}
