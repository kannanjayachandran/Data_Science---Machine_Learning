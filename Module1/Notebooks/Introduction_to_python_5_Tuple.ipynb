{
 "cells": [
  {
   "cell_type": "markdown",
   "metadata": {},
   "source": [
    "### **<span style=\"color:#FEC260\">Tuple</span>**"
   ]
  },
  {
   "cell_type": "code",
   "execution_count": 1,
   "metadata": {},
   "outputs": [
    {
     "name": "stdout",
     "output_type": "stream",
     "text": [
      "('a', 'e', 'i', 'o', 'u') <class 'tuple'>\n"
     ]
    }
   ],
   "source": [
    "vowels =('a', 'e', 'i', 'o', 'u')\n",
    "print(vowels, type(vowels))"
   ]
  },
  {
   "cell_type": "markdown",
   "metadata": {},
   "source": [
    "By default python would consider a group separated by comas without any brackets as tuple"
   ]
  },
  {
   "cell_type": "code",
   "execution_count": 4,
   "metadata": {},
   "outputs": [
    {
     "name": "stdout",
     "output_type": "stream",
     "text": [
      "('Asia', 'Africa', 'Antartica', 'Australia', 'Noth America', 'South America', 'Europe') <class 'tuple'>\n"
     ]
    }
   ],
   "source": [
    "continents = \"Asia\", \"Africa\", \"Antartica\", \"Australia\", \"Noth America\", \"South America\", \"Europe\"\n",
    "print(continents, type(continents))"
   ]
  },
  {
   "cell_type": "code",
   "execution_count": 5,
   "metadata": {},
   "outputs": [
    {
     "name": "stdout",
     "output_type": "stream",
     "text": [
      "('hello', 1, [1, 2, 3], ['hello'])\n",
      "('hello', 1, [1, 21500, 3], ['hello'])\n",
      "('hello', 1, [1, 21500, 3], ['hello', 'World'])\n"
     ]
    }
   ],
   "source": [
    "# This is possible\n",
    "\n",
    "liss = [1, 2, 3]\n",
    "my_tup = (\"hello\", 1, liss, [\"hello\"])\n",
    "print(my_tup)\n",
    "\n",
    "liss[1] = 21500\n",
    "print(my_tup)\n",
    "\n",
    "# This would also work\n",
    "my_tup[3].append(\"World\")\n",
    "print(my_tup)"
   ]
  },
  {
   "cell_type": "code",
   "execution_count": 6,
   "metadata": {},
   "outputs": [
    {
     "name": "stdout",
     "output_type": "stream",
     "text": [
      "<class 'int'>\n"
     ]
    }
   ],
   "source": [
    "# if try to define a single tuple this happens\n",
    "t = (2)\n",
    "print(type(t))"
   ]
  },
  {
   "cell_type": "code",
   "execution_count": 8,
   "metadata": {},
   "outputs": [
    {
     "name": "stdout",
     "output_type": "stream",
     "text": [
      "<class 'tuple'>\n"
     ]
    }
   ],
   "source": [
    "# we can solve this by \n",
    "t = (2,)\n",
    "print(type(t))"
   ]
  },
  {
   "cell_type": "code",
   "execution_count": 22,
   "metadata": {},
   "outputs": [
    {
     "name": "stdout",
     "output_type": "stream",
     "text": [
      "[53, 77, 3, 15, 26, 21, 37, 77, 15, 81]\n"
     ]
    }
   ],
   "source": [
    "# creating a list of random numbers\n",
    "import random\n",
    "\n",
    "rand_lis = [random.randrange(1, 100) for x in range(1, 11)]\n",
    "print(rand_lis)"
   ]
  },
  {
   "cell_type": "code",
   "execution_count": 23,
   "metadata": {},
   "outputs": [
    {
     "name": "stdout",
     "output_type": "stream",
     "text": [
      "(53, 77, 3, 15, 26, 21, 37, 77, 15, 81)\n"
     ]
    }
   ],
   "source": [
    "# converting the list into tuple\n",
    "rand_tup = tuple(rand_lis)\n",
    "print(rand_tup)"
   ]
  },
  {
   "cell_type": "code",
   "execution_count": 24,
   "metadata": {},
   "outputs": [
    {
     "name": "stdout",
     "output_type": "stream",
     "text": [
      "(53, 77, 3, 15, 26, 21, 37, 77, 15, 81)\n",
      "Not sorted\n"
     ]
    }
   ],
   "source": [
    "# write a program to see if the given tuple is sorted or not\n",
    "\n",
    "print(rand_tup)\n",
    "\n",
    "ans = 'Sorted'\n",
    "    \n",
    "for i in range(len(rand_tup)-1):\n",
    "    if rand_tup[i] > rand_tup[i+1]:\n",
    "        ans = 'Not sorted'\n",
    "\n",
    "print(ans)"
   ]
  }
 ],
 "metadata": {
  "kernelspec": {
   "display_name": "Python 3.10.5 64-bit",
   "language": "python",
   "name": "python3"
  },
  "language_info": {
   "codemirror_mode": {
    "name": "ipython",
    "version": 3
   },
   "file_extension": ".py",
   "mimetype": "text/x-python",
   "name": "python",
   "nbconvert_exporter": "python",
   "pygments_lexer": "ipython3",
   "version": "3.10.5"
  },
  "orig_nbformat": 4,
  "vscode": {
   "interpreter": {
    "hash": "f4c85645bce20c702a4ecae1b93c6759c482279d1c3b7e99a0246a20b7629f3f"
   }
  }
 },
 "nbformat": 4,
 "nbformat_minor": 2
}
