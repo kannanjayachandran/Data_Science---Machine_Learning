{
 "cells": [
  {
   "cell_type": "markdown",
   "metadata": {},
   "source": [
    "### **<span style=\"color:#FEC260\">Object Oriented Programming</span>**"
   ]
  },
  {
   "cell_type": "code",
   "execution_count": 1,
   "metadata": {},
   "outputs": [],
   "source": [
    "# creating a class\n",
    "\n",
    "class Omnitrix:\n",
    "    name = \"Omnitrix\"\n",
    "    owner = \"Ben Tennyson\"\n",
    "    power = \"Alien Transformation\"\n",
    "\n",
    "    def transform(self):\n",
    "        print(\"Transforming...\")\n",
    "        print(\"Alien Transformation Complete\")\n"
   ]
  },
  {
   "cell_type": "code",
   "execution_count": 3,
   "metadata": {},
   "outputs": [
    {
     "name": "stdout",
     "output_type": "stream",
     "text": [
      "Omnitrix\n",
      "Ben Tennyson\n",
      "Alien Transformation\n",
      "Transforming...\n",
      "Alien Transformation Complete\n"
     ]
    }
   ],
   "source": [
    "# creating an object and accessing the class attributes\n",
    "\n",
    "watch1 = Omnitrix()\n",
    "\n",
    "print(watch1.name)\n",
    "print(watch1.owner)\n",
    "print(watch1.power)\n",
    "watch1.transform()"
   ]
  },
  {
   "cell_type": "code",
   "execution_count": 4,
   "metadata": {},
   "outputs": [
    {
     "name": "stdout",
     "output_type": "stream",
     "text": [
      "Black\n"
     ]
    }
   ],
   "source": [
    "# we can add attributes to the class after creating the object\n",
    "\n",
    "watch1.color = \"Black\"\n",
    "print(watch1.color)"
   ]
  },
  {
   "cell_type": "code",
   "execution_count": 5,
   "metadata": {},
   "outputs": [],
   "source": [
    "# we can create an empty class using the pass keyword\n",
    "\n",
    "class people:\n",
    "    pass"
   ]
  },
  {
   "cell_type": "code",
   "execution_count": 12,
   "metadata": {},
   "outputs": [],
   "source": [
    "# we can use the __init__() function to initialize the class attributes\n",
    "\n",
    "class Omnitrix:\n",
    "    def __init__(self, name, home_world, species):\n",
    "        self.name = name\n",
    "        self.home_world = home_world\n",
    "        self.species = species\n",
    "    \n",
    "    def foo(self):\n",
    "        print(self.name, 'is a', self.species, 'from',  'planet', self.home_world)"
   ]
  },
  {
   "cell_type": "code",
   "execution_count": 13,
   "metadata": {},
   "outputs": [
    {
     "name": "stdout",
     "output_type": "stream",
     "text": [
      "Ben Tennyson is a Human from planet Earth\n"
     ]
    }
   ],
   "source": [
    "w1 = Omnitrix('Ben Tennyson', 'Earth', 'Human')\n",
    "w1.foo()"
   ]
  },
  {
   "cell_type": "code",
   "execution_count": 20,
   "metadata": {},
   "outputs": [
    {
     "name": "stdout",
     "output_type": "stream",
     "text": [
      "Four arms is a Tetramand from planet Khoros\n"
     ]
    }
   ],
   "source": [
    "w2 = Omnitrix('Four arms', species='Tetramand', home_world='Khoros')\n",
    "w2.foo()"
   ]
  },
  {
   "cell_type": "markdown",
   "metadata": {},
   "source": [
    "### **<span style=\"color:#FEC260\">File handling</span>**"
   ]
  },
  {
   "cell_type": "code",
   "execution_count": 2,
   "metadata": {},
   "outputs": [
    {
     "name": "stdout",
     "output_type": "stream",
     "text": [
      "<class '_io.TextIOWrapper'>\n"
     ]
    }
   ],
   "source": [
    "f = open('Alien_DNA_Sample.txt', 'w')\n",
    "\n",
    "print(type(f))"
   ]
  },
  {
   "cell_type": "code",
   "execution_count": 3,
   "metadata": {},
   "outputs": [],
   "source": [
    "f.write('Heat-blast\\nFour-arms\\nDiamond-Head\\nGrey-Matter\\nXlr8\\n')\n",
    "f.close()"
   ]
  },
  {
   "cell_type": "code",
   "execution_count": 4,
   "metadata": {},
   "outputs": [
    {
     "name": "stdout",
     "output_type": "stream",
     "text": [
      "Heat-blast\n",
      "Four-arms\n",
      "Diamond-Head\n",
      "Grey-Matter\n",
      "Xlr8\n",
      "\n"
     ]
    }
   ],
   "source": [
    "f = open('Alien_DNA_Sample.txt', 'r')\n",
    "\n",
    "print(f.read())\n",
    "\n",
    "f.close()"
   ]
  },
  {
   "cell_type": "code",
   "execution_count": 5,
   "metadata": {},
   "outputs": [
    {
     "name": "stdout",
     "output_type": "stream",
     "text": [
      "Heat-blast\n",
      "\n"
     ]
    }
   ],
   "source": [
    "# we can read line by line using \n",
    "f = open('Alien_DNA_Sample.txt', 'r')\n",
    "\n",
    "print(f.readline())\n",
    "\n",
    "f.close()"
   ]
  },
  {
   "cell_type": "markdown",
   "metadata": {},
   "source": [
    "We can use the **readlines()** method to read the lines of a file into a list. Each element of the list is a string that corresponds to a line of the file. "
   ]
  },
  {
   "cell_type": "code",
   "execution_count": 6,
   "metadata": {},
   "outputs": [
    {
     "name": "stdout",
     "output_type": "stream",
     "text": [
      "['Heat-blast\\n', 'Four-arms\\n', 'Diamond-Head\\n', 'Grey-Matter\\n', 'Xlr8\\n'] <class 'list'>\n"
     ]
    }
   ],
   "source": [
    "\n",
    "f = open('Alien_DNA_Sample.txt', 'r')\n",
    "\n",
    "a = f.readlines()\n",
    "\n",
    "print(a, type(a))\n",
    "\n",
    "f.close()"
   ]
  },
  {
   "cell_type": "code",
   "execution_count": 10,
   "metadata": {},
   "outputs": [],
   "source": [
    "# we can use 'a' to append contents to a file\n",
    "f = open('Alien_DNA_Sample.txt', 'a')\n",
    "\n",
    "f.write('Upgrade\\nSting-fly\\n')\n",
    "\n",
    "f.close()"
   ]
  },
  {
   "cell_type": "code",
   "execution_count": 12,
   "metadata": {},
   "outputs": [
    {
     "name": "stdout",
     "output_type": "stream",
     "text": [
      "Heat-blast\n",
      "Four-arms\n",
      "Diamond-Head\n",
      "Grey-Matter\n",
      "Xlr8\n",
      "Upgrade\n",
      "Sting-fly\n"
     ]
    }
   ],
   "source": [
    "f = open('Alien_DNA_Sample.txt', 'r')\n",
    "\n",
    "print(f.read())"
   ]
  },
  {
   "cell_type": "markdown",
   "metadata": {},
   "source": [
    "We generally use the following syntax to perform file handling."
   ]
  },
  {
   "cell_type": "code",
   "execution_count": 13,
   "metadata": {},
   "outputs": [
    {
     "name": "stdout",
     "output_type": "stream",
     "text": [
      "Heat-blast\n",
      "\n",
      "Four-arms\n",
      "\n",
      "Diamond-Head\n",
      "\n",
      "Grey-Matter\n",
      "\n",
      "Xlr8\n",
      "\n",
      "Upgrade\n",
      "\n",
      "Sting-fly\n"
     ]
    }
   ],
   "source": [
    "with open('Alien_DNA_Sample.txt', 'r') as f:\n",
    "    for line in f.readlines():\n",
    "        print(line)"
   ]
  },
  {
   "cell_type": "markdown",
   "metadata": {},
   "source": [
    "We can remove content from a file in many ways. The simplest way is to use the **truncate()** method. This method will remove all the content from the file. We can also use the **write()** method to write content to a file. This method will overwrite the existing content of the file. We can remove content from a file by specifying the line using using the following way."
   ]
  },
  {
   "cell_type": "code",
   "execution_count": 14,
   "metadata": {},
   "outputs": [],
   "source": [
    "lines = []\n",
    "with open('Alien_DNA_Sample.txt', 'r') as f:\n",
    "    lines  = f.readlines()\n",
    "\n",
    "with open('Alien_DNA_Sample.txt', 'w') as f:\n",
    "    for number, line in enumerate(lines):\n",
    "        if number not in [5]:\n",
    "            f.write(line)"
   ]
  },
  {
   "cell_type": "code",
   "execution_count": 15,
   "metadata": {},
   "outputs": [
    {
     "name": "stdout",
     "output_type": "stream",
     "text": [
      "Heat-blast\n",
      "\n",
      "Four-arms\n",
      "\n",
      "Diamond-Head\n",
      "\n",
      "Grey-Matter\n",
      "\n",
      "Xlr8\n",
      "\n",
      "Sting-fly\n"
     ]
    }
   ],
   "source": [
    "with open('Alien_DNA_Sample.txt', 'r') as f:\n",
    "    for line in f.readlines():\n",
    "        print(line)"
   ]
  }
 ],
 "metadata": {
  "kernelspec": {
   "display_name": "Python 3.10.5 64-bit",
   "language": "python",
   "name": "python3"
  },
  "language_info": {
   "codemirror_mode": {
    "name": "ipython",
    "version": 3
   },
   "file_extension": ".py",
   "mimetype": "text/x-python",
   "name": "python",
   "nbconvert_exporter": "python",
   "pygments_lexer": "ipython3",
   "version": "3.10.5"
  },
  "orig_nbformat": 4,
  "vscode": {
   "interpreter": {
    "hash": "f4c85645bce20c702a4ecae1b93c6759c482279d1c3b7e99a0246a20b7629f3f"
   }
  }
 },
 "nbformat": 4,
 "nbformat_minor": 2
}
