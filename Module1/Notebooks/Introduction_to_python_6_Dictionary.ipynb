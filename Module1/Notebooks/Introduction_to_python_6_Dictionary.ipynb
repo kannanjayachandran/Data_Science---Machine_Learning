{
 "cells": [
  {
   "cell_type": "markdown",
   "metadata": {},
   "source": [
    "### **<span style=\"color:#FEC260\">Dictionary</span>**"
   ]
  },
  {
   "cell_type": "code",
   "execution_count": 2,
   "metadata": {},
   "outputs": [
    {
     "name": "stdout",
     "output_type": "stream",
     "text": [
      "{'India': 'Rupee', 'USA': 'Dollars', 'Japan': 'Yen', 'Spain': 'Euro', 'Italy': 'Euro'} <class 'dict'>\n"
     ]
    }
   ],
   "source": [
    "# we can make a dict in two ways\n",
    "currency = dict()\n",
    "\n",
    "currency = {\n",
    "    'India': 'Rupee',\n",
    "    'USA': 'Dollars',\n",
    "    'Japan': 'Yen',\n",
    "    'Spain': 'Euro', \n",
    "    'Italy': 'Euro'\n",
    "}\n",
    "\n",
    "print(currency, type(currency))\n",
    "\n",
    "# we can have duplicate values, but not keys."
   ]
  },
  {
   "cell_type": "code",
   "execution_count": 2,
   "metadata": {},
   "outputs": [
    {
     "data": {
      "text/plain": [
       "'Rupee'"
      ]
     },
     "execution_count": 2,
     "metadata": {},
     "output_type": "execute_result"
    }
   ],
   "source": [
    "# we can access the dicktionary elements using keys\n",
    "currency['India']"
   ]
  },
  {
   "cell_type": "code",
   "execution_count": 4,
   "metadata": {},
   "outputs": [
    {
     "name": "stdout",
     "output_type": "stream",
     "text": [
      "{'India': 'Rupee', 'USA': 'USD', 'Japan': 'Yen', 'Spain': 'Euro', 'Italy': 'Euro'}\n"
     ]
    }
   ],
   "source": [
    "# we can access and change values using keys\n",
    "currency['USA'] = 'USD'\n",
    "print(currency)"
   ]
  },
  {
   "cell_type": "code",
   "execution_count": 12,
   "metadata": {},
   "outputs": [
    {
     "name": "stdout",
     "output_type": "stream",
     "text": [
      "dict_keys(['India', 'USA', 'Japan', 'Spain', 'Italy']) <class 'dict_keys'>\n"
     ]
    }
   ],
   "source": [
    "# we can get all the keys of a dict using keys() function\n",
    "a = currency.keys()\n",
    "print(a, type(a))\n",
    "# it returns a list of the keys (dict_keys objects, which we can easily convert into list)"
   ]
  },
  {
   "cell_type": "code",
   "execution_count": 14,
   "metadata": {},
   "outputs": [
    {
     "name": "stdout",
     "output_type": "stream",
     "text": [
      "dict_values(['Rupee', 'USD', 'Yen', 'Euro', 'Euro']) <class 'dict_values'>\n"
     ]
    }
   ],
   "source": [
    "a = currency.values()\n",
    "print(a, type(a))\n",
    "# this would give values"
   ]
  },
  {
   "cell_type": "code",
   "execution_count": 7,
   "metadata": {},
   "outputs": [
    {
     "name": "stdout",
     "output_type": "stream",
     "text": [
      "[('India', 'Rupee'), ('USA', 'Dollars'), ('Japan', 'Yen'), ('Spain', 'Euro'), ('Italy', 'Euro')]\n"
     ]
    }
   ],
   "source": [
    "v = list(currency.items())\n",
    "print(v)\n",
    "\n",
    "# items() would give key value pair of dict items inside tuples"
   ]
  },
  {
   "cell_type": "markdown",
   "metadata": {},
   "source": [
    "Counter function in Collections module"
   ]
  },
  {
   "cell_type": "code",
   "execution_count": 1,
   "metadata": {},
   "outputs": [],
   "source": [
    "s = \"\"\"Ben 10 is an American animated television series and a \n",
    "media franchise created by Man of Action Studios and produced \n",
    "by Cartoon Network Studios. The franchise revolves around a boy \n",
    "named Ben Tennyson who acquires a watch-like alien device, the \n",
    "Omnitrix, which allows him to transform into ten different alien \n",
    "creatures. The Ben 10 franchise has received wide critical acclaim, \n",
    "winning three Emmy Awards\"\"\""
   ]
  },
  {
   "cell_type": "markdown",
   "metadata": {},
   "source": [
    "- **Counter** is a dictionary subclass for counting hashable objects. It is an unordered collection where elements are stored as dictionary keys and their counts are stored as dictionary values. Counts are allowed to be any integer value including zero or negative counts. The Counter class is similar to bags or multisets in other languages. \n"
   ]
  },
  {
   "cell_type": "code",
   "execution_count": 5,
   "metadata": {},
   "outputs": [
    {
     "name": "stdout",
     "output_type": "stream",
     "text": [
      "{'b': 6, 'e': 42, 'n': 31, ' ': 63, '1': 2, '0': 2, 'i': 31, 's': 19, 'a': 33, 'm': 11, 'r': 22, 'c': 18, 't': 22, 'd': 16, 'l': 9, 'v': 5, 'o': 19, '\\n': 6, 'f': 7, 'h': 13, 'y': 5, 'u': 6, 'p': 1, 'w': 8, 'k': 2, '.': 2, 'q': 1, '-': 1, ',': 3, 'x': 1, 'g': 1}\n"
     ]
    }
   ],
   "source": [
    "from collections import Counter\n",
    "\n",
    "intro = dict(Counter(s.lower()))\n",
    "print(intro)"
   ]
  },
  {
   "cell_type": "markdown",
   "metadata": {},
   "source": [
    "**Dictionary Comprenhension**"
   ]
  },
  {
   "cell_type": "code",
   "execution_count": 6,
   "metadata": {},
   "outputs": [
    {
     "name": "stdout",
     "output_type": "stream",
     "text": [
      "{'b': 6, 'e': 42, 'n': 31, 'i': 31, 's': 19, 'a': 33, 'm': 11, 'r': 22, 'c': 18, 't': 22, 'd': 16, 'l': 9, 'v': 5, 'o': 19, 'f': 7, 'h': 13, 'y': 5, 'u': 6, 'p': 1, 'w': 8, 'k': 2, 'q': 1, 'x': 1, 'g': 1}\n"
     ]
    }
   ],
   "source": [
    "intro = {k: v for k, v in intro.items() if k.isalpha()}\n",
    "\n",
    "print(intro)"
   ]
  }
 ],
 "metadata": {
  "kernelspec": {
   "display_name": "Python 3.10.5 64-bit",
   "language": "python",
   "name": "python3"
  },
  "language_info": {
   "codemirror_mode": {
    "name": "ipython",
    "version": 3
   },
   "file_extension": ".py",
   "mimetype": "text/x-python",
   "name": "python",
   "nbconvert_exporter": "python",
   "pygments_lexer": "ipython3",
   "version": "3.10.5"
  },
  "orig_nbformat": 4,
  "vscode": {
   "interpreter": {
    "hash": "f4c85645bce20c702a4ecae1b93c6759c482279d1c3b7e99a0246a20b7629f3f"
   }
  }
 },
 "nbformat": 4,
 "nbformat_minor": 2
}
