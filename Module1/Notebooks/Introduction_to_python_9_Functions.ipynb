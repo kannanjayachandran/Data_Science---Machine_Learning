{
 "cells": [
  {
   "cell_type": "markdown",
   "metadata": {},
   "source": [
    "### **<span style=\"color:#FEC260\">Functions</span>**"
   ]
  },
  {
   "cell_type": "code",
   "execution_count": 1,
   "metadata": {},
   "outputs": [
    {
     "name": "stdout",
     "output_type": "stream",
     "text": [
      "Hello World\n",
      "Hello 1\n",
      "<class 'function'>\n"
     ]
    }
   ],
   "source": [
    "def greet(name):\n",
    "    print(\"Hello\", name)\n",
    "    \n",
    "greet(\"World\")\n",
    "greet(1)\n",
    "\n",
    "# if we see the type of function, it's function\n",
    "print(type(greet))"
   ]
  },
  {
   "cell_type": "code",
   "execution_count": 2,
   "metadata": {},
   "outputs": [
    {
     "name": "stdout",
     "output_type": "stream",
     "text": [
      "10 no: of people had gone to Paris on a Rocket\n"
     ]
    }
   ],
   "source": [
    "def tour(place, people_count, vehicle):\n",
    "    print(people_count, \"no: of people had gone to\", place, \"on a\", vehicle)\n",
    "\n",
    "tour(\"Paris\", 10, \"Rocket\")"
   ]
  },
  {
   "cell_type": "code",
   "execution_count": 3,
   "metadata": {},
   "outputs": [
    {
     "name": "stdout",
     "output_type": "stream",
     "text": [
      "x and computer are playing chess\n",
      "x and y are playing chess\n",
      "Computer and computer are playing chess\n"
     ]
    }
   ],
   "source": [
    "# we can give give optional arguments\n",
    "def chess(player1='Computer', player2='computer'):\n",
    "    print(player1, 'and', player2, 'are playing chess')\n",
    "    \n",
    "chess(\"x\")\n",
    "chess(\"x\", \"y\")\n",
    "chess()"
   ]
  },
  {
   "cell_type": "code",
   "execution_count": 8,
   "metadata": {},
   "outputs": [
    {
     "name": "stdout",
     "output_type": "stream",
     "text": [
      "('It is a BMW of 1998', 24) <class 'tuple'>\n"
     ]
    }
   ],
   "source": [
    "# return values\n",
    "def car(model, year):\n",
    "    return f'It is a {model} of {year}', 2022 - year\n",
    "\n",
    "\n",
    "a = car(\"BMW\", 1998)\n",
    "print(a, type(a))\n",
    "\n",
    "# we can return different types of objects also if multiple objects are returned, \n",
    "# then they are returned as tuples."
   ]
  },
  {
   "cell_type": "code",
   "execution_count": 9,
   "metadata": {},
   "outputs": [
    {
     "name": "stdout",
     "output_type": "stream",
     "text": [
      "3 no: of people had gone to London on a car\n"
     ]
    }
   ],
   "source": [
    "# we can call agruments as keyword pairs\n",
    "tour(vehicle='car', place='London', people_count=3)"
   ]
  },
  {
   "cell_type": "markdown",
   "metadata": {},
   "source": [
    "### **<span style=\"color:#FEC260\">Lambda functions</span>**\n",
    "\n",
    "- Lambda functions are a way to create anonymous functions. \n",
    "- Lambda functions can have any number of arguments but only one expression. \n",
    "- Lambda functions can be used wherever function objects are required.\n",
    "- Lambda functions are used along with built-in functions like filter(), map() etc."
   ]
  },
  {
   "cell_type": "code",
   "execution_count": 11,
   "metadata": {},
   "outputs": [
    {
     "name": "stdout",
     "output_type": "stream",
     "text": [
      "25\n",
      "25\n"
     ]
    }
   ],
   "source": [
    "# To find the square of a number\n",
    "def square (num):\n",
    "    return num ** 2\n",
    "\n",
    "print(square(5))\n",
    "\n",
    "# We can do this in a single line with lambda function\n",
    "square = lambda num: num ** 2\n",
    "\n",
    "print(square(5))\n",
    "\n",
    "# Here both the functions works exactly the same"
   ]
  },
  {
   "cell_type": "markdown",
   "metadata": {},
   "source": [
    "##### **<span style=\"color:#FEC260\">args</span>**\n",
    "\n",
    "- All the arguments we provide would be packed into a tuple with the name we have given after *.\n",
    "- args is not a keyword, but a convention."
   ]
  },
  {
   "cell_type": "code",
   "execution_count": 15,
   "metadata": {},
   "outputs": [
    {
     "name": "stdout",
     "output_type": "stream",
     "text": [
      "10 20\n",
      "('Hello', 1, 2, 3, 4, ' world')\n",
      "<class 'tuple'>\n"
     ]
    }
   ],
   "source": [
    "def foo(a, b, *args):\n",
    "    print(a, b)\n",
    "    print(args)\n",
    "    print(type(args))\n",
    "\n",
    "\n",
    "foo(10, 20, \"Hello\", 1, 2, 3 ,4, \" world\")"
   ]
  },
  {
   "cell_type": "code",
   "execution_count": 16,
   "metadata": {},
   "outputs": [
    {
     "data": {
      "text/plain": [
       "6000"
      ]
     },
     "execution_count": 16,
     "metadata": {},
     "output_type": "execute_result"
    }
   ],
   "source": [
    "# product of all the arguments \n",
    "def foo1(*args):\n",
    "    prod = 1\n",
    "    for i in args:\n",
    "        prod *= i\n",
    "    return prod\n",
    "\n",
    "foo1(1, 10, 3, 2, 10, 2, 5)"
   ]
  },
  {
   "cell_type": "markdown",
   "metadata": {},
   "source": [
    "#### **<span style=\"color:#FEC260\">Keyword arguments or kwargs</span>**\n",
    "\n",
    "- All the keyword arguments would be packed into a dictionary with the name we have given after **.\n",
    "- kwargs is also not a keyword, but a convention.\n",
    "- While using args and kwargs the order is important, args must be used first then kwargs, otherwise it would throw an error. \n"
   ]
  },
  {
   "cell_type": "code",
   "execution_count": 17,
   "metadata": {},
   "outputs": [
    {
     "name": "stdout",
     "output_type": "stream",
     "text": [
      "15   DJ\n",
      "{'country': 'Russia', 'Nationality': 'Poland', 'Salary': '200k'}\n"
     ]
    }
   ],
   "source": [
    "def hello(age, profession, **kwargs):\n",
    "    print(age, \" \", profession)\n",
    "    print(kwargs)\n",
    "    \n",
    "hello(15, \"DJ\", country='Russia', Nationality='Poland', Salary='200k')"
   ]
  },
  {
   "cell_type": "markdown",
   "metadata": {},
   "source": [
    "#### **<span style=\"color:#FEC260\">Using args and kwargs together</span>**"
   ]
  },
  {
   "cell_type": "code",
   "execution_count": 18,
   "metadata": {},
   "outputs": [
    {
     "name": "stdout",
     "output_type": "stream",
     "text": [
      "Houses are:  gryffindor Ravenclaw Hufflepuff Slytherin\n",
      "\n",
      "Args ('Severus Snape', 'Horace slughorn', 'Remus Lupin')\n",
      "\n",
      "Kwargs {'headmaster': 'Alpus dumbledoor', 'deputy_headmistress': 'Minerva McGonagall'}\n"
     ]
    }
   ],
   "source": [
    "def hogwarts(house1, house2, house3, house4, *args, **kwargs):\n",
    "    print(\"Houses are: \", house1, house2, house3, house4)\n",
    "    print()\n",
    "    print(\"Args\", args)\n",
    "    print()\n",
    "    print(\"Kwargs\", kwargs)\n",
    "\n",
    "hogwarts('gryffindor', 'Ravenclaw', 'Hufflepuff', \n",
    "         'Slytherin', 'Severus Snape', 'Horace slughorn', \n",
    "         'Remus Lupin', headmaster='Alpus dumbledoor', \n",
    "         deputy_headmistress='Minerva McGonagall')"
   ]
  }
 ],
 "metadata": {
  "kernelspec": {
   "display_name": "Python 3.10.5 64-bit",
   "language": "python",
   "name": "python3"
  },
  "language_info": {
   "codemirror_mode": {
    "name": "ipython",
    "version": 3
   },
   "file_extension": ".py",
   "mimetype": "text/x-python",
   "name": "python",
   "nbconvert_exporter": "python",
   "pygments_lexer": "ipython3",
   "version": "3.10.5"
  },
  "orig_nbformat": 4,
  "vscode": {
   "interpreter": {
    "hash": "f4c85645bce20c702a4ecae1b93c6759c482279d1c3b7e99a0246a20b7629f3f"
   }
  }
 },
 "nbformat": 4,
 "nbformat_minor": 2
}
