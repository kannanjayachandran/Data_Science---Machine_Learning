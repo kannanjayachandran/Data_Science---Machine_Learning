{
 "cells": [
  {
   "cell_type": "markdown",
   "id": "cfe05483-e35c-4003-a547-d5ebd4e18c79",
   "metadata": {},
   "source": [
    "## <span style=\"color:#FEC260\">List</span>"
   ]
  },
  {
   "cell_type": "code",
   "execution_count": 1,
   "id": "1f5769b8-a895-469a-846a-0a651446f1e7",
   "metadata": {},
   "outputs": [
    {
     "name": "stdout",
     "output_type": "stream",
     "text": [
      "Original list:  ['one', 'two', 'three', 'four']\n",
      "Length of the list:  4\n"
     ]
    }
   ],
   "source": [
    "num = ['one', 'two', 'three', 'four']\n",
    "\n",
    "print(\"Original list: \", num)\n",
    "print(\"Length of the list: \", len(num))\n"
   ]
  },
  {
   "cell_type": "code",
   "execution_count": 3,
   "id": "38e35e9b",
   "metadata": {},
   "outputs": [
    {
     "name": "stdout",
     "output_type": "stream",
     "text": [
      "New list:  ['zero', 'two', 'three', 'four', 'ten', 'ten', 'five', 'threefour', 'five', 'threefour']\n"
     ]
    }
   ],
   "source": [
    "# we can index a list\n",
    "num[0] = \"zero\"\n",
    "\n",
    "# we can add new elements to a list using append\n",
    "num.append(\"five\")\n",
    "num.append(num[2] + num[3])\n",
    "\n",
    "# we can use the insert method to insert an element at a specific index\n",
    "num.insert(4, \"ten\")\n",
    "print('New list: ', num)"
   ]
  },
  {
   "cell_type": "code",
   "execution_count": 4,
   "id": "05632844",
   "metadata": {},
   "outputs": [
    {
     "name": "stdout",
     "output_type": "stream",
     "text": [
      "Extended list:  ['zero', 'two', 'three', 'four', 'ten', 'ten', 'five', 'threefour', 'five', 'threefour', 'six', 'seven']\n",
      "three\n",
      "seven\n"
     ]
    }
   ],
   "source": [
    "# we can add another iterable to the end of the list using the extend method\n",
    "f = ['six', 'seven']\n",
    "num.extend(f)\n",
    "print(\"Extended list: \", num)\n",
    "\n",
    "# we can reomve the first item whose value is x by using the remove method\n",
    "num.remove('ten')\n",
    "\n",
    "# we can remove an item at a given index and return it using pop method\n",
    "a = num.pop(2)\n",
    "print(a)\n",
    "\n",
    "# if no index is specified pop would remove the last element and return it\n",
    "b = num.pop()\n",
    "print(b)"
   ]
  },
  {
   "cell_type": "code",
   "execution_count": 5,
   "id": "d8ad60eb",
   "metadata": {},
   "outputs": [
    {
     "name": "stdout",
     "output_type": "stream",
     "text": [
      "Number of 'ten':  4\n",
      "Index of 5:  4\n"
     ]
    }
   ],
   "source": [
    "# we can count the number of times an element appears using the count method\n",
    "s = ['ten', 'ten', 'ten']\n",
    "num.extend(s)\n",
    "print(\"Number of 'ten': \", num.count('ten'))\n",
    "\n",
    "# we can get index of an item using the index method (It resturn the first appearnce)\n",
    "print(\"Index of 5: \", num.index('five'))"
   ]
  },
  {
   "cell_type": "code",
   "execution_count": 7,
   "id": "b9701b5a",
   "metadata": {},
   "outputs": [
    {
     "name": "stdout",
     "output_type": "stream",
     "text": [
      "Sorted list:  ['five', 'five', 'four', 'six', 'ten', 'ten', 'ten', 'ten', 'threefour', 'threefour', 'two', 'zero']\n",
      "\n",
      "Reversed list:  ['zero', 'two', 'threefour', 'threefour', 'ten', 'ten', 'ten', 'ten', 'six', 'four', 'five', 'five']\n",
      "\n",
      "Copy of list:  ['zero', 'two', 'threefour', 'threefour', 'ten', 'ten', 'ten', 'ten', 'six', 'four', 'five', 'five']\n"
     ]
    }
   ],
   "source": [
    "# we can use the built-in sort function to sort the list\n",
    "num.sort()\n",
    "print(\"Sorted list: \", num)\n",
    "\n",
    "# we can use the reverse method to reverse the list\n",
    "num.reverse()\n",
    "print(\"\\nReversed list: \", num)\n",
    "\n",
    "# we can create a copy of the list using copy method\n",
    "p = num.copy()\n",
    "print(\"\\nCopy of list: \", p)"
   ]
  },
  {
   "cell_type": "markdown",
   "id": "362a8919",
   "metadata": {},
   "source": [
    "### **<span style=\"color:#FEC260\">List Slicing</span>**"
   ]
  },
  {
   "cell_type": "markdown",
   "id": "eb0b3357",
   "metadata": {},
   "source": [
    "**Syntax** : list[start:end:step]\n",
    "\n",
    "**start** : starting index of the slice\n",
    "\n",
    "**end** : ending index of the slice\n",
    "\n",
    "**step** : step size\n",
    "\n",
    "**Note** : end index is not included in the slice\n",
    "\n",
    "\n"
   ]
  },
  {
   "cell_type": "code",
   "execution_count": 1,
   "id": "8cb02399",
   "metadata": {},
   "outputs": [],
   "source": [
    "shows = ['Breaking bad', 'Dark', 'Friends', 'GOT', 'House', 'Sherlock holmes', 'The office', 'Vikings']"
   ]
  },
  {
   "cell_type": "code",
   "execution_count": 2,
   "id": "e6a975e7",
   "metadata": {},
   "outputs": [
    {
     "data": {
      "text/plain": [
       "['Dark', 'Friends', 'GOT']"
      ]
     },
     "execution_count": 2,
     "metadata": {},
     "output_type": "execute_result"
    }
   ],
   "source": [
    "shows[1:4] # start index to end-1 index"
   ]
  },
  {
   "cell_type": "code",
   "execution_count": 3,
   "id": "2b4f68b8",
   "metadata": {},
   "outputs": [
    {
     "data": {
      "text/plain": [
       "['Breaking bad', 'Dark', 'Friends', 'GOT', 'House']"
      ]
     },
     "execution_count": 3,
     "metadata": {},
     "output_type": "execute_result"
    }
   ],
   "source": [
    "shows[:5] # all the elements from beginning to end-1 index"
   ]
  },
  {
   "cell_type": "code",
   "execution_count": 4,
   "id": "7087df63",
   "metadata": {},
   "outputs": [
    {
     "data": {
      "text/plain": [
       "['Friends', 'GOT', 'House', 'Sherlock holmes', 'The office', 'Vikings']"
      ]
     },
     "execution_count": 4,
     "metadata": {},
     "output_type": "execute_result"
    }
   ],
   "source": [
    "shows[2:] # all the elements from start index to to last"
   ]
  },
  {
   "cell_type": "code",
   "execution_count": 5,
   "id": "1f2b828b",
   "metadata": {},
   "outputs": [
    {
     "name": "stdout",
     "output_type": "stream",
     "text": [
      "['Breaking bad', 'Friends', 'House', 'The office']\n"
     ]
    },
    {
     "data": {
      "text/plain": [
       "['Breaking bad', 'Friends', 'House', 'The office']"
      ]
     },
     "execution_count": 5,
     "metadata": {},
     "output_type": "execute_result"
    }
   ],
   "source": [
    "print(shows[0:len(shows):2]) # from beginning to end with 2 increment\n",
    "\n",
    "# we can write the above code by omitting the default values\n",
    "shows[::2]"
   ]
  },
  {
   "cell_type": "markdown",
   "id": "23cf3d7a",
   "metadata": {},
   "source": [
    "##### List sclicing doesn't affect the original list, it creates a new list."
   ]
  },
  {
   "cell_type": "code",
   "execution_count": 6,
   "id": "7bdf1a00",
   "metadata": {},
   "outputs": [
    {
     "name": "stdout",
     "output_type": "stream",
     "text": [
      "['Breaking bad', 'Dark', 'Friends', 'GOT', 'House', 'Sherlock holmes', 'The office', 'Vikings']\n",
      "['Vikings', 'The office', 'Sherlock holmes', 'House', 'GOT', 'Friends', 'Dark', 'Breaking bad']\n"
     ]
    }
   ],
   "source": [
    "p = shows[::-1] # from beginning to end all elements from the last\n",
    "print(shows)\n",
    "print(p)"
   ]
  },
  {
   "cell_type": "code",
   "execution_count": 8,
   "id": "898a21ed",
   "metadata": {},
   "outputs": [
    {
     "data": {
      "text/plain": [
       "['Sherlock holmes', 'House', 'GOT']"
      ]
     },
     "execution_count": 8,
     "metadata": {},
     "output_type": "execute_result"
    }
   ],
   "source": [
    "shows[5:2:-1]  # from the start index to end-1 index in left direction\n",
    "\n",
    "# The default value for increment is 1, we can skip giving 1, \n",
    "# anything other than one  we have to give."
   ]
  },
  {
   "cell_type": "code",
   "execution_count": 9,
   "id": "5b6b0ba5",
   "metadata": {},
   "outputs": [
    {
     "data": {
      "text/plain": [
       "['Vikings', 'The office', 'Sherlock holmes']"
      ]
     },
     "execution_count": 9,
     "metadata": {},
     "output_type": "execute_result"
    }
   ],
   "source": [
    "shows[-1:-4:-1] # we can use indexing in negative direction also"
   ]
  },
  {
   "cell_type": "markdown",
   "id": "7547492f",
   "metadata": {},
   "source": [
    "#### **<span style=\"color:#FEC260\">Taking input into a list</span>**"
   ]
  },
  {
   "cell_type": "markdown",
   "id": "909a20bc",
   "metadata": {},
   "source": [
    "we can take input using the _input()_ function. However; _input()_ function takes the input as a string. We can convert the input into a list using the split() function.\n",
    "\n",
    "**Syntax** : list_name = input().split()"
   ]
  },
  {
   "cell_type": "code",
   "execution_count": 1,
   "id": "c51d8d3f",
   "metadata": {},
   "outputs": [
    {
     "name": "stdout",
     "output_type": "stream",
     "text": [
      "4 5 6 7 8 9\n",
      "[4, 5, 6, 7, 8, 9]\n"
     ]
    }
   ],
   "source": [
    "a = input(\"Enter numbers: \")\n",
    "print(a)\n",
    "\n",
    "# we can define the condition for spliting the string\n",
    "b = a.split()\n",
    "\n",
    "# Now b is a list but each entry of b is still a string literal;\n",
    "# We can convert this using a simple loop.\n",
    "\n",
    "for i in range(len(b)):\n",
    "    b[i] = int(b[i]) \n",
    "     \n",
    "print(b)"
   ]
  },
  {
   "cell_type": "markdown",
   "id": "d27f888c",
   "metadata": {},
   "source": [
    "**Note** : split() function splits the string into a list of strings. If we want to split the string into a list of integers, we can use the map() function.\n",
    "\n",
    "**Syntax** : list_name = list(map(int, input().split()))\n",
    "\n",
    "**Note** : map() function takes two arguments, the first argument is the function to be applied to the list and the second argument is the list itself."
   ]
  },
  {
   "cell_type": "code",
   "execution_count": 4,
   "id": "dfa461e0",
   "metadata": {},
   "outputs": [
    {
     "name": "stdout",
     "output_type": "stream",
     "text": [
      "[1, 2, 3, 4, 5] <class 'int'>\n"
     ]
    }
   ],
   "source": [
    "int_list = list(map(int, input().split()))\n",
    "print(int_list, type(int_list[0]))"
   ]
  },
  {
   "cell_type": "code",
   "execution_count": 1,
   "id": "671e3fd0",
   "metadata": {},
   "outputs": [
    {
     "name": "stdout",
     "output_type": "stream",
     "text": [
      "Original list:  [1, 3, 5, 7, 9]\n",
      "Reversing the list using reverse():  [9, 7, 5, 3, 1]\n",
      "Reversing the list using Slicing:  [1, 3, 5, 7, 9]\n"
     ]
    }
   ],
   "source": [
    "# Reversing a list\n",
    "\n",
    "l = [1, 3, 5, 7, 9]\n",
    "print(\"Original list: \", l)\n",
    "\n",
    "l.reverse()\n",
    "\n",
    "print(\"Reversing the list using reverse(): \", l)\n",
    "\n",
    "l = l[::-1]\n",
    "print(\"Reversing the list using Slicing: \", l)"
   ]
  },
  {
   "cell_type": "code",
   "execution_count": 2,
   "id": "26bd8b20",
   "metadata": {},
   "outputs": [
    {
     "name": "stdout",
     "output_type": "stream",
     "text": [
      "List is:  [1, 3, 5, 7, 9]\n",
      "list is:  [9, 7, 5, 3, 1]\n"
     ]
    }
   ],
   "source": [
    "# we can reverse an array using two pointer swap also\n",
    "\n",
    "print(\"List is: \", l)\n",
    "start, end = 0, len(l)-1\n",
    "\n",
    "while start < end:\n",
    "    l[start], l[end] = l[end], l[start]\n",
    "    start += 1\n",
    "    end -= 1\n",
    "print('list is: ', l)"
   ]
  },
  {
   "cell_type": "markdown",
   "id": "f692a4a7",
   "metadata": {},
   "source": [
    "##### **<span style=\"color:#FEC260\">2D list</span>**"
   ]
  },
  {
   "cell_type": "code",
   "execution_count": 3,
   "id": "8abe2f19",
   "metadata": {},
   "outputs": [
    {
     "name": "stdout",
     "output_type": "stream",
     "text": [
      "[[1, 2, 3, 4], [5, 6, 7, 8], [9, 10, 11, 12]]\n"
     ]
    }
   ],
   "source": [
    "lis = [\n",
    "    [1, 2, 3, 4], \n",
    "    [5, 6, 7, 8],\n",
    "    [9, 10, 11, 12]\n",
    "]\n",
    "print(lis) # we can consider this as a matrix"
   ]
  },
  {
   "cell_type": "code",
   "execution_count": 4,
   "id": "1adbb732",
   "metadata": {},
   "outputs": [
    {
     "name": "stdout",
     "output_type": "stream",
     "text": [
      "[1, 2, 3, 4]\n"
     ]
    },
    {
     "data": {
      "text/plain": [
       "1"
      ]
     },
     "execution_count": 4,
     "metadata": {},
     "output_type": "execute_result"
    }
   ],
   "source": [
    "print(lis[0]) # first row\n",
    "\n",
    "lis[0][0] # first element"
   ]
  },
  {
   "cell_type": "markdown",
   "id": "13d0110e",
   "metadata": {},
   "source": [
    "Iterating over a 2D list is similar to iterating over a 1D list. We can use the for loop to iterate over the list. However; we need to use two for loops to iterate over a 2D list."
   ]
  },
  {
   "cell_type": "code",
   "execution_count": 6,
   "id": "1b4d3a22",
   "metadata": {},
   "outputs": [
    {
     "name": "stdout",
     "output_type": "stream",
     "text": [
      "[1, 2, 3, 4]\n",
      "[5, 6, 7, 8]\n",
      "[9, 10, 11, 12]\n"
     ]
    }
   ],
   "source": [
    "for row in lis:\n",
    "    print(row)\n",
    "# here row is a list"
   ]
  },
  {
   "cell_type": "markdown",
   "id": "92940fc1",
   "metadata": {},
   "source": [
    " suppose we want to print the squares of each element of the matrix"
   ]
  },
  {
   "cell_type": "code",
   "execution_count": 7,
   "id": "709f20fa",
   "metadata": {},
   "outputs": [
    {
     "name": "stdout",
     "output_type": "stream",
     "text": [
      "1 4 9 16 \n",
      "25 36 49 64 \n",
      "81 100 121 144 \n"
     ]
    }
   ],
   "source": [
    "for row in lis:\n",
    "    for element in row:\n",
    "        print(element**2, end=' ')\n",
    "    print()"
   ]
  },
  {
   "cell_type": "code",
   "execution_count": 8,
   "id": "9172ced5",
   "metadata": {},
   "outputs": [
    {
     "name": "stdout",
     "output_type": "stream",
     "text": [
      "1 2 3 4\n",
      "5 6 7 8\n",
      "9 10 11 12\n"
     ]
    }
   ],
   "source": [
    "# Here also we can use the spread operator \n",
    "\n",
    "for row in lis:\n",
    "    print(*row)"
   ]
  },
  {
   "cell_type": "markdown",
   "id": "91412a11",
   "metadata": {},
   "source": [
    "##### **<span style=\"color:#FEC260\">Reading 2D Input</span>**"
   ]
  },
  {
   "cell_type": "code",
   "execution_count": 10,
   "id": "8d1e2fb4",
   "metadata": {},
   "outputs": [
    {
     "name": "stdout",
     "output_type": "stream",
     "text": [
      "[[1, 2, 3], [3, 2, 1]]\n"
     ]
    }
   ],
   "source": [
    "## we need to know the number of number of rows and col's beforehand\n",
    "r, c = map(int, input(\"Enter rows and columns: \").split())  # reading rows and col's\n",
    "\n",
    "a = []\n",
    "\n",
    "# we can take the input row by row\n",
    "for i in range(r):\n",
    "    row = list(map(int, input().split()))\n",
    "    a.append(row)\n",
    "\n",
    "print(a)"
   ]
  },
  {
   "cell_type": "markdown",
   "id": "ba32bf30",
   "metadata": {},
   "source": [
    "Adding two 2D lists is similar to adding two Matrices."
   ]
  },
  {
   "cell_type": "code",
   "execution_count": 12,
   "id": "d8271bca",
   "metadata": {},
   "outputs": [
    {
     "name": "stdout",
     "output_type": "stream",
     "text": [
      "Enter the first matrix: \n",
      "Matrix1 :  [[1, 2, 3], [3, 2, 1]]\n",
      "Enter the second matrix: \n",
      "Matrix2 :  [[3, 2, 1], [1, 2, 3]]\n",
      "\n",
      "Sum matrix:  [[4, 4, 4], [4, 4, 4]]\n"
     ]
    }
   ],
   "source": [
    "# Taking input for matrix1\n",
    "print(\"Enter the first matrix: \")\n",
    "\n",
    "r1, c1 = map(int, input().split())\n",
    "\n",
    "a = []\n",
    "\n",
    "for i in range(r1):\n",
    "    row = list(map(int, input(\"Enter the elements: \").split()))[:c1]  # we are only taking the first c inputs\n",
    "    a.append(row)\n",
    "\n",
    "print(\"Matrix1 : \", a)\n",
    "\n",
    "# Taking input for matrix2\n",
    "print(\"Enter the second matrix: \")\n",
    "\n",
    "r2, c2 = map(int, input().split())\n",
    "\n",
    "b = []\n",
    "\n",
    "for i in range(r2):\n",
    "    row = list(map(int, input(\"Enter the elements: \").split()))[:c2]  # we are only taking the first c2 inputs\n",
    "    b.append(row)\n",
    "\n",
    "if r1 == r2 and c1 == c2:\n",
    "    for i in range(r1):\n",
    "        for j in range(c1):\n",
    "            a[i][j] += b[i][j]\n",
    "        \n",
    "\n",
    "print(\"Matrix2 : \", b)\n",
    "print(\"\\nSum matrix: \", a)"
   ]
  },
  {
   "cell_type": "markdown",
   "id": "fe6806b7",
   "metadata": {},
   "source": [
    "Multiplying two matrices is similar to multiplying two 2D lists."
   ]
  },
  {
   "cell_type": "code",
   "execution_count": 2,
   "id": "f33b45b9",
   "metadata": {},
   "outputs": [
    {
     "name": "stdout",
     "output_type": "stream",
     "text": [
      "Enter the first matrix: \n",
      "Enter the second matrix: \n",
      "\n",
      "Matrix1: \t [[1, 2, 3], [3, 2, 1]]\n",
      "\n",
      "Matirx2: \t [[1, 2], [3, 4], [5, 6]]\n",
      "\n",
      "product matrix:  [[22, 28], [14, 20]]\n"
     ]
    }
   ],
   "source": [
    "# multiplying two matrices\n",
    "\n",
    "# Taking input for matrix1\n",
    "print(\"Enter the first matrix: \")\n",
    "\n",
    "r1, c1 = map(int, input().split())\n",
    "\n",
    "a = []\n",
    "\n",
    "for i in range(r1):\n",
    "    row = list(map(int, input(\"Enter the elements: \").split()))[:c1] \n",
    "    a.append(row)\n",
    "\n",
    "# Taking input for matrix2\n",
    "print(\"Enter the second matrix: \")\n",
    "\n",
    "r2, c2 = map(int, input().split())\n",
    "\n",
    "b = []\n",
    "\n",
    "for i in range(r2):\n",
    "    row = list(map(int, input(\"Enter the elements: \").split()))[:c2] \n",
    "    b.append(row)\n",
    "\n",
    "# resultant matrix\n",
    "c = [[0 for x in range(r1)], [0 for x in range(c2)]]\n",
    "\n",
    "print(\"\\nMatrix1: \\t\", a)\n",
    "print(\"\\nMatirx2: \\t\", b)\n",
    "\n",
    "if c1 == r2:\n",
    "    for i in range(r1):\n",
    "        for j in range(c2):\n",
    "            for k in range(r2):\n",
    "                c[i][j] += a[i][k]*b[k][j]\n",
    "\n",
    "    print(\"\\nproduct matrix: \", c)\n",
    "\n",
    "else:\n",
    "    print(\"Multiplication not possible\")"
   ]
  },
  {
   "cell_type": "markdown",
   "id": "d0a32ecc",
   "metadata": {},
   "source": [
    "Subtracting two matrices is similar to subtracting two 2D lists."
   ]
  },
  {
   "cell_type": "code",
   "execution_count": 3,
   "id": "ffc8ce53",
   "metadata": {},
   "outputs": [
    {
     "name": "stdout",
     "output_type": "stream",
     "text": [
      "Enter the first matrix: \n",
      "Enter the second matrix: \n",
      "\n",
      "Matrix1:  [[1, 2, 3], [3, 2, 1]]\n",
      "\n",
      "Matrix2:  [[1, 2, 3], [3, 2, 1]]\n",
      "\n",
      "Difference matrix:  [[0, 0, 0], [0, 0, 0]]\n"
     ]
    }
   ],
   "source": [
    "# Taking input for matrix1\n",
    "print(\"Enter the first matrix: \")\n",
    "\n",
    "r1, c1 = map(int, input().split())\n",
    "\n",
    "a = []\n",
    "\n",
    "for i in range(r1):\n",
    "    row = list(map(int, input(\"Enter the elements: \").split()))[:c1]  \n",
    "    a.append(row)\n",
    "\n",
    "print(\"Enter the second matrix: \")\n",
    "\n",
    "r2, c2 = map(int, input().split())\n",
    "\n",
    "b = []\n",
    "\n",
    "for i in range(r2):\n",
    "    row = list(map(int, input(\"Enter the elements: \").split()))[:c1]\n",
    "    b.append(row)\n",
    "\n",
    "print(\"\\nMatrix1: \", a)\n",
    "print(\"\\nMatrix2: \", b)\n",
    "\n",
    "\n",
    "if r1 == r2 and c1 == c2:\n",
    "    for i in range(r1):\n",
    "        for j in range(c1):\n",
    "            a[i][j] -= b[i][j]\n",
    "\n",
    "print(\"\\nDifference matrix: \", a)"
   ]
  }
 ],
 "metadata": {
  "kernelspec": {
   "display_name": "Python 3.10.5 64-bit",
   "language": "python",
   "name": "python3"
  },
  "language_info": {
   "codemirror_mode": {
    "name": "ipython",
    "version": 3
   },
   "file_extension": ".py",
   "mimetype": "text/x-python",
   "name": "python",
   "nbconvert_exporter": "python",
   "pygments_lexer": "ipython3",
   "version": "3.10.5"
  },
  "vscode": {
   "interpreter": {
    "hash": "f4c85645bce20c702a4ecae1b93c6759c482279d1c3b7e99a0246a20b7629f3f"
   }
  }
 },
 "nbformat": 4,
 "nbformat_minor": 5
}
