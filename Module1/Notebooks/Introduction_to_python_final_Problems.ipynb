{
 "cells": [
  {
   "cell_type": "markdown",
   "metadata": {},
   "source": [
    "### **<span style=\"color:#FEC260\">Module 1 Questions</span>**"
   ]
  },
  {
   "cell_type": "markdown",
   "metadata": {},
   "source": [
    "1 **Check palindrome**\n",
    "\n",
    "- Given a string A consisting of lowercase characters. Check if characters of the given string can be rearranged to form a palindrome. Return 1 if it is possible to rearrange the characters of the string A such that it becomes a palindrome else return 0.\n"
   ]
  },
  {
   "cell_type": "code",
   "execution_count": 4,
   "metadata": {},
   "outputs": [
    {
     "data": {
      "text/plain": [
       "1"
      ]
     },
     "execution_count": 4,
     "metadata": {},
     "output_type": "execute_result"
    }
   ],
   "source": [
    "def solution(word):\n",
    "\n",
    "    # making a frequency map\n",
    "    freqMap = {}\n",
    "    \n",
    "    for char in word:\n",
    "        if char in freqMap:\n",
    "            freqMap[char] += 1\n",
    "        else:\n",
    "            freqMap[char] = 1\n",
    "\n",
    "    # counting the odd freqencies\n",
    "    odd_freq = 0\n",
    "\n",
    "    for i in freqMap.values():\n",
    "        if i % 2 == 1:\n",
    "            odd_freq += 1\n",
    "    \n",
    "    # checking if palindrome or not\n",
    "    if odd_freq <= 1:\n",
    "        return 1\n",
    "    else:\n",
    "        return 0\n",
    "\n",
    "\n",
    "\n",
    "word = input().lower()\n",
    "solution(word)"
   ]
  },
  {
   "cell_type": "markdown",
   "metadata": {},
   "source": [
    "2 Write a program to find the **GCD** of two numbers using the **Euclidean algorithm**."
   ]
  },
  {
   "cell_type": "code",
   "execution_count": 4,
   "metadata": {},
   "outputs": [
    {
     "name": "stdout",
     "output_type": "stream",
     "text": [
      "GCD is :  2\n"
     ]
    }
   ],
   "source": [
    "a = int(input(\"Enter the first number: \"))\n",
    "b = int(input(\"Enter the second number: \"))\n",
    "\n",
    "while a != 0:\n",
    "    a, b = b % a, a\n",
    "\n",
    "print(\"GCD is : \", b)"
   ]
  },
  {
   "cell_type": "markdown",
   "metadata": {},
   "source": [
    "3 **Trailing zeros in factorial of a number** \n",
    "- Given an integer A return the number of trailing zeros in A!, the solution should have logarithmic time complexity. A can be as big as 10^5. \n",
    "\n",
    "Time complexity of the given solution is **O(logn)** to the **base 5**"
   ]
  },
  {
   "cell_type": "code",
   "execution_count": 2,
   "metadata": {},
   "outputs": [
    {
     "data": {
      "text/plain": [
       "28"
      ]
     },
     "execution_count": 2,
     "metadata": {},
     "output_type": "execute_result"
    }
   ],
   "source": [
    "def trailing(n):\n",
    "\n",
    "    result = 0\n",
    "    deno = 5\n",
    "\n",
    "    value = n // deno\n",
    "\n",
    "    while value >= 1:\n",
    "        result += value\n",
    "        deno *= 5\n",
    "\n",
    "        value = n // deno\n",
    "    \n",
    "    return result\n",
    "\n",
    "n = int(input(\"Enter n: \"))\n",
    "trailing(n)"
   ]
  },
  {
   "cell_type": "markdown",
   "metadata": {},
   "source": [
    "4 **Two Sum problem**\n",
    "- Given an array of integers, find two numbers such that they add up to a specific target number.\n",
    "\n",
    "The function twoSum should return indices of the two numbers such that they add up to the target, where index1 < index2. Please note that your returned answers (both index1 and index2 ) are not zero-based. Put both these numbers in order in an array and return the array from your function. Note that, if no pair exists, return empty list.\n",
    "\n",
    "If multiple solutions exist, output the one where index2 is minimum. If there are multiple solutions with the minimum index2, choose the one with minimum index1 out of them.\n",
    "\n",
    "Input: [2, 7, 11, 15], target=9 Output: index1 = 1, index2 = 2\n",
    "\n",
    "**(Time complexity : O(n))**"
   ]
  },
  {
   "cell_type": "code",
   "execution_count": 2,
   "metadata": {},
   "outputs": [
    {
     "data": {
      "text/plain": [
       "(1, 4)"
      ]
     },
     "execution_count": 2,
     "metadata": {},
     "output_type": "execute_result"
    }
   ],
   "source": [
    "def twoSum(A, B):\n",
    "\n",
    "    dic = {}\n",
    "\n",
    "    for i in range(len(A)):\n",
    "\n",
    "        req  = B - A[i]\n",
    "\n",
    "        if req in dic: \n",
    "            return  dic[req]+1, i+1\n",
    "        if A[i] not in dic:\n",
    "            dic[A[i]] = i\n",
    "    \n",
    "    return []\n",
    "\n",
    "\n",
    "A = [2, 2 ,7, 11, 13, 12]\n",
    "B = 13\n",
    "\n",
    "twoSum(A, B)"
   ]
  },
  {
   "cell_type": "markdown",
   "metadata": {},
   "source": [
    "5 **Maximum absolute difference**\n",
    "\n",
    "You are given an array of N integers, A1, A2 ,…, AN. Return maximum value of f(i, j) for all 1 ≤ i, j ≤ N.\n",
    "\n",
    "f(i, j) is defined as |A[i] - A[j]| + |i - j|, where |x| denotes absolute value of x.\n",
    "\n",
    "For example,\n",
    "\n",
    "A=[1, 3, -1]\n",
    "\n",
    "f(1, 1) = f(2, 2) = f(3, 3) = 0\n",
    "f(1, 2) = f(2, 1) = |1 - 3| + |1 - 2| = 3\n",
    "f(1, 3) = f(3, 1) = |1 - (-1)| + |1 - 3| = 4\n",
    "f(2, 3) = f(3, 2) = |3 - (-1)| + |2 - 3| = 5\n",
    "\n",
    "So, we return 5.\n",
    "\n",
    "**Time complexity O(n)**"
   ]
  },
  {
   "cell_type": "code",
   "execution_count": 1,
   "metadata": {},
   "outputs": [
    {
     "name": "stdout",
     "output_type": "stream",
     "text": [
      "5\n"
     ]
    }
   ],
   "source": [
    "import math\n",
    "\n",
    "def max_Ab_Diff(A):\n",
    "\n",
    "    a = -math.inf\n",
    "    b = math.inf\n",
    "    c = -math.inf\n",
    "    d = math.inf\n",
    "\n",
    "    for i in range(len(A)):\n",
    "        index  = A[i]\n",
    "\n",
    "        a = max(a, index+i)\n",
    "        b = min(b, index+i)\n",
    "\n",
    "        c = max(c, index-i)\n",
    "        d = min(d, index-i)\n",
    "\n",
    "    return max(a-b, c-d)\n",
    "\n",
    "A = [1, 3, -1]\n",
    "\n",
    "print(max_Ab_Diff(A))"
   ]
  },
  {
   "cell_type": "markdown",
   "metadata": {},
   "source": [
    "6 **First missing positive value**\n",
    "\n",
    "Given an unsorted integer array, find the first missing positive integer.\n",
    "\n",
    "Given [1,2,0] return 3,\n",
    "\n",
    "[3,4,-1,1] return 2,\n",
    "\n",
    "[-8, -7, -6] returns 1\n",
    "\n",
    "Your algorithm should run in **O(n)** time and use **constant space**."
   ]
  },
  {
   "cell_type": "markdown",
   "metadata": {},
   "source": [
    "_Algorithm should use constant space means we cannot use any other data structure to store the values. We can use the input array itself to store the values. Since we are using the index to map our values, we are using 1-based index here_"
   ]
  },
  {
   "cell_type": "code",
   "execution_count": 6,
   "metadata": {},
   "outputs": [
    {
     "data": {
      "text/plain": [
       "4"
      ]
     },
     "execution_count": 6,
     "metadata": {},
     "output_type": "execute_result"
    }
   ],
   "source": [
    "A = [-1, 0, 1, 2, -4, 3, 10, 200]\n",
    "\n",
    "def positive_int(A):\n",
    "\n",
    "    N = len(A)\n",
    "\n",
    "    # cleaning the data\n",
    "    for i in range(N):\n",
    "        if A[i] <= 0 or A[i] > N:\n",
    "            A[i] = N+100\n",
    "\n",
    "    # Negating the values present in the list\n",
    "    for i in range(N):\n",
    "\n",
    "        # selecting the index\n",
    "        x = abs(A[i]) - 1\n",
    "\n",
    "        if x >= 0 and x < N:\n",
    "            A[x] *= -1\n",
    "\n",
    "    # finding the answer    \n",
    "    for i in range(N):\n",
    "        if A[i] > 0:\n",
    "            return i+1\n",
    "    \n",
    "    return N+1\n",
    "        \n",
    "\n",
    "positive_int(A)"
   ]
  },
  {
   "cell_type": "markdown",
   "metadata": {},
   "source": [
    "7 **Find the second largest number in a list**\n",
    "\n",
    "Given a list of numbers, find the second largest number in the list. \n",
    "\n",
    "**Time complexity O(n)**"
   ]
  },
  {
   "cell_type": "code",
   "execution_count": 13,
   "metadata": {},
   "outputs": [
    {
     "name": "stdout",
     "output_type": "stream",
     "text": [
      "25\n"
     ]
    }
   ],
   "source": [
    "import math\n",
    "\n",
    "lis = [-20, -30, 40, 25, 10]\n",
    "\n",
    "l = -math.inf\n",
    "\n",
    "for i in range(len(lis)):\n",
    "    if lis[i] > l:\n",
    "        l = lis[i]\n",
    "\n",
    "sl = -math.inf\n",
    "\n",
    "for i in range(len(lis)):\n",
    "    if lis[i] > sl and lis[i] != l:\n",
    "        sl = lis[i]\n",
    "\n",
    "print(sl)"
   ]
  },
  {
   "cell_type": "markdown",
   "metadata": {},
   "source": [
    "8 **Brain Kernighan's Algorithm** for counting the number of set bits in a number.\n",
    "\n",
    "If we subtract 1 from a decimal number, it flips all the bits after the rightmost set bit(which is 1) including the rightmost set bit. If we do n & (n-1) in a loop and count the no of times loop executes we get the set bit count.\n",
    "\n",
    "Time complexity: **O(logn)** or **O(number of set bits)**"
   ]
  },
  {
   "cell_type": "code",
   "execution_count": 16,
   "metadata": {},
   "outputs": [
    {
     "name": "stdout",
     "output_type": "stream",
     "text": [
      "Number of set bits in 42 : 3\n"
     ]
    }
   ],
   "source": [
    "n = int(input('Enter n:'))\n",
    "\n",
    "ans = 0\n",
    "\n",
    "print('Number of set bits in', n, ':', end=' ')\n",
    "\n",
    "while n != 0:\n",
    "    n &= n-1\n",
    "    ans += 1\n",
    "\n",
    "print(ans)"
   ]
  },
  {
   "cell_type": "markdown",
   "metadata": {},
   "source": [
    "9  A local musician is putting on a concert to raise money for charity. The concert will be held in the town hall, a spacious venue perfectly suited for such an event. There are r rows of seats, each containing exactly s seats. At most one person can sit on a single seat (that is, two people cannot share a seat).\n",
    "\n",
    "There is a problem - the concert may have been overbooked! This means that if everybody who bought tickets comes to the concert, some of them might have to stand. Now the musician has aproached you, not for advice, but for the answer to the following question: if everybody who bought tickets arrives and tries to find a seat, how many people will end up sitting, and how many people will be standing?\n",
    "\n",
    "- Input : \n",
    "- first line : 's' and 'r' where; 0 <= r, s <= 10,000 (rows and columns)\n",
    "- second line : n; single integer between 0 and 1,000,000,000 (number of tickets sold)\n",
    "    \n",
    "- output : Number of people standing and number of people sitting"
   ]
  },
  {
   "cell_type": "code",
   "execution_count": 1,
   "metadata": {},
   "outputs": [
    {
     "name": "stdout",
     "output_type": "stream",
     "text": [
      "84 people are sitting and 16 people are standing\n"
     ]
    }
   ],
   "source": [
    "r, s = map(int, input('Enter r and s:').split())\n",
    "\n",
    "n = int(input('Enter n:'))\n",
    "\n",
    "ts = r*s\n",
    "standing = 0\n",
    "sitting = 0\n",
    "\n",
    "if n > ts:\n",
    "    standing = n-ts\n",
    "    sitting = ts\n",
    "else:\n",
    "    sitting  = n\n",
    "\n",
    "print(sitting, 'people are sitting and', standing, 'people are standing')"
   ]
  },
  {
   "cell_type": "markdown",
   "metadata": {},
   "source": [
    "10 Inbuilt **Sorting** functions in python\n",
    "\n",
    "- **sorted()** function returns a sorted list of the specified iterable object.\n",
    "- **sort()** function sorts the elements of a given iterable in a specific order (either ascending or descending) and returns None. It sorts the given iterable in place.\n",
    "- **reverse()** function reverses the elements of the given iterable and returns None. It reverses the given iterable in place.\n",
    "\n",
    "- Both sort() and sorted() has time complexity of **O(nlogn)** and space complexity of **O(n)** in worst case. Python uses **Timsort** algorithm for sorting. Timsort is a hybrid sorting algorithm, derived from merge sort and insertion sort, designed to perform well on many kinds of real-world data.\n"
   ]
  },
  {
   "cell_type": "code",
   "execution_count": 10,
   "metadata": {},
   "outputs": [
    {
     "name": "stdout",
     "output_type": "stream",
     "text": [
      "lis: [10, 9, 8, 7, 6, 5, 4, 3, 2, 1]\n",
      "\n",
      "a: [10, 9, 8, 7, 6, 5, 4, 3, 2, 1]\n",
      "\n",
      "sort():  [1, 2, 3, 4, 5, 6, 7, 8, 9, 10]\n",
      "\n",
      "sorted():  [1, 2, 3, 4, 5, 6, 7, 8, 9, 10]\n"
     ]
    }
   ],
   "source": [
    "lis = [x for x in range(10, 0, -1)]\n",
    "a = lis\n",
    "print('lis:', lis)\n",
    "print('\\na:', a)\n",
    "\n",
    "lis.sort()\n",
    "print(\"\\nsort(): \", lis)\n",
    "\n",
    "b  = sorted(a)\n",
    "print(\"\\nsorted(): \", b)"
   ]
  },
  {
   "cell_type": "markdown",
   "metadata": {},
   "source": [
    " We can sort in reverse order by passing the parameter _reverse = True_"
   ]
  },
  {
   "cell_type": "code",
   "execution_count": 21,
   "metadata": {},
   "outputs": [
    {
     "name": "stdout",
     "output_type": "stream",
     "text": [
      "a: [1, 2, 3, 4, 5, 6, 7, 8, 9, 10]\n",
      "\n",
      "Sorted(a, reverse=True) = [10, 9, 8, 7, 6, 5, 4, 3, 2, 1]\n",
      "\n",
      "a.sort() = [1, 2, 3, 4, 5, 6, 7, 8, 9, 10]\n",
      "\n",
      "a.sort(reverse=True) = [10, 9, 8, 7, 6, 5, 4, 3, 2, 1]\n"
     ]
    }
   ],
   "source": [
    "a = [1, 2, 3, 4, 5, 6, 7, 8, 9, 10]\n",
    "print('a:', a)\n",
    "\n",
    "a = sorted(a, reverse=True)\n",
    "\n",
    "print('\\nSorted(a, reverse=True) =', a)\n",
    "\n",
    "a.sort()\n",
    "\n",
    "print('\\na.sort() =', a)\n",
    "a.sort(reverse=True)\n",
    "\n",
    "print('\\na.sort(reverse=True) =', a)"
   ]
  },
  {
   "cell_type": "markdown",
   "metadata": {},
   "source": [
    "**<span style=\"color:#FEC260\">Bubble sort</span>**"
   ]
  },
  {
   "cell_type": "code",
   "execution_count": 25,
   "metadata": {},
   "outputs": [
    {
     "name": "stdout",
     "output_type": "stream",
     "text": [
      "Sorted array is: [10, 20, 30, 40, 50, 60, 70, 80, 90, 100, 110, 120]\n"
     ]
    }
   ],
   "source": [
    "arr = [120, 30, 20, 90, 40, 80, 100, 10, 110, 50, 70, 60]\n",
    "n = len(arr)\n",
    "\n",
    "# bubble sort algorithm\n",
    "for i in range(n):\n",
    "    swapped  = False\n",
    "\n",
    "    for j in range(n-i-1):\n",
    "        if arr[j] > arr[j+1]:\n",
    "            arr[j], arr[j+1] = arr[j+1], arr[j]\n",
    "\n",
    "            swapped = True\n",
    "            \n",
    "    if swapped == False:\n",
    "        break\n",
    "\n",
    "print('Sorted array is:', arr)"
   ]
  },
  {
   "cell_type": "markdown",
   "metadata": {},
   "source": [
    "11 **<span style=\"color:#FEC260\">Linear search</span>**\n",
    "\n",
    "Linear search is a very simple search algorithm. Every item is checked and if a match is found then that particular item is returned, otherwise the search continues till the end of the data collection. \n",
    "\n",
    "**Time complexity O(n)**"
   ]
  },
  {
   "cell_type": "code",
   "execution_count": 5,
   "metadata": {},
   "outputs": [
    {
     "name": "stdout",
     "output_type": "stream",
     "text": [
      "99 is found at index 99\n"
     ]
    }
   ],
   "source": [
    "arr = [x for x in range(101)]\n",
    "\n",
    "n = len(arr)\n",
    "x = 99\n",
    "\n",
    "ans = -1\n",
    "\n",
    "for i in range(n):\n",
    "    if arr[i] == x:\n",
    "        ans = i\n",
    "\n",
    "if ans == -1:\n",
    "    print(x, 'not found in array')\n",
    "else:\n",
    "    print(x, 'is found at index', ans)"
   ]
  },
  {
   "cell_type": "markdown",
   "metadata": {},
   "source": [
    "**<span style=\"color:#FEC260\">Binary Search</span>**\n",
    "\n",
    "Binary search is a search algorithm that finds the position of a target value within a **sorted array**. Binary search compares the target value to the middle element of the array. If they are not equal, the half in which the target cannot lie is eliminated and the search continues on the remaining half, again taking the middle element to compare to the target value, and repeating this until the target value is found. If the search ends with the remaining half being empty, the target is not in the array. It uses the **divide and conquer** approach.\n",
    "\n",
    "**Time complexity O(logn)** with base 2"
   ]
  },
  {
   "cell_type": "code",
   "execution_count": 7,
   "metadata": {},
   "outputs": [
    {
     "name": "stdout",
     "output_type": "stream",
     "text": [
      "99 is found at index 99\n"
     ]
    }
   ],
   "source": [
    "arr = [x for x in range(101)]\n",
    "\n",
    "n = len(arr)\n",
    "x = 99\n",
    "ans = -1\n",
    "start = 0\n",
    "end = n-1\n",
    "\n",
    "while start <= end:\n",
    "    mid  = (start + end) // 2\n",
    "\n",
    "    if arr[mid] == x:\n",
    "        ans = mid\n",
    "        break\n",
    "\n",
    "    elif arr[mid] > x:\n",
    "        end = mid-1\n",
    "    \n",
    "    elif arr[mid] < x:\n",
    "        start = mid+1    \n",
    "\n",
    "if ans == -1:\n",
    "    print(x, 'not found in array')\n",
    "else:\n",
    "    print(x, 'is found at index', ans)"
   ]
  },
  {
   "cell_type": "markdown",
   "metadata": {},
   "source": [
    "**Modified Binary search to find lower bound**"
   ]
  },
  {
   "cell_type": "code",
   "execution_count": 4,
   "metadata": {},
   "outputs": [
    {
     "name": "stdout",
     "output_type": "stream",
     "text": [
      "2 is found at index 2\n"
     ]
    }
   ],
   "source": [
    "arr = [1, 1, 2, 2, 2, 2, 3, 4, 4, 5, 5, 6, 7]\n",
    "\n",
    "n = len(arr)\n",
    "x  = 2\n",
    "start = 0\n",
    "end = n-1\n",
    "ans = -1\n",
    "\n",
    "while start <= end:\n",
    "    mid = (start + end) // 2\n",
    "\n",
    "    if arr[mid] == x:\n",
    "        ans = mid\n",
    "        end = mid - 1\n",
    "\n",
    "    elif arr[mid] > x:\n",
    "        end = mid - 1\n",
    "    elif arr[mid] < x:\n",
    "        start = mid + 1\n",
    "    \n",
    "if ans == -1:\n",
    "    print(x, 'not found in array')\n",
    "else:\n",
    "    print(x, 'is found at index', ans)"
   ]
  },
  {
   "cell_type": "markdown",
   "metadata": {},
   "source": [
    "**Modified Binary search to find upper bound**"
   ]
  },
  {
   "cell_type": "code",
   "execution_count": 8,
   "metadata": {},
   "outputs": [
    {
     "name": "stdout",
     "output_type": "stream",
     "text": [
      "2 is found at index 5\n"
     ]
    }
   ],
   "source": [
    "arr = [1, 1, 2, 2, 2, 2, 3, 4, 4, 5, 5, 6, 7]\n",
    "\n",
    "n = len(arr)\n",
    "x  = 2\n",
    "start = 0\n",
    "end = n-1\n",
    "ans = -1\n",
    "\n",
    "while start <= end:\n",
    "    mid = (start + end) // 2\n",
    "\n",
    "    if arr[mid] == x:\n",
    "        ans = mid\n",
    "        start  = mid + 1\n",
    "\n",
    "    elif arr[mid] > x:\n",
    "        end = mid - 1\n",
    "    elif arr[mid] < x:\n",
    "        start = mid + 1\n",
    "    \n",
    "if ans == -1:\n",
    "    print(x, 'not found in array')\n",
    "else:\n",
    "    print(x, 'is found at index', ans)"
   ]
  }
 ],
 "metadata": {
  "kernelspec": {
   "display_name": "Python 3.10.5 64-bit",
   "language": "python",
   "name": "python3"
  },
  "language_info": {
   "codemirror_mode": {
    "name": "ipython",
    "version": 3
   },
   "file_extension": ".py",
   "mimetype": "text/x-python",
   "name": "python",
   "nbconvert_exporter": "python",
   "pygments_lexer": "ipython3",
   "version": "3.10.5"
  },
  "orig_nbformat": 4,
  "vscode": {
   "interpreter": {
    "hash": "f4c85645bce20c702a4ecae1b93c6759c482279d1c3b7e99a0246a20b7629f3f"
   }
  }
 },
 "nbformat": 4,
 "nbformat_minor": 2
}
