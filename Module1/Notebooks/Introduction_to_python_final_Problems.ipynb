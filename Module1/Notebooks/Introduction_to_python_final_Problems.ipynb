{
 "cells": [
  {
   "cell_type": "markdown",
   "metadata": {},
   "source": [
    "### **<span style=\"color:#FEC260\">Module 1 Questions</span>**"
   ]
  },
  {
   "cell_type": "markdown",
   "metadata": {},
   "source": [
    "1. **Check palindrome**\n",
    "\n",
    "- Given a string A consisting of lowercase characters. Check if characters of the given string can be rearranged to form a palindrome. Return 1 if it is possible to rearrange the characters of the string A such that it becomes a palindrome else return 0.\n"
   ]
  },
  {
   "cell_type": "code",
   "execution_count": 4,
   "metadata": {},
   "outputs": [
    {
     "data": {
      "text/plain": [
       "1"
      ]
     },
     "execution_count": 4,
     "metadata": {},
     "output_type": "execute_result"
    }
   ],
   "source": [
    "def solution(word):\n",
    "\n",
    "    # making a frequency map\n",
    "    freqMap = {}\n",
    "    \n",
    "    for char in word:\n",
    "        if char in freqMap:\n",
    "            freqMap[char] += 1\n",
    "        else:\n",
    "            freqMap[char] = 1\n",
    "\n",
    "    # counting the odd freqencies\n",
    "    odd_freq = 0\n",
    "\n",
    "    for i in freqMap.values():\n",
    "        if i % 2 == 1:\n",
    "            odd_freq += 1\n",
    "    \n",
    "    # checking if palindrome or not\n",
    "    if odd_freq <= 1:\n",
    "        return 1\n",
    "    else:\n",
    "        return 0\n",
    "\n",
    "\n",
    "\n",
    "word = input().lower()\n",
    "solution(word)"
   ]
  },
  {
   "cell_type": "markdown",
   "metadata": {},
   "source": [
    "2. Write a program to find the **GCD** of two numbers using the **Euclidean algorithm**."
   ]
  },
  {
   "cell_type": "code",
   "execution_count": 4,
   "metadata": {},
   "outputs": [
    {
     "name": "stdout",
     "output_type": "stream",
     "text": [
      "GCD is :  2\n"
     ]
    }
   ],
   "source": [
    "a = int(input(\"Enter the first number: \"))\n",
    "b = int(input(\"Enter the second number: \"))\n",
    "\n",
    "while a != 0:\n",
    "    a, b = b % a, a\n",
    "\n",
    "print(\"GCD is : \", b)"
   ]
  },
  {
   "cell_type": "markdown",
   "metadata": {},
   "source": [
    "3. **Trailing zeros in factorial of a number** \n",
    "- Given an integer A return the number of trailing zeros in A!, the solution should have logarithmic time complexity. A can be as big as 10^5. "
   ]
  },
  {
   "cell_type": "code",
   "execution_count": 4,
   "metadata": {},
   "outputs": [
    {
     "data": {
      "text/plain": [
       "7"
      ]
     },
     "execution_count": 4,
     "metadata": {},
     "output_type": "execute_result"
    }
   ],
   "source": [
    "def trailing(n):\n",
    "\n",
    "    result = 0\n",
    "    deno = 5\n",
    "\n",
    "    value = n // deno\n",
    "\n",
    "    while value >= 1:\n",
    "        result += value\n",
    "        deno *= 5\n",
    "\n",
    "        value = n // deno\n",
    "    \n",
    "    return result\n",
    "\n",
    "n = int(input(\"Enter n: \"))\n",
    "trailing(n)"
   ]
  },
  {
   "cell_type": "markdown",
   "metadata": {},
   "source": [
    "Time complexity of the above solution is **O(logn)** to the **base 5**"
   ]
  },
  {
   "cell_type": "markdown",
   "metadata": {},
   "source": [
    "4. **Two Sum problem**\n",
    "- Given an array of integers, find two numbers such that they add up to a specific target number.\n",
    "\n",
    "The function twoSum should return indices of the two numbers such that they add up to the target, where index1 < index2. Please note that your returned answers (both index1 and index2 ) are not zero-based. Put both these numbers in order in an array and return the array from your function. Note that, if no pair exists, return empty list.\n",
    "\n",
    "If multiple solutions exist, output the one where index2 is minimum. If there are multiple solutions with the minimum index2, choose the one with minimum index1 out of them.\n",
    "\n",
    "Input: [2, 7, 11, 15], target=9 Output: index1 = 1, index2 = 2\n",
    "\n",
    "Time complexity : O(n)"
   ]
  },
  {
   "cell_type": "code",
   "execution_count": 10,
   "metadata": {},
   "outputs": [
    {
     "data": {
      "text/plain": [
       "(1, 4)"
      ]
     },
     "execution_count": 10,
     "metadata": {},
     "output_type": "execute_result"
    }
   ],
   "source": [
    "def twoSum(A, B):\n",
    "\n",
    "    dic = {}\n",
    "\n",
    "    for i in range(len(A)):\n",
    "\n",
    "        req  = B - A[i]\n",
    "\n",
    "        if req in dic: \n",
    "            return  dic[req]+1, i+1\n",
    "        if A[i] not in dic:\n",
    "            dic[A[i]] = i\n",
    "    \n",
    "    return []\n",
    "\n",
    "\n",
    "A = [2, 2 ,7, 11, 13, 12]\n",
    "B = 13\n",
    "\n",
    "twoSum(A, B)"
   ]
  }
 ],
 "metadata": {
  "kernelspec": {
   "display_name": "Python 3.10.5 64-bit",
   "language": "python",
   "name": "python3"
  },
  "language_info": {
   "codemirror_mode": {
    "name": "ipython",
    "version": 3
   },
   "file_extension": ".py",
   "mimetype": "text/x-python",
   "name": "python",
   "nbconvert_exporter": "python",
   "pygments_lexer": "ipython3",
   "version": "3.10.5"
  },
  "orig_nbformat": 4,
  "vscode": {
   "interpreter": {
    "hash": "f4c85645bce20c702a4ecae1b93c6759c482279d1c3b7e99a0246a20b7629f3f"
   }
  }
 },
 "nbformat": 4,
 "nbformat_minor": 2
}
