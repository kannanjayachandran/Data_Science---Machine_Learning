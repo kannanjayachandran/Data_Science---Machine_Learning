{
 "cells": [
  {
   "cell_type": "markdown",
   "id": "81a57f6f-8597-43fe-913b-f2ac08c5b6e3",
   "metadata": {},
   "source": [
    "### <span style=\"color:#FEC260\">Sample problems</span>"
   ]
  },
  {
   "cell_type": "markdown",
   "id": "cb2f837b",
   "metadata": {},
   "source": [
    "<span style=\"color:#FEC260\">WAP to print all the odd numbers between 1 and 10</span>\n"
   ]
  },
  {
   "cell_type": "code",
   "execution_count": 3,
   "id": "70d511a5-1a15-40a7-965a-74fcb5f4b896",
   "metadata": {},
   "outputs": [
    {
     "name": "stdout",
     "output_type": "stream",
     "text": [
      "1 3 5 7 9 "
     ]
    }
   ],
   "source": [
    "for i in range(1, 10, 2):\n",
    "    print(i, end=' ')"
   ]
  },
  {
   "cell_type": "markdown",
   "id": "ecb88598",
   "metadata": {},
   "source": [
    "<span style=\"color:#FEC260\">WAP to print the squares of even numbers in the range of 1 to 10</span>\n"
   ]
  },
  {
   "cell_type": "code",
   "execution_count": 4,
   "id": "f495add4-3c6e-4b87-ab1d-166593827a0b",
   "metadata": {},
   "outputs": [
    {
     "name": "stdout",
     "output_type": "stream",
     "text": [
      "4 16 36 64 100 "
     ]
    }
   ],
   "source": [
    "for i in range(2, 11, 2):\n",
    "    print(i**2, end=' ')"
   ]
  },
  {
   "cell_type": "markdown",
   "id": "8525ddc2",
   "metadata": {},
   "source": [
    "<span style=\"color:#FEC260\">WAP to print the cubes of odd numbers form 10 to 1\n",
    "</span>\n"
   ]
  },
  {
   "cell_type": "code",
   "execution_count": 5,
   "id": "6322765c-90b3-4a5c-8f93-be9bbbc41f8e",
   "metadata": {},
   "outputs": [
    {
     "name": "stdout",
     "output_type": "stream",
     "text": [
      "729 343 125 27 1 "
     ]
    }
   ],
   "source": [
    "for i in range(9, 0, -2):\n",
    "    print(i**3, end=' ')"
   ]
  },
  {
   "cell_type": "markdown",
   "id": "998e18f4",
   "metadata": {},
   "source": [
    "<span style=\"color:#FEC260\">Given a number compute the sum of digits</span>\n"
   ]
  },
  {
   "cell_type": "code",
   "execution_count": 6,
   "id": "b91ae08c-c637-42d5-a1cd-ff16a289ae1c",
   "metadata": {},
   "outputs": [
    {
     "name": "stdout",
     "output_type": "stream",
     "text": [
      "6\n"
     ]
    }
   ],
   "source": [
    "num = int(input(\"Enter the number: \"))\n",
    "\n",
    "sum = 0\n",
    "while num > 0:\n",
    "    sum += num % 10\n",
    "    num //= 10\n",
    "\n",
    "print(sum)"
   ]
  },
  {
   "cell_type": "markdown",
   "id": "cbccefc3-4132-4bd5-8e09-81fe7a450c3d",
   "metadata": {},
   "source": [
    "<span style=\"color:#FEC260\">print random nubmers between 1 and 10 untill we get 5</span>\n",
    "\n",
    "Running an infinite loop because we don't know how many times the loop would run to get 5. We can use the break statement to break out of the loop when we get 5."
   ]
  },
  {
   "cell_type": "code",
   "execution_count": 17,
   "id": "239ea793-cd3a-4805-b04a-cc2c9b94771c",
   "metadata": {},
   "outputs": [
    {
     "name": "stdout",
     "output_type": "stream",
     "text": [
      "8 , 6 , 2 , 7 , 1 , 7 , 4 , 2 , 7 , 2 , 5 "
     ]
    }
   ],
   "source": [
    "import random\n",
    "\n",
    "while True:\n",
    "    r = random.randint(1, 10)\n",
    "    print(r, end=' ')\n",
    "    if r == 5:\n",
    "        break\n",
    "    print(', ', end='')"
   ]
  },
  {
   "cell_type": "markdown",
   "id": "a955919f-6447-4c63-ba2d-b0e0dde16acb",
   "metadata": {},
   "source": [
    "<span style=\"color:#FEC260\">print all the even numbers form 0 to 100, skipping all the multiples of 3 and 4</span>"
   ]
  },
  {
   "cell_type": "code",
   "execution_count": 33,
   "id": "c09b30a5-fb73-4608-9dd7-3315be31f015",
   "metadata": {},
   "outputs": [
    {
     "name": "stdout",
     "output_type": "stream",
     "text": [
      "2 10 14 22 26 34 38 46 50 58 62 70 74 82 86 94 98 "
     ]
    }
   ],
   "source": [
    "for i in range(0, 100, 2):\n",
    "    if (i % 3 == 0) or (i % 4 ==0):\n",
    "        continue \n",
    "        \n",
    "    print(i, end=' ')\n",
    "# This code is cleaner than running another if statement inside the loop."
   ]
  },
  {
   "cell_type": "code",
   "execution_count": 8,
   "id": "2163486e-7789-4387-ac8d-fd814d61e9d1",
   "metadata": {},
   "outputs": [
    {
     "name": "stdout",
     "output_type": "stream",
     "text": [
      "2 10 14 22 26 34 38 46 50 58 62 70 74 82 86 94 98 "
     ]
    }
   ],
   "source": [
    "# print all the even numbers form 0 to 100, \n",
    "# skipping all the multiples of 3 and 4 : without continue keyword\n",
    "\n",
    "for i in range(0, 100, 2):\n",
    "    if (i % 3 != 0) and (i % 4 != 0):\n",
    "        print(i, end=' ')"
   ]
  },
  {
   "cell_type": "markdown",
   "id": "af5fe5a7-3e15-41a6-8048-ee635621399e",
   "metadata": {},
   "source": [
    "<span style=\"color:#FEC260\">Check if the given number is prime or not, if prime then print yes else print no</span>\n"
   ]
  },
  {
   "cell_type": "code",
   "execution_count": 9,
   "id": "e415d800-a128-4203-a396-04412ba57a0f",
   "metadata": {},
   "outputs": [
    {
     "name": "stdout",
     "output_type": "stream",
     "text": [
      "\n",
      "Yes\n"
     ]
    }
   ],
   "source": [
    "import math\n",
    "\n",
    "n = int(input(\"Enter N: \"))\n",
    "\n",
    "if n == 1 or n ==0:\n",
    "    print(\"Neither prime nor composite\")\n",
    "    \n",
    "else:\n",
    "    flag = True\n",
    "    for i in range(2, int(math.sqrt(n)) + 1):\n",
    "        if n % i == 0:\n",
    "            print(\"\\nNo\")\n",
    "            flag = False\n",
    "            break\n",
    "    if flag:\n",
    "        print(\"\\nYes\")"
   ]
  },
  {
   "cell_type": "markdown",
   "id": "2f7d04eb",
   "metadata": {},
   "source": [
    "<span style=\"color:#FEC260\">Reversing a list using two pointer swap</span>"
   ]
  },
  {
   "cell_type": "code",
   "execution_count": 2,
   "id": "15023337",
   "metadata": {},
   "outputs": [
    {
     "name": "stdout",
     "output_type": "stream",
     "text": [
      "Original list:  [1, 2, 3, 4, 5]\n",
      "Reversed list:  [5, 4, 3, 2, 1]\n"
     ]
    }
   ],
   "source": [
    "a = [1, 2, 3, 4, 5]\n",
    "print(\"Original list: \", a)\n",
    "start, end = 0, len(a)-1\n",
    "\n",
    "while start < end:\n",
    "    a[start], a[end] = a[end], a[start]\n",
    "    start += 1\n",
    "    end -= 1\n",
    "\n",
    "print(\"Reversed list: \", a)"
   ]
  },
  {
   "cell_type": "markdown",
   "id": "9a0f8fd8",
   "metadata": {},
   "source": [
    "<span style=\"color:#FEC260\">Find all the divisors of a number 'n' from 1 to n</span>"
   ]
  },
  {
   "cell_type": "code",
   "execution_count": 3,
   "id": "53119086",
   "metadata": {},
   "outputs": [
    {
     "name": "stdout",
     "output_type": "stream",
     "text": [
      "1 2 5 10 25 50 "
     ]
    }
   ],
   "source": [
    "n = int(input('Enter n:'))\n",
    "\n",
    "for i in range(1, n+1):\n",
    "    if n % i == 0:\n",
    "        print(i, end=' ')"
   ]
  },
  {
   "cell_type": "markdown",
   "id": "4dd5d390",
   "metadata": {},
   "source": [
    "<span style=\"color:#FEC260\">Find the first digit of a number</span>"
   ]
  },
  {
   "cell_type": "code",
   "execution_count": 4,
   "id": "a08620a3",
   "metadata": {},
   "outputs": [
    {
     "name": "stdout",
     "output_type": "stream",
     "text": [
      "The first digit is: 2\n"
     ]
    }
   ],
   "source": [
    "n = int(input('Enter n: '))\n",
    "\n",
    "while n >= 10:\n",
    "    n //= 10\n",
    "\n",
    "print('The first digit is:', n)"
   ]
  },
  {
   "cell_type": "markdown",
   "id": "e0e86ea5",
   "metadata": {},
   "source": [
    "##### <span style=\"color:#FEC260\">Find the next prime number</span>"
   ]
  },
  {
   "cell_type": "code",
   "execution_count": 9,
   "id": "b8d804eb",
   "metadata": {},
   "outputs": [
    {
     "name": "stdout",
     "output_type": "stream",
     "text": [
      "23 is the next prime number.\n"
     ]
    }
   ],
   "source": [
    "import math\n",
    "\n",
    "N = int(input('Enter N:'))\n",
    "\n",
    "def isPrime(n):\n",
    "     \n",
    "    if(n <= 1):\n",
    "        return False\n",
    "    if(n <= 3):\n",
    "        return True\n",
    "     \n",
    "    if(n % 2 == 0 or n % 3 == 0):\n",
    "        return False\n",
    "     \n",
    "    for i in range(5,int(math.sqrt(n) + 1), 6):\n",
    "        if(n % i == 0 or n % (i + 2) == 0):\n",
    "            return False\n",
    "     \n",
    "    return True\n",
    " \n",
    "def nextPrime(N):\n",
    " \n",
    "    if (N <= 1):\n",
    "        return 2\n",
    " \n",
    "    prime = N\n",
    "    found = False\n",
    " \n",
    "    while(not found):\n",
    "        prime = prime + 1\n",
    " \n",
    "        if(isPrime(prime) == True):\n",
    "            found = True\n",
    " \n",
    "    return prime\n",
    "\n",
    "print(nextPrime(N), 'is the next prime number.')"
   ]
  },
  {
   "cell_type": "markdown",
   "id": "f960d7c7",
   "metadata": {},
   "source": [
    "##### <span style=\"color:#FEC260\">Swap adjacent elements in a list</span>"
   ]
  },
  {
   "cell_type": "code",
   "execution_count": 6,
   "id": "3b1d6454",
   "metadata": {},
   "outputs": [
    {
     "name": "stdout",
     "output_type": "stream",
     "text": [
      "[2, 1, 4, 3, 6, 5, 8, 7, 10, 9]\n"
     ]
    }
   ],
   "source": [
    "lis = [1, 2, 3, 4, 5, 6, 7, 8, 9, 10]\n",
    "\n",
    "i = 0\n",
    "\n",
    "while i < len(lis)-1:\n",
    "    lis[i], lis[i+1] = lis[i+1], lis[i]\n",
    "    i += 2\n",
    "\n",
    "print(lis)\n",
    "\n"
   ]
  },
  {
   "cell_type": "markdown",
   "id": "7808ac68",
   "metadata": {},
   "source": [
    "<span style=\"color:#FEC260\">Given a list find the sum of all the positive and negative numbers</span>"
   ]
  },
  {
   "cell_type": "code",
   "execution_count": 14,
   "id": "f0a7ed40",
   "metadata": {},
   "outputs": [
    {
     "name": "stdout",
     "output_type": "stream",
     "text": [
      "10 -10\n"
     ]
    }
   ],
   "source": [
    "lis = [-1, 3, -4, 2, 4, 1, -5]\n",
    "\n",
    "ps = 0\n",
    "ns = 0\n",
    "\n",
    "for i in lis:\n",
    "    if i > 0:\n",
    "        ps += i\n",
    "    elif i < 0:\n",
    "        ns += i\n",
    "\n",
    "print(ps, ns)"
   ]
  },
  {
   "cell_type": "markdown",
   "id": "a75e1907",
   "metadata": {},
   "source": [
    "<span style=\"color:#FEC260\">Given a list find the sum of all the even and odd numbers</span>"
   ]
  },
  {
   "cell_type": "code",
   "execution_count": 9,
   "id": "7963461c",
   "metadata": {},
   "outputs": [
    {
     "name": "stdout",
     "output_type": "stream",
     "text": [
      "Odd sum is 25, even sum is 30\n"
     ]
    }
   ],
   "source": [
    "lis = [x for x in range(1, 11)]\n",
    "\n",
    "even = [x for x in lis if x % 2 == 0]\n",
    "odd = [x for x in lis if x % 2 ==1]\n",
    "\n",
    "print(f'Odd sum is {sum(odd)}, even sum is {sum(even)}')"
   ]
  },
  {
   "cell_type": "markdown",
   "id": "7d671f9d",
   "metadata": {},
   "source": [
    "<span style=\"color:#FEC260\"> **Zip** function in python </span>\n"
   ]
  },
  {
   "cell_type": "code",
   "execution_count": 9,
   "id": "80161cae",
   "metadata": {},
   "outputs": [
    {
     "name": "stdout",
     "output_type": "stream",
     "text": [
      "[(1, 'a'), (2, 'b'), (3, 'c'), (4, 'd'), (5, 'e')] <class 'list'>\n",
      "<class 'tuple'>\n",
      "<zip object at 0x000001998A60D900>\n"
     ]
    }
   ],
   "source": [
    "a = [1, 2, 3, 4, 5]\n",
    "b = ['a', 'b', 'c', 'd', 'e']\n",
    "\n",
    "c = list(zip(a, b))\n",
    "print(c, type(c))\n",
    "print(type(c[0]))\n",
    "\n",
    "d = zip(c, a)\n",
    "print(d)"
   ]
  },
  {
   "cell_type": "code",
   "execution_count": 11,
   "id": "8a3a7786",
   "metadata": {},
   "outputs": [
    {
     "name": "stdout",
     "output_type": "stream",
     "text": [
      "(1, 2, 3, 4, 5) \n",
      " ('a', 'b', 'c', 'd', 'e')\n"
     ]
    }
   ],
   "source": [
    "i, j = zip(*c)\n",
    "print(i, '\\n', j)"
   ]
  },
  {
   "cell_type": "code",
   "execution_count": 14,
   "id": "0f016805",
   "metadata": {},
   "outputs": [
    {
     "name": "stdout",
     "output_type": "stream",
     "text": [
      "('fourarms', 'heatblast', 'diamondhead', 'greymatter') \n",
      " ('tetramand', 'pyronite', 'petrosapien', 'galvan')\n"
     ]
    }
   ],
   "source": [
    "omnitrix = {\n",
    "    'fourarms': 'tetramand',\n",
    "    'heatblast': 'pyronite', \n",
    "    'diamondhead': 'petrosapien', \n",
    "    'greymatter': 'galvan'\n",
    "}\n",
    "\n",
    "i, j = zip(*omnitrix.items())\n",
    "\n",
    "print(i, '\\n', j)"
   ]
  },
  {
   "cell_type": "markdown",
   "id": "865b6a2a",
   "metadata": {},
   "source": [
    "<span style=\"color:#FEC260\"> Optimized approach for cheking primality </span>\n"
   ]
  },
  {
   "cell_type": "code",
   "execution_count": 11,
   "id": "827f1d84",
   "metadata": {},
   "outputs": [],
   "source": [
    "def isPrime(n):\n",
    "\n",
    "    if n == 1:\n",
    "        return False\n",
    "\n",
    "    if n == 2 or n == 3:\n",
    "        return True\n",
    "\n",
    "    if n % 2 == 0 or n % 3 == 0:\n",
    "        return False\n",
    "\n",
    "    i = 5\n",
    "    while i*i < n:\n",
    "        if n % i == 0 or n % (i+2) == 0:\n",
    "            return False\n",
    "        i += 6\n",
    "    return True"
   ]
  },
  {
   "cell_type": "code",
   "execution_count": 19,
   "id": "03c8103a",
   "metadata": {},
   "outputs": [
    {
     "data": {
      "text/plain": [
       "True"
      ]
     },
     "execution_count": 19,
     "metadata": {},
     "output_type": "execute_result"
    }
   ],
   "source": [
    "isPrime(1123)"
   ]
  }
 ],
 "metadata": {
  "kernelspec": {
   "display_name": "Python 3.10.5 64-bit",
   "language": "python",
   "name": "python3"
  },
  "language_info": {
   "codemirror_mode": {
    "name": "ipython",
    "version": 3
   },
   "file_extension": ".py",
   "mimetype": "text/x-python",
   "name": "python",
   "nbconvert_exporter": "python",
   "pygments_lexer": "ipython3",
   "version": "3.10.5"
  },
  "vscode": {
   "interpreter": {
    "hash": "f4c85645bce20c702a4ecae1b93c6759c482279d1c3b7e99a0246a20b7629f3f"
   }
  }
 },
 "nbformat": 4,
 "nbformat_minor": 5
}
