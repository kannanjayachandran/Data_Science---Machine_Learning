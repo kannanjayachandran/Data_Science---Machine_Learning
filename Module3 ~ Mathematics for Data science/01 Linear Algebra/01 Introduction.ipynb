{
 "cells": [
  {
   "attachments": {},
   "cell_type": "markdown",
   "metadata": {},
   "source": [
    "<h1  style=\"color:cyan;\">\n",
    "\n",
    "Linear Algebra\n",
    "\n",
    "</h1>\n",
    "\n",
    "**Source** : [Course Link](https://www.coursera.org/learn/machine-learning-linear-algebra)"
   ]
  },
  {
   "cell_type": "code",
   "execution_count": 1,
   "metadata": {
    "vscode": {
     "languageId": "python"
    }
   },
   "outputs": [],
   "source": [
    "# importing deps/libraries\n",
    "\n",
    "import numpy as np"
   ]
  },
  {
   "attachments": {},
   "cell_type": "markdown",
   "metadata": {},
   "source": [
    "<h2  style=\"color:cyan;\">\n",
    "\n",
    "System of Linear Equations\n",
    "\n",
    "</h2>\n",
    "\n",
    "A system of linear equations is a collection of linear equations involving the same set of variables. For example, the following system of linear equations:\n",
    "\n",
    "$$\\begin{align} 2x + 3y &= 8 \\\\ 3x + 4y &= 9 \\end{align}$$ \n",
    "\n",
    "is a system of two equations in the variables $x$ and $y$.\n",
    "\n",
    "A solution to a system of linear equations is a set of values for the variables that satisfies all the equations simultaneously. For example, the values $x = 1$ and $y = 2$ is a solution to the system above.\n",
    "\n",
    "A system of linear equations can have either no solution, a unique solution or infinitely many solutions. For example, \n",
    "\n",
    "- The system of equations:\n",
    "\n",
    "$$\\begin{align} 2x + 3y &= 8 \\\\ 4x + 6y &= 9 \\end{align}$$\n",
    "\n",
    "has **no solution**. \n",
    "\n",
    "- The system of equations:\n",
    "\n",
    "$$\\begin{align} 2x + 3y &= 8 \\\\ 4x + 6y &= 16 \\end{align}$$\n",
    "\n",
    "has **infinitely many solutions**. \n",
    "\n",
    "- The system of equations:\n",
    "\n",
    "$$\\begin{align} 2x + 3y &= 8 \\\\ 4x + 6y &= 20 \\end{align}$$\n",
    "\n",
    "has a **unique solution**.\n",
    "\n",
    "<h2  style=\"color:cyan;\">\n",
    "\n",
    "Matrix Representation of a System of Linear Equations\n",
    "\n",
    "</h2>\n",
    "\n",
    "A system of linear equations can be represented in the matrix form as follows:\n",
    "\n",
    "$$\\begin{bmatrix} 2 & 3 \\\\ 3 & 4 \\end{bmatrix} \\begin{bmatrix} x \\\\ y \\end{bmatrix} = \\begin{bmatrix} 8 \\\\ 9 \\end{bmatrix}$$\n",
    "\n",
    "where the matrix on the left is called the **coefficient matrix** and the matrix on the right is called the **augmented matrix**.\n",
    "\n",
    "\n",
    "### Questions\n",
    "1. Bob has a mixture of apples and oranges of the same size, which he split into two bags. The first bag contains 4 apples and 3 oranges and weighs 700g. The second bag contains 2 apples and 6 oranges and weighs 1000g. \n",
    "\n",
    "  Translate the following description into a system of linear equations.\n",
    "\n",
    "**Ans**: $4a + 3o = 700$ and $2a + 6o = 1000$\n",
    "\n",
    "2. Translate the following system of linear equations into the matrix form:\n",
    "\n",
    "$$5x+3y+5z=6\\\\7x+2y+8z=17\\\\4x+3z=8$$\n",
    "\n",
    "**Ans**: $ \\begin{bmatrix} 5 & 3 & 5 &\\\\ 7 & 2 & 8 \\\\ 0 & 4 & 3 \\end{bmatrix} \\hspace{1em} \\begin{bmatrix}  x\\\\y\\\\z \\end{bmatrix} \\hspace{1em}=\\hspace{1em} \\begin{bmatrix} 6 \\\\ 17 \\\\ 8\\end{bmatrix}$\n",
    "\n",
    "\n",
    "\n",
    "3. Compute the determinant of the following matrix.\n",
    "\n",
    "```py\n",
    "  X = [\n",
    "    [1, 2, 1],\n",
    "    [0, 3, 5], \n",
    "    [4, 3, 8]\n",
    "  ]\n",
    "```"
   ]
  },
  {
   "cell_type": "code",
   "execution_count": 2,
   "metadata": {
    "vscode": {
     "languageId": "python"
    }
   },
   "outputs": [
    {
     "name": "stdout",
     "output_type": "stream",
     "text": [
      "Determinant of the matrix:\n",
      " [[1 2 1]\n",
      " [0 3 5]\n",
      " [4 3 8]] = 37.00\n"
     ]
    }
   ],
   "source": [
    "x = np.array([\n",
    "    [1, 2, 1],\n",
    "    [0, 3, 5], \n",
    "    [4, 3, 8]\n",
    "  ])\n",
    "\n",
    "det_x = np.linalg.det(x)\n",
    "\n",
    "print(f'Determinant of the matrix:\\n {x} = {det_x:.2f}')"
   ]
  },
  {
   "attachments": {},
   "cell_type": "markdown",
   "metadata": {},
   "source": [
    "<h2  style=\"color:cyan;\">\n",
    "\n",
    "Determinant of a matrix\n",
    "\n",
    "</h2>\n",
    "\n",
    "Determinant of a matrix is a special value which tells us some important properties of the matrix, like; \n",
    "\n",
    "  - If the matrix has inverse or not.\n",
    "  - Solving systems of linear equations.\n",
    "\n",
    "**Calculating the determinant of a 2x2 matrix** : $det(X) = ad-bc$ where; \n",
    "$$ X= \\begin{bmatrix} a & b \\\\ c & d\\end{bmatrix}$$\n",
    "\n",
    "> For a larger matrix we can find the determinant using a process called Co-factor expansion; which involves choosing a row or column and calculating the determinants of smaller matrices called cofactors. This process can be recursive, meaning you keep calculating determinants of smaller matrices until you reach a 2x2 matrix that you can solve using the formula above\n",
    "\n",
    "**Note**\n",
    "\n",
    "- All matrices does not have a determinant. Only square matrices have determinant. \n",
    "\n",
    "- If the determinant is zero, the matrix is said to be singular, and it does not have an inverse.\n",
    "\n",
    "```py\n",
    "numpy.linalg.det() \n",
    "```\n",
    "\n",
    "\n",
    "Consider the following matrix\n",
    "\n",
    "$$\\begin{bmatrix}  a & b \\\\ c & d\\end{bmatrix}$$\n",
    "\n",
    "The given matrix is singular if $a * b * k$ = $c * d$\n",
    "\n",
    "or; $$a*k = c \\hspace{1em} and \\hspace{1em}b*k = d$$\n",
    "\n",
    "or; $$\\frac{c}{a}=\\frac{d}{b} = k$$\n",
    "\n",
    "$$ad = bc$$\n",
    "\n",
    "$$ad-bc = 0$$ \n",
    "\n",
    "This value of $ad-bc = 0$ is important, we call it the determinant of the matrix.\n"
   ]
  },
  {
   "attachments": {},
   "cell_type": "markdown",
   "metadata": {},
   "source": [
    "<h2  style=\"color:cyan;\">\n",
    "\n",
    "Slope \n",
    "\n",
    "</h2>\n",
    "\n",
    "Slope is a measure of how steep a line is. It is defined as the change in the `y-coordinate` (vertical change) divided by the change in the `x-coordinate` (horizontal change) between any two points on the line. \n",
    "$$Slope = \\frac{rise}{run}$$\n",
    "\n",
    "**In simple terms it tells us how many units the line moves down for every unit we moves to the right**\n",
    "\n",
    "### Note\n",
    "\n",
    "- If a system of linear equations has a unique solution; then they are complete and non-singular.\n",
    "\n",
    "- If a system of linear equation has infinite solutions; it is redundant and singular.\n",
    "\n",
    "- if the system of linear equation has no solution; it is called Contradictory and singular.\n",
    "\n",
    "The constants in the system of equation are not important in determining whether the system is singular or not.\n",
    "\n"
   ]
  },
  {
   "attachments": {},
   "cell_type": "markdown",
   "metadata": {},
   "source": []
  }
 ],
 "metadata": {
  "kernelspec": {
   "display_name": "ML",
   "language": "python",
   "name": "ml"
  },
  "orig_nbformat": 4
 },
 "nbformat": 4,
 "nbformat_minor": 2
}
