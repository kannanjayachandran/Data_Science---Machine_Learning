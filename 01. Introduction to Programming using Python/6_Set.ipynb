{
 "cells": [
  {
   "cell_type": "markdown",
   "metadata": {},
   "source": [
    "### **<span style=\"color:#FEC260\">Set</span>**\n",
    "\n",
    "- Set allows duplicate values.\n",
    "- Set is unordered."
   ]
  },
  {
   "cell_type": "code",
   "execution_count": 1,
   "metadata": {},
   "outputs": [
    {
     "name": "stdout",
     "output_type": "stream",
     "text": [
      "{96, 19, 47} <class 'set'>\n"
     ]
    }
   ],
   "source": [
    "a = {96, 19, 47}\n",
    "print(a, type(a))"
   ]
  },
  {
   "cell_type": "code",
   "execution_count": 6,
   "metadata": {},
   "outputs": [
    {
     "name": "stdout",
     "output_type": "stream",
     "text": [
      "{96, 25, 19, 47}\n",
      "{96, 1, 66, 40, 47, 19, 25}\n"
     ]
    }
   ],
   "source": [
    "a.add(25)\n",
    "print(a)\n",
    "\n",
    "a.update([1,40, 66])\n",
    "print(a)"
   ]
  },
  {
   "cell_type": "code",
   "execution_count": 7,
   "metadata": {},
   "outputs": [],
   "source": [
    "a.remove(25)\n",
    "\n",
    "# a.remove(1000)  # This would give an error\n",
    "\n",
    "a.discard(1000) # this wouldn't give an error"
   ]
  },
  {
   "cell_type": "markdown",
   "metadata": {},
   "source": [
    "##### A simple usecase of set is to remove duplicate values from a list."
   ]
  },
  {
   "cell_type": "code",
   "execution_count": 8,
   "metadata": {},
   "outputs": [],
   "source": [
    "friend1 = ['Breaking bad', 'Dark', 'How I met your mother']\n",
    "friend2 = ['Dark', 'Vikings', 'Money heist', 'JL50']\n",
    "friend3 = ['GOT', 'Dark', 'Breaking bad']\n",
    "friend4 = ['Sherlock', 'Daredevil', 'Breaking bad', 'dark']"
   ]
  },
  {
   "cell_type": "markdown",
   "metadata": {},
   "source": [
    "From the given lists, find the unique values."
   ]
  },
  {
   "cell_type": "code",
   "execution_count": 9,
   "metadata": {},
   "outputs": [
    {
     "name": "stdout",
     "output_type": "stream",
     "text": [
      "{'How I met your mother', 'JL50', 'Daredevil', 'Sherlock', 'Money heist', 'Vikings', 'GOT', 'Breaking bad', 'Dark', 'dark'}\n"
     ]
    }
   ],
   "source": [
    "# This is soo easy using set \n",
    "s = set()\n",
    "s.update(friend1, friend2, friend3, friend4)\n",
    "print(s)\n",
    "\n",
    "# we are not putting the list inside the set; we are reading the data from the \n",
    "# lists using the update function and then inserting those values into the list."
   ]
  },
  {
   "cell_type": "markdown",
   "metadata": {},
   "source": [
    " How to check if we have another list and we want to see the common elements"
   ]
  },
  {
   "cell_type": "code",
   "execution_count": 10,
   "metadata": {},
   "outputs": [
    {
     "name": "stdout",
     "output_type": "stream",
     "text": [
      "Dark\n"
     ]
    }
   ],
   "source": [
    "friend5 = ['Dark', 'Peaky blinders', 'The office']\n",
    "\n",
    "for series in friend5:\n",
    "    if series in s:\n",
    "        print(series)"
   ]
  }
 ],
 "metadata": {
  "kernelspec": {
   "display_name": "Python 3.10.5 64-bit",
   "language": "python",
   "name": "python3"
  },
  "language_info": {
   "codemirror_mode": {
    "name": "ipython",
    "version": 3
   },
   "file_extension": ".py",
   "mimetype": "text/x-python",
   "name": "python",
   "nbconvert_exporter": "python",
   "pygments_lexer": "ipython3",
   "version": "3.10.5"
  },
  "orig_nbformat": 4,
  "vscode": {
   "interpreter": {
    "hash": "f4c85645bce20c702a4ecae1b93c6759c482279d1c3b7e99a0246a20b7629f3f"
   }
  }
 },
 "nbformat": 4,
 "nbformat_minor": 2
}
