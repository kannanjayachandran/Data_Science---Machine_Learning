{
 "cells": [
  {
   "cell_type": "markdown",
   "metadata": {},
   "source": [
    "# <span style=\"color:#FEC260\">D S M L</span> ~ Problem set - I\n",
    "\n",
    "> These are essentially mathematical or statistics and probability related problems."
   ]
  },
  {
   "cell_type": "markdown",
   "metadata": {},
   "source": [
    "**Q1 Find if a given 2D-point is inside or outside a circle**\n",
    "\n",
    "> **Note** Represent the circle using two points {x and y coordinates} and radius. The point is inside the circle if the distance between the point and the center of the circle is less than the radius."
   ]
  },
  {
   "cell_type": "code",
   "execution_count": 3,
   "metadata": {},
   "outputs": [],
   "source": [
    "def isInsideCircle(cx:int, cy: int, px: int, py: int, radius) -> str:\n",
    "    d = (((px-cx)**2) + ((py-cy)**2))**0.5\n",
    "    if d < radius: \n",
    "        return \"Inside the circle\"\n",
    "    if d == radius:\n",
    "        return \"On the circle\"\n",
    "    return \"Outside the circle\""
   ]
  },
  {
   "cell_type": "code",
   "execution_count": 4,
   "metadata": {},
   "outputs": [
    {
     "data": {
      "text/plain": [
       "'On the circle'"
      ]
     },
     "execution_count": 4,
     "metadata": {},
     "output_type": "execute_result"
    }
   ],
   "source": [
    "isInsideCircle(0, 0, 3, 4, 5)"
   ]
  },
  {
   "cell_type": "markdown",
   "metadata": {},
   "source": [
    "**Q2 Find whether a given point is inside a rectangle or not**\n",
    "\n",
    ">**Note** Represent the rectangle using two diagonal points. If the x and y coordinates of the point are between the x and y coordinates of the diagonal points, then the point is inside the rectangle."
   ]
  },
  {
   "cell_type": "code",
   "execution_count": 5,
   "metadata": {},
   "outputs": [],
   "source": [
    "def isInsideRect(tx: int, ty: int, bx: int, by: int, px: int, py: int) -> bool:\n",
    "    if (px >= tx and px <= bx) and (py <= ty and py >= by):\n",
    "        return True\n",
    "    return False "
   ]
  },
  {
   "cell_type": "code",
   "execution_count": 7,
   "metadata": {},
   "outputs": [
    {
     "data": {
      "text/plain": [
       "True"
      ]
     },
     "execution_count": 7,
     "metadata": {},
     "output_type": "execute_result"
    }
   ],
   "source": [
    "isInsideRect(1, 5, 6, 1, 3, 2)"
   ]
  }
 ],
 "metadata": {
  "kernelspec": {
   "display_name": "ML",
   "language": "python",
   "name": "python3"
  },
  "language_info": {
   "codemirror_mode": {
    "name": "ipython",
    "version": 3
   },
   "file_extension": ".py",
   "mimetype": "text/x-python",
   "name": "python",
   "nbconvert_exporter": "python",
   "pygments_lexer": "ipython3",
   "version": "3.11.4"
  },
  "orig_nbformat": 4
 },
 "nbformat": 4,
 "nbformat_minor": 2
}
