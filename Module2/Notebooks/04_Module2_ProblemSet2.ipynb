{
 "cells": [
  {
   "cell_type": "markdown",
   "metadata": {},
   "source": [
    "## <span style=\"color:#FEC260\">Array ~ Problems 2</span>"
   ]
  },
  {
   "cell_type": "markdown",
   "metadata": {},
   "source": [
    "### <span style=\"color:#FEC260\">Array Rotation</span>\n",
    "\n",
    "- 1 Left rotate the array by 1\n",
    "- 2 Left rotate the array by k"
   ]
  },
  {
   "cell_type": "code",
   "execution_count": 4,
   "metadata": {},
   "outputs": [
    {
     "name": "stdout",
     "output_type": "stream",
     "text": [
      "[2, 3, 4, 5, 1]\n"
     ]
    }
   ],
   "source": [
    "# left rotate the array by 1\n",
    "\n",
    "def arrRotate(arr):\n",
    "\n",
    "    temp = arr[0]\n",
    "\n",
    "    for i in range(1, len(arr)):\n",
    "        arr[i-1] = arr[i]\n",
    "\n",
    "    arr[-1] = temp\n",
    "    print(arr)\n",
    "\n",
    "arrRotate([1, 2, 3, 4, 5])"
   ]
  },
  {
   "cell_type": "code",
   "execution_count": 14,
   "metadata": {},
   "outputs": [
    {
     "data": {
      "text/plain": [
       "[4, 5, 6, 7, 8, 1, 2, 3]"
      ]
     },
     "execution_count": 14,
     "metadata": {},
     "output_type": "execute_result"
    }
   ],
   "source": [
    "# left rotate by k (Naive)\n",
    "# O(N*K)\n",
    "\n",
    "def arrRotate_K(arr: list, k: int):\n",
    "\n",
    "    for _ in range(k):\n",
    "\n",
    "        temp = arr[0]\n",
    "\n",
    "        for i in range(1, len(arr)):\n",
    "            arr[i-1] = arr[i]\n",
    "\n",
    "        arr[-1] = temp \n",
    "\n",
    "    return arr\n",
    "\n",
    "\n",
    "arrRotate_K([1, 2, 3, 4, 5, 6, 7, 8], 3)"
   ]
  },
  {
   "cell_type": "code",
   "execution_count": 20,
   "metadata": {},
   "outputs": [
    {
     "name": "stdout",
     "output_type": "stream",
     "text": [
      "[4, 5, 6, 7, 8, 1, 2, 3]\n"
     ]
    }
   ],
   "source": [
    "# rotating by k elements using an array\n",
    "# O(N) and O(N)\n",
    "\n",
    "def arrRotate_K1(arr: list, k: int):\n",
    "\n",
    "    n = len(arr)\n",
    "\n",
    "    brr = arr[:k]\n",
    "\n",
    "    for i in range(k, n):\n",
    "        arr[i-k] = arr[i]   \n",
    "\n",
    "    for i in range(k):\n",
    "        arr[n-k+i] = brr[i]\n",
    "\n",
    "    return arr\n",
    "\n",
    "print(arrRotate_K1([1, 2, 3, 4, 5, 6, 7, 8], 3))"
   ]
  },
  {
   "cell_type": "code",
   "execution_count": 26,
   "metadata": {},
   "outputs": [
    {
     "name": "stdout",
     "output_type": "stream",
     "text": [
      "[3, 4, 5, 6, 7, 8, 1, 2]\n"
     ]
    }
   ],
   "source": [
    "# rotating by k elements using \n",
    "# O(N) and O(1)\n",
    "\n",
    "def soln(arr, k):\n",
    "\n",
    "    n = len(arr)\n",
    "    rev(arr, 0, k-1)\n",
    "    rev(arr, k, n-1)\n",
    "    rev(arr, 0, n-1)\n",
    "\n",
    "    return arr\n",
    "\n",
    "\n",
    "def rev(arr: list, start: int, end: int):\n",
    "\n",
    "    ''' A swapping function'''\n",
    "\n",
    "    while start < end:\n",
    "        arr[start], arr[end] = arr[end], arr[start]\n",
    "\n",
    "        start += 1\n",
    "        end -= 1\n",
    "\n",
    "print(soln([1,2,3, 4, 5, 6, 7, 8], 2))"
   ]
  },
  {
   "cell_type": "code",
   "execution_count": 2,
   "metadata": {},
   "outputs": [
    {
     "data": {
      "text/plain": [
       "[3, 4, 5, 6, 7, 8, 1, 2]"
      ]
     },
     "execution_count": 2,
     "metadata": {},
     "output_type": "execute_result"
    }
   ],
   "source": [
    "# if k is greater than len(arr)\n",
    "\n",
    "def rev(arr: list, start: int, end: int):\n",
    "\n",
    "    ''' A swapping function'''\n",
    "\n",
    "    while start < end:\n",
    "        arr[start], arr[end] = arr[end], arr[start]\n",
    "\n",
    "        start += 1\n",
    "        end -= 1\n",
    "\n",
    "# end of rev\n",
    "\n",
    "def arrayRotate(arr: list, k: int):\n",
    "\n",
    "    n = len(arr)\n",
    "\n",
    "    if k == n:\n",
    "        return arr\n",
    "\n",
    "    if k < n: \n",
    "            n = len(arr)\n",
    "            rev(arr, 0, k-1)\n",
    "            rev(arr, k, n-1)\n",
    "            rev(arr, 0, n-1)\n",
    "            return arr\n",
    "\n",
    "    if k > n:\n",
    "        k -= n\n",
    "        return arrayRotate(arr, k)\n",
    "\n",
    "arrayRotate([1, 2, 3, 4, 5, 6, 7, 8], 10)"
   ]
  },
  {
   "cell_type": "markdown",
   "metadata": {},
   "source": [
    "#### <span style=\"color:#FEC260\">Leaders of an array</span>"
   ]
  },
  {
   "cell_type": "code",
   "execution_count": 4,
   "metadata": {},
   "outputs": [
    {
     "name": "stdout",
     "output_type": "stream",
     "text": [
      "0 1 4 6 90 "
     ]
    }
   ],
   "source": [
    "arr = [-10, 90, 1, 2, 3, 6, 4, 1, 0]\n",
    "\n",
    "maxElement = -float('inf')\n",
    "n = len(arr)\n",
    "\n",
    "for i in reversed(range(n)):\n",
    "\n",
    "    if arr[i] > maxElement:\n",
    "\n",
    "        maxElement = arr[i]\n",
    "        print(maxElement, end=' ')"
   ]
  }
 ],
 "metadata": {
  "kernelspec": {
   "display_name": "Python 3.10.5 64-bit",
   "language": "python",
   "name": "python3"
  },
  "language_info": {
   "codemirror_mode": {
    "name": "ipython",
    "version": 3
   },
   "file_extension": ".py",
   "mimetype": "text/x-python",
   "name": "python",
   "nbconvert_exporter": "python",
   "pygments_lexer": "ipython3",
   "version": "3.10.7"
  },
  "orig_nbformat": 4,
  "vscode": {
   "interpreter": {
    "hash": "f4c85645bce20c702a4ecae1b93c6759c482279d1c3b7e99a0246a20b7629f3f"
   }
  }
 },
 "nbformat": 4,
 "nbformat_minor": 2
}
