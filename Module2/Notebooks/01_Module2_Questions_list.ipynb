{
 "cells": [
  {
   "cell_type": "markdown",
   "metadata": {},
   "source": [
    "## <span style=\"color:#FEC260\">Problems Covered in this Module</span>"
   ]
  },
  {
   "cell_type": "markdown",
   "metadata": {},
   "source": [
    "---\n",
    "\n",
    "#### Topics covered in this Module include:\n",
    "\n",
    "* Array Rotation\n",
    "* Postfix Prefix sum, product, max, min.\n",
    "* Array Arrangement \n",
    "* Array Searching and Sorting\n",
    "* Matrix \n",
    "* Subarray, Subsequence, and Substring\n",
    "* Subset and Range Problems"
   ]
  },
  {
   "cell_type": "markdown",
   "metadata": {},
   "source": [
    "---\n",
    "\n",
    "#### Problems covered in this Module include:"
   ]
  },
  {
   "cell_type": "markdown",
   "metadata": {},
   "source": [
    "- Sum of Array Elements in Range (Prefix sum)\n",
    "- Equilibrium Index of an Array\n",
    "- Count good pairs in an array\n",
    "- Count the leaders in an array\n",
    "- Closest min max in an array\n",
    "- All the subarrays\n",
    "- Move all zeros to the end of an array\n",
    "- Rotating arrays by k elements"
   ]
  }
 ],
 "metadata": {
  "kernelspec": {
   "display_name": "Python 3.10.5 64-bit",
   "language": "python",
   "name": "python3"
  },
  "language_info": {
   "name": "python",
   "version": "3.10.7"
  },
  "orig_nbformat": 4,
  "vscode": {
   "interpreter": {
    "hash": "f4c85645bce20c702a4ecae1b93c6759c482279d1c3b7e99a0246a20b7629f3f"
   }
  }
 },
 "nbformat": 4,
 "nbformat_minor": 2
}
