{
 "cells": [
  {
   "cell_type": "markdown",
   "metadata": {},
   "source": [
    "## <span style=\"color:#FEC260\">Array ~ Problems</span>"
   ]
  },
  {
   "cell_type": "markdown",
   "metadata": {},
   "source": [
    "### <span style=\"color:#FEC260\">Prefix sum Array</span>\n",
    "\n",
    "- An array of 'N' elements is given. There are 'M' queries. The queries are of the form 'Q[i][j]', where 'i' is the first index and 'j' is the second index. Find the sum of all the elements in the array from 'i' to 'j'. There would exactly be 2 values in each query. The queries are given in the form of a 2D array. Return the sum of all the elements in the array after applying the queries."
   ]
  },
  {
   "cell_type": "code",
   "execution_count": 12,
   "metadata": {},
   "outputs": [],
   "source": [
    "def sumInRange(arr: list, qrr: list):\n",
    "\n",
    "    res = []\n",
    "\n",
    "    # creating the prefix sum array\n",
    "    prefixSum = [arr[0]]\n",
    "    for x in arr[1:]:\n",
    "        prefixSum.append(prefixSum[-1] + x)\n",
    "\n",
    "    # finding sum\n",
    "    for i in range(len(qrr)):\n",
    "        start = qrr[i][0]\n",
    "        end = qrr[i][1]\n",
    "\n",
    "        total = 0\n",
    "        if start == 0:\n",
    "            total = prefixSum[end]\n",
    "        else:\n",
    "            total = prefixSum[end] - prefixSum[start-1]\n",
    "\n",
    "        res.append(total)\n",
    "\n",
    "    return res"
   ]
  },
  {
   "cell_type": "code",
   "execution_count": 15,
   "metadata": {},
   "outputs": [
    {
     "data": {
      "text/plain": [
       "[5, 10]"
      ]
     },
     "execution_count": 15,
     "metadata": {},
     "output_type": "execute_result"
    }
   ],
   "source": [
    "sumInRange([1, 2, 3, 4, 5], [[1, 2], [0, 3]])"
   ]
  },
  {
   "cell_type": "markdown",
   "metadata": {},
   "source": [
    "### <span style=\"color:#FEC260\">Equilibrium Index of array</span>\n",
    "\n",
    "Given an array of 'N' elements, find the equilibrium index of the array. An equilibrium index is an index 'i' such that the sum of the elements on the left of 'i' is equal to the sum of the elements on the right of 'i'. The array can have negative elements. If no equilibrium index is found, return -1. There would be only one equilibrium index in the array."
   ]
  },
  {
   "cell_type": "code",
   "execution_count": 24,
   "metadata": {},
   "outputs": [],
   "source": [
    "def equilibrium(arr):\n",
    "\n",
    "    total = sum(arr)\n",
    "\n",
    "    left_sum = 0\n",
    "    for i in range(len(arr)):\n",
    "        \n",
    "        right_sum = total-left_sum-arr[i]\n",
    "\n",
    "        if left_sum == right_sum:\n",
    "            return i\n",
    "\n",
    "        left_sum += arr[i]\n",
    "\n",
    "    return -1"
   ]
  },
  {
   "cell_type": "code",
   "execution_count": 29,
   "metadata": {},
   "outputs": [
    {
     "data": {
      "text/plain": [
       "2"
      ]
     },
     "execution_count": 29,
     "metadata": {},
     "output_type": "execute_result"
    }
   ],
   "source": [
    "equilibrium([-1, 1, 100, 0])"
   ]
  },
  {
   "cell_type": "markdown",
   "metadata": {},
   "source": [
    "- If there are multiple equilibrium indices, return all the equilibrium indices in the form of a list."
   ]
  },
  {
   "cell_type": "code",
   "execution_count": 3,
   "metadata": {},
   "outputs": [],
   "source": [
    "def equilibrium(arr):\n",
    "\n",
    "    res = []\n",
    "\n",
    "    total = sum(arr)\n",
    "\n",
    "    left_sum = 0\n",
    "    for i in range(len(arr)):\n",
    "        \n",
    "        right_sum = total-left_sum-arr[i]\n",
    "\n",
    "        if left_sum == right_sum:\n",
    "             res.append(i)\n",
    "\n",
    "        left_sum += arr[i]\n",
    "\n",
    "    return res"
   ]
  },
  {
   "cell_type": "code",
   "execution_count": 6,
   "metadata": {},
   "outputs": [
    {
     "data": {
      "text/plain": [
       "[]"
      ]
     },
     "execution_count": 6,
     "metadata": {},
     "output_type": "execute_result"
    }
   ],
   "source": [
    "equilibrium([4, 5, 0, 9, -9])"
   ]
  }
 ],
 "metadata": {
  "kernelspec": {
   "display_name": "Python 3.10.5 64-bit",
   "language": "python",
   "name": "python3"
  },
  "language_info": {
   "name": "python",
   "version": "3.10.5"
  },
  "orig_nbformat": 4,
  "vscode": {
   "interpreter": {
    "hash": "f4c85645bce20c702a4ecae1b93c6759c482279d1c3b7e99a0246a20b7629f3f"
   }
  }
 },
 "nbformat": 4,
 "nbformat_minor": 2
}
