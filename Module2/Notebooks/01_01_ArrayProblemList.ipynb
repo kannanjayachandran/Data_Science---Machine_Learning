{
 "cells": [
  {
   "cell_type": "markdown",
   "metadata": {},
   "source": [
    "## Problems Covered in this Module\n",
    "\n",
    "#### This is the list of all the problems covered in this module."
   ]
  },
  {
   "cell_type": "markdown",
   "metadata": {},
   "source": [
    "- Sum of Array Elements in Range (Prefix sum)\n",
    "- Equilibrium Index of an Array\n",
    "- Count good pairs in an array\n",
    "- Count the leaders in an array\n",
    "- Closest min max in an array\n",
    "- All the subarrays\n",
    "- Move all zeros to the end of an array"
   ]
  }
 ],
 "metadata": {
  "kernelspec": {
   "display_name": "Python 3.10.5 64-bit",
   "language": "python",
   "name": "python3"
  },
  "language_info": {
   "name": "python",
   "version": "3.10.5"
  },
  "orig_nbformat": 4,
  "vscode": {
   "interpreter": {
    "hash": "f4c85645bce20c702a4ecae1b93c6759c482279d1c3b7e99a0246a20b7629f3f"
   }
  }
 },
 "nbformat": 4,
 "nbformat_minor": 2
}
