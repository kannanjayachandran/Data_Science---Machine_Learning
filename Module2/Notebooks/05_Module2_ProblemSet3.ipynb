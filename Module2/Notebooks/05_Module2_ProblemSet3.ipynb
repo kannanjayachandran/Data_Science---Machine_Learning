{
 "cells": [
  {
   "cell_type": "markdown",
   "metadata": {},
   "source": [
    "## <span style=\"color:#FEC260\">Array ~ Problems 3 </span>"
   ]
  },
  {
   "cell_type": "markdown",
   "metadata": {},
   "source": [
    "### <span style=\"color:#FEC260\">Sub arrays</span>"
   ]
  },
  {
   "cell_type": "markdown",
   "metadata": {},
   "source": [
    "- Print all the subarrays of the given array."
   ]
  },
  {
   "cell_type": "code",
   "execution_count": 2,
   "metadata": {},
   "outputs": [
    {
     "name": "stdout",
     "output_type": "stream",
     "text": [
      "1 \n",
      "1 2 \n",
      "1 2 3 \n",
      "1 2 3 4 \n",
      "1 2 3 4 5 \n",
      "\n",
      "2 \n",
      "2 3 \n",
      "2 3 4 \n",
      "2 3 4 5 \n",
      "\n",
      "3 \n",
      "3 4 \n",
      "3 4 5 \n",
      "\n",
      "4 \n",
      "4 5 \n",
      "\n",
      "5 \n",
      "\n"
     ]
    }
   ],
   "source": [
    "arr = [1, 2, 3, 4, 5]\n",
    "\n",
    "for start in range(len(arr)):\n",
    "    for end in range(start, len(arr)):\n",
    "        for i in range(start, end+1):\n",
    "            print(arr[i], end=' ')\n",
    "\n",
    "        print()\n",
    "    print()"
   ]
  },
  {
   "cell_type": "code",
   "execution_count": 3,
   "metadata": {},
   "outputs": [
    {
     "name": "stdout",
     "output_type": "stream",
     "text": [
      "1\n",
      "1 2\n",
      "1 2 3\n",
      "1 2 3 4\n",
      "1 2 3 4 5\n",
      "\n",
      "2\n",
      "2 3\n",
      "2 3 4\n",
      "2 3 4 5\n",
      "\n",
      "3\n",
      "3 4\n",
      "3 4 5\n",
      "\n",
      "4\n",
      "4 5\n",
      "\n",
      "5\n",
      "\n"
     ]
    }
   ],
   "source": [
    "# pythonic way\n",
    "\n",
    "arr = [1, 2, 3, 4, 5]\n",
    "\n",
    "for start in range(len(arr)):\n",
    "    for end in range(start, len(arr)):\n",
    "        print(*arr[start:end+1])\n",
    "\n",
    "    print()"
   ]
  },
  {
   "cell_type": "markdown",
   "metadata": {},
   "source": [
    "#### <span style=\"color:#FEC260\">Closest min-max in an array</span>\n",
    "\n",
    "Given an array of size N, find the the smallest subarray containing the minimum and maximum element of the array. Return the length of the smallest subarray. "
   ]
  },
  {
   "cell_type": "code",
   "execution_count": 6,
   "metadata": {},
   "outputs": [],
   "source": [
    "def subMinMax(arr: list):\n",
    "\n",
    "    small = min(arr)\n",
    "    large = max(arr)\n",
    "\n",
    "    i_min = None\n",
    "    i_max = None\n",
    "\n",
    "    minlen = float('inf')\n",
    "\n",
    "    for i in range(len(arr)):\n",
    "\n",
    "        # for min element\n",
    "        if arr[i] == small:\n",
    "            i_min = i\n",
    "            if i_max is not None:\n",
    "                length = i_min-i_max + 1\n",
    "                minlen = min(length, minlen)\n",
    "\n",
    "        # for max element\n",
    "        if arr[i] == large:\n",
    "            i_max = i\n",
    "            if i_min is not None:\n",
    "                length = i_max- i_min + 1\n",
    "                minlen = min(length, minlen)\n",
    "\n",
    "    return minlen"
   ]
  },
  {
   "cell_type": "code",
   "execution_count": 7,
   "metadata": {},
   "outputs": [
    {
     "data": {
      "text/plain": [
       "3"
      ]
     },
     "execution_count": 7,
     "metadata": {},
     "output_type": "execute_result"
    }
   ],
   "source": [
    "subMinMax([2, 8, 1, 3, 0, -1, 0, 8])"
   ]
  }
 ],
 "metadata": {
  "kernelspec": {
   "display_name": "Python 3.10.7 64-bit",
   "language": "python",
   "name": "python3"
  },
  "language_info": {
   "codemirror_mode": {
    "name": "ipython",
    "version": 3
   },
   "file_extension": ".py",
   "mimetype": "text/x-python",
   "name": "python",
   "nbconvert_exporter": "python",
   "pygments_lexer": "ipython3",
   "version": "3.10.7"
  },
  "orig_nbformat": 4,
  "vscode": {
   "interpreter": {
    "hash": "f4c85645bce20c702a4ecae1b93c6759c482279d1c3b7e99a0246a20b7629f3f"
   }
  }
 },
 "nbformat": 4,
 "nbformat_minor": 2
}
