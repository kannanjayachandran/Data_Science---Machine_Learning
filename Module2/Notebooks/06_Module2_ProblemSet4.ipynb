{
 "cells": [
  {
   "attachments": {},
   "cell_type": "markdown",
   "metadata": {},
   "source": [
    "## <span style=\"color:#FEC260\">Array ~ Problems 4 : Matrices </span>"
   ]
  },
  {
   "attachments": {},
   "cell_type": "markdown",
   "metadata": {},
   "source": [
    "- Rank of a matrix : **Row X Col**\n",
    "- Indexing starts from 0\n",
    "- **Identity Matrix** : A square matrix with 1s on the diagonal and 0s elsewhere\n",
    "- **Diagonal Matrix** : A square matrix with 0s everywhere except the diagonal\n",
    "\n",
    "```json\n",
    "     \n",
    "       (0, 0)       (0, m-1)\n",
    "M  =   TL -------- TR \n",
    "        |           |\n",
    "        |           | \n",
    "        |           |\n",
    "        |           |\n",
    "        |           |\n",
    "        BL -------- BR\n",
    "        (n-1, 0)     (n-1, m-1)\n",
    "\n",
    "```"
   ]
  },
  {
   "cell_type": "code",
   "execution_count": 1,
   "metadata": {},
   "outputs": [],
   "source": [
    "matrix = [\n",
    "    [0, 1, -6, 8, 3, 2, 5],\n",
    "    [10, 10, 9, 7, 0, 1, 3],\n",
    "    [1, 6, 8, 2, 4, 9, 7],\n",
    "    [3, -1, 7, 7, 8, 9, 0]\n",
    "]"
   ]
  },
  {
   "attachments": {},
   "cell_type": "markdown",
   "metadata": {},
   "source": [
    "- Traversing a matrix Row-wise"
   ]
  },
  {
   "cell_type": "code",
   "execution_count": 2,
   "metadata": {},
   "outputs": [
    {
     "name": "stdout",
     "output_type": "stream",
     "text": [
      "0 1 -6 8 3 2 5 \n",
      "10 10 9 7 0 1 3 \n",
      "1 6 8 2 4 9 7 \n",
      "3 -1 7 7 8 9 0 \n",
      "\n",
      "0 | 1 | -6 | 8 | 3 | 2 | 5 | \n",
      "10 | 10 | 9 | 7 | 0 | 1 | 3 | \n",
      "1 | 6 | 8 | 2 | 4 | 9 | 7 | \n",
      "3 | -1 | 7 | 7 | 8 | 9 | 0 | \n"
     ]
    }
   ],
   "source": [
    "n_rows = len(matrix)\n",
    "m_cols = len(matrix[0])\n",
    "\n",
    "for rows in range(n_rows):\n",
    "    for cols in range(m_cols):\n",
    "        print(matrix[rows][cols], end=\" \")\n",
    "    print()\n",
    "  \n",
    "print()\n",
    "\n",
    "# same thing using `in` \n",
    "for row in matrix:\n",
    "    for element in row:\n",
    "        print(element, end=\" | \")\n",
    "    print()"
   ]
  },
  {
   "attachments": {},
   "cell_type": "markdown",
   "metadata": {},
   "source": [
    "- Traversing column-wise"
   ]
  },
  {
   "cell_type": "code",
   "execution_count": 3,
   "metadata": {},
   "outputs": [
    {
     "name": "stdout",
     "output_type": "stream",
     "text": [
      "0 | 10 | 1 | 3 | \n",
      "1 | 10 | 6 | -1 | \n",
      "-6 | 9 | 8 | 7 | \n",
      "8 | 7 | 2 | 7 | \n",
      "3 | 0 | 4 | 8 | \n",
      "2 | 1 | 9 | 9 | \n",
      "5 | 3 | 7 | 0 | \n"
     ]
    }
   ],
   "source": [
    "for col in range(m_cols):\n",
    "    for row in range(n_rows):\n",
    "        print(matrix[row][col], end=\" | \")\n",
    "    print()"
   ]
  },
  {
   "attachments": {},
   "cell_type": "markdown",
   "metadata": {},
   "source": [
    "### Print the sum of each row in a matrix"
   ]
  },
  {
   "cell_type": "code",
   "execution_count": 4,
   "metadata": {},
   "outputs": [
    {
     "name": "stdout",
     "output_type": "stream",
     "text": [
      "13\n",
      "40\n",
      "37\n",
      "33\n"
     ]
    }
   ],
   "source": [
    "for r in matrix:\n",
    "    total = 0\n",
    "    for element in r:\n",
    "        total += element\n",
    "    print(total)"
   ]
  },
  {
   "attachments": {},
   "cell_type": "markdown",
   "metadata": {},
   "source": [
    "### Print the sum of each col in a matrix"
   ]
  },
  {
   "cell_type": "code",
   "execution_count": 6,
   "metadata": {},
   "outputs": [
    {
     "name": "stdout",
     "output_type": "stream",
     "text": [
      "14\n",
      "16\n",
      "18\n",
      "24\n",
      "15\n",
      "21\n",
      "15\n"
     ]
    }
   ],
   "source": [
    "for col in range(m_cols):\n",
    "    total = 0\n",
    "    for r in range(n_rows):\n",
    "        total += matrix[r][col]\n",
    "    print(total)"
   ]
  },
  {
   "attachments": {},
   "cell_type": "markdown",
   "metadata": {},
   "source": [
    "### Given a square matrix print its diagonals"
   ]
  },
  {
   "cell_type": "code",
   "execution_count": 11,
   "metadata": {},
   "outputs": [
    {
     "name": "stdout",
     "output_type": "stream",
     "text": [
      "Primary Diagonal: \n",
      "0\n",
      "3\n",
      "8\n",
      "15\n",
      "24\n",
      "\n",
      "Secondary Diagonal: \n",
      "8\n",
      "7\n",
      "8\n",
      "11\n",
      "16\n"
     ]
    }
   ],
   "source": [
    "sq_matrix = [[2*x+y*y for x in range(5)] for y in range(5)]\n",
    "\n",
    "rows_cols = len(sq_matrix)\n",
    "\n",
    "\n",
    "# Primary diagonal\n",
    "print(\"Primary Diagonal: \")\n",
    "for i in range(rows_cols):\n",
    "    print(sq_matrix[i][i])\n",
    "\n",
    "print()\n",
    "    \n",
    "# secondary diagonal\n",
    "print(\"Secondary Diagonal: \")\n",
    "for i in range(rows_cols):\n",
    "    c = rows_cols-i-1\n",
    "    print(sq_matrix[i][c])"
   ]
  }
 ],
 "metadata": {
  "kernelspec": {
   "display_name": "base",
   "language": "python",
   "name": "python3"
  },
  "language_info": {
   "codemirror_mode": {
    "name": "ipython",
    "version": 3
   },
   "file_extension": ".py",
   "mimetype": "text/x-python",
   "name": "python",
   "nbconvert_exporter": "python",
   "pygments_lexer": "ipython3",
   "version": "3.9.16"
  },
  "orig_nbformat": 4
 },
 "nbformat": 4,
 "nbformat_minor": 2
}
