{
 "cells": [
  {
   "cell_type": "markdown",
   "metadata": {},
   "source": [
    "# <span style=\"color:#FEC260\"> Searching and Sorting </span> Problem Set II"
   ]
  },
  {
   "cell_type": "markdown",
   "metadata": {},
   "source": [
    "**Q1 Search insert position**"
   ]
  },
  {
   "cell_type": "code",
   "execution_count": 1,
   "metadata": {},
   "outputs": [],
   "source": [
    "def search_insert_pos(nums: list[int], key: int) -> int:\n",
    "\n",
    "    start, end = 0, len(nums)-1\n",
    "\n",
    "    while start <= end:\n",
    "        mid_idx = start + (end-start) // 2\n",
    "        if nums[mid_idx] == key:\n",
    "            return mid_idx\n",
    "        elif nums[mid_idx] > key:\n",
    "            end = mid_idx - 1\n",
    "        else:\n",
    "            start = mid_idx + 1\n",
    "    return start"
   ]
  },
  {
   "cell_type": "code",
   "execution_count": 2,
   "metadata": {},
   "outputs": [
    {
     "data": {
      "text/plain": [
       "1"
      ]
     },
     "execution_count": 2,
     "metadata": {},
     "output_type": "execute_result"
    }
   ],
   "source": [
    "search_insert_pos([1,3,5,6], 2)"
   ]
  },
  {
   "cell_type": "markdown",
   "metadata": {},
   "source": [
    "**Q2 Find the floor of the square root of a number**"
   ]
  },
  {
   "cell_type": "code",
   "execution_count": 3,
   "metadata": {},
   "outputs": [],
   "source": [
    "def square_root_floor(x: int) -> int:\n",
    "\n",
    "    start, end = 0, x\n",
    "\n",
    "    while start <= end:\n",
    "        mid = start + (end-start) // 2\n",
    "        if mid*mid <= x:\n",
    "            start = mid + 1\n",
    "        else:\n",
    "            end = mid - 1\n",
    "    return end"
   ]
  },
  {
   "cell_type": "code",
   "execution_count": 7,
   "metadata": {},
   "outputs": [
    {
     "data": {
      "text/plain": [
       "5"
      ]
     },
     "execution_count": 7,
     "metadata": {},
     "output_type": "execute_result"
    }
   ],
   "source": [
    "square_root_floor(35)"
   ]
  },
  {
   "cell_type": "markdown",
   "metadata": {},
   "source": [
    "**Q3 Sort a 2D array based on the first value in each row**"
   ]
  },
  {
   "cell_type": "code",
   "execution_count": 3,
   "metadata": {},
   "outputs": [],
   "source": [
    "def custom_sort(arr: list[list[int]]) -> list[list[int]]:\n",
    "    n = len(arr)\n",
    "    for row in range(n):\n",
    "        for col in range(0, n-row-1):\n",
    "            if arr[col][0] > arr[col+1][0] or (arr[col][0] == arr[col+1][0] and arr[col][1] > arr[col+1][1]):\n",
    "                arr[col], arr[col+1] = arr[col+1], arr[col]\n",
    "    return arr"
   ]
  },
  {
   "cell_type": "code",
   "execution_count": 5,
   "metadata": {},
   "outputs": [
    {
     "data": {
      "text/plain": [
       "[[1, 2], [2, 1], [2, 2], [3, 1], [3, 2], [4, 4]]"
      ]
     },
     "execution_count": 5,
     "metadata": {},
     "output_type": "execute_result"
    }
   ],
   "source": [
    "custom_sort([[3, 1], [1, 2], [2, 2], [3, 2], [2, 1], [4, 4]])"
   ]
  },
  {
   "cell_type": "code",
   "execution_count": 7,
   "metadata": {},
   "outputs": [
    {
     "data": {
      "text/plain": [
       "[[1, 2], [2, 1], [2, 2], [3, 1], [3, 2], [4, 4]]"
      ]
     },
     "execution_count": 7,
     "metadata": {},
     "output_type": "execute_result"
    }
   ],
   "source": [
    "my_lis = [[3, 1], [1, 2], [2, 2], [3, 2], [2, 1], [4, 4]]\n",
    "\n",
    "new_lis = sorted(my_lis, key=lambda x: (x[0], x[1]))\n",
    "\n",
    "new_lis"
   ]
  },
  {
   "cell_type": "markdown",
   "metadata": {},
   "source": [
    "**Q4 Sort the 2d array based on the second value in each row**"
   ]
  },
  {
   "cell_type": "code",
   "execution_count": 1,
   "metadata": {},
   "outputs": [],
   "source": [
    "def custom_sort2(arr: list[list[int]]) -> list[list[int]]:\n",
    "    return sorted(arr, key=lambda x : (x[1], x[0]))"
   ]
  },
  {
   "cell_type": "code",
   "execution_count": 2,
   "metadata": {},
   "outputs": [
    {
     "data": {
      "text/plain": [
       "[[2, 1], [3, 1], [1, 2], [2, 2], [3, 2], [4, 4]]"
      ]
     },
     "execution_count": 2,
     "metadata": {},
     "output_type": "execute_result"
    }
   ],
   "source": [
    "custom_sort2([[3, 1], [1, 2], [2, 2], [3, 2], [2, 1], [4, 4]])"
   ]
  }
 ],
 "metadata": {
  "kernelspec": {
   "display_name": "ML",
   "language": "python",
   "name": "python3"
  },
  "language_info": {
   "codemirror_mode": {
    "name": "ipython",
    "version": 3
   },
   "file_extension": ".py",
   "mimetype": "text/x-python",
   "name": "python",
   "nbconvert_exporter": "python",
   "pygments_lexer": "ipython3",
   "version": "3.11.5"
  },
  "orig_nbformat": 4
 },
 "nbformat": 4,
 "nbformat_minor": 2
}
