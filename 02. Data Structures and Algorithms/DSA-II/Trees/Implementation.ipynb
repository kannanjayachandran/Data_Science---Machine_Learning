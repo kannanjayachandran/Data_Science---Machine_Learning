{
 "cells": [
  {
   "cell_type": "markdown",
   "metadata": {},
   "source": [
    "<h1 style=\"color:#FEC260\"> Trees </h1>\n",
    "\n",
    "**Binary tree**"
   ]
  },
  {
   "cell_type": "code",
   "execution_count": 3,
   "metadata": {},
   "outputs": [],
   "source": [
    "class TreeNode:\n",
    "    def __init__(self, data):\n",
    "        self.data = data\n",
    "        self.left = None\n",
    "        self.right = None\n",
    "    \n",
    "    def insert(self, data):\n",
    "        if self.data:\n",
    "            if data < self.data:\n",
    "                if self.left is None:\n",
    "                    self.left = TreeNode(data)\n",
    "                else:\n",
    "                    self.left.insert(data)\n",
    "            elif data > self.data:\n",
    "                if self.right is None:\n",
    "                    self.right = TreeNode(data)\n",
    "                else:\n",
    "                    self.right.insert(data)\n",
    "        else:\n",
    "            self.data = TreeNode(data)\n",
    "\n",
    "    def print_tree(self):\n",
    "        if self.left:\n",
    "            self.left.print_tree()\n",
    "        print(self.data)\n",
    "        if self.right:\n",
    "            self.right.print_tree()"
   ]
  },
  {
   "cell_type": "code",
   "execution_count": 4,
   "metadata": {},
   "outputs": [
    {
     "name": "stdout",
     "output_type": "stream",
     "text": [
      "1\n",
      "2\n",
      "4\n",
      "6\n",
      "9\n",
      "12\n",
      "14\n",
      "15\n",
      "21\n",
      "30\n"
     ]
    }
   ],
   "source": [
    "btree = TreeNode(12)\n",
    "btree.insert(6)\n",
    "btree.insert(14)\n",
    "btree.insert(4)\n",
    "btree.insert(1)\n",
    "btree.insert(2)\n",
    "btree.insert(9)\n",
    "btree.insert(21)\n",
    "btree.insert(15)\n",
    "btree.insert(30)\n",
    "btree.print_tree()"
   ]
  },
  {
   "cell_type": "markdown",
   "metadata": {},
   "source": [
    "**Binary Search Tree {BST}**"
   ]
  },
  {
   "cell_type": "code",
   "execution_count": 18,
   "metadata": {},
   "outputs": [
    {
     "name": "stdout",
     "output_type": "stream",
     "text": [
      "True\n"
     ]
    }
   ],
   "source": [
    "# Binary search tree\n",
    "def search(root, target):\n",
    "    if not root:\n",
    "        return False\n",
    "    if root.data == target:\n",
    "        return True\n",
    "    if target < root.data:\n",
    "        return search(root.left, target)\n",
    "    else:\n",
    "        return search(root.right, target)\n",
    "    \n",
    "print(search(btree, 6))"
   ]
  },
  {
   "cell_type": "markdown",
   "metadata": {},
   "source": [
    "**Depth First Search [DFS]**\n",
    "\n",
    "When we do in-order traversal on BST, we get all nodes in ascending order (left -> root -> right)\n",
    "\n",
    "Time complexity: O(n)"
   ]
  },
  {
   "cell_type": "code",
   "execution_count": 19,
   "metadata": {},
   "outputs": [],
   "source": [
    "def inOrder(root):\n",
    "    if not root:\n",
    "        return\n",
    "    inOrder(root.left)\n",
    "    print(root.data)\n",
    "    inOrder(root.right)"
   ]
  },
  {
   "cell_type": "code",
   "execution_count": 20,
   "metadata": {},
   "outputs": [
    {
     "name": "stdout",
     "output_type": "stream",
     "text": [
      "1\n",
      "2\n",
      "4\n",
      "6\n",
      "9\n",
      "12\n",
      "14\n",
      "21\n",
      "30\n"
     ]
    }
   ],
   "source": [
    "inOrder(btree)"
   ]
  },
  {
   "cell_type": "code",
   "execution_count": 21,
   "metadata": {},
   "outputs": [],
   "source": [
    "def preOrder(root):\n",
    "    if not root:\n",
    "        return\n",
    "    print(root.data)\n",
    "    preOrder(root.left)\n",
    "    preOrder(root.right)"
   ]
  },
  {
   "cell_type": "code",
   "execution_count": 22,
   "metadata": {},
   "outputs": [
    {
     "name": "stdout",
     "output_type": "stream",
     "text": [
      "12\n",
      "6\n",
      "4\n",
      "1\n",
      "2\n",
      "9\n",
      "14\n",
      "21\n",
      "30\n"
     ]
    }
   ],
   "source": [
    "preOrder(btree)"
   ]
  },
  {
   "cell_type": "code",
   "execution_count": 28,
   "metadata": {},
   "outputs": [],
   "source": [
    "def postOrder(root):\n",
    "    if not root:\n",
    "        return\n",
    "    postOrder(root.left)\n",
    "    postOrder(root.right)\n",
    "    print(root.data)"
   ]
  },
  {
   "cell_type": "code",
   "execution_count": 29,
   "metadata": {},
   "outputs": [
    {
     "name": "stdout",
     "output_type": "stream",
     "text": [
      "2\n",
      "1\n",
      "4\n",
      "9\n",
      "6\n",
      "15\n",
      "30\n",
      "21\n",
      "14\n",
      "12\n"
     ]
    }
   ],
   "source": [
    "postOrder(btree)"
   ]
  },
  {
   "cell_type": "code",
   "execution_count": 32,
   "metadata": {},
   "outputs": [],
   "source": [
    "def inOrder_reverse(root):\n",
    "    if not root:\n",
    "        return\n",
    "    inOrder_reverse(root.right)\n",
    "    print(root.data)\n",
    "    inOrder_reverse(root.left)"
   ]
  },
  {
   "cell_type": "code",
   "execution_count": 33,
   "metadata": {},
   "outputs": [
    {
     "name": "stdout",
     "output_type": "stream",
     "text": [
      "30\n",
      "21\n",
      "15\n",
      "14\n",
      "12\n",
      "9\n",
      "6\n",
      "4\n",
      "2\n",
      "1\n"
     ]
    }
   ],
   "source": [
    "inOrder_reverse(btree)"
   ]
  },
  {
   "cell_type": "markdown",
   "metadata": {},
   "source": [
    "**Breadth First Search [BFS]**\n",
    "\n"
   ]
  },
  {
   "cell_type": "code",
   "execution_count": 5,
   "metadata": {},
   "outputs": [],
   "source": [
    "from collections import deque\n",
    "\n",
    "\n",
    "def bfs(root):\n",
    "    queue  = deque()\n",
    "\n",
    "    if root:\n",
    "        queue.append(root)\n",
    "    \n",
    "    level = 0\n",
    "    while len(queue) > 0:\n",
    "        print(\"Level : \", level)\n",
    "        for _ in range(len(queue)):\n",
    "            cur_val = queue.popleft()\n",
    "            print(cur_val.data)\n",
    "            if cur_val.left:\n",
    "                queue.append(cur_val.left)\n",
    "            if cur_val.right:\n",
    "                queue.append(cur_val.right)\n",
    "        level += 1   "
   ]
  },
  {
   "cell_type": "code",
   "execution_count": 7,
   "metadata": {},
   "outputs": [
    {
     "name": "stdout",
     "output_type": "stream",
     "text": [
      "Level :  0\n",
      "12\n",
      "Level :  1\n",
      "6\n",
      "14\n",
      "Level :  2\n",
      "4\n",
      "9\n",
      "21\n",
      "Level :  3\n",
      "1\n",
      "15\n",
      "30\n",
      "Level :  4\n",
      "2\n"
     ]
    }
   ],
   "source": [
    "bfs(btree)\n",
    "\n",
    "# Time complexity O(n)"
   ]
  }
 ],
 "metadata": {
  "kernelspec": {
   "display_name": "ML",
   "language": "python",
   "name": "python3"
  },
  "language_info": {
   "codemirror_mode": {
    "name": "ipython",
    "version": 3
   },
   "file_extension": ".py",
   "mimetype": "text/x-python",
   "name": "python",
   "nbconvert_exporter": "python",
   "pygments_lexer": "ipython3",
   "version": "3.11.5"
  },
  "orig_nbformat": 4
 },
 "nbformat": 4,
 "nbformat_minor": 2
}
