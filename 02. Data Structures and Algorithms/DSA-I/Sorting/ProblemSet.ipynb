{
 "cells": [
  {
   "cell_type": "markdown",
   "metadata": {},
   "source": [
    "<h1 style='color:#FEC260'> Sorting - Problem Set </h1>"
   ]
  },
  {
   "cell_type": "markdown",
   "metadata": {},
   "source": [
    "**1. Sort a 2D array based on the first value in each row**"
   ]
  },
  {
   "cell_type": "code",
   "execution_count": 3,
   "metadata": {},
   "outputs": [],
   "source": [
    "def custom_sort(arr: list[list[int]]) -> list[list[int]]:\n",
    "    n = len(arr)\n",
    "    for row in range(n):\n",
    "        for col in range(0, n-row-1):\n",
    "            if arr[col][0] > arr[col+1][0] or (arr[col][0] == arr[col+1][0] and arr[col][1] > arr[col+1][1]):\n",
    "                arr[col], arr[col+1] = arr[col+1], arr[col]\n",
    "    return arr"
   ]
  },
  {
   "cell_type": "code",
   "execution_count": 5,
   "metadata": {},
   "outputs": [
    {
     "data": {
      "text/plain": [
       "[[1, 2], [2, 1], [2, 2], [3, 1], [3, 2], [4, 4]]"
      ]
     },
     "execution_count": 5,
     "metadata": {},
     "output_type": "execute_result"
    }
   ],
   "source": [
    "custom_sort([[3, 1], [1, 2], [2, 2], [3, 2], [2, 1], [4, 4]])"
   ]
  },
  {
   "cell_type": "code",
   "execution_count": 7,
   "metadata": {},
   "outputs": [
    {
     "data": {
      "text/plain": [
       "[[1, 2], [2, 1], [2, 2], [3, 1], [3, 2], [4, 4]]"
      ]
     },
     "execution_count": 7,
     "metadata": {},
     "output_type": "execute_result"
    }
   ],
   "source": [
    "my_lis = [[3, 1], [1, 2], [2, 2], [3, 2], [2, 1], [4, 4]]\n",
    "\n",
    "new_lis = sorted(my_lis, key=lambda x: (x[0], x[1]))\n",
    "\n",
    "new_lis"
   ]
  },
  {
   "cell_type": "markdown",
   "metadata": {},
   "source": [
    "**2. Sort the 2d array based on the second value in each row**"
   ]
  },
  {
   "cell_type": "code",
   "execution_count": 1,
   "metadata": {},
   "outputs": [],
   "source": [
    "def custom_sort2(arr: list[list[int]]) -> list[list[int]]:\n",
    "    return sorted(arr, key=lambda x : (x[1], x[0]))"
   ]
  },
  {
   "cell_type": "code",
   "execution_count": 2,
   "metadata": {},
   "outputs": [
    {
     "data": {
      "text/plain": [
       "[[2, 1], [3, 1], [1, 2], [2, 2], [3, 2], [4, 4]]"
      ]
     },
     "execution_count": 2,
     "metadata": {},
     "output_type": "execute_result"
    }
   ],
   "source": [
    "custom_sort2([[3, 1], [1, 2], [2, 2], [3, 2], [2, 1], [4, 4]])"
   ]
  }
 ],
 "metadata": {
  "kernelspec": {
   "display_name": "ML",
   "language": "python",
   "name": "python3"
  },
  "language_info": {
   "codemirror_mode": {
    "name": "ipython",
    "version": 3
   },
   "file_extension": ".py",
   "mimetype": "text/x-python",
   "name": "python",
   "nbconvert_exporter": "python",
   "pygments_lexer": "ipython3",
   "version": "3.11.5"
  },
  "orig_nbformat": 4
 },
 "nbformat": 4,
 "nbformat_minor": 2
}
