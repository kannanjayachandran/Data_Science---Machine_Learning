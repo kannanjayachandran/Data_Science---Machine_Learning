{
 "cells": [
  {
   "cell_type": "markdown",
   "metadata": {},
   "source": [
    "<h1 style='color:#FEC260'> Stack </h1>"
   ]
  },
  {
   "cell_type": "code",
   "execution_count": 5,
   "metadata": {},
   "outputs": [],
   "source": [
    "# Implementation using List\n",
    "class Stack:\n",
    "    \"\"\"\n",
    "    Stack Implemented using List\n",
    "    \"\"\"\n",
    "    def __init__(self) -> list:\n",
    "        self.items = []\n",
    "    \n",
    "    def isEmpty(self):\n",
    "        return len(self.items) == 0\n",
    "\n",
    "    def push(self, item):\n",
    "        self.items.append(item)\n",
    "\n",
    "    def pop(self):\n",
    "        if not self.isEmpty():\n",
    "            return self.items.pop()\n",
    "        else:\n",
    "            raise Exception(\"Stack Underflow : Stack is empty !\")\n",
    "\n",
    "    def top(self):\n",
    "        if not self.isEmpty():\n",
    "            return self.items[-1]\n",
    "        else:\n",
    "            raise Exception(\"Stack Underflow : Stack is empty !\")\n",
    "\n",
    "    def size(self):\n",
    "        return len(self.items)"
   ]
  },
  {
   "cell_type": "code",
   "execution_count": 6,
   "metadata": {},
   "outputs": [
    {
     "name": "stdout",
     "output_type": "stream",
     "text": [
      "True\n",
      "5\n"
     ]
    },
    {
     "data": {
      "text/plain": [
       "1"
      ]
     },
     "execution_count": 6,
     "metadata": {},
     "output_type": "execute_result"
    }
   ],
   "source": [
    "stack = Stack()\n",
    "\n",
    "print(stack.isEmpty())\n",
    "stack.push(5)\n",
    "print(stack.top())\n",
    "stack.size()"
   ]
  },
  {
   "cell_type": "code",
   "execution_count": 12,
   "metadata": {},
   "outputs": [],
   "source": [
    "# using collections\n",
    "from collections import deque\n",
    "\n",
    "class Stack2:\n",
    "    \"\"\"\n",
    "    Stack Implemented using Collections.deque\n",
    "    \"\"\"\n",
    "    def __init__(self):\n",
    "        self.items = deque()\n",
    "\n",
    "    def isEmpty(self):\n",
    "        return len(self.items) == 0\n",
    "\n",
    "    def push(self, item):\n",
    "        self.items.append(item)\n",
    "\n",
    "    def pop(self):\n",
    "        if not self.isEmpty():\n",
    "            return self.items.pop()\n",
    "        else:\n",
    "            raise Exception(\"Stack Underflow : Stack is empty !\")\n",
    "\n",
    "    def top(self):\n",
    "        if not self.isEmpty():\n",
    "            return self.items[-1]\n",
    "        else:\n",
    "            raise Exception(\"Stack Underflow : Stack is empty !\")\n",
    "\n",
    "    def size(self):\n",
    "        return len(self.items)"
   ]
  },
  {
   "cell_type": "code",
   "execution_count": 11,
   "metadata": {},
   "outputs": [
    {
     "name": "stdout",
     "output_type": "stream",
     "text": [
      "True\n",
      "5\n"
     ]
    },
    {
     "data": {
      "text/plain": [
       "1"
      ]
     },
     "execution_count": 11,
     "metadata": {},
     "output_type": "execute_result"
    }
   ],
   "source": [
    "stack2 = Stack2()\n",
    "\n",
    "print(stack2.isEmpty())\n",
    "stack2.push(5)\n",
    "print(stack2.top())\n",
    "stack2.size()"
   ]
  }
 ],
 "metadata": {
  "kernelspec": {
   "display_name": "ML",
   "language": "python",
   "name": "python3"
  },
  "language_info": {
   "codemirror_mode": {
    "name": "ipython",
    "version": 3
   },
   "file_extension": ".py",
   "mimetype": "text/x-python",
   "name": "python",
   "nbconvert_exporter": "python",
   "pygments_lexer": "ipython3",
   "version": "3.11.4"
  },
  "orig_nbformat": 4
 },
 "nbformat": 4,
 "nbformat_minor": 2
}
