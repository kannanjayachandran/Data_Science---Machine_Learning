{
 "cells": [
  {
   "cell_type": "markdown",
   "metadata": {},
   "source": [
    "<h1 style='color:#FEC260'> Arrays - Problems Set I </h1>"
   ]
  },
  {
   "cell_type": "markdown",
   "metadata": {},
   "source": [
    "**1. Find the `minimum` and `maximum` element in an array**"
   ]
  },
  {
   "cell_type": "code",
   "execution_count": 2,
   "metadata": {},
   "outputs": [],
   "source": [
    "def findMinMax(nums: list[int]) -> list[int]:\n",
    "    \n",
    "    if len(nums) == 1: return [nums[0], nums[0]]\n",
    "\n",
    "    minimum = float('inf')\n",
    "    maximum = -float('inf')\n",
    "\n",
    "    for x in nums:\n",
    "        if x > maximum:\n",
    "            maximum = x\n",
    "        if  x < minimum:\n",
    "            minimum = x\n",
    "    return [maximum, minimum]\n",
    "\n",
    "\n",
    "# using min() & max()\n",
    "def findMinMax2(nums: list[int]) -> list[int]:\n",
    "    return [max(nums), min(nums)]"
   ]
  },
  {
   "cell_type": "code",
   "execution_count": 3,
   "metadata": {},
   "outputs": [
    {
     "name": "stdout",
     "output_type": "stream",
     "text": [
      "[9, 0]\n",
      "[9, 0]\n"
     ]
    }
   ],
   "source": [
    "print(findMinMax([3, 0, 9, 8, 5]))\n",
    "print(findMinMax2([3, 0, 9, 8, 5]))"
   ]
  },
  {
   "cell_type": "markdown",
   "metadata": {},
   "source": [
    "**2. Reverse an array**"
   ]
  },
  {
   "cell_type": "code",
   "execution_count": 29,
   "metadata": {},
   "outputs": [],
   "source": [
    "def reverseArray(arr: list, start: int, end: int):\n",
    "    \n",
    "    while start < end:\n",
    "        arr[start], arr[end] = arr[end], arr[start]\n",
    "        start += 1\n",
    "        end -= 1\n",
    "    return arr\n",
    "\n",
    "\n",
    "# using reverse()\n",
    "def reverseArray2(nums: list[int]) -> list[int]:\n",
    "    nums.reverse()\n",
    "    return nums "
   ]
  },
  {
   "cell_type": "code",
   "execution_count": 5,
   "metadata": {},
   "outputs": [
    {
     "name": "stdout",
     "output_type": "stream",
     "text": [
      "[5, 3, 2, 1]\n",
      "[1, 2, 3, 5]\n"
     ]
    }
   ],
   "source": [
    "arr = [1, 2, 3, 5]\n",
    "\n",
    "print(reverseArray(arr, 0, len(arr)-1))\n",
    "print(reverseArray2(arr))"
   ]
  },
  {
   "cell_type": "markdown",
   "metadata": {},
   "source": [
    "**3. Remove a given duplicate element from a list**"
   ]
  },
  {
   "cell_type": "code",
   "execution_count": 11,
   "metadata": {},
   "outputs": [],
   "source": [
    "def removeDup(nums: list[int], val: int) -> list[int]:\n",
    "\n",
    "    l_ptr = 0\n",
    "    for r_ptr in range(len(nums)):\n",
    "        if nums[r_ptr] != val:\n",
    "            nums[l_ptr] = nums[r_ptr]\n",
    "            l_ptr += 1\n",
    "    return nums[:l_ptr]"
   ]
  },
  {
   "cell_type": "code",
   "execution_count": 12,
   "metadata": {},
   "outputs": [
    {
     "data": {
      "text/plain": [
       "[1, 3, 7, 5, 9]"
      ]
     },
     "execution_count": 12,
     "metadata": {},
     "output_type": "execute_result"
    }
   ],
   "source": [
    "nums = [1, 2, 3, 7, 2, 5, 2, 9]\n",
    "val = 2\n",
    "removeDup(nums, val)"
   ]
  },
  {
   "cell_type": "markdown",
   "metadata": {},
   "source": [
    "**4. Remove Duplicates from Sorted Array**"
   ]
  },
  {
   "cell_type": "code",
   "execution_count": 16,
   "metadata": {},
   "outputs": [],
   "source": [
    "def removeDuplicates(nums: list[int]) -> list[int]:\n",
    "    l = 1\n",
    "    for r in range(1, len(nums)):\n",
    "        if nums[r] != nums[r-1]:\n",
    "            nums[l] = nums[r]\n",
    "            l += 1\n",
    "    return nums[:l]"
   ]
  },
  {
   "cell_type": "code",
   "execution_count": 17,
   "metadata": {},
   "outputs": [
    {
     "data": {
      "text/plain": [
       "[1, 2, 3, 4, 5, 6]"
      ]
     },
     "execution_count": 17,
     "metadata": {},
     "output_type": "execute_result"
    }
   ],
   "source": [
    "nums = [1, 2, 2, 2, 3, 4, 5, 6]\n",
    "removeDuplicates(nums)"
   ]
  },
  {
   "cell_type": "markdown",
   "metadata": {},
   "source": [
    "**5. Double an array**"
   ]
  },
  {
   "cell_type": "code",
   "execution_count": 7,
   "metadata": {},
   "outputs": [],
   "source": [
    "def getConcatenation(nums: list[int]) -> list[int]:\n",
    "    return nums*2"
   ]
  },
  {
   "cell_type": "code",
   "execution_count": 8,
   "metadata": {},
   "outputs": [
    {
     "data": {
      "text/plain": [
       "[1, 2, 1, 1, 2, 1]"
      ]
     },
     "execution_count": 8,
     "metadata": {},
     "output_type": "execute_result"
    }
   ],
   "source": [
    "getConcatenation([1,2,1])"
   ]
  },
  {
   "cell_type": "markdown",
   "metadata": {},
   "source": [
    "**6. Second largest element in an array**"
   ]
  },
  {
   "cell_type": "code",
   "execution_count": 25,
   "metadata": {},
   "outputs": [],
   "source": [
    "def secondLargest(nums: list[int]) -> int|None:\n",
    "\n",
    "    if len(nums) < 2:\n",
    "        return None\n",
    "\n",
    "    largest = second_largest = -float('inf')\n",
    "    for num in nums:\n",
    "        if num > largest:\n",
    "            second_largest, largest = largest, num\n",
    "        elif num > second_largest and num != largest:\n",
    "            second_largest = num\n",
    "    return None if second_largest == -float('inf') else second_largest\n"
   ]
  },
  {
   "cell_type": "code",
   "execution_count": 26,
   "metadata": {},
   "outputs": [
    {
     "data": {
      "text/plain": [
       "-1"
      ]
     },
     "execution_count": 26,
     "metadata": {},
     "output_type": "execute_result"
    }
   ],
   "source": [
    "secondLargest([-1, -1, -1, -1, 0])"
   ]
  },
  {
   "cell_type": "markdown",
   "metadata": {},
   "source": [
    "**7. Rotate an array by `k` in right direction {clockwise}**"
   ]
  },
  {
   "cell_type": "code",
   "execution_count": 36,
   "metadata": {},
   "outputs": [],
   "source": [
    "def arrayRotateRight(arr: list, k: int):\n",
    "\n",
    "    n = len(arr)\n",
    "\n",
    "    if k == n:\n",
    "        return arr\n",
    "\n",
    "    if k < n: \n",
    "            reverseArray(arr, 0, n-1)\n",
    "            reverseArray(arr, 0, k-1)\n",
    "            reverseArray(arr, k, n-1)\n",
    "            return arr\n",
    "\n",
    "    if k > n:\n",
    "        k %= n\n",
    "        return arrayRotateRight(arr, k)"
   ]
  },
  {
   "cell_type": "code",
   "execution_count": 38,
   "metadata": {},
   "outputs": [
    {
     "data": {
      "text/plain": [
       "[4, 5, 1, 2, 3]"
      ]
     },
     "execution_count": 38,
     "metadata": {},
     "output_type": "execute_result"
    }
   ],
   "source": [
    "arrayRotateRight([1, 2, 3, 4, 5], 2)"
   ]
  },
  {
   "cell_type": "markdown",
   "metadata": {},
   "source": [
    "**8. Rotate an array by `k` elements in the left direction**"
   ]
  },
  {
   "cell_type": "code",
   "execution_count": 34,
   "metadata": {},
   "outputs": [],
   "source": [
    "def arrayRotateLeft(arr: list, k: int) -> list[int]:\n",
    "\n",
    "    n = len(arr)\n",
    "\n",
    "    if k == n:\n",
    "        return arr\n",
    "\n",
    "    if k < n: \n",
    "            reverseArray(arr, 0, k-1)\n",
    "            reverseArray(arr, k, n-1)\n",
    "            reverseArray(arr, 0, n-1)\n",
    "            return arr\n",
    "\n",
    "    if k > n:\n",
    "        k %= n\n",
    "        return arrayRotateLeft(arr, k)"
   ]
  },
  {
   "cell_type": "code",
   "execution_count": 39,
   "metadata": {},
   "outputs": [
    {
     "data": {
      "text/plain": [
       "[3, 4, 5, 1, 2]"
      ]
     },
     "execution_count": 39,
     "metadata": {},
     "output_type": "execute_result"
    }
   ],
   "source": [
    "arrayRotateLeft([1, 2, 3, 4, 5], 2)"
   ]
  },
  {
   "cell_type": "markdown",
   "metadata": {},
   "source": [
    "**9. Left rotate by 1**"
   ]
  },
  {
   "cell_type": "code",
   "execution_count": 19,
   "metadata": {},
   "outputs": [],
   "source": [
    "def arrRotate_by_one(arr: list[int]) -> list[int]:\n",
    "\n",
    "    temp = arr[0]\n",
    "    for i in range(1, len(arr)):\n",
    "        arr[i-1] = arr[i]\n",
    "\n",
    "    arr[-1] = temp\n",
    "    return arr\n",
    "\n",
    "\n",
    "def arr_rotate_by_one(arr: list[int]) -> list[int]:\n",
    "    return arr[1:] + arr[:1] "
   ]
  },
  {
   "cell_type": "code",
   "execution_count": 21,
   "metadata": {},
   "outputs": [
    {
     "name": "stdout",
     "output_type": "stream",
     "text": [
      "[2, 3, 4, 5, 1]\n",
      "[2, 3, 4, 5, 1]\n"
     ]
    }
   ],
   "source": [
    "arr = [1, 2, 3, 4, 5]\n",
    "\n",
    "print(arrRotate_by_one(arr.copy()))\n",
    "print(arr_rotate_by_one(arr.copy()))"
   ]
  },
  {
   "cell_type": "markdown",
   "metadata": {},
   "source": [
    "**10. Move all zeros to the end**"
   ]
  },
  {
   "cell_type": "code",
   "execution_count": 22,
   "metadata": {},
   "outputs": [],
   "source": [
    "def moveZeros(arr: list) -> list[int]:\n",
    "    count = 0\n",
    "    for i in range(len(arr)):\n",
    "        if arr[i] != 0:\n",
    "            arr[i], arr[count] = arr[count], arr[i]\n",
    "            count += 1\n",
    "    return arr"
   ]
  },
  {
   "cell_type": "code",
   "execution_count": 24,
   "metadata": {},
   "outputs": [
    {
     "data": {
      "text/plain": [
       "[1, 2, 3, 4, 1, 0, 0, 0, 0, 0, 0, 0]"
      ]
     },
     "execution_count": 24,
     "metadata": {},
     "output_type": "execute_result"
    }
   ],
   "source": [
    "moveZeros([0, 0, 1, 2, 0, 0, 3, 4, 0, 0, 1, 0])"
   ]
  },
  {
   "cell_type": "markdown",
   "metadata": {},
   "source": [
    "**11. Union of two Sorted arrays**"
   ]
  },
  {
   "cell_type": "code",
   "execution_count": 25,
   "metadata": {},
   "outputs": [],
   "source": [
    "def findUnion(arr1: list[int], arr2: list[int]) -> list[int]:\n",
    "\n",
    "    ptr1, ptr2 = 0, 0\n",
    "    res = []\n",
    "\n",
    "    while ptr1 < len(arr1) and ptr2 < len(arr2):\n",
    "        if arr1[ptr1] < arr2[ptr2]:\n",
    "            res.append(arr1[ptr1])\n",
    "            ptr1 += 1\n",
    "        elif arr1[ptr1] > arr2[ptr2]:\n",
    "            res.append(arr2[ptr2])\n",
    "            ptr2 += 1\n",
    "        else:\n",
    "            res.append(arr1[ptr1])\n",
    "            ptr1 += 1\n",
    "            ptr2 += 1\n",
    "    while ptr1 < len(arr1):\n",
    "        res.append(arr1[ptr1])\n",
    "        ptr1 += 1\n",
    "\n",
    "    while ptr2 < len(arr2):\n",
    "        res.append(arr2[ptr2])\n",
    "        ptr2 += 1\n",
    "    return res"
   ]
  },
  {
   "cell_type": "code",
   "execution_count": 26,
   "metadata": {},
   "outputs": [
    {
     "data": {
      "text/plain": [
       "[1, 2, 3, 4, 5, 6, 7]"
      ]
     },
     "execution_count": 26,
     "metadata": {},
     "output_type": "execute_result"
    }
   ],
   "source": [
    "findUnion([1, 3, 4, 5, 7], [2, 3, 5, 6])"
   ]
  },
  {
   "cell_type": "markdown",
   "metadata": {},
   "source": [
    "**12. Find the intersection of two sorted arrays**"
   ]
  },
  {
   "cell_type": "code",
   "execution_count": 18,
   "metadata": {},
   "outputs": [],
   "source": [
    "def findIntersection(arr1: list[int], arr2: list[int]) -> list[int]:\n",
    "    p1, p2 = 0, 0\n",
    "    res = []\n",
    "\n",
    "    while p1 < len(arr1) and p2 < len(arr2):\n",
    "        if arr1[p1] < arr2[p2]:\n",
    "            p1 += 1\n",
    "        elif arr1[p1] > arr2[p2]:\n",
    "            p2 += 1\n",
    "        else:\n",
    "            res.append(arr1[p1])\n",
    "            p1 += 1\n",
    "            p2 += 1\n",
    "    \n",
    "    return res"
   ]
  },
  {
   "cell_type": "code",
   "execution_count": 19,
   "metadata": {},
   "outputs": [
    {
     "data": {
      "text/plain": [
       "[3, 5]"
      ]
     },
     "execution_count": 19,
     "metadata": {},
     "output_type": "execute_result"
    }
   ],
   "source": [
    "findIntersection([1, 2, 3, 4, 5, 6], [3, 3, 5])"
   ]
  },
  {
   "cell_type": "markdown",
   "metadata": {},
   "source": [
    "**13. Find all the unique elements in an array and return them | Return the count of all the unique elements**"
   ]
  },
  {
   "cell_type": "code",
   "execution_count": 20,
   "metadata": {},
   "outputs": [],
   "source": [
    "def findUniqueElements(arr: list[int]) -> list[int]:\n",
    "    lookUp = set(arr)\n",
    "    return lookUp\n",
    "\n",
    "def findUniqueCount(arr: list[int]) -> list[int]:\n",
    "    lookUp = set(arr)\n",
    "    return len(lookUp)"
   ]
  },
  {
   "cell_type": "code",
   "execution_count": 21,
   "metadata": {},
   "outputs": [
    {
     "name": "stdout",
     "output_type": "stream",
     "text": [
      "{3, 4, 5, 6, 10}\n",
      "5\n"
     ]
    }
   ],
   "source": [
    "print(findUniqueElements([10, 5, 3, 4, 3, 5, 6]))\n",
    "print(findUniqueCount([10, 5, 3, 4, 3, 5, 6]))"
   ]
  },
  {
   "cell_type": "markdown",
   "metadata": {},
   "source": [
    "**14. Find whether the inverse of the array is mirror inverse or not**"
   ]
  },
  {
   "cell_type": "code",
   "execution_count": 22,
   "metadata": {},
   "outputs": [],
   "source": [
    "def mirrorInverse(arr: list[int]) -> bool:\n",
    "    for i in range(len(arr)):\n",
    "        if arr[arr[i]] != i:\n",
    "            return False\n",
    "    return True"
   ]
  },
  {
   "cell_type": "code",
   "execution_count": 23,
   "metadata": {},
   "outputs": [
    {
     "data": {
      "text/plain": [
       "False"
      ]
     },
     "execution_count": 23,
     "metadata": {},
     "output_type": "execute_result"
    }
   ],
   "source": [
    "mirrorInverse([1, 2, 3, 0])"
   ]
  },
  {
   "cell_type": "markdown",
   "metadata": {},
   "source": [
    "**15. Find non-min-max elements in an array**"
   ]
  },
  {
   "cell_type": "code",
   "execution_count": 24,
   "metadata": {},
   "outputs": [],
   "source": [
    "def findNonMinOrMax(nums: list[int]) -> int: \n",
    "    ans = []\n",
    "    if len(nums) <= 2:\n",
    "        return []\n",
    "\n",
    "    high = max(nums)\n",
    "    low = min(nums)\n",
    "\n",
    "    for x in nums:\n",
    "        if x != high and x != low:\n",
    "            ans.append(x)\n",
    "    \n",
    "    if ans:\n",
    "        return ans\n",
    "    else:\n",
    "        return []"
   ]
  },
  {
   "cell_type": "code",
   "execution_count": 25,
   "metadata": {},
   "outputs": [
    {
     "data": {
      "text/plain": [
       "[2, 3, 4]"
      ]
     },
     "execution_count": 25,
     "metadata": {},
     "output_type": "execute_result"
    }
   ],
   "source": [
    "findNonMinOrMax([1, 2, 3, 4, 5])"
   ]
  }
 ],
 "metadata": {
  "kernelspec": {
   "display_name": "ML",
   "language": "python",
   "name": "python3"
  },
  "language_info": {
   "codemirror_mode": {
    "name": "ipython",
    "version": 3
   },
   "file_extension": ".py",
   "mimetype": "text/x-python",
   "name": "python",
   "nbconvert_exporter": "python",
   "pygments_lexer": "ipython3",
   "version": "3.11.9"
  },
  "orig_nbformat": 4
 },
 "nbformat": 4,
 "nbformat_minor": 2
}
