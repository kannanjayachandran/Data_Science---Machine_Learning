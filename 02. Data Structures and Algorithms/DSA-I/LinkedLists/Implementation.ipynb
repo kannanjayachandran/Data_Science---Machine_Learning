{
 "cells": [
  {
   "cell_type": "markdown",
   "metadata": {},
   "source": [
    "<h1 style='color:#FEC260'> Linked List </h1>"
   ]
  },
  {
   "cell_type": "code",
   "execution_count": 1,
   "metadata": {},
   "outputs": [],
   "source": [
    "# SINGLY LINKED LIST\n",
    "class Node:\n",
    "    def __init__(self, data):\n",
    "        self.data = data\n",
    "        self.next = None\n",
    "\n",
    "\n",
    "def print_linked_list(head):\n",
    "    current = head\n",
    "    while current:\n",
    "        print(current.data, end=' ')\n",
    "        current = current.next\n",
    "    print()\n",
    "\n",
    "\n",
    "def search(head, key):\n",
    "    Current = head\n",
    "    position = 1\n",
    "    while Current:\n",
    "        if key == Current.data:\n",
    "            return position\n",
    "        Current = Current.next\n",
    "        position += 1\n",
    "    return -1\n",
    "\n",
    "\n",
    "def insert_at_beginning(head, data):\n",
    "    new_node = Node(data)\n",
    "    new_node.next = head\n",
    "    return new_node\n",
    "\n",
    "\n",
    "def insert_at_end(head, data):\n",
    "\n",
    "    new_node = Node(data)\n",
    "    if head is None:\n",
    "        return new_node\n",
    "    current = head\n",
    "    while current.next:\n",
    "        current = current.next\n",
    "    current.next = new_node\n",
    "    return head\n",
    "\n",
    "\n",
    "def insert_at_pos(head, data, position):\n",
    "    new_node = Node(data)\n",
    "    if position < 1:\n",
    "        raise ValueError(\"Position should >= 1\")\n",
    "    if position == 1:\n",
    "        new_node.next = head\n",
    "        return new_node\n",
    "    current = head\n",
    "    for _ in range(position - 2):\n",
    "        if current is None:\n",
    "            raise IndexError(\"Position out of bound\")\n",
    "        current = current.next\n",
    "    if current is None:\n",
    "        raise IndexError(\"Position out of bound\")\n",
    "    new_node.next = current.next\n",
    "    current.next = new_node\n",
    "    return head\n",
    "\n",
    "\n",
    "def delete_first_node(head):\n",
    "    if head is None:\n",
    "        return None\n",
    "    return head.next\n",
    "\n",
    "\n",
    "def delete_last_node(head):\n",
    "    if head is None or head.next is None:\n",
    "        return None\n",
    "    current = head\n",
    "    while current.next.next:\n",
    "        current = current.next\n",
    "    current.next = None\n",
    "    return head\n",
    "\n",
    "\n",
    "def reverse_linked_list(head):\n",
    "    prev = None\n",
    "    current = head\n",
    "    while current is not None:\n",
    "        next_ptr = current.next\n",
    "        current.next = prev\n",
    "        prev = current\n",
    "        current = next_ptr\n",
    "    return prev"
   ]
  },
  {
   "cell_type": "code",
   "execution_count": 50,
   "metadata": {},
   "outputs": [
    {
     "name": "stdout",
     "output_type": "stream",
     "text": [
      "10 20 30 40 "
     ]
    },
    {
     "data": {
      "text/plain": [
       "3"
      ]
     },
     "execution_count": 50,
     "metadata": {},
     "output_type": "execute_result"
    }
   ],
   "source": [
    "# Create, print, and search List\n",
    "head = Node(10)\n",
    "head.next = Node(20)\n",
    "head.next.next = Node(30)\n",
    "head.next.next.next = Node(40)\n",
    "\n",
    "print_linked_list(head)\n",
    "search(head, 30)"
   ]
  },
  {
   "cell_type": "code",
   "execution_count": 2,
   "metadata": {},
   "outputs": [
    {
     "name": "stdout",
     "output_type": "stream",
     "text": [
      "300 200 100 \n"
     ]
    }
   ],
   "source": [
    "# Insert at the beginning\n",
    "head = None\n",
    "head = insert_at_beginning(head, 100)\n",
    "head = insert_at_beginning(head, 200)\n",
    "head = insert_at_beginning(head, 300)\n",
    "\n",
    "print_linked_list(head)"
   ]
  },
  {
   "cell_type": "code",
   "execution_count": 41,
   "metadata": {},
   "outputs": [
    {
     "name": "stdout",
     "output_type": "stream",
     "text": [
      "1 2 0 100 \n"
     ]
    }
   ],
   "source": [
    "# Insert at the end\n",
    "head = None\n",
    "head = insert_at_end(head, 1)\n",
    "head = insert_at_end(head, 2)\n",
    "head = insert_at_end(head, 0)\n",
    "head = insert_at_end(head, 100)\n",
    "\n",
    "\n",
    "print_linked_list(head)"
   ]
  },
  {
   "cell_type": "code",
   "execution_count": 21,
   "metadata": {},
   "outputs": [
    {
     "name": "stdout",
     "output_type": "stream",
     "text": [
      "Position out of bound happened.\n",
      "100 10 50 "
     ]
    }
   ],
   "source": [
    "# Insert at any position\n",
    "head = None\n",
    "head = insert_at_pos(head, 10, 1)\n",
    "\n",
    "try:\n",
    "    head = insert_at_pos(head, 1000, 5)\n",
    "except IndexError as ie:\n",
    "    print(f'{ie} happened.')\n",
    "    \n",
    "head = insert_at_pos(head, 50, 2)\n",
    "head = insert_at_pos(head, 100, 1)\n",
    "\n",
    "print_linked_list(head)"
   ]
  },
  {
   "cell_type": "code",
   "execution_count": 33,
   "metadata": {},
   "outputs": [
    {
     "name": "stdout",
     "output_type": "stream",
     "text": [
      "Current list:  150 250 350 450 \n",
      "After removing first element: 250 350 450 \n",
      "After removing second element: 350 450 \n",
      "After removing third element: 450 \n",
      "After removing last element: "
     ]
    }
   ],
   "source": [
    "# delete first element\n",
    "print(\"Current list: \", end=' ')\n",
    "print_linked_list(head)\n",
    "\n",
    "head = delete_first_node(head)\n",
    "print('\\nAfter removing first element:', end=' ')\n",
    "print_linked_list(head)\n",
    "\n",
    "\n",
    "head = delete_first_node(head)\n",
    "print('\\nAfter removing second element:', end=' ')\n",
    "print_linked_list(head)\n",
    "\n",
    "\n",
    "head = delete_first_node(head)\n",
    "print('\\nAfter removing third element:', end=' ')\n",
    "print_linked_list(head)\n",
    "\n",
    "\n",
    "head = delete_first_node(head)\n",
    "print('\\nAfter removing last element:', end=' ')\n",
    "print_linked_list(head)"
   ]
  },
  {
   "cell_type": "code",
   "execution_count": 3,
   "metadata": {},
   "outputs": [
    {
     "name": "stdout",
     "output_type": "stream",
     "text": [
      "1 2 0 100 \n",
      "1 2 0 \n"
     ]
    }
   ],
   "source": [
    "head = None\n",
    "head = insert_at_end(head, 1)\n",
    "head = insert_at_end(head, 2)\n",
    "head = insert_at_end(head, 0)\n",
    "head = insert_at_end(head, 100)\n",
    "\n",
    "\n",
    "print_linked_list(head)\n",
    "\n",
    "head = delete_last_node(head)\n",
    "\n",
    "print_linked_list(head)"
   ]
  },
  {
   "cell_type": "code",
   "execution_count": 4,
   "metadata": {},
   "outputs": [
    {
     "name": "stdout",
     "output_type": "stream",
     "text": [
      "1 2 0 100 \n",
      "100 0 2 1 \n"
     ]
    }
   ],
   "source": [
    "head = None\n",
    "head = insert_at_end(head, 1)\n",
    "head = insert_at_end(head, 2)\n",
    "head = insert_at_end(head, 0)\n",
    "head = insert_at_end(head, 100)\n",
    "\n",
    "\n",
    "print_linked_list(head)\n",
    "\n",
    "head = reverse_linked_list(head)\n",
    "\n",
    "print_linked_list(head)"
   ]
  },
  {
   "cell_type": "code",
   "execution_count": 2,
   "metadata": {},
   "outputs": [],
   "source": [
    "# CIRCULAR LINKED LIST\n",
    "class Node:\n",
    "    def __init__(self, data):\n",
    "        self.data = data\n",
    "        self.next = None\n",
    "\n",
    "\n",
    "def show_circular_list(head: Node):\n",
    "    if head is None:\n",
    "        return None\n",
    "    print(head.data, end=' ')\n",
    "    current = head.next\n",
    "    while current != head:\n",
    "        print(current.data, end=' ')\n",
    "        current = current.next\n",
    "    print()\n",
    "\n",
    "\n",
    "def insert_at_beginning(head: Node, data: int):\n",
    "    new_node = Node(data)\n",
    "    if head is None:\n",
    "        new_node.next = new_node\n",
    "        return new_node\n",
    "    new_node.next = head.next\n",
    "    head.next = new_node\n",
    "    head.data, new_node.data = new_node.data, head.data\n",
    "    return head\n",
    "\n",
    "def insert_at_end(head: Node, data: int):\n",
    "    new_node = Node(data)\n",
    "    if head is None:\n",
    "        new_node.next = new_node\n",
    "        return new_node\n",
    "    new_node.next = head.next\n",
    "    head.next = new_node\n",
    "    head.data, new_node.data = new_node.data, head.data\n",
    "    return new_node\n",
    "\n",
    "\n",
    "def delete_first_node(head: Node):\n",
    "    if head is None:\n",
    "        return None\n",
    "    \n",
    "    # If there is only one node in the list\n",
    "    if head.next == head:\n",
    "        return None\n",
    "    head.data = head.next.data\n",
    "    head.next = head.next.next\n",
    "    return head\n",
    "\n",
    "\n",
    "def delete_last_node(head: Node):\n",
    "    if head is None:\n",
    "        return None\n",
    "    \n",
    "    # If there is only one node in the list\n",
    "    if head.next == head:\n",
    "        return None\n",
    "    current = head\n",
    "    while current.next.next != head:\n",
    "        current = current.next\n",
    "    current.next = head\n",
    "    return head\n",
    "\n",
    "\n",
    "def delete_kth_node(head: Node, k: int):\n",
    "    if head is None:\n",
    "        return None\n",
    "    if k == 1:\n",
    "        return delete_first_node(head)\n",
    "    current = head\n",
    "    for _ in range(k-2):\n",
    "        current = current.next\n",
    "    current.next = current.next.next\n",
    "    return head\n",
    "\n",
    "\n",
    "def search(head: Node, key: int):\n",
    "    if head is None:\n",
    "        return False\n",
    "    current = head\n",
    "    while True:\n",
    "        if current.data == key:\n",
    "            return True\n",
    "        current = current.next\n",
    "        if current == head:\n",
    "            return False\n",
    "        "
   ]
  },
  {
   "cell_type": "code",
   "execution_count": 3,
   "metadata": {},
   "outputs": [
    {
     "name": "stdout",
     "output_type": "stream",
     "text": [
      "10 20 30 40 \n"
     ]
    }
   ],
   "source": [
    "# Create and Print list\n",
    "one = Node(10)\n",
    "two = Node(20)\n",
    "three = Node(30)\n",
    "four = Node(40)\n",
    "\n",
    "one.next = two\n",
    "two.next = three\n",
    "three.next = four\n",
    "four.next = one\n",
    "\n",
    "show_circular_list(one)"
   ]
  },
  {
   "cell_type": "code",
   "execution_count": 5,
   "metadata": {},
   "outputs": [],
   "source": [
    "from typing import Callable, Optional\n",
    "\n",
    "\n",
    "def perform_operations(head: Node, operation: Callable[[Node, Optional[int]], Node], *args):\n",
    "    show_circular_list(head)\n",
    "    head = operation(head, *args) \n",
    "    show_circular_list(head)\n",
    "    return head"
   ]
  },
  {
   "cell_type": "code",
   "execution_count": 7,
   "metadata": {},
   "outputs": [
    {
     "name": "stdout",
     "output_type": "stream",
     "text": [
      "10 20 30 40 \n",
      "1 10 20 30 40 \n"
     ]
    }
   ],
   "source": [
    "# Insert at the beginning of the list\n",
    "one = perform_operations(one, insert_at_beginning, 1)"
   ]
  },
  {
   "cell_type": "code",
   "execution_count": 8,
   "metadata": {},
   "outputs": [
    {
     "name": "stdout",
     "output_type": "stream",
     "text": [
      "1 10 20 30 40 \n",
      "1 10 20 30 40 100 \n"
     ]
    }
   ],
   "source": [
    "one = perform_operations(one, insert_at_end, 100)"
   ]
  },
  {
   "cell_type": "code",
   "execution_count": 9,
   "metadata": {},
   "outputs": [
    {
     "name": "stdout",
     "output_type": "stream",
     "text": [
      "1 10 20 30 40 100 \n",
      "10 20 30 40 100 \n"
     ]
    }
   ],
   "source": [
    "one = perform_operations(one, delete_first_node)"
   ]
  },
  {
   "cell_type": "code",
   "execution_count": 10,
   "metadata": {},
   "outputs": [
    {
     "name": "stdout",
     "output_type": "stream",
     "text": [
      "10 20 30 40 100 \n",
      "10 20 30 40 \n"
     ]
    }
   ],
   "source": [
    "one = perform_operations(one, delete_last_node)"
   ]
  },
  {
   "cell_type": "code",
   "execution_count": 11,
   "metadata": {},
   "outputs": [
    {
     "name": "stdout",
     "output_type": "stream",
     "text": [
      "10 20 30 40 \n",
      "10 20 40 \n"
     ]
    }
   ],
   "source": [
    "one = perform_operations(one, delete_kth_node, 3)"
   ]
  },
  {
   "cell_type": "code",
   "execution_count": 14,
   "metadata": {},
   "outputs": [
    {
     "data": {
      "text/plain": [
       "True"
      ]
     },
     "execution_count": 14,
     "metadata": {},
     "output_type": "execute_result"
    }
   ],
   "source": [
    "search(one, 40)"
   ]
  },
  {
   "cell_type": "code",
   "execution_count": 9,
   "metadata": {},
   "outputs": [],
   "source": [
    "# singly linked list\n",
    "class Node:\n",
    "    def __init__(self, data=None):\n",
    "        self.data = data\n",
    "        self.next = None\n",
    "\n",
    "\n",
    "class LinkedList:\n",
    "    def __init__(self):\n",
    "        self.head = None\n",
    "    \n",
    "    def append(self, data):\n",
    "        new_node = Node(data)\n",
    "        if not self.head:\n",
    "            self.head = new_node\n",
    "            return\n",
    "        current = self.head\n",
    "        while current.next:\n",
    "            current = current.next\n",
    "        current.next = new_node\n",
    "    \n",
    "    def show(self):\n",
    "        current = self.head\n",
    "        while current:\n",
    "            print(current.data, end=\" -> \")\n",
    "            current = current.next\n",
    "        print(\"None\")\n"
   ]
  },
  {
   "cell_type": "code",
   "execution_count": 10,
   "metadata": {},
   "outputs": [
    {
     "name": "stdout",
     "output_type": "stream",
     "text": [
      "1 -> 2 -> 3 -> None\n"
     ]
    }
   ],
   "source": [
    "# Creating a singly linked list\n",
    "sll = LinkedList()\n",
    "sll.append(1)\n",
    "sll.append(2)\n",
    "sll.append(3)\n",
    "\n",
    "# Displaying the singly linked list\n",
    "sll.show()"
   ]
  },
  {
   "cell_type": "markdown",
   "metadata": {},
   "source": [
    "### Implementation from scratch"
   ]
  },
  {
   "cell_type": "code",
   "execution_count": 1,
   "metadata": {},
   "outputs": [],
   "source": [
    "class ListNode:\n",
    "    def __init__(self, val=None):\n",
    "        self.val = val\n",
    "        self.next = None\n",
    "\n",
    "class LinkedList:\n",
    "\n",
    "    def __init__(self):\n",
    "        self.size = 0\n",
    "        self.head = ListNode(0)  # dummy node    \n",
    "\n",
    "    def get(self, index: int) -> int:\n",
    "        # if index is invalid\n",
    "        if index < 0 or index >= self.size:\n",
    "            return -1\n",
    "        \n",
    "        curr = self.head\n",
    "        # index+1 because of the dummy node\n",
    "        for _ in range(index + 1):\n",
    "            curr = curr.next\n",
    "        return curr.val    \n",
    "\n",
    "    def addAtHead(self, val: int) -> None:\n",
    "        self.addAtIndex(0, val) \n",
    "\n",
    "    def addAtTail(self, val: int) -> None:\n",
    "        self.addAtIndex(self.size, val)\n",
    "        \n",
    "    def addAtIndex(self, index: int, val: int) -> None:\n",
    "        # If index is greater than the length, \n",
    "        # the node will not be inserted.\n",
    "        if index > self.size:\n",
    "            return\n",
    "        \n",
    "        # If index is negative, \n",
    "        # the node will be inserted at the head of the list.\n",
    "        if index < 0:\n",
    "            index = 0\n",
    "        self.size += 1\n",
    "\n",
    "        # find predecessor of the node to be added\n",
    "        pred = self.head\n",
    "        for _ in range(index):\n",
    "            pred = pred.next\n",
    "            \n",
    "        # node to be added\n",
    "        to_add = ListNode(val)\n",
    "        # insertion itself\n",
    "        to_add.next = pred.next\n",
    "        pred.next = to_add\n",
    "\n",
    "    def deleteAtIndex(self, index: int) -> None:\n",
    "\n",
    "        # if the index is invalid, do nothing\n",
    "        if index < 0 or index >= self.size:\n",
    "            return\n",
    "        \n",
    "        self.size -= 1\n",
    "        # find predecessor of the node to be deleted\n",
    "        pred = self.head\n",
    "        for _ in range(index):\n",
    "            pred = pred.next\n",
    "            \n",
    "        # delete pred.next \n",
    "        pred.next = pred.next.next"
   ]
  },
  {
   "cell_type": "markdown",
   "metadata": {},
   "source": [
    "### Doubly linked list"
   ]
  },
  {
   "cell_type": "code",
   "execution_count": 2,
   "metadata": {},
   "outputs": [],
   "source": [
    "class ListNode:\n",
    "    def __init__(self, val):\n",
    "        self.val = val\n",
    "        self.next, self.prev = None, None\n",
    "\n",
    "class MyLinkedList:\n",
    "    def __init__(self):\n",
    "        self.size = 0\n",
    "        # dummy node\n",
    "        self.head, self.tail = ListNode(0), ListNode(0) \n",
    "        self.head.next = self.tail\n",
    "        self.tail.prev = self.head\n",
    "        \n",
    "\n",
    "    def get(self, index: int) -> int:\n",
    "\n",
    "        # if index is invalid\n",
    "        if index < 0 or index >= self.size:\n",
    "            return -1\n",
    "        \n",
    "        # choose the fastest way: to move from the head\n",
    "        # or to move from the tail\n",
    "        if index + 1 < self.size - index:\n",
    "            curr = self.head\n",
    "            for _ in range(index + 1):\n",
    "                curr = curr.next\n",
    "        else:\n",
    "            curr = self.tail\n",
    "            for _ in range(self.size - index):\n",
    "                curr = curr.prev\n",
    "                \n",
    "        return curr.val\n",
    "            \n",
    "\n",
    "    def addAtHead(self, val: int) -> None:\n",
    "\n",
    "        predecessor, successor = self.head, self.head.next\n",
    "        \n",
    "        self.size += 1\n",
    "        to_add = ListNode(val)\n",
    "        to_add.prev = predecessor\n",
    "        to_add.next = successor\n",
    "        predecessor.next = to_add\n",
    "        successor.prev = to_add\n",
    "        \n",
    "\n",
    "    def addAtTail(self, val: int) -> None:\n",
    "\n",
    "        successor, predecessor = self.tail, self.tail.prev\n",
    "        \n",
    "        self.size += 1\n",
    "        to_add = ListNode(val)\n",
    "        to_add.prev = predecessor\n",
    "        to_add.next = successor\n",
    "        predecessor.next = to_add\n",
    "        successor.prev = to_add\n",
    "        \n",
    "\n",
    "    def addAtIndex(self, index: int, val: int) -> None:\n",
    "\n",
    "        # If index is greater than the length, \n",
    "        # the node will not be inserted.\n",
    "        if index > self.size:\n",
    "            return\n",
    "        \n",
    "        #  If index is negative, \n",
    "        # the node will be inserted at the head of the list.\n",
    "        if index < 0:\n",
    "            index = 0\n",
    "        \n",
    "        # find predecessor and successor of the node to be added\n",
    "        if index < self.size - index:\n",
    "            predecessor = self.head\n",
    "            for _ in range(index):\n",
    "                predecessor = predecessor.next\n",
    "            successor = predecessor.next\n",
    "        else:\n",
    "            successor = self.tail\n",
    "            for _ in range(self.size - index):\n",
    "                successor = successor.prev\n",
    "            predecessor = successor.prev\n",
    "        \n",
    "        # insertion itself\n",
    "        self.size += 1\n",
    "        to_add = ListNode(val)\n",
    "        to_add.prev = predecessor\n",
    "        to_add.next = successor\n",
    "        predecessor.next = to_add\n",
    "        successor.prev = to_add\n",
    "        \n",
    "\n",
    "    def deleteAtIndex(self, index: int) -> None:\n",
    "\n",
    "        # if the index is invalid, do nothing\n",
    "        if index < 0 or index >= self.size:\n",
    "            return\n",
    "        \n",
    "        # find predecessor and successor of the node to be deleted\n",
    "        if index < self.size - index:\n",
    "            predecessor = self.head\n",
    "            for _ in range(index):\n",
    "                predecessor = predecessor.next\n",
    "            successor = predecessor.next.next\n",
    "        else:\n",
    "            successor = self.tail\n",
    "            for _ in range(self.size - index - 1):\n",
    "                successor = successor.prev\n",
    "            predecessor = successor.prev.prev\n",
    "            \n",
    "        # delete pred.next \n",
    "        self.size -= 1\n",
    "        predecessor.next = successor\n",
    "        successor.prev = predecessor"
   ]
  }
 ],
 "metadata": {
  "kernelspec": {
   "display_name": "ML",
   "language": "python",
   "name": "python3"
  },
  "language_info": {
   "codemirror_mode": {
    "name": "ipython",
    "version": 3
   },
   "file_extension": ".py",
   "mimetype": "text/x-python",
   "name": "python",
   "nbconvert_exporter": "python",
   "pygments_lexer": "ipython3",
   "version": "3.11.9"
  },
  "orig_nbformat": 4
 },
 "nbformat": 4,
 "nbformat_minor": 2
}
