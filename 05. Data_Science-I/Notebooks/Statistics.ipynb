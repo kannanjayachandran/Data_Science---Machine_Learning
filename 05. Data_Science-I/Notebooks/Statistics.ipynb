{
 "cells": [
  {
   "cell_type": "markdown",
   "metadata": {},
   "source": [
    "<h1 align=\"center\" style=\"color: orange\"> Statistics </h1>"
   ]
  },
  {
   "cell_type": "code",
   "execution_count": 6,
   "metadata": {},
   "outputs": [],
   "source": [
    "import numpy as np\n",
    "from scipy import stats"
   ]
  },
  {
   "cell_type": "code",
   "execution_count": 4,
   "metadata": {},
   "outputs": [],
   "source": [
    "data = 8*np.random.randn(1000)+27"
   ]
  },
  {
   "cell_type": "markdown",
   "metadata": {},
   "source": [
    "## Summary statistics"
   ]
  },
  {
   "cell_type": "code",
   "execution_count": 5,
   "metadata": {},
   "outputs": [
    {
     "name": "stdout",
     "output_type": "stream",
     "text": [
      "Mean : 26.998\n",
      "Median : 26.865\n",
      "Variance : 60.696\n",
      "Variance : 7.791\n"
     ]
    }
   ],
   "source": [
    "# mean\n",
    "print(f'Mean : {np.mean(data):.3f}')\n",
    "\n",
    "# median\n",
    "print(f'Median : {np.median(data):.3f}')\n",
    "\n",
    "# variance\n",
    "print(f'Variance : {np.var(data):.3f}')\n",
    "\n",
    "# standard deviation\n",
    "print(f'Variance : {np.std(data):.3f}')"
   ]
  },
  {
   "cell_type": "code",
   "execution_count": null,
   "metadata": {},
   "outputs": [],
   "source": []
  }
 ],
 "metadata": {
  "kernelspec": {
   "display_name": "ML",
   "language": "python",
   "name": "python3"
  },
  "language_info": {
   "codemirror_mode": {
    "name": "ipython",
    "version": 3
   },
   "file_extension": ".py",
   "mimetype": "text/x-python",
   "name": "python",
   "nbconvert_exporter": "python",
   "pygments_lexer": "ipython3",
   "version": "3.11.5"
  }
 },
 "nbformat": 4,
 "nbformat_minor": 2
}
