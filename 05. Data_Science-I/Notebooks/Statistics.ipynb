{
 "cells": [
  {
   "cell_type": "markdown",
   "metadata": {},
   "source": [
    "<h1 align=\"center\" style=\"color: orange\"> Statistics </h1>"
   ]
  },
  {
   "cell_type": "code",
   "execution_count": 1,
   "metadata": {},
   "outputs": [],
   "source": [
    "import numpy as np"
   ]
  },
  {
   "cell_type": "code",
   "execution_count": 2,
   "metadata": {},
   "outputs": [],
   "source": [
    "rng = np.random.default_rng(763)"
   ]
  },
  {
   "cell_type": "markdown",
   "metadata": {},
   "source": [
    "## Summary statistics"
   ]
  },
  {
   "cell_type": "code",
   "execution_count": 4,
   "metadata": {},
   "outputs": [
    {
     "name": "stdout",
     "output_type": "stream",
     "text": [
      "Mean : 52.530\n",
      "Median : 56.500\n",
      "Variance : 804.589\n",
      "Std. Deviation : 28.365\n",
      "Co-eff. of Std. Deviation : 0.53998\n"
     ]
    }
   ],
   "source": [
    "a1 = rng.integers(1, 100, 100)\n",
    "\n",
    "# mean\n",
    "print(f'Mean : {np.mean(a1):.3f}')\n",
    "\n",
    "# median\n",
    "print(f'Median : {np.median(a1):.3f}')\n",
    "\n",
    "# variance\n",
    "print(f'Variance : {np.var(a1):.3f}')\n",
    "\n",
    "# standard deviation\n",
    "print(f'Std. Deviation : {np.std(a1):.3f}')\n",
    "\n",
    "# co-eff of standard deviation\n",
    "print(f'Co-eff. of Std. Deviation : {np.std(a1)/np.mean(a1):.5f}')"
   ]
  }
 ],
 "metadata": {
  "kernelspec": {
   "display_name": "ML",
   "language": "python",
   "name": "python3"
  },
  "language_info": {
   "codemirror_mode": {
    "name": "ipython",
    "version": 3
   },
   "file_extension": ".py",
   "mimetype": "text/x-python",
   "name": "python",
   "nbconvert_exporter": "python",
   "pygments_lexer": "ipython3",
   "version": "3.11.5"
  }
 },
 "nbformat": 4,
 "nbformat_minor": 2
}
