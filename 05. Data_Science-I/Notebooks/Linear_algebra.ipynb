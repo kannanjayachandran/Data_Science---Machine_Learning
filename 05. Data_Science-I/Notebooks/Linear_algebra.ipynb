{
 "cells": [
  {
   "attachments": {},
   "cell_type": "markdown",
   "metadata": {},
   "source": [
    "<h1 align=\"center\" style=\"color:orange;\"> Linear Algebra </h1>\n",
    "\n",
    "\n",
    "### Topics\n",
    "\n",
    "- Determinant of a matrix\n",
    "- Solving linear matrix equation, or system of linear scalar equations\n",
    "- Row and column vectors\n",
    "- Inner product of two vectors\n",
    "- Matrix multiplication"
   ]
  },
  {
   "cell_type": "code",
   "execution_count": 3,
   "metadata": {},
   "outputs": [],
   "source": [
    "import numpy as np"
   ]
  },
  {
   "cell_type": "code",
   "execution_count": 6,
   "metadata": {},
   "outputs": [
    {
     "name": "stdout",
     "output_type": "stream",
     "text": [
      "[[1 2 1]\n",
      " [0 3 5]\n",
      " [4 3 8]] \n",
      "Determinant of the matrix = 37.00\n"
     ]
    }
   ],
   "source": [
    "# determinant of a given matrix\n",
    "\n",
    "x = np.array([\n",
    "    [1, 2, 1],\n",
    "    [0, 3, 5], \n",
    "    [4, 3, 8]\n",
    "  ])\n",
    "\n",
    "det_x = np.linalg.det(x)\n",
    "\n",
    "print(f'{x} \\nDeterminant of the matrix = {det_x:.2f}')"
   ]
  },
  {
   "cell_type": "code",
   "execution_count": 25,
   "metadata": {},
   "outputs": [
    {
     "name": "stdout",
     "output_type": "stream",
     "text": [
      "Matrix A :\n",
      "[[ 4. -3.  1.]\n",
      " [ 2.  1.  3.]\n",
      " [-1.  2. -5.]]\n",
      "\n",
      "Array b :\n",
      "[-10.   0.  17.]\n"
     ]
    }
   ],
   "source": [
    "# Solve a linear matrix equation, or system of linear scalar equations.\n",
    "\n",
    "A = np.array([\n",
    "        [4, -3, 1],\n",
    "        [2, 1, 3],\n",
    "        [-1, 2, -5]\n",
    "    ], dtype=np.dtype(float))\n",
    "\n",
    "b = np.array([-10, 0, 17], dtype=np.dtype(float))\n",
    "\n",
    "print(f\"Matrix A :\\n{A}\\n\\nArray b :\\n{b}\")"
   ]
  },
  {
   "cell_type": "code",
   "execution_count": 13,
   "metadata": {},
   "outputs": [
    {
     "name": "stdout",
     "output_type": "stream",
     "text": [
      "A :(3, 3)\n",
      "B :(3,)\n",
      "Solution: [ 1.  4. -2.]\n"
     ]
    }
   ],
   "source": [
    "# checking the shape of the matrix\n",
    "print(f\"A :{np.shape(A)}\\nB :{np.shape(b)}\")\n",
    "\n",
    "# solution\n",
    "print(f'Solution: {np.linalg.solve(A, b)}')"
   ]
  },
  {
   "cell_type": "code",
   "execution_count": 14,
   "metadata": {},
   "outputs": [
    {
     "name": "stdout",
     "output_type": "stream",
     "text": [
      "[1 2 3 4 5]\n",
      "\n",
      "[[1]\n",
      " [2]\n",
      " [3]\n",
      " [4]\n",
      " [5]]\n"
     ]
    }
   ],
   "source": [
    "# Row vector and Column vector\n",
    "\n",
    "row_vec = np.array([1, 2, 3, 4, 5])\n",
    "col_vec = np.array([[1], [2], [3], [4], [5]])\n",
    "\n",
    "print(row_vec, col_vec, sep='\\n\\n')"
   ]
  },
  {
   "cell_type": "code",
   "execution_count": 24,
   "metadata": {},
   "outputs": [
    {
     "name": "stdout",
     "output_type": "stream",
     "text": [
      "Inner product : [[18]]\n"
     ]
    }
   ],
   "source": [
    "# inner product\n",
    "x = np.array([[1], [2], [3]])\n",
    "y = np.array([[-1], [2], [5]])\n",
    "\n",
    "print(f'Inner product : {np.dot(np.transpose(x), y)}')"
   ]
  },
  {
   "cell_type": "code",
   "execution_count": 22,
   "metadata": {},
   "outputs": [
    {
     "name": "stdout",
     "output_type": "stream",
     "text": [
      "Matrix 1 :\n",
      "[[ 1  2  3  4]\n",
      " [ 5  6  7  8]\n",
      " [ 9 10 11 12]]\n",
      "\n",
      "Matrix 2 :\n",
      "[[12 13 14]\n",
      " [15 16 17]\n",
      " [18 19 20]\n",
      " [21 22 23]]\n",
      "\n",
      "Matrix multiplication :\n",
      " [[180 190 200]\n",
      " [444 470 496]\n",
      " [708 750 792]]\n"
     ]
    }
   ],
   "source": [
    "# matrix multiplication\n",
    "\n",
    "mat1 = np.arange(1, 13).reshape(3, 4)\n",
    "mat2 = np.arange(12, 24).reshape(4, 3)\n",
    "\n",
    "print(f\"Matrix 1 :\\n{mat1}\\n\\nMatrix 2 :\\n{mat2}\")\n",
    "\n",
    "print(f\"\\nMatrix multiplication :\\n {mat1 @ mat2}\")"
   ]
  },
  {
   "cell_type": "markdown",
   "metadata": {},
   "source": [
    "**Matrix multiplication algorithm (Brute force approach)**\n",
    "\n",
    "``` python\n",
    "    for each row i in C:\n",
    "        for each col j in C:\n",
    "            for k in 1 ... n:\n",
    "                C[i][j] += A[i][k] * B[k][j]\n",
    "```\n",
    "\n",
    "**Time complexity of this algorithm is `O(` $N^{3}$ `)`**"
   ]
  },
  {
   "cell_type": "code",
   "execution_count": 28,
   "metadata": {},
   "outputs": [
    {
     "name": "stdout",
     "output_type": "stream",
     "text": [
      "Multiplication:\n",
      " [-23.  31. -75.]\n",
      "\n",
      "Matrix A:\n",
      " [[ 4. -3.  1.]\n",
      " [ 2.  1.  3.]\n",
      " [-1.  2. -5.]]\n",
      "\n",
      "Transpose of A :\n",
      " [[ 4.  2. -1.]\n",
      " [-3.  1.  2.]\n",
      " [ 1.  3. -5.]]\n"
     ]
    }
   ],
   "source": [
    "# dot product of two matrix\n",
    "print(f'Multiplication:\\n {A.dot(b)}')\n",
    "\n",
    "# Transpose\n",
    "print(f'\\nMatrix A:\\n {A}\\n')\n",
    "print(f'Transpose of A :\\n {np.transpose(A)}')"
   ]
  },
  {
   "cell_type": "code",
   "execution_count": 31,
   "metadata": {},
   "outputs": [
    {
     "name": "stdout",
     "output_type": "stream",
     "text": [
      "Original array: \n",
      " [[1 2 3]\n",
      " [4 5 6]\n",
      " [7 8 9]]\n",
      "\n",
      "Trace : 15\n"
     ]
    }
   ],
   "source": [
    "mat3 = np.arange(1, 10).reshape(3, 3)\n",
    "print(f'Original array: \\n {mat3}\\n')\n",
    "print(f'Trace : {mat3.trace()}')"
   ]
  },
  {
   "cell_type": "code",
   "execution_count": 32,
   "metadata": {},
   "outputs": [
    {
     "name": "stdout",
     "output_type": "stream",
     "text": [
      "Original Matrix: \n",
      " [[1 2 3]\n",
      " [4 5 6]\n",
      " [7 8 9]]\n",
      "\n",
      "Rank of the matrix is : 2\n"
     ]
    }
   ],
   "source": [
    "# rank of a matrix\n",
    "\n",
    "print(f'Original Matrix: \\n {mat3}\\n')\n",
    "print(f'Rank of the matrix is : {np.linalg.matrix_rank(mat3)}')"
   ]
  },
  {
   "cell_type": "code",
   "execution_count": 39,
   "metadata": {},
   "outputs": [
    {
     "name": "stdout",
     "output_type": "stream",
     "text": [
      "Original Matrix: \n",
      " [[1 2 3]\n",
      " [4 5 6]\n",
      " [7 8 9]]\n",
      "\n",
      "Determinant of the matrix is : 0\n",
      "\n",
      "Inverse of the matrix is : \n",
      " [[-4.50359963e+15  9.00719925e+15 -4.50359963e+15]\n",
      " [ 9.00719925e+15 -1.80143985e+16  9.00719925e+15]\n",
      " [-4.50359963e+15  9.00719925e+15 -4.50359963e+15]]\n"
     ]
    }
   ],
   "source": [
    "# inverse\n",
    "\n",
    "print(f'Original Matrix: \\n {mat3}\\n')\n",
    "\n",
    "print(f'Determinant of the matrix is : {np.linalg.det(mat3):.0f}')\n",
    "\n",
    "print(f'\\nInverse of the matrix is : \\n {np.linalg.inv(mat3)}')"
   ]
  },
  {
   "cell_type": "code",
   "execution_count": 42,
   "metadata": {},
   "outputs": [
    {
     "name": "stdout",
     "output_type": "stream",
     "text": [
      "Original Matrix: \n",
      " [[1 2 3]\n",
      " [4 5 6]\n",
      " [7 8 9]]\n",
      "\n",
      "Eigenvalue :\n",
      " [ 1.61168440e+01 -1.11684397e+00 -4.22209278e-16]\n",
      "\n",
      "Eigenvectors :\n",
      " [[-0.23197069 -0.78583024  0.40824829]\n",
      " [-0.52532209 -0.08675134 -0.81649658]\n",
      " [-0.8186735   0.61232756  0.40824829]]\n",
      "\n",
      "Trace of the vector: 15\n"
     ]
    }
   ],
   "source": [
    "# eigen value and eigen vectors\n",
    "\n",
    "print(f'Original Matrix: \\n {mat3}\\n')\n",
    "\n",
    "value, vector = np.linalg.eig(mat3)\n",
    "\n",
    "print(f'Eigenvalue :\\n {value}\\n')\n",
    "print(f'Eigenvectors :\\n {vector}')\n",
    "print(f'\\nTrace of the vector: {mat3.trace()}')"
   ]
  },
  {
   "cell_type": "markdown",
   "metadata": {},
   "source": [
    "<h1 align=\"center\" style=\"color:orange;\"> Combinatorics </h1>"
   ]
  },
  {
   "cell_type": "code",
   "execution_count": 43,
   "metadata": {},
   "outputs": [],
   "source": [
    "from itertools import permutations, combinations"
   ]
  },
  {
   "cell_type": "code",
   "execution_count": 48,
   "metadata": {},
   "outputs": [
    {
     "name": "stdout",
     "output_type": "stream",
     "text": [
      "permutations : [('Python', 'Biology', 'Mathematics'), ('Python', 'Biology', 'Physics'), ('Python', 'Mathematics', 'Biology'), ('Python', 'Mathematics', 'Physics'), ('Python', 'Physics', 'Biology'), ('Python', 'Physics', 'Mathematics'), ('Biology', 'Python', 'Mathematics'), ('Biology', 'Python', 'Physics'), ('Biology', 'Mathematics', 'Python'), ('Biology', 'Mathematics', 'Physics'), ('Biology', 'Physics', 'Python'), ('Biology', 'Physics', 'Mathematics'), ('Mathematics', 'Python', 'Biology'), ('Mathematics', 'Python', 'Physics'), ('Mathematics', 'Biology', 'Python'), ('Mathematics', 'Biology', 'Physics'), ('Mathematics', 'Physics', 'Python'), ('Mathematics', 'Physics', 'Biology'), ('Physics', 'Python', 'Biology'), ('Physics', 'Python', 'Mathematics'), ('Physics', 'Biology', 'Python'), ('Physics', 'Biology', 'Mathematics'), ('Physics', 'Mathematics', 'Python'), ('Physics', 'Mathematics', 'Biology')]\n",
      "\n",
      " Count : 24\n"
     ]
    }
   ],
   "source": [
    "# How many combinations of 2 subjects from the list\n",
    "\n",
    "subjects = ( 'Python', 'Biology', 'Mathematics', 'Physics' )\n",
    "arrangements = list(permutations(subjects, 3))\n",
    "print(f\"permutations : {arrangements}\\n\\n Count : {len(arrangements)}\")"
   ]
  },
  {
   "cell_type": "code",
   "execution_count": 49,
   "metadata": {},
   "outputs": [
    {
     "name": "stdout",
     "output_type": "stream",
     "text": [
      "combinations : [('Python', 'Biology', 'Mathematics'), ('Python', 'Biology', 'Physics'), ('Python', 'Mathematics', 'Physics'), ('Biology', 'Mathematics', 'Physics')]\n",
      "\n",
      "Count : 4\n"
     ]
    }
   ],
   "source": [
    "comb = list(combinations(subjects, 3))\n",
    "print(f'combinations : {comb}\\n\\nCount : {len(comb)}')"
   ]
  },
  {
   "cell_type": "code",
   "execution_count": 54,
   "metadata": {},
   "outputs": [
    {
     "name": "stdout",
     "output_type": "stream",
     "text": [
      "factorial of 10 : 3628800.0\n",
      "62990928000.000015\n"
     ]
    }
   ],
   "source": [
    "# factorial \n",
    "from scipy.special import factorial\n",
    "\n",
    "\n",
    "print(f'factorial of 10 : {factorial(10)}')\n",
    "n = 26\n",
    "k = 8\n",
    "print(factorial(n)/factorial(n-k))"
   ]
  }
 ],
 "metadata": {
  "kernelspec": {
   "display_name": "ML",
   "language": "python",
   "name": "python3"
  },
  "language_info": {
   "codemirror_mode": {
    "name": "ipython",
    "version": 3
   },
   "file_extension": ".py",
   "mimetype": "text/x-python",
   "name": "python",
   "nbconvert_exporter": "python",
   "pygments_lexer": "ipython3",
   "version": "3.11.5"
  },
  "orig_nbformat": 4
 },
 "nbformat": 4,
 "nbformat_minor": 2
}
