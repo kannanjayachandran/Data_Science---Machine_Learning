{
 "cells": [
  {
   "attachments": {},
   "cell_type": "markdown",
   "metadata": {},
   "source": [
    "<h1 align=\"center\" style=\"color:orange;\"> Linear Algebra </h1>"
   ]
  },
  {
   "cell_type": "code",
   "execution_count": 1,
   "metadata": {},
   "outputs": [],
   "source": [
    "# importing dependencies/libraries\n",
    "\n",
    "import numpy as np"
   ]
  },
  {
   "attachments": {},
   "cell_type": "markdown",
   "metadata": {},
   "source": [
    "<h2  style=\"color:orange;\">\n",
    "\n",
    "System of Linear Equations\n",
    "\n",
    "</h2>\n",
    "\n",
    "A system of linear equations is a collection of linear equations involving the same set of variables. For example, the following system of linear equations:\n",
    "\n",
    "$$\\begin{align} 2x + 3y &= 8 \\\\ 3x + 4y &= 9 \\end{align}$$ \n",
    "\n",
    "is a system of two equations in the variables $x$ and $y$.\n",
    "\n",
    "A solution to a system of linear equations is a set of values for the variables that satisfies all the equations simultaneously. For example, the values $x = 1$ and $y = 2$ is a solution to the system above.\n",
    "\n",
    "A system of linear equations can have either no solution, a unique solution or infinitely many solutions. For example, \n",
    "\n",
    "- The system of equations:\n",
    "\n",
    "$$\\begin{align} 2x + 3y &= 8 \\\\ 4x + 6y &= 9 \\end{align}$$\n",
    "\n",
    "has **no solution**. \n",
    "\n",
    "- The system of equations:\n",
    "\n",
    "$$\\begin{align} 2x + 3y &= 8 \\\\ 4x + 6y &= 16 \\end{align}$$\n",
    "\n",
    "has **infinitely many solutions**. \n",
    "\n",
    "- The system of equations:\n",
    "\n",
    "$$\\begin{align} 2x + 3y &= 8 \\\\ 4x + 6y &= 20 \\end{align}$$\n",
    "\n",
    "has a **unique solution**.\n",
    "\n",
    "<h2  style=\"color:orange;\">\n",
    "\n",
    "Matrix Representation of a System of Linear Equations\n",
    "\n",
    "</h2>\n",
    "\n",
    "A system of linear equations can be represented in the matrix form as follows:\n",
    "\n",
    "$$\\begin{bmatrix} 2 & 3 \\\\ 3 & 4 \\end{bmatrix} \\begin{bmatrix} x \\\\ y \\end{bmatrix} = \\begin{bmatrix} 8 \\\\ 9 \\end{bmatrix}$$\n",
    "\n",
    "where the matrix on the left is called the **coefficient matrix** and the matrix on the right is called the **augmented matrix**.\n",
    "\n",
    "\n",
    "### Questions\n",
    "1. Bob has a mixture of apples and oranges of the same size, which he split into two bags. The first bag contains 4 apples and 3 oranges and weighs 700g. The second bag contains 2 apples and 6 oranges and weighs 1000g. \n",
    "\n",
    "  Translate the following description into a system of linear equations.\n",
    "\n",
    "**Ans**: $4a + 3o = 700$ and $2a + 6o = 1000$\n",
    "\n",
    "2. Translate the following system of linear equations into the matrix form:\n",
    "\n",
    "$$5x+3y+5z=6\\\\7x+2y+8z=17\\\\4x+3z=8$$\n",
    "\n",
    "**Ans**: $ \\begin{bmatrix} 5 & 3 & 5 &\\\\ 7 & 2 & 8 \\\\ 0 & 4 & 3 \\end{bmatrix} \\hspace{1em} \\begin{bmatrix}  x\\\\y\\\\z \\end{bmatrix} \\hspace{1em}=\\hspace{1em} \\begin{bmatrix} 6 \\\\ 17 \\\\ 8\\end{bmatrix}$\n",
    "\n",
    "\n",
    "\n",
    "3. Compute the determinant of the following matrix.\n",
    "\n",
    "```py\n",
    "  X = [\n",
    "    [1, 2, 1],\n",
    "    [0, 3, 5], \n",
    "    [4, 3, 8]\n",
    "  ]\n",
    "```"
   ]
  },
  {
   "cell_type": "code",
   "execution_count": 2,
   "metadata": {},
   "outputs": [
    {
     "name": "stdout",
     "output_type": "stream",
     "text": [
      "Determinant of the matrix:\n",
      " [[1 2 1]\n",
      " [0 3 5]\n",
      " [4 3 8]] = 37.00\n"
     ]
    }
   ],
   "source": [
    "x = np.array([\n",
    "    [1, 2, 1],\n",
    "    [0, 3, 5], \n",
    "    [4, 3, 8]\n",
    "  ])\n",
    "\n",
    "det_x = np.linalg.det(x)\n",
    "\n",
    "print(f'Determinant of the matrix:\\n {x} = {det_x:.2f}')"
   ]
  },
  {
   "attachments": {},
   "cell_type": "markdown",
   "metadata": {},
   "source": [
    "<h2  style=\"color:orange;\">\n",
    "\n",
    "Determinant of a matrix\n",
    "\n",
    "</h2>\n",
    "\n",
    "Determinant of a matrix is a special value which tells us whether the matrix has an inverse or not. It is denoted by $$det(X) \\;or \\;|X|$$ It is a scalar value and helps in solving systems of linear equations.\n",
    "\n",
    "**Calculating the determinant of a 2x2 matrix** : $det(X) = ad-bc$ where; \n",
    "$$ X= \\begin{bmatrix} a & b \\\\ c & d\\end{bmatrix}$$\n",
    "\n",
    "> For a larger matrix we can find the determinant using a process called Co-factor expansion; which involves choosing a row or column and calculating the determinants of smaller matrices called cofactors. This process can be recursive, meaning you keep calculating determinants of smaller matrices until you reach a 2x2 matrix that you can solve using the formula above\n",
    "\n",
    "**Note**\n",
    "\n",
    "- All matrices does not have a determinant. Only square matrices have determinant. \n",
    "\n",
    "- If the determinant is zero, the matrix is said to be singular, and it does not have an inverse. \n",
    "\n",
    "we can use the following `numpy` function to calculate the determinant of a matrix.\n",
    "\n",
    "```py\n",
    "numpy.linalg.det() \n",
    "```\n",
    "\n",
    "\n",
    "Consider the following matrix\n",
    "\n",
    "$$\\begin{bmatrix}  a & b \\\\ c & d\\end{bmatrix}$$\n",
    "\n",
    "The given matrix is singular if $a * b * k$ = $c * d$\n",
    "\n",
    "or; $$a*k = c \\hspace{1em} and \\hspace{1em}b*k = d$$\n",
    "\n",
    "or; $$\\frac{c}{a}=\\frac{d}{b} = k$$\n",
    "\n",
    "$$ad = bc$$\n",
    "\n",
    "$$ad-bc = 0$$ \n",
    "\n",
    "This value of $ad-bc = 0$ is important, we call it the determinant of the matrix.\n"
   ]
  },
  {
   "attachments": {},
   "cell_type": "markdown",
   "metadata": {},
   "source": [
    "<h2  style=\"color:orange;\">\n",
    "\n",
    "Slope \n",
    "\n",
    "</h2>\n",
    "\n",
    "Slope is a measure of how steep a line is. It is defined as the change in the `y-coordinate` (vertical change) divided by the change in the `x-coordinate` (horizontal change) between any two points on the line. \n",
    "$$Slope = \\frac{rise}{run}$$\n",
    "\n",
    "**In simple terms it tells us how many units the line moves down for every unit we moves to the right**\n",
    "\n",
    "### Note\n",
    "\n",
    "- If a system of linear equations has a unique solution; then they are complete and non-singular.\n",
    "\n",
    "- If a system of linear equation has infinite solutions; it is redundant and singular.\n",
    "\n",
    "- if the system of linear equation has no solution; it is called Contradictory and singular.\n",
    "\n",
    "The constants in the system of equation are not important in determining whether the system is singular or not.\n",
    "\n"
   ]
  },
  {
   "attachments": {},
   "cell_type": "markdown",
   "metadata": {},
   "source": [
    "<h3  style=\"color:orange;\">\n",
    "\n",
    "Matrix row reduction or Gaussian elimination\n",
    "\n",
    "</h3>\n",
    "\n",
    "Matrix row reduction also known as Gaussian elimination is a method used to solve a system of linear equations. It involves transforming the augmented matrix into a matrix in `row echelon form` and then into `reduced row echelon form` using elementary row operations. In simple terms we are trying to transform the augmented matrix into a matrix that is easier to solve.\n",
    "\n",
    "**Row echelon form** is a matrix where all the elements below the main diagonal are zero. Generally, the main diagonal contains a bunch of ones followed by perhaps some zeros, it can be al ones or all zeros.\n",
    "\n",
    "$$\\begin{bmatrix}  1 & * & * & *\\\\ 0 & 1 & * & * \\\\ 0 & 0 & 0 & * \\\\ 0 & 0 & 0 & 0 \\end{bmatrix}$$\n",
    "\n",
    "**Row Operations**\n",
    "\n",
    "- Interchange two rows : $R_i \\leftrightarrow R_j$ \n",
    "\n",
    "Interchanging two rows of a matrix is equivalent to multiplying the matrix by a permutation matrix. It won't change the determinant of the matrix. If the original matrix was singular, the new matrix will also be singular. The determinant of the new matrix will be the same as the determinant of the original matrix but sign will change(as diagonal elements are interchanged).\n",
    "> A permutation matrix is a square matrix obtained from the identity matrix by permuting its rows.\n",
    "\n",
    "- Multiplying the a row by a non-zero scalar : $kR_i \\rightarrow R_i$\n",
    "\n",
    "This would also not change the determinant of the matrix, it would scale the determinant by a factor of $k$.\n",
    ">For example if $k = 2$ then the determinant would be scaled by a factor of 2.\n",
    "\n",
    "- Adding a row to another row : $R_i + R_j \\rightarrow R_i$\n",
    "\n",
    "This operation also preserves the determinant of the matrix.\n",
    "\n"
   ]
  },
  {
   "cell_type": "code",
   "execution_count": 4,
   "metadata": {},
   "outputs": [],
   "source": [
    "# matrix A\n",
    "A = np.array([\n",
    "        [4, -3, 1],\n",
    "        [2, 1, 3],\n",
    "        [-1, 2, -5]\n",
    "    ], dtype=np.dtype(float))\n",
    "\n",
    "# array b\n",
    "b = np.array([-10, 0, 17], dtype=np.dtype(float))"
   ]
  },
  {
   "cell_type": "code",
   "execution_count": 5,
   "metadata": {},
   "outputs": [
    {
     "name": "stdout",
     "output_type": "stream",
     "text": [
      "Shape of the matrix A is : (3, 3)\n",
      "Shape of the array b is : (3,)\n"
     ]
    }
   ],
   "source": [
    "# checking the shape of the matrix\n",
    "print(f'Shape of the matrix A is : {np.shape(A)}')\n",
    "print(f'Shape of the array b is : {np.shape(b)}')"
   ]
  },
  {
   "cell_type": "code",
   "execution_count": 6,
   "metadata": {},
   "outputs": [
    {
     "name": "stdout",
     "output_type": "stream",
     "text": [
      "Solution: [ 1.  4. -2.]\n"
     ]
    }
   ],
   "source": [
    "# solution to the system of equations represented as matrix\n",
    "print(f'Solution: {np.linalg.solve(A, b)}')"
   ]
  }
 ],
 "metadata": {
  "kernelspec": {
   "display_name": "ML",
   "language": "python",
   "name": "ml"
  },
  "language_info": {
   "codemirror_mode": {
    "name": "ipython",
    "version": 3
   },
   "file_extension": ".py",
   "mimetype": "text/x-python",
   "name": "python",
   "nbconvert_exporter": "python",
   "pygments_lexer": "ipython3",
   "version": "3.10.10"
  },
  "orig_nbformat": 4
 },
 "nbformat": 4,
 "nbformat_minor": 2
}
