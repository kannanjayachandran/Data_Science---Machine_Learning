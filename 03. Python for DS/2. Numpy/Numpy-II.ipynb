{
 "cells": [
  {
   "cell_type": "markdown",
   "metadata": {},
   "source": [
    "<div align=\"center\"> <h1> <font color=\"Orange\"> Numpy - II </font> </h1> </div>"
   ]
  },
  {
   "cell_type": "code",
   "execution_count": 1,
   "metadata": {},
   "outputs": [],
   "source": [
    "import numpy as np"
   ]
  },
  {
   "cell_type": "markdown",
   "metadata": {},
   "source": [
    "### Matrix Operations"
   ]
  },
  {
   "cell_type": "code",
   "execution_count": 8,
   "metadata": {},
   "outputs": [
    {
     "name": "stdout",
     "output_type": "stream",
     "text": [
      "Matrix : \n",
      "[[ 1  2  3  4]\n",
      " [ 5  6  7  8]\n",
      " [ 9 10 11 12]]\n",
      "\n",
      "Diagonal Matrix : \n",
      " [[1 0 0 0 0]\n",
      " [0 2 0 0 0]\n",
      " [0 0 3 0 0]\n",
      " [0 0 0 4 0]\n",
      " [0 0 0 0 5]]\n",
      "\n",
      "Diagonal elements are : [1 2 3 4 5]\n",
      "\n",
      "Identity matrix : \n",
      " [[1 0 0 0 0]\n",
      " [0 1 0 0 0]\n",
      " [0 0 1 0 0]\n",
      " [0 0 0 1 0]\n",
      " [0 0 0 0 1]]\n",
      "\n",
      "Identity matrix : \n",
      " [[1 0 0 0]\n",
      " [0 1 0 0]\n",
      " [0 0 1 0]]\n"
     ]
    }
   ],
   "source": [
    "# create a matrix of 3, 4\n",
    "a1 = np.arange(1, 13).reshape((3, 4))\n",
    "print(f'Matrix : \\n{a1}')\n",
    "\n",
    "# diagonal matrix\n",
    "diag_matrix = np.diag([1, 2, 3, 4, 5])\n",
    "print(\"\\nDiagonal Matrix : \\n\", diag_matrix)\n",
    "print(\"\\nDiagonal elements are :\", np.diag(diag_matrix))\n",
    "\n",
    "# identity matrix using np.identity() : only square identity matrix\n",
    "print(\"\\nIdentity matrix : \\n\", np.identity(5, dtype=int))\n",
    "\n",
    "# eye() : non square identity matrix\n",
    "print(\"\\nIdentity matrix : \\n\", np.eye(3, 4, dtype=int))"
   ]
  },
  {
   "cell_type": "code",
   "execution_count": 12,
   "metadata": {},
   "outputs": [
    {
     "name": "stdout",
     "output_type": "stream",
     "text": [
      "\n",
      "Dot product of two 1D arrays : 80\n",
      "\n",
      "Twice of a3 : [16 14 12 10  8]\n",
      "\n",
      "Multiplication : \n",
      "[[180 190 200]\n",
      " [444 470 496]\n",
      " [708 750 792]] \n",
      "== [[180 190 200]\n",
      " [444 470 496]\n",
      " [708 750 792]]\n"
     ]
    }
   ],
   "source": [
    "# Multiplication\n",
    "a2 = np.array((1, 2, 3, 4, 5))\n",
    "a3 = np.array((8, 7, 6, 5, 4))\n",
    "\n",
    "# multiplication (for 1D with 1D np.dot() is preferred)\n",
    "a4 = np.dot(a2, a3)\n",
    "print(f'\\nDot product of two 1D arrays : {a4}')\n",
    "\n",
    "# 1D with a scalar (* is preferred)\n",
    "print(f'\\nTwice of a3 : {a3 * 2}')\n",
    "\n",
    "# 2D with 2D (np.matmul() or @ is preferred)\n",
    "a5 = np.arange(1, 13).reshape((3, 4))\n",
    "a6 = np.arange(12, 24).reshape((4, 3))\n",
    "a7 = a5 @ a6\n",
    "a8 = np.matmul(a5, a6)\n",
    "print(f'\\nMultiplication : \\n{a7} \\n== {a8}')"
   ]
  },
  {
   "cell_type": "code",
   "execution_count": 26,
   "metadata": {},
   "outputs": [
    {
     "name": "stdout",
     "output_type": "stream",
     "text": [
      "True\n",
      "True\n",
      "False\n"
     ]
    }
   ],
   "source": [
    "# any()\n",
    "\n",
    "print(np.array([1, 2, 3, 4]).any())\n",
    "print(np.array([1, 0, 3, 0, 0]).any())\n",
    "print(np.array([0, 0, 0, 0, 0]).any())"
   ]
  },
  {
   "cell_type": "code",
   "execution_count": 28,
   "metadata": {},
   "outputs": [
    {
     "name": "stdout",
     "output_type": "stream",
     "text": [
      "(array([0, 1, 2], dtype=int64),)\n"
     ]
    }
   ],
   "source": [
    "# nonzero() : return the indices of elements that are non-zero\n",
    "\n",
    "print(np.array([1, 2, 3, 0]).nonzero())"
   ]
  },
  {
   "cell_type": "code",
   "execution_count": 32,
   "metadata": {},
   "outputs": [
    {
     "name": "stdout",
     "output_type": "stream",
     "text": [
      "[False  True False]\n"
     ]
    }
   ],
   "source": [
    "print(np.array([1, 2, 5]) < np.array([1, 3, 2]))"
   ]
  },
  {
   "cell_type": "code",
   "execution_count": 37,
   "metadata": {},
   "outputs": [
    {
     "name": "stdout",
     "output_type": "stream",
     "text": [
      "True\n",
      "True\n"
     ]
    }
   ],
   "source": [
    "# using conditionals with any())\n",
    "arr_first = np.array([5, 6, 3, 7, 9, 10])\n",
    "arr_second = np.array([3, 1, 8, 7, 5, 5])\n",
    "\n",
    "# check if there are any values in the first array such that it is smaller than the value at the same index in the second array.\n",
    "print(np.any(arr_first < arr_second))\n",
    "\n",
    "# any value at first array which is double of an element in the second index\n",
    "print(np.any(arr_first == 2*arr_second))"
   ]
  },
  {
   "cell_type": "code",
   "execution_count": 38,
   "metadata": {},
   "outputs": [
    {
     "data": {
      "text/plain": [
       "False"
      ]
     },
     "execution_count": 38,
     "metadata": {},
     "output_type": "execute_result"
    }
   ],
   "source": [
    "# all() checks for all the elements\n",
    "np.all(arr_first < arr_second)"
   ]
  },
  {
   "cell_type": "code",
   "execution_count": 39,
   "metadata": {},
   "outputs": [
    {
     "data": {
      "text/plain": [
       "False"
      ]
     },
     "execution_count": 39,
     "metadata": {},
     "output_type": "execute_result"
    }
   ],
   "source": [
    "np.all((arr_first <= arr_second) & (arr_second <= arr_first))"
   ]
  },
  {
   "cell_type": "markdown",
   "metadata": {},
   "source": [
    "**`Sorting`**"
   ]
  },
  {
   "cell_type": "code",
   "execution_count": 14,
   "metadata": {},
   "outputs": [
    {
     "name": "stdout",
     "output_type": "stream",
     "text": [
      "Array to sort:  [10  8  9 10  5  3  2  0  5  9]\n"
     ]
    }
   ],
   "source": [
    "arr_to_sort = np.random.randint(11, size=10)\n",
    "print(\"Array to sort: \", arr_to_sort)"
   ]
  },
  {
   "cell_type": "code",
   "execution_count": 28,
   "metadata": {},
   "outputs": [
    {
     "data": {
      "text/plain": [
       "array([ 0,  2,  3,  5,  5,  8,  9,  9, 10, 10])"
      ]
     },
     "execution_count": 28,
     "metadata": {},
     "output_type": "execute_result"
    }
   ],
   "source": [
    "np.sort(arr_to_sort)"
   ]
  },
  {
   "cell_type": "markdown",
   "metadata": {},
   "source": [
    "- Quick sort (default) : 1.9 µs ± 64.7 ns per loop (mean ± std. dev. of 7 runs, 100,000 loops each)\n",
    "- Merge sort : 1.97 µs ± 59.6 ns per loop (mean ± std. dev. of 7 runs, 1,000,000 loops each)\n",
    "- heap sort : 1.92 µs ± 76.7 ns per loop (mean ± std. dev. of 7 runs, 100,000 loops each)\n",
    "- Stable sort : 2.01 µs ± 29.2 ns per loop (mean ± std. dev. of 7 runs, 1,000,000 loops each)"
   ]
  },
  {
   "cell_type": "code",
   "execution_count": 31,
   "metadata": {},
   "outputs": [],
   "source": [
    "arr2D_to_sort = np.random.randint(11, size=(3, 4))"
   ]
  },
  {
   "cell_type": "code",
   "execution_count": 42,
   "metadata": {},
   "outputs": [
    {
     "name": "stdout",
     "output_type": "stream",
     "text": [
      "Original array:\n",
      " [[ 2  4  6  6]\n",
      " [10  7 10  9]\n",
      " [ 4  2  4  7]]\n"
     ]
    }
   ],
   "source": [
    "# default sorting is in the last dim; for a matrix it sorts each row { matrix : col wise -> dim0, row wise -> dim1 }\n",
    "print(\"Original array:\\n\", arr2D_to_sort)"
   ]
  },
  {
   "cell_type": "code",
   "execution_count": 45,
   "metadata": {},
   "outputs": [
    {
     "name": "stdout",
     "output_type": "stream",
     "text": [
      "[[ 2  2  4  6]\n",
      " [ 4  4  6  7]\n",
      " [10  7 10  9]]\n"
     ]
    },
    {
     "data": {
      "text/plain": [
       "array([[ 2,  4,  6,  6],\n",
       "       [ 7,  9, 10, 10],\n",
       "       [ 2,  4,  4,  7]])"
      ]
     },
     "execution_count": 45,
     "metadata": {},
     "output_type": "execute_result"
    }
   ],
   "source": [
    "print(np.sort(arr2D_to_sort, axis=0)) # col wise sort\n",
    "np.sort(arr2D_to_sort)  # row wise sort"
   ]
  },
  {
   "cell_type": "code",
   "execution_count": 48,
   "metadata": {},
   "outputs": [
    {
     "name": "stdout",
     "output_type": "stream",
     "text": [
      "9\n"
     ]
    },
    {
     "data": {
      "text/plain": [
       "4"
      ]
     },
     "execution_count": 48,
     "metadata": {},
     "output_type": "execute_result"
    }
   ],
   "source": [
    "# argmax : Returns the indices of the maximum values along an axis.\n",
    "arr23 = np.array([1, 3, 5, 7, 9])\n",
    "print(np.max(arr23))\n",
    "\n",
    "np.argmax(arr23)"
   ]
  },
  {
   "cell_type": "code",
   "execution_count": 3,
   "metadata": {},
   "outputs": [
    {
     "name": "stdout",
     "output_type": "stream",
     "text": [
      "[[ 3  1  4  4]\n",
      " [ 2  4  4  1]\n",
      " [10  9  0  1]]\n",
      "\n",
      "[[8 1]\n",
      " [0 4]\n",
      " [1 0]\n",
      " [5 6]]\n"
     ]
    },
    {
     "data": {
      "text/plain": [
       "array([[48, 31],\n",
       "       [25, 24],\n",
       "       [85, 52]])"
      ]
     },
     "execution_count": 3,
     "metadata": {},
     "output_type": "execute_result"
    }
   ],
   "source": [
    "# Matrix multiplication\n",
    "mat1 = np.random.randint(11, size=(3, 4))\n",
    "mat2 = np.random.randint(11, size=(4, 2))\n",
    "\n",
    "print(mat1, mat2, sep='\\n\\n')\n",
    "np.matmul(mat1, mat2)"
   ]
  },
  {
   "cell_type": "code",
   "execution_count": 52,
   "metadata": {},
   "outputs": [
    {
     "data": {
      "text/plain": [
       "array([[ 82,  66],\n",
       "       [152, 126],\n",
       "       [181, 132]])"
      ]
     },
     "execution_count": 52,
     "metadata": {},
     "output_type": "execute_result"
    }
   ],
   "source": [
    "mat1 @ mat2 # we can perform matrix multiplication using @ also."
   ]
  },
  {
   "cell_type": "code",
   "execution_count": 53,
   "metadata": {},
   "outputs": [
    {
     "data": {
      "text/plain": [
       "array([[ 82,  66],\n",
       "       [152, 126],\n",
       "       [181, 132]])"
      ]
     },
     "execution_count": 53,
     "metadata": {},
     "output_type": "execute_result"
    }
   ],
   "source": [
    "# mat mul using dot() method\n",
    "np.dot(mat1, mat2)"
   ]
  }
 ],
 "metadata": {
  "kernelspec": {
   "display_name": "ML",
   "language": "python",
   "name": "python3"
  },
  "language_info": {
   "codemirror_mode": {
    "name": "ipython",
    "version": 3
   },
   "file_extension": ".py",
   "mimetype": "text/x-python",
   "name": "python",
   "nbconvert_exporter": "python",
   "pygments_lexer": "ipython3",
   "version": "3.11.5"
  },
  "orig_nbformat": 4
 },
 "nbformat": 4,
 "nbformat_minor": 2
}
