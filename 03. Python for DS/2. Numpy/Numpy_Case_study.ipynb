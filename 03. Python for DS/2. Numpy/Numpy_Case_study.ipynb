{
 "cells": [
  {
   "cell_type": "markdown",
   "metadata": {},
   "source": [
    " <h1 align=\"center\"> <font color=\"lightgreen\"> Case study : Titanic data analysis using Numpy </font> </h1> \n",
    "\n",
    "> This is a dummy dataset and is not meant to be used for any other purpose other than learning.\n",
    "\n",
    "Here we are going to analyze the Titanic surviver dataset. It contains the following columns:\n",
    "\n",
    "> $\\color{lightgreen}number, passenger\\_id, survived, gender, ticket\\_class$\n",
    "\n",
    "> <picture>\n",
    ">   <source media=\"(prefers-color-scheme: light)\" srcset=\"https://raw.githubusercontent.com/Mqxx/GitHub-Markdown/main/blockquotes/badge/light-theme/info.svg\">\n",
    ">   <img alt=\"Info\" src=\"https://raw.githubusercontent.com/Mqxx/GitHub-Markdown/main/blockquotes/badge/dark-theme/info.svg\">\n",
    "> </picture><br>\n",
    ">\n",
    "> Although this is a case study; we won't be focusing heavily on the dataset, but more on the effectiveness of `numpy` in handling data and performing analysis. "
   ]
  },
  {
   "cell_type": "code",
   "execution_count": 1,
   "metadata": {},
   "outputs": [],
   "source": [
    "import numpy as np"
   ]
  },
  {
   "cell_type": "code",
   "execution_count": 2,
   "metadata": {},
   "outputs": [],
   "source": [
    "# import data\n",
    "data = np.loadtxt('./data.txt')"
   ]
  },
  {
   "cell_type": "code",
   "execution_count": null,
   "metadata": {},
   "outputs": [],
   "source": [
    "print(\"Dimension: \", data.ndim)\n",
    "print(\"Shape: \", data.shape)"
   ]
  },
  {
   "cell_type": "code",
   "execution_count": 3,
   "metadata": {},
   "outputs": [],
   "source": [
    "passengerId, survived, gender, ticket_class = data.T[1:]"
   ]
  },
  {
   "cell_type": "code",
   "execution_count": 10,
   "metadata": {},
   "outputs": [
    {
     "name": "stdout",
     "output_type": "stream",
     "text": [
      "float64 float64 float64 float64\n"
     ]
    }
   ],
   "source": [
    "print(passengerId.dtype, survived.dtype, gender.dtype, ticket_class.dtype)"
   ]
  },
  {
   "cell_type": "code",
   "execution_count": 15,
   "metadata": {},
   "outputs": [
    {
     "name": "stdout",
     "output_type": "stream",
     "text": [
      "144 people survived out of 400\n"
     ]
    }
   ],
   "source": [
    "# Analysis\n",
    "# 1. How many of the total survived\n",
    "print(f'{len(survived[survived == 1])} people survived out of {len(survived)}')"
   ]
  },
  {
   "cell_type": "code",
   "execution_count": 65,
   "metadata": {},
   "outputs": [
    {
     "name": "stdout",
     "output_type": "stream",
     "text": [
      "Male: 231, Female: 169\n"
     ]
    }
   ],
   "source": [
    "# 2. gender distribution {0: Male, 1: Female}\n",
    "m, f= np.unique(gender, return_counts=True)[1::][0]\n",
    "print(f'Male: {m}, Female: {f}')"
   ]
  },
  {
   "cell_type": "code",
   "execution_count": 42,
   "metadata": {},
   "outputs": [
    {
     "name": "stdout",
     "output_type": "stream",
     "text": [
      "survived Male : 85, Females survived: 59\n"
     ]
    }
   ],
   "source": [
    "# 3 Survival gender distribution\n",
    "maleCount = np.sum((survived == 1) & (gender == 0))\n",
    "femaleCount = np.sum((survived == 1) & (gender == 1))\n",
    "\n",
    "print(f\"survived Male : {maleCount}, Females survived: {femaleCount}\")"
   ]
  },
  {
   "cell_type": "code",
   "execution_count": 35,
   "metadata": {},
   "outputs": [
    {
     "data": {
      "text/plain": [
       "(array([1., 2., 3.]), array([ 41, 153, 206], dtype=int64))"
      ]
     },
     "execution_count": 35,
     "metadata": {},
     "output_type": "execute_result"
    }
   ],
   "source": [
    "# 4 Number of people in each class\n",
    "np.unique(ticket_class, return_counts=True)"
   ]
  },
  {
   "cell_type": "code",
   "execution_count": 36,
   "metadata": {},
   "outputs": [
    {
     "name": "stdout",
     "output_type": "stream",
     "text": [
      "People survived from first class: 9\n",
      "People survived from second class: 53\n",
      "People survived from third class: 82\n",
      "\n"
     ]
    }
   ],
   "source": [
    "# 5 People survived with respect to class\n",
    "firstClass = np.sum((survived == 1) & (ticket_class == 1))\n",
    "secondClass = np.sum((survived == 1) & (ticket_class == 2))\n",
    "thirdClass = np.sum((survived == 1) & (ticket_class == 3))\n",
    "\n",
    "print(f\"People survived from first class: {firstClass}\\nPeople survived from second class: {secondClass}\\nPeople survived from third class: {thirdClass}\\n\")\n"
   ]
  },
  {
   "cell_type": "code",
   "execution_count": 66,
   "metadata": {},
   "outputs": [
    {
     "data": {
      "text/plain": [
       "36.79653679653679"
      ]
     },
     "execution_count": 66,
     "metadata": {},
     "output_type": "execute_result"
    }
   ],
   "source": [
    "# percentage of men survived\n",
    "(maleCount/m)*100"
   ]
  },
  {
   "cell_type": "code",
   "execution_count": 67,
   "metadata": {},
   "outputs": [
    {
     "data": {
      "text/plain": [
       "34.9112426035503"
      ]
     },
     "execution_count": 67,
     "metadata": {},
     "output_type": "execute_result"
    }
   ],
   "source": [
    "(femaleCount/f)*100"
   ]
  }
 ],
 "metadata": {
  "kernelspec": {
   "display_name": "ML",
   "language": "python",
   "name": "python3"
  },
  "language_info": {
   "codemirror_mode": {
    "name": "ipython",
    "version": 3
   },
   "file_extension": ".py",
   "mimetype": "text/x-python",
   "name": "python",
   "nbconvert_exporter": "python",
   "pygments_lexer": "ipython3",
   "version": "3.11.4"
  },
  "orig_nbformat": 4
 },
 "nbformat": 4,
 "nbformat_minor": 2
}
