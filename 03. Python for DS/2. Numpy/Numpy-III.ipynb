{
 "cells": [
  {
   "cell_type": "markdown",
   "metadata": {},
   "source": [
    "<div align=\"center\"> <h1> <font color=\"Orange\"> Numpy - I </font> </h1> </div>\n",
    "\n",
    "**$\\color{orange}\\text{1. Random arrays}$**\n",
    "\n",
    "There are many builtin ways to create random arrays in numpy.\n",
    "\n",
    "**$\\color{orange}\\text{2. Views and Copy}$**\n",
    "\n",
    "For efficient memory management, NumPy uses views instead of copies whenever possible. This is a very important distinction between NumPy and Python sequences. In contrast, Python always creates new lists when objects are assigned to a new variable name, while numpy shares the same memory space for all variables that refer to the same array.\n",
    "\n",
    "**$\\color{orange}\\text{3. Broadcasting}$**\n",
    "\n",
    "Broadcasting is one of the key features of NumPy that makes it so powerful and easy to use. The term broadcasting describes how numpy treats arrays with different shapes during arithmetic operations. Subject to certain constraints, the smaller array is “broadcast” across the larger array so that they have compatible shapes.\n",
    "\n",
    "**$\\color{orange}\\text{4. Stacking}$**\n",
    "\n",
    "Stacking is a convenient way to combine multiple arrays into a single array. It is important to note that the dimensions of the input arrays must match, otherwise a ValueError will be raised."
   ]
  },
  {
   "cell_type": "code",
   "execution_count": 1,
   "metadata": {},
   "outputs": [],
   "source": [
    "import numpy as np"
   ]
  },
  {
   "cell_type": "code",
   "execution_count": 3,
   "metadata": {},
   "outputs": [
    {
     "data": {
      "text/plain": [
       "array([[0.01037763, 0.47325743, 0.87049912],\n",
       "       [0.26857958, 0.1685893 , 0.32641222]])"
      ]
     },
     "execution_count": 3,
     "metadata": {},
     "output_type": "execute_result"
    }
   ],
   "source": [
    "# Creating random arrays\n",
    "a = np.random.rand(2, 3)    # random number in uniform distribution\n",
    "a"
   ]
  },
  {
   "cell_type": "code",
   "execution_count": 4,
   "metadata": {},
   "outputs": [
    {
     "data": {
      "text/plain": [
       "array([[ 1.16629937,  0.52855748,  0.26604544,  0.86143184],\n",
       "       [ 0.18098251,  0.46296947, -1.06156923,  0.78169102],\n",
       "       [ 0.19745402, -0.40826583, -0.22570988, -0.97177169]])"
      ]
     },
     "execution_count": 4,
     "metadata": {},
     "output_type": "execute_result"
    }
   ],
   "source": [
    "b = np.random.randn(3, 4)   # random numbers in standard normal distribution or Gaussian distribution\n",
    "b"
   ]
  },
  {
   "cell_type": "code",
   "execution_count": 5,
   "metadata": {},
   "outputs": [
    {
     "name": "stdout",
     "output_type": "stream",
     "text": [
      "Array1 is \n",
      "[[ 0  1  2  3]\n",
      " [ 4  5  6  7]\n",
      " [ 8  9 10 11]]\n",
      "Array2 is \n",
      "[[ 0  1  2  3]\n",
      " [ 8  9 10 11]]\n",
      "\n",
      "True\n"
     ]
    }
   ],
   "source": [
    "c = np.arange(12).reshape(3, 4)\n",
    "d = c[::2]\n",
    "\n",
    "print(f'Array1 is \\n{c}\\nArray2 is \\n{d}\\n')\n",
    "print(np.shares_memory(c,d))"
   ]
  },
  {
   "cell_type": "code",
   "execution_count": 6,
   "metadata": {},
   "outputs": [
    {
     "name": "stdout",
     "output_type": "stream",
     "text": [
      "Array: \n",
      " [0 1 2 3 4 5]\n",
      "\n",
      "Sin array: \n",
      " [ 0.          0.84147098  0.90929743  0.14112001 -0.7568025  -0.95892427]\n",
      "\n",
      "Log Array: \n",
      " [0.         0.69314718 1.09861229 1.38629436 1.60943791]\n",
      "\n",
      "Exponent Array: \n",
      " [  1.           2.71828183   7.3890561   20.08553692  54.59815003\n",
      " 148.4131591 ]\n"
     ]
    }
   ],
   "source": [
    "# Transcendental functions\n",
    "e = np.arange(6)\n",
    "print('Array: \\n', e)\n",
    "\n",
    "print('\\nSin array: \\n', np.sin(e))\n",
    "print('\\nLog Array: \\n', np.log(e[1:]))\n",
    "print('\\nExponent Array: \\n', np.exp(e))"
   ]
  },
  {
   "cell_type": "code",
   "execution_count": 8,
   "metadata": {},
   "outputs": [
    {
     "name": "stdout",
     "output_type": "stream",
     "text": [
      "True\n",
      "False\n"
     ]
    }
   ],
   "source": [
    "# checking whether an array is a view or original\n",
    "arr  = np.array([1, 2, 3, 4, 5])\n",
    "arr2 = arr\n",
    "arr3 = arr[1:4]\n",
    "print(arr2.base is None) \n",
    "print(arr3.base is None) "
   ]
  },
  {
   "cell_type": "code",
   "execution_count": 2,
   "metadata": {},
   "outputs": [
    {
     "data": {
      "text/plain": [
       "array([(1, 2., 3.), (7, 8., 9.)],\n",
       "      dtype=[('f0', '<i8'), ('f1', '<f4'), ('f2', '<f8')])"
      ]
     },
     "execution_count": 2,
     "metadata": {},
     "output_type": "execute_result"
    }
   ],
   "source": [
    "# structured arrays\n",
    "x = np.array([(1, 2, 3), (4, 5, 6)], dtype='i8, f4, f8')\n",
    "x[1] = (7, 8, 9)\n",
    "x"
   ]
  },
  {
   "cell_type": "code",
   "execution_count": 14,
   "metadata": {},
   "outputs": [
    {
     "name": "stdout",
     "output_type": "stream",
     "text": [
      "Tensor of 3X4X5 : \n",
      "[[[ 7  3  9  2  5]\n",
      "  [ 7  7 10  6 10]\n",
      "  [ 3  5 11  3  2]\n",
      "  [ 9 11  5 11 11]]\n",
      "\n",
      " [[ 7 10  6  8 10]\n",
      "  [ 7  3  7 10 11]\n",
      "  [ 4  7  7  4  3]\n",
      "  [ 5  2  6  3  6]]\n",
      "\n",
      " [[ 2  1  1  8 10]\n",
      "  [10  5  4  3  3]\n",
      "  [12  4  5 12 10]\n",
      "  [11  4  4 11  4]]]\n"
     ]
    }
   ],
   "source": [
    "# Create a tensor (3D - 3X4X5)\n",
    "array0 = np.random.randint(1, 13, size=(3, 4, 5))\n",
    "print(f'Tensor of 3X4X5 : \\n{array0}')\n",
    "\n",
    "array1 = np.random.randint(1, 13, size=(3, 4))\n",
    "# array1 = np.array(list(map(int, (np.random.randn(12)*10)))).reshape(3, 4) # ugly way\n",
    "array2 = np.random.randint(1, 13, size=(4, 4))"
   ]
  },
  {
   "cell_type": "code",
   "execution_count": 26,
   "metadata": {},
   "outputs": [
    {
     "name": "stdout",
     "output_type": "stream",
     "text": [
      "New array : \n",
      "[[ 6  6  4  9]\n",
      " [11  2  1  6]\n",
      " [ 9  1  6  4]\n",
      " [ 4  1  1  7]\n",
      " [ 2  7  1  4]\n",
      " [ 3  5  7  4]\n",
      " [ 1 10  6  9]]\n",
      " Shape :(7, 4), Size : 28, Dimensions : 2\n"
     ]
    }
   ],
   "source": [
    "# vertical staking\n",
    "array3 = np.vstack((array1, array2))\n",
    "print(f'New array : \\n{array3}\\n Shape :{array3.shape}, Size : {array3.size}, Dimensions : {array3.ndim}')"
   ]
  },
  {
   "cell_type": "code",
   "execution_count": 28,
   "metadata": {},
   "outputs": [
    {
     "name": "stdout",
     "output_type": "stream",
     "text": [
      "New array : \n",
      "[[ 3  1 10 11  8  4  9  2]\n",
      " [12  6  8 11  5  9  8  9]\n",
      " [10  2 12  5 11  3  1  8]\n",
      " [ 3  9  8 10  1  3 12  9]]\n",
      " Shape :(4, 8), Size : 32, Dimensions : 2\n"
     ]
    }
   ],
   "source": [
    "# horizontal stacking\n",
    "array4 = np.random.randint(1, 13, size=(4, 3))\n",
    "array5 = np.random.randint(1, 13, size=(4, 5))\n",
    "\n",
    "array6 = np.hstack((array4, array5))\n",
    "print(f'New array : \\n{array6}\\n Shape :{array6.shape}, Size : {array6.size}, Dimensions : {array6.ndim}')"
   ]
  },
  {
   "cell_type": "code",
   "execution_count": 2,
   "metadata": {},
   "outputs": [
    {
     "data": {
      "text/plain": [
       "array([[[148, 246, 152],\n",
       "        [106, 146,  66],\n",
       "        [ 52,   5,  56],\n",
       "        [239,  23, 147],\n",
       "        [  0, 225, 190],\n",
       "        [238,  48, 255]],\n",
       "\n",
       "       [[ 62, 228, 166],\n",
       "        [100, 141,   5],\n",
       "        [ 33, 103, 252],\n",
       "        [139,  91,  97],\n",
       "        [176, 151, 209],\n",
       "        [ 34,  54,  29]],\n",
       "\n",
       "       [[204, 174, 220],\n",
       "        [ 10,  20, 167],\n",
       "        [144, 106, 226],\n",
       "        [121, 248,  46],\n",
       "        [ 52,  27, 235],\n",
       "        [ 57, 223, 194]],\n",
       "\n",
       "       [[194, 133, 171],\n",
       "        [166,  92, 211],\n",
       "        [ 56,   2, 240],\n",
       "        [250,  13, 145],\n",
       "        [ 34, 115, 124],\n",
       "        [ 42,  22, 188]],\n",
       "\n",
       "       [[160,  47, 114],\n",
       "        [144, 170, 167],\n",
       "        [ 58,  58, 107],\n",
       "        [ 50, 100, 194],\n",
       "        [190, 168, 212],\n",
       "        [ 97,   6,  66]],\n",
       "\n",
       "       [[ 26,  73, 234],\n",
       "        [ 59, 197, 240],\n",
       "        [151, 187,  25],\n",
       "        [233, 127,  72],\n",
       "        [ 70, 164,  57],\n",
       "        [235,   6,  40]],\n",
       "\n",
       "       [[235, 110, 219],\n",
       "        [178, 162,  17],\n",
       "        [ 23,  93,   5],\n",
       "        [ 20,  31, 100],\n",
       "        [193,  38,  84],\n",
       "        [ 89, 134,  30]],\n",
       "\n",
       "       [[ 48, 143, 175],\n",
       "        [245, 139, 171],\n",
       "        [118, 187, 253],\n",
       "        [246, 213,  50],\n",
       "        [116, 117, 142],\n",
       "        [165, 109, 109]],\n",
       "\n",
       "       [[179, 138,  75],\n",
       "        [ 32,  34,   5],\n",
       "        [210,  99, 143],\n",
       "        [225,  21, 176],\n",
       "        [198,   0,  99],\n",
       "        [102, 233,  14]],\n",
       "\n",
       "       [[152, 229, 220],\n",
       "        [189, 160, 121],\n",
       "        [ 22,  66,  98],\n",
       "        [153, 158,  75],\n",
       "        [203,  96, 155],\n",
       "        [ 70, 171,  45]]])"
      ]
     },
     "execution_count": 2,
     "metadata": {},
     "output_type": "execute_result"
    }
   ],
   "source": [
    "# a simple image tensor\n",
    "\n",
    "img_tensor = np.random.randint(0, 256, size=(10, 6, 3))\n",
    "img_tensor\n",
    "\n",
    "# curious\n",
    "# img_tensor = np.random.randint(0, 256, size=(160, 120, 3))\n",
    "# cv2.imshow('Image', scaled_tensor)\n",
    "# cv2.imwrite('generated_image.png', scaled_tensor)\n",
    "# cv2.waitKey(0)\n",
    "# cv2.destroyAllWindows()"
   ]
  },
  {
   "cell_type": "code",
   "execution_count": 4,
   "metadata": {},
   "outputs": [
    {
     "name": "stdout",
     "output_type": "stream",
     "text": [
      "Shape : (10, 12, 3), Dimension : 3\n"
     ]
    }
   ],
   "source": [
    "another_img_tensor = np.random.randint(256, size=(10, 6, 3))\n",
    "\n",
    "combined_img_tensor = np.hstack((img_tensor, another_img_tensor))\n",
    "\n",
    "print(f'Shape : {combined_img_tensor.shape}, Dimension : {combined_img_tensor.ndim}')"
   ]
  }
 ],
 "metadata": {
  "kernelspec": {
   "display_name": "ML",
   "language": "python",
   "name": "python3"
  },
  "language_info": {
   "codemirror_mode": {
    "name": "ipython",
    "version": 3
   },
   "file_extension": ".py",
   "mimetype": "text/x-python",
   "name": "python",
   "nbconvert_exporter": "python",
   "pygments_lexer": "ipython3",
   "version": "3.11.5"
  },
  "orig_nbformat": 4
 },
 "nbformat": 4,
 "nbformat_minor": 2
}
