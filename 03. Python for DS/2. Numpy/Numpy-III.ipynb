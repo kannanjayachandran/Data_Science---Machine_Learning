{
 "cells": [
  {
   "cell_type": "markdown",
   "metadata": {},
   "source": [
    "<div align=\"center\"> <h1> <font color=\"Orange\"> Numpy - I </font> </h1> </div>\n",
    "\n",
    "**$\\color{orange}\\text{1. Random arrays}$**\n",
    "\n",
    "There are many builtin ways to create random arrays in numpy.\n",
    "\n",
    "**$\\color{orange}\\text{2. Views and Copy}$**\n",
    "\n",
    "For efficient memory management, NumPy uses views instead of copies whenever possible. This is a very important distinction between NumPy and Python sequences. In contrast, Python always creates new lists when objects are assigned to a new variable name, while numpy shares the same memory space for all variables that refer to the same array.\n",
    "\n",
    "**$\\color{orange}\\text{3. Broadcasting}$**\n",
    "\n",
    "Broadcasting is one of the key features of NumPy that makes it so powerful and easy to use. The term broadcasting describes how numpy treats arrays with different shapes during arithmetic operations. Subject to certain constraints, the smaller array is “broadcast” across the larger array so that they have compatible shapes."
   ]
  },
  {
   "cell_type": "code",
   "execution_count": 1,
   "metadata": {},
   "outputs": [],
   "source": [
    "import numpy as np"
   ]
  },
  {
   "cell_type": "code",
   "execution_count": 3,
   "metadata": {},
   "outputs": [
    {
     "data": {
      "text/plain": [
       "array([[0.01037763, 0.47325743, 0.87049912],\n",
       "       [0.26857958, 0.1685893 , 0.32641222]])"
      ]
     },
     "execution_count": 3,
     "metadata": {},
     "output_type": "execute_result"
    }
   ],
   "source": [
    "# Creating random arrays\n",
    "a = np.random.rand(2, 3)    # random number in uniform distribution\n",
    "a"
   ]
  },
  {
   "cell_type": "code",
   "execution_count": 4,
   "metadata": {},
   "outputs": [
    {
     "data": {
      "text/plain": [
       "array([[ 1.16629937,  0.52855748,  0.26604544,  0.86143184],\n",
       "       [ 0.18098251,  0.46296947, -1.06156923,  0.78169102],\n",
       "       [ 0.19745402, -0.40826583, -0.22570988, -0.97177169]])"
      ]
     },
     "execution_count": 4,
     "metadata": {},
     "output_type": "execute_result"
    }
   ],
   "source": [
    "b = np.random.randn(3, 4)   # random numbers in standard normal distribution or Gaussian distribution\n",
    "b"
   ]
  },
  {
   "cell_type": "code",
   "execution_count": 5,
   "metadata": {},
   "outputs": [
    {
     "name": "stdout",
     "output_type": "stream",
     "text": [
      "Array1 is \n",
      "[[ 0  1  2  3]\n",
      " [ 4  5  6  7]\n",
      " [ 8  9 10 11]]\n",
      "Array2 is \n",
      "[[ 0  1  2  3]\n",
      " [ 8  9 10 11]]\n",
      "\n",
      "True\n"
     ]
    }
   ],
   "source": [
    "c = np.arange(12).reshape(3, 4)\n",
    "d = c[::2]\n",
    "\n",
    "print(f'Array1 is \\n{c}\\nArray2 is \\n{d}\\n')\n",
    "print(np.shares_memory(c,d))"
   ]
  },
  {
   "cell_type": "code",
   "execution_count": 6,
   "metadata": {},
   "outputs": [
    {
     "name": "stdout",
     "output_type": "stream",
     "text": [
      "Array: \n",
      " [0 1 2 3 4 5]\n",
      "\n",
      "Sin array: \n",
      " [ 0.          0.84147098  0.90929743  0.14112001 -0.7568025  -0.95892427]\n",
      "\n",
      "Log Array: \n",
      " [0.         0.69314718 1.09861229 1.38629436 1.60943791]\n",
      "\n",
      "Exponent Array: \n",
      " [  1.           2.71828183   7.3890561   20.08553692  54.59815003\n",
      " 148.4131591 ]\n"
     ]
    }
   ],
   "source": [
    "# Transcendental functions\n",
    "e = np.arange(6)\n",
    "print('Array: \\n', e)\n",
    "\n",
    "print('\\nSin array: \\n', np.sin(e))\n",
    "print('\\nLog Array: \\n', np.log(e[1:]))\n",
    "print('\\nExponent Array: \\n', np.exp(e))"
   ]
  },
  {
   "cell_type": "code",
   "execution_count": 8,
   "metadata": {},
   "outputs": [
    {
     "name": "stdout",
     "output_type": "stream",
     "text": [
      "True\n",
      "False\n"
     ]
    }
   ],
   "source": [
    "# checking whether an array is a view or original\n",
    "arr  = np.array([1, 2, 3, 4, 5])\n",
    "arr2 = arr\n",
    "arr3 = arr[1:4]\n",
    "print(arr2.base is None) \n",
    "print(arr3.base is None) "
   ]
  },
  {
   "cell_type": "code",
   "execution_count": 9,
   "metadata": {},
   "outputs": [
    {
     "data": {
      "text/plain": [
       "array([(1, 2., 3.), (7, 8., 9.)],\n",
       "      dtype=[('f0', '<i8'), ('f1', '<f4'), ('f2', '<f8')])"
      ]
     },
     "execution_count": 9,
     "metadata": {},
     "output_type": "execute_result"
    }
   ],
   "source": [
    "# structured arrays\n",
    "\n",
    "x = np.array([(1, 2, 3), (4, 5, 6)], dtype='i8, f4, f8')\n",
    "x[1] = (7, 8, 9)\n",
    "x"
   ]
  }
 ],
 "metadata": {
  "kernelspec": {
   "display_name": "ML",
   "language": "python",
   "name": "python3"
  },
  "language_info": {
   "codemirror_mode": {
    "name": "ipython",
    "version": 3
   },
   "file_extension": ".py",
   "mimetype": "text/x-python",
   "name": "python",
   "nbconvert_exporter": "python",
   "pygments_lexer": "ipython3",
   "version": "3.11.5"
  },
  "orig_nbformat": 4
 },
 "nbformat": 4,
 "nbformat_minor": 2
}
