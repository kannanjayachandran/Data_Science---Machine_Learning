{
 "cells": [
  {
   "attachments": {},
   "cell_type": "markdown",
   "metadata": {},
   "source": [
    "# <span style=\"color:#FEC260\">Generators</span>\n",
    "\n",
    "They are special kind of functions which generate value over time. It can pause and resume functions."
   ]
  },
  {
   "cell_type": "code",
   "execution_count": 10,
   "metadata": {},
   "outputs": [
    {
     "name": "stdout",
     "output_type": "stream",
     "text": [
      "0\n",
      "1\n",
      "2\n",
      "3\n",
      "4\n",
      "5\n",
      "6\n",
      "7\n",
      "8\n",
      "9\n",
      "0 1 2 "
     ]
    }
   ],
   "source": [
    "def my_generator_fn(num):\n",
    "    for i in range(num):\n",
    "        yield i\n",
    "\n",
    "for item in my_generator_fn(10):\n",
    "    print(item)\n",
    "\n",
    "myG = my_generator_fn(20)\n",
    "print(next(myG), end=' ')\n",
    "print(next(myG), end=' ')\n",
    "print(next(myG), end=' ')"
   ]
  },
  {
   "cell_type": "code",
   "execution_count": 18,
   "metadata": {},
   "outputs": [
    {
     "name": "stdout",
     "output_type": "stream",
     "text": [
      "0\n",
      "1\n",
      "1\n",
      "2\n",
      "3\n",
      "5\n",
      "8\n",
      "13\n",
      "21\n",
      "34\n"
     ]
    }
   ],
   "source": [
    "#  fib sequence using generator\n",
    "\n",
    "def fib(num: int):\n",
    "    first, second = 0, 1\n",
    "    for _ in range(num):\n",
    "        yield first\n",
    "        first, second = second, first+second\n",
    "    \n",
    "for item in fib(10):\n",
    "    print(item)"
   ]
  }
 ],
 "metadata": {
  "kernelspec": {
   "display_name": "base",
   "language": "python",
   "name": "python3"
  },
  "language_info": {
   "codemirror_mode": {
    "name": "ipython",
    "version": 3
   },
   "file_extension": ".py",
   "mimetype": "text/x-python",
   "name": "python",
   "nbconvert_exporter": "python",
   "pygments_lexer": "ipython3",
   "version": "3.9.16"
  },
  "orig_nbformat": 4
 },
 "nbformat": 4,
 "nbformat_minor": 2
}
