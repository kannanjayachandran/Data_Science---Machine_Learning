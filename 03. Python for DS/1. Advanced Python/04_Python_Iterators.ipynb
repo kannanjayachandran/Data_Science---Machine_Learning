{
 "cells": [
  {
   "cell_type": "markdown",
   "metadata": {},
   "source": [
    "# <span style=\"color:#FEC260\">Iterators</span>\n",
    "\n",
    "> [Tutorial](https://www.youtube.com/watch?v=jTYiNjvnHZY)\n",
    "\n",
    "On a higher level an Iterator is an object that can be iterated upon. An object which will return data, one element at a time { looped over }. Python iterator object must implement two special methods, `__iter__()` and `__next__()`, collectively called the iterator protocol.\n",
    "\n",
    "An object is called iterable if we can get an iterator from it. Most built-in containers in Python like: list, tuple, string etc. are iterables. But they itself are not iterators.\n"
   ]
  },
  {
   "cell_type": "code",
   "execution_count": 7,
   "metadata": {},
   "outputs": [
    {
     "name": "stdout",
     "output_type": "stream",
     "text": [
      "<class 'list'> is an iterable\n",
      "<class 'str'> is an iterable\n",
      "<class 'list_iterator'> is an Iterator\n"
     ]
    }
   ],
   "source": [
    "lis = [1, 2, 3]\n",
    "string = \"Hello World\"\n",
    "i_lis = iter(lis) # same as lis.__iter__()\n",
    "\n",
    "check = [lis, string, i_lis]\n",
    "for x in check:\n",
    "    dir_lis = [y for y in dir(x)]\n",
    "    if \"__iter__\" in dir_lis and \"__next__\" in dir_lis:\n",
    "        print(f'{type(x)} is an Iterator')\n",
    "    elif \"__iter__\" in dir_lis:\n",
    "        print(f'{type(x)} is an iterable')"
   ]
  },
  {
   "cell_type": "code",
   "execution_count": null,
   "metadata": {},
   "outputs": [],
   "source": []
  },
  {
   "cell_type": "code",
   "execution_count": null,
   "metadata": {},
   "outputs": [],
   "source": []
  },
  {
   "cell_type": "code",
   "execution_count": null,
   "metadata": {},
   "outputs": [],
   "source": []
  },
  {
   "cell_type": "code",
   "execution_count": null,
   "metadata": {},
   "outputs": [],
   "source": []
  },
  {
   "cell_type": "code",
   "execution_count": null,
   "metadata": {},
   "outputs": [],
   "source": []
  }
 ],
 "metadata": {
  "kernelspec": {
   "display_name": "ML",
   "language": "python",
   "name": "python3"
  },
  "language_info": {
   "codemirror_mode": {
    "name": "ipython",
    "version": 3
   },
   "file_extension": ".py",
   "mimetype": "text/x-python",
   "name": "python",
   "nbconvert_exporter": "python",
   "pygments_lexer": "ipython3",
   "version": "3.11.5"
  },
  "orig_nbformat": 4
 },
 "nbformat": 4,
 "nbformat_minor": 2
}
