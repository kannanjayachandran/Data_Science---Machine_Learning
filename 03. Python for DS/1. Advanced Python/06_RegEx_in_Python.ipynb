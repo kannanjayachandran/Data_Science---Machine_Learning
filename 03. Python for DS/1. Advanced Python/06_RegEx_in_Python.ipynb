{
 "cells": [
  {
   "cell_type": "markdown",
   "metadata": {},
   "source": [
    "# <span style=\"color:#FEC260\">Regular Expressions in Python</span>"
   ]
  },
  {
   "cell_type": "code",
   "execution_count": 1,
   "metadata": {},
   "outputs": [],
   "source": [
    "import re"
   ]
  },
  {
   "cell_type": "code",
   "execution_count": 2,
   "metadata": {},
   "outputs": [],
   "source": [
    "text_to_search = '''\n",
    "abcdefghijklmnopqurtuvwxyz\n",
    "ABCDEFGHIJKLMNOPQRSTUVWXYZ\n",
    "1234567890\n",
    "\n",
    "Ha HaHa Ha Hii Haa\n",
    "\n",
    "MetaCharacters :\n",
    ". ^ $ * + ? { } [ ] \\ | ( )\n",
    "\n",
    "Google.com\n",
    "\n",
    "123-456-789\n",
    "123.456.789\n",
    "123*555*1234\n",
    "\n",
    "877-500-1234\n",
    "980-555-1234\n",
    "930-234-3455\n",
    "\n",
    "Mr. Oliver\n",
    "Mr Smith\n",
    "Ms Peter\n",
    "Mrs. parker\n",
    "Mr. Galactus\n",
    "Mrs. U\n",
    "'''\n",
    "\n",
    "sentence = \"This is a sample sentence to use for regex matching\""
   ]
  },
  {
   "cell_type": "code",
   "execution_count": null,
   "metadata": {},
   "outputs": [],
   "source": [
    "pattern = re.compile(r'abcd')\n",
    "\n",
    "hits = pattern.finditer(text_to_search)\n",
    "for hit in hits:\n",
    "    print(hit) \n",
    "\n",
    "# span shows the beginning and the end of the matches"
   ]
  },
  {
   "cell_type": "code",
   "execution_count": null,
   "metadata": {},
   "outputs": [],
   "source": [
    "# we need to escape meta characters as they hold different meanings in regex\n",
    "p2 = re.compile(r'\\.')\n",
    "m1 = p2.finditer(text_to_search)\n",
    "\n",
    "for x in m1:\n",
    "    print(x)\n",
    "\n",
    "# typical use cases are URLs\n",
    "p3 = re.compile(r'Google\\.com')\n",
    "m2 = p3.finditer(text_to_search)\n",
    "\n",
    "for x in m2:\n",
    "    print(x)"
   ]
  },
  {
   "cell_type": "markdown",
   "metadata": {},
   "source": [
    "### Regular expression syntax\n",
    "\n",
    "* `.` - any character except newline\n",
    "* `\\d` - digit (0-9)\n",
    "* `\\D` - not a digit\n",
    "* `\\w` - word character (a-z, A-Z, 0-9, _)\n",
    "* `\\W` - not a word character\n",
    "* `\\s` - whitespace (space, tab, newline)\n",
    "* `\\S` - not whitespace\n",
    "\n",
    "**Anchors**\n",
    "* `\\b` - word boundary\n",
    "* `\\B` - not a word boundary\n",
    "* `^` - beginning of a string\n",
    "* `$` - end of a string\n",
    "\n",
    "**Character Classes**\n",
    "* `[]` - matches characters in brackets\n",
    "* `[^ ]` - matches characters NOT in brackets\n",
    "* `|` - either or\n",
    "* `()` - group\n",
    "* `[1-4]` - range of numbers (minimum, maximum)\n",
    "\n",
    "**Quantifiers**\n",
    "* `*` - 0 or more\n",
    "* `+` - 1 or more\n",
    "* `?` - 0 or 1\n",
    "* `{3}` - exact number\n",
    "* `{3,4}` - range of numbers (minimum, maximum)\n",
    "\n",
    "\n"
   ]
  },
  {
   "cell_type": "code",
   "execution_count": null,
   "metadata": {},
   "outputs": [],
   "source": [
    "# matching phone numbers\n",
    "ph_num = re.compile(r'[89][78]\\d[-.]')\n",
    "\n",
    "valid_numbers = ph_num.finditer(text_to_search)\n",
    "\n",
    "for num in valid_numbers:\n",
    "    print(num)"
   ]
  },
  {
   "cell_type": "code",
   "execution_count": 8,
   "metadata": {},
   "outputs": [
    {
     "name": "stdout",
     "output_type": "stream",
     "text": [
      "<re.Match object; span=(0, 1), match='\\n'>\n",
      "<re.Match object; span=(27, 28), match='\\n'>\n",
      "<re.Match object; span=(54, 55), match='\\n'>\n",
      "<re.Match object; span=(65, 66), match='\\n'>\n",
      "<re.Match object; span=(66, 67), match='\\n'>\n",
      "<re.Match object; span=(69, 70), match=' '>\n",
      "<re.Match object; span=(74, 75), match=' '>\n",
      "<re.Match object; span=(77, 78), match=' '>\n",
      "<re.Match object; span=(81, 82), match=' '>\n",
      "<re.Match object; span=(85, 86), match='\\n'>\n",
      "<re.Match object; span=(86, 87), match='\\n'>\n",
      "<re.Match object; span=(101, 102), match=' '>\n",
      "<re.Match object; span=(102, 103), match=':'>\n",
      "<re.Match object; span=(103, 104), match='\\n'>\n",
      "<re.Match object; span=(104, 105), match='.'>\n",
      "<re.Match object; span=(105, 106), match=' '>\n",
      "<re.Match object; span=(106, 107), match='^'>\n",
      "<re.Match object; span=(107, 108), match=' '>\n",
      "<re.Match object; span=(108, 109), match='$'>\n",
      "<re.Match object; span=(109, 110), match=' '>\n",
      "<re.Match object; span=(110, 111), match='*'>\n",
      "<re.Match object; span=(111, 112), match=' '>\n",
      "<re.Match object; span=(112, 113), match='+'>\n",
      "<re.Match object; span=(113, 114), match=' '>\n",
      "<re.Match object; span=(114, 115), match='?'>\n",
      "<re.Match object; span=(115, 116), match=' '>\n",
      "<re.Match object; span=(116, 117), match='{'>\n",
      "<re.Match object; span=(117, 118), match=' '>\n",
      "<re.Match object; span=(118, 119), match='}'>\n",
      "<re.Match object; span=(119, 120), match=' '>\n",
      "<re.Match object; span=(120, 121), match='['>\n",
      "<re.Match object; span=(121, 122), match=' '>\n",
      "<re.Match object; span=(122, 123), match=']'>\n",
      "<re.Match object; span=(123, 124), match=' '>\n",
      "<re.Match object; span=(124, 125), match='\\\\'>\n",
      "<re.Match object; span=(125, 126), match=' '>\n",
      "<re.Match object; span=(126, 127), match='|'>\n",
      "<re.Match object; span=(127, 128), match=' '>\n",
      "<re.Match object; span=(128, 129), match='('>\n",
      "<re.Match object; span=(129, 130), match=' '>\n",
      "<re.Match object; span=(130, 131), match=')'>\n",
      "<re.Match object; span=(131, 132), match='\\n'>\n",
      "<re.Match object; span=(132, 133), match='\\n'>\n",
      "<re.Match object; span=(139, 140), match='.'>\n",
      "<re.Match object; span=(143, 144), match='\\n'>\n",
      "<re.Match object; span=(144, 145), match='\\n'>\n",
      "<re.Match object; span=(148, 149), match='-'>\n",
      "<re.Match object; span=(152, 153), match='-'>\n",
      "<re.Match object; span=(156, 157), match='\\n'>\n",
      "<re.Match object; span=(160, 161), match='.'>\n",
      "<re.Match object; span=(164, 165), match='.'>\n",
      "<re.Match object; span=(168, 169), match='\\n'>\n",
      "<re.Match object; span=(172, 173), match='*'>\n",
      "<re.Match object; span=(176, 177), match='*'>\n",
      "<re.Match object; span=(181, 182), match='\\n'>\n",
      "<re.Match object; span=(182, 183), match='\\n'>\n",
      "<re.Match object; span=(186, 187), match='-'>\n",
      "<re.Match object; span=(190, 191), match='-'>\n",
      "<re.Match object; span=(195, 196), match='\\n'>\n",
      "<re.Match object; span=(199, 200), match='-'>\n",
      "<re.Match object; span=(203, 204), match='-'>\n",
      "<re.Match object; span=(208, 209), match='\\n'>\n",
      "<re.Match object; span=(212, 213), match='-'>\n",
      "<re.Match object; span=(216, 217), match='-'>\n",
      "<re.Match object; span=(221, 222), match='\\n'>\n",
      "<re.Match object; span=(222, 223), match='\\n'>\n",
      "<re.Match object; span=(225, 226), match='.'>\n",
      "<re.Match object; span=(226, 227), match=' '>\n",
      "<re.Match object; span=(233, 234), match='\\n'>\n",
      "<re.Match object; span=(236, 237), match=' '>\n",
      "<re.Match object; span=(242, 243), match='\\n'>\n",
      "<re.Match object; span=(245, 246), match=' '>\n",
      "<re.Match object; span=(251, 252), match='\\n'>\n",
      "<re.Match object; span=(255, 256), match='.'>\n",
      "<re.Match object; span=(256, 257), match=' '>\n",
      "<re.Match object; span=(263, 264), match='\\n'>\n",
      "<re.Match object; span=(266, 267), match='.'>\n",
      "<re.Match object; span=(267, 268), match=' '>\n",
      "<re.Match object; span=(276, 277), match='\\n'>\n",
      "<re.Match object; span=(280, 281), match='.'>\n",
      "<re.Match object; span=(281, 282), match=' '>\n",
      "<re.Match object; span=(283, 284), match='\\n'>\n"
     ]
    }
   ],
   "source": [
    "# finding all the occurrences without upper case letters\n",
    "p5 = re.compile(r'[^a-zA-Z\\d]')\n",
    "\n",
    "no_upper = p5.finditer(text_to_search)\n",
    "\n",
    "for x in no_upper:\n",
    "    print(x)"
   ]
  },
  {
   "cell_type": "code",
   "execution_count": 14,
   "metadata": {},
   "outputs": [
    {
     "name": "stdout",
     "output_type": "stream",
     "text": [
      "<re.Match object; span=(5, 8), match='bun'>\n"
     ]
    }
   ],
   "source": [
    "string2 = \"\"\"\n",
    "pun\n",
    "bun\n",
    "one\n",
    "won\n",
    "\"\"\"\n",
    "\n",
    "p6 = re.compile(r'[^p]un')\n",
    "\n",
    "something_weird = p6.finditer(string2)\n",
    "\n",
    "for weird in something_weird:\n",
    "    print(weird)"
   ]
  },
  {
   "cell_type": "code",
   "execution_count": 17,
   "metadata": {},
   "outputs": [
    {
     "name": "stdout",
     "output_type": "stream",
     "text": [
      "<re.Match object; span=(169, 181), match='123*555*1234'>\n",
      "<re.Match object; span=(183, 195), match='877-500-1234'>\n",
      "<re.Match object; span=(196, 208), match='980-555-1234'>\n",
      "<re.Match object; span=(209, 221), match='930-234-3455'>\n"
     ]
    }
   ],
   "source": [
    "# using quantifiers\n",
    "ph_num = re.compile(r'\\d{3}.\\d{3}.\\d{4}')\n",
    "\n",
    "valid_numbers = ph_num.finditer(text_to_search)\n",
    "\n",
    "for num in valid_numbers:\n",
    "    print(num)"
   ]
  },
  {
   "cell_type": "code",
   "execution_count": 6,
   "metadata": {},
   "outputs": [
    {
     "name": "stdout",
     "output_type": "stream",
     "text": [
      "<re.Match object; span=(223, 233), match='Mr. Oliver'>\n",
      "<re.Match object; span=(234, 242), match='Mr Smith'>\n",
      "<re.Match object; span=(243, 251), match='Ms Peter'>\n",
      "<re.Match object; span=(264, 276), match='Mr. Galactus'>\n",
      "<re.Match object; span=(277, 283), match='Mrs. U'>\n"
     ]
    }
   ],
   "source": [
    "# finding all with the `MR.` prefix\n",
    "pattern = re.compile(r'(Mr|Mrs|Ms)\\.?\\s[A-Z]\\w*')\n",
    "\n",
    "result = pattern.finditer(text_to_search)\n",
    "\n",
    "for r in result:\n",
    "    print(r)"
   ]
  },
  {
   "cell_type": "markdown",
   "metadata": {},
   "source": [
    "**Questions**\n",
    "\n",
    "1. **Replace substrings in a string** - Assume that a mailing list contains names that sometimes include a title (Mr., Mrs., Miss, or Ms.) along with a first and last name. Suppose you don't want to include the titles when you generate envelope labels from the list. Write a program that uses a regular expression to remove the titles from names. The program should ask the user to enter a name in the format described previously and then display the corresponding name without the title.\n",
    "\n",
    "2. **Identify duplicated words** - Accidentally duplicating words is a common error that writers make. Use a regular expression to identify duplicated words in a string. For example, if the string is \"`This is is a test string`\", then the program should print out the word is."
   ]
  },
  {
   "cell_type": "markdown",
   "metadata": {},
   "source": [
    "- Let us build a simple e-mail validator"
   ]
  },
  {
   "cell_type": "code",
   "execution_count": null,
   "metadata": {},
   "outputs": [],
   "source": [
    "pattern = re.compile(r\"^[a-zA-Z0-9_.+-]+@[a-zA-Z0-9-]+\\.[a-zA-Z0-9-.]+$\")\n",
    "email = \"a@a.a\"\n",
    "\n",
    "validator = pattern.search(email)\n",
    "\n",
    "if validator:\n",
    "    print(\"success\")\n",
    "else:\n",
    "    print(\"Enter a valid email..\")"
   ]
  }
 ],
 "metadata": {
  "kernelspec": {
   "display_name": "ML",
   "language": "python",
   "name": "python3"
  },
  "language_info": {
   "codemirror_mode": {
    "name": "ipython",
    "version": 3
   },
   "file_extension": ".py",
   "mimetype": "text/x-python",
   "name": "python",
   "nbconvert_exporter": "python",
   "pygments_lexer": "ipython3",
   "version": "3.11.5"
  },
  "orig_nbformat": 4
 },
 "nbformat": 4,
 "nbformat_minor": 2
}
