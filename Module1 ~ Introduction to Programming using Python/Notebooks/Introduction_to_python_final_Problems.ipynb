{
 "cells": [
  {
   "attachments": {},
   "cell_type": "markdown",
   "metadata": {},
   "source": [
    "### **<span style=\"color:#FEC260\">Module 1 Questions</span>**"
   ]
  },
  {
   "attachments": {},
   "cell_type": "markdown",
   "metadata": {},
   "source": [
    "**1** **<span style=\"color:#FEC260\">Check palindrome</span>**\n",
    "\n",
    "- Given a string A consisting of lowercase characters. Check if characters of the given string can be rearranged to form a palindrome. Return 1 if it is possible to rearrange the characters of the string A such that it becomes a palindrome else return 0.\n"
   ]
  },
  {
   "cell_type": "code",
   "execution_count": null,
   "metadata": {},
   "outputs": [],
   "source": [
    "def solution(word):\n",
    "\n",
    "    # making a frequency map\n",
    "    freqMap = {}\n",
    "    \n",
    "    for char in word:\n",
    "        if char in freqMap:\n",
    "            freqMap[char] += 1\n",
    "        else:\n",
    "            freqMap[char] = 1\n",
    "\n",
    "    # counting the odd frequencies\n",
    "    odd_freq = 0\n",
    "\n",
    "    for i in freqMap.values():\n",
    "        if i % 2 == 1:\n",
    "            odd_freq += 1\n",
    "    \n",
    "    # checking if palindrome or not\n",
    "    if odd_freq <= 1:\n",
    "        return 1\n",
    "    else:\n",
    "        return 0\n",
    "    \n",
    "# Time : O(n)\n",
    "# Space : O(n)"
   ]
  },
  {
   "cell_type": "code",
   "execution_count": 3,
   "metadata": {},
   "outputs": [
    {
     "name": "stdout",
     "output_type": "stream",
     "text": [
      " aabbcdd\n"
     ]
    },
    {
     "data": {
      "text/plain": [
       "1"
      ]
     },
     "execution_count": 3,
     "metadata": {},
     "output_type": "execute_result"
    }
   ],
   "source": [
    "word  = input().lower()\n",
    "\n",
    "solution(word)"
   ]
  },
  {
   "attachments": {},
   "cell_type": "markdown",
   "metadata": {},
   "source": [
    "**We can solve this problem in $O(n)$ time and $O(1)$ space complexity using <span style=\"color:#FEC260\">bitwise operators</span>.**\n",
    "\n",
    "- The algorithm is;\n",
    "\n",
    ">For each character in the string, we find the ordinal value of the character to set the corresponding bit in a mask. \n",
    "If a character is encountered again, it is unset by using the XOR operator with the same bit value. \n",
    "In the end, the mask should have no more than one bit set if the string can form a palindrome.\n",
    "\n",
    ">The function returns True if either the mask is 0 (all bits are unset) or if there is only one bit set (which means that all the other bits have been paired and only one character remains which can be in the middle of the palindrome). If neither of these conditions are met, the function returns False, indicating that the string cannot form a palindrome."
   ]
  },
  {
   "cell_type": "code",
   "execution_count": 4,
   "metadata": {},
   "outputs": [],
   "source": [
    "def isPalindrome(s: str)->bool:  \n",
    "    \n",
    "    mask = 0    \n",
    "    for char in s:\n",
    "        mask ^= 1 << ord(char)  \n",
    "        \n",
    "    return mask == 0 or mask & (mask-1) == 0"
   ]
  },
  {
   "cell_type": "code",
   "execution_count": 6,
   "metadata": {},
   "outputs": [
    {
     "name": "stdout",
     "output_type": "stream",
     "text": [
      " aabbcdddg\n"
     ]
    },
    {
     "data": {
      "text/plain": [
       "False"
      ]
     },
     "execution_count": 6,
     "metadata": {},
     "output_type": "execute_result"
    }
   ],
   "source": [
    "word  = input().lower()\n",
    "\n",
    "isPalindrome(word)"
   ]
  },
  {
   "attachments": {},
   "cell_type": "markdown",
   "metadata": {},
   "source": [
    "**2** <span style=\"color:#FEC260\">Write a program to find the **GCD** of two numbers using the **Euclidean algorithm</span>**.\n",
    "\n",
    "Time complexity: O(log(min(a,b)))"
   ]
  },
  {
   "cell_type": "code",
   "execution_count": 7,
   "metadata": {},
   "outputs": [],
   "source": [
    "def gcd(a, b):\n",
    "    \n",
    "    while b:\n",
    "        a, b = b, a % b\n",
    "        \n",
    "    return a"
   ]
  },
  {
   "cell_type": "code",
   "execution_count": 8,
   "metadata": {},
   "outputs": [
    {
     "name": "stdout",
     "output_type": "stream",
     "text": [
      "Enter the first number:  60\n",
      "Enter the second number:  48\n"
     ]
    },
    {
     "data": {
      "text/plain": [
       "12"
      ]
     },
     "execution_count": 8,
     "metadata": {},
     "output_type": "execute_result"
    }
   ],
   "source": [
    "a = int(input(\"Enter the first number: \"))\n",
    "b = int(input(\"Enter the second number: \"))\n",
    "\n",
    "gcd(a, b)"
   ]
  },
  {
   "attachments": {},
   "cell_type": "markdown",
   "metadata": {},
   "source": [
    "**3** **<span style=\"color:#FEC260\">Trailing zeros in factorial of a number</span>** \n",
    "- Given an integer A return the number of trailing zeros in A!, the solution should have logarithmic time complexity. A can be as big as 10^5. \n",
    "\n",
    "Time complexity of the given solution is **O(log n)** to the **base 5**"
   ]
  },
  {
   "cell_type": "code",
   "execution_count": 15,
   "metadata": {},
   "outputs": [],
   "source": [
    "def trailing(n):\n",
    "\n",
    "    result = 0\n",
    "    deno = 5\n",
    "\n",
    "    value = n // deno\n",
    "\n",
    "    while value >= 1:\n",
    "        result += value\n",
    "        deno *= 5\n",
    "\n",
    "        value = n // deno\n",
    "    \n",
    "    return result"
   ]
  },
  {
   "cell_type": "code",
   "execution_count": 16,
   "metadata": {},
   "outputs": [
    {
     "name": "stdout",
     "output_type": "stream",
     "text": [
      "Enter n:  345\n"
     ]
    },
    {
     "data": {
      "text/plain": [
       "84"
      ]
     },
     "execution_count": 16,
     "metadata": {},
     "output_type": "execute_result"
    }
   ],
   "source": [
    "n = int(input(\"Enter n: \"))\n",
    "trailing(n)"
   ]
  },
  {
   "attachments": {},
   "cell_type": "markdown",
   "metadata": {},
   "source": [
    "**4** **<span style=\"color:#FEC260\">Two Sum problem</span>**\n",
    "- Given an array of integers, find two numbers such that they add up to a specific target number.\n",
    "\n",
    ">The function twoSum should return indices of the two numbers such that they add up to the target, where index1 < index2. Please note that your returned answers (both index1 and index2 ) are not zero-based. Put both these numbers in order in an array and return the array from your function. Note that, if no pair exists, return empty list.\n",
    "\n",
    ">If multiple solutions exist, output the one where index2 is minimum. If there are multiple solutions with the minimum index2, choose the one with minimum index1 out of them.\n",
    "\n",
    "Input: [2, 7, 11, 15], target=9 Output: index1 = 1, index2 = 2\n",
    "\n",
    "**Time complexity : O(n)**"
   ]
  },
  {
   "cell_type": "code",
   "execution_count": 20,
   "metadata": {},
   "outputs": [],
   "source": [
    "def twoSum(A, B):\n",
    "\n",
    "    dic = {}\n",
    "\n",
    "    for i in range(len(A)):\n",
    "\n",
    "        req  = B - A[i]\n",
    "\n",
    "        if req in dic: \n",
    "            return  dic[req]+1, i+1\n",
    "        if A[i] not in dic:\n",
    "            dic[A[i]] = i\n",
    "    \n",
    "    return []"
   ]
  },
  {
   "cell_type": "code",
   "execution_count": 21,
   "metadata": {},
   "outputs": [
    {
     "data": {
      "text/plain": [
       "(1, 4)"
      ]
     },
     "execution_count": 21,
     "metadata": {},
     "output_type": "execute_result"
    }
   ],
   "source": [
    "A = [2, 2 ,7, 11, 13, 12]\n",
    "B = 13\n",
    "\n",
    "twoSum(A, B)"
   ]
  },
  {
   "cell_type": "code",
   "execution_count": 26,
   "metadata": {},
   "outputs": [],
   "source": [
    "def twoSum2(arr: list, target: int)->list:\n",
    "    hash_table = {}\n",
    "    for i, num in enumerate(arr):\n",
    "        if target - num in hash_table:\n",
    "            return hash_table[target-num], i\n",
    "        if num not in hash_table:\n",
    "            hash_table[num] = i\n",
    "    return []"
   ]
  },
  {
   "cell_type": "code",
   "execution_count": 27,
   "metadata": {},
   "outputs": [
    {
     "data": {
      "text/plain": [
       "(0, 3)"
      ]
     },
     "execution_count": 27,
     "metadata": {},
     "output_type": "execute_result"
    }
   ],
   "source": [
    "twoSum2([2, 2 ,7, 11, 13, 12], 13)"
   ]
  },
  {
   "attachments": {},
   "cell_type": "markdown",
   "metadata": {},
   "source": [
    "**5** **<span style=\"color:#FEC260\">Maximum absolute difference</span>**\n",
    "\n",
    "You are given an array of N integers, A1, A2 ,…, AN. Return maximum value of f(i, j) for all 1 ≤ i, j ≤ N.\n",
    "\n",
    "f(i, j) is defined as |A[i] - A[j]| + |i - j|, where |x| denotes absolute value of x.\n",
    "\n",
    "For example,\n",
    "\n",
    "A=[1, 3, -1]\n",
    "\n",
    "f(1, 1) = f(2, 2) = f(3, 3) = 0\n",
    "f(1, 2) = f(2, 1) = |1 - 3| + |1 - 2| = 3\n",
    "f(1, 3) = f(3, 1) = |1 - (-1)| + |1 - 3| = 4\n",
    "f(2, 3) = f(3, 2) = |3 - (-1)| + |2 - 3| = 5\n",
    "\n",
    "So, we return 5.\n",
    "\n",
    "**Time complexity O(n)**"
   ]
  },
  {
   "cell_type": "code",
   "execution_count": 3,
   "metadata": {},
   "outputs": [],
   "source": [
    "import math\n",
    "\n",
    "def max_Ab_Diff(A):\n",
    "\n",
    "    a = -math.inf\n",
    "    b = math.inf\n",
    "    c = -math.inf\n",
    "    d = math.inf\n",
    "\n",
    "    for i in range(len(A)):\n",
    "        idx  = A[i]\n",
    "\n",
    "        a = max(a, idx+i)\n",
    "        b = min(b, idx+i)\n",
    "\n",
    "        c = max(c, idx-i)\n",
    "        d = min(d, idx-i)\n",
    "\n",
    "    return max(a-b, c-d)"
   ]
  },
  {
   "cell_type": "code",
   "execution_count": 6,
   "metadata": {},
   "outputs": [
    {
     "name": "stdout",
     "output_type": "stream",
     "text": [
      "5\n"
     ]
    }
   ],
   "source": [
    "A = [1, 3, -1]\n",
    "\n",
    "print(max_Ab_Diff(A))"
   ]
  },
  {
   "attachments": {},
   "cell_type": "markdown",
   "metadata": {},
   "source": [
    "- A faster implementation of the above code (`Not asymptotically faster, but faster in practice`)."
   ]
  },
  {
   "cell_type": "code",
   "execution_count": 5,
   "metadata": {},
   "outputs": [],
   "source": [
    "def ab_diff(A):\n",
    "\n",
    "    a = -float('inf')\n",
    "    b = float('inf')\n",
    "    c = -float('inf')\n",
    "    d = float('inf')\n",
    "    \n",
    "    for num, index in enumerate(A):\n",
    "        \n",
    "        a = a if a > num+index else num+index\n",
    "        \n",
    "        b = b if b < num+index else num+index\n",
    "\n",
    "        c = c if c > num-index else num-index\n",
    "        \n",
    "        d = d if c < num-index else num-index\n",
    "\n",
    "    return max(a-b, c-d)"
   ]
  },
  {
   "cell_type": "code",
   "execution_count": 7,
   "metadata": {},
   "outputs": [
    {
     "name": "stdout",
     "output_type": "stream",
     "text": [
      "5\n"
     ]
    }
   ],
   "source": [
    "A = [1, 3, -1]\n",
    "\n",
    "print(max_Ab_Diff(A))"
   ]
  },
  {
   "cell_type": "code",
   "execution_count": 10,
   "metadata": {},
   "outputs": [],
   "source": [
    "import random \n",
    "\n",
    "arr = [random.randint(-10, 10) for x in range(10000)]"
   ]
  },
  {
   "cell_type": "code",
   "execution_count": 13,
   "metadata": {},
   "outputs": [
    {
     "name": "stdout",
     "output_type": "stream",
     "text": [
      "4.51 ms ± 59.5 µs per loop (mean ± std. dev. of 7 runs, 100 loops each)\n"
     ]
    }
   ],
   "source": [
    "%timeit ab_diff(arr)"
   ]
  },
  {
   "cell_type": "code",
   "execution_count": 12,
   "metadata": {},
   "outputs": [
    {
     "name": "stdout",
     "output_type": "stream",
     "text": [
      "8.29 ms ± 69.6 µs per loop (mean ± std. dev. of 7 runs, 100 loops each)\n"
     ]
    }
   ],
   "source": [
    "%timeit max_Ab_Diff(arr)"
   ]
  },
  {
   "attachments": {},
   "cell_type": "markdown",
   "metadata": {},
   "source": [
    "**6** **<span style=\"color:#FEC260\">First missing positive value</span>**\n",
    "\n",
    "Given an unsorted integer array, find the first missing positive integer.\n",
    "\n",
    "Given [1,2,0] return 3,\n",
    "\n",
    "[3,4,-1,1] return 2,\n",
    "\n",
    "[-8, -7, -6] returns 1\n",
    "\n",
    "Your algorithm should run in **O(n)** time and use **constant space**."
   ]
  },
  {
   "attachments": {},
   "cell_type": "markdown",
   "metadata": {},
   "source": [
    "_Algorithm should use constant space means we cannot use any other data structure to store the values. We can use the input array itself to store the values. Since we are using the index to map our values, we are using 1-based index here_"
   ]
  },
  {
   "cell_type": "code",
   "execution_count": 1,
   "metadata": {},
   "outputs": [
    {
     "data": {
      "text/plain": [
       "4"
      ]
     },
     "execution_count": 1,
     "metadata": {},
     "output_type": "execute_result"
    }
   ],
   "source": [
    "A = [-1, 0, 1, 2, -4, 3, 10, 200]\n",
    "\n",
    "def positive_int(A):\n",
    "\n",
    "    N = len(A)\n",
    "\n",
    "    # cleaning the data\n",
    "    for i in range(N):\n",
    "        if A[i] <= 0 or A[i] > N:\n",
    "            A[i] = N+100\n",
    "\n",
    "    # Negating the values present in the list\n",
    "    for i in range(N):\n",
    "\n",
    "        # selecting the index\n",
    "        x = abs(A[i]) - 1\n",
    "\n",
    "        if x >= 0 and x < N:\n",
    "            A[x] *= -1\n",
    "\n",
    "    # finding the answer    \n",
    "    for i in range(N):\n",
    "        if A[i] > 0:\n",
    "            return i + 1\n",
    "    \n",
    "    return N+1\n",
    "        \n",
    "\n",
    "positive_int(A)"
   ]
  },
  {
   "attachments": {},
   "cell_type": "markdown",
   "metadata": {},
   "source": [
    "**7** **<span style=\"color:#FEC260\">Find the second largest number in a list</span>**\n",
    "\n",
    "Given a list of numbers, find the second largest number in the list. \n",
    "\n",
    "**Time complexity O(n)**"
   ]
  },
  {
   "cell_type": "code",
   "execution_count": 4,
   "metadata": {},
   "outputs": [
    {
     "data": {
      "text/plain": [
       "40"
      ]
     },
     "execution_count": 4,
     "metadata": {},
     "output_type": "execute_result"
    }
   ],
   "source": [
    "def secondLargest(arr):\n",
    "\n",
    "    l = -float('inf')\n",
    "    s = -float('inf')\n",
    "\n",
    "    for i in range(len(arr)):\n",
    "        if arr[i] > l:\n",
    "            l, s = arr[i], l\n",
    "\n",
    "    return s\n",
    "\n",
    "secondLargest([-20, -30, 10, 40, 1, 2, 10, 100])"
   ]
  },
  {
   "attachments": {},
   "cell_type": "markdown",
   "metadata": {},
   "source": [
    "**<span style=\"color:#FEC260\">Bubble sort</span>**"
   ]
  },
  {
   "cell_type": "code",
   "execution_count": 25,
   "metadata": {},
   "outputs": [
    {
     "name": "stdout",
     "output_type": "stream",
     "text": [
      "Sorted array is: [10, 20, 30, 40, 50, 60, 70, 80, 90, 100, 110, 120]\n"
     ]
    }
   ],
   "source": [
    "arr = [120, 30, 20, 90, 40, 80, 100, 10, 110, 50, 70, 60]\n",
    "n = len(arr)\n",
    "\n",
    "# bubble sort algorithm\n",
    "for i in range(n):\n",
    "    swapped  = False\n",
    "\n",
    "    for j in range(n-i-1):\n",
    "        if arr[j] > arr[j+1]:\n",
    "            arr[j], arr[j+1] = arr[j+1], arr[j]\n",
    "\n",
    "            swapped = True\n",
    "            \n",
    "    if swapped == False:\n",
    "        break\n",
    "\n",
    "print('Sorted array is:', arr)"
   ]
  },
  {
   "attachments": {},
   "cell_type": "markdown",
   "metadata": {},
   "source": [
    "**11** **<span style=\"color:#FEC260\">Linear search</span>**\n",
    "\n",
    "Linear search is a very simple search algorithm. Every item is checked and if a match is found then that particular item is returned, otherwise the search continues till the end of the data collection. \n",
    "\n",
    "**Time complexity O(n)**"
   ]
  },
  {
   "cell_type": "code",
   "execution_count": 5,
   "metadata": {},
   "outputs": [
    {
     "name": "stdout",
     "output_type": "stream",
     "text": [
      "99 is found at index 99\n"
     ]
    }
   ],
   "source": [
    "arr = [x for x in range(101)]\n",
    "\n",
    "n = len(arr)\n",
    "x = 99\n",
    "\n",
    "ans = -1\n",
    "\n",
    "for i in range(n):\n",
    "    if arr[i] == x:\n",
    "        ans = i\n",
    "\n",
    "if ans == -1:\n",
    "    print(x, 'not found in array')\n",
    "else:\n",
    "    print(x, 'is found at index', ans)"
   ]
  },
  {
   "attachments": {},
   "cell_type": "markdown",
   "metadata": {},
   "source": [
    "**12** **<span style=\"color:#FEC260\">Binary Search</span>**\n",
    "\n",
    "Binary search is a search algorithm that finds the position of a target value within a **sorted array**. Binary search compares the target value to the middle element of the array. If they are not equal, the half in which the target cannot lie is eliminated and the search continues on the remaining half, again taking the middle element to compare to the target value, and repeating this until the target value is found. If the search ends with the remaining half being empty, the target is not in the array. It uses the **divide and conquer** approach.\n",
    "\n",
    "**Time complexity O(logn)** with base 2"
   ]
  },
  {
   "cell_type": "code",
   "execution_count": 7,
   "metadata": {},
   "outputs": [
    {
     "name": "stdout",
     "output_type": "stream",
     "text": [
      "99 is found at index 99\n"
     ]
    }
   ],
   "source": [
    "arr = [x for x in range(101)]\n",
    "\n",
    "n = len(arr)\n",
    "x = 99\n",
    "ans = -1\n",
    "start = 0\n",
    "end = n-1\n",
    "\n",
    "while start <= end:\n",
    "    mid  = (start + end) // 2\n",
    "\n",
    "    if arr[mid] == x:\n",
    "        ans = mid\n",
    "        break\n",
    "\n",
    "    elif arr[mid] > x:\n",
    "        end = mid-1\n",
    "    \n",
    "    elif arr[mid] < x:\n",
    "        start = mid+1    \n",
    "\n",
    "if ans == -1:\n",
    "    print(x, 'not found in array')\n",
    "else:\n",
    "    print(x, 'is found at index', ans)"
   ]
  },
  {
   "attachments": {},
   "cell_type": "markdown",
   "metadata": {},
   "source": [
    "**<span style=\"color:#FEC260\">Modified Binary search to find lower bound</span>**"
   ]
  },
  {
   "cell_type": "code",
   "execution_count": 4,
   "metadata": {},
   "outputs": [
    {
     "name": "stdout",
     "output_type": "stream",
     "text": [
      "2 is found at index 2\n"
     ]
    }
   ],
   "source": [
    "arr = [1, 1, 2, 2, 2, 2, 3, 4, 4, 5, 5, 6, 7]\n",
    "\n",
    "n = len(arr)\n",
    "x  = 2\n",
    "start = 0\n",
    "end = n-1\n",
    "ans = -1\n",
    "\n",
    "while start <= end:\n",
    "    mid = (start + end) // 2\n",
    "\n",
    "    if arr[mid] == x:\n",
    "        ans = mid\n",
    "        end = mid - 1\n",
    "\n",
    "    elif arr[mid] > x:\n",
    "        end = mid - 1\n",
    "    elif arr[mid] < x:\n",
    "        start = mid + 1\n",
    "    \n",
    "if ans == -1:\n",
    "    print(x, 'not found in array')\n",
    "else:\n",
    "    print(x, 'is found at index', ans)"
   ]
  },
  {
   "attachments": {},
   "cell_type": "markdown",
   "metadata": {},
   "source": [
    "**<span style=\"color:#FEC260\">Modified Binary search to find upper bound</span>**"
   ]
  },
  {
   "cell_type": "code",
   "execution_count": 8,
   "metadata": {},
   "outputs": [
    {
     "name": "stdout",
     "output_type": "stream",
     "text": [
      "2 is found at index 5\n"
     ]
    }
   ],
   "source": [
    "jail = [1, 1, 2, 2, 2, 2, 3, 4, 4, 5, 5, 6, 7]\n",
    "\n",
    "n = len(jail)\n",
    "x  = 2\n",
    "start = 0\n",
    "end = n-1\n",
    "ans = -1\n",
    "\n",
    "while start <= end:\n",
    "    mid = (start + end) // 2\n",
    "\n",
    "    if jail[mid] == x:\n",
    "        ans = mid\n",
    "        start  = mid + 1\n",
    "\n",
    "    elif jail[mid] > x:\n",
    "        end = mid - 1\n",
    "    elif jail[mid] < x:\n",
    "        start = mid + 1\n",
    "    \n",
    "if ans == -1:\n",
    "    print(x, 'not found in array')\n",
    "else:\n",
    "    print(x, 'is found at index', ans)"
   ]
  },
  {
   "attachments": {},
   "cell_type": "markdown",
   "metadata": {},
   "source": [
    "**13** <span style=\"color:#FEC260\">**Given a string remove the duplicate elements and return the unique string.**</span>\n",
    "\n",
    "For example:\n",
    "\n",
    "Input: \"aaccghh\" Output: \"acgh\""
   ]
  },
  {
   "cell_type": "code",
   "execution_count": 14,
   "metadata": {},
   "outputs": [
    {
     "name": "stdout",
     "output_type": "stream",
     "text": [
      "abcdefg\n"
     ]
    }
   ],
   "source": [
    "def remove_duplicates(s):\n",
    "    \n",
    "    output = ''\n",
    "\n",
    "    for char in s:\n",
    "        if char not in output:\n",
    "            output+= char\n",
    "            \n",
    "    return output\n",
    "\n",
    "print(remove_duplicates('aabbcddeeffgda'))"
   ]
  },
  {
   "cell_type": "code",
   "execution_count": 13,
   "metadata": {},
   "outputs": [
    {
     "name": "stdout",
     "output_type": "stream",
     "text": [
      "abcdefg\n"
     ]
    }
   ],
   "source": [
    "# we can use a list also for solving this question\n",
    "\n",
    "def remove_duplicates(s):\n",
    "    \n",
    "    lis = []\n",
    "\n",
    "    for char in s:\n",
    "        if char not in lis:\n",
    "            lis.append(char)\n",
    "    lis = ''.join(lis)\n",
    "    \n",
    "    return lis\n",
    "\n",
    "print(remove_duplicates('aabbcddeeffgda'))"
   ]
  },
  {
   "cell_type": "code",
   "execution_count": 12,
   "metadata": {},
   "outputs": [
    {
     "name": "stdout",
     "output_type": "stream",
     "text": [
      "acdefgb\n"
     ]
    }
   ],
   "source": [
    "# if order does not matter we can use sets also for this\n",
    "\n",
    "def remove_duplicates(s):\n",
    "\n",
    "    s1 = set(s)\n",
    "    s1 = ''.join(s1)\n",
    "    \n",
    "    return s1 \n",
    "\n",
    "print(remove_duplicates('aabbcddeeffgda'))"
   ]
  },
  {
   "attachments": {},
   "cell_type": "markdown",
   "metadata": {},
   "source": [
    "**14** **<span style=\"color:#FEC260\">For a given string, remove all the consecutive duplicate characters.**</span>\n",
    "\n",
    "- Input:  aabccbaa,  xxyyzxx \n",
    "- Output: abcba, xyzx"
   ]
  },
  {
   "cell_type": "code",
   "execution_count": 12,
   "metadata": {},
   "outputs": [
    {
     "name": "stdout",
     "output_type": "stream",
     "text": [
      "abcba\n"
     ]
    }
   ],
   "source": [
    "def remove_duplicates(s):\n",
    "    \n",
    "  a = ''\n",
    "  previous = None\n",
    "\n",
    "  for char in s:\n",
    "    if previous != char:\n",
    "        a += char\n",
    "        previous = char\n",
    "\n",
    "  return a\n",
    "\n",
    "print(remove_duplicates('aabccbaa'))"
   ]
  },
  {
   "attachments": {},
   "cell_type": "markdown",
   "metadata": {},
   "source": [
    "**15** **<span style=\"color:#FEC260\">Reverse each word in a given sentence.</span>**\n",
    "\n",
    "Given a string, reverse each word in the string. For example;\n",
    "\n",
    "Input: Always indent your code\n",
    "\n",
    "output: syawlA tnedni ruoy edoc"
   ]
  },
  {
   "cell_type": "code",
   "execution_count": 23,
   "metadata": {},
   "outputs": [
    {
     "data": {
      "text/plain": [
       "'syawlA tnedni ruoy edoc'"
      ]
     },
     "execution_count": 23,
     "metadata": {},
     "output_type": "execute_result"
    }
   ],
   "source": [
    "def reverse_words(s):\n",
    "\n",
    "    return ' '.join([x[::-1] for x in s.split()])\n",
    "\n",
    "reverse_words('Always indent your code')"
   ]
  },
  {
   "cell_type": "code",
   "execution_count": 21,
   "metadata": {},
   "outputs": [
    {
     "data": {
      "text/plain": [
       "'olleH dlrow'"
      ]
     },
     "execution_count": 21,
     "metadata": {},
     "output_type": "execute_result"
    }
   ],
   "source": [
    "# we can do the the above program using lambda function also\n",
    "\n",
    "s = 'Hello world'\n",
    "\n",
    "foo = lambda x: ' '.join([x[::-1] for x in s.split()])\n",
    "\n",
    "foo(s)"
   ]
  },
  {
   "attachments": {},
   "cell_type": "markdown",
   "metadata": {},
   "source": [
    "**15** **<span style=\"color:#FEC260\">Tower of Hanoi using Recursion.</span>**"
   ]
  },
  {
   "cell_type": "code",
   "execution_count": 1,
   "metadata": {},
   "outputs": [
    {
     "name": "stdout",
     "output_type": "stream",
     "text": [
      "Move disk from A to C\n",
      "Move disk from A to B\n",
      "Move disk from C to B\n",
      "Move disk from A to C\n",
      "Move disk from B to A\n",
      "Move disk from B to C\n",
      "Move disk from A to C\n",
      "Move disk from A to B\n",
      "Move disk from C to B\n",
      "Move disk from C to A\n",
      "Move disk from B to A\n",
      "Move disk from C to B\n",
      "Move disk from A to C\n",
      "Move disk from A to B\n",
      "Move disk from C to B\n"
     ]
    }
   ],
   "source": [
    "def hanoi(n, source, destination, helper):\n",
    "    \n",
    "    if n == 1:\n",
    "        print(f'Move disk from {source} to {destination}')\n",
    "        return\n",
    "\n",
    "    hanoi(n-1, source, helper, destination)\n",
    "    print(f'Move disk from {source} to {destination}')\n",
    "\n",
    "    hanoi(n-1, helper, destination, source)\n",
    "\n",
    "hanoi(4,'A','B','C')"
   ]
  },
  {
   "attachments": {},
   "cell_type": "markdown",
   "metadata": {},
   "source": [
    "**16** **<span style=\"color:#FEC260\">Drunken Jailor Problem</span>**"
   ]
  },
  {
   "cell_type": "code",
   "execution_count": 2,
   "metadata": {},
   "outputs": [
    {
     "data": {
      "text/plain": [
       "[1, 4, 9, 16, 25, 36, 49, 64, 81, 100]"
      ]
     },
     "execution_count": 2,
     "metadata": {},
     "output_type": "execute_result"
    }
   ],
   "source": [
    "import math\n",
    "\n",
    "\n",
    "def soln(x: int) -> list:\n",
    "\n",
    "    ans = []\n",
    "\n",
    "    cell = [0 for x in range (x)]\n",
    "    for i in range(1, len(cell)+1):\n",
    "        if perfectSquare(i):\n",
    "            ans.append(i)\n",
    "    \n",
    "    return ans\n",
    "\n",
    "def perfectSquare(n):\n",
    "    return (math.ceil(math.sqrt(n))) == (math.floor(math.sqrt(n)))\n",
    "\n",
    "\n",
    "total_cells = 100\n",
    "soln(total_cells)"
   ]
  }
 ],
 "metadata": {
  "kernelspec": {
   "display_name": "Python 3 (ipykernel)",
   "language": "python",
   "name": "python3"
  },
  "language_info": {
   "codemirror_mode": {
    "name": "ipython",
    "version": 3
   },
   "file_extension": ".py",
   "mimetype": "text/x-python",
   "name": "python",
   "nbconvert_exporter": "python",
   "pygments_lexer": "ipython3",
   "version": "3.9.16"
  },
  "vscode": {
   "interpreter": {
    "hash": "f4c85645bce20c702a4ecae1b93c6759c482279d1c3b7e99a0246a20b7629f3f"
   }
  }
 },
 "nbformat": 4,
 "nbformat_minor": 4
}
