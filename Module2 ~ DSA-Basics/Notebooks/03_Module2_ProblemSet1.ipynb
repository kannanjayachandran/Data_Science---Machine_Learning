{
 "cells": [
  {
   "attachments": {},
   "cell_type": "markdown",
   "metadata": {},
   "source": [
    "## <span style=\"color:#FEC260\">Array ~ Problems 1</span>"
   ]
  },
  {
   "attachments": {},
   "cell_type": "markdown",
   "metadata": {},
   "source": [
    "### <span style=\"color:#FEC260\">Prefix sum Array</span>\n",
    "\n",
    "- An array of 'N' elements is given. There are 'M' queries. The queries are of the form 'Q[i][j]', where 'i' is the first index and 'j' is the second index. Find the sum of all the elements in the array from 'i' to 'j'. There would exactly be 2 values in each query. The queries are given in the form of a 2D array. Return the sum of all the elements in the array after applying the queries."
   ]
  },
  {
   "cell_type": "code",
   "execution_count": 12,
   "metadata": {},
   "outputs": [],
   "source": [
    "def sumInRange(arr: list, qrr: list):\n",
    "\n",
    "    res = []\n",
    "\n",
    "    # creating the prefix sum array\n",
    "    prefixSum = [arr[0]]\n",
    "    for x in arr[1:]:\n",
    "        prefixSum.append(prefixSum[-1] + x)\n",
    "\n",
    "    # finding sum\n",
    "    for i in range(len(qrr)):\n",
    "        start = qrr[i][0]\n",
    "        end = qrr[i][1]\n",
    "\n",
    "        total = 0\n",
    "        if start == 0:\n",
    "            total = prefixSum[end]\n",
    "        else:\n",
    "            total = prefixSum[end] - prefixSum[start-1]\n",
    "\n",
    "        res.append(total)\n",
    "\n",
    "    return res"
   ]
  },
  {
   "cell_type": "code",
   "execution_count": 15,
   "metadata": {},
   "outputs": [
    {
     "data": {
      "text/plain": [
       "[5, 10]"
      ]
     },
     "execution_count": 15,
     "metadata": {},
     "output_type": "execute_result"
    }
   ],
   "source": [
    "sumInRange([1, 2, 3, 4, 5], [[1, 2], [0, 3]])"
   ]
  },
  {
   "attachments": {},
   "cell_type": "markdown",
   "metadata": {},
   "source": [
    "### <span style=\"color:#FEC260\">Equilibrium Index of array</span>\n",
    "\n",
    "Given an array of 'N' elements, find the equilibrium index of the array. An equilibrium index is an index 'i' such that the sum of the elements on the left of 'i' is equal to the sum of the elements on the right of 'i'. The array can have negative elements. If no equilibrium index is found, return -1. There would be only one equilibrium index in the array."
   ]
  },
  {
   "cell_type": "code",
   "execution_count": 24,
   "metadata": {},
   "outputs": [],
   "source": [
    "def equilibrium(arr):\n",
    "\n",
    "    total = sum(arr)\n",
    "\n",
    "    left_sum = 0\n",
    "    for i in range(len(arr)):\n",
    "        \n",
    "        right_sum = total-left_sum-arr[i]\n",
    "\n",
    "        if left_sum == right_sum:\n",
    "            return i\n",
    "\n",
    "        left_sum += arr[i]\n",
    "\n",
    "    return -1"
   ]
  },
  {
   "cell_type": "code",
   "execution_count": 29,
   "metadata": {},
   "outputs": [
    {
     "data": {
      "text/plain": [
       "2"
      ]
     },
     "execution_count": 29,
     "metadata": {},
     "output_type": "execute_result"
    }
   ],
   "source": [
    "equilibrium([-1, 1, 100, 0])"
   ]
  },
  {
   "attachments": {},
   "cell_type": "markdown",
   "metadata": {},
   "source": [
    "- If there are multiple equilibrium indices, return all the equilibrium indices in the form of a list."
   ]
  },
  {
   "cell_type": "code",
   "execution_count": 8,
   "metadata": {},
   "outputs": [],
   "source": [
    "def multiEquilibrium(arr):\n",
    "\n",
    "    res = []\n",
    "\n",
    "    total = sum(arr)\n",
    "\n",
    "    left_sum = 0\n",
    "    for i in range(len(arr)):\n",
    "        \n",
    "        right_sum = total-left_sum-arr[i]\n",
    "\n",
    "        if left_sum == right_sum:\n",
    "             res.append(i)\n",
    "\n",
    "        left_sum += arr[i]\n",
    "\n",
    "    return res"
   ]
  },
  {
   "cell_type": "code",
   "execution_count": 9,
   "metadata": {},
   "outputs": [
    {
     "data": {
      "text/plain": [
       "[]"
      ]
     },
     "execution_count": 9,
     "metadata": {},
     "output_type": "execute_result"
    }
   ],
   "source": [
    "multiEquilibrium([4, 5, 0, 9, -9])"
   ]
  },
  {
   "attachments": {},
   "cell_type": "markdown",
   "metadata": {},
   "source": [
    "### <span style=\"color:#FEC260\">Array Carry Forward or Postfix Sum</span>\n",
    "\n",
    "- <span style=\"color:#FEC260\">count good pairs</span>\n",
    "\n",
    "Given a string 'S' all chars are lowercase. Count the number of pairs (i, j) such that i < j and s[i] = 'a' and s[j] = 'g'. or Given a string S, count the number of occurrences of the sub-sequences 'ag'. Return the count of all such pairs. "
   ]
  },
  {
   "cell_type": "code",
   "execution_count": 10,
   "metadata": {},
   "outputs": [
    {
     "data": {
      "text/plain": [
       "4"
      ]
     },
     "execution_count": 10,
     "metadata": {},
     "output_type": "execute_result"
    }
   ],
   "source": [
    "# Naive soln\n",
    "\n",
    "s = \"agaacga\"\n",
    "\n",
    "def goodPairBruteForce(s):\n",
    "\n",
    "    count = 0\n",
    "\n",
    "    for i in range(len(s)):\n",
    "        if s[i] == 'a':\n",
    "\n",
    "            for ch in range(i+1, len(s)-1):\n",
    "                if  s[ch] == 'g':\n",
    "                    count += 1\n",
    "\n",
    "    return count\n",
    "\n",
    "goodPairBruteForce(s)"
   ]
  },
  {
   "attachments": {},
   "cell_type": "markdown",
   "metadata": {},
   "source": [
    "**Optimized approach using a postfix sum array**\n",
    "- Time complexity: O(N)\n",
    "- Space complexity: O(N)"
   ]
  },
  {
   "cell_type": "code",
   "execution_count": 11,
   "metadata": {},
   "outputs": [],
   "source": [
    "def goodPairArray(s):\n",
    "\n",
    "    n = len(s)\n",
    "\n",
    "    # creating the postfix array\n",
    "    gCountArr = [0]*n\n",
    "    gCount = 0\n",
    "\n",
    "    for i in reversed(range(n)):\n",
    "        if s[i] == 'g':\n",
    "            gCount += 1\n",
    "\n",
    "        gCountArr[i] = gCount\n",
    "\n",
    "    # finding the ans\n",
    "    count = 0\n",
    "    for i in range(n):\n",
    "        if s[i] == 'a':\n",
    "            count += gCountArr[i]\n",
    "\n",
    "    return count"
   ]
  },
  {
   "cell_type": "code",
   "execution_count": 12,
   "metadata": {},
   "outputs": [
    {
     "data": {
      "text/plain": [
       "8"
      ]
     },
     "execution_count": 12,
     "metadata": {},
     "output_type": "execute_result"
    }
   ],
   "source": [
    "goodPairArray('adggagaag')"
   ]
  },
  {
   "attachments": {},
   "cell_type": "markdown",
   "metadata": {},
   "source": [
    "**Optimized approach using a postfix variable.**\n",
    "- Time complexity: O(N)\n",
    "- Space complexity: O(1)"
   ]
  },
  {
   "cell_type": "code",
   "execution_count": 1,
   "metadata": {},
   "outputs": [],
   "source": [
    "def goodPair(s):\n",
    "\n",
    "    n = len(s)\n",
    "    gCount = 0\n",
    "    count = 0\n",
    "\n",
    "    for i in reversed(range(n)):\n",
    "\n",
    "        if s[i] == 'a':\n",
    "            count += gCount\n",
    "        elif s[i] == 'g':\n",
    "            gCount += 1\n",
    "\n",
    "    return count"
   ]
  },
  {
   "cell_type": "code",
   "execution_count": 3,
   "metadata": {},
   "outputs": [
    {
     "data": {
      "text/plain": [
       "13"
      ]
     },
     "execution_count": 3,
     "metadata": {},
     "output_type": "execute_result"
    }
   ],
   "source": [
    "goodPair('xxaxxxaggxaxxxagxagx')"
   ]
  },
  {
   "attachments": {},
   "cell_type": "markdown",
   "metadata": {},
   "source": [
    "### <span style=\"color:#FEC260\">Count the number of leaders in the array</span>\n",
    "\n",
    "Given an array of size N, count the number of leaders in the array. An element is leader if it is **strictly** greater than all the elements to its right side. The rightmost element is always a leader. \n",
    "\n",
    "[1, 7, 8, 0, -4, 2, 3, 0, 1, -10]\n",
    "\n",
    "Here 8 and 3, 1 and -10 are leaders, as they are greater than all the elements right of them. (For -10 there are no elements right of it hence it is always true)."
   ]
  },
  {
   "cell_type": "code",
   "execution_count": 12,
   "metadata": {},
   "outputs": [],
   "source": [
    "# Brute force\n",
    "\n",
    "def countLeaderBruteForce(arr):\n",
    "\n",
    "    count = 0\n",
    "    n = len(arr)\n",
    "\n",
    "    for i in range(n):\n",
    "\n",
    "        isLeader = True\n",
    "        for j in range(i+1, n):\n",
    "            if arr[i] < arr[j]:\n",
    "                isLeader = False\n",
    "                break\n",
    "\n",
    "        if isLeader:\n",
    "            count += 1\n",
    "\n",
    "    return count"
   ]
  },
  {
   "cell_type": "code",
   "execution_count": 13,
   "metadata": {},
   "outputs": [
    {
     "data": {
      "text/plain": [
       "4"
      ]
     },
     "execution_count": 13,
     "metadata": {},
     "output_type": "execute_result"
    }
   ],
   "source": [
    "countLeaderBruteForce([1, 2, 7, 8, -6, 0, 3, -7, -10])"
   ]
  },
  {
   "attachments": {},
   "cell_type": "markdown",
   "metadata": {},
   "source": [
    "optimized approach using a postfix sum array.\n",
    "- Time complexity: O(N)\n",
    "- Space complexity: O(N)"
   ]
  },
  {
   "cell_type": "code",
   "execution_count": 16,
   "metadata": {},
   "outputs": [],
   "source": [
    "def countLeaderArr(arr):\n",
    "\n",
    "    # creating the post fix array of max elements\n",
    "    n = len(arr)\n",
    "    largeArr = [0] * n\n",
    "    large = arr[-1]\n",
    "\n",
    "    for i in reversed(range(n)):\n",
    "        if arr[i] > large:\n",
    "            large = arr[i]\n",
    "\n",
    "        largeArr[i] = large\n",
    "\n",
    "    # finding ans\n",
    "    count = 0\n",
    "    for i in range(n-1):\n",
    "        if arr[i] > largeArr[i+1]:\n",
    "            count += 1\n",
    "\n",
    "    return count+1"
   ]
  },
  {
   "cell_type": "code",
   "execution_count": 17,
   "metadata": {},
   "outputs": [
    {
     "data": {
      "text/plain": [
       "4"
      ]
     },
     "execution_count": 17,
     "metadata": {},
     "output_type": "execute_result"
    }
   ],
   "source": [
    "countLeaderArr([1, 2, 7, 8, -6, 0, 3, -7, -10])"
   ]
  },
  {
   "attachments": {},
   "cell_type": "markdown",
   "metadata": {},
   "source": [
    "- Optimized approach using a postfix sum variable.\n",
    "\n",
    "- Time complexity: O(N)\n",
    "- Space complexity: O(1)"
   ]
  },
  {
   "cell_type": "code",
   "execution_count": 18,
   "metadata": {},
   "outputs": [],
   "source": [
    "def countLeaders(arr):\n",
    "\n",
    "    largest = -float('inf')\n",
    "    count = 0\n",
    "    n = len(arr)\n",
    "\n",
    "    for i in reversed(range(n)):\n",
    "        if arr[i] > largest:\n",
    "            count += 1\n",
    "            largest = arr[i]\n",
    "\n",
    "    return count"
   ]
  },
  {
   "attachments": {},
   "cell_type": "markdown",
   "metadata": {},
   "source": [
    "- <span style=\"color:#FEC260\">Move all zeros to the end</span>\n",
    "\n",
    "Given an array of size N, move all the zeros to the end of the array. The order of the non-zero elements should remain the same."
   ]
  },
  {
   "cell_type": "code",
   "execution_count": 10,
   "metadata": {},
   "outputs": [
    {
     "name": "stdout",
     "output_type": "stream",
     "text": [
      "[1, 2, 3, 4, 1, 0, 0, 0, 0]\n"
     ]
    }
   ],
   "source": [
    "def movezeros(arr: list):\n",
    "\n",
    "    n = len(arr)\n",
    "    count = 0\n",
    "\n",
    "    for i in range(n):\n",
    "        if arr[i] != 0:\n",
    "\n",
    "            arr[i], arr[count] = arr[count], arr[i]\n",
    "            count += 1\n",
    "    print(arr)\n",
    "\n",
    "movezeros([1, 2, 0, 0, 3, 4, 0, 0, 1])"
   ]
  },
  {
   "attachments": {},
   "cell_type": "markdown",
   "metadata": {},
   "source": [
    "- <span style=\"color:#FEC260\">Find non min-max elements</span>\n",
    "\n",
    "Given an array find the non-min and non-max elements in the array. Return all the non-min and non-max elements in the array. If there are no such elements return an empty array."
   ]
  },
  {
   "cell_type": "code",
   "execution_count": 6,
   "metadata": {},
   "outputs": [
    {
     "data": {
      "text/plain": [
       "[2, 3, 4]"
      ]
     },
     "execution_count": 6,
     "metadata": {},
     "output_type": "execute_result"
    }
   ],
   "source": [
    "nums = [1, 2, 3, 4, 5]\n",
    "\n",
    "\n",
    "def findNonMinOrMax(nums: list[int]) -> int:\n",
    "        \n",
    "        ans = []\n",
    "        if len(nums) <= 2:\n",
    "            return []\n",
    "\n",
    "        high = max(nums)\n",
    "        low = min(nums)\n",
    "\n",
    "        for x in nums:\n",
    "            if x != high and x != low:\n",
    "                ans.append(x)\n",
    "        \n",
    "        if ans:\n",
    "             return ans\n",
    "        else:\n",
    "             return []\n",
    "\n",
    "findNonMinOrMax(nums)"
   ]
  }
 ],
 "metadata": {
  "kernelspec": {
   "display_name": "Python 3.10.5 64-bit",
   "language": "python",
   "name": "python3"
  },
  "language_info": {
   "codemirror_mode": {
    "name": "ipython",
    "version": 3
   },
   "file_extension": ".py",
   "mimetype": "text/x-python",
   "name": "python",
   "nbconvert_exporter": "python",
   "pygments_lexer": "ipython3",
   "version": "3.9.16"
  },
  "orig_nbformat": 4,
  "vscode": {
   "interpreter": {
    "hash": "f4c85645bce20c702a4ecae1b93c6759c482279d1c3b7e99a0246a20b7629f3f"
   }
  }
 },
 "nbformat": 4,
 "nbformat_minor": 2
}
