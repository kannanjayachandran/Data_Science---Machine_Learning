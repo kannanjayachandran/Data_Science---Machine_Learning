{
 "cells": [
  {
   "cell_type": "markdown",
   "metadata": {},
   "source": [
    "<h1 align=\"center\" style=\"color: orange\">Regular Expressions in Python</h1>\n",
    "\n",
    "> [Regex Docs](https://docs.python.org/3/library/re.html#)\n",
    "\n",
    "### Regular expression syntax\n",
    "\n",
    "- `.` : Matches any character except a newline.\n",
    "- `*` : Matches zero or more occurrences of the previous character.\n",
    "- `+` : Matches one or more occurrences of the previous character.\n",
    "- `?` : Matches zero or one occurrence of the previous character.\n",
    "- `\\d` : Matches any digit (0-9).\n",
    "- `\\D` : Matches any non-digit character.\n",
    "- `\\w` : Matches any word character (alphanumeric and underscore).\n",
    "- `\\W` : Matches any non-word character.\n",
    "- `\\s` : Matches any whitespace character.\n",
    "- `\\S` : Matches any non-whitespace character.\n",
    "\n",
    "**Anchors**\n",
    "* `\\b` - word boundary\n",
    "* `\\B` - not a word boundary\n",
    "* `^` - beginning of a string\n",
    "* `$` - end of a string\n",
    "\n",
    "**Character Classes**\n",
    "* `[]` - matches characters in brackets\n",
    "* `[^ ]` - matches characters NOT in brackets\n",
    "* `|` - either or\n",
    "* `()` - group\n",
    "* `[1-4]` - range of numbers (minimum, maximum)"
   ]
  },
  {
   "cell_type": "code",
   "execution_count": 2,
   "metadata": {},
   "outputs": [],
   "source": [
    "import re"
   ]
  },
  {
   "cell_type": "code",
   "execution_count": 4,
   "metadata": {},
   "outputs": [],
   "source": [
    "text_to_search = '''\n",
    "\n",
    "abcdefghijklmnopqurtuvwxyz\n",
    "\n",
    "ABCDEFGHIJKLMNOPQRSTUVWXYZ\n",
    "\n",
    "1234567890\n",
    "\n",
    "Ha HaHa Ha Hii Haa\n",
    "\n",
    "MetaCharacters :\n",
    ". ^ $ * + ? { } [ ] \\ | ( )\n",
    "\n",
    "Google.com\n",
    "Amazon.com\n",
    "Facebook.com\n",
    "\n",
    "123-456-789\n",
    "123.456.789\n",
    "123*555*1234\n",
    "123/456/789\n",
    "\n",
    "877-500-1234\n",
    "980-555-1234\n",
    "930-234-3455\n",
    "\n",
    "Mr. Peter Griffin\n",
    "Mr Stewie Griffin\n",
    "Ms Glen Quagmire\n",
    "Mrs. Griffin\n",
    "Ms. Meg Griffin\n",
    "Mrs. U\n",
    "Mr. Joe Swanson\n",
    "'''\n",
    "\n",
    "sentence = \"Finally some more things to test the RegEx using Python re module\""
   ]
  },
  {
   "cell_type": "code",
   "execution_count": 13,
   "metadata": {},
   "outputs": [
    {
     "name": "stdout",
     "output_type": "stream",
     "text": [
      "Phone numbers found :  877-500-1234\n"
     ]
    }
   ],
   "source": [
    "# Extract phone numbers\n",
    "phone_numbers_v1 = re.search(r'\\d{3}-\\d{3}-\\d{4}', text_to_search)\n",
    "\n",
    "if phone_numbers_v1:\n",
    "    print(\"Phone numbers found : \", phone_numbers_v1.group(0))"
   ]
  },
  {
   "cell_type": "code",
   "execution_count": null,
   "metadata": {},
   "outputs": [],
   "source": [
    "pattern = re.compile(r'abcd')\n",
    "\n",
    "hits = pattern.finditer(text_to_search)\n",
    "for hit in hits:\n",
    "    print(hit) \n",
    "\n",
    "# span shows the beginning and the end of the matches"
   ]
  },
  {
   "cell_type": "code",
   "execution_count": null,
   "metadata": {},
   "outputs": [],
   "source": [
    "# we need to escape meta characters as they hold different meanings in regex\n",
    "p2 = re.compile(r'\\.')\n",
    "m1 = p2.finditer(text_to_search)\n",
    "\n",
    "for x in m1:\n",
    "    print(x)\n",
    "\n",
    "# typical use cases are URLs\n",
    "p3 = re.compile(r'Google\\.com')\n",
    "m2 = p3.finditer(text_to_search)\n",
    "\n",
    "for x in m2:\n",
    "    print(x)"
   ]
  },
  {
   "cell_type": "code",
   "execution_count": null,
   "metadata": {},
   "outputs": [],
   "source": [
    "# matching phone numbers\n",
    "ph_num = re.compile(r'[89][78]\\d[-.]')\n",
    "\n",
    "valid_numbers = ph_num.finditer(text_to_search)\n",
    "\n",
    "for num in valid_numbers:\n",
    "    print(num)"
   ]
  },
  {
   "cell_type": "code",
   "execution_count": 8,
   "metadata": {},
   "outputs": [
    {
     "name": "stdout",
     "output_type": "stream",
     "text": [
      "<re.Match object; span=(0, 1), match='\\n'>\n",
      "<re.Match object; span=(27, 28), match='\\n'>\n",
      "<re.Match object; span=(54, 55), match='\\n'>\n",
      "<re.Match object; span=(65, 66), match='\\n'>\n",
      "<re.Match object; span=(66, 67), match='\\n'>\n",
      "<re.Match object; span=(69, 70), match=' '>\n",
      "<re.Match object; span=(74, 75), match=' '>\n",
      "<re.Match object; span=(77, 78), match=' '>\n",
      "<re.Match object; span=(81, 82), match=' '>\n",
      "<re.Match object; span=(85, 86), match='\\n'>\n",
      "<re.Match object; span=(86, 87), match='\\n'>\n",
      "<re.Match object; span=(101, 102), match=' '>\n",
      "<re.Match object; span=(102, 103), match=':'>\n",
      "<re.Match object; span=(103, 104), match='\\n'>\n",
      "<re.Match object; span=(104, 105), match='.'>\n",
      "<re.Match object; span=(105, 106), match=' '>\n",
      "<re.Match object; span=(106, 107), match='^'>\n",
      "<re.Match object; span=(107, 108), match=' '>\n",
      "<re.Match object; span=(108, 109), match='$'>\n",
      "<re.Match object; span=(109, 110), match=' '>\n",
      "<re.Match object; span=(110, 111), match='*'>\n",
      "<re.Match object; span=(111, 112), match=' '>\n",
      "<re.Match object; span=(112, 113), match='+'>\n",
      "<re.Match object; span=(113, 114), match=' '>\n",
      "<re.Match object; span=(114, 115), match='?'>\n",
      "<re.Match object; span=(115, 116), match=' '>\n",
      "<re.Match object; span=(116, 117), match='{'>\n",
      "<re.Match object; span=(117, 118), match=' '>\n",
      "<re.Match object; span=(118, 119), match='}'>\n",
      "<re.Match object; span=(119, 120), match=' '>\n",
      "<re.Match object; span=(120, 121), match='['>\n",
      "<re.Match object; span=(121, 122), match=' '>\n",
      "<re.Match object; span=(122, 123), match=']'>\n",
      "<re.Match object; span=(123, 124), match=' '>\n",
      "<re.Match object; span=(124, 125), match='\\\\'>\n",
      "<re.Match object; span=(125, 126), match=' '>\n",
      "<re.Match object; span=(126, 127), match='|'>\n",
      "<re.Match object; span=(127, 128), match=' '>\n",
      "<re.Match object; span=(128, 129), match='('>\n",
      "<re.Match object; span=(129, 130), match=' '>\n",
      "<re.Match object; span=(130, 131), match=')'>\n",
      "<re.Match object; span=(131, 132), match='\\n'>\n",
      "<re.Match object; span=(132, 133), match='\\n'>\n",
      "<re.Match object; span=(139, 140), match='.'>\n",
      "<re.Match object; span=(143, 144), match='\\n'>\n",
      "<re.Match object; span=(144, 145), match='\\n'>\n",
      "<re.Match object; span=(148, 149), match='-'>\n",
      "<re.Match object; span=(152, 153), match='-'>\n",
      "<re.Match object; span=(156, 157), match='\\n'>\n",
      "<re.Match object; span=(160, 161), match='.'>\n",
      "<re.Match object; span=(164, 165), match='.'>\n",
      "<re.Match object; span=(168, 169), match='\\n'>\n",
      "<re.Match object; span=(172, 173), match='*'>\n",
      "<re.Match object; span=(176, 177), match='*'>\n",
      "<re.Match object; span=(181, 182), match='\\n'>\n",
      "<re.Match object; span=(182, 183), match='\\n'>\n",
      "<re.Match object; span=(186, 187), match='-'>\n",
      "<re.Match object; span=(190, 191), match='-'>\n",
      "<re.Match object; span=(195, 196), match='\\n'>\n",
      "<re.Match object; span=(199, 200), match='-'>\n",
      "<re.Match object; span=(203, 204), match='-'>\n",
      "<re.Match object; span=(208, 209), match='\\n'>\n",
      "<re.Match object; span=(212, 213), match='-'>\n",
      "<re.Match object; span=(216, 217), match='-'>\n",
      "<re.Match object; span=(221, 222), match='\\n'>\n",
      "<re.Match object; span=(222, 223), match='\\n'>\n",
      "<re.Match object; span=(225, 226), match='.'>\n",
      "<re.Match object; span=(226, 227), match=' '>\n",
      "<re.Match object; span=(233, 234), match='\\n'>\n",
      "<re.Match object; span=(236, 237), match=' '>\n",
      "<re.Match object; span=(242, 243), match='\\n'>\n",
      "<re.Match object; span=(245, 246), match=' '>\n",
      "<re.Match object; span=(251, 252), match='\\n'>\n",
      "<re.Match object; span=(255, 256), match='.'>\n",
      "<re.Match object; span=(256, 257), match=' '>\n",
      "<re.Match object; span=(263, 264), match='\\n'>\n",
      "<re.Match object; span=(266, 267), match='.'>\n",
      "<re.Match object; span=(267, 268), match=' '>\n",
      "<re.Match object; span=(276, 277), match='\\n'>\n",
      "<re.Match object; span=(280, 281), match='.'>\n",
      "<re.Match object; span=(281, 282), match=' '>\n",
      "<re.Match object; span=(283, 284), match='\\n'>\n"
     ]
    }
   ],
   "source": [
    "# finding all the occurrences without upper case letters\n",
    "p5 = re.compile(r'[^a-zA-Z\\d]')\n",
    "\n",
    "no_upper = p5.finditer(text_to_search)\n",
    "\n",
    "for x in no_upper:\n",
    "    print(x)"
   ]
  },
  {
   "cell_type": "code",
   "execution_count": 14,
   "metadata": {},
   "outputs": [
    {
     "name": "stdout",
     "output_type": "stream",
     "text": [
      "<re.Match object; span=(5, 8), match='bun'>\n"
     ]
    }
   ],
   "source": [
    "string2 = \"\"\"\n",
    "pun\n",
    "bun\n",
    "one\n",
    "won\n",
    "\"\"\"\n",
    "\n",
    "p6 = re.compile(r'[^p]un')\n",
    "\n",
    "something_weird = p6.finditer(string2)\n",
    "\n",
    "for weird in something_weird:\n",
    "    print(weird)"
   ]
  },
  {
   "cell_type": "code",
   "execution_count": 17,
   "metadata": {},
   "outputs": [
    {
     "name": "stdout",
     "output_type": "stream",
     "text": [
      "<re.Match object; span=(169, 181), match='123*555*1234'>\n",
      "<re.Match object; span=(183, 195), match='877-500-1234'>\n",
      "<re.Match object; span=(196, 208), match='980-555-1234'>\n",
      "<re.Match object; span=(209, 221), match='930-234-3455'>\n"
     ]
    }
   ],
   "source": [
    "# using quantifiers\n",
    "ph_num = re.compile(r'\\d{3}.\\d{3}.\\d{4}')\n",
    "\n",
    "valid_numbers = ph_num.finditer(text_to_search)\n",
    "\n",
    "for num in valid_numbers:\n",
    "    print(num)"
   ]
  },
  {
   "cell_type": "code",
   "execution_count": 6,
   "metadata": {},
   "outputs": [
    {
     "name": "stdout",
     "output_type": "stream",
     "text": [
      "<re.Match object; span=(223, 233), match='Mr. Oliver'>\n",
      "<re.Match object; span=(234, 242), match='Mr Smith'>\n",
      "<re.Match object; span=(243, 251), match='Ms Peter'>\n",
      "<re.Match object; span=(264, 276), match='Mr. Galactus'>\n",
      "<re.Match object; span=(277, 283), match='Mrs. U'>\n"
     ]
    }
   ],
   "source": [
    "# finding all with the `MR.` prefix\n",
    "pattern = re.compile(r'(Mr|Mrs|Ms)\\.?\\s[A-Z]\\w*')\n",
    "\n",
    "result = pattern.finditer(text_to_search)\n",
    "\n",
    "for r in result:\n",
    "    print(r)"
   ]
  },
  {
   "cell_type": "markdown",
   "metadata": {},
   "source": [
    "- Simple e-mail validator"
   ]
  },
  {
   "cell_type": "code",
   "execution_count": 10,
   "metadata": {},
   "outputs": [
    {
     "name": "stdout",
     "output_type": "stream",
     "text": [
      "success\n"
     ]
    }
   ],
   "source": [
    "def validate_email(email: str) -> bool:\n",
    "\n",
    "    pattern = re.compile(r\"\"\"\n",
    "                                ^                # Start of the string\n",
    "                                [a-zA-Z0-9_.+-]+   # One or more of any alphanumeric character, underscore, dot, plus, or hyphen\n",
    "                                @                # The \"@\" symbol\n",
    "                                [a-zA-Z0-9-]+      # One or more of any alphanumeric character or hyphen\n",
    "                                \\.               # The literal dot character (escaped with backslash)\n",
    "                                [a-zA-Z0-9-.]+     # One or more of any alphanumeric character, dot, or hyphen\n",
    "                                $                # End of the string\n",
    "                         \"\"\", re.VERBOSE)\n",
    "    \n",
    "    validator = pattern.search(email)\n",
    "\n",
    "    return validator\n",
    "\n",
    "\n",
    "result = validate_email('asdf@one.two.in')\n",
    "\n",
    "if result:\n",
    "    print(\"success\")\n",
    "else:\n",
    "    print(\"Enter a valid email..\")"
   ]
  },
  {
   "cell_type": "markdown",
   "metadata": {},
   "source": [
    "- Masking Email address and Phone number"
   ]
  },
  {
   "cell_type": "code",
   "execution_count": 24,
   "metadata": {},
   "outputs": [
    {
     "name": "stdout",
     "output_type": "stream",
     "text": [
      "Your Email address is a#####d@mit.edu.in\n"
     ]
    }
   ],
   "source": [
    "def mask_email(email: str) -> str:\n",
    "    if validate_email(email):\n",
    "        name, domain = email.split('@')\n",
    "        return f\"Your Email address is {name[0]}#####{name[-1]}@{domain}\"\n",
    "    \n",
    "\n",
    "print(mask_email(\"abcd@mit.edu.in\"))"
   ]
  },
  {
   "cell_type": "code",
   "execution_count": 32,
   "metadata": {},
   "outputs": [],
   "source": [
    "def mask_phone(num: str) -> str:\n",
    "\n",
    "    pattern = re.compile(\"\"\"\n",
    "                    ^                       # Start of the string\n",
    "                    (                       # Start of the first capturing group\n",
    "                    \\+?                   # Matches an optional \"+\" sign\n",
    "                    [0-9]{1,3}            # Matches one to three digits for the country code\n",
    "                    )                       # End of the first capturing group\n",
    "                    [-\\s.]?                 # Matches an optional hyphen, space, or dot as a separator\n",
    "                    \\( ?                    # Matches an optional opening parenthesis for area codes\n",
    "                    (                       # Start of the second capturing group\n",
    "                    [0-9]{1,4}            # Matches one to four digits for the area code\n",
    "                    )                       # End of the second capturing group\n",
    "                    \\)?                     # Matches an optional closing parenthesis for area codes\n",
    "                    [-\\s.]?                 # Matches an optional hyphen, space, or dot as a separator\n",
    "                    (                       # Start of the third capturing group\n",
    "                    [0-9]{1,4}            # Matches one to four digits for the first part of the phone number\n",
    "                    )                       # End of the third capturing group\n",
    "                    [-\\s.]?                 # Matches an optional hyphen, space, or dot as a separator\n",
    "                    (                       # Start of the fourth capturing group\n",
    "                    [0-9]{1,9}            # Matches one to nine digits for the final part of the phone number\n",
    "                    )                       # End of the fourth capturing group\n",
    "                    $                       # End of the string\n",
    "                    \"\"\", re.VERBOSE)\n",
    "    \n",
    "    matching = pattern.match(num)\n",
    "    if matching:\n",
    "        country_code, last_3_digit = matching.group(1), matching.group(4)\n",
    "        return f\"{country_code}#####{last_3_digit}\"\n",
    "    return \"Invalid phone number\""
   ]
  },
  {
   "cell_type": "code",
   "execution_count": 33,
   "metadata": {},
   "outputs": [
    {
     "data": {
      "text/plain": [
       "'+1#####7890'"
      ]
     },
     "execution_count": 33,
     "metadata": {},
     "output_type": "execute_result"
    }
   ],
   "source": [
    "mask_phone(\"+1-123-456-7890\")"
   ]
  }
 ],
 "metadata": {
  "kernelspec": {
   "display_name": "ML",
   "language": "python",
   "name": "python3"
  },
  "language_info": {
   "codemirror_mode": {
    "name": "ipython",
    "version": 3
   },
   "file_extension": ".py",
   "mimetype": "text/x-python",
   "name": "python",
   "nbconvert_exporter": "python",
   "pygments_lexer": "ipython3",
   "version": "3.11.5"
  },
  "orig_nbformat": 4
 },
 "nbformat": 4,
 "nbformat_minor": 2
}
