{
 "cells": [
  {
   "cell_type": "markdown",
   "metadata": {},
   "source": [
    "<h1 style=\"color:#FEC260\">Stack - Problem Set </h1>"
   ]
  },
  {
   "cell_type": "markdown",
   "metadata": {
    "slideshow": {
     "slide_type": "slide"
    }
   },
   "source": [
    "**1. Implement Stack using Linked list**"
   ]
  },
  {
   "cell_type": "code",
   "execution_count": 16,
   "metadata": {},
   "outputs": [],
   "source": [
    "class Node:\n",
    "    def __init__(self, data):\n",
    "        self.data = data\n",
    "        self.next = None\n",
    "\n",
    "\n",
    "class myStack:\n",
    "    def __init__(self):\n",
    "        self.head = None\n",
    "        self.size = 0\n",
    "\n",
    "\n",
    "    def push(self, val):\n",
    "        new_node = Node(val)\n",
    "        new_node.next = self.head\n",
    "        self.head = new_node\n",
    "        self.size += 1\n",
    "\n",
    "    def pop(self):\n",
    "        if self.head is None:\n",
    "            return float('inf')\n",
    "        result = self.head.data\n",
    "        self.head = self.head.next\n",
    "        self.size -= 1\n",
    "        return result\n",
    "    \n",
    "    \n",
    "    def peek(self):\n",
    "        if self.head is None:\n",
    "            return float('inf')\n",
    "        return self.head.data\n",
    "    \n",
    "    \n",
    "    def size_of_stack(self):\n",
    "        return self.size\n"
   ]
  },
  {
   "cell_type": "code",
   "execution_count": 17,
   "metadata": {},
   "outputs": [
    {
     "name": "stdout",
     "output_type": "stream",
     "text": [
      "40\n",
      "4\n"
     ]
    }
   ],
   "source": [
    "new_stack = myStack()\n",
    "\n",
    "new_stack.push(10)\n",
    "new_stack.push(20)\n",
    "new_stack.push(30)\n",
    "new_stack.push(40)\n",
    "\n",
    "print(new_stack.peek())\n",
    "print(new_stack.size_of_stack())\n"
   ]
  },
  {
   "cell_type": "markdown",
   "metadata": {},
   "source": [
    "**2. valid parentheses**"
   ]
  },
  {
   "cell_type": "code",
   "execution_count": 18,
   "metadata": {},
   "outputs": [],
   "source": [
    "# O(n) time and space \n",
    "def valid_parenthesis(string: str) -> bool:\n",
    "    stack = []\n",
    "    lookup = {')': '(', '}': '{', ']': '['}\n",
    "\n",
    "    for character in string:\n",
    "        if character in lookup:\n",
    "            if stack and stack[-1] == lookup[character]:\n",
    "                stack.pop()\n",
    "            else:\n",
    "                return False\n",
    "        else:\n",
    "            stack.append(character)\n",
    "\n",
    "    return not stack\n"
   ]
  },
  {
   "cell_type": "code",
   "execution_count": 19,
   "metadata": {},
   "outputs": [
    {
     "data": {
      "text/plain": [
       "True"
      ]
     },
     "execution_count": 19,
     "metadata": {},
     "output_type": "execute_result"
    }
   ],
   "source": [
    "valid_parenthesis(\"()\")"
   ]
  },
  {
   "cell_type": "markdown",
   "metadata": {},
   "source": [
    "**3. Baseball Game**"
   ]
  },
  {
   "cell_type": "code",
   "execution_count": 2,
   "metadata": {},
   "outputs": [],
   "source": [
    "def calculatePoints(operations: list[str]) -> int:\n",
    "\n",
    "    stack = []\n",
    "\n",
    "    for operator in operations:\n",
    "        if operator == \"+\":\n",
    "            stack.append(stack[-1] + stack[-2])\n",
    "        elif operator == \"D\":\n",
    "            stack.append(2 * stack[-1])\n",
    "        elif operator == \"C\":\n",
    "            stack.pop()\n",
    "        else:\n",
    "            stack.append(int(operator))\n",
    "    \n",
    "    return sum(stack)"
   ]
  },
  {
   "cell_type": "code",
   "execution_count": 3,
   "metadata": {},
   "outputs": [
    {
     "data": {
      "text/plain": [
       "30"
      ]
     },
     "execution_count": 3,
     "metadata": {},
     "output_type": "execute_result"
    }
   ],
   "source": [
    "calculatePoints([\"5\",\"2\",\"C\",\"D\",\"+\"])"
   ]
  },
  {
   "cell_type": "markdown",
   "metadata": {},
   "source": [
    "**4. Min stack**"
   ]
  },
  {
   "cell_type": "code",
   "execution_count": 5,
   "metadata": {},
   "outputs": [],
   "source": [
    "class MinStack:\n",
    "\n",
    "    def __init__(self):\n",
    "        self.stack = []\n",
    "        self.minStack = []\n",
    "    \n",
    "    def push(self, val: int) -> None:\n",
    "        self.stack.append(val)\n",
    "        val = min(val, self.minStack[-1] if self.minStack else val)\n",
    "        self.minStack.append(val)\n",
    "    \n",
    "    def pop(self) -> None:\n",
    "        self.minStack.pop()\n",
    "        self.stack.pop()\n",
    "    \n",
    "    def top(self) -> int:\n",
    "        return self.stack[-1]\n",
    "    \n",
    "    def getMin(self) -> int:\n",
    "        return self.minStack[-1]"
   ]
  },
  {
   "cell_type": "markdown",
   "metadata": {},
   "source": [
    "**5. Stack using Queues**"
   ]
  },
  {
   "cell_type": "code",
   "execution_count": 1,
   "metadata": {},
   "outputs": [],
   "source": [
    "class MyStack:\n",
    "\n",
    "    def __init__(self):\n",
    "        self.q = deque()\n",
    "        \n",
    "\n",
    "    def push(self, x: int) -> None:\n",
    "        self.q.append(x)\n",
    "        \n",
    "\n",
    "    def pop(self) -> int:\n",
    "        for _ in range(len(self.q)-1):\n",
    "            self.push(self.q.popleft())\n",
    "        return self.q.popleft()\n",
    "\n",
    "\n",
    "    def top(self) -> int:\n",
    "        return self.q[-1]\n",
    "\n",
    "    def empty(self) -> bool:\n",
    "        return len(self.q) == 0"
   ]
  },
  {
   "cell_type": "markdown",
   "metadata": {},
   "source": [
    "**6. Number of Students Unable to Eat Lunch**"
   ]
  },
  {
   "cell_type": "code",
   "execution_count": 3,
   "metadata": {},
   "outputs": [],
   "source": [
    "from collections import deque\n",
    "\n",
    "\n",
    "def countStudents(students: list[int], sandwiches: list[int]) -> int:\n",
    "    \n",
    "    students = deque(students)\n",
    "    sandwiches = deque(sandwiches)\n",
    "\n",
    "    while sandwiches:\n",
    "        student = students[0]\n",
    "        if student == sandwiches[0]:\n",
    "            students.popleft()\n",
    "            sandwiches.popleft()\n",
    "        else:\n",
    "            if sandwiches[0] not in students:\n",
    "                break\n",
    "\n",
    "            students.popleft()\n",
    "            students.append(student)\n",
    "    return len(students)"
   ]
  },
  {
   "cell_type": "code",
   "execution_count": 4,
   "metadata": {},
   "outputs": [
    {
     "data": {
      "text/plain": [
       "0"
      ]
     },
     "execution_count": 4,
     "metadata": {},
     "output_type": "execute_result"
    }
   ],
   "source": [
    "students = [1,1,0,0]\n",
    "sandwiches = [0,1,0,1]\n",
    "\n",
    "countStudents(students, sandwiches)"
   ]
  },
  {
   "cell_type": "markdown",
   "metadata": {},
   "source": [
    "7. **Next greater element to the right OR Next largest element**\n",
    "\n",
    "- We enumerate over the array, if the stack is not empty and the current element is greater than the element given by the index at the top of the stack, we pop the element from the stack and update the result array at the index given by the value we popped from the stack with the current element. Otherwise we push the current index to the stack. \n",
    "\n",
    "> Time Complexity: O(n), Each element is pushed and popped from the stack at most once."
   ]
  },
  {
   "cell_type": "code",
   "execution_count": 10,
   "metadata": {},
   "outputs": [
    {
     "data": {
      "text/plain": [
       "[3, 4, 1, 1, 2, 4, None]"
      ]
     },
     "execution_count": 10,
     "metadata": {},
     "output_type": "execute_result"
    }
   ],
   "source": [
    "def next_greater_elements(arr):\n",
    "    stack = []\n",
    "    res = [None] * len(arr)\n",
    "\n",
    "    for idx, num in enumerate(arr):\n",
    "        while stack and arr[stack[-1]] < num:\n",
    "            res[stack.pop()] = num\n",
    "        stack.append(idx)\n",
    "    return res\n",
    "\n",
    "next_greater_elements([1, 3, 0, 0, 1, 2, 4])"
   ]
  },
  {
   "cell_type": "markdown",
   "metadata": {},
   "source": [
    "8. **[Next greater element - I](https://leetcode.com/problems/next-greater-element-i/description/)**\n",
    "\n",
    "We find the next greater element for each element in the larger array and store it in a dictionary. We then iterate over the smaller array and find the next greater element for each element in the smaller array from the dictionary."
   ]
  },
  {
   "cell_type": "code",
   "execution_count": 1,
   "metadata": {},
   "outputs": [],
   "source": [
    "def next_greater_element_2(nums1: list[int], nums2: list[int]) -> list[int]:\n",
    "\n",
    "    stack = []\n",
    "    hash_map = {}\n",
    "\n",
    "    # num1 is a subset of num2\n",
    "    for num in nums2:\n",
    "\n",
    "        while stack and num > stack[-1]:\n",
    "            hash_map[stack.pop()] = num\n",
    "        stack.append(num)\n",
    "\n",
    "    while stack:\n",
    "        hash_map[stack.pop()] = -1\n",
    "    \n",
    "    return [hash_map[num] for num in nums1]"
   ]
  },
  {
   "cell_type": "code",
   "execution_count": 3,
   "metadata": {},
   "outputs": [
    {
     "data": {
      "text/plain": [
       "[3, -1]"
      ]
     },
     "execution_count": 3,
     "metadata": {},
     "output_type": "execute_result"
    }
   ],
   "source": [
    "nums1 = [2, 4]\n",
    "nums2 = [1,2,3,4]\n",
    "\n",
    "next_greater_element_2(nums1, nums2)"
   ]
  }
 ],
 "metadata": {
  "kernelspec": {
   "display_name": "Python (base-env)",
   "language": "python",
   "name": "base-env"
  },
  "language_info": {
   "codemirror_mode": {
    "name": "ipython",
    "version": 3
   },
   "file_extension": ".py",
   "mimetype": "text/x-python",
   "name": "python",
   "nbconvert_exporter": "python",
   "pygments_lexer": "ipython3",
   "version": "3.12.5"
  },
  "orig_nbformat": 4
 },
 "nbformat": 4,
 "nbformat_minor": 2
}
