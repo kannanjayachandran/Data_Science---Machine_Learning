{
 "cells": [
  {
   "cell_type": "markdown",
   "metadata": {},
   "source": [
    "<h1 style='color:#FEC260'> Stack </h1>"
   ]
  },
  {
   "cell_type": "code",
   "execution_count": 15,
   "metadata": {},
   "outputs": [],
   "source": [
    "# \n",
    "class Stack:\n",
    "    \n",
    "    \"\"\"Implementation using List\"\"\"\n",
    "\n",
    "    def __init__(self) -> None:\n",
    "        \"\"\"Initialize an empty stack.\"\"\"\n",
    "        self.stack = []\n",
    "\n",
    "    def __repr__(self) -> str:\n",
    "        return f\"Stack({self.stack})\"\n",
    "\n",
    "    def push(self, data: any) -> None:\n",
    "        \"\"\"Push an element to the top of the stack.\"\"\"\n",
    "        self.stack.append(data)\n",
    "\n",
    "    def pop(self) -> any:\n",
    "        \"\"\"Pop the top element from the stack and return it.\n",
    "        \n",
    "        Raises:\n",
    "            IndexError: If the stack is empty.\n",
    "        \"\"\"\n",
    "        if self.is_empty():\n",
    "            raise IndexError(\"pop from an empty stack\")\n",
    "        return self.stack.pop()\n",
    "\n",
    "    def peek(self) -> any:\n",
    "        \"\"\"Return the top element of the stack without removing it.\n",
    "        \n",
    "        Raises:\n",
    "            IndexError: If the stack is empty.\n",
    "        \"\"\"\n",
    "        if self.is_empty():\n",
    "            raise IndexError(\"peek from an empty stack\")\n",
    "        return self.stack[-1]\n",
    "\n",
    "    def is_empty(self) -> bool:\n",
    "        \"\"\"Check if the stack is empty.\"\"\"\n",
    "        return len(self.stack) == 0\n",
    "\n",
    "    def size(self) -> int:\n",
    "        \"\"\"Return the size of the stack.\"\"\"\n",
    "        return len(self.stack)\n",
    "\n",
    "    def clear(self) -> None:\n",
    "        \"\"\"Clear all elements from the stack.\"\"\"\n",
    "        self.stack.clear()\n"
   ]
  },
  {
   "cell_type": "code",
   "execution_count": 17,
   "metadata": {},
   "outputs": [
    {
     "name": "stdout",
     "output_type": "stream",
     "text": [
      "Is the stack empty :  True\n",
      "Stack([5, 20, 6, 30])\n",
      "Top of the stack :  30\n",
      "Size of the stack :  4\n",
      "Pop the top element :  30\n",
      "Top of the stack :  6\n",
      "Is the stack empty :  True\n"
     ]
    }
   ],
   "source": [
    "stack = Stack()\n",
    "\n",
    "print(\"Is the stack empty : \", stack.is_empty())\n",
    "\n",
    "stack.push(5)\n",
    "stack.push(20)\n",
    "stack.push(6)\n",
    "stack.push(30)\n",
    "\n",
    "print(stack)\n",
    "\n",
    "print(\"Top of the stack : \", stack.peek())\n",
    "print(\"Size of the stack : \", stack.size())\n",
    "print(\"Pop the top element : \", stack.pop())\n",
    "print(\"Top of the stack : \", stack.peek())\n",
    "\n",
    "stack.clear()\n",
    "\n",
    "print(\"Is the stack empty : \", stack.is_empty())\n"
   ]
  },
  {
   "cell_type": "code",
   "execution_count": 23,
   "metadata": {},
   "outputs": [],
   "source": [
    "# using collections\n",
    "from collections import deque\n",
    "\n",
    "class Stack2:\n",
    "    \"\"\"\n",
    "    Stack Implemented using Collections.deque\n",
    "    \"\"\"\n",
    "    def __init__(self):\n",
    "        self.stack = deque()\n",
    "\n",
    "    def __repr__(self) -> str:\n",
    "        return f\"Stack({list(self.stack)})\"\n",
    "\n",
    "    def is_empty(self):\n",
    "        return len(self.stack) == 0\n",
    "\n",
    "    def push(self, item):\n",
    "        self.stack.append(item)\n",
    "\n",
    "    def pop(self):\n",
    "        if not self.is_empty():\n",
    "            return self.stack.pop()\n",
    "        else:\n",
    "            raise IndexError(\"Stack Underflow : Stack is empty !\")\n",
    "\n",
    "    def peek(self):\n",
    "        if not self.is_empty():\n",
    "            return self.stack[-1]\n",
    "        else:\n",
    "            raise IndexError(\"Stack Underflow : Stack is empty !\")\n",
    "\n",
    "    def size(self):\n",
    "        return len(self.stack)\n",
    "    \n",
    "    def clear(self):\n",
    "        self.stack.clear()"
   ]
  },
  {
   "cell_type": "code",
   "execution_count": 26,
   "metadata": {},
   "outputs": [
    {
     "name": "stdout",
     "output_type": "stream",
     "text": [
      "Is the stack empty :  True\n",
      "Stack([5, 20, 6, 30])\n",
      "Top of the stack :  30\n",
      "Size of the stack :  4\n",
      "Pop the top element :  30\n",
      "Top of the stack :  6\n",
      "Is the stack empty :  True\n"
     ]
    }
   ],
   "source": [
    "stack_deque = Stack2()\n",
    "\n",
    "print(\"Is the stack empty : \", stack_deque.is_empty())\n",
    "\n",
    "stack_deque.push(5)\n",
    "stack_deque.push(20)\n",
    "stack_deque.push(6)\n",
    "stack_deque.push(30)\n",
    "\n",
    "print(stack_deque)\n",
    "\n",
    "print(\"Top of the stack : \", stack_deque.peek())\n",
    "print(\"Size of the stack : \", stack_deque.size())\n",
    "print(\"Pop the top element : \", stack_deque.pop())\n",
    "print(\"Top of the stack : \", stack_deque.peek())\n",
    "\n",
    "stack_deque.clear()\n",
    "\n",
    "print(\"Is the stack empty : \", stack_deque.is_empty())"
   ]
  }
 ],
 "metadata": {
  "kernelspec": {
   "display_name": "Python (base-env)",
   "language": "python",
   "name": "base-env"
  },
  "language_info": {
   "codemirror_mode": {
    "name": "ipython",
    "version": 3
   },
   "file_extension": ".py",
   "mimetype": "text/x-python",
   "name": "python",
   "nbconvert_exporter": "python",
   "pygments_lexer": "ipython3",
   "version": "3.12.5"
  },
  "orig_nbformat": 4
 },
 "nbformat": 4,
 "nbformat_minor": 2
}
