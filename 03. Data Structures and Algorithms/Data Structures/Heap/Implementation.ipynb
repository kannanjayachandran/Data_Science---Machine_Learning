{
 "cells": [
  {
   "cell_type": "markdown",
   "metadata": {},
   "source": [
    "<h1 style=\"color:#FEC260\">Heap </h1>\n",
    "\n",
    "**Min heap**"
   ]
  },
  {
   "cell_type": "code",
   "execution_count": 1,
   "metadata": {},
   "outputs": [
    {
     "name": "stdout",
     "output_type": "stream",
     "text": [
      "2\n",
      "3\n",
      "5\n",
      "10\n"
     ]
    }
   ],
   "source": [
    "import heapq\n",
    "\n",
    "minHeap = []\n",
    "heapq.heappush(minHeap, 10)\n",
    "heapq.heappush(minHeap, 2)\n",
    "heapq.heappush(minHeap, 5)\n",
    "heapq.heappush(minHeap, 3)\n",
    "\n",
    "# min element will always be at the 0-th index\n",
    "while len(minHeap):\n",
    "    print(heapq.heappop(minHeap))"
   ]
  },
  {
   "cell_type": "code",
   "execution_count": 3,
   "metadata": {},
   "outputs": [
    {
     "name": "stdout",
     "output_type": "stream",
     "text": [
      "1\n",
      "2\n",
      "3\n",
      "4\n",
      "5\n"
     ]
    }
   ],
   "source": [
    "# heap using a list\n",
    "arr = [5, 4, 3, 2, 1]\n",
    "heapq.heapify(arr)\n",
    "\n",
    "while len(arr):\n",
    "    print(heapq.heappop(arr))"
   ]
  },
  {
   "cell_type": "markdown",
   "metadata": {},
   "source": [
    "**Max heap**"
   ]
  },
  {
   "cell_type": "code",
   "execution_count": 2,
   "metadata": {},
   "outputs": [
    {
     "name": "stdout",
     "output_type": "stream",
     "text": [
      "10\n",
      "9\n",
      "7\n",
      "6\n"
     ]
    }
   ],
   "source": [
    "# Python doesn't have a max heap by default.\n",
    "# One workaround is to use min heap and negate -\n",
    "# the values when inserting and popping\n",
    "import heapq\n",
    "\n",
    "maxHeap = []\n",
    "\n",
    "heapq.heappush(maxHeap, -6)\n",
    "heapq.heappush(maxHeap, -10)\n",
    "heapq.heappush(maxHeap, -7)\n",
    "heapq.heappush(maxHeap, -9)\n",
    "\n",
    "while len(maxHeap):\n",
    "    print(-1 * heapq.heappop(maxHeap))"
   ]
  },
  {
   "cell_type": "markdown",
   "metadata": {},
   "source": [
    "### Priority Queue"
   ]
  },
  {
   "cell_type": "code",
   "execution_count": 5,
   "metadata": {},
   "outputs": [],
   "source": [
    "class PriorityQueue:\n",
    "\n",
    "    def __init__(self):\n",
    "        self.heap = [0]     # dummy value\n",
    "\n",
    "    def push(self, val):\n",
    "        self.heap.append(val)\n",
    "        i = len(self.heap) - 1 # index which we just inserted\n",
    "\n",
    "        # percolate up\n",
    "        while self.heap[i] < self.heap[i//2]:\n",
    "            self.heap[i], self.heap[i//2] = self.heap[i//2], self.heap[i]\n",
    "            i //= 2\n",
    "\n",
    "    def pop(self):\n",
    "\n",
    "        if len(self.heap) == 1: # cause we have the dummy value at the 0th index\n",
    "            return None\n",
    "        if len(self.heap) == 2:\n",
    "            return self.heap.pop(1)\n",
    "\n",
    "        res = self.heap.pop()\n",
    "        # moving last value to root\n",
    "        self.heap[1] = self.heap.pop()\n",
    "        i = 1   # setting our pointer to the root node\n",
    "\n",
    "        # percolate down\n",
    "        while 2*i < len(self.heap): # while we have at-least one left child\n",
    "            if 2*i + 1 < len(self.heap) and self.heap[2*i+1] < self.heap[2*i] and self.heap[i] > self.heap[2*i+1]:\n",
    "                # First one checks if we have a right child\n",
    "                # second one checks if the right child is less than the second child\n",
    "                # Third one checks if the root is greater than the current node after we swapped the original root with last element\n",
    "                # If all the above conditions works, we swap the right child\n",
    "                self.heap[i], self.heap[2*i+1] = self.heap[2*i+1], self.heap[i]\n",
    "                i = 2*i + 1\n",
    "            elif self.heap[i] > self.heap[2*i]:\n",
    "                # swap with left child\n",
    "                self.heap[i], self.heap[2*i] = self.heap[2*i], self.heap[i]\n",
    "                i *= 2\n",
    "            else:\n",
    "                break\n",
    "        return res\n",
    "    \n",
    "    def heapify(self, arr: list[int]):\n",
    "        \n",
    "        arr.append(arr[0])  # appending the first value to last\n",
    "        \n",
    "        self.heap = arr\n",
    "        curr_idx = (len(self.heap) - 1) // 2\n",
    "\n",
    "        while curr_idx > 0:\n",
    "            # percolate Up\n",
    "            i = curr_idx\n",
    "\n",
    "            while 2*i < len(self.heap):\n",
    "                if 2*i + 1 < len(self.heap) and self.heap[2*i+1] < self.heap[2*i] and self.heap[i] > self.heap[2*i+1]:\n",
    "                    self.heap[i], self.heap[2*i+1] = self.heap[2*i+1], self.heap[i]\n",
    "                    i = 2*i + 1\n",
    "                elif self.heap[i] > self.heap[2*i]:\n",
    "                    # swap with left child\n",
    "                    self.heap[i], self.heap[2*i] = self.heap[2*i], self.heap[i]\n",
    "                    i *= 2\n",
    "                else:\n",
    "                    break\n",
    "            curr_idx -= 1"
   ]
  },
  {
   "cell_type": "code",
   "execution_count": 6,
   "metadata": {},
   "outputs": [
    {
     "name": "stdout",
     "output_type": "stream",
     "text": [
      "8\n",
      "7\n",
      "8\n",
      "10\n"
     ]
    }
   ],
   "source": [
    "pq = PriorityQueue()\n",
    "\n",
    "pq.push(5)\n",
    "pq.push(10)\n",
    "pq.push(8)\n",
    "pq.push(3)\n",
    "pq.push(7)\n",
    "pq.push(4)\n",
    "pq.push(8)\n",
    "\n",
    "print(pq.pop())\n",
    "print(pq.pop())\n",
    "print(pq.pop())\n",
    "print(pq.pop())\n"
   ]
  },
  {
   "cell_type": "markdown",
   "metadata": {},
   "source": [
    "**Heapify**"
   ]
  },
  {
   "cell_type": "code",
   "execution_count": 11,
   "metadata": {},
   "outputs": [],
   "source": [
    "input_arr = [60, 50, 80, 40, 30, 10, 70, 20, 90]\n",
    "\n",
    "pq.heapify(input_arr)"
   ]
  },
  {
   "cell_type": "code",
   "execution_count": 12,
   "metadata": {},
   "outputs": [
    {
     "data": {
      "text/plain": [
       "[60, 10, 30, 20, 50, 80, 70, 40, 90, 60]"
      ]
     },
     "execution_count": 12,
     "metadata": {},
     "output_type": "execute_result"
    }
   ],
   "source": [
    "input_arr"
   ]
  }
 ],
 "metadata": {
  "kernelspec": {
   "display_name": "base",
   "language": "python",
   "name": "python3"
  },
  "language_info": {
   "codemirror_mode": {
    "name": "ipython",
    "version": 3
   },
   "file_extension": ".py",
   "mimetype": "text/x-python",
   "name": "python",
   "nbconvert_exporter": "python",
   "pygments_lexer": "ipython3",
   "version": "3.11.9"
  }
 },
 "nbformat": 4,
 "nbformat_minor": 2
}
