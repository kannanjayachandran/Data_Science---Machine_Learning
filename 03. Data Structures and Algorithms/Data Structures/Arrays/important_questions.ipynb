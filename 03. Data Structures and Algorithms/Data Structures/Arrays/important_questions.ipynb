{
 "cells": [
  {
   "cell_type": "markdown",
   "metadata": {},
   "source": [
    "# Array & Hashing\n",
    "\n",
    "- Two pointer\n",
    "\n",
    "- Sliding window"
   ]
  },
  {
   "cell_type": "markdown",
   "metadata": {},
   "source": [
    "**1. Duplicate Integer**"
   ]
  },
  {
   "cell_type": "code",
   "execution_count": 11,
   "metadata": {},
   "outputs": [
    {
     "data": {
      "text/plain": [
       "True"
      ]
     },
     "execution_count": 11,
     "metadata": {},
     "output_type": "execute_result"
    }
   ],
   "source": [
    "def contains_duplicates(arr):\n",
    "\n",
    "    seen = set()\n",
    "\n",
    "    for num in arr:\n",
    "        if num in seen:\n",
    "            return True\n",
    "        \n",
    "        seen.add(num)\n",
    "    return False\n",
    "\n",
    "\n",
    "contains_duplicates([1, 2, 3, 3])"
   ]
  },
  {
   "cell_type": "markdown",
   "metadata": {},
   "source": [
    "**2. Is Anagram**"
   ]
  },
  {
   "cell_type": "code",
   "execution_count": 7,
   "metadata": {},
   "outputs": [
    {
     "data": {
      "text/plain": [
       "True"
      ]
     },
     "execution_count": 7,
     "metadata": {},
     "output_type": "execute_result"
    }
   ],
   "source": [
    "def is_anagram(s1, s2):\n",
    "\n",
    "    if len(s1) != len(s2):\n",
    "        return False\n",
    "    \n",
    "    char_count = {}\n",
    "\n",
    "    # counting occurrence of letters in s1\n",
    "    for char in s1:\n",
    "        char_count[char] = char_count.get(char, 0) + 1\n",
    "\n",
    "    for char in s2:\n",
    "        if char not in char_count or char_count[char] == 0:\n",
    "            return False\n",
    "        char_count[char] -= 1\n",
    "    \n",
    "    return True\n",
    "\n",
    "\n",
    "is_anagram('not', 'ton')"
   ]
  },
  {
   "cell_type": "code",
   "execution_count": 9,
   "metadata": {},
   "outputs": [
    {
     "data": {
      "text/plain": [
       "True"
      ]
     },
     "execution_count": 9,
     "metadata": {},
     "output_type": "execute_result"
    }
   ],
   "source": [
    "from collections import Counter\n",
    "\n",
    "def is_anagram_pythonic(s1, s2):\n",
    "\n",
    "    if len(s1) != len(s2):\n",
    "        return False\n",
    "\n",
    "    return Counter(s1) == Counter(s2)\n",
    "    \n",
    "\n",
    "is_anagram_pythonic('not', 'ton')"
   ]
  },
  {
   "cell_type": "markdown",
   "metadata": {},
   "source": [
    "**3. Two Sum**"
   ]
  },
  {
   "cell_type": "code",
   "execution_count": 8,
   "metadata": {},
   "outputs": [
    {
     "data": {
      "text/plain": [
       "[0, 1]"
      ]
     },
     "execution_count": 8,
     "metadata": {},
     "output_type": "execute_result"
    }
   ],
   "source": [
    "def two_sum(nums, target):\n",
    "    lookup = {}\n",
    "\n",
    "    for index, num in enumerate(nums):\n",
    "        complement = target - num\n",
    "\n",
    "        if complement in lookup:\n",
    "            return [lookup[complement], index]\n",
    "        \n",
    "        lookup[num] = index\n",
    "\n",
    "    return None\n",
    "\n",
    "\n",
    "two_sum([3,4,5,6], 7)"
   ]
  },
  {
   "cell_type": "markdown",
   "metadata": {},
   "source": [
    "**4. Anagram Group**"
   ]
  },
  {
   "cell_type": "code",
   "execution_count": 5,
   "metadata": {},
   "outputs": [
    {
     "name": "stdout",
     "output_type": "stream",
     "text": [
      "['act', 'cat'] ['pots', 'tops', 'stop'] ['hat']\n"
     ]
    }
   ],
   "source": [
    "# O(n * K) : n -> number of strings and k -> average length of a string\n",
    "from collections import defaultdict\n",
    "\n",
    "\n",
    "def group_anagrams(words):\n",
    "\n",
    "    result = defaultdict(list)\n",
    "\n",
    "    for word in words:\n",
    "        # Initialize word count for 26 letters\n",
    "        char_count = [0] * 26\n",
    "\n",
    "        # Count frequency of each character in the word\n",
    "        for char in word:\n",
    "            char_count[ord(char) - ord(\"a\")] += 1\n",
    "\n",
    "        # use tuple(counts) as the key for anagram counting\n",
    "        result[tuple(char_count)].append(word)\n",
    "\n",
    "    return result.values()\n",
    "\n",
    "\n",
    "print(*group_anagrams([\"act\", \"pots\", \"tops\", \"cat\", \"stop\", \"hat\"]))"
   ]
  },
  {
   "cell_type": "markdown",
   "metadata": {},
   "source": [
    "**5. Top K frequent elements**"
   ]
  },
  {
   "cell_type": "code",
   "execution_count": 4,
   "metadata": {},
   "outputs": [
    {
     "data": {
      "text/plain": [
       "[1, 4, 2]"
      ]
     },
     "execution_count": 4,
     "metadata": {},
     "output_type": "execute_result"
    }
   ],
   "source": [
    "# Using Bucket Sort | O(n) time complexity\n",
    "from collections import defaultdict\n",
    "\n",
    "\n",
    "def count_top_k(nums, k):\n",
    "\n",
    "    count = defaultdict(int)\n",
    "    frequency = [[] for _ in range(len(nums) + 1)]\n",
    "\n",
    "    # count the frequency of each element\n",
    "    for num in nums:\n",
    "        count[num] += 1\n",
    "\n",
    "    # place numbers in frequency buckets\n",
    "    for num, freq in count.items():\n",
    "        frequency[freq].append(num)\n",
    "    \n",
    "    res = []\n",
    "    # Iterate from the largest bucket downwards\n",
    "    for i in reversed(range(len(frequency))):\n",
    "        # Iterate over each number in the bucket\n",
    "        for num in frequency[i]:\n",
    "            res.append(num)\n",
    "            if len(res) == k:\n",
    "                return res \n",
    "            \n",
    "\n",
    "count_top_k([1, 2, 1, 2, 1, 2, 1, 3, 4, 4, 4, 4], 3)"
   ]
  },
  {
   "cell_type": "code",
   "execution_count": 6,
   "metadata": {},
   "outputs": [
    {
     "data": {
      "text/plain": [
       "[1, 4, 2]"
      ]
     },
     "execution_count": 6,
     "metadata": {},
     "output_type": "execute_result"
    }
   ],
   "source": [
    "from collections import Counter\n",
    "\n",
    "\n",
    "def count_top_k_pythonic(nums, k):\n",
    "    return [num for num, _ in Counter(nums).most_common(k)]\n",
    "\n",
    "\n",
    "count_top_k_pythonic([1, 2, 1, 2, 1, 2, 1, 3, 4, 4, 4, 4], 3)"
   ]
  },
  {
   "cell_type": "markdown",
   "metadata": {},
   "source": [
    "**6. K-th largest element in an array**"
   ]
  },
  {
   "cell_type": "code",
   "execution_count": 1,
   "metadata": {},
   "outputs": [
    {
     "data": {
      "text/plain": [
       "4"
      ]
     },
     "execution_count": 1,
     "metadata": {},
     "output_type": "execute_result"
    }
   ],
   "source": [
    "# using min-heap(priority queue)\n",
    "# O(n log k) : since we are maintaining a heap of size k and inserting/removing elements takes log k time.\n",
    "# O(k) : For storing the heap\n",
    "import heapq\n",
    "\n",
    "\n",
    "def find_k_th_largest_using_heap(nums, k):\n",
    "    \n",
    "    min_heap = []\n",
    "\n",
    "    for num in nums:\n",
    "        heapq.heappush(min_heap, num)   # Push current element\n",
    "\n",
    "        if len(min_heap) > k:\n",
    "            heapq.heappop(min_heap)     # Pop smallest element\n",
    "    \n",
    "    # root of the element is the smallest element\n",
    "    return min_heap[0]\n",
    "\n",
    "\n",
    "find_k_th_largest_using_heap([3, 2, 3, 1, 2, 4, 5, 5, 6], 4)"
   ]
  },
  {
   "cell_type": "code",
   "execution_count": null,
   "metadata": {},
   "outputs": [],
   "source": [
    "def findKthLargest(nums, k):\n",
    "\n",
    "    k = len(nums) - k\n",
    "\n",
    "    def quickSelect(l, r):\n",
    "        piv, p = nums[r], l\n",
    "        for i in range(l, r):\n",
    "            if nums[i] <= piv:\n",
    "                nums[p], nums[i] = nums[i], nums[p]\n",
    "                p += 1\n",
    "        nums[p], nums[r] = nums[r], nums[p]\n",
    "        if p > k:\n",
    "            return quickSelect(l, p-1)\n",
    "        elif p < k:\n",
    "            return quickSelect(p+1, r)\n",
    "        else:\n",
    "            return nums[p]\n",
    "    return quickSelect(0, len(nums) -1)"
   ]
  },
  {
   "cell_type": "markdown",
   "metadata": {},
   "source": [
    "**7. Encode - Decode String**"
   ]
  },
  {
   "cell_type": "code",
   "execution_count": 4,
   "metadata": {},
   "outputs": [
    {
     "name": "stdout",
     "output_type": "stream",
     "text": [
      "['neet', 'code', 'love'] == 4#neet4#code4#love == ['neet', 'code', 'love']\n"
     ]
    }
   ],
   "source": [
    "def solution(strs: list[str]) -> None:\n",
    "\n",
    "    def encode(strs: list[str]) -> str:\n",
    "        \n",
    "        res = \"\"\n",
    "        for string in strs:\n",
    "            res += str(len(string)) + \"#\" + string\n",
    "        return res\n",
    "    \n",
    "    def decode (enc_string: str) -> list[str]:\n",
    "        \n",
    "        res, i = [], 0\n",
    "\n",
    "        while i < len(enc_string):\n",
    "            j = i\n",
    "            while enc_string[j] != \"#\":\n",
    "                j += 1\n",
    "            length  = int(enc_string[i:j])\n",
    "            res.append(enc_string[j + 1 : j + 1 + length])\n",
    "            i = j + 1 + length\n",
    "        return res\n",
    "    \n",
    "    encoded = encode(strs)\n",
    "    print(f'{strs} == {encoded} == {decode(encoded)}')\n",
    "\n",
    "solution([\"neet\", \"code\", \"love\"])"
   ]
  },
  {
   "cell_type": "markdown",
   "metadata": {},
   "source": [
    "**8. Product of array except self**"
   ]
  },
  {
   "cell_type": "code",
   "execution_count": 7,
   "metadata": {},
   "outputs": [
    {
     "data": {
      "text/plain": [
       "[24, 12, 8, 6]"
      ]
     },
     "execution_count": 7,
     "metadata": {},
     "output_type": "execute_result"
    }
   ],
   "source": [
    "def product_except_self(nums):\n",
    "\n",
    "    res = [1] * len(nums)\n",
    "\n",
    "    prefix = 1\n",
    "    for i in range(len(nums)):\n",
    "        res[i] = prefix\n",
    "        prefix *= nums[i]\n",
    "    \n",
    "    postfix = 1\n",
    "    for i in range(len(nums) -1, -1, -1):\n",
    "        res[i] *= postfix\n",
    "        postfix *= nums[i]\n",
    "    return res\n",
    "\n",
    "\n",
    "product_except_self([1, 2, 3, 4])"
   ]
  },
  {
   "cell_type": "markdown",
   "metadata": {},
   "source": [
    "**9. Valid Sudoku**"
   ]
  },
  {
   "cell_type": "code",
   "execution_count": 8,
   "metadata": {},
   "outputs": [
    {
     "data": {
      "text/plain": [
       "True"
      ]
     },
     "execution_count": 8,
     "metadata": {},
     "output_type": "execute_result"
    }
   ],
   "source": [
    "from collections import defaultdict\n",
    "\n",
    "\n",
    "def valid_sudoku(board: list[list[str]]) -> bool:\n",
    "\n",
    "    columns = defaultdict(set)\n",
    "    rows = defaultdict(set)\n",
    "    squares =defaultdict(set)   # Key for squares will be (r // 3, c // 3)\n",
    "\n",
    "    for r in range(9):\n",
    "        for c in range(9):\n",
    "            if board[r][c] == \".\":  # skip empty cells\n",
    "                continue\n",
    "\n",
    "            # check for duplicates in current row, column, or square\n",
    "            if (board[r][c] in rows[r] or\n",
    "                board[r][c] in columns[c] or\n",
    "                board[r][c] in squares[r//3, c//3]):\n",
    "                return False  # duplicate found, board is invalid\n",
    "            \n",
    "            # add the current number to the respective set\n",
    "            columns[c].add(board[r][c])\n",
    "            rows[r].add(board[r][c])\n",
    "            squares[(r//3, c//3)].add(board[r][c])\n",
    "\n",
    "    return True  # No duplicates found, board is valid\n",
    "\n",
    "\n",
    "board = [[\"1\",\"2\",\".\",\".\",\"3\",\".\",\".\",\".\",\".\"],\n",
    " [\"4\",\".\",\".\",\"5\",\".\",\".\",\".\",\".\",\".\"],\n",
    " [\".\",\"9\",\"8\",\".\",\".\",\".\",\".\",\".\",\"3\"],\n",
    " [\"5\",\".\",\".\",\".\",\"6\",\".\",\".\",\".\",\"4\"],\n",
    " [\".\",\".\",\".\",\"8\",\".\",\"3\",\".\",\".\",\"5\"],\n",
    " [\"7\",\".\",\".\",\".\",\"2\",\".\",\".\",\".\",\"6\"],\n",
    " [\".\",\".\",\".\",\".\",\".\",\".\",\"2\",\".\",\".\"],\n",
    " [\".\",\".\",\".\",\"4\",\"1\",\"9\",\".\",\".\",\"8\"],\n",
    " [\".\",\".\",\".\",\".\",\"8\",\".\",\".\",\"7\",\"9\"]]\n",
    "\n",
    "valid_sudoku(board)"
   ]
  },
  {
   "cell_type": "markdown",
   "metadata": {},
   "source": [
    "**10. Longest consecutive sequence**"
   ]
  },
  {
   "cell_type": "code",
   "execution_count": 5,
   "metadata": {},
   "outputs": [
    {
     "data": {
      "text/plain": [
       "4"
      ]
     },
     "execution_count": 5,
     "metadata": {},
     "output_type": "execute_result"
    }
   ],
   "source": [
    "def longest_consecutive_sequence(nums):\n",
    "    num_set = set(nums)\n",
    "    longest = 0\n",
    "\n",
    "    for num in nums:\n",
    "        # Start counting only if it's the beginning of a sequence\n",
    "        if num - 1 not in num_set:\n",
    "            sequence_length = 0\n",
    "            while num + sequence_length in num_set:\n",
    "                sequence_length += 1\n",
    "            longest = max(sequence_length, longest)\n",
    "            \n",
    "    return longest\n",
    "\n",
    "\n",
    "longest_consecutive_sequence([100, 4, 200, 1, 2, 3])"
   ]
  },
  {
   "cell_type": "markdown",
   "metadata": {},
   "source": [
    "### Two pointers"
   ]
  },
  {
   "cell_type": "markdown",
   "metadata": {},
   "source": [
    "**11. Valid palindrome**"
   ]
  },
  {
   "cell_type": "code",
   "execution_count": 6,
   "metadata": {},
   "outputs": [
    {
     "data": {
      "text/plain": [
       "True"
      ]
     },
     "execution_count": 6,
     "metadata": {},
     "output_type": "execute_result"
    }
   ],
   "source": [
    "def valid_palindrome_builtin(string):\n",
    "    # res = \"\"\n",
    "    # for char in string:\n",
    "    #     if char.isalnum():\n",
    "    #         res += char.lower()\n",
    "    \n",
    "    # return res == res[::-1]\n",
    "\n",
    "    filtered_characters = ''.join([char.lower() for char in string if char.isalnum()])\n",
    "\n",
    "    return filtered_characters == filtered_characters[::-1]\n",
    "\n",
    "\n",
    "valid_palindrome_builtin('A man, a plan, a canal: panama')"
   ]
  },
  {
   "cell_type": "code",
   "execution_count": 4,
   "metadata": {},
   "outputs": [
    {
     "data": {
      "text/plain": [
       "True"
      ]
     },
     "execution_count": 4,
     "metadata": {},
     "output_type": "execute_result"
    }
   ],
   "source": [
    "def valid_palindrome(string: str) -> bool:\n",
    "    \n",
    "    left, right = 0, len(string) - 1\n",
    "\n",
    "    while left < right:\n",
    "\n",
    "        # eliminate non-alphanumeric values\n",
    "        while left < right and not is_alpha_num(string[left]):\n",
    "            left += 1\n",
    "\n",
    "        while left < right and not is_alpha_num(string[right]):\n",
    "            right -= 1\n",
    "        \n",
    "        if string[left].lower() != string[right].lower():\n",
    "            return False\n",
    "        left += 1\n",
    "        right -= 1\n",
    "    return True\n",
    "\n",
    "\n",
    "def is_alpha_num(char: str):\n",
    "    return (ord('A')<=ord(char)<=ord('Z') or\n",
    "            ord('a')<=ord(char)<=ord('z') or\n",
    "            ord('0')<= ord(char)<=ord('9'))\n",
    "\n",
    "\n",
    "valid_palindrome(\"A man, a plan, a canal, Panama\")"
   ]
  },
  {
   "cell_type": "markdown",
   "metadata": {},
   "source": [
    "**12. Two sum II**"
   ]
  },
  {
   "cell_type": "code",
   "execution_count": 2,
   "metadata": {},
   "outputs": [
    {
     "data": {
      "text/plain": [
       "[3, 4]"
      ]
     },
     "execution_count": 2,
     "metadata": {},
     "output_type": "execute_result"
    }
   ],
   "source": [
    "def two_sum_two(nums, target):\n",
    "\n",
    "    left, right = 0, len(nums) - 1\n",
    "\n",
    "    while left < right:\n",
    "        curr_sum = nums[left] + nums[right]\n",
    "\n",
    "        if curr_sum > target:\n",
    "            right -= 1\n",
    "        elif curr_sum < target:\n",
    "            left += 1\n",
    "        else:\n",
    "            return [left + 1, right + 1]\n",
    "\n",
    "    return []\n",
    "\n",
    "\n",
    "two_sum_two([1, 3, 4, 5, 7, 10, 11], 9)"
   ]
  },
  {
   "cell_type": "markdown",
   "metadata": {},
   "source": [
    "**13. Three sum**"
   ]
  },
  {
   "cell_type": "code",
   "execution_count": 1,
   "metadata": {},
   "outputs": [
    {
     "data": {
      "text/plain": [
       "[[-1, -1, 2], [-1, 0, 1]]"
      ]
     },
     "execution_count": 1,
     "metadata": {},
     "output_type": "execute_result"
    }
   ],
   "source": [
    "def three_sum(nums):\n",
    "    res = []\n",
    "\n",
    "    # sort the input array\n",
    "    nums.sort()\n",
    "\n",
    "    for idx, num in enumerate(nums):\n",
    "        if idx > 0 and num == nums[idx-1]:\n",
    "            continue    # to avoid duplicates\n",
    "\n",
    "        # Below code would be executed for unique first values only\n",
    "        # two sum + two sum II problem logic\n",
    "        left, right = idx + 1, len(nums) - 1\n",
    "        while left < right:\n",
    "            total_sum = num + nums[left] + nums[right]\n",
    "\n",
    "            if total_sum > 0:\n",
    "                right -= 1\n",
    "            elif total_sum < 0:\n",
    "                left += 1\n",
    "            else:\n",
    "                res.append([num, nums[left], nums[right]])\n",
    "                left += 1\n",
    "                right -= 1  # Again moving both pointers to avoid duplicates\n",
    "\n",
    "                # once we select a triplet, we have to check for duplicates.\n",
    "                while left < right and nums[left] == nums[left - 1]:\n",
    "                    left += 1\n",
    "                while left < right and nums[right] == nums[right + 1]:\n",
    "                    right -= 1\n",
    "    return res\n",
    "\n",
    "\n",
    "three_sum([-4, -1, -1, 0, 1, 1, 2]) "
   ]
  },
  {
   "cell_type": "markdown",
   "metadata": {},
   "source": [
    "**14. Container with most water**"
   ]
  },
  {
   "cell_type": "code",
   "execution_count": 4,
   "metadata": {},
   "outputs": [
    {
     "data": {
      "text/plain": [
       "49"
      ]
     },
     "execution_count": 4,
     "metadata": {},
     "output_type": "execute_result"
    }
   ],
   "source": [
    "def max_water(heights):\n",
    "\n",
    "    res = 0\n",
    "    left, right = 0, len(heights)-1\n",
    "    while left < right:\n",
    "        area = (right-left) * min(heights[left], heights[right])\n",
    "        res = max(res, area)\n",
    "        if heights[left] < heights[right]:\n",
    "            left += 1\n",
    "        else:\n",
    "            right -= 1\n",
    "    return res\n",
    "\n",
    "max_water([1, 8, 6, 2, 5, 4, 8, 3, 7])"
   ]
  },
  {
   "cell_type": "markdown",
   "metadata": {},
   "source": [
    "**15. Trapping rain water**"
   ]
  },
  {
   "cell_type": "code",
   "execution_count": null,
   "metadata": {},
   "outputs": [],
   "source": [
    "def rain_water(nums):\n",
    "    res = 0\n",
    "\n",
    "    left, right = 0, len(nums) -1\n",
    "    left_max, right_max = nums[left], nums[right]\n",
    "\n",
    "    while left < right:\n",
    "        if left_max < right_max:\n",
    "            left += 1\n",
    "            left_max = max(left_max, nums[left])\n",
    "            res += left_max - nums[left]\n",
    "        else:\n",
    "            right -= 1\n",
    "            right_max = max(right_max, nums[right])\n",
    "            res += right_max - nums[right]\n",
    "\n",
    "    return res"
   ]
  }
 ],
 "metadata": {
  "kernelspec": {
   "display_name": "Python (base-env)",
   "language": "python",
   "name": "base-env"
  },
  "language_info": {
   "codemirror_mode": {
    "name": "ipython",
    "version": 3
   },
   "file_extension": ".py",
   "mimetype": "text/x-python",
   "name": "python",
   "nbconvert_exporter": "python",
   "pygments_lexer": "ipython3",
   "version": "3.12.5"
  }
 },
 "nbformat": 4,
 "nbformat_minor": 2
}
