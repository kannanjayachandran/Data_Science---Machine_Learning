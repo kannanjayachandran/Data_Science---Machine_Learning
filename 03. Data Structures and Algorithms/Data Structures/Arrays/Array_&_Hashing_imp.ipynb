{
 "cells": [
  {
   "cell_type": "markdown",
   "metadata": {},
   "source": [
    "**1. Duplicate Integer**"
   ]
  },
  {
   "cell_type": "code",
   "execution_count": 11,
   "metadata": {},
   "outputs": [
    {
     "data": {
      "text/plain": [
       "True"
      ]
     },
     "execution_count": 11,
     "metadata": {},
     "output_type": "execute_result"
    }
   ],
   "source": [
    "def contains_duplicates(arr):\n",
    "\n",
    "    seen = set()\n",
    "\n",
    "    for num in arr:\n",
    "        if num in seen:\n",
    "            return True\n",
    "        \n",
    "        seen.add(num)\n",
    "    return False\n",
    "\n",
    "\n",
    "contains_duplicates([1, 2, 3, 3])"
   ]
  },
  {
   "cell_type": "markdown",
   "metadata": {},
   "source": [
    "**2. Is Anagram**"
   ]
  },
  {
   "cell_type": "code",
   "execution_count": 7,
   "metadata": {},
   "outputs": [
    {
     "data": {
      "text/plain": [
       "True"
      ]
     },
     "execution_count": 7,
     "metadata": {},
     "output_type": "execute_result"
    }
   ],
   "source": [
    "def is_anagram(s1, s2):\n",
    "\n",
    "    if len(s1) != len(s2):\n",
    "        return False\n",
    "    \n",
    "    char_count = {}\n",
    "\n",
    "    # counting occurrence of letters in s1\n",
    "    for char in s1:\n",
    "        char_count[char] = char_count.get(char, 0) + 1\n",
    "\n",
    "    for char in s2:\n",
    "        if char not in char_count or char_count[char] == 0:\n",
    "            return False\n",
    "        char_count[char] -= 1\n",
    "    \n",
    "    return True\n",
    "\n",
    "\n",
    "is_anagram('not', 'ton')"
   ]
  },
  {
   "cell_type": "code",
   "execution_count": 9,
   "metadata": {},
   "outputs": [
    {
     "data": {
      "text/plain": [
       "True"
      ]
     },
     "execution_count": 9,
     "metadata": {},
     "output_type": "execute_result"
    }
   ],
   "source": [
    "from collections import Counter\n",
    "\n",
    "def is_anagram_pythonic(s1, s2):\n",
    "\n",
    "    if len(s1) != len(s2):\n",
    "        return False\n",
    "\n",
    "    return Counter(s1) == Counter(s2)\n",
    "    \n",
    "\n",
    "is_anagram_pythonic('not', 'ton')"
   ]
  },
  {
   "cell_type": "markdown",
   "metadata": {},
   "source": [
    "**3. Two Sum**"
   ]
  },
  {
   "cell_type": "code",
   "execution_count": 8,
   "metadata": {},
   "outputs": [
    {
     "data": {
      "text/plain": [
       "[0, 1]"
      ]
     },
     "execution_count": 8,
     "metadata": {},
     "output_type": "execute_result"
    }
   ],
   "source": [
    "def two_sum(nums, target):\n",
    "    lookup = {}\n",
    "\n",
    "    for index, num in enumerate(nums):\n",
    "        complement = target - num\n",
    "\n",
    "        if complement in lookup:\n",
    "            return [lookup[complement], index]\n",
    "        \n",
    "        lookup[num] = index\n",
    "\n",
    "    return None\n",
    "\n",
    "\n",
    "two_sum([3,4,5,6], 7)"
   ]
  },
  {
   "cell_type": "markdown",
   "metadata": {},
   "source": [
    "**4. Anagram Group**"
   ]
  },
  {
   "cell_type": "code",
   "execution_count": 5,
   "metadata": {},
   "outputs": [
    {
     "name": "stdout",
     "output_type": "stream",
     "text": [
      "['act', 'cat'] ['pots', 'tops', 'stop'] ['hat']\n"
     ]
    }
   ],
   "source": [
    "# O(n * K) : n -> number of strings and k -> average length of a string\n",
    "from collections import defaultdict\n",
    "\n",
    "\n",
    "def group_anagrams(words):\n",
    "\n",
    "    result = defaultdict(list)\n",
    "\n",
    "    for word in words:\n",
    "        # Initialize word count for 26 letters\n",
    "        char_count = [0] * 26\n",
    "\n",
    "        # Count frequency of each character in the word\n",
    "        for char in word:\n",
    "            char_count[ord(char) - ord(\"a\")] += 1\n",
    "\n",
    "        # use tuple(counts) as the key for anagram counting\n",
    "        result[tuple(char_count)].append(word)\n",
    "\n",
    "    return result.values()\n",
    "\n",
    "\n",
    "print(*group_anagrams([\"act\", \"pots\", \"tops\", \"cat\", \"stop\", \"hat\"]))"
   ]
  },
  {
   "cell_type": "markdown",
   "metadata": {},
   "source": [
    "**5. Top K frequent elements**"
   ]
  },
  {
   "cell_type": "code",
   "execution_count": 4,
   "metadata": {},
   "outputs": [
    {
     "data": {
      "text/plain": [
       "[1, 4, 2]"
      ]
     },
     "execution_count": 4,
     "metadata": {},
     "output_type": "execute_result"
    }
   ],
   "source": [
    "# Using Bucket Sort | O(n) time complexity\n",
    "from collections import defaultdict\n",
    "\n",
    "\n",
    "def count_top_k(nums, k):\n",
    "\n",
    "    count = defaultdict(int)\n",
    "    frequency = [[] for _ in range(len(nums) + 1)]\n",
    "\n",
    "    # count the frequency of each element\n",
    "    for num in nums:\n",
    "        count[num] += 1\n",
    "\n",
    "    # place numbers in frequency buckets\n",
    "    for num, freq in count.items():\n",
    "        frequency[freq].append(num)\n",
    "    \n",
    "    res = []\n",
    "    # Iterate from the largest bucket downwards\n",
    "    for i in reversed(range(len(frequency))):\n",
    "        # Iterate over each number in the bucket\n",
    "        for num in frequency[i]:\n",
    "            res.append(num)\n",
    "            if len(res) == k:\n",
    "                return res \n",
    "            \n",
    "\n",
    "count_top_k([1, 2, 1, 2, 1, 2, 1, 3, 4, 4, 4, 4], 3)"
   ]
  },
  {
   "cell_type": "code",
   "execution_count": 6,
   "metadata": {},
   "outputs": [
    {
     "data": {
      "text/plain": [
       "[1, 4, 2]"
      ]
     },
     "execution_count": 6,
     "metadata": {},
     "output_type": "execute_result"
    }
   ],
   "source": [
    "from collections import Counter\n",
    "\n",
    "\n",
    "def count_top_k_pythonic(nums, k):\n",
    "    return [num for num, _ in Counter(nums).most_common(k)]\n",
    "\n",
    "\n",
    "count_top_k_pythonic([1, 2, 1, 2, 1, 2, 1, 3, 4, 4, 4, 4], 3)"
   ]
  },
  {
   "cell_type": "markdown",
   "metadata": {},
   "source": [
    "**6. K-th largest element in an array**"
   ]
  },
  {
   "cell_type": "code",
   "execution_count": 1,
   "metadata": {},
   "outputs": [
    {
     "data": {
      "text/plain": [
       "4"
      ]
     },
     "execution_count": 1,
     "metadata": {},
     "output_type": "execute_result"
    }
   ],
   "source": [
    "# using heap(priority queue)\n",
    "# O(n log k) : since we are maintaining a heap of size k and inserting/removing elements takes log k time.\n",
    "# O(k) : For storing the heap\n",
    "\n",
    "import heapq\n",
    "\n",
    "\n",
    "def find_k_th_largest_using_heap(nums, k):\n",
    "    \n",
    "    min_heap = []\n",
    "\n",
    "    for num in nums:\n",
    "        heapq.heappush(min_heap, num)   # Push current element\n",
    "\n",
    "        if len(min_heap) > k:\n",
    "            heapq.heappop(min_heap)     # Pop smallest element\n",
    "    \n",
    "    # root of the element is the smallest element\n",
    "    return min_heap[0]\n",
    "\n",
    "\n",
    "find_k_th_largest_using_heap([3, 2, 3, 1, 2, 4, 5, 5, 6], 4)"
   ]
  },
  {
   "cell_type": "code",
   "execution_count": null,
   "metadata": {},
   "outputs": [],
   "source": [
    "def findKthLargest(self, nums: List[int], k: int) -> int:\n",
    "\n",
    "    k = len(nums) - k\n",
    "\n",
    "    def quickSelect(l, r):\n",
    "        piv, p = nums[r], l\n",
    "        for i in range(l, r):\n",
    "            if nums[i] <= piv:\n",
    "                nums[p], nums[i] = nums[i], nums[p]\n",
    "                p += 1\n",
    "        nums[p], nums[r] = nums[r], nums[p]\n",
    "        if p > k:\n",
    "            return quickSelect(l, p-1)\n",
    "        elif p < k:\n",
    "            return quickSelect(p+1, r)\n",
    "        else:\n",
    "            return nums[p]\n",
    "    return quickSelect(0, len(nums) -1)"
   ]
  },
  {
   "cell_type": "code",
   "execution_count": null,
   "metadata": {},
   "outputs": [],
   "source": [
    "import random\n",
    "\n",
    "def quickselect(nums, left, right, k):\n",
    "    if left == right:\n",
    "        return nums[left]\n",
    "    \n",
    "    # Randomly choose a pivot index\n",
    "    pivot_index = random.randint(left, right)\n",
    "    pivot_index = partition(nums, left, right, pivot_index)\n",
    "    \n",
    "    # The pivot is in its final sorted position\n",
    "    if k == pivot_index:\n",
    "        return nums[k]\n",
    "    elif k < pivot_index:\n",
    "        return quickselect(nums, left, pivot_index - 1, k)\n",
    "    else:\n",
    "        return quickselect(nums, pivot_index + 1, right, k)\n",
    "\n",
    "def partition(nums, left, right, pivot_index):\n",
    "    pivot_value = nums[pivot_index]\n",
    "    \n",
    "    # Move pivot to end\n",
    "    nums[pivot_index], nums[right] = nums[right], nums[pivot_index]\n",
    "    store_index = left\n",
    "    \n",
    "    # Move all smaller elements to the left of the pivot\n",
    "    for i in range(left, right):\n",
    "        if nums[i] < pivot_value:\n",
    "            nums[store_index], nums[i] = nums[i], nums[store_index]\n",
    "            store_index += 1\n",
    "    \n",
    "    # Move pivot to its final place\n",
    "    nums[right], nums[store_index] = nums[store_index], nums[right]\n",
    "    \n",
    "    return store_index\n",
    "\n",
    "def findKthLargestQuickselect(nums, k):\n",
    "    # The k-th largest is the (len(nums) - k)-th smallest element\n",
    "    return quickselect(nums, 0, len(nums) - 1, len(nums) - k)\n",
    "\n",
    "# Example usage\n",
    "nums = [3, 2, 1, 5, 6, 4]\n",
    "k = 2\n",
    "print(findKthLargestQuickselect(nums, k))  # Output: 5\n"
   ]
  },
  {
   "cell_type": "code",
   "execution_count": null,
   "metadata": {},
   "outputs": [],
   "source": []
  }
 ],
 "metadata": {
  "kernelspec": {
   "display_name": "Python (base-env)",
   "language": "python",
   "name": "base-env"
  },
  "language_info": {
   "codemirror_mode": {
    "name": "ipython",
    "version": 3
   },
   "file_extension": ".py",
   "mimetype": "text/x-python",
   "name": "python",
   "nbconvert_exporter": "python",
   "pygments_lexer": "ipython3",
   "version": "3.12.5"
  }
 },
 "nbformat": 4,
 "nbformat_minor": 2
}
