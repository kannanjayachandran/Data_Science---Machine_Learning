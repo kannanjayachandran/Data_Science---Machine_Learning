{
 "cells": [
  {
   "cell_type": "markdown",
   "metadata": {},
   "source": [
    "**1. Duplicate Integer**"
   ]
  },
  {
   "cell_type": "code",
   "execution_count": 3,
   "metadata": {},
   "outputs": [
    {
     "data": {
      "text/plain": [
       "True"
      ]
     },
     "execution_count": 3,
     "metadata": {},
     "output_type": "execute_result"
    }
   ],
   "source": [
    "def duplicate_int(arr):\n",
    "\n",
    "    seen = set()\n",
    "\n",
    "    for num in arr:\n",
    "        if num in seen:\n",
    "            return True\n",
    "        else:\n",
    "            seen.add(num)\n",
    "    return False\n",
    "\n",
    "duplicate_int([1, 2, 3, 3])"
   ]
  },
  {
   "cell_type": "markdown",
   "metadata": {},
   "source": [
    "**2. Is Anagram**"
   ]
  },
  {
   "cell_type": "code",
   "execution_count": 10,
   "metadata": {},
   "outputs": [
    {
     "data": {
      "text/plain": [
       "False"
      ]
     },
     "execution_count": 10,
     "metadata": {},
     "output_type": "execute_result"
    }
   ],
   "source": [
    "from collections import Counter\n",
    "\n",
    "def is_anagram(s1, s2):\n",
    "\n",
    "    if len(s1) != len(s2):\n",
    "        return False\n",
    "\n",
    "    # lookup_s1 = {}\n",
    "    # for char in s1:\n",
    "    #     if char not in lookup_s1:\n",
    "    #         lookup_s1[char] = 1\n",
    "    #     else:\n",
    "    #         lookup_s1[char] += 1\n",
    "\n",
    "    # lookup_s2 = {}\n",
    "    # for char in s2:\n",
    "    #     if char not in lookup_s2:\n",
    "    #         lookup_s2[char] = 1\n",
    "    #     else:\n",
    "    #         lookup_s2[char] += 1\n",
    "\n",
    "    lookup_s1 = Counter(s1)\n",
    "    lookup_s2 = Counter(s2)\n",
    "\n",
    "    for k, v in lookup_s1.items():\n",
    "        if lookup_s2.get(k) != v:\n",
    "            return False\n",
    "        \n",
    "    return True\n",
    "\n",
    "\n",
    "is_anagram('jam', 'jar')"
   ]
  },
  {
   "cell_type": "markdown",
   "metadata": {},
   "source": [
    "**3. Two Sum**"
   ]
  },
  {
   "cell_type": "code",
   "execution_count": 20,
   "metadata": {},
   "outputs": [
    {
     "data": {
      "text/plain": [
       "[0, 1]"
      ]
     },
     "execution_count": 20,
     "metadata": {},
     "output_type": "execute_result"
    }
   ],
   "source": [
    "def two_sum(nums, target):\n",
    "    lookup = {}\n",
    "\n",
    "    for idx, num in enumerate(nums):\n",
    "        required = target - num\n",
    "\n",
    "        if required in lookup:\n",
    "            return [lookup[required], idx]\n",
    "        else:\n",
    "            lookup[num] = idx\n",
    "    return [-1, -1]\n",
    "\n",
    "\n",
    "two_sum([3,4,5,6], 7)"
   ]
  },
  {
   "cell_type": "markdown",
   "metadata": {},
   "source": [
    "**4. Anagram Group**"
   ]
  },
  {
   "cell_type": "code",
   "execution_count": 2,
   "metadata": {},
   "outputs": [
    {
     "name": "stdout",
     "output_type": "stream",
     "text": [
      "['act', 'cat'] ['pots', 'tops', 'stop'] ['hat']\n"
     ]
    }
   ],
   "source": [
    "# O(n * K) : n -> number of strings and k -> average length of a string\n",
    "\n",
    "from collections import defaultdict\n",
    "\n",
    "\n",
    "def group_anagram(s):\n",
    "    res = defaultdict(list)\n",
    "\n",
    "    for string in s:\n",
    "        count = [0] * 26\n",
    "\n",
    "        for char in string:\n",
    "            count[ord(char) - ord(\"a\")] += 1\n",
    "        \n",
    "        res[tuple(count)].append(string)\n",
    "    return res.values()\n",
    "\n",
    "\n",
    "print(*group_anagram([\"act\",\"pots\",\"tops\",\"cat\",\"stop\",\"hat\"]))"
   ]
  },
  {
   "cell_type": "markdown",
   "metadata": {},
   "source": [
    "**5. Top K frequent elements**"
   ]
  },
  {
   "cell_type": "code",
   "execution_count": 5,
   "metadata": {},
   "outputs": [
    {
     "data": {
      "text/plain": [
       "[1, 4, 2]"
      ]
     },
     "execution_count": 5,
     "metadata": {},
     "output_type": "execute_result"
    }
   ],
   "source": [
    "from collections import Counter\n",
    "\n",
    "\n",
    "def count_top_k_pythonic(nums, k):\n",
    "    return [num for num, _ in Counter(nums).most_common(k)]\n",
    "\n",
    "\n",
    "count_top_k_pythonic([1, 2, 1, 2, 1, 2, 1, 3, 4, 4, 4, 4], 3)"
   ]
  },
  {
   "cell_type": "code",
   "execution_count": 4,
   "metadata": {},
   "outputs": [
    {
     "data": {
      "text/plain": [
       "[1, 4, 2]"
      ]
     },
     "execution_count": 4,
     "metadata": {},
     "output_type": "execute_result"
    }
   ],
   "source": [
    "# Using Bucket Sort | O(n) time complexity\n",
    "from collections import defaultdict\n",
    "\n",
    "\n",
    "def count_top_k(nums, k):\n",
    "\n",
    "    count = defaultdict(int)\n",
    "    frequency = [[] for _ in range(len(nums) + 1)]\n",
    "\n",
    "    # count the frequency of each element\n",
    "    for num in nums:\n",
    "        count[num] += 1\n",
    "\n",
    "    # place numbers in frequency buckets\n",
    "    for num, freq in count.items():\n",
    "        frequency[freq].append(num)\n",
    "    \n",
    "    res = []\n",
    "    # Iterate from the largest bucket downwards\n",
    "    for i in reversed(range(len(frequency))):\n",
    "        for num in frequency[i]:\n",
    "            res.append(num)\n",
    "            if len(res) == k:\n",
    "                return res \n",
    "            \n",
    "\n",
    "count_top_k([1, 2, 1, 2, 1, 2, 1, 3, 4, 4, 4, 4], 3)"
   ]
  }
 ],
 "metadata": {
  "kernelspec": {
   "display_name": "Python (base-env)",
   "language": "python",
   "name": "base-env"
  },
  "language_info": {
   "codemirror_mode": {
    "name": "ipython",
    "version": 3
   },
   "file_extension": ".py",
   "mimetype": "text/x-python",
   "name": "python",
   "nbconvert_exporter": "python",
   "pygments_lexer": "ipython3",
   "version": "3.12.5"
  }
 },
 "nbformat": 4,
 "nbformat_minor": 2
}
