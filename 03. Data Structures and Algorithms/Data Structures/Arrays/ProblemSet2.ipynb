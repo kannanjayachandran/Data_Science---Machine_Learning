{
 "cells": [
  {
   "cell_type": "markdown",
   "metadata": {},
   "source": [
    "<h1 style='color:#FEC260'> Arrays - Problems Set II </h1>"
   ]
  },
  {
   "cell_type": "markdown",
   "metadata": {},
   "source": [
    "**1. Return all the sub-arrays**"
   ]
  },
  {
   "cell_type": "code",
   "execution_count": 12,
   "metadata": {},
   "outputs": [],
   "source": [
    "def subArrays(arr: list[list]) -> list[list[int]]:\n",
    "    \n",
    "    result = []\n",
    "    for start in range(len(arr)):\n",
    "        for end in range(start, len(arr)):\n",
    "            result.append(arr[start:end+1])\n",
    "    return result"
   ]
  },
  {
   "cell_type": "code",
   "execution_count": 13,
   "metadata": {},
   "outputs": [
    {
     "data": {
      "text/plain": [
       "[[1], [1, 2], [1, 2, 3], [2], [2, 3], [3]]"
      ]
     },
     "execution_count": 13,
     "metadata": {},
     "output_type": "execute_result"
    }
   ],
   "source": [
    "subArrays([1, 2, 3])"
   ]
  },
  {
   "cell_type": "markdown",
   "metadata": {},
   "source": [
    "**2. Find Leaders in an array**"
   ]
  },
  {
   "cell_type": "code",
   "execution_count": 41,
   "metadata": {},
   "outputs": [],
   "source": [
    "def findLeader(nums: list[int]) -> list[int]:\n",
    "    n = len(nums)\n",
    "    leader = [nums[-1]]\n",
    "\n",
    "    for i in reversed(range(n)):\n",
    "        if nums[i] > leader[-1]:\n",
    "            leader.append(nums[i])\n",
    "    return leader"
   ]
  },
  {
   "cell_type": "code",
   "execution_count": 42,
   "metadata": {},
   "outputs": [
    {
     "data": {
      "text/plain": [
       "[2, 5, 17]"
      ]
     },
     "execution_count": 42,
     "metadata": {},
     "output_type": "execute_result"
    }
   ],
   "source": [
    "findLeader([16, 17, 4, 3, 5, 2])"
   ]
  },
  {
   "cell_type": "markdown",
   "metadata": {},
   "source": [
    "**3. Find the length of the smallest sub-array containing the min and max element of the array**"
   ]
  },
  {
   "cell_type": "code",
   "execution_count": 11,
   "metadata": {},
   "outputs": [],
   "source": [
    "def subMinMax(arr: list) -> int:\n",
    "\n",
    "    smallestElement = min(arr)\n",
    "    largestElement = max(arr)\n",
    "\n",
    "    minIndex = None\n",
    "    maxIndex = None\n",
    "\n",
    "    subArrayLen = float('inf')\n",
    "\n",
    "    for i in range(len(arr)):\n",
    "\n",
    "        # for min element\n",
    "        if arr[i] == smallestElement:\n",
    "            minIndex = i\n",
    "            if maxIndex is not None:\n",
    "                length = minIndex-maxIndex + 1\n",
    "                subArrayLen = min(length, subArrayLen)\n",
    "\n",
    "        # for max element\n",
    "        if arr[i] == largestElement:\n",
    "            maxIndex = i\n",
    "            if minIndex is not None:\n",
    "                length = maxIndex- minIndex + 1\n",
    "                subArrayLen = min(length, subArrayLen)\n",
    "\n",
    "    return subArrayLen"
   ]
  },
  {
   "cell_type": "code",
   "execution_count": 12,
   "metadata": {},
   "outputs": [
    {
     "data": {
      "text/plain": [
       "3"
      ]
     },
     "execution_count": 12,
     "metadata": {},
     "output_type": "execute_result"
    }
   ],
   "source": [
    "subMinMax([2, 8, 1, 3, 0, -1, 0, 8])"
   ]
  },
  {
   "cell_type": "markdown",
   "metadata": {},
   "source": [
    "**4. Sum in range**"
   ]
  },
  {
   "cell_type": "code",
   "execution_count": 1,
   "metadata": {},
   "outputs": [],
   "source": [
    "def sumInRange(arr: list, qrr: list[list[int]]) -> list[int]:\n",
    "    res = []\n",
    "\n",
    "    # creating the prefix sum array\n",
    "    prefixSum = [arr[0]]\n",
    "    for x in arr[1:]:\n",
    "        prefixSum.append(prefixSum[-1] + x)\n",
    "\n",
    "    # finding sum\n",
    "    for i in range(len(qrr)):\n",
    "        start = qrr[i][0]\n",
    "        end = qrr[i][1]\n",
    "\n",
    "        total = 0\n",
    "        if start == 0:\n",
    "            total = prefixSum[end]\n",
    "        else:\n",
    "            total = prefixSum[end] - prefixSum[start-1]\n",
    "\n",
    "        res.append(total)\n",
    "\n",
    "    return res"
   ]
  },
  {
   "cell_type": "code",
   "execution_count": 2,
   "metadata": {},
   "outputs": [
    {
     "data": {
      "text/plain": [
       "[5, 10]"
      ]
     },
     "execution_count": 2,
     "metadata": {},
     "output_type": "execute_result"
    }
   ],
   "source": [
    "sumInRange([1, 2, 3, 4, 5], [[1, 2], [0, 3]])"
   ]
  },
  {
   "cell_type": "markdown",
   "metadata": {},
   "source": [
    "**5. Equilibrium index of an array | Middle index of an array | Pivot index of an array**"
   ]
  },
  {
   "cell_type": "code",
   "execution_count": 3,
   "metadata": {},
   "outputs": [],
   "source": [
    "def equilibrium(arr: list[int]) -> int:\n",
    "\n",
    "    total = sum(arr)\n",
    "\n",
    "    left_sum = 0\n",
    "    for i in range(len(arr)):\n",
    "        \n",
    "        right_sum = total-left_sum-arr[i]\n",
    "\n",
    "        if left_sum == right_sum:\n",
    "            return i\n",
    "\n",
    "        left_sum += arr[i]\n",
    "\n",
    "    return -1"
   ]
  },
  {
   "cell_type": "code",
   "execution_count": 4,
   "metadata": {},
   "outputs": [
    {
     "data": {
      "text/plain": [
       "2"
      ]
     },
     "execution_count": 4,
     "metadata": {},
     "output_type": "execute_result"
    }
   ],
   "source": [
    "equilibrium([-1, 1, 100, 0])"
   ]
  },
  {
   "cell_type": "markdown",
   "metadata": {},
   "source": [
    "**6. Find all equilibrium indices**"
   ]
  },
  {
   "cell_type": "code",
   "execution_count": 5,
   "metadata": {},
   "outputs": [],
   "source": [
    "def multiEquilibrium(arr: list[int]) -> list[int]:\n",
    "    res = []\n",
    "\n",
    "    total = sum(arr)\n",
    "    left_sum = 0\n",
    "    for i in range(len(arr)): \n",
    "        right_sum = total-left_sum-arr[i]\n",
    "        if left_sum == right_sum:\n",
    "             res.append(i)\n",
    "        left_sum += arr[i]\n",
    "\n",
    "    return res"
   ]
  },
  {
   "cell_type": "code",
   "execution_count": 6,
   "metadata": {},
   "outputs": [
    {
     "data": {
      "text/plain": [
       "[]"
      ]
     },
     "execution_count": 6,
     "metadata": {},
     "output_type": "execute_result"
    }
   ],
   "source": [
    "multiEquilibrium([4, 5, 0, 9, -9])"
   ]
  },
  {
   "cell_type": "markdown",
   "metadata": {},
   "source": [
    "**7. Count good pairs**\n",
    "\n",
    "> Given a string `S` with all characters in lowercase. Count the number of pairs `(i, j)` such that `i` < `j` and `s[i]` = `a` and `s[j]` = `g`. \n",
    ">\n",
    "> Given a string `S`, count the number of occurrences of the sub-sequences `ag`. Return the count of all such pairs."
   ]
  },
  {
   "cell_type": "code",
   "execution_count": 7,
   "metadata": {},
   "outputs": [],
   "source": [
    "def goodPair(s: str) -> int:\n",
    "\n",
    "    n = len(s)\n",
    "    gCount = 0\n",
    "    count = 0\n",
    "\n",
    "    for i in reversed(range(n)):\n",
    "\n",
    "        if s[i] == 'a':\n",
    "            count += gCount\n",
    "        elif s[i] == 'g':\n",
    "            gCount += 1\n",
    "\n",
    "    return count"
   ]
  },
  {
   "cell_type": "code",
   "execution_count": 8,
   "metadata": {},
   "outputs": [
    {
     "data": {
      "text/plain": [
       "13"
      ]
     },
     "execution_count": 8,
     "metadata": {},
     "output_type": "execute_result"
    }
   ],
   "source": [
    "goodPair('xxaxxxaggxaxxxagxagx')"
   ]
  },
  {
   "cell_type": "markdown",
   "metadata": {},
   "source": [
    "**8. Count the number of leaders in array**\n",
    "\n",
    "> An element is leader if it is strictly greater than all the elements to its right side. The rightmost element is always a leader."
   ]
  },
  {
   "cell_type": "code",
   "execution_count": 9,
   "metadata": {},
   "outputs": [],
   "source": [
    "def countLeaders(arr: list[int]) -> int:\n",
    "\n",
    "    largest = -float('inf')\n",
    "    count = 0\n",
    "    n = len(arr)\n",
    "\n",
    "    for i in reversed(range(n)):\n",
    "        if arr[i] > largest:\n",
    "            count += 1\n",
    "            largest = arr[i]\n",
    "\n",
    "    return count"
   ]
  },
  {
   "cell_type": "code",
   "execution_count": 11,
   "metadata": {},
   "outputs": [
    {
     "data": {
      "text/plain": [
       "4"
      ]
     },
     "execution_count": 11,
     "metadata": {},
     "output_type": "execute_result"
    }
   ],
   "source": [
    "countLeaders([1, 2, 7, 8, -6, 0, 3, -7, -10])"
   ]
  },
  {
   "cell_type": "markdown",
   "metadata": {},
   "source": [
    "**9. K-th Maximum Integer in a list**\n",
    "\n",
    "- Not k-th distinct element, but k-th maximum element. If there are duplicates, count them as separate elements."
   ]
  },
  {
   "cell_type": "code",
   "execution_count": 3,
   "metadata": {},
   "outputs": [],
   "source": [
    "def k_th_max(nums: list[int], k: int) -> int:\n",
    "\n",
    "    nums.sort()\n",
    "\n",
    "    return nums[-k]"
   ]
  },
  {
   "cell_type": "code",
   "execution_count": 5,
   "metadata": {},
   "outputs": [
    {
     "data": {
      "text/plain": [
       "82"
      ]
     },
     "execution_count": 5,
     "metadata": {},
     "output_type": "execute_result"
    }
   ],
   "source": [
    "k_th_max([82, 40, 35, 82, 14, 22, 66, 53], 2)"
   ]
  },
  {
   "cell_type": "markdown",
   "metadata": {},
   "source": [
    "**10. Non-constructible change**\n",
    "\n",
    "> Given an array of positive integers representing the values of coins in your possession, write a function that returns the minimum amount of change (the minimum sum of money) that you cannot create. The given coins can have any positive integer value and aren't necessarily unique."
   ]
  },
  {
   "cell_type": "code",
   "execution_count": 9,
   "metadata": {},
   "outputs": [],
   "source": [
    "def nonConstructible(nums: list[int]) -> int:\n",
    "\n",
    "    nums.sort()\n",
    "    \n",
    "    change = 0\n",
    "    for coin in nums:\n",
    "        if coin > change+1:\n",
    "            return change+1\n",
    "        change += coin\n",
    "    return change+1"
   ]
  },
  {
   "cell_type": "code",
   "execution_count": 13,
   "metadata": {},
   "outputs": [
    {
     "data": {
      "text/plain": [
       "20"
      ]
     },
     "execution_count": 13,
     "metadata": {},
     "output_type": "execute_result"
    }
   ],
   "source": [
    "nonConstructible([5, 7, 1, 1, 2, 3, 22])"
   ]
  },
  {
   "cell_type": "markdown",
   "metadata": {},
   "source": [
    "**11. Tournament Winner**"
   ]
  },
  {
   "cell_type": "code",
   "execution_count": 1,
   "metadata": {},
   "outputs": [],
   "source": [
    "def tournamentWinner(competitions: list[list[int]], results: list[int]) -> str:\n",
    "\n",
    "    lookUp = {}\n",
    "\n",
    "    for i in range(len(competitions)):\n",
    "        \n",
    "        homeTeam, awayTeam = competitions[i]\n",
    "        winner = homeTeam if results[i] == 1 else awayTeam\n",
    "\n",
    "        if winner not in lookUp:\n",
    "            lookUp[winner] = 0\n",
    "        lookUp[winner] += 3\n",
    "\n",
    "    return max(lookUp, key=lookUp.get)"
   ]
  },
  {
   "cell_type": "code",
   "execution_count": 2,
   "metadata": {},
   "outputs": [
    {
     "data": {
      "text/plain": [
       "'Python'"
      ]
     },
     "execution_count": 2,
     "metadata": {},
     "output_type": "execute_result"
    }
   ],
   "source": [
    "competitions = [[\"Python\", \"C#\"], [\"C#\", \"HTML\"], [\"HTML\", \"Python\"], [\"C#\", \"HTML\"]]\n",
    "results = [1, 1, 0, 0]\n",
    "tournamentWinner(competitions, results)"
   ]
  },
  {
   "cell_type": "markdown",
   "metadata": {},
   "source": [
    "**12. Product array except self**"
   ]
  },
  {
   "cell_type": "code",
   "execution_count": 1,
   "metadata": {},
   "outputs": [],
   "source": [
    "def productArray(nums: list[int]) -> list[int]:\n",
    "\n",
    "    res = [1 for _ in range(len(nums))]\n",
    "\n",
    "    prefix = 1\n",
    "    for i in range(len(nums)):\n",
    "        res[i] *= prefix\n",
    "        prefix *= nums[i]\n",
    "    \n",
    "    postfix = 1\n",
    "    for i in reversed(range(len(nums))):\n",
    "        res[i] *= postfix\n",
    "        postfix *= nums[i]\n",
    "    \n",
    "    return res"
   ]
  },
  {
   "cell_type": "code",
   "execution_count": 2,
   "metadata": {},
   "outputs": [
    {
     "data": {
      "text/plain": [
       "[120, 60, 40, 30, 24]"
      ]
     },
     "execution_count": 2,
     "metadata": {},
     "output_type": "execute_result"
    }
   ],
   "source": [
    "productArray([1, 2, 3, 4, 5])"
   ]
  },
  {
   "cell_type": "markdown",
   "metadata": {},
   "source": [
    "**13. Longest peak**"
   ]
  },
  {
   "cell_type": "code",
   "execution_count": 3,
   "metadata": {},
   "outputs": [],
   "source": [
    "def longest_peak(nums: list[int]) -> int:\n",
    "\n",
    "    longest_peak_length, idx = 0, 1\n",
    "\n",
    "    while idx < len(nums) - 1:\n",
    "        is_peak = nums[idx] > nums[idx-1] and nums[idx] > nums[idx+1]\n",
    "\n",
    "        if not is_peak:\n",
    "            idx += 1\n",
    "            continue\n",
    "        \n",
    "        # checking the left limit of the peak\n",
    "        left_idx = idx - 2\n",
    "        while left_idx >= 0 and nums[left_idx] < nums[left_idx + 1]:\n",
    "            left_idx -= 1\n",
    "\n",
    "        # checking the right limit of the peak\n",
    "        right_idx = idx + 2\n",
    "        while right_idx < len(nums) and nums[right_idx] < nums[right_idx - 1]:\n",
    "            right_idx += 1\n",
    "        \n",
    "        current_peak_length = right_idx - left_idx - 1\n",
    "        longest_peak_length = max(longest_peak_length, current_peak_length)\n",
    "\n",
    "        # till this point no peak exists\n",
    "        idx = right_idx     \n",
    "\n",
    "    return longest_peak_length"
   ]
  },
  {
   "cell_type": "code",
   "execution_count": 4,
   "metadata": {},
   "outputs": [
    {
     "data": {
      "text/plain": [
       "6"
      ]
     },
     "execution_count": 4,
     "metadata": {},
     "output_type": "execute_result"
    }
   ],
   "source": [
    "longest_peak([1, 2, 3, 3, 4, 0, 10, 6, 5, -1, -3, 2, 3])"
   ]
  },
  {
   "cell_type": "markdown",
   "metadata": {},
   "source": [
    "**14. Minimum operations to reduce X to zero**"
   ]
  },
  {
   "cell_type": "code",
   "execution_count": 5,
   "metadata": {},
   "outputs": [],
   "source": [
    "def minOperations(nums: list[int], x: int) -> int:\n",
    "\n",
    "    target = sum(nums) - x\n",
    "    cur_sum = 0\n",
    "    max_window = -1\n",
    "    l_ptr = 0\n",
    "\n",
    "    for r_ptr in range(len(nums)):\n",
    "        cur_sum += nums[r_ptr]\n",
    "\n",
    "        while l_ptr <= r_ptr and cur_sum > target:\n",
    "            cur_sum -= nums[l_ptr]\n",
    "            l_ptr += 1\n",
    "        \n",
    "        if cur_sum == target:\n",
    "            max_window = max(max_window, r_ptr-l_ptr+1)\n",
    "\n",
    "    return -1 if max_window == -1 else len(nums) - max_window"
   ]
  },
  {
   "cell_type": "code",
   "execution_count": 6,
   "metadata": {},
   "outputs": [
    {
     "data": {
      "text/plain": [
       "5"
      ]
     },
     "execution_count": 6,
     "metadata": {},
     "output_type": "execute_result"
    }
   ],
   "source": [
    "minOperations([3,2,20,1,1,3], 10)"
   ]
  },
  {
   "cell_type": "markdown",
   "metadata": {},
   "source": [
    "**15. Find the first duplicate element in an array between 1 and N** "
   ]
  },
  {
   "cell_type": "code",
   "execution_count": 7,
   "metadata": {},
   "outputs": [],
   "source": [
    "def find_duplicate(nums: list[int]) -> int:\n",
    "\n",
    "    for num in nums:\n",
    "        if nums[abs(num) - 1] < 0:\n",
    "            return abs(num)\n",
    "        nums[abs(num) - 1] *= -1\n",
    "    return -1"
   ]
  },
  {
   "cell_type": "code",
   "execution_count": 8,
   "metadata": {},
   "outputs": [
    {
     "data": {
      "text/plain": [
       "2"
      ]
     },
     "execution_count": 8,
     "metadata": {},
     "output_type": "execute_result"
    }
   ],
   "source": [
    "find_duplicate([2, 1, 5, 2, 3, 3, 4])"
   ]
  }
 ],
 "metadata": {
  "kernelspec": {
   "display_name": "Python (base-env)",
   "language": "python",
   "name": "base-env"
  },
  "language_info": {
   "codemirror_mode": {
    "name": "ipython",
    "version": 3
   },
   "file_extension": ".py",
   "mimetype": "text/x-python",
   "name": "python",
   "nbconvert_exporter": "python",
   "pygments_lexer": "ipython3",
   "version": "3.12.5"
  },
  "orig_nbformat": 4
 },
 "nbformat": 4,
 "nbformat_minor": 2
}
