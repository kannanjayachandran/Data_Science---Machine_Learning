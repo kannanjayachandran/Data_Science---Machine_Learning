{
 "cells": [
  {
   "cell_type": "markdown",
   "metadata": {},
   "source": [
    "<h1 style='color:#FEC260'> Arrays - Problems Set III </h1>"
   ]
  },
  {
   "cell_type": "markdown",
   "metadata": {},
   "source": [
    "**1. Find the sum of each row in a matrix**"
   ]
  },
  {
   "cell_type": "code",
   "execution_count": 7,
   "metadata": {},
   "outputs": [],
   "source": [
    "def sumOfRows(matrix: list[list[int]]) -> list[int]:\n",
    "    res = []\n",
    "\n",
    "    for row in matrix:\n",
    "        row_sum = 0\n",
    "        for element in row:\n",
    "            row_sum += element\n",
    "        res.append(row_sum)\n",
    "    return res"
   ]
  },
  {
   "cell_type": "code",
   "execution_count": 8,
   "metadata": {},
   "outputs": [
    {
     "data": {
      "text/plain": [
       "[13, 40, 37, 33]"
      ]
     },
     "execution_count": 8,
     "metadata": {},
     "output_type": "execute_result"
    }
   ],
   "source": [
    "sumOfRows([\n",
    "    [0, 1, -6, 8, 3, 2, 5],\n",
    "    [10, 10, 9, 7, 0, 1, 3],\n",
    "    [1, 6, 8, 2, 4, 9, 7],\n",
    "    [3, -1, 7, 7, 8, 9, 0]\n",
    "])"
   ]
  },
  {
   "cell_type": "markdown",
   "metadata": {},
   "source": [
    "**2. Find the sum of each column in a matrix**"
   ]
  },
  {
   "cell_type": "code",
   "execution_count": 9,
   "metadata": {},
   "outputs": [],
   "source": [
    "def sumOfCols(matrix: list[list[int]]) -> list[int]:\n",
    "    res = []\n",
    "    r, c = len(matrix), len(matrix[0])\n",
    "\n",
    "    for col in range(c):\n",
    "        col_sum = 0\n",
    "        for row in range(r):\n",
    "            col_sum += matrix[row][col]\n",
    "        res.append(col_sum)\n",
    "    return res"
   ]
  },
  {
   "cell_type": "code",
   "execution_count": 10,
   "metadata": {},
   "outputs": [
    {
     "data": {
      "text/plain": [
       "[14, 16, 18, 24, 15, 21, 15]"
      ]
     },
     "execution_count": 10,
     "metadata": {},
     "output_type": "execute_result"
    }
   ],
   "source": [
    "sumOfCols([\n",
    "    [0, 1, -6, 8, 3, 2, 5],\n",
    "    [10, 10, 9, 7, 0, 1, 3],\n",
    "    [1, 6, 8, 2, 4, 9, 7],\n",
    "    [3, -1, 7, 7, 8, 9, 0]\n",
    "])"
   ]
  },
  {
   "cell_type": "markdown",
   "metadata": {},
   "source": [
    "**3. Given a square matrix return its diagonals**\n",
    "\n",
    "> return a list of lists containing the two diagonals of the matrix"
   ]
  },
  {
   "cell_type": "code",
   "execution_count": 13,
   "metadata": {},
   "outputs": [],
   "source": [
    "def diagonals(matrix: list[list[int]]) -> list[list[int]]:\n",
    "    n = len(matrix)\n",
    "    primaryDiag = [matrix[i][i] for i in range(n)]\n",
    "    secondaryDiag = [matrix[i][n-i-1] for i in range(n)]\n",
    "\n",
    "    return [primaryDiag, secondaryDiag]"
   ]
  },
  {
   "cell_type": "code",
   "execution_count": 16,
   "metadata": {},
   "outputs": [
    {
     "data": {
      "text/plain": [
       "[[0, 3, 6, 9, 12], [8, 7, 6, 5, 4]]"
      ]
     },
     "execution_count": 16,
     "metadata": {},
     "output_type": "execute_result"
    }
   ],
   "source": [
    "diagonals([\n",
    "[0, 2, 4, 6, 8], \n",
    "[1, 3, 5, 7, 9], \n",
    "[2, 4, 6, 8, 10], \n",
    "[3, 5, 7, 9, 11], \n",
    "[4, 6, 8, 10, 12]\n",
    "])"
   ]
  },
  {
   "cell_type": "markdown",
   "metadata": {},
   "source": [
    "**4. Sum of two matrices**"
   ]
  },
  {
   "cell_type": "code",
   "execution_count": 4,
   "metadata": {},
   "outputs": [],
   "source": [
    "def addMatrices(matrix1: list[list[int]], matrix2: list[list[int]]) -> list[list[int]]:\n",
    "    if  len(matrix1) == len(matrix2) and len(matrix1[0]) ==  len(matrix2[0]):\n",
    "\n",
    "        return[[matrix1[i][j] + matrix2[i][j] for j in range(len(matrix1[0]))] for i in range(len(matrix1))]\n",
    "    else:\n",
    "        raise ValueError(\"Addition not possible !\")"
   ]
  },
  {
   "cell_type": "code",
   "execution_count": 6,
   "metadata": {},
   "outputs": [
    {
     "data": {
      "text/plain": [
       "[[10, 10, 10], [10, 10, 10], [10, 10, 10]]"
      ]
     },
     "execution_count": 6,
     "metadata": {},
     "output_type": "execute_result"
    }
   ],
   "source": [
    "m1 = [[1, 2, 3], [4, 5, 6], [7, 8, 9]]\n",
    "m2 = [[9, 8, 7], [6, 5, 4], [3, 2, 1]]\n",
    "\n",
    "addMatrices(m1, m2)"
   ]
  },
  {
   "cell_type": "markdown",
   "metadata": {},
   "source": [
    "**5. Product of 2 matrices**"
   ]
  },
  {
   "cell_type": "code",
   "execution_count": 2,
   "metadata": {},
   "outputs": [],
   "source": [
    "def matMul(m1: list[int], m2: list[int]) -> list[int]:\n",
    "\n",
    "    answer = [[0 for _ in range(len(m1))] for _ in range(len(m2[0]))]\n",
    "\n",
    "    # iterating the rows of matrix 1\n",
    "    for i in range(len(m1)):\n",
    "\n",
    "        # iterating the columns of matrix 2\n",
    "        for j in range(len(m2[0])):\n",
    "\n",
    "            # iterating over row of matrix 2\n",
    "            for k in range(len(m2)):\n",
    "                answer[i][j] += m1[i][k] * m2[k][j]\n",
    "    return answer"
   ]
  },
  {
   "cell_type": "code",
   "execution_count": 3,
   "metadata": {},
   "outputs": [
    {
     "data": {
      "text/plain": [
       "[[33, 26, 18, 29], [84, 69, 50, 54], [138, 114, 83, 84], [192, 159, 116, 114]]"
      ]
     },
     "execution_count": 3,
     "metadata": {},
     "output_type": "execute_result"
    }
   ],
   "source": [
    "m1 = [\n",
    "    [1, 2, 4],\n",
    "    [4, 5, 6],\n",
    "    [7, 8, 9],\n",
    "    [10, 11, 12, 13]\n",
    "    ]\n",
    "m2 = [\n",
    "    [9, 8, 6, 1], \n",
    "    [6, 5, 4, 4], \n",
    "    [3, 2, 1, 5]\n",
    "]\n",
    "\n",
    "matMul(m1, m2)"
   ]
  },
  {
   "cell_type": "markdown",
   "metadata": {},
   "source": [
    "**6. Find the boundary elements of a matrix**\n",
    "> first row | last column | last row | first column"
   ]
  },
  {
   "cell_type": "code",
   "execution_count": 6,
   "metadata": {},
   "outputs": [],
   "source": [
    "def boundaryOfMatrix(m: list[list[int]]) -> list[int]:\n",
    "\n",
    "    row, col = len(m), len(m[0])\n",
    "    r, c, res = 0, 0, []\n",
    "    direction = \"right\"\n",
    "\n",
    "    while True:\n",
    "        res.append(m[r][c])\n",
    "\n",
    "        if direction == \"right\":\n",
    "            if c < col-1:\n",
    "                c +=  1\n",
    "            else:\n",
    "                direction = \"down\"\n",
    "                r += 1\n",
    "        elif direction == \"down\":\n",
    "            if r < row-1:\n",
    "                r += 1\n",
    "            else:\n",
    "                direction = \"left\"\n",
    "                c -= 1\n",
    "        elif direction == \"left\":\n",
    "            if c > 0:\n",
    "                c -= 1\n",
    "            else:\n",
    "                direction = \"up\"\n",
    "                r -= 1\n",
    "        elif r > 1:\n",
    "            r -= 1\n",
    "        else: \n",
    "            break\n",
    "    return res"
   ]
  },
  {
   "cell_type": "code",
   "execution_count": 7,
   "metadata": {},
   "outputs": [
    {
     "data": {
      "text/plain": [
       "[1, 5, 9, 13, 17, 21, 25, 29, 30, 31, 32, 28, 24, 20, 16, 12, 8, 4, 3, 2]"
      ]
     },
     "execution_count": 7,
     "metadata": {},
     "output_type": "execute_result"
    }
   ],
   "source": [
    "m1 = [\n",
    "    [1, 5, 9, 13, 17, 21, 25, 29],\n",
    "    [2, 6, 10, 14, 18, 22, 26, 30],\n",
    "    [3, 7, 11, 15, 19, 23, 27, 31],\n",
    "    [4, 8, 12, 16, 20, 24, 28, 32]\n",
    "]\n",
    "boundaryOfMatrix(m1)"
   ]
  },
  {
   "cell_type": "markdown",
   "metadata": {},
   "source": [
    "**7. Traverse matrix in spiral order**"
   ]
  },
  {
   "cell_type": "code",
   "execution_count": 1,
   "metadata": {},
   "outputs": [],
   "source": [
    "def spiralTraverse(m: list[list[int]]) -> list[int]:\n",
    "\n",
    "    row, col = len(m), len(m[0])\n",
    "    r, c, res, boundary = 0, 0, [], 0\n",
    "    direction = \"right\"\n",
    "\n",
    "    for _ in range(row * col):\n",
    "        res.append(m[r][c])\n",
    "\n",
    "        if direction == \"right\":\n",
    "            if c == col-1-boundary:\n",
    "                direction = \"down\"\n",
    "                r += 1\n",
    "            else:\n",
    "                c += 1\n",
    "\n",
    "        elif direction == \"down\":\n",
    "            if r == row-1-boundary:\n",
    "                direction = \"left\"\n",
    "                c -= 1\n",
    "            else:\n",
    "                r += 1\n",
    "        elif direction == \"left\":\n",
    "            if c == 0+boundary:\n",
    "                direction = \"up\"\n",
    "                r -= 1\n",
    "            else:\n",
    "                c -= 1\n",
    "\n",
    "        else:\n",
    "            if r == 1 + boundary:\n",
    "                direction = \"right\"\n",
    "                boundary += 1\n",
    "                c += 1\n",
    "            else:\n",
    "                r -= 1\n",
    "    return res"
   ]
  },
  {
   "cell_type": "code",
   "execution_count": 9,
   "metadata": {},
   "outputs": [
    {
     "data": {
      "text/plain": [
       "[1, 5, 9, 13, 17, 2, 18, 14, 10, 6, 2, 21, 25, 29, 1]"
      ]
     },
     "execution_count": 9,
     "metadata": {},
     "output_type": "execute_result"
    }
   ],
   "source": [
    "m3= [\n",
    "    [1, 5, 9, 13, 17],\n",
    "    [21, 25, 29, 1, 2],\n",
    "    [2, 6, 10, 14, 18]\n",
    "]\n",
    "\n",
    "spiralTraverse(m3)"
   ]
  },
  {
   "cell_type": "markdown",
   "metadata": {},
   "source": [
    "**8. Min cost to choose 3 Christmas trees**"
   ]
  },
  {
   "cell_type": "code",
   "execution_count": 10,
   "metadata": {},
   "outputs": [],
   "source": [
    "def chooseTrees(height: list[int], cost: list[int]) -> int:\n",
    "\n",
    "    min_cost = float('inf')\n",
    "    n = len(height)\n",
    "\n",
    "    for t2 in range(n):\n",
    "        t2_height = height[t2]\n",
    "        t2_cost = cost[t2]\n",
    "        t1_cost = float('inf')\n",
    "\n",
    "        for i in range(t2):\n",
    "            if height[i] < t2_height:\n",
    "                t1_cost = min(t1_cost, cost[i])\n",
    "\n",
    "        t3_cost = float('inf')\n",
    "        \n",
    "        for i in range(t2+1, n):\n",
    "            if height[i] > t2_height:\n",
    "                t3_cost = min(t3_cost, cost[i])\n",
    "\n",
    "        cost_3_trees = t1_cost + t2_cost + t3_cost\n",
    "        min_cost = min(min_cost, cost_3_trees)\n",
    "    return min_cost"
   ]
  },
  {
   "cell_type": "code",
   "execution_count": 11,
   "metadata": {},
   "outputs": [
    {
     "data": {
      "text/plain": [
       "6"
      ]
     },
     "execution_count": 11,
     "metadata": {},
     "output_type": "execute_result"
    }
   ],
   "source": [
    "height = [9, 7, 15, 3, 6, 1, 2, 8, 2, 11, 5, 13, 15, 6]\n",
    "cost = [6, 4, 1, 5, 8, 5, 9, 11, 6, 3, 3, 2, 1, 4]\n",
    "\n",
    "chooseTrees(height, cost)"
   ]
  },
  {
   "cell_type": "markdown",
   "metadata": {},
   "source": [
    "**9. Find the anti-diagonals of a square matrix**"
   ]
  },
  {
   "cell_type": "code",
   "execution_count": 13,
   "metadata": {},
   "outputs": [],
   "source": [
    "def antiDiagonal(matrix: list[int]) -> list[int]:\n",
    "    n = len(matrix)\n",
    "    antiDiagonals = [[] for _ in range(2*n-1)]\n",
    "\n",
    "    for i in range(n):\n",
    "        for j in range(n):\n",
    "            antiDiagonals[i+j].append(matrix[i][j])\n",
    "    \n",
    "    return antiDiagonals"
   ]
  },
  {
   "cell_type": "code",
   "execution_count": 14,
   "metadata": {},
   "outputs": [
    {
     "data": {
      "text/plain": [
       "[[0], [2, 1], [4, 3, 2], [5, 4], [6]]"
      ]
     },
     "execution_count": 14,
     "metadata": {},
     "output_type": "execute_result"
    }
   ],
   "source": [
    "matrix = [[x*2+y for x in range(3)] for y in range(3)]\n",
    "\n",
    "antiDiagonal(matrix)"
   ]
  },
  {
   "cell_type": "markdown",
   "metadata": {},
   "source": [
    "**10. K weakest rows in a matrix**"
   ]
  },
  {
   "cell_type": "code",
   "execution_count": 3,
   "metadata": {},
   "outputs": [],
   "source": [
    "def weakest_rows(mat: list[list[int]], k: int) -> list[int]:\n",
    "\n",
    "    res = []\n",
    "    for idx, row in enumerate(mat):\n",
    "        cur = (sum(row), idx)\n",
    "        res.append(cur)\n",
    "    res.sort()\n",
    "\n",
    "    return [i[1] for i in res[:k]]"
   ]
  },
  {
   "cell_type": "code",
   "execution_count": 4,
   "metadata": {},
   "outputs": [
    {
     "data": {
      "text/plain": [
       "[2, 0, 3]"
      ]
     },
     "execution_count": 4,
     "metadata": {},
     "output_type": "execute_result"
    }
   ],
   "source": [
    "matrix = [\n",
    "    [1,1,0,0,0],\n",
    "    [1,1,1,1,0],\n",
    "    [1,0,0,0,0],\n",
    "    [1,1,0,0,0],\n",
    "    [1,1,1,1,1]\n",
    "]\n",
    "\n",
    "weakest_rows(matrix, 3)"
   ]
  },
  {
   "cell_type": "markdown",
   "metadata": {},
   "source": [
    "**11. Transpose of a matrix**"
   ]
  },
  {
   "cell_type": "code",
   "execution_count": 3,
   "metadata": {},
   "outputs": [],
   "source": [
    "def transpose(arr: list[list[int]]) -> list[list[int]]:\n",
    "\n",
    "    # empty input : return []\n",
    "    if not arr:\n",
    "        return []\n",
    "\n",
    "    # one dimensional input : return same array with each element as a list\n",
    "    if isinstance(arr[0], int):\n",
    "        return [[item] for item in arr]\n",
    "\n",
    "    r, c = len(arr), len(arr[0])\n",
    "\n",
    "    # inplace swapping for square matrices\n",
    "    # if r == c:\n",
    "    #     for i in range(r):\n",
    "    #         for j in range(i + 1, r):\n",
    "    #             arr[i][j], arr[j][i] = arr[j][i], arr[i][j]\n",
    "    #     return arr\n",
    "\n",
    "    return  [[arr[row][col] for row in range(r)] for col in range(c)]\n"
   ]
  },
  {
   "cell_type": "code",
   "execution_count": 4,
   "metadata": {},
   "outputs": [
    {
     "name": "stdout",
     "output_type": "stream",
     "text": [
      "[]\n",
      "[[1], [2], [3]]\n",
      "[[1, 3], [2, 4]]\n",
      "[[1, 4], [2, 5], [3, 6]]\n",
      "[[1, 5, 9], [2, 6, 10], [3, 7, 11], [4, 8, 12]]\n"
     ]
    }
   ],
   "source": [
    "print(transpose([]))                \n",
    "print(transpose([1, 2, 3]))         \n",
    "print(transpose([[1, 2], [3, 4]]))  \n",
    "print(transpose([[1, 2, 3], [4, 5, 6]]))\n",
    "print(transpose([\n",
    "    [1, 2, 3, 4],\n",
    "    [5, 6, 7, 8],\n",
    "    [9, 10, 11, 12]\n",
    "    ]))"
   ]
  },
  {
   "cell_type": "markdown",
   "metadata": {},
   "source": [
    "**12. Merge overlapping intervals**"
   ]
  },
  {
   "cell_type": "code",
   "execution_count": 1,
   "metadata": {},
   "outputs": [],
   "source": [
    "def merge_intervals(arr: list[list[int]]) -> list[list[int]]:\n",
    "    \n",
    "    if not arr:\n",
    "        return []\n",
    "\n",
    "    arr.sort()\n",
    "    result = []\n",
    "    curr_interval = arr[0]\n",
    "    result.append(curr_interval)\n",
    "\n",
    "    for interval in arr:\n",
    "        curr_second = curr_interval[1]\n",
    "        next_first, next_second = interval\n",
    "\n",
    "        # Swapping condition\n",
    "        if curr_second >= next_first:\n",
    "            curr_interval[1] = max(curr_second, next_second)\n",
    "        else:\n",
    "            curr_interval = interval\n",
    "            result.append(curr_interval)\n",
    "    return result"
   ]
  },
  {
   "cell_type": "code",
   "execution_count": 2,
   "metadata": {},
   "outputs": [
    {
     "data": {
      "text/plain": [
       "[[1, 2], [3, 8], [9, 10]]"
      ]
     },
     "execution_count": 2,
     "metadata": {},
     "output_type": "execute_result"
    }
   ],
   "source": [
    "merge_intervals([\n",
    "    [1, 2],\n",
    "    [3, 5],\n",
    "    [4, 7],\n",
    "    [6, 8],\n",
    "    [9, 10]\n",
    "])"
   ]
  },
  {
   "cell_type": "markdown",
   "metadata": {},
   "source": [
    "**13. Monotonic array**"
   ]
  },
  {
   "cell_type": "code",
   "execution_count": 3,
   "metadata": {},
   "outputs": [],
   "source": [
    "def monotonic_array(nums: list[int]):\n",
    "    \n",
    "    if nums[-1] - nums[0] < 0:\n",
    "        nums.reverse()\n",
    "\n",
    "    for i in range(len(nums)-1):\n",
    "        if nums[i] > nums[i+1]:\n",
    "            return False        \n",
    "    return True"
   ]
  },
  {
   "cell_type": "code",
   "execution_count": 4,
   "metadata": {},
   "outputs": [
    {
     "data": {
      "text/plain": [
       "True"
      ]
     },
     "execution_count": 4,
     "metadata": {},
     "output_type": "execute_result"
    }
   ],
   "source": [
    "monotonic_array([6, 5, 4, 4, 3])"
   ]
  },
  {
   "cell_type": "markdown",
   "metadata": {},
   "source": [
    "**14. Minimum operations to empty the array**"
   ]
  },
  {
   "cell_type": "code",
   "execution_count": 4,
   "metadata": {},
   "outputs": [],
   "source": [
    "from collections import Counter\n",
    "from math import ceil\n",
    "\n",
    "def minOperations(nums: list[int]) -> int:\n",
    "\n",
    "    lookUp = dict(Counter(nums))\n",
    "    res = 0\n",
    "\n",
    "    for val in lookUp.values():\n",
    "        if val == 1:\n",
    "            return -1\n",
    "        res += ceil(val/3)\n",
    "    return res "
   ]
  },
  {
   "cell_type": "code",
   "execution_count": 5,
   "metadata": {},
   "outputs": [
    {
     "data": {
      "text/plain": [
       "7"
      ]
     },
     "execution_count": 5,
     "metadata": {},
     "output_type": "execute_result"
    }
   ],
   "source": [
    "nums = [14,12,14,14,12,14,14,12,12,12,12,14,14,12,14,14,14,12,12]\n",
    "minOperations(nums)"
   ]
  },
  {
   "cell_type": "markdown",
   "metadata": {},
   "source": [
    "**15. Number of Senior Citizens**"
   ]
  },
  {
   "cell_type": "code",
   "execution_count": 1,
   "metadata": {},
   "outputs": [],
   "source": [
    "\n",
    "def countSeniors(details: list[str]) -> int:\n",
    "    result = 0\n",
    "    for detail in details:\n",
    "        age = int(detail[11:13])\n",
    "        if age > 60:\n",
    "            result += 1\n",
    "    return result        "
   ]
  },
  {
   "cell_type": "code",
   "execution_count": 2,
   "metadata": {},
   "outputs": [
    {
     "data": {
      "text/plain": [
       "2"
      ]
     },
     "execution_count": 2,
     "metadata": {},
     "output_type": "execute_result"
    }
   ],
   "source": [
    "details = [\"7868190130M7522\",\"5303914400F9211\",\"9273338290F4010\"]\n",
    "\n",
    "countSeniors(details)"
   ]
  }
 ],
 "metadata": {
  "kernelspec": {
   "display_name": "Python (base-env)",
   "language": "python",
   "name": "base-env"
  },
  "language_info": {
   "codemirror_mode": {
    "name": "ipython",
    "version": 3
   },
   "file_extension": ".py",
   "mimetype": "text/x-python",
   "name": "python",
   "nbconvert_exporter": "python",
   "pygments_lexer": "ipython3",
   "version": "3.12.5"
  },
  "orig_nbformat": 4
 },
 "nbformat": 4,
 "nbformat_minor": 2
}
