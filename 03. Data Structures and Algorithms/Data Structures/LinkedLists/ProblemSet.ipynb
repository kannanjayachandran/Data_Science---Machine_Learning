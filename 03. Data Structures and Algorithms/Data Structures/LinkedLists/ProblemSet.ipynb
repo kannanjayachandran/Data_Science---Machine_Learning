{
 "cells": [
  {
   "cell_type": "markdown",
   "metadata": {},
   "source": [
    "<h1 style='color:#FEC260'> Linked List -  Problem Set I</h1>"
   ]
  },
  {
   "cell_type": "markdown",
   "metadata": {},
   "source": [
    "**1. Reverse singly linked list**"
   ]
  },
  {
   "cell_type": "code",
   "execution_count": 3,
   "metadata": {},
   "outputs": [],
   "source": [
    "# class ListNode:\n",
    "#     def __init__(self, val=0, next=None):\n",
    "#         self.val = val\n",
    "#         self.next = next\n",
    "\n",
    "def reverseList(head):\n",
    "    prev, curr = head, None\n",
    "\n",
    "    while curr:\n",
    "        temp = curr.next\n",
    "        curr.next = prev\n",
    "        prev = curr\n",
    "        curr = temp\n",
    "    return prev"
   ]
  },
  {
   "cell_type": "markdown",
   "metadata": {},
   "source": [
    "**2. Merge two sorted lists**"
   ]
  },
  {
   "cell_type": "code",
   "execution_count": 1,
   "metadata": {},
   "outputs": [],
   "source": [
    "# class ListNode:\n",
    "#     def __init__(self, val=0, next=None):\n",
    "#         self.val = val\n",
    "#         self.next = next\n",
    "\n",
    "def merge_two_lists(list1, list2):\n",
    "    dummyNode = ListNode()\n",
    "    tail = dummyNode\n",
    "\n",
    "    while list1 and list2:\n",
    "        if list1.val < list2.val:\n",
    "            tail.next = list1\n",
    "            list1 = list1.next\n",
    "        else:\n",
    "            tail.next = list2\n",
    "            list2 = list2.next\n",
    "        tail = tail.next\n",
    "    \n",
    "    if list1:\n",
    "        tail.next = list1\n",
    "    elif list2:\n",
    "        tail.next = list2\n",
    "    \n",
    "    return dummyNode.next"
   ]
  },
  {
   "cell_type": "markdown",
   "metadata": {},
   "source": [
    "**3. Design browser history using linked list**"
   ]
  },
  {
   "cell_type": "code",
   "execution_count": 4,
   "metadata": {},
   "outputs": [],
   "source": [
    "class DLLNode:\n",
    "    def __init__(self, url: str):\n",
    "        self.data = url\n",
    "        self.prev, self.next = None, None\n",
    "\n",
    "class BrowserHistory:\n",
    "    def __init__(self, homepage: str):\n",
    "        # 'homepage' is the first visited URL.\n",
    "        self.linked_list_head = DLLNode(homepage)\n",
    "        self.current = self.linked_list_head\n",
    "\n",
    "    def visit(self, url: str) -> None:\n",
    "        # Insert new node 'url' in the right of current node.\n",
    "        new_node = DLLNode(url)\n",
    "        self.current.next = new_node\n",
    "        new_node.prev = self.current\n",
    "        # Make this new node as current node now.\n",
    "        self.current = new_node\n",
    "\n",
    "    def back(self, steps: int) -> str:\n",
    "        # Move 'current' pointer in left direction.\n",
    "        while steps and self.current.prev:\n",
    "            self.current = self.current.prev\n",
    "            steps -= 1\n",
    "        return self.current.data\n",
    "\n",
    "    def forward(self, steps: int) -> str:\n",
    "        # Move 'current' pointer in right direction.\n",
    "        while steps and self.current.next:\n",
    "            self.current = self.current.next\n",
    "            steps -= 1\n",
    "        return self.current.data"
   ]
  },
  {
   "cell_type": "markdown",
   "metadata": {},
   "source": [
    "**4. Find the Duplicate number ~ Floyd's Cycle detection**"
   ]
  },
  {
   "cell_type": "code",
   "execution_count": 1,
   "metadata": {},
   "outputs": [],
   "source": [
    "def duplicate_number(nums: list[int]) -> int:\n",
    "\n",
    "    fast_ptr, slow_ptr = 0, 0\n",
    "    while True:\n",
    "        slow_ptr = nums[slow_ptr]\n",
    "        fast_ptr = nums[nums[fast_ptr]]\n",
    "\n",
    "        if slow_ptr == fast_ptr:\n",
    "            break\n",
    "    \n",
    "    slow_ptr2 = 0\n",
    "    while True:\n",
    "        slow_ptr = nums[slow_ptr]\n",
    "        slow_ptr2 = nums[slow_ptr2]\n",
    "\n",
    "        if slow_ptr2 == slow_ptr:\n",
    "            return slow_ptr"
   ]
  },
  {
   "cell_type": "code",
   "execution_count": 3,
   "metadata": {},
   "outputs": [
    {
     "data": {
      "text/plain": [
       "2"
      ]
     },
     "execution_count": 3,
     "metadata": {},
     "output_type": "execute_result"
    }
   ],
   "source": [
    "duplicate_number([1,3,4,2,2])"
   ]
  }
 ],
 "metadata": {
  "kernelspec": {
   "display_name": "ML",
   "language": "python",
   "name": "python3"
  },
  "language_info": {
   "codemirror_mode": {
    "name": "ipython",
    "version": 3
   },
   "file_extension": ".py",
   "mimetype": "text/x-python",
   "name": "python",
   "nbconvert_exporter": "python",
   "pygments_lexer": "ipython3",
   "version": "3.11.4"
  },
  "orig_nbformat": 4
 },
 "nbformat": 4,
 "nbformat_minor": 2
}
