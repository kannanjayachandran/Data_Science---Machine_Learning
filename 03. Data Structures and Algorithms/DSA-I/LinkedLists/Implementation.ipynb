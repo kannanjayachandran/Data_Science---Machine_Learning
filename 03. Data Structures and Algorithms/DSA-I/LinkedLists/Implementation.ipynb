{
 "cells": [
  {
   "cell_type": "markdown",
   "metadata": {},
   "source": [
    "<h1 style='color:#FEC260'> Linked List </h1>"
   ]
  },
  {
   "cell_type": "code",
   "execution_count": 46,
   "metadata": {},
   "outputs": [],
   "source": [
    "# SINGLY LINKED LIST\n",
    "class Node:\n",
    "    def __init__(self, data):\n",
    "        self.data = data\n",
    "        self.next = None\n",
    "\n",
    "\n",
    "def print_linked_list(head):\n",
    "    current = head\n",
    "    while current:\n",
    "        print(current.data, end=' ')\n",
    "        current = current.next\n",
    "    print()\n",
    "\n",
    "\n",
    "def search(head, key):\n",
    "    Current = head\n",
    "    position = 1\n",
    "    while Current:\n",
    "        if key == Current.data:\n",
    "            return position\n",
    "        Current = Current.next\n",
    "        position += 1\n",
    "    return -1\n",
    "\n",
    "\n",
    "def insert_at_beginning(head, data):\n",
    "    new_node = Node(data)\n",
    "    new_node.next = head\n",
    "    return new_node\n",
    "\n",
    "\n",
    "def insert_at_end(head, data):\n",
    "\n",
    "    new_node = Node(data)\n",
    "    if head is None:\n",
    "        return new_node\n",
    "    current = head\n",
    "    while current.next:\n",
    "        current = current.next\n",
    "    current.next = new_node\n",
    "    return head\n",
    "\n",
    "\n",
    "def insert_at_pos(head, data, position):\n",
    "    new_node = Node(data)\n",
    "    if position < 1:\n",
    "        raise ValueError(\"Position should >= 1\")\n",
    "    if position == 1:\n",
    "        new_node.next = head\n",
    "        return new_node\n",
    "    current = head\n",
    "    for _ in range(position - 2):\n",
    "        if current is None:\n",
    "            raise IndexError(\"Position out of bound\")\n",
    "        current = current.next\n",
    "    if current is None:\n",
    "        raise IndexError(\"Position out of bound\")\n",
    "    new_node.next = current.next\n",
    "    current.next = new_node\n",
    "    return head\n",
    "\n",
    "\n",
    "def delete_first_node(head):\n",
    "    if head is None:\n",
    "        return None\n",
    "    return head.next\n",
    "\n",
    "\n",
    "def delete_last_node(head):\n",
    "    if head is None or head.next is None:\n",
    "        return None\n",
    "    current = head\n",
    "    while current.next.next:\n",
    "        current = current.next\n",
    "    current.next = None\n",
    "    return head\n",
    "\n",
    "\n",
    "def reverse_linked_list(head):\n",
    "    prev = None\n",
    "    current = head\n",
    "    while current is not None:\n",
    "        next_ptr = current.next\n",
    "        current.next = prev\n",
    "        prev = current\n",
    "        current = next_ptr\n",
    "    return prev"
   ]
  },
  {
   "cell_type": "code",
   "execution_count": 47,
   "metadata": {},
   "outputs": [
    {
     "name": "stdout",
     "output_type": "stream",
     "text": [
      "10 20 30 40 \n"
     ]
    },
    {
     "data": {
      "text/plain": [
       "3"
      ]
     },
     "execution_count": 47,
     "metadata": {},
     "output_type": "execute_result"
    }
   ],
   "source": [
    "# Create, print, and search List\n",
    "head = Node(10)\n",
    "head.next = Node(20)\n",
    "head.next.next = Node(30)\n",
    "head.next.next.next = Node(40)\n",
    "\n",
    "print_linked_list(head)\n",
    "search(head, 30)"
   ]
  },
  {
   "cell_type": "code",
   "execution_count": 48,
   "metadata": {},
   "outputs": [
    {
     "name": "stdout",
     "output_type": "stream",
     "text": [
      "300 200 100 \n"
     ]
    }
   ],
   "source": [
    "# Insert at the beginning\n",
    "head = None\n",
    "head = insert_at_beginning(head, 100)\n",
    "head = insert_at_beginning(head, 200)\n",
    "head = insert_at_beginning(head, 300)\n",
    "\n",
    "print_linked_list(head)"
   ]
  },
  {
   "cell_type": "code",
   "execution_count": 49,
   "metadata": {},
   "outputs": [
    {
     "name": "stdout",
     "output_type": "stream",
     "text": [
      "1 2 0 100 \n"
     ]
    }
   ],
   "source": [
    "# Insert at the end\n",
    "head = None\n",
    "head = insert_at_end(head, 1)\n",
    "head = insert_at_end(head, 2)\n",
    "head = insert_at_end(head, 0)\n",
    "head = insert_at_end(head, 100)\n",
    "\n",
    "\n",
    "print_linked_list(head)"
   ]
  },
  {
   "cell_type": "code",
   "execution_count": 50,
   "metadata": {},
   "outputs": [
    {
     "name": "stdout",
     "output_type": "stream",
     "text": [
      "Position out of bound happened.\n",
      "100 10 50 \n"
     ]
    }
   ],
   "source": [
    "# Insert at any position\n",
    "head = None\n",
    "head = insert_at_pos(head, 10, 1)\n",
    "\n",
    "try:\n",
    "    head = insert_at_pos(head, 1000, 5)\n",
    "except IndexError as ie:\n",
    "    print(f'{ie} happened.')\n",
    "    \n",
    "head = insert_at_pos(head, 50, 2)\n",
    "head = insert_at_pos(head, 100, 1)\n",
    "\n",
    "print_linked_list(head)"
   ]
  },
  {
   "cell_type": "code",
   "execution_count": 51,
   "metadata": {},
   "outputs": [
    {
     "name": "stdout",
     "output_type": "stream",
     "text": [
      "Current list:  100 10 50 \n",
      "\n",
      "After removing first element: 10 50 \n",
      "\n",
      "After removing second element: 50 \n",
      "\n",
      "After removing third element: \n",
      "\n",
      "After removing last element: \n"
     ]
    }
   ],
   "source": [
    "# delete first element\n",
    "print(\"Current list: \", end=' ')\n",
    "print_linked_list(head)\n",
    "\n",
    "head = delete_first_node(head)\n",
    "print('\\nAfter removing first element:', end=' ')\n",
    "print_linked_list(head)\n",
    "\n",
    "\n",
    "head = delete_first_node(head)\n",
    "print('\\nAfter removing second element:', end=' ')\n",
    "print_linked_list(head)\n",
    "\n",
    "\n",
    "head = delete_first_node(head)\n",
    "print('\\nAfter removing third element:', end=' ')\n",
    "print_linked_list(head)\n",
    "\n",
    "\n",
    "head = delete_first_node(head)\n",
    "print('\\nAfter removing last element:', end=' ')\n",
    "print_linked_list(head)"
   ]
  },
  {
   "cell_type": "code",
   "execution_count": 52,
   "metadata": {},
   "outputs": [
    {
     "name": "stdout",
     "output_type": "stream",
     "text": [
      "1 2 0 100 \n",
      "1 2 0 \n"
     ]
    }
   ],
   "source": [
    "head = None\n",
    "head = insert_at_end(head, 1)\n",
    "head = insert_at_end(head, 2)\n",
    "head = insert_at_end(head, 0)\n",
    "head = insert_at_end(head, 100)\n",
    "\n",
    "\n",
    "print_linked_list(head)\n",
    "\n",
    "head = delete_last_node(head)\n",
    "\n",
    "print_linked_list(head)"
   ]
  },
  {
   "cell_type": "code",
   "execution_count": 53,
   "metadata": {},
   "outputs": [
    {
     "name": "stdout",
     "output_type": "stream",
     "text": [
      "1 2 0 100 \n",
      "100 0 2 1 \n"
     ]
    }
   ],
   "source": [
    "head = None\n",
    "head = insert_at_end(head, 1)\n",
    "head = insert_at_end(head, 2)\n",
    "head = insert_at_end(head, 0)\n",
    "head = insert_at_end(head, 100)\n",
    "\n",
    "\n",
    "print_linked_list(head)\n",
    "\n",
    "head = reverse_linked_list(head)\n",
    "\n",
    "print_linked_list(head)"
   ]
  },
  {
   "cell_type": "code",
   "execution_count": 3,
   "metadata": {},
   "outputs": [],
   "source": [
    "# CIRCULAR LINKED LIST\n",
    "class Node:\n",
    "    def __init__(self, data):\n",
    "        self.data = data\n",
    "        self.next = None\n",
    "\n",
    "\n",
    "def print_circular_list(head: Node):\n",
    "    if head is None:\n",
    "        return None\n",
    "    \n",
    "    current = head\n",
    "    while True:\n",
    "        print(current.data, end=' -> ')\n",
    "        current = current.next\n",
    "        if current == head:\n",
    "            break\n",
    "    print('None')\n",
    "\n",
    "\n",
    "def insert_at_beginning(head: Node, data: int):\n",
    "    new_node = Node(data)\n",
    "    if head is None:\n",
    "        new_node.next = new_node\n",
    "        return new_node\n",
    "    new_node.next = head.next\n",
    "    head.next = new_node\n",
    "    head.data, new_node.data = new_node.data, head.data\n",
    "    return head\n",
    "\n",
    "def insert_at_end(head: Node, data: int):\n",
    "    new_node = Node(data)\n",
    "    if head is None:\n",
    "        new_node.next = new_node\n",
    "        return new_node\n",
    "    new_node.next = head.next\n",
    "    head.next = new_node\n",
    "    head.data, new_node.data = new_node.data, head.data\n",
    "    return new_node\n",
    "\n",
    "\n",
    "def delete_first_node(head: Node):\n",
    "    if head is None:\n",
    "        return None\n",
    "    \n",
    "    # If there is only one node in the list\n",
    "    if head.next == head:\n",
    "        return None\n",
    "    head.data = head.next.data\n",
    "    head.next = head.next.next\n",
    "    return head\n",
    "\n",
    "\n",
    "def delete_last_node(head: Node):\n",
    "    if head is None:\n",
    "        return None\n",
    "    \n",
    "    # If there is only one node in the list\n",
    "    if head.next == head:\n",
    "        return None\n",
    "    current = head\n",
    "    while current.next.next != head:\n",
    "        current = current.next\n",
    "    current.next = head\n",
    "    return head\n",
    "\n",
    "\n",
    "def delete_kth_node(head: Node, k: int):\n",
    "    if head is None:\n",
    "        return None\n",
    "    if k == 1:\n",
    "        return delete_first_node(head)\n",
    "    current = head\n",
    "    for _ in range(k-2):\n",
    "        current = current.next\n",
    "    current.next = current.next.next\n",
    "    return head\n",
    "\n",
    "\n",
    "def search(head: Node, key: int):\n",
    "    if head is None:\n",
    "        return False\n",
    "    current = head\n",
    "    while True:\n",
    "        if current.data == key:\n",
    "            return True\n",
    "        current = current.next\n",
    "        if current == head:\n",
    "            return False\n",
    "        \n",
    "\n",
    "def reverse_circular_list(head: Node):\n",
    "    if head is None:\n",
    "        return None\n",
    "    prev = None\n",
    "    current = head\n",
    "    while current is not None:\n",
    "        next_node = current.next\n",
    "        current.next = prev\n",
    "        prev = current\n",
    "        current = next_node\n",
    "        if current == head:\n",
    "            break\n",
    "    head.next = prev\n",
    "    return prev"
   ]
  },
  {
   "cell_type": "code",
   "execution_count": 4,
   "metadata": {},
   "outputs": [
    {
     "name": "stdout",
     "output_type": "stream",
     "text": [
      "10 -> 20 -> 30 -> 40 -> None\n"
     ]
    }
   ],
   "source": [
    "# Create and Print list\n",
    "one = Node(10)\n",
    "two = Node(20)\n",
    "three = Node(30)\n",
    "four = Node(40)\n",
    "\n",
    "one.next = two\n",
    "two.next = three\n",
    "three.next = four\n",
    "four.next = one\n",
    "\n",
    "print_circular_list(one)"
   ]
  },
  {
   "cell_type": "code",
   "execution_count": 5,
   "metadata": {},
   "outputs": [],
   "source": [
    "from typing import Callable, Optional\n",
    "\n",
    "\n",
    "def perform_operations(head: Node, operation: Callable[[Node, Optional[int]], Node], *args):\n",
    "    print_circular_list(head)\n",
    "    head = operation(head, *args) \n",
    "    print_circular_list(head)\n",
    "    return head"
   ]
  },
  {
   "cell_type": "code",
   "execution_count": 6,
   "metadata": {},
   "outputs": [
    {
     "name": "stdout",
     "output_type": "stream",
     "text": [
      "10 -> 20 -> 30 -> 40 -> None\n",
      "1 -> 10 -> 20 -> 30 -> 40 -> None\n"
     ]
    }
   ],
   "source": [
    "# Insert at the beginning of the list\n",
    "one = perform_operations(one, insert_at_beginning, 1)"
   ]
  },
  {
   "cell_type": "code",
   "execution_count": 7,
   "metadata": {},
   "outputs": [
    {
     "name": "stdout",
     "output_type": "stream",
     "text": [
      "1 -> 10 -> 20 -> 30 -> 40 -> None\n",
      "1 -> 10 -> 20 -> 30 -> 40 -> 100 -> None\n"
     ]
    }
   ],
   "source": [
    "one = perform_operations(one, insert_at_end, 100)"
   ]
  },
  {
   "cell_type": "code",
   "execution_count": 8,
   "metadata": {},
   "outputs": [
    {
     "name": "stdout",
     "output_type": "stream",
     "text": [
      "1 -> 10 -> 20 -> 30 -> 40 -> 100 -> None\n",
      "10 -> 20 -> 30 -> 40 -> 100 -> None\n"
     ]
    }
   ],
   "source": [
    "one = perform_operations(one, delete_first_node)"
   ]
  },
  {
   "cell_type": "code",
   "execution_count": 9,
   "metadata": {},
   "outputs": [
    {
     "name": "stdout",
     "output_type": "stream",
     "text": [
      "10 -> 20 -> 30 -> 40 -> 100 -> None\n",
      "10 -> 20 -> 30 -> 40 -> None\n"
     ]
    }
   ],
   "source": [
    "one = perform_operations(one, delete_last_node)"
   ]
  },
  {
   "cell_type": "code",
   "execution_count": 10,
   "metadata": {},
   "outputs": [
    {
     "name": "stdout",
     "output_type": "stream",
     "text": [
      "10 -> 20 -> 30 -> 40 -> None\n",
      "10 -> 20 -> 40 -> None\n"
     ]
    }
   ],
   "source": [
    "one = perform_operations(one, delete_kth_node, 3)"
   ]
  },
  {
   "cell_type": "code",
   "execution_count": 11,
   "metadata": {},
   "outputs": [
    {
     "data": {
      "text/plain": [
       "True"
      ]
     },
     "execution_count": 11,
     "metadata": {},
     "output_type": "execute_result"
    }
   ],
   "source": [
    "search(one, 40)"
   ]
  },
  {
   "cell_type": "code",
   "execution_count": null,
   "metadata": {},
   "outputs": [
    {
     "name": "stdout",
     "output_type": "stream",
     "text": [
      "10 20 30 40 \n",
      "40 30 20 10 \n"
     ]
    }
   ],
   "source": [
    "one  = perform_operations(one, reverse_circular_list)"
   ]
  },
  {
   "cell_type": "code",
   "execution_count": null,
   "metadata": {},
   "outputs": [],
   "source": [
    "# DOUBLY LINKED LIST\n",
    "class Node:\n",
    "    def __init__(self, data):\n",
    "        self.data = data\n",
    "        self.prev = None\n",
    "        self.next = None\n",
    "\n",
    "\n",
    "def print_doubly(head: Node):\n",
    "    current = head\n",
    "    while current:\n",
    "        print(current.data, end=' -><- ')\n",
    "        current = current.next\n",
    "    print('None')\n",
    "\n",
    "\n",
    "def insert_at_beginning(head, data):\n",
    "    new_node = Node(data)\n",
    "    new_node.next = head\n",
    "    if head is not None:\n",
    "        head.prev = new_node\n",
    "    return new_node\n",
    "\n",
    "\n",
    "def insert_at_end(head: Node, data):\n",
    "    new_node = Node(data)\n",
    "    if head is None or head.next is None:\n",
    "        return new_node\n",
    "    current = head\n",
    "    while current.next.next is not None:\n",
    "        current = current.next\n",
    "    current.next = new_node\n",
    "    new_node.prev = current\n",
    "    return head\n",
    "\n",
    "\n",
    "def delete_first_node(head: Node):\n",
    "    if head is None or head.next is None:\n",
    "        return None\n",
    "    head = head.next\n",
    "    head.prev = None\n",
    "    return head\n",
    "\n",
    "\n",
    "def delete_last_node(head: Node):\n",
    "    if head is None or head.next is None:\n",
    "        return None\n",
    "    current = head\n",
    "    while current.next.next is not None:\n",
    "        current = current.next\n",
    "    current.next = None\n",
    "    return head\n",
    "\n",
    "\n",
    "def delete_kth_node(head: Node, k: int):\n",
    "    if head is None:\n",
    "        return None\n",
    "    \n",
    "    if k == 1:\n",
    "        return delete_first_node(head)\n",
    "\n",
    "    current = head\n",
    "    for _ in range(k - 2):\n",
    "        if current.next is None:\n",
    "            return head\n",
    "        current = current.next\n",
    "    if current.next is None:\n",
    "        current.prev = None\n",
    "        return head\n",
    "    \n",
    "    current.next = current.next.next\n",
    "    if current.next.next is not None:\n",
    "        current.next.next.prev = current\n",
    "    return head\n",
    "\n",
    "\n",
    "def reverse_doubly_list(head: Node):\n",
    "    prev = None\n",
    "    current = head\n",
    "    while current is not None:\n",
    "        prev = current\n",
    "        current.next, current.prev = current.prev, current.next\n",
    "        current = current.prev\n",
    "    return prev  \n"
   ]
  },
  {
   "cell_type": "code",
   "execution_count": null,
   "metadata": {},
   "outputs": [],
   "source": [
    "def perform_operations2(head: Node, operation: Callable[[Node, Optional[int]], Node], *args):\n",
    "    print_doubly(head)\n",
    "    head = operation(head, *args) \n",
    "    print_doubly(head)\n",
    "    return head"
   ]
  },
  {
   "cell_type": "code",
   "execution_count": null,
   "metadata": {},
   "outputs": [
    {
     "name": "stdout",
     "output_type": "stream",
     "text": [
      "10 -><- 20 -><- 30 -><- 40 -><- None\n"
     ]
    }
   ],
   "source": [
    "one = Node(10)\n",
    "two = Node(20)\n",
    "three = Node(30)\n",
    "four = Node(40)\n",
    "\n",
    "one.next = two\n",
    "two.next = three\n",
    "three.next = four\n",
    "\n",
    "two.prev = one\n",
    "three.prev = two\n",
    "four.prev = three\n",
    "\n",
    "print_doubly(one)"
   ]
  },
  {
   "cell_type": "code",
   "execution_count": null,
   "metadata": {},
   "outputs": [
    {
     "name": "stdout",
     "output_type": "stream",
     "text": [
      "10 -><- 20 -><- 30 -><- 40 -><- None\n",
      "1 -><- 10 -><- 20 -><- 30 -><- 40 -><- None\n"
     ]
    }
   ],
   "source": [
    "one = perform_operations2(one, insert_at_beginning, 1)"
   ]
  },
  {
   "cell_type": "code",
   "execution_count": null,
   "metadata": {},
   "outputs": [
    {
     "name": "stdout",
     "output_type": "stream",
     "text": [
      "1 -><- 10 -><- 20 -><- 30 -><- 40 -><- None\n",
      "1 -><- 10 -><- 20 -><- 30 -><- 100 -><- None\n"
     ]
    }
   ],
   "source": [
    "one = perform_operations2(one, insert_at_end, 100)"
   ]
  },
  {
   "cell_type": "code",
   "execution_count": null,
   "metadata": {},
   "outputs": [
    {
     "name": "stdout",
     "output_type": "stream",
     "text": [
      "1 -><- 10 -><- 20 -><- 30 -><- 100 -><- None\n",
      "100 -><- 30 -><- 20 -><- 10 -><- 1 -><- None\n"
     ]
    }
   ],
   "source": [
    "one = perform_operations2(one, reverse_doubly_list)"
   ]
  },
  {
   "cell_type": "code",
   "execution_count": null,
   "metadata": {},
   "outputs": [
    {
     "name": "stdout",
     "output_type": "stream",
     "text": [
      "100 -><- 30 -><- 20 -><- 10 -><- 1 -><- None\n",
      "30 -><- 20 -><- 10 -><- 1 -><- None\n"
     ]
    }
   ],
   "source": [
    "one = perform_operations2(one, delete_first_node)"
   ]
  },
  {
   "cell_type": "code",
   "execution_count": null,
   "metadata": {},
   "outputs": [
    {
     "name": "stdout",
     "output_type": "stream",
     "text": [
      "30 -><- 20 -><- 10 -><- 1 -><- None\n",
      "30 -><- 20 -><- 10 -><- None\n"
     ]
    }
   ],
   "source": [
    "one = perform_operations2(one, delete_last_node)"
   ]
  },
  {
   "cell_type": "code",
   "execution_count": null,
   "metadata": {},
   "outputs": [
    {
     "name": "stdout",
     "output_type": "stream",
     "text": [
      "30 -><- 20 -><- 10 -><- None\n",
      "30 -><- 10 -><- None\n"
     ]
    }
   ],
   "source": [
    "one = perform_operations2(one, delete_kth_node, 2)"
   ]
  }
 ],
 "metadata": {
  "kernelspec": {
   "display_name": "ML",
   "language": "python",
   "name": "python3"
  },
  "language_info": {
   "codemirror_mode": {
    "name": "ipython",
    "version": 3
   },
   "file_extension": ".py",
   "mimetype": "text/x-python",
   "name": "python",
   "nbconvert_exporter": "python",
   "pygments_lexer": "ipython3",
   "version": "3.11.9"
  },
  "orig_nbformat": 4
 },
 "nbformat": 4,
 "nbformat_minor": 2
}
