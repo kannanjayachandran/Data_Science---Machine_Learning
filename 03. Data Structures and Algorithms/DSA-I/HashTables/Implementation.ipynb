{
 "cells": [
  {
   "cell_type": "markdown",
   "metadata": {},
   "source": [
    "<h1 style='color:#FEC260'> Hash map </h1>"
   ]
  },
  {
   "cell_type": "markdown",
   "metadata": {},
   "source": [
    "A simple hash map implementation with open addressing and linear probing."
   ]
  },
  {
   "cell_type": "code",
   "execution_count": 24,
   "metadata": {},
   "outputs": [],
   "source": [
    "class MyHash:\n",
    "    def __init__(self, c) -> None:\n",
    "        self.capacity = c\n",
    "        self.size = 0\n",
    "        self.table = [None] * c\n",
    "    \n",
    "    def hash_fn(self, x):\n",
    "        return x % self.capacity\n",
    "    \n",
    "    def search(self, x):\n",
    "        key = self.hash_fn(x)\n",
    "        t = self.table\n",
    "        key_temp = key\n",
    "        while t[key_temp] != None:\n",
    "            if t[key_temp] == x:\n",
    "                return True\n",
    "            # linear probing\n",
    "            key_temp = (key_temp+1) % self.capacity \n",
    "            # if we circle the list and reach the same place\n",
    "            if key_temp == key: \n",
    "                return False\n",
    "        return False\n",
    "    \n",
    "    def insert(self, x):\n",
    "        # hash table is full\n",
    "        if self.size == self.capacity: \n",
    "            return False\n",
    "        # Key already exists in the hash table\n",
    "        if self.search(x):\n",
    "            return False\n",
    "        key = self.hash_fn(x)\n",
    "        t = self.table\n",
    "        # assume that -1 is not inserted into the hash table\n",
    "        # we can use some other reference block instead of -1\n",
    "        while t[key] not in (None, -1):\n",
    "            key = (key + 1) % self.capacity\n",
    "        t[key] = x\n",
    "        self.size += 1\n",
    "        return True\n",
    "    \n",
    "    def remove(self, x):\n",
    "        key = self.hash_fn(x)\n",
    "        t = self.table\n",
    "        key_temp = key\n",
    "        while t[key] != None:\n",
    "            if t[key] == x:\n",
    "                t[key] = -1\n",
    "                return True\n",
    "            key = (key + 1) % self.capacity\n",
    "            if key == key_temp:\n",
    "                return False\n",
    "        return False\n",
    "    \n",
    "    def show_table(self):\n",
    "        if self.size:\n",
    "            print(\"\\nElements\")\n",
    "            for element in self.table:\n",
    "                if element != -1 and element != None:\n",
    "                    print(element)\n",
    "            print(\"\\n\")"
   ]
  },
  {
   "cell_type": "code",
   "execution_count": 21,
   "metadata": {},
   "outputs": [
    {
     "name": "stdout",
     "output_type": "stream",
     "text": [
      "\n",
      "Elements\n",
      "20\n",
      "90\n",
      "40\n",
      "10\n",
      "100\n",
      "\n",
      "\n",
      "\n",
      "Elements\n",
      "20\n",
      "90\n",
      "40\n",
      "10\n",
      "\n",
      "\n"
     ]
    },
    {
     "data": {
      "text/plain": [
       "5"
      ]
     },
     "execution_count": 21,
     "metadata": {},
     "output_type": "execute_result"
    }
   ],
   "source": [
    "hash_table1 = MyHash(17)\n",
    "hash_table1.insert(10)\n",
    "hash_table1.insert(20)\n",
    "hash_table1.insert(100)\n",
    "hash_table1.insert(40)\n",
    "hash_table1.insert(90)\n",
    "hash_table1.show_table()\n",
    "hash_table1.remove(100)\n",
    "hash_table1.show_table()\n",
    "hash_table1.search(90)"
   ]
  }
 ],
 "metadata": {
  "kernelspec": {
   "display_name": "ML",
   "language": "python",
   "name": "python3"
  },
  "language_info": {
   "codemirror_mode": {
    "name": "ipython",
    "version": 3
   },
   "file_extension": ".py",
   "mimetype": "text/x-python",
   "name": "python",
   "nbconvert_exporter": "python",
   "pygments_lexer": "ipython3",
   "version": "3.11.9"
  },
  "orig_nbformat": 4
 },
 "nbformat": 4,
 "nbformat_minor": 2
}
