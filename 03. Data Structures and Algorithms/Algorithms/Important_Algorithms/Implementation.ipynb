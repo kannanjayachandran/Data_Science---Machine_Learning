{
 "cells": [
  {
   "cell_type": "markdown",
   "metadata": {},
   "source": [
    "<h1 align=\"center\" style=\"color:#FEC260\"> Algorithms </h1>\n",
    "\n",
    "\n",
    "**1. Kadane's Algorithm**"
   ]
  },
  {
   "cell_type": "code",
   "execution_count": 3,
   "metadata": {},
   "outputs": [],
   "source": [
    "def kadanes(nums: list[int]) -> int:\n",
    "\n",
    "    if len(nums) == 0:\n",
    "        return 0\n",
    "\n",
    "    max_sum = nums[0]\n",
    "    curr_sum = 0\n",
    "\n",
    "    for n in nums:\n",
    "        curr_sum = max(curr_sum + n, 0)\n",
    "        max_sum = max(curr_sum, max_sum)\n",
    "\n",
    "    return max_sum"
   ]
  },
  {
   "cell_type": "code",
   "execution_count": 4,
   "metadata": {},
   "outputs": [
    {
     "data": {
      "text/plain": [
       "7"
      ]
     },
     "execution_count": 4,
     "metadata": {},
     "output_type": "execute_result"
    }
   ],
   "source": [
    "kadanes([4, -1, 2, -7, 3, 4])"
   ]
  },
  {
   "cell_type": "markdown",
   "metadata": {},
   "source": [
    "> Indices of the sub-array with the maximum sum"
   ]
  },
  {
   "cell_type": "code",
   "execution_count": 5,
   "metadata": {},
   "outputs": [],
   "source": [
    "def slidingWindow(nums: list[int]) -> list[int]:\n",
    "\n",
    "    maxSum = nums[0]\n",
    "    currSum = 0\n",
    "    maxL, MaxR = 0, 0\n",
    "    l_ptr = 0\n",
    "\n",
    "    for r_ptr in range(len(nums)):\n",
    "\n",
    "        if currSum < 0:\n",
    "            currSum = 0\n",
    "            l_ptr = r_ptr\n",
    "        \n",
    "        currSum += nums[r_ptr]\n",
    "        if currSum > maxSum:\n",
    "            maxSum = currSum\n",
    "            maxL, MaxR = l_ptr, r_ptr\n",
    "    \n",
    "    return [maxL, MaxR]"
   ]
  },
  {
   "cell_type": "code",
   "execution_count": 6,
   "metadata": {},
   "outputs": [
    {
     "data": {
      "text/plain": [
       "[4, 5]"
      ]
     },
     "execution_count": 6,
     "metadata": {},
     "output_type": "execute_result"
    }
   ],
   "source": [
    "slidingWindow([4, -1, 2, -7, 3, 4])"
   ]
  }
 ],
 "metadata": {
  "kernelspec": {
   "display_name": "ML",
   "language": "python",
   "name": "python3"
  },
  "language_info": {
   "codemirror_mode": {
    "name": "ipython",
    "version": 3
   },
   "file_extension": ".py",
   "mimetype": "text/x-python",
   "name": "python",
   "nbconvert_exporter": "python",
   "pygments_lexer": "ipython3",
   "version": "3.11.5"
  },
  "orig_nbformat": 4
 },
 "nbformat": 4,
 "nbformat_minor": 2
}
