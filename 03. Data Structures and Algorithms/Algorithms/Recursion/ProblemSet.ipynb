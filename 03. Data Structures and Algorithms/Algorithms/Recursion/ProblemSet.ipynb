{
 "cells": [
  {
   "cell_type": "markdown",
   "metadata": {},
   "source": [
    "<h1 style='color:#FEC260'> Recursion </h1>"
   ]
  },
  {
   "cell_type": "markdown",
   "metadata": {},
   "source": [
    "**1. Print 1 to n using recursion.**"
   ]
  },
  {
   "cell_type": "code",
   "execution_count": 1,
   "metadata": {},
   "outputs": [],
   "source": [
    "def print_to_n(n: int) -> None:\n",
    "    if n <= 0:\n",
    "        return \n",
    "    print_to_n(n-1)\n",
    "    print(n, end=' ')"
   ]
  },
  {
   "cell_type": "code",
   "execution_count": 2,
   "metadata": {},
   "outputs": [
    {
     "name": "stdout",
     "output_type": "stream",
     "text": [
      "1 2 3 4 5 6 7 "
     ]
    }
   ],
   "source": [
    "print_to_n(7)"
   ]
  },
  {
   "cell_type": "markdown",
   "metadata": {
    "vscode": {
     "languageId": "plaintext"
    }
   },
   "source": [
    "**1. Fibonacci series { Two branch recursion }**"
   ]
  },
  {
   "cell_type": "code",
   "execution_count": 5,
   "metadata": {},
   "outputs": [],
   "source": [
    "def fib(n: int) -> int:\n",
    "    if n <= 1:\n",
    "        return n\n",
    "    else: \n",
    "        return fib(n-1) + fib(n-2)"
   ]
  },
  {
   "cell_type": "code",
   "execution_count": 6,
   "metadata": {},
   "outputs": [
    {
     "data": {
      "text/plain": [
       "55"
      ]
     },
     "execution_count": 6,
     "metadata": {},
     "output_type": "execute_result"
    }
   ],
   "source": [
    "fib(10)"
   ]
  },
  {
   "cell_type": "markdown",
   "metadata": {},
   "source": [
    "**2. Factorial using recursion { Single branch recursion }**"
   ]
  },
  {
   "cell_type": "code",
   "execution_count": 9,
   "metadata": {},
   "outputs": [],
   "source": [
    "def facto(num: int) -> int:\n",
    "    if num <= 1:\n",
    "        return 1\n",
    "    return num * facto(num-1)"
   ]
  },
  {
   "cell_type": "code",
   "execution_count": 10,
   "metadata": {},
   "outputs": [
    {
     "data": {
      "text/plain": [
       "120"
      ]
     },
     "execution_count": 10,
     "metadata": {},
     "output_type": "execute_result"
    }
   ],
   "source": [
    "facto(5)"
   ]
  },
  {
   "cell_type": "markdown",
   "metadata": {},
   "source": [
    "**3. Tower of Hanoi**"
   ]
  },
  {
   "cell_type": "code",
   "execution_count": 5,
   "metadata": {},
   "outputs": [
    {
     "name": "stdout",
     "output_type": "stream",
     "text": [
      "move disk 1 from rod A to rod C\n",
      "move disk 2 from rod A to rod B\n",
      "move disk 1 from rod C to rod B\n",
      "move disk 3 from rod A to rod C\n",
      "move disk 1 from rod B to rod A\n",
      "move disk 2 from rod B to rod C\n",
      "move disk 1 from rod A to rod C\n",
      "Number of steps required: 7\n"
     ]
    }
   ],
   "source": [
    "def toh( n, fromm, to, aux):\n",
    "    if n == 1:\n",
    "        print(f'move disk 1 from rod {fromm} to rod {to}')\n",
    "    else:\n",
    "        toh(n-1, fromm, aux, to)\n",
    "        print(f'move disk {n} from rod {fromm} to rod {to}')\n",
    "        toh(n-1, aux, to, fromm)\n",
    "\n",
    "    return f\"Number of steps required: {(2**n) -1}\"\n",
    "    \n",
    "print(toh(3, 'A','C', 'B'))"
   ]
  },
  {
   "cell_type": "markdown",
   "metadata": {},
   "source": [
    "**4. Binary search using recursion**"
   ]
  },
  {
   "cell_type": "code",
   "execution_count": 6,
   "metadata": {},
   "outputs": [],
   "source": [
    "# O(log n) time and space\n",
    "def bs(arr: list[int], start: int, end: int, val: int,) -> int:\n",
    "\n",
    "    # base case\n",
    "    if start > end:\n",
    "        return -1\n",
    "\n",
    "    mid = start + (end-start) // 2\n",
    "    if arr[mid] == val:\n",
    "        return mid\n",
    "    if arr[mid] > val:\n",
    "        return bs(arr, start, mid-1, val)\n",
    "    else:\n",
    "        return bs(arr, mid+1, end, val)"
   ]
  },
  {
   "cell_type": "code",
   "execution_count": 7,
   "metadata": {},
   "outputs": [
    {
     "data": {
      "text/plain": [
       "4"
      ]
     },
     "execution_count": 7,
     "metadata": {},
     "output_type": "execute_result"
    }
   ],
   "source": [
    "bs([1, 3, 5, 7, 100], 0, 5, 100)"
   ]
  },
  {
   "cell_type": "markdown",
   "metadata": {},
   "source": [
    "**5. Given a string, remove the argument letter**"
   ]
  },
  {
   "cell_type": "code",
   "execution_count": 7,
   "metadata": {},
   "outputs": [],
   "source": [
    "def remove_char(input_str: str, char_to_remove: str) -> str:\n",
    "\n",
    "    # base case\n",
    "    if not input_str:\n",
    "        return input_str\n",
    "    \n",
    "    # skip if char to remove is present\n",
    "    if input_str[0] == char_to_remove:\n",
    "        return remove_char(input_str[1:], char_to_remove)\n",
    "    else:\n",
    "        return input_str[0] + remove_char(input_str[1:], char_to_remove)"
   ]
  },
  {
   "cell_type": "code",
   "execution_count": 14,
   "metadata": {},
   "outputs": [
    {
     "data": {
      "text/plain": [
       "'Ths s a long strng to test'"
      ]
     },
     "execution_count": 14,
     "metadata": {},
     "output_type": "execute_result"
    }
   ],
   "source": [
    "remove_char(\"This is a long string to test\", \"i\")"
   ]
  },
  {
   "cell_type": "markdown",
   "metadata": {},
   "source": [
    "**6. Josephus Problem**"
   ]
  },
  {
   "cell_type": "code",
   "execution_count": 3,
   "metadata": {},
   "outputs": [
    {
     "data": {
      "text/plain": [
       "3"
      ]
     },
     "execution_count": 3,
     "metadata": {},
     "output_type": "execute_result"
    }
   ],
   "source": [
    "# 0 based indexing\n",
    "def josephus(n: int, k: int) -> int:\n",
    "    if n == 1:\n",
    "        return 0\n",
    "    else:\n",
    "        return (josephus(n-1, k) + k) % n\n",
    "\n",
    "\n",
    "josephus(5, 3)    "
   ]
  },
  {
   "cell_type": "code",
   "execution_count": 5,
   "metadata": {},
   "outputs": [
    {
     "data": {
      "text/plain": [
       "4"
      ]
     },
     "execution_count": 5,
     "metadata": {},
     "output_type": "execute_result"
    }
   ],
   "source": [
    "# 1 based\n",
    "def josephus1(n: int, k: int) -> int:\n",
    "    if n == 1:\n",
    "        return 0\n",
    "    else:\n",
    "        return (josephus(n-1, k) + k) % n\n",
    "final_ans = josephus(5, 3) + 1\n",
    "\n",
    "final_ans"
   ]
  },
  {
   "cell_type": "code",
   "execution_count": 6,
   "metadata": {},
   "outputs": [
    {
     "name": "stdout",
     "output_type": "stream",
     "text": [
      "1\n",
      "2\n",
      "3\n",
      "4\n",
      "5\n"
     ]
    }
   ],
   "source": [
    "def print_n(n):\n",
    "    if n <= 0:\n",
    "        return \n",
    "    print_n(n-1)\n",
    "    print(n)\n",
    "\n",
    "\n",
    "print_n(5)"
   ]
  }
 ],
 "metadata": {
  "kernelspec": {
   "display_name": "Python (base-env)",
   "language": "python",
   "name": "base-env"
  },
  "language_info": {
   "codemirror_mode": {
    "name": "ipython",
    "version": 3
   },
   "file_extension": ".py",
   "mimetype": "text/x-python",
   "name": "python",
   "nbconvert_exporter": "python",
   "pygments_lexer": "ipython3",
   "version": "3.12.5"
  },
  "orig_nbformat": 4
 },
 "nbformat": 4,
 "nbformat_minor": 2
}
