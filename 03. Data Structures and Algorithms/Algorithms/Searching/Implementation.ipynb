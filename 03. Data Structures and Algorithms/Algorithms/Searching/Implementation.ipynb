{
 "cells": [
  {
   "cell_type": "markdown",
   "metadata": {},
   "source": [
    "<h1 style='color:#FEC260'> Searching </h1>"
   ]
  },
  {
   "cell_type": "code",
   "execution_count": 1,
   "metadata": {},
   "outputs": [],
   "source": [
    "# Linear search\n",
    "def linearSearch(nums: list[int], target: int) -> int:\n",
    "    \n",
    "    for i in range(len(nums)):\n",
    "        if nums[i] == target:\n",
    "            return i\n",
    "    return -1"
   ]
  },
  {
   "cell_type": "code",
   "execution_count": 2,
   "metadata": {},
   "outputs": [
    {
     "data": {
      "text/plain": [
       "5"
      ]
     },
     "execution_count": 2,
     "metadata": {},
     "output_type": "execute_result"
    }
   ],
   "source": [
    "linearSearch([1, 4, 3, 27, 6, 9, 8, 6, 5, 3, 2, 4], 9)"
   ]
  },
  {
   "cell_type": "code",
   "execution_count": 3,
   "metadata": {},
   "outputs": [],
   "source": [
    "# Binary search Iterative implementation { Ascending order }\n",
    "# Return the index of the element if found else return -1\n",
    "def binarySearch(nums: list[int], target: int) -> int:\n",
    "\n",
    "    n = len(nums)\n",
    "    if n == 0:\n",
    "        return -1\n",
    "\n",
    "    start, end = 0, n-1\n",
    "\n",
    "    # check array order\n",
    "    if nums[start] > nums[end]: return -1\n",
    "\n",
    "    while start <= end: \n",
    "        mid = start + (end-start) // 2\n",
    "        if nums[mid] == target:\n",
    "            return mid\n",
    "        elif nums[mid] > target:\n",
    "            end = mid-1\n",
    "        else:\n",
    "            start = mid+1\n",
    "    return -1"
   ]
  },
  {
   "cell_type": "code",
   "execution_count": 4,
   "metadata": {},
   "outputs": [
    {
     "data": {
      "text/plain": [
       "7"
      ]
     },
     "execution_count": 4,
     "metadata": {},
     "output_type": "execute_result"
    }
   ],
   "source": [
    "binarySearch([-1, -4, 7, 9, 10, 20, 30, 60, 90], 60)"
   ]
  },
  {
   "cell_type": "code",
   "execution_count": 5,
   "metadata": {},
   "outputs": [],
   "source": [
    "# within a range\n",
    "def binarySearch2(nums: list[int], target: int, start: int, end: int) -> int:\n",
    "\n",
    "    # check array order\n",
    "    if nums[start] > nums[end]: return -1\n",
    "\n",
    "    while start <= end: \n",
    "        mid = start + (end-start) // 2\n",
    "        if nums[mid] == target:\n",
    "            return mid\n",
    "        elif nums[mid] > target:\n",
    "            end = mid-1\n",
    "        else:\n",
    "            start = mid+1\n",
    "    return -1"
   ]
  },
  {
   "cell_type": "code",
   "execution_count": 6,
   "metadata": {},
   "outputs": [
    {
     "data": {
      "text/plain": [
       "7"
      ]
     },
     "execution_count": 6,
     "metadata": {},
     "output_type": "execute_result"
    }
   ],
   "source": [
    "binarySearch2([-1, -4, 7, 9, 10, 20, 30, 60, 90], 60, 0, 8)"
   ]
  },
  {
   "cell_type": "code",
   "execution_count": 7,
   "metadata": {},
   "outputs": [],
   "source": [
    "# Binary search for descending order\n",
    "def bs_desc(arr: list[int], target: int, start: int, end: int) -> int:\n",
    "    while start <= end:\n",
    "        mid = start + (end-start) // 2\n",
    "        if arr[mid] == target:\n",
    "            return mid\n",
    "        elif arr[mid] > target:\n",
    "            start = mid+1\n",
    "        else:\n",
    "            end = mid-1\n",
    "    return -1"
   ]
  },
  {
   "cell_type": "code",
   "execution_count": 8,
   "metadata": {},
   "outputs": [
    {
     "data": {
      "text/plain": [
       "4"
      ]
     },
     "execution_count": 8,
     "metadata": {},
     "output_type": "execute_result"
    }
   ],
   "source": [
    "bs_desc([11, 8, 5, 4, 3, 2, 1], 3, 0, 7)"
   ]
  },
  {
   "cell_type": "code",
   "execution_count": 9,
   "metadata": {},
   "outputs": [],
   "source": [
    "# order agnostic binary search\n",
    "def orderAgnosticBS(nums: list[int], target: int, start: int, end: int):\n",
    "    if nums[start] < nums[end]:\n",
    "        return binarySearch2(nums, target, start, end)\n",
    "    elif nums[start] > nums[end]:\n",
    "        return bs_desc(nums, target, start, end)\n",
    "    return -1"
   ]
  },
  {
   "cell_type": "code",
   "execution_count": 16,
   "metadata": {},
   "outputs": [
    {
     "name": "stdout",
     "output_type": "stream",
     "text": [
      "5\n",
      "1\n"
     ]
    }
   ],
   "source": [
    "arr = [1, 2, 3, 4, 5, 6]\n",
    "print(orderAgnosticBS(arr, 6, 0, len(arr)-1))\n",
    "print(orderAgnosticBS(list(reversed(arr)), 5, 0, len(arr)-1))"
   ]
  }
 ],
 "metadata": {
  "kernelspec": {
   "display_name": "base",
   "language": "python",
   "name": "python3"
  },
  "language_info": {
   "codemirror_mode": {
    "name": "ipython",
    "version": 3
   },
   "file_extension": ".py",
   "mimetype": "text/x-python",
   "name": "python",
   "nbconvert_exporter": "python",
   "pygments_lexer": "ipython3",
   "version": "3.11.9"
  }
 },
 "nbformat": 4,
 "nbformat_minor": 2
}
