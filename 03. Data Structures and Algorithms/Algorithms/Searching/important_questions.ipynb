{
 "cells": [
  {
   "cell_type": "markdown",
   "metadata": {
    "vscode": {
     "languageId": "plaintext"
    }
   },
   "source": [
    "# Binary Search"
   ]
  },
  {
   "cell_type": "markdown",
   "metadata": {},
   "source": [
    "**1. Binary Search**"
   ]
  },
  {
   "cell_type": "code",
   "execution_count": 4,
   "metadata": {},
   "outputs": [
    {
     "data": {
      "text/plain": [
       "3"
      ]
     },
     "execution_count": 4,
     "metadata": {},
     "output_type": "execute_result"
    }
   ],
   "source": [
    "def search(nums: list[int], target: int) -> int:\n",
    "    n = len(nums)\n",
    "    left, right = 0, n-1\n",
    "\n",
    "    while left <= right:\n",
    "        mid = (right + left) // 2\n",
    "\n",
    "        if nums[mid] == target:\n",
    "            return mid\n",
    "        elif nums[mid] > target:\n",
    "            right = mid -1\n",
    "        else:\n",
    "            left = mid + 1\n",
    "    \n",
    "    return -1\n",
    "\n",
    "\n",
    "search([1, 3, 6, 9, 12, 50], 9)"
   ]
  },
  {
   "cell_type": "markdown",
   "metadata": {},
   "source": [
    "**2. Search in a 2D matrix**"
   ]
  },
  {
   "cell_type": "code",
   "execution_count": 3,
   "metadata": {},
   "outputs": [
    {
     "name": "stdout",
     "output_type": "stream",
     "text": [
      "False\n"
     ]
    }
   ],
   "source": [
    "def search_2d(matrix: list[list[int]], target: int) -> bool:\n",
    "    num_rows, num_cols = len(matrix), len(matrix[0])\n",
    "\n",
    "    # Step: 1 - Identify the row where the target could exist\n",
    "    top_row, bottom_row = 0, num_rows - 1\n",
    "    while top_row <= bottom_row:\n",
    "        mid_row = (top_row + bottom_row) // 2\n",
    "        \n",
    "        # If target is greater than the largest element in the row\n",
    "        if target > matrix[mid_row][num_cols - 1]:\n",
    "            top_row = mid_row + 1\n",
    "        \n",
    "        # If target is less than the smallest element in the row\n",
    "        if target < matrix[mid_row][0]:\n",
    "            bottom_row = mid_row - 1\n",
    "        else:\n",
    "            # Target is within current row\n",
    "            break\n",
    "\n",
    "    # If no valid row is found, return false\n",
    "    if not top_row <= bottom_row:\n",
    "        return False\n",
    "    \n",
    "    # Apply binary search on the current row\n",
    "    target_row = (top_row + bottom_row) // 2\n",
    "    left_col, right_col = 0, num_cols - 1\n",
    "\n",
    "    while left_col <= right_col:\n",
    "        mid_col = (left_col + right_col) // 2\n",
    "        if target > matrix[target_row][mid_col]:\n",
    "            left_col = mid_col + 1\n",
    "        elif target < matrix[target_row][mid_col]:\n",
    "            right_col = mid_col - 1\n",
    "        else:\n",
    "            # Target found\n",
    "            return True\n",
    "    \n",
    "    return False\n",
    "\n",
    "\n",
    "print(search_2d([[1, 2, 3], [4, 5, 6], [7, 8, 9]], 10))"
   ]
  },
  {
   "cell_type": "markdown",
   "metadata": {},
   "source": [
    "**3. Koko Eating Bananas**"
   ]
  },
  {
   "cell_type": "code",
   "execution_count": 7,
   "metadata": {},
   "outputs": [
    {
     "data": {
      "text/plain": [
       "1"
      ]
     },
     "execution_count": 7,
     "metadata": {},
     "output_type": "execute_result"
    }
   ],
   "source": [
    "import math\n",
    "\n",
    "def min_eating_speed(piles: list[int], h: int) -> int:\n",
    "    # The result should be in between 1 and max(piles)\n",
    "    l, r = 1, max(piles)\n",
    "    res = r\n",
    "\n",
    "    while l <= r:\n",
    "        k = (l + r) // 2\n",
    "        hours = 0\n",
    "\n",
    "        for p in piles:\n",
    "            hours += math.ceil(p / k)\n",
    "        \n",
    "        if hours <= h:\n",
    "            res = min(res, k)\n",
    "            # looking the left half for better solution\n",
    "            r = k - 1\n",
    "        else:\n",
    "            l = k + 1\n",
    "\n",
    "    return res\n",
    "\n",
    "\n",
    "min_eating_speed([312884470], 968709470)"
   ]
  }
 ],
 "metadata": {
  "kernelspec": {
   "display_name": "Python (base-env)",
   "language": "python",
   "name": "base-env"
  },
  "language_info": {
   "codemirror_mode": {
    "name": "ipython",
    "version": 3
   },
   "file_extension": ".py",
   "mimetype": "text/x-python",
   "name": "python",
   "nbconvert_exporter": "python",
   "pygments_lexer": "ipython3",
   "version": "3.12.5"
  }
 },
 "nbformat": 4,
 "nbformat_minor": 2
}
