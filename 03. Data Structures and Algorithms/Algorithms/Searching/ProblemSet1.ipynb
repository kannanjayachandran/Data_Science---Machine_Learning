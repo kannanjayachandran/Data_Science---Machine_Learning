{
 "cells": [
  {
   "cell_type": "markdown",
   "metadata": {},
   "source": [
    "<h1 style='color:#FEC260'> Searching - Problem Set I </h1>"
   ]
  },
  {
   "cell_type": "code",
   "execution_count": 1,
   "metadata": {},
   "outputs": [],
   "source": [
    "def binary_search(nums: list[int], target: int, start: int, end: int) -> int:\n",
    "    \"\"\"\n",
    "    binary search algorithm (provide ascending sorted list of integers)\n",
    "    :param nums: list of integers\n",
    "    :param target: integer\n",
    "    :param start: integer\n",
    "    :param end: integer\n",
    "    :return: integer\n",
    "    \"\"\"\n",
    "    if nums[start] > nums[end]: return -1\n",
    "\n",
    "    while start <= end: \n",
    "        mid = start + (end-start) // 2\n",
    "        if nums[mid] == target:\n",
    "            return mid\n",
    "        elif nums[mid] > target:\n",
    "            end = mid-1\n",
    "        else:\n",
    "            start = mid+1\n",
    "    return -1"
   ]
  },
  {
   "cell_type": "markdown",
   "metadata": {},
   "source": [
    "**1. Modified binary search to find the first occurrence or Lower bound**"
   ]
  },
  {
   "cell_type": "code",
   "execution_count": 2,
   "metadata": {},
   "outputs": [],
   "source": [
    "def lowerBound(nums: list[int], k: int) -> int:\n",
    "\n",
    "    n = len(nums)\n",
    "    start, end = 0, n-1\n",
    "    result = -1\n",
    "\n",
    "    while start <= end:\n",
    "        mid = start + (end-start) // 2\n",
    "        if nums[mid] > k:\n",
    "            end = mid - 1\n",
    "        elif nums[mid] < k:\n",
    "            start = mid + 1\n",
    "        else:\n",
    "            result = mid\n",
    "            end = mid -1\n",
    "    return result"
   ]
  },
  {
   "cell_type": "code",
   "execution_count": 10,
   "metadata": {},
   "outputs": [
    {
     "data": {
      "text/plain": [
       "4"
      ]
     },
     "execution_count": 10,
     "metadata": {},
     "output_type": "execute_result"
    }
   ],
   "source": [
    "lowerBound([1, 1, 1, 1, 2, 3, 4, 4, 5, 5, 6, 7], 2)"
   ]
  },
  {
   "cell_type": "markdown",
   "metadata": {},
   "source": [
    "**2. Modified binary search to find the last occurrence or Upper bound**"
   ]
  },
  {
   "cell_type": "code",
   "execution_count": 11,
   "metadata": {},
   "outputs": [],
   "source": [
    "def upperBound(nums: list[int], k: int) -> int:\n",
    "\n",
    "    n = len(nums)\n",
    "    start, end = 0, n-1\n",
    "    result = -1\n",
    "\n",
    "    while start <= end:\n",
    "        mid = start + (end-start) // 2\n",
    "        if nums[mid] > k:\n",
    "            end = mid - 1\n",
    "        elif nums[mid] < k:\n",
    "            start = mid + 1\n",
    "        else:\n",
    "            result = mid\n",
    "            start = mid + 1\n",
    "        \n",
    "    return result"
   ]
  },
  {
   "cell_type": "code",
   "execution_count": 15,
   "metadata": {},
   "outputs": [
    {
     "data": {
      "text/plain": [
       "5"
      ]
     },
     "execution_count": 15,
     "metadata": {},
     "output_type": "execute_result"
    }
   ],
   "source": [
    "upperBound([1, 1, 2, 2, 2, 2, 4, 4, 5, 5, 6, 7], 2)"
   ]
  },
  {
   "cell_type": "markdown",
   "metadata": {},
   "source": [
    "**3. Find the first and last occurrence of a number in a sorted array**"
   ]
  },
  {
   "cell_type": "code",
   "execution_count": 16,
   "metadata": {},
   "outputs": [],
   "source": [
    "def searchOccurrence(nums: list[int], k: int) -> tuple[int, int]:\n",
    "\n",
    "    n = len(nums)\n",
    "\n",
    "    def binary_search_helper(is_first: bool) -> int:\n",
    "        start, end = 0, n-1\n",
    "        result = -1\n",
    "        while start <= end:\n",
    "            mid = start + (end-start) // 2\n",
    "            if nums[mid] > k:\n",
    "                end = mid - 1\n",
    "            elif nums[mid] < k:\n",
    "                start = mid + 1\n",
    "            else:\n",
    "                result = mid\n",
    "                if is_first:\n",
    "                    end = mid - 1\n",
    "                else:\n",
    "                    start = mid + 1\n",
    "        return result\n",
    "\n",
    "    if not nums:\n",
    "        return -1, -1\n",
    "    first_oc = binary_search_helper(True)\n",
    "    if first_oc == -1:\n",
    "        return -1, -1\n",
    "    last_oc = binary_search_helper(False)\n",
    "\n",
    "    return first_oc, last_oc"
   ]
  },
  {
   "cell_type": "code",
   "execution_count": 18,
   "metadata": {},
   "outputs": [
    {
     "data": {
      "text/plain": [
       "(6, 8)"
      ]
     },
     "execution_count": 18,
     "metadata": {},
     "output_type": "execute_result"
    }
   ],
   "source": [
    "searchOccurrence([1, 2, 3, 4, 5, 6, 7, 7, 7, 8, 9], 7)"
   ]
  },
  {
   "cell_type": "markdown",
   "metadata": {},
   "source": [
    "**4. Find the first and last occurrence of a character in a sorted array**"
   ]
  },
  {
   "cell_type": "code",
   "execution_count": 33,
   "metadata": {},
   "outputs": [],
   "source": [
    "def searchOccurrence2(chars: list[str], k: str, isFirst: bool) -> int:\n",
    "\n",
    "    start, end, ans = 0, len(chars)-1, -1\n",
    "\n",
    "    while start <= end:\n",
    "        mid  = start + (end-start) // 2\n",
    "        if chars[mid] == k:\n",
    "            ans = mid\n",
    "            if isFirst: end = mid-1\n",
    "            else: start = mid+1\n",
    "        elif chars[mid] > k:\n",
    "            end = mid-1\n",
    "        else:\n",
    "            start = mid+1\n",
    "    return ans\n",
    "\n",
    "\n",
    "\n",
    "def solution2(chars: list[str], k: str) -> list[int]:\n",
    "\n",
    "    ans = ['', '']\n",
    "    ans[0] = searchOccurrence(chars, k, True)\n",
    "    if ans[0] != - 1:\n",
    "        ans[1] = searchOccurrence(chars, k , False)\n",
    "    \n",
    "    return ans"
   ]
  },
  {
   "cell_type": "code",
   "execution_count": 35,
   "metadata": {},
   "outputs": [
    {
     "data": {
      "text/plain": [
       "[2, 4]"
      ]
     },
     "execution_count": 35,
     "metadata": {},
     "output_type": "execute_result"
    }
   ],
   "source": [
    "solution2(['c','f','g', 'g', 'g', 'p', 'q', 'r', 'r'], 'g')"
   ]
  },
  {
   "cell_type": "markdown",
   "metadata": {},
   "source": [
    "**5. Find the number of occurrences of an element in a sorted array**"
   ]
  },
  {
   "cell_type": "code",
   "execution_count": 19,
   "metadata": {},
   "outputs": [],
   "source": [
    "def countInSorted(nums: list[int], target: int) -> int:\n",
    "    \n",
    "    first_occ_idx, last_occ_idx = searchOccurrence(nums, target)\n",
    "\n",
    "    if first_occ_idx == -1:\n",
    "        return 0\n",
    "    return (last_occ_idx - first_occ_idx) + 1 "
   ]
  },
  {
   "cell_type": "code",
   "execution_count": 21,
   "metadata": {},
   "outputs": [
    {
     "data": {
      "text/plain": [
       "8"
      ]
     },
     "execution_count": 21,
     "metadata": {},
     "output_type": "execute_result"
    }
   ],
   "source": [
    "countInSorted([1, 2, 3, 4, 5, 6, 7, 7, 7, 7, 7, 7, 7, 7, 8, 9], 7)"
   ]
  },
  {
   "cell_type": "markdown",
   "metadata": {},
   "source": [
    "**6. Find the number of times a sorted array is rotated**"
   ]
  },
  {
   "cell_type": "code",
   "execution_count": 21,
   "metadata": {},
   "outputs": [],
   "source": [
    "def sortedRotationCount(nums: list[int]) -> int:\n",
    "\n",
    "    n = len(nums)\n",
    "    start, end, ans = 0, n-1, 0\n",
    "    if nums[start] <= nums[end]: return ans\n",
    "\n",
    "    while start <= end:\n",
    "        mid = start + (end-start) // 2\n",
    "        nxt = (mid + 1) % n\n",
    "        prev = (mid + n - 1) % n\n",
    "\n",
    "        if nums[nxt] >= nums[mid] and nums[prev] >= nums[mid]:\n",
    "            return mid\n",
    "        if nums[0] <= nums[mid]:\n",
    "            start = mid+1\n",
    "        elif nums[n-1] >= nums[mid]:\n",
    "            end = mid-1\n",
    "    return -1 "
   ]
  },
  {
   "cell_type": "code",
   "execution_count": 7,
   "metadata": {},
   "outputs": [
    {
     "data": {
      "text/plain": [
       "4"
      ]
     },
     "execution_count": 7,
     "metadata": {},
     "output_type": "execute_result"
    }
   ],
   "source": [
    "sortedRotationCount([4,5,6,7,0,1,2])"
   ]
  },
  {
   "cell_type": "markdown",
   "metadata": {},
   "source": [
    "**7. Searching in sorted-rotated array** \n",
    "\n",
    "> If present return the index of the element, else return -1. There will be at least one element in the array and all elements are unique"
   ]
  },
  {
   "cell_type": "code",
   "execution_count": 3,
   "metadata": {},
   "outputs": [],
   "source": [
    "def search_sorted_rotated(nums: list[int], target: int) -> int:\n",
    "\n",
    "    # array of size 1\n",
    "    if len(nums) == 1:\n",
    "        if nums[0] == target:\n",
    "            return 0\n",
    "        return -1\n",
    "    \n",
    "    # already sorted array\n",
    "    if nums[0] <= nums[-1]:\n",
    "        return bs_helper(nums, target, 0, len(nums)-1)\n",
    "    \n",
    "    pivotIdx = sortedRotationCount(nums)\n",
    "    ans = bs_helper(nums, target, 0, pivotIdx-1)\n",
    "\n",
    "    if ans == -1:\n",
    "        ans = bs_helper(nums, target, pivotIdx, len(nums)-1)\n",
    "    return ans"
   ]
  },
  {
   "cell_type": "code",
   "execution_count": 11,
   "metadata": {},
   "outputs": [
    {
     "data": {
      "text/plain": [
       "5"
      ]
     },
     "execution_count": 11,
     "metadata": {},
     "output_type": "execute_result"
    }
   ],
   "source": [
    "search_sorted_rotated([4, 5, 6, 7, 0, 1, 2], 1)"
   ]
  },
  {
   "cell_type": "markdown",
   "metadata": {},
   "source": [
    "**8. Search in nearly sorted array**"
   ]
  },
  {
   "cell_type": "code",
   "execution_count": 12,
   "metadata": {},
   "outputs": [],
   "source": [
    "def search_in_nearly_sorted(nums: list[int], target: int) -> int:\n",
    "    start, end = 0, len(nums)-1\n",
    "\n",
    "    while start <= end:\n",
    "        midIdx = start + (end-start) // 2\n",
    "        if nums[midIdx] == target:\n",
    "            return midIdx\n",
    "        if midIdx > start and nums[midIdx - 1] == target:\n",
    "            return midIdx - 1\n",
    "        if midIdx < end and nums[midIdx+1] == target:\n",
    "            return midIdx + 1\n",
    "        elif nums[midIdx] > target:\n",
    "            end = midIdx-2\n",
    "        else:\n",
    "            start = midIdx + 2\n",
    "    return -1 "
   ]
  },
  {
   "cell_type": "code",
   "execution_count": 14,
   "metadata": {},
   "outputs": [
    {
     "data": {
      "text/plain": [
       "1"
      ]
     },
     "execution_count": 14,
     "metadata": {},
     "output_type": "execute_result"
    }
   ],
   "source": [
    "search_in_nearly_sorted([10, 3, 40, 20, 50, 80, 70], 3)"
   ]
  },
  {
   "cell_type": "markdown",
   "metadata": {},
   "source": [
    "**9. Find the floor of a number in a sorted array**"
   ]
  },
  {
   "cell_type": "code",
   "execution_count": 2,
   "metadata": {},
   "outputs": [],
   "source": [
    "def find_floor(nums: list[int], target: int) -> int:\n",
    "    start, end = 0, len(nums)-1\n",
    "\n",
    "    while start <= end:\n",
    "        midIdx = start + (end-start) // 2\n",
    "        if nums[midIdx] > target:\n",
    "            end = midIdx - 1\n",
    "        elif nums[midIdx] < target:\n",
    "            start = midIdx + 1\n",
    "        else:\n",
    "            return nums[midIdx]\n",
    "    return nums[end]"
   ]
  },
  {
   "cell_type": "code",
   "execution_count": 3,
   "metadata": {},
   "outputs": [
    {
     "data": {
      "text/plain": [
       "10"
      ]
     },
     "execution_count": 3,
     "metadata": {},
     "output_type": "execute_result"
    }
   ],
   "source": [
    "find_floor([1, 2, 3, 4, 5, 10, 20], 19)"
   ]
  },
  {
   "cell_type": "markdown",
   "metadata": {},
   "source": [
    "**10. Find the ceiling of a number in a sorted array**"
   ]
  },
  {
   "cell_type": "code",
   "execution_count": 7,
   "metadata": {},
   "outputs": [],
   "source": [
    "def find_ceil(nums: list[int], target: int) -> int:\n",
    "    \n",
    "    start, end = 0, len(nums)-1\n",
    "\n",
    "    while start <= end:\n",
    "        midIdx = start + (end-start) // 2\n",
    "        if nums[midIdx] > target:\n",
    "            end = midIdx - 1\n",
    "        elif nums[midIdx] < target:\n",
    "            start = midIdx + 1\n",
    "        else:\n",
    "            return nums[midIdx]\n",
    "    return nums[start]"
   ]
  },
  {
   "cell_type": "code",
   "execution_count": 6,
   "metadata": {},
   "outputs": [
    {
     "data": {
      "text/plain": [
       "20"
      ]
     },
     "execution_count": 6,
     "metadata": {},
     "output_type": "execute_result"
    }
   ],
   "source": [
    "find_ceil([1, 2, 3, 4, 5, 10, 20], 11)"
   ]
  },
  {
   "cell_type": "markdown",
   "metadata": {},
   "source": [
    "**11. Next alphabet**"
   ]
  },
  {
   "cell_type": "code",
   "execution_count": 8,
   "metadata": {},
   "outputs": [],
   "source": [
    "def find_next_great(letters: list[str], target: str) -> str:\n",
    "    \n",
    "    start, end = 0, len(letters)-1\n",
    "    while start <= end:\n",
    "        midIdx = start + (end-start) // 2\n",
    "        if letters[midIdx] > target:\n",
    "            end = midIdx -1\n",
    "        else: \n",
    "            start = midIdx + 1\n",
    "    return letters[start % len(letters)]"
   ]
  },
  {
   "cell_type": "code",
   "execution_count": 9,
   "metadata": {},
   "outputs": [
    {
     "data": {
      "text/plain": [
       "'c'"
      ]
     },
     "execution_count": 9,
     "metadata": {},
     "output_type": "execute_result"
    }
   ],
   "source": [
    "find_next_great(['c','f','j', 'k', 'm', 'p', 'r', 'w', 'y'], 'z')"
   ]
  },
  {
   "cell_type": "markdown",
   "metadata": {},
   "source": [
    "**12. Search in infinite sorted array**\n",
    "\n",
    "> Do not use len() function or anything similar"
   ]
  },
  {
   "cell_type": "code",
   "execution_count": 11,
   "metadata": {},
   "outputs": [],
   "source": [
    "def find_search_space(nums: list[int], target: int) -> list[int]:\n",
    "    start, end = 0, 1\n",
    "    \n",
    "    while nums[start] < target:\n",
    "        start = end + 1\n",
    "        end *= 2\n",
    "    return [start, end]\n",
    "\n",
    "\n",
    "def infinite_search(nums: list[int], target: int) -> int:\n",
    "\n",
    "    search_range = find_search_space(nums, target)\n",
    "    start = search_range[0]\n",
    "    end = search_range[1]\n",
    "    return bs_helper(nums, target, start, end)"
   ]
  },
  {
   "cell_type": "code",
   "execution_count": 12,
   "metadata": {},
   "outputs": [
    {
     "data": {
      "text/plain": [
       "2"
      ]
     },
     "execution_count": 12,
     "metadata": {},
     "output_type": "execute_result"
    }
   ],
   "source": [
    "infinite_search([1, 3, 4, 6, 7, 9], 4)"
   ]
  },
  {
   "cell_type": "markdown",
   "metadata": {},
   "source": [
    "**13. Find the first occurrence of 1 in a sorted binary array**"
   ]
  },
  {
   "cell_type": "code",
   "execution_count": 13,
   "metadata": {},
   "outputs": [],
   "source": [
    "def find_first_one(nums: list[int]) -> int:\n",
    "    \n",
    "    search_range = find_search_space(nums, 1)\n",
    "    start = search_range[0]\n",
    "    end = search_range[1]\n",
    "\n",
    "    possible_ans = -1\n",
    "    while start <= end:\n",
    "        midIdx = start + (end-start) // 2\n",
    "        if nums[midIdx] == 1:\n",
    "            possible_ans = midIdx\n",
    "            end = midIdx - 1\n",
    "        elif nums[midIdx] > 1:\n",
    "            end = midIdx - 1\n",
    "        else:\n",
    "            start = midIdx + 1\n",
    "    return possible_ans"
   ]
  },
  {
   "cell_type": "code",
   "execution_count": 14,
   "metadata": {},
   "outputs": [
    {
     "data": {
      "text/plain": [
       "9"
      ]
     },
     "execution_count": 14,
     "metadata": {},
     "output_type": "execute_result"
    }
   ],
   "source": [
    "find_first_one([0, 0, 0, 0, 0, 0, 0, 0, 0, 1, 1, 1, 1, 1, 1, 1, 1, 1, 1])"
   ]
  },
  {
   "cell_type": "markdown",
   "metadata": {},
   "source": [
    "**14. Minimum different element**"
   ]
  },
  {
   "cell_type": "code",
   "execution_count": 1,
   "metadata": {},
   "outputs": [],
   "source": [
    "def min_diff_element(nums: list[int], key: int) -> int:\n",
    "\n",
    "    if key < nums[0]:\n",
    "        return nums[0]\n",
    "    elif key > nums[-1]:\n",
    "        return nums[-1]\n",
    "    \n",
    "    start, end = 0, len(nums)-1\n",
    "\n",
    "    while start <= end:\n",
    "        mid = start + (end-start) // 2\n",
    "        if nums[mid] == key:\n",
    "            return nums[mid]\n",
    "        elif nums[mid] > key:\n",
    "            end = mid - 1\n",
    "        else:\n",
    "            start = mid + 1\n",
    "    \n",
    "    upper_bound = abs(nums[start] - key)\n",
    "    lower_bound = abs(nums[end] - key)\n",
    "\n",
    "    return nums[end] if lower_bound <= upper_bound else nums[start]"
   ]
  },
  {
   "cell_type": "code",
   "execution_count": 3,
   "metadata": {},
   "outputs": [
    {
     "data": {
      "text/plain": [
       "12"
      ]
     },
     "execution_count": 3,
     "metadata": {},
     "output_type": "execute_result"
    }
   ],
   "source": [
    "min_diff_element([2, 5, 10, 12, 15], 13)"
   ]
  },
  {
   "cell_type": "markdown",
   "metadata": {},
   "source": [
    "**15. Peak index in a mountain array**"
   ]
  },
  {
   "cell_type": "code",
   "execution_count": 2,
   "metadata": {},
   "outputs": [],
   "source": [
    "def findPeak(nums: list[int]) -> int:\n",
    "    \n",
    "    start, end = 0, len(nums)-1\n",
    "\n",
    "    while start < end:\n",
    "        mid = start + (end-start) // 2\n",
    "        if nums[mid] < nums[mid+1]:\n",
    "            start = mid + 1\n",
    "        else:\n",
    "            end = mid\n",
    "    return start"
   ]
  },
  {
   "cell_type": "code",
   "execution_count": 7,
   "metadata": {},
   "outputs": [
    {
     "data": {
      "text/plain": [
       "10"
      ]
     },
     "execution_count": 7,
     "metadata": {},
     "output_type": "execute_result"
    }
   ],
   "source": [
    "findPeak([1, 2, 4, 5, 10, 7, 6, 3, 2, 1])"
   ]
  },
  {
   "cell_type": "markdown",
   "metadata": {},
   "source": [
    "**16. Find the maximum element in a bitonic / mountain array**"
   ]
  },
  {
   "cell_type": "code",
   "execution_count": 5,
   "metadata": {},
   "outputs": [],
   "source": [
    "def max_in_mountain(nums: list[int]) -> int:\n",
    "    return nums[findPeak(nums)]"
   ]
  },
  {
   "cell_type": "code",
   "execution_count": 6,
   "metadata": {},
   "outputs": [
    {
     "data": {
      "text/plain": [
       "12"
      ]
     },
     "execution_count": 6,
     "metadata": {},
     "output_type": "execute_result"
    }
   ],
   "source": [
    "max_in_mountain([1, 3, 6, 8, 12, 11, 9, 7, 4, 2])"
   ]
  },
  {
   "cell_type": "markdown",
   "metadata": {},
   "source": [
    "**17. Search in Bitonic / mountain array**"
   ]
  },
  {
   "cell_type": "code",
   "execution_count": 14,
   "metadata": {},
   "outputs": [],
   "source": [
    "def bs_helper(nums: list[int], target: int, start: int, end: int) -> int:\n",
    "    \n",
    "    while start <= end:\n",
    "        mid = start + (end - start) // 2\n",
    "        if nums[mid] == target:\n",
    "            return mid\n",
    "        \n",
    "        if nums[start] <= nums[mid]:  # Check if the left sub-array is sorted\n",
    "            if nums[start] <= target < nums[mid]:\n",
    "                end = mid - 1\n",
    "            else:\n",
    "                start = mid + 1\n",
    "        else:  # The right sub-array is sorted\n",
    "            if nums[mid] < target <= nums[end]:\n",
    "                start = mid + 1\n",
    "            else:\n",
    "                end = mid - 1\n",
    "    \n",
    "    return -1\n",
    "\n",
    "\n",
    "def search_in_mountain(nums: list[int], key: int) -> int:\n",
    "   \n",
    "    peak_idx = findPeak(nums)\n",
    "    left_res = bs_helper(nums, key, 0, peak_idx)\n",
    "    \n",
    "    if left_res != -1:\n",
    "        return left_res\n",
    "    \n",
    "    right_res = bs_helper(nums, key, peak_idx+1, len(nums)-1)\n",
    "    return right_res"
   ]
  },
  {
   "cell_type": "code",
   "execution_count": 15,
   "metadata": {},
   "outputs": [
    {
     "data": {
      "text/plain": [
       "6"
      ]
     },
     "execution_count": 15,
     "metadata": {},
     "output_type": "execute_result"
    }
   ],
   "source": [
    "search_in_mountain([1, 3, 6, 8, 12, 11, 9, 7, 4, 2], 9)"
   ]
  },
  {
   "cell_type": "markdown",
   "metadata": {},
   "source": [
    "**18. Find in Mountain array**"
   ]
  },
  {
   "cell_type": "code",
   "execution_count": 16,
   "metadata": {},
   "outputs": [],
   "source": [
    "def bs_helper(nums: list[int], target: int, start: int, end: int) -> int:\n",
    "    \n",
    "    while start <= end:\n",
    "        mid = start + (end - start) // 2\n",
    "        if nums[mid] == target:\n",
    "            return mid\n",
    "        \n",
    "        if nums[start] <= nums[mid]:  # Check if the left sub-array is sorted\n",
    "            if nums[start] <= target < nums[mid]:\n",
    "                end = mid - 1\n",
    "            else:\n",
    "                start = mid + 1\n",
    "        else:  # The right sub-array is sorted\n",
    "            if nums[mid] < target <= nums[end]:\n",
    "                start = mid + 1\n",
    "            else:\n",
    "                end = mid - 1\n",
    "    \n",
    "    return -1\n",
    "\n",
    "\n",
    "def search_in_mountain(nums: list[int], key: int) -> int:\n",
    "   \n",
    "    peak_idx = findPeak(nums)\n",
    "    left_res = bs_helper(nums, key, 0, peak_idx)\n",
    "    \n",
    "    if left_res != -1:\n",
    "        return left_res\n",
    "    \n",
    "    right_res = bs_helper(nums, key, peak_idx+1, len(nums)-1)\n",
    "    return right_res"
   ]
  },
  {
   "cell_type": "code",
   "execution_count": 17,
   "metadata": {},
   "outputs": [
    {
     "data": {
      "text/plain": [
       "6"
      ]
     },
     "execution_count": 17,
     "metadata": {},
     "output_type": "execute_result"
    }
   ],
   "source": [
    "search_in_mountain([1, 3, 6, 8, 12, 11, 9, 7, 4, 2], 9)"
   ]
  },
  {
   "cell_type": "markdown",
   "metadata": {},
   "source": [
    "**19. Search in sorted matrix**"
   ]
  },
  {
   "cell_type": "code",
   "execution_count": 18,
   "metadata": {},
   "outputs": [],
   "source": [
    "def search_in_sorted_matrix(mat: list[list[int]], key: int) -> list[int]:\n",
    "\n",
    "    row, col = 0, len(mat[0])-1\n",
    "\n",
    "    while row < len(mat) and col >= 0:\n",
    "        if mat[row][col] == key:\n",
    "            return [row, col]\n",
    "        elif mat[row][col] > key:\n",
    "            col -= 1\n",
    "        else:\n",
    "            row += 1\n",
    "    return [-1, -1]"
   ]
  },
  {
   "cell_type": "code",
   "execution_count": 20,
   "metadata": {},
   "outputs": [
    {
     "data": {
      "text/plain": [
       "[0, 3]"
      ]
     },
     "execution_count": 20,
     "metadata": {},
     "output_type": "execute_result"
    }
   ],
   "source": [
    "matrix = [\n",
    "    [1, 2, 3, 4, 5],\n",
    "    [6, 7, 5, 4, 3],\n",
    "    [5, 6, 7, 8, 9]\n",
    "]\n",
    "\n",
    "search_in_sorted_matrix(matrix, 4)"
   ]
  },
  {
   "cell_type": "markdown",
   "metadata": {},
   "source": [
    "**20. Find the minimum and maximum element in sorted-rotated array**"
   ]
  },
  {
   "cell_type": "code",
   "execution_count": 25,
   "metadata": {},
   "outputs": [],
   "source": [
    "def min_max_sorted_rotated(nums: list[int]) -> list[int]:\n",
    "\n",
    "    min_idx = sortedRotationCount(nums)\n",
    "    if min_idx != 0:\n",
    "        max_idx = min_idx - 1\n",
    "        return [min_idx, max_idx]\n",
    "    return [min_idx, min_idx]"
   ]
  },
  {
   "cell_type": "code",
   "execution_count": 26,
   "metadata": {},
   "outputs": [
    {
     "data": {
      "text/plain": [
       "[4, 3]"
      ]
     },
     "execution_count": 26,
     "metadata": {},
     "output_type": "execute_result"
    }
   ],
   "source": [
    "min_max_sorted_rotated([4,5,6,7,0,1,2])"
   ]
  },
  {
   "cell_type": "markdown",
   "metadata": {},
   "source": [
    "**21. Search insert position**"
   ]
  },
  {
   "cell_type": "code",
   "execution_count": null,
   "metadata": {},
   "outputs": [],
   "source": [
    "def search_insert_pos(nums: list[int], key: int) -> int:\n",
    "\n",
    "    start, end = 0, len(nums)-1\n",
    "\n",
    "    while start <= end:\n",
    "        mid_idx = start + (end-start) // 2\n",
    "        if nums[mid_idx] == key:\n",
    "            return mid_idx\n",
    "        elif nums[mid_idx] > key:\n",
    "            end = mid_idx - 1\n",
    "        else:\n",
    "            start = mid_idx + 1\n",
    "    return start"
   ]
  },
  {
   "cell_type": "code",
   "execution_count": null,
   "metadata": {},
   "outputs": [],
   "source": [
    "search_insert_pos([1,3,5,6], 2)"
   ]
  },
  {
   "cell_type": "markdown",
   "metadata": {},
   "source": [
    "**22. Find the floor of the square root of a number**"
   ]
  },
  {
   "cell_type": "code",
   "execution_count": null,
   "metadata": {},
   "outputs": [],
   "source": [
    "def square_root_floor(x: int) -> int:\n",
    "\n",
    "    start, end = 0, x\n",
    "\n",
    "    while start <= end:\n",
    "        mid = start + (end-start) // 2\n",
    "        if mid*mid <= x:\n",
    "            start = mid + 1\n",
    "        else:\n",
    "            end = mid - 1\n",
    "    return end"
   ]
  },
  {
   "cell_type": "code",
   "execution_count": null,
   "metadata": {},
   "outputs": [],
   "source": [
    "square_root_floor(35)"
   ]
  }
 ],
 "metadata": {
  "kernelspec": {
   "display_name": "ML",
   "language": "python",
   "name": "python3"
  },
  "language_info": {
   "codemirror_mode": {
    "name": "ipython",
    "version": 3
   },
   "file_extension": ".py",
   "mimetype": "text/x-python",
   "name": "python",
   "nbconvert_exporter": "python",
   "pygments_lexer": "ipython3",
   "version": "3.11.9"
  },
  "orig_nbformat": 4
 },
 "nbformat": 4,
 "nbformat_minor": 2
}
