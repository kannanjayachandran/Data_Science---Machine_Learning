{
 "cells": [
  {
   "cell_type": "markdown",
   "metadata": {},
   "source": [
    "<h1 style=\"color:#FEC260\"> Backtracking </h1>"
   ]
  },
  {
   "cell_type": "markdown",
   "metadata": {},
   "source": [
    "**1. In the given binary tree, determine if there exists a root to leaf path such that there are no zeros in the path**"
   ]
  },
  {
   "cell_type": "code",
   "execution_count": 1,
   "metadata": {},
   "outputs": [],
   "source": [
    "def can_reach_leaf(root):\n",
    "\n",
    "    # no root or got 0 as value for root\n",
    "    if not root and root.val == 0:\n",
    "        return False\n",
    "    \n",
    "    # did we reached a leaf node\n",
    "    if not root.left and not root.right:\n",
    "        return True\n",
    "    \n",
    "    # recursively checking the left and right sub-tree\n",
    "    if can_reach_leaf(root.left):\n",
    "        return True\n",
    "    if can_reach_leaf(root.right):\n",
    "        return False\n",
    "    \n",
    "    # We reached leaf node it is 0\n",
    "    return False"
   ]
  },
  {
   "cell_type": "markdown",
   "metadata": {},
   "source": [
    "**2. In the above problem; if such a path exists return that path**"
   ]
  },
  {
   "cell_type": "code",
   "execution_count": 2,
   "metadata": {},
   "outputs": [],
   "source": [
    "path = []\n",
    "\n",
    "\n",
    "def leaf_path(root, path: list[int]):\n",
    "\n",
    "    if not root or root.val == 0:\n",
    "        return False\n",
    "    path.append(root.val)\n",
    "\n",
    "    if not root.left and not root.right:\n",
    "        return True\n",
    "    if leaf_path(root.left, path):\n",
    "        return True\n",
    "    if leaf_path(root.right, path):\n",
    "        return True\n",
    "    \n",
    "    path.pop() # backtrack\n",
    "\n",
    "    return False"
   ]
  }
 ],
 "metadata": {
  "kernelspec": {
   "display_name": "ML",
   "language": "python",
   "name": "python3"
  },
  "language_info": {
   "codemirror_mode": {
    "name": "ipython",
    "version": 3
   },
   "file_extension": ".py",
   "mimetype": "text/x-python",
   "name": "python",
   "nbconvert_exporter": "python",
   "pygments_lexer": "ipython3",
   "version": "3.11.9"
  },
  "orig_nbformat": 4
 },
 "nbformat": 4,
 "nbformat_minor": 2
}
