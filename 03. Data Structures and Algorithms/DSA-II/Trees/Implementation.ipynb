{
 "cells": [
  {
   "cell_type": "markdown",
   "metadata": {},
   "source": [
    "<h1 style=\"color:#FEC260\"> Trees </h1>\n",
    "\n",
    "**Binary tree**"
   ]
  },
  {
   "cell_type": "code",
   "execution_count": 3,
   "metadata": {},
   "outputs": [],
   "source": [
    "class TreeNode:\n",
    "    def __init__(self, data):\n",
    "        self.data = data\n",
    "        self.left = None\n",
    "        self.right = None\n",
    "    \n",
    "    def insert(self, data):\n",
    "        if self.data:\n",
    "            if data < self.data:\n",
    "                if self.left is None:\n",
    "                    self.left = TreeNode(data)\n",
    "                else:\n",
    "                    self.left.insert(data)\n",
    "            elif data > self.data:\n",
    "                if self.right is None:\n",
    "                    self.right = TreeNode(data)\n",
    "                else:\n",
    "                    self.right.insert(data)\n",
    "        else:\n",
    "            self.data = TreeNode(data)\n",
    "\n",
    "    def print_tree(self):\n",
    "        if self.left:\n",
    "            self.left.print_tree()\n",
    "        print(self.data)\n",
    "        if self.right:\n",
    "            self.right.print_tree()"
   ]
  },
  {
   "cell_type": "code",
   "execution_count": 4,
   "metadata": {},
   "outputs": [
    {
     "name": "stdout",
     "output_type": "stream",
     "text": [
      "1\n",
      "2\n",
      "4\n",
      "6\n",
      "9\n",
      "12\n",
      "14\n",
      "15\n",
      "21\n",
      "30\n"
     ]
    }
   ],
   "source": [
    "btree = TreeNode(12)\n",
    "btree.insert(6)\n",
    "btree.insert(14)\n",
    "btree.insert(4)\n",
    "btree.insert(1)\n",
    "btree.insert(2)\n",
    "btree.insert(9)\n",
    "btree.insert(21)\n",
    "btree.insert(15)\n",
    "btree.insert(30)\n",
    "btree.print_tree()"
   ]
  },
  {
   "cell_type": "code",
   "execution_count": null,
   "metadata": {},
   "outputs": [],
   "source": [
    "class Node:\n",
    "\n",
    "    def __init__(self, k):\n",
    "        self.left = None\n",
    "        self.right = None\n",
    "        self.key = k\n",
    "\n",
    "\n",
    "root = Node(10)\n",
    "root.left = Node(20)\n",
    "root.right = Node(30)\n",
    "root.right.left = Node(40)\n",
    "root.right.right = Node(50)\n",
    "\n",
    "\n",
    "# In-order traversal\n",
    "def in_order(root: Node) -> None:\n",
    "    \"\"\"\n",
    "    Time complexity:  θ(n)\n",
    "    Space complexity: θ(h)\n",
    "    \"\"\"\n",
    "    if root is not None:\n",
    "        in_order(root.left)\n",
    "        print(root.key)\n",
    "        in_order(root.right)\n",
    "\n",
    "\n",
    "print(\"In order traversal: \\n\")\n",
    "in_order(root)\n",
    "\n",
    "\n",
    "# Pre-order traversal\n",
    "def pre_order(root: Node) -> None:\n",
    "    \"\"\"\n",
    "    Time complexity:  θ(n)\n",
    "    Space complexity: θ(h)\n",
    "    \"\"\"\n",
    "    if root is not None:\n",
    "        print(root.key)\n",
    "        pre_order(root.left)\n",
    "        pre_order(root.right)\n",
    "\n",
    "\n",
    "print(\"\\nPre order traversal: \\n\")\n",
    "pre_order(root)\n",
    "\n",
    "\n",
    "# post order traversal\n",
    "def post_order(root: Node) -> None:\n",
    "    \"\"\"\n",
    "    Time complexity:  θ(n)\n",
    "    Space complexity: θ(h)\n",
    "    \"\"\"\n",
    "    if root is not None:\n",
    "        post_order(root.left)\n",
    "        post_order(root.right)\n",
    "        print(root.key)\n",
    "\n",
    "\n",
    "print(\"\\nPost order traversal: \\n\")\n",
    "post_order(root)\n",
    "\n",
    "\n",
    "# size of binary tree\n",
    "def tree_size(root: Node) -> int:\n",
    "    \"\"\"\n",
    "    Time complexity:  θ(n)\n",
    "    Space complexity: θ(h)\n",
    "    \"\"\"\n",
    "    if root is None:\n",
    "        return 0\n",
    "    else:\n",
    "        return 1 + tree_size(root.left) + tree_size(root.right)\n",
    "\n",
    "\n",
    "print(\"Size of a binary tree: \", tree_size(root))\n",
    "\n",
    "\n",
    "# max in binary tree\n",
    "def max_node(root: Node) -> int | None:\n",
    "    \"\"\"\n",
    "    Time complexity:  θ(n)\n",
    "    Space complexity: θ(h)\n",
    "    \"\"\"\n",
    "    if root is None:\n",
    "        return -float(\"inf\")\n",
    "    else:\n",
    "        return max(root.key, max_node(root.left), max_node(root.right))\n",
    "\n",
    "\n",
    "print(\"Maximum value in the tree is : \", max_node(root))\n",
    "\n",
    "\n",
    "# searching in binary tree\n",
    "def search_tree(root: Node, key: int) -> bool:\n",
    "    \"\"\"\n",
    "    Time complexity:  O(n)\n",
    "    Space complexity: O(h)\n",
    "    \"\"\"\n",
    "    if root is None:\n",
    "        return False\n",
    "    elif root.key == key:\n",
    "        return True\n",
    "    elif search_tree(root.left, key):\n",
    "        return True\n",
    "    else:\n",
    "        return search_tree(root.right, key)\n",
    "\n",
    "\n",
    "print(\"50 is present or not in the tree: \", search_tree(root, 50))\n",
    "print(\"70 is present or not in the tree: \", search_tree(root, 70))\n"
   ]
  },
  {
   "cell_type": "markdown",
   "metadata": {},
   "source": [
    "**Binary Search Tree {BST}**"
   ]
  },
  {
   "cell_type": "code",
   "execution_count": 1,
   "metadata": {},
   "outputs": [
    {
     "name": "stdout",
     "output_type": "stream",
     "text": [
      "40 is present in tree:  True\n",
      "40 is present in tree:  True\n"
     ]
    }
   ],
   "source": [
    "class Node:\n",
    "\n",
    "    def __init__(self, k):\n",
    "        self.left = None\n",
    "        self.right = None\n",
    "        self.key = k\n",
    "\n",
    "\n",
    "root = Node(10)\n",
    "root.left = Node(5)\n",
    "root.left.left = Node(2)\n",
    "root.right = Node(30)\n",
    "root.right.left = Node(25)\n",
    "root.right.right = Node(40)\n",
    "\n",
    "\n",
    "# Search in BST -> Recursive\n",
    "def search_bst(root: Node, target: int) -> bool:\n",
    "    \"\"\"\n",
    "    Time complexity: O(n)\n",
    "    Space complexity: O(n)\n",
    "    \"\"\"\n",
    "    if root is None:\n",
    "        return False\n",
    "    if root.key == target:\n",
    "        return True\n",
    "    if root.key < target:\n",
    "        return search_bst(root.right, target)\n",
    "    else:\n",
    "        return search_bst(root.left, target)\n",
    "\n",
    "\n",
    "print(\"40 is present in tree: \", search_bst(root, 40))\n",
    "\n",
    "\n",
    "# Search in BST -> Iterative\n",
    "def search_bst_iterative(root: Node, target: int) -> bool:\n",
    "    \"\"\"\n",
    "    Time complexity: O(n)\n",
    "    Space complexity: O(1)\n",
    "    \"\"\"\n",
    "    while root is not None:\n",
    "        if root.key == target:\n",
    "            return True\n",
    "        elif root.key < target:\n",
    "            root = root.right\n",
    "        else:\n",
    "            root = root.left\n",
    "    return False\n",
    "\n",
    "\n",
    "print(\"40 is present in tree: \", search_bst_iterative(root, 40))"
   ]
  },
  {
   "cell_type": "markdown",
   "metadata": {},
   "source": [
    "**Depth First Search [DFS]**\n",
    "\n",
    "When we do in-order traversal on BST, we get all nodes in ascending order (left -> root -> right)\n",
    "\n",
    "Time complexity: O(n)"
   ]
  },
  {
   "cell_type": "code",
   "execution_count": 19,
   "metadata": {},
   "outputs": [],
   "source": [
    "def inOrder(root):\n",
    "    if not root:\n",
    "        return\n",
    "    inOrder(root.left)\n",
    "    print(root.data)\n",
    "    inOrder(root.right)"
   ]
  },
  {
   "cell_type": "code",
   "execution_count": 20,
   "metadata": {},
   "outputs": [
    {
     "name": "stdout",
     "output_type": "stream",
     "text": [
      "1\n",
      "2\n",
      "4\n",
      "6\n",
      "9\n",
      "12\n",
      "14\n",
      "21\n",
      "30\n"
     ]
    }
   ],
   "source": [
    "inOrder(btree)"
   ]
  },
  {
   "cell_type": "code",
   "execution_count": 21,
   "metadata": {},
   "outputs": [],
   "source": [
    "def preOrder(root):\n",
    "    if not root:\n",
    "        return\n",
    "    print(root.data)\n",
    "    preOrder(root.left)\n",
    "    preOrder(root.right)"
   ]
  },
  {
   "cell_type": "code",
   "execution_count": 22,
   "metadata": {},
   "outputs": [
    {
     "name": "stdout",
     "output_type": "stream",
     "text": [
      "12\n",
      "6\n",
      "4\n",
      "1\n",
      "2\n",
      "9\n",
      "14\n",
      "21\n",
      "30\n"
     ]
    }
   ],
   "source": [
    "preOrder(btree)"
   ]
  },
  {
   "cell_type": "code",
   "execution_count": 28,
   "metadata": {},
   "outputs": [],
   "source": [
    "def postOrder(root):\n",
    "    if not root:\n",
    "        return\n",
    "    postOrder(root.left)\n",
    "    postOrder(root.right)\n",
    "    print(root.data)"
   ]
  },
  {
   "cell_type": "code",
   "execution_count": 29,
   "metadata": {},
   "outputs": [
    {
     "name": "stdout",
     "output_type": "stream",
     "text": [
      "2\n",
      "1\n",
      "4\n",
      "9\n",
      "6\n",
      "15\n",
      "30\n",
      "21\n",
      "14\n",
      "12\n"
     ]
    }
   ],
   "source": [
    "postOrder(btree)"
   ]
  },
  {
   "cell_type": "code",
   "execution_count": 32,
   "metadata": {},
   "outputs": [],
   "source": [
    "def inOrder_reverse(root):\n",
    "    if not root:\n",
    "        return\n",
    "    inOrder_reverse(root.right)\n",
    "    print(root.data)\n",
    "    inOrder_reverse(root.left)"
   ]
  },
  {
   "cell_type": "code",
   "execution_count": 33,
   "metadata": {},
   "outputs": [
    {
     "name": "stdout",
     "output_type": "stream",
     "text": [
      "30\n",
      "21\n",
      "15\n",
      "14\n",
      "12\n",
      "9\n",
      "6\n",
      "4\n",
      "2\n",
      "1\n"
     ]
    }
   ],
   "source": [
    "inOrder_reverse(btree)"
   ]
  },
  {
   "cell_type": "markdown",
   "metadata": {},
   "source": [
    "**Breadth First Search [BFS]**\n",
    "\n"
   ]
  },
  {
   "cell_type": "code",
   "execution_count": 5,
   "metadata": {},
   "outputs": [],
   "source": [
    "from collections import deque\n",
    "\n",
    "\n",
    "def bfs(root):\n",
    "    queue  = deque()\n",
    "\n",
    "    if root:\n",
    "        queue.append(root)\n",
    "    \n",
    "    level = 0\n",
    "    while len(queue) > 0:\n",
    "        print(\"Level : \", level)\n",
    "        for _ in range(len(queue)):\n",
    "            cur_val = queue.popleft()\n",
    "            print(cur_val.data)\n",
    "            if cur_val.left:\n",
    "                queue.append(cur_val.left)\n",
    "            if cur_val.right:\n",
    "                queue.append(cur_val.right)\n",
    "        level += 1   "
   ]
  },
  {
   "cell_type": "code",
   "execution_count": 7,
   "metadata": {},
   "outputs": [
    {
     "name": "stdout",
     "output_type": "stream",
     "text": [
      "Level :  0\n",
      "12\n",
      "Level :  1\n",
      "6\n",
      "14\n",
      "Level :  2\n",
      "4\n",
      "9\n",
      "21\n",
      "Level :  3\n",
      "1\n",
      "15\n",
      "30\n",
      "Level :  4\n",
      "2\n"
     ]
    }
   ],
   "source": [
    "bfs(btree)\n",
    "\n",
    "# Time complexity O(n)"
   ]
  }
 ],
 "metadata": {
  "kernelspec": {
   "display_name": "Python (base-env)",
   "language": "python",
   "name": "base-env"
  },
  "language_info": {
   "codemirror_mode": {
    "name": "ipython",
    "version": 3
   },
   "file_extension": ".py",
   "mimetype": "text/x-python",
   "name": "python",
   "nbconvert_exporter": "python",
   "pygments_lexer": "ipython3",
   "version": "3.12.5"
  },
  "orig_nbformat": 4
 },
 "nbformat": 4,
 "nbformat_minor": 2
}
