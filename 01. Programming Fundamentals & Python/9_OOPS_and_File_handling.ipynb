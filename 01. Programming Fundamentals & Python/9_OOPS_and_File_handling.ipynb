{
 "cells": [
  {
   "attachments": {},
   "cell_type": "markdown",
   "metadata": {},
   "source": [
    "# <span style=\"color:#FEC260\">Object Oriented Programming & File Handling</span>\n",
    "\n",
    "### OOP\n",
    "- Class\n",
    "- Object\n",
    "- Constructor\n",
    "- Class methods and class variables\n",
    "- Instance methods and instance variables\n",
    "- Static methods and static variables\n",
    "- Inheritance"
   ]
  },
  {
   "cell_type": "code",
   "execution_count": 1,
   "metadata": {},
   "outputs": [],
   "source": [
    "# creating a class\n",
    "class Person:\n",
    "    name= \"John\"\n",
    "    age= 36\n",
    "\n",
    "    def talk(self):\n",
    "        print(f\"Hello I am {self.name} and I am {self.age} years old\")"
   ]
  },
  {
   "cell_type": "code",
   "execution_count": 2,
   "metadata": {},
   "outputs": [
    {
     "name": "stdout",
     "output_type": "stream",
     "text": [
      "John\n",
      "36\n",
      "Hello I am John and I am 36 years old\n"
     ]
    }
   ],
   "source": [
    "# creating an object and accessing the class attributes\n",
    "p1= Person()\n",
    "print(p1.name)\n",
    "print(p1.age)\n",
    "p1.talk()"
   ]
  },
  {
   "cell_type": "code",
   "execution_count": 4,
   "metadata": {},
   "outputs": [
    {
     "name": "stdout",
     "output_type": "stream",
     "text": [
      "Sam\n",
      "25\n",
      "Hello I am Sam and I am 25 years old\n"
     ]
    }
   ],
   "source": [
    "# adding object attributes\n",
    "p1.name= \"Sam\"\n",
    "p1.age= 25\n",
    "print(p1.name)\n",
    "print(p1.age)\n",
    "p1.talk()"
   ]
  },
  {
   "cell_type": "code",
   "execution_count": 5,
   "metadata": {},
   "outputs": [],
   "source": [
    "# we can create an empty class using the pass keyword\n",
    "class People:\n",
    "    pass"
   ]
  },
  {
   "cell_type": "code",
   "execution_count": 16,
   "metadata": {},
   "outputs": [],
   "source": [
    "# we can use the __init__() function to initialize the class attributes (Constructor)\n",
    "class Human:\n",
    "    number_of_humans= 0\n",
    "\n",
    "    def __init__(self, name, age):\n",
    "        self.name= name\n",
    "        self.age= age\n",
    "        Human.number_of_humans += 1\n",
    "\n",
    "    def talk(self):\n",
    "        print(f\"Hello I am {self.name} and I am {self.age} years old\")"
   ]
  },
  {
   "cell_type": "code",
   "execution_count": 15,
   "metadata": {},
   "outputs": [
    {
     "name": "stdout",
     "output_type": "stream",
     "text": [
      "Hello I am Larry and I am 29 years old\n",
      "Hello I am Moe and I am 27 years old\n",
      "2\n"
     ]
    }
   ],
   "source": [
    "h1= Human(\"Larry\", 29)\n",
    "h1.talk()\n",
    "\n",
    "h2= Human(\"Moe\", 27)\n",
    "h2.talk()\n",
    "\n",
    "print(Human.number_of_humans)"
   ]
  },
  {
   "cell_type": "code",
   "execution_count": 8,
   "metadata": {},
   "outputs": [
    {
     "name": "stdout",
     "output_type": "stream",
     "text": [
      "Hello I am Harry and I am 30 years old\n"
     ]
    }
   ],
   "source": [
    "h2 = Human(name=\"Harry\", age= 30)\n",
    "h2.talk()"
   ]
  },
  {
   "cell_type": "code",
   "execution_count": 17,
   "metadata": {},
   "outputs": [],
   "source": [
    "# class methods\n",
    "class Student:\n",
    "    number_of_students= 0\n",
    "\n",
    "    def __init__(self, name, age, grade):\n",
    "        self.name= name\n",
    "        self.age= age\n",
    "        self.grade= grade\n",
    "    \n",
    "    @classmethod\n",
    "    def change_student_number(cls, count):\n",
    "        cls.number_of_students = count"
   ]
  },
  {
   "cell_type": "code",
   "execution_count": 18,
   "metadata": {},
   "outputs": [
    {
     "name": "stdout",
     "output_type": "stream",
     "text": [
      "0\n",
      "3\n"
     ]
    }
   ],
   "source": [
    "s1= Student(\"John\", 25, 90)\n",
    "s2= Student(\"Sam\", 26, 95)\n",
    "s3= Student(\"Harry\", 27, 100)\n",
    "\n",
    "print(Student.number_of_students)\n",
    "Student.change_student_number(3)\n",
    "print(Student.number_of_students)"
   ]
  },
  {
   "cell_type": "code",
   "execution_count": 1,
   "metadata": {},
   "outputs": [],
   "source": [
    "# Static methods\n",
    "class Student:\n",
    "    number_of_students= 0\n",
    "\n",
    "    def __init__(self, name, grades=[]):\n",
    "        self.name= name\n",
    "        self.grades= grades\n",
    "    \n",
    "    @staticmethod\n",
    "    def average_grade(grades):\n",
    "        return sum(grades) / len(grades)"
   ]
  },
  {
   "cell_type": "code",
   "execution_count": 2,
   "metadata": {},
   "outputs": [
    {
     "name": "stdout",
     "output_type": "stream",
     "text": [
      "67.5 82.5\n"
     ]
    }
   ],
   "source": [
    "s1 = Student(\"Terry\", [100, 40, 80, 50])\n",
    "s2 = Student(\"Ferry\", [80, 75, 90, 85])\n",
    "\n",
    "s1_average = Student.average_grade(s1.grades)\n",
    "s2_average = s1.average_grade(s2.grades)\n",
    "\n",
    "print(s1_average, s2_average)"
   ]
  },
  {
   "attachments": {},
   "cell_type": "markdown",
   "metadata": {},
   "source": [
    "**Inheritance**"
   ]
  },
  {
   "cell_type": "code",
   "execution_count": 24,
   "metadata": {},
   "outputs": [],
   "source": [
    "class Person:\n",
    "\n",
    "    def __init__(self, first_name, last_name):\n",
    "        self.first_name = first_name\n",
    "        self.last_name = last_name\n",
    "    \n",
    "    def say_hello(self):\n",
    "        print(f\"Hello, {self.first_name} {self.last_name}\")\n",
    "\n",
    "    def print_class(self):\n",
    "        print(\"Main class - Person class\")\n",
    "\n",
    "\n",
    "\n",
    "class Employee(Person):\n",
    "\n",
    "    #overriding the constructor\n",
    "    def __init__(self, first_name, last_name, salary=0):\n",
    "        super().__init__(first_name, last_name)\n",
    "        self.salary = salary\n",
    "    \n",
    "    def print_details(self):\n",
    "        print(f\"Name : {self.first_name} {self.last_name}\\nSalary : {self.salary}\")\n",
    "    \n",
    "    # overriding function\n",
    "    def print_class(self):\n",
    "        print(\"Employee Sub class\")\n",
    "        # invoking overridden function using super keyword\n",
    "        super().print_class()\n",
    "\n",
    "\n",
    "\n",
    "class Manager(Employee):\n",
    "\n",
    "    def __init__(self, first_name, last_name, department, salary=0):\n",
    "        super().__init__(first_name, last_name, salary)\n",
    "        self.department = department\n",
    "\n",
    "    def print_details(self):\n",
    "        super().print_details()\n",
    "        print(f\"Department : {self.department}\")\n",
    "    \n",
    "    def print_class(self):\n",
    "        print(\"Manager Class - Child/grandchild\")\n",
    "        super().print_class()\n",
    "\n",
    "\n",
    "\n",
    "class Owner(Person):\n",
    "    def __init__(self, first_name, last_name, profit = 0):\n",
    "        super().__init__(first_name, last_name)\n",
    "        self.profit = profit "
   ]
  },
  {
   "cell_type": "code",
   "execution_count": 25,
   "metadata": {},
   "outputs": [
    {
     "name": "stdout",
     "output_type": "stream",
     "text": [
      "Hello, Martin Luther\n",
      "Hello, Martin Luther\n",
      "Name : Martin Luther\n",
      "Salary : 0\n",
      "Employee Sub class\n",
      "Main class - Person class\n",
      "Hello, King Kong\n",
      "Name : King Kong\n",
      "Salary : 50000\n",
      "Hello, Tim Book\n",
      "True\n"
     ]
    }
   ],
   "source": [
    "p1 = Person(\"Martin\", \"Luther\")\n",
    "p1.say_hello()\n",
    "\n",
    "e1 = Employee(\"Martin\", \"Luther\")\n",
    "e1.say_hello()\n",
    "e1.print_details()\n",
    "\n",
    "e1.print_class()\n",
    "\n",
    "e2 = Employee(\"King\", \"Kong\", 50000)\n",
    "e2.say_hello()\n",
    "e2.print_details()\n",
    "\n",
    "o = Owner(\"Tim\", \"Book\", 200000)\n",
    "o.say_hello()\n",
    "print(isinstance(o, Person))"
   ]
  },
  {
   "cell_type": "code",
   "execution_count": 29,
   "metadata": {},
   "outputs": [],
   "source": [
    "# multiple inheritance\n",
    "class A:\n",
    "    def __init__(self):\n",
    "        print('A')\n",
    "\n",
    "\n",
    "\n",
    "class B:\n",
    "    def __init__(self):\n",
    "        print('B')\n",
    "\n",
    "\n",
    "\n",
    "class C(A, B):\n",
    "    def __init__(self):\n",
    "        super().__init__()"
   ]
  },
  {
   "cell_type": "code",
   "execution_count": 32,
   "metadata": {},
   "outputs": [
    {
     "name": "stdout",
     "output_type": "stream",
     "text": [
      "A\n",
      "True\n",
      "True\n",
      "True\n"
     ]
    }
   ],
   "source": [
    "abc = C()\n",
    "print(isinstance(abc, A))\n",
    "print(isinstance(abc, B))\n",
    "print(isinstance(abc, C))"
   ]
  },
  {
   "attachments": {},
   "cell_type": "markdown",
   "metadata": {},
   "source": [
    "### A simple bank account program"
   ]
  },
  {
   "cell_type": "code",
   "execution_count": 15,
   "metadata": {},
   "outputs": [],
   "source": [
    "class Bank_account(object):\n",
    "    '''This is the base class for bank account program'''\n",
    "\n",
    "    def __init__(self, balance = 0.0) :\n",
    "        self.balance = balance\n",
    "\n",
    "    def display_balance(self):\n",
    "        print(\"Your balance is:\", self.balance)\n",
    "\n",
    "    def deposit(self):\n",
    "        amount = int(input('Enter the amount:'))\n",
    "        self.balance += amount\n",
    "        print('Your current balance is:', self.balance)\n",
    "\n",
    "    def withdrawal(self):\n",
    "        amount1 = int(input(\"Enter amount:\"))\n",
    "        if amount1 <= self.balance:\n",
    "            print(\"Here's your money:\", amount1)\n",
    "            self.balance -= amount1 \n",
    "        else:\n",
    "            print('Not enough money')\n",
    "\n",
    "        print('Your current balance is:', self.balance)"
   ]
  },
  {
   "cell_type": "code",
   "execution_count": 23,
   "metadata": {},
   "outputs": [],
   "source": [
    "person1 = Bank_account(1000)"
   ]
  },
  {
   "cell_type": "code",
   "execution_count": 24,
   "metadata": {},
   "outputs": [
    {
     "name": "stdout",
     "output_type": "stream",
     "text": [
      "Your balance is: 1000\n"
     ]
    }
   ],
   "source": [
    "person1.display_balance()"
   ]
  },
  {
   "cell_type": "code",
   "execution_count": 25,
   "metadata": {},
   "outputs": [
    {
     "name": "stdout",
     "output_type": "stream",
     "text": [
      "Your current balance is: 1250\n"
     ]
    }
   ],
   "source": [
    "person1.deposit()"
   ]
  },
  {
   "cell_type": "code",
   "execution_count": 26,
   "metadata": {},
   "outputs": [
    {
     "name": "stdout",
     "output_type": "stream",
     "text": [
      "Here's your money: 500\n",
      "Your current balance is: 750\n"
     ]
    }
   ],
   "source": [
    "person1.withdrawal()"
   ]
  },
  {
   "cell_type": "code",
   "execution_count": 27,
   "metadata": {},
   "outputs": [
    {
     "name": "stdout",
     "output_type": "stream",
     "text": [
      "Not enough money\n",
      "Your current balance is: 750\n"
     ]
    }
   ],
   "source": [
    "person1.withdrawal()"
   ]
  },
  {
   "attachments": {},
   "cell_type": "markdown",
   "metadata": {},
   "source": [
    "### **<span style=\"color:#FEC260\">File handling</span>**"
   ]
  },
  {
   "cell_type": "code",
   "execution_count": 40,
   "metadata": {},
   "outputs": [
    {
     "name": "stdout",
     "output_type": "stream",
     "text": [
      "<class '_io.TextIOWrapper'>\n"
     ]
    }
   ],
   "source": [
    "f = open('Alien_DNA_Sample.txt', 'w')\n",
    "\n",
    "print(type(f))"
   ]
  },
  {
   "cell_type": "code",
   "execution_count": 41,
   "metadata": {},
   "outputs": [],
   "source": [
    "f.write('Heat-blast\\nFour-arms\\nDiamond-Head\\nGrey-Matter\\nXlr8\\n')\n",
    "f.close()"
   ]
  },
  {
   "cell_type": "code",
   "execution_count": 42,
   "metadata": {},
   "outputs": [
    {
     "name": "stdout",
     "output_type": "stream",
     "text": [
      "Heat-blast\n",
      "Four-arms\n",
      "Diamond-Head\n",
      "Grey-Matter\n",
      "Xlr8\n",
      "\n"
     ]
    }
   ],
   "source": [
    "f = open('Alien_DNA_Sample.txt', 'r')\n",
    "print(f.read())\n",
    "f.close()"
   ]
  },
  {
   "cell_type": "code",
   "execution_count": 43,
   "metadata": {},
   "outputs": [
    {
     "name": "stdout",
     "output_type": "stream",
     "text": [
      "Heat-blast\n",
      "\n"
     ]
    }
   ],
   "source": [
    "# we can read line by line using \n",
    "f = open('Alien_DNA_Sample.txt', 'r')\n",
    "print(f.readline())\n",
    "f.close()"
   ]
  },
  {
   "attachments": {},
   "cell_type": "markdown",
   "metadata": {},
   "source": [
    "We can use the **readlines()** method to read the lines of a file into a list. Each element of the list is a string that corresponds to a line of the file. "
   ]
  },
  {
   "cell_type": "code",
   "execution_count": 45,
   "metadata": {},
   "outputs": [
    {
     "name": "stdout",
     "output_type": "stream",
     "text": [
      "['Heat-blast\\n', 'Four-arms\\n', 'Diamond-Head\\n', 'Grey-Matter\\n', 'Xlr8\\n'] <class 'list'>\n"
     ]
    }
   ],
   "source": [
    "f = open('Alien_DNA_Sample.txt', 'r')\n",
    "a = f.readlines()\n",
    "print(a, type(a))\n",
    "f.close()"
   ]
  },
  {
   "cell_type": "code",
   "execution_count": 46,
   "metadata": {},
   "outputs": [],
   "source": [
    "# we can use 'a' to append contents to a file\n",
    "f = open('Alien_DNA_Sample.txt', 'a')\n",
    "f.write('Upgrade\\nSting-fly\\n')\n",
    "f.close()"
   ]
  },
  {
   "cell_type": "code",
   "execution_count": 47,
   "metadata": {},
   "outputs": [
    {
     "name": "stdout",
     "output_type": "stream",
     "text": [
      "Heat-blast\n",
      "Four-arms\n",
      "Diamond-Head\n",
      "Grey-Matter\n",
      "Xlr8\n",
      "Upgrade\n",
      "Sting-fly\n",
      "\n"
     ]
    }
   ],
   "source": [
    "f = open('Alien_DNA_Sample.txt', 'r')\n",
    "print(f.read())"
   ]
  },
  {
   "attachments": {},
   "cell_type": "markdown",
   "metadata": {},
   "source": [
    "We generally use the following syntax to perform file handling. `with` is a context manager that automatically closes the file once the work is done."
   ]
  },
  {
   "cell_type": "code",
   "execution_count": 48,
   "metadata": {},
   "outputs": [
    {
     "name": "stdout",
     "output_type": "stream",
     "text": [
      "Heat-blast\n",
      "\n",
      "Four-arms\n",
      "\n",
      "Diamond-Head\n",
      "\n",
      "Grey-Matter\n",
      "\n",
      "Xlr8\n",
      "\n",
      "Upgrade\n",
      "\n",
      "Sting-fly\n",
      "\n"
     ]
    }
   ],
   "source": [
    "with open('Alien_DNA_Sample.txt', 'r') as f:\n",
    "    for line in f.readlines():\n",
    "        print(line)"
   ]
  },
  {
   "attachments": {},
   "cell_type": "markdown",
   "metadata": {},
   "source": [
    "We can remove content from a file in many ways. The simplest way is to use the **truncate()** method. This method will remove all the content from the file. We can also use the **write()** method to write content to a file. This method will overwrite the existing content of the file. We can remove content from a file by specifying the line using using the following way."
   ]
  },
  {
   "cell_type": "code",
   "execution_count": 2,
   "metadata": {},
   "outputs": [
    {
     "name": "stdout",
     "output_type": "stream",
     "text": [
      "['Heat-blast\\n', 'Four-arms\\n', 'Diamond-Head\\n', 'Grey-Matter\\n', 'Xlr8\\n']\n",
      "['Heat-blast\\n', 'Four-arms\\n', 'Diamond-Head\\n', 'Grey-Matter\\n', 'Xlr8\\n']\n"
     ]
    }
   ],
   "source": [
    "lines = []\n",
    "with open('Alien_DNA_Sample.txt', 'r') as f:\n",
    "    lines  = f.readlines()\n",
    "\n",
    "print(lines)\n",
    "\n",
    "with open('Alien_DNA_Sample.txt', 'w') as f:\n",
    "    for number, line in enumerate(lines):\n",
    "        if number not in [5]:\n",
    "            f.write(line)\n",
    "    print(lines)"
   ]
  },
  {
   "cell_type": "code",
   "execution_count": 3,
   "metadata": {},
   "outputs": [
    {
     "name": "stdout",
     "output_type": "stream",
     "text": [
      "Heat-blast\n",
      "\n",
      "Four-arms\n",
      "\n",
      "Diamond-Head\n",
      "\n",
      "Grey-Matter\n",
      "\n",
      "Xlr8\n",
      "\n"
     ]
    }
   ],
   "source": [
    "with open('Alien_DNA_Sample.txt', 'r') as f:\n",
    "    for line in f.readlines():\n",
    "        print(line)"
   ]
  }
 ],
 "metadata": {
  "kernelspec": {
   "display_name": "Python 3.10.5 64-bit",
   "language": "python",
   "name": "python3"
  },
  "language_info": {
   "codemirror_mode": {
    "name": "ipython",
    "version": 3
   },
   "file_extension": ".py",
   "mimetype": "text/x-python",
   "name": "python",
   "nbconvert_exporter": "python",
   "pygments_lexer": "ipython3",
   "version": "3.11.4"
  },
  "orig_nbformat": 4,
  "vscode": {
   "interpreter": {
    "hash": "f4c85645bce20c702a4ecae1b93c6759c482279d1c3b7e99a0246a20b7629f3f"
   }
  }
 },
 "nbformat": 4,
 "nbformat_minor": 2
}
