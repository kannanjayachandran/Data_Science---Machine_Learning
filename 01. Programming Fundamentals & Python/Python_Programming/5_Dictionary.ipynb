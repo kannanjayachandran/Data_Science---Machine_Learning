{
 "cells": [
  {
   "cell_type": "markdown",
   "metadata": {},
   "source": [
    "### **<span style=\"color:#FEC260\">Dictionary</span>**"
   ]
  },
  {
   "cell_type": "code",
   "execution_count": 29,
   "metadata": {},
   "outputs": [
    {
     "name": "stdout",
     "output_type": "stream",
     "text": [
      "{'key1': 'value1', 'key2': 'value2'}\n",
      "\n",
      "{'key1': 'value1', 'key2': 'value2'}\n"
     ]
    }
   ],
   "source": [
    "# we can make a dict in two ways\n",
    "\n",
    "d1 = dict(key1='value1', key2='value2')\n",
    "\n",
    "d2 = {'key1': 'value1', 'key2': 'value2'}\n",
    "\n",
    "print(d1, d2, sep='\\n\\n')"
   ]
  },
  {
   "cell_type": "code",
   "execution_count": 30,
   "metadata": {},
   "outputs": [
    {
     "name": "stdout",
     "output_type": "stream",
     "text": [
      "{'India': 'Rupee', 'USA': 'Dollars', 'Japan': 'Yen', 'Ireland': 'Euro', 'Singapore': 'Singapore Dollar'} <class 'dict'>\n"
     ]
    }
   ],
   "source": [
    "currency = {\n",
    "    'India': 'Rupee',\n",
    "    'USA': 'Dollars',\n",
    "    'Japan': 'Yen',\n",
    "}\n",
    "currency['Ireland'] = 'Euro'\n",
    "currency['Singapore'] = 'Singapore Dollar'\n",
    "\n",
    "print(currency, type(currency))"
   ]
  },
  {
   "cell_type": "code",
   "execution_count": 31,
   "metadata": {},
   "outputs": [
    {
     "data": {
      "text/plain": [
       "'Rupee'"
      ]
     },
     "execution_count": 31,
     "metadata": {},
     "output_type": "execute_result"
    }
   ],
   "source": [
    "# we can access the dictionary elements using keys\n",
    "currency['India']"
   ]
  },
  {
   "cell_type": "code",
   "execution_count": 32,
   "metadata": {},
   "outputs": [
    {
     "name": "stdout",
     "output_type": "stream",
     "text": [
      "{'India': 'Rupee', 'USA': 'USD', 'Japan': 'Yen', 'Ireland': 'Euro', 'Singapore': 'Singapore Dollar'}\n"
     ]
    }
   ],
   "source": [
    "# we can access and change values using keys\n",
    "currency['USA'] = 'USD'\n",
    "print(currency)"
   ]
  },
  {
   "cell_type": "code",
   "execution_count": 33,
   "metadata": {},
   "outputs": [
    {
     "name": "stdout",
     "output_type": "stream",
     "text": [
      "dict_keys(['India', 'USA', 'Japan', 'Ireland', 'Singapore']) <class 'dict_keys'>\n"
     ]
    }
   ],
   "source": [
    "# we can get all the keys of a dict using keys() function\n",
    "a = currency.keys()\n",
    "print(a, type(a))"
   ]
  },
  {
   "cell_type": "code",
   "execution_count": 34,
   "metadata": {},
   "outputs": [
    {
     "name": "stdout",
     "output_type": "stream",
     "text": [
      "dict_values(['Rupee', 'USD', 'Yen', 'Euro', 'Singapore Dollar']) <class 'dict_values'>\n"
     ]
    }
   ],
   "source": [
    "a = currency.values()\n",
    "print(a, type(a))"
   ]
  },
  {
   "cell_type": "code",
   "execution_count": 35,
   "metadata": {},
   "outputs": [
    {
     "name": "stdout",
     "output_type": "stream",
     "text": [
      "[('India', 'Rupee'), ('USA', 'USD'), ('Japan', 'Yen'), ('Ireland', 'Euro'), ('Singapore', 'Singapore Dollar')]\n"
     ]
    }
   ],
   "source": [
    "# To get all the key-value pairs of a dict as a list of tuples\n",
    "val = list(currency.items())\n",
    "print(val)"
   ]
  },
  {
   "cell_type": "code",
   "execution_count": 36,
   "metadata": {},
   "outputs": [
    {
     "name": "stdout",
     "output_type": "stream",
     "text": [
      "Singapore Dollar {'India': 'Rupee', 'USA': 'USD', 'Japan': 'Yen', 'Ireland': 'Euro'}\n",
      "{'India': 'Rupee', 'USA': 'USD', 'Japan': 'Yen'}\n"
     ]
    }
   ],
   "source": [
    "# removing entries from a dictionary\n",
    "# using pop() method\n",
    "removed_value = currency.pop('Singapore')\n",
    "print(removed_value, currency)\n",
    "\n",
    "# using del keyword\n",
    "del currency['Ireland']\n",
    "print(currency)"
   ]
  },
  {
   "cell_type": "code",
   "execution_count": 43,
   "metadata": {},
   "outputs": [],
   "source": [
    "# copying and deep copying\n",
    "import copy\n",
    "\n",
    "\n",
    "currency_copy = currency.copy()\n",
    "currency_deep_copy = copy.deepcopy(currency)"
   ]
  },
  {
   "cell_type": "markdown",
   "metadata": {},
   "source": [
    "**More on shallow copy and deep copy**\n",
    "\n",
    "- [Stackoverflow Answer](https://stackoverflow.com/questions/17246693/what-is-the-difference-between-shallow-copy-deepcopy-and-normal-assignment-oper)\n",
    "\n",
    "- [GFG Article](https://www.geeksforgeeks.org/copy-python-deep-copy-shallow-copy/)\n",
    "\n",
    "### **<span style=\"color:#FEC260\">Collections Module</span>**"
   ]
  },
  {
   "cell_type": "code",
   "execution_count": 51,
   "metadata": {},
   "outputs": [],
   "source": [
    "s = \"\"\"Ben 10 is an American animated television series and a \n",
    "media franchise created by Man of Action Studios and produced \n",
    "by Cartoon Network Studios. The franchise revolves around a boy \n",
    "named Ben Tennyson who acquires a watch-like alien device, the \n",
    "Omnitrix, which allows him to transform into ten different alien \n",
    "creatures. The Ben 10 franchise has received wide critical acclaim, \n",
    "winning three Emmy Awards\"\"\""
   ]
  },
  {
   "cell_type": "code",
   "execution_count": 53,
   "metadata": {},
   "outputs": [
    {
     "name": "stdout",
     "output_type": "stream",
     "text": [
      "Counter({' ': 63, 'e': 42, 'a': 33, 'n': 31, 'i': 31, 'r': 22, 't': 22, 's': 19, 'o': 19, 'c': 18, 'd': 16, 'h': 13, 'm': 11, 'l': 9, 'w': 8, 'f': 7, 'b': 6, '\\n': 6, 'u': 6, 'v': 5, 'y': 5, ',': 3, '1': 2, '0': 2, 'k': 2, '.': 2, 'p': 1, 'q': 1, '-': 1, 'x': 1, 'g': 1})\n",
      "\n",
      "Counter({1: 6, 2: 5, 3: 5})\n"
     ]
    }
   ],
   "source": [
    "from collections import Counter\n",
    "\n",
    "letter_count = Counter(s.lower())\n",
    "\n",
    "l1 = [1, 1, 2, 3, 1, 2, 3, 1, 2, 3, 1, 2, 3, 2, 1, 3]\n",
    "list_count = Counter(l1)\n",
    "\n",
    "print(letter_count, list_count, sep='\\n\\n')"
   ]
  },
  {
   "cell_type": "code",
   "execution_count": 57,
   "metadata": {},
   "outputs": [
    {
     "name": "stdout",
     "output_type": "stream",
     "text": [
      "[(' ', 63), ('e', 42), ('a', 33), ('n', 31), ('i', 31)]\n"
     ]
    }
   ],
   "source": [
    "# common counter methods\n",
    "# print(list(letter_count.elements()))\n",
    "print(letter_count.most_common(5))"
   ]
  },
  {
   "cell_type": "markdown",
   "metadata": {},
   "source": [
    "**Dictionary Comprenhension**"
   ]
  },
  {
   "cell_type": "code",
   "execution_count": 59,
   "metadata": {},
   "outputs": [
    {
     "name": "stdout",
     "output_type": "stream",
     "text": [
      "{'b': 6, 'e': 42, 'n': 31, 'i': 31, 's': 19, 'a': 33, 'm': 11, 'r': 22, 'c': 18, 't': 22, 'd': 16, 'l': 9, 'v': 5, 'o': 19, 'f': 7, 'h': 13, 'y': 5, 'u': 6, 'p': 1, 'w': 8, 'k': 2, 'q': 1, 'x': 1, 'g': 1}\n"
     ]
    }
   ],
   "source": [
    "dict_comprehension = {k: v for k, v in letter_count.items() if k.isalpha()}\n",
    "\n",
    "print(dict_comprehension)"
   ]
  }
 ],
 "metadata": {
  "kernelspec": {
   "display_name": "Python 3.10.5 64-bit",
   "language": "python",
   "name": "python3"
  },
  "language_info": {
   "codemirror_mode": {
    "name": "ipython",
    "version": 3
   },
   "file_extension": ".py",
   "mimetype": "text/x-python",
   "name": "python",
   "nbconvert_exporter": "python",
   "pygments_lexer": "ipython3",
   "version": "3.11.5"
  },
  "orig_nbformat": 4,
  "vscode": {
   "interpreter": {
    "hash": "f4c85645bce20c702a4ecae1b93c6759c482279d1c3b7e99a0246a20b7629f3f"
   }
  }
 },
 "nbformat": 4,
 "nbformat_minor": 2
}
