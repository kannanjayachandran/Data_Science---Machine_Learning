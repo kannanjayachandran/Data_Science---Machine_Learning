{
 "cells": [
  {
   "cell_type": "markdown",
   "metadata": {},
   "source": [
    "<h1 style='color: #FEC260'> File Handling </h1>"
   ]
  },
  {
   "cell_type": "code",
   "execution_count": 2,
   "metadata": {},
   "outputs": [
    {
     "name": "stdout",
     "output_type": "stream",
     "text": [
      "<class '_io.TextIOWrapper'>\n"
     ]
    }
   ],
   "source": [
    "f = open('Alien_DNA_Sample.txt', 'w')\n",
    "\n",
    "print(type(f))"
   ]
  },
  {
   "cell_type": "code",
   "execution_count": 3,
   "metadata": {},
   "outputs": [],
   "source": [
    "f.write('Heat-blast\\nFour-arms\\nDiamond-Head\\nGrey-Matter\\nXlr8\\n')\n",
    "f.close()"
   ]
  },
  {
   "cell_type": "code",
   "execution_count": 4,
   "metadata": {},
   "outputs": [
    {
     "name": "stdout",
     "output_type": "stream",
     "text": [
      "Heat-blast\n",
      "Four-arms\n",
      "Diamond-Head\n",
      "Grey-Matter\n",
      "Xlr8\n",
      "\n"
     ]
    }
   ],
   "source": [
    "f = open('Alien_DNA_Sample.txt', 'r')\n",
    "print(f.read())\n",
    "f.close()"
   ]
  },
  {
   "cell_type": "code",
   "execution_count": 5,
   "metadata": {},
   "outputs": [
    {
     "name": "stdout",
     "output_type": "stream",
     "text": [
      "Heat-blast\n",
      "\n"
     ]
    }
   ],
   "source": [
    "# we can read line by line using \n",
    "f = open('Alien_DNA_Sample.txt', 'r')\n",
    "print(f.readline())\n",
    "f.close()"
   ]
  },
  {
   "cell_type": "code",
   "execution_count": 6,
   "metadata": {},
   "outputs": [
    {
     "name": "stdout",
     "output_type": "stream",
     "text": [
      "['Heat-blast\\n', 'Four-arms\\n', 'Diamond-Head\\n', 'Grey-Matter\\n', 'Xlr8\\n'] <class 'list'>\n"
     ]
    }
   ],
   "source": [
    "f = open('Alien_DNA_Sample.txt', 'r')\n",
    "a = f.readlines()\n",
    "print(a, type(a))\n",
    "f.close()"
   ]
  },
  {
   "cell_type": "code",
   "execution_count": 7,
   "metadata": {},
   "outputs": [],
   "source": [
    "# we can use 'a' to append contents to a file\n",
    "f = open('Alien_DNA_Sample.txt', 'a')\n",
    "f.write('Upgrade\\nSting-fly\\n')\n",
    "f.close()"
   ]
  },
  {
   "cell_type": "code",
   "execution_count": 8,
   "metadata": {},
   "outputs": [
    {
     "name": "stdout",
     "output_type": "stream",
     "text": [
      "Heat-blast\n",
      "Four-arms\n",
      "Diamond-Head\n",
      "Grey-Matter\n",
      "Xlr8\n",
      "Upgrade\n",
      "Sting-fly\n",
      "\n"
     ]
    }
   ],
   "source": [
    "f = open('Alien_DNA_Sample.txt', 'r')\n",
    "print(f.read())"
   ]
  },
  {
   "cell_type": "code",
   "execution_count": 9,
   "metadata": {},
   "outputs": [
    {
     "name": "stdout",
     "output_type": "stream",
     "text": [
      "Heat-blast\n",
      "\n",
      "Four-arms\n",
      "\n",
      "Diamond-Head\n",
      "\n",
      "Grey-Matter\n",
      "\n",
      "Xlr8\n",
      "\n",
      "Upgrade\n",
      "\n",
      "Sting-fly\n",
      "\n"
     ]
    }
   ],
   "source": [
    "# we can use 'with' to open a file and automatically close it\n",
    "with open('Alien_DNA_Sample.txt', 'r') as f:\n",
    "    for line in f.readlines():\n",
    "        print(line)"
   ]
  },
  {
   "cell_type": "code",
   "execution_count": 10,
   "metadata": {},
   "outputs": [
    {
     "name": "stdout",
     "output_type": "stream",
     "text": [
      "['Heat-blast\\n', 'Four-arms\\n', 'Diamond-Head\\n', 'Grey-Matter\\n', 'Xlr8\\n', 'Upgrade\\n', 'Sting-fly\\n']\n",
      "['Heat-blast\\n', 'Four-arms\\n', 'Diamond-Head\\n', 'Grey-Matter\\n', 'Xlr8\\n', 'Upgrade\\n', 'Sting-fly\\n']\n"
     ]
    }
   ],
   "source": [
    "lines = []\n",
    "with open('Alien_DNA_Sample.txt', 'r') as f:\n",
    "    lines  = f.readlines()\n",
    "\n",
    "print(lines)\n",
    "\n",
    "with open('Alien_DNA_Sample.txt', 'w') as f:\n",
    "    for number, line in enumerate(lines):\n",
    "        if number not in [5]:\n",
    "            f.write(line)\n",
    "    print(lines)"
   ]
  },
  {
   "cell_type": "code",
   "execution_count": 11,
   "metadata": {},
   "outputs": [
    {
     "name": "stdout",
     "output_type": "stream",
     "text": [
      "Heat-blast\n",
      "\n",
      "Four-arms\n",
      "\n",
      "Diamond-Head\n",
      "\n",
      "Grey-Matter\n",
      "\n",
      "Xlr8\n",
      "\n",
      "Sting-fly\n",
      "\n"
     ]
    }
   ],
   "source": [
    "with open('Alien_DNA_Sample.txt', 'r') as f:\n",
    "    for line in f.readlines():\n",
    "        print(line)"
   ]
  }
 ],
 "metadata": {
  "kernelspec": {
   "display_name": "base",
   "language": "python",
   "name": "python3"
  },
  "language_info": {
   "codemirror_mode": {
    "name": "ipython",
    "version": 3
   },
   "file_extension": ".py",
   "mimetype": "text/x-python",
   "name": "python",
   "nbconvert_exporter": "python",
   "pygments_lexer": "ipython3",
   "version": "3.11.9"
  }
 },
 "nbformat": 4,
 "nbformat_minor": 2
}
