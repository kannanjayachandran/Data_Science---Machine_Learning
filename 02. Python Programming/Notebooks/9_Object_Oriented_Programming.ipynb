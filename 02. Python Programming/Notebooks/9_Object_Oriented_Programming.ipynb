{
 "cells": [
  {
   "attachments": {},
   "cell_type": "markdown",
   "metadata": {},
   "source": [
    "<h1 style='color: #FEC260'> Object Oriented Programming </h1>"
   ]
  },
  {
   "cell_type": "code",
   "execution_count": 1,
   "metadata": {},
   "outputs": [],
   "source": [
    "# creating a class\n",
    "class Person:\n",
    "    # class attributes\n",
    "    name= \"John\"\n",
    "    age= 36\n",
    "\n",
    "    # class methods\n",
    "    def talk(self):\n",
    "        print(f\"Hello I am {self.name} and I am {self.age} years old\")"
   ]
  },
  {
   "cell_type": "code",
   "execution_count": 2,
   "metadata": {},
   "outputs": [
    {
     "name": "stdout",
     "output_type": "stream",
     "text": [
      "John\n",
      "36\n",
      "Hello I am John and I am 36 years old\n"
     ]
    }
   ],
   "source": [
    "# creating an object and accessing the class attributes\n",
    "p1= Person()\n",
    "print(p1.name)\n",
    "print(p1.age)\n",
    "p1.talk()"
   ]
  },
  {
   "cell_type": "code",
   "execution_count": 4,
   "metadata": {},
   "outputs": [
    {
     "name": "stdout",
     "output_type": "stream",
     "text": [
      "Sam\n",
      "25\n",
      "Hello I am Sam and I am 25 years old\n"
     ]
    }
   ],
   "source": [
    "# adding object attributes\n",
    "p1.name= \"Sam\"\n",
    "p1.age= 25\n",
    "print(p1.name)\n",
    "print(p1.age)\n",
    "p1.talk()"
   ]
  },
  {
   "cell_type": "code",
   "execution_count": 5,
   "metadata": {},
   "outputs": [],
   "source": [
    "# we can create an empty class using the pass keyword\n",
    "class People:\n",
    "    pass"
   ]
  },
  {
   "cell_type": "code",
   "execution_count": 1,
   "metadata": {},
   "outputs": [],
   "source": [
    "# __init__() aka The Constructor Method\n",
    "class Human:\n",
    "    # class attributes\n",
    "    number_of_humans= 0\n",
    "\n",
    "    def __init__(self, name, age):\n",
    "        self.name= name\n",
    "        self.age= age\n",
    "        # accessing the class attribute\n",
    "        Human.number_of_humans += 1\n",
    "\n",
    "    def talk(self):\n",
    "        print(f\"Hello I am {self.name} and I am {self.age} years old\")"
   ]
  },
  {
   "cell_type": "code",
   "execution_count": 2,
   "metadata": {},
   "outputs": [
    {
     "data": {
      "text/plain": [
       "1"
      ]
     },
     "execution_count": 2,
     "metadata": {},
     "output_type": "execute_result"
    }
   ],
   "source": [
    "bob = Human(\"Bob\", 25)\n",
    "\n",
    "# we can access the class attribute using the object also, but it is not recommended\n",
    "bob.number_of_humans"
   ]
  },
  {
   "cell_type": "code",
   "execution_count": 3,
   "metadata": {},
   "outputs": [
    {
     "name": "stdout",
     "output_type": "stream",
     "text": [
      "Hello I am Larry and I am 29 years old\n",
      "Hello I am Moe and I am 27 years old\n",
      "Number of humans: 3\n"
     ]
    }
   ],
   "source": [
    "h1= Human(\"Larry\", 29)\n",
    "h1.talk()\n",
    "\n",
    "h2= Human(\"Moe\", 27)\n",
    "h2.talk()\n",
    "\n",
    "print(f\"Number of humans: {Human.number_of_humans}\")"
   ]
  },
  {
   "cell_type": "code",
   "execution_count": 3,
   "metadata": {},
   "outputs": [
    {
     "name": "stdout",
     "output_type": "stream",
     "text": [
      "Hello I am Harry and I am 30 years old\n"
     ]
    }
   ],
   "source": [
    "# named arguments\n",
    "h2 = Human(name=\"Harry\", age= 30)\n",
    "h2.talk()"
   ]
  },
  {
   "cell_type": "code",
   "execution_count": 4,
   "metadata": {},
   "outputs": [],
   "source": [
    "# class methods\n",
    "class Student:\n",
    "    number_of_students= 0\n",
    "\n",
    "    def __init__(self, name, age, grade):\n",
    "        self.name= name\n",
    "        self.age= age\n",
    "        self.grade= grade\n",
    "    \n",
    "    @classmethod\n",
    "    def change_student_number(cls, count):\n",
    "        cls.number_of_students = count"
   ]
  },
  {
   "cell_type": "code",
   "execution_count": 5,
   "metadata": {},
   "outputs": [
    {
     "name": "stdout",
     "output_type": "stream",
     "text": [
      "0\n",
      "3\n"
     ]
    }
   ],
   "source": [
    "s1= Student(\"John\", 25, 90)\n",
    "s2= Student(\"Sam\", 26, 95)\n",
    "s3= Student(\"Harry\", 27, 100)\n",
    "\n",
    "print(Student.number_of_students)\n",
    "Student.change_student_number(3)\n",
    "print(Student.number_of_students)"
   ]
  },
  {
   "cell_type": "code",
   "execution_count": 1,
   "metadata": {},
   "outputs": [],
   "source": [
    "# Static methods\n",
    "class Student:\n",
    "    number_of_students= 0\n",
    "\n",
    "    def __init__(self, name, grades=[]):\n",
    "        self.name= name\n",
    "        self.grades= grades\n",
    "    \n",
    "    @staticmethod\n",
    "    def average_grade(grades):\n",
    "        return sum(grades) / len(grades)"
   ]
  },
  {
   "cell_type": "code",
   "execution_count": 2,
   "metadata": {},
   "outputs": [
    {
     "name": "stdout",
     "output_type": "stream",
     "text": [
      "67.5 82.5\n"
     ]
    }
   ],
   "source": [
    "s1 = Student(\"Terry\", [100, 40, 80, 50])\n",
    "s2 = Student(\"Ferry\", [80, 75, 90, 85])\n",
    "\n",
    "s1_average = Student.average_grade(s1.grades)\n",
    "s2_average = s1.average_grade(s2.grades)\n",
    "\n",
    "print(s1_average, s2_average)"
   ]
  },
  {
   "attachments": {},
   "cell_type": "markdown",
   "metadata": {},
   "source": [
    "### Inheritance"
   ]
  },
  {
   "cell_type": "code",
   "execution_count": 5,
   "metadata": {},
   "outputs": [],
   "source": [
    "class Person:\n",
    "\n",
    "    def __init__(self, first_name, last_name):\n",
    "        self.first_name = first_name\n",
    "        self.last_name = last_name\n",
    "    \n",
    "    def say_hello(self):\n",
    "        print(f\"Hello, {self.first_name} {self.last_name}\")\n",
    "\n",
    "    def print_class(self):\n",
    "        print(\"Main class - Person class\")\n",
    "\n",
    "\n",
    "\n",
    "class Employee(Person):\n",
    "\n",
    "    #overriding the constructor\n",
    "    def __init__(self, first_name, last_name, salary=0):\n",
    "        super().__init__(first_name, last_name)\n",
    "        self.salary = salary\n",
    "    \n",
    "    def print_details(self):\n",
    "        print(f\"Name : {self.first_name} {self.last_name}\\nSalary : {self.salary}\")\n",
    "    \n",
    "    # overriding function\n",
    "    def print_class(self):\n",
    "        print(\"Employee Sub class\")\n",
    "        # invoking overridden function using super keyword\n",
    "        super().print_class()\n",
    "\n",
    "\n",
    "\n",
    "class Manager(Employee):\n",
    "\n",
    "    def __init__(self, first_name, last_name, department, salary=0):\n",
    "        super().__init__(first_name, last_name, salary)\n",
    "        self.department = department\n",
    "\n",
    "    def print_details(self):\n",
    "        super().print_details()\n",
    "        print(f\"Department : {self.department}\")\n",
    "    \n",
    "    def print_class(self):\n",
    "        print(\"Manager Class - Child/grandchild\")\n",
    "        super().print_class()\n",
    "\n",
    "\n",
    "\n",
    "class Owner(Person):\n",
    "    def __init__(self, first_name, last_name, profit = 0):\n",
    "        super().__init__(first_name, last_name)\n",
    "        self.profit = profit "
   ]
  },
  {
   "cell_type": "code",
   "execution_count": 13,
   "metadata": {},
   "outputs": [
    {
     "name": "stdout",
     "output_type": "stream",
     "text": [
      "Person object\n",
      "Hello, Martin Luther\n",
      "\n",
      "Employee object\n",
      "Hello, Martin Luther\n",
      "Name : Martin Luther\n",
      "Salary : 10000\n",
      "Employee Sub class\n",
      "Main class - Person class\n",
      "\n",
      "Manager object\n",
      "Hello, King Kong\n",
      "Name : King Kong\n",
      "Salary : 50000\n",
      "Department : Skull Island\n",
      "Manager Class - Child/grandchild\n",
      "Employee Sub class\n",
      "Main class - Person class\n",
      "\n",
      "Owner object\n",
      "Hello, Tim Book\n",
      "Profit:  20000000\n",
      "True\n"
     ]
    }
   ],
   "source": [
    "# Person object\n",
    "print(\"Person object\")\n",
    "p1 = Person(\"Martin\", \"Luther\")\n",
    "p1.say_hello()\n",
    "\n",
    "# Employee object\n",
    "print(\"\\nEmployee object\")\n",
    "e1 = Employee(\"Martin\", \"Luther\", 10000)\n",
    "e1.say_hello()\n",
    "e1.print_details()\n",
    "e1.print_class()\n",
    "\n",
    "# Manager object\n",
    "print(\"\\nManager object\")\n",
    "e2 = Manager(\"King\", \"Kong\", \"Skull Island\", 50000)\n",
    "e2.say_hello()\n",
    "e2.print_details()\n",
    "e2.print_class()\n",
    "\n",
    "# Owner object\n",
    "print(\"\\nOwner object\")\n",
    "o = Owner(\"Tim\", \"Book\", 20000000)\n",
    "o.say_hello()\n",
    "print(\"Profit: \", o.profit)\n",
    "print(isinstance(o, Person))"
   ]
  },
  {
   "cell_type": "code",
   "execution_count": 29,
   "metadata": {},
   "outputs": [],
   "source": [
    "# multiple inheritance\n",
    "class A:\n",
    "    def __init__(self):\n",
    "        print('A')\n",
    "\n",
    "\n",
    "\n",
    "class B:\n",
    "    def __init__(self):\n",
    "        print('B')\n",
    "\n",
    "\n",
    "\n",
    "class C(A, B):\n",
    "    def __init__(self):\n",
    "        super().__init__()"
   ]
  },
  {
   "cell_type": "code",
   "execution_count": 32,
   "metadata": {},
   "outputs": [
    {
     "name": "stdout",
     "output_type": "stream",
     "text": [
      "A\n",
      "True\n",
      "True\n",
      "True\n"
     ]
    }
   ],
   "source": [
    "abc = C()\n",
    "print(isinstance(abc, A))\n",
    "print(isinstance(abc, B))\n",
    "print(isinstance(abc, C))"
   ]
  },
  {
   "cell_type": "markdown",
   "metadata": {},
   "source": [
    "Object Creation With .__new__()"
   ]
  },
  {
   "cell_type": "code",
   "execution_count": 5,
   "metadata": {},
   "outputs": [
    {
     "name": "stdout",
     "output_type": "stream",
     "text": [
      "Distance_KM : 10.9\n",
      "Distance_Miles + 25: 36.3\n",
      "['__abs__', '__add__', '__bool__', '__ceil__', '__class__', '__delattr__', '__dict__', '__dir__', '__divmod__', '__doc__', '__eq__', '__float__', '__floor__', '__floordiv__', '__format__', '__ge__', '__getattribute__', '__getformat__', '__getnewargs__', '__getstate__', '__gt__', '__hash__', '__init__', '__init_subclass__', '__int__', '__le__', '__lt__', '__mod__', '__module__', '__mul__', '__ne__', '__neg__', '__new__', '__pos__', '__pow__', '__radd__', '__rdivmod__', '__reduce__', '__reduce_ex__', '__repr__', '__rfloordiv__', '__rmod__', '__rmul__', '__round__', '__rpow__', '__rsub__', '__rtruediv__', '__setattr__', '__sizeof__', '__str__', '__sub__', '__subclasshook__', '__truediv__', '__trunc__', '__weakref__', 'as_integer_ratio', 'conjugate', 'fromhex', 'hex', 'imag', 'is_integer', 'real', 'unit']\n"
     ]
    }
   ],
   "source": [
    "# a distance class\n",
    "class Distance(float):\n",
    "    def __new__(cls, value: float, unit: str):\n",
    "        instance = super().__new__(cls, value)\n",
    "        instance.unit = unit\n",
    "        return instance\n",
    "    \n",
    "\n",
    "dist_km = Distance(10.9, 'KM')\n",
    "dist_miles = Distance(11.3, 'Miles')\n",
    "\n",
    "print(\"Distance_KM :\", dist_km)\n",
    "print(\"Distance_Miles + 25:\", dist_miles + 25)\n",
    "\n",
    "print(dir(dist_km))"
   ]
  },
  {
   "cell_type": "markdown",
   "metadata": {},
   "source": [
    "**Abstract classes**"
   ]
  },
  {
   "cell_type": "code",
   "execution_count": 1,
   "metadata": {},
   "outputs": [],
   "source": [
    "# Abstract classes\n",
    "class AbstractGame:\n",
    "\n",
    "    def start(self):\n",
    "        while True:\n",
    "            start = input(\"Would you like to play ? Enter 'Y' to start\")\n",
    "            if start.lower() == \"y\":\n",
    "                break\n",
    "        self.play()\n",
    "    \n",
    "\n",
    "    def end(self):\n",
    "        print(\"The game is over.\")\n",
    "        self.reset()\n",
    "\n",
    "    \n",
    "    def play(self):\n",
    "        raise NotImplementedError(\"Implement play() !\")\n",
    "\n",
    "\n",
    "    def reset(self):\n",
    "        raise NotImplementedError(\"Implement reset() !\")\n",
    "\n",
    "\n",
    "\n",
    "class Snake_Ladder(AbstractGame):\n",
    "    def __init__(self, rounds):\n",
    "        self.rounds = rounds\n",
    "        self.round = 0\n",
    "    \n",
    "    def reset(self):\n",
    "        self.round = 0\n",
    "\n",
    "    \n",
    "    def play(self):\n",
    "\n",
    "        while self.round < self.rounds:\n",
    "            self.round += 1\n",
    "            print(f\"Welcome to round {self.round}\")\n",
    "            # Snake and ladder game implementation\n",
    "\n",
    "        self.end()"
   ]
  },
  {
   "cell_type": "code",
   "execution_count": 2,
   "metadata": {},
   "outputs": [
    {
     "name": "stdout",
     "output_type": "stream",
     "text": [
      "Welcome to round 1\n",
      "Welcome to round 2\n",
      "Welcome to round 3\n",
      "The game is over.\n"
     ]
    }
   ],
   "source": [
    "game = Snake_Ladder(3)\n",
    "game.start()"
   ]
  },
  {
   "attachments": {},
   "cell_type": "markdown",
   "metadata": {},
   "source": [
    "### A simple bank account program"
   ]
  },
  {
   "cell_type": "code",
   "execution_count": 15,
   "metadata": {},
   "outputs": [],
   "source": [
    "class Bank_account():\n",
    "    '''This is the base class for bank account program'''\n",
    "\n",
    "    def __init__(self, balance = 0.0) :\n",
    "        self.balance = balance\n",
    "\n",
    "    def display_balance(self):\n",
    "        print(\"Your balance is:\", self.balance)\n",
    "\n",
    "    def deposit(self):\n",
    "        amount = int(input('Enter the amount:'))\n",
    "        self.balance += amount\n",
    "        print('Your current balance is:', self.balance)\n",
    "\n",
    "    def withdrawal(self):\n",
    "        amount1 = int(input(\"Enter amount:\"))\n",
    "        if amount1 <= self.balance:\n",
    "            print(\"Here's your money:\", amount1)\n",
    "            self.balance -= amount1 \n",
    "        else:\n",
    "            print('Not enough money')\n",
    "\n",
    "        print('Your current balance is:', self.balance)"
   ]
  },
  {
   "cell_type": "code",
   "execution_count": 23,
   "metadata": {},
   "outputs": [],
   "source": [
    "person1 = Bank_account(1000)"
   ]
  },
  {
   "cell_type": "code",
   "execution_count": 24,
   "metadata": {},
   "outputs": [
    {
     "name": "stdout",
     "output_type": "stream",
     "text": [
      "Your balance is: 1000\n"
     ]
    }
   ],
   "source": [
    "person1.display_balance()"
   ]
  },
  {
   "cell_type": "code",
   "execution_count": 25,
   "metadata": {},
   "outputs": [
    {
     "name": "stdout",
     "output_type": "stream",
     "text": [
      "Your current balance is: 1250\n"
     ]
    }
   ],
   "source": [
    "person1.deposit()"
   ]
  },
  {
   "cell_type": "code",
   "execution_count": 26,
   "metadata": {},
   "outputs": [
    {
     "name": "stdout",
     "output_type": "stream",
     "text": [
      "Here's your money: 500\n",
      "Your current balance is: 750\n"
     ]
    }
   ],
   "source": [
    "person1.withdrawal()"
   ]
  },
  {
   "cell_type": "code",
   "execution_count": 27,
   "metadata": {},
   "outputs": [
    {
     "name": "stdout",
     "output_type": "stream",
     "text": [
      "Not enough money\n",
      "Your current balance is: 750\n"
     ]
    }
   ],
   "source": [
    "person1.withdrawal()"
   ]
  }
 ],
 "metadata": {
  "kernelspec": {
   "display_name": "Python (base-env)",
   "language": "python",
   "name": "base-env"
  },
  "language_info": {
   "codemirror_mode": {
    "name": "ipython",
    "version": 3
   },
   "file_extension": ".py",
   "mimetype": "text/x-python",
   "name": "python",
   "nbconvert_exporter": "python",
   "pygments_lexer": "ipython3",
   "version": "3.12.5"
  },
  "orig_nbformat": 4,
  "vscode": {
   "interpreter": {
    "hash": "f4c85645bce20c702a4ecae1b93c6759c482279d1c3b7e99a0246a20b7629f3f"
   }
  }
 },
 "nbformat": 4,
 "nbformat_minor": 2
}
