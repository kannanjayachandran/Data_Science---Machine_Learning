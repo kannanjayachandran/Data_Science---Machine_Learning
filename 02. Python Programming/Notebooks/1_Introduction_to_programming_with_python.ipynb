{
 "cells": [
  {
   "attachments": {},
   "cell_type": "markdown",
   "id": "7bd17021",
   "metadata": {},
   "source": [
    "<h1 style='color: #FEC260'> Basic programs </h1>"
   ]
  },
  {
   "cell_type": "code",
   "execution_count": 1,
   "id": "8dbe9bed",
   "metadata": {},
   "outputs": [],
   "source": [
    "def facto(num: int) -> int:\n",
    "    \"\"\"This function returns the factorial of a number\"\"\"\n",
    "    f = 1\n",
    "    for i in range(1, num+1):\n",
    "        f *= i\n",
    "    return f"
   ]
  },
  {
   "cell_type": "code",
   "execution_count": 2,
   "id": "cf0a160c",
   "metadata": {},
   "outputs": [
    {
     "data": {
      "text/plain": [
       "120"
      ]
     },
     "execution_count": 2,
     "metadata": {},
     "output_type": "execute_result"
    }
   ],
   "source": [
    "facto(5)"
   ]
  },
  {
   "cell_type": "code",
   "execution_count": 1,
   "id": "f94b07be",
   "metadata": {},
   "outputs": [],
   "source": [
    "def sumOfN(nums: list[int]) -> int:\n",
    "    total = 0\n",
    "    for x in nums:\n",
    "        total += x\n",
    "    return total"
   ]
  },
  {
   "cell_type": "code",
   "execution_count": 2,
   "id": "c4e7b611",
   "metadata": {},
   "outputs": [
    {
     "data": {
      "text/plain": [
       "23"
      ]
     },
     "execution_count": 2,
     "metadata": {},
     "output_type": "execute_result"
    }
   ],
   "source": [
    "sumOfN([1, 3, 5, 7, 4, 3])"
   ]
  },
  {
   "cell_type": "code",
   "execution_count": 5,
   "id": "0d1d220e",
   "metadata": {},
   "outputs": [],
   "source": [
    "def smallest(nums: list[int]) -> int:\n",
    "    small = float('inf')\n",
    "    for x in nums:\n",
    "        if x < small:\n",
    "            small = x\n",
    "    return small"
   ]
  },
  {
   "cell_type": "code",
   "execution_count": 6,
   "id": "bfca1090",
   "metadata": {},
   "outputs": [
    {
     "data": {
      "text/plain": [
       "0"
      ]
     },
     "execution_count": 6,
     "metadata": {},
     "output_type": "execute_result"
    }
   ],
   "source": [
    "smallest([1, 3, 2, 4, 0, 5])"
   ]
  },
  {
   "cell_type": "code",
   "execution_count": 1,
   "id": "8a03ce55",
   "metadata": {},
   "outputs": [],
   "source": [
    "def largest (nums: list[int]) -> int:\n",
    "    large = -float('inf')\n",
    "    for x in nums:\n",
    "        if x > large:\n",
    "            large = x\n",
    "    return large"
   ]
  },
  {
   "cell_type": "code",
   "execution_count": 2,
   "id": "cd62920d",
   "metadata": {},
   "outputs": [
    {
     "data": {
      "text/plain": [
       "5"
      ]
     },
     "execution_count": 2,
     "metadata": {},
     "output_type": "execute_result"
    }
   ],
   "source": [
    "largest([1, 3, 2, 4, 0, 5])"
   ]
  },
  {
   "cell_type": "code",
   "execution_count": 16,
   "id": "39aa3a17",
   "metadata": {},
   "outputs": [],
   "source": [
    "def fib(num: int) -> int:\n",
    "    first  = 0\n",
    "    second = 1\n",
    "    while num:\n",
    "        first, second = second, first+second\n",
    "        num -= 1\n",
    "    return first"
   ]
  },
  {
   "cell_type": "code",
   "execution_count": 18,
   "id": "a9bc24db",
   "metadata": {},
   "outputs": [
    {
     "data": {
      "text/plain": [
       "55"
      ]
     },
     "execution_count": 18,
     "metadata": {},
     "output_type": "execute_result"
    }
   ],
   "source": [
    "fib(10)"
   ]
  },
  {
   "cell_type": "code",
   "execution_count": 1,
   "id": "a2914520",
   "metadata": {},
   "outputs": [],
   "source": [
    "def isPalindromeNum(a: int) -> bool:\n",
    "    num = a\n",
    "    rev = 0\n",
    "    while a:\n",
    "        digit = a % 10\n",
    "        rev = rev * 10 + digit\n",
    "        a //= 10\n",
    "    return num == rev"
   ]
  },
  {
   "cell_type": "code",
   "execution_count": 2,
   "id": "1ace2897",
   "metadata": {},
   "outputs": [
    {
     "data": {
      "text/plain": [
       "True"
      ]
     },
     "execution_count": 2,
     "metadata": {},
     "output_type": "execute_result"
    }
   ],
   "source": [
    "isPalindromeNum(151)"
   ]
  },
  {
   "cell_type": "code",
   "execution_count": 25,
   "id": "6a236675",
   "metadata": {},
   "outputs": [],
   "source": [
    "def isPalindromeStr1(s: str) -> bool:\n",
    "    return s == s[::-1]\n",
    "\n",
    "def isPalindromeStr2(s: str) -> bool:\n",
    "    start = 0\n",
    "    end = len(s)-1\n",
    "\n",
    "    while start < end:\n",
    "        if s[start] != s[end]:\n",
    "            return False\n",
    "        start += 1\n",
    "        end -= 1    \n",
    "    return True"
   ]
  },
  {
   "cell_type": "code",
   "execution_count": 35,
   "id": "ad86eb8a",
   "metadata": {},
   "outputs": [
    {
     "name": "stdout",
     "output_type": "stream",
     "text": [
      "True\n",
      "True\n"
     ]
    }
   ],
   "source": [
    "print(isPalindromeStr1('racecar'))\n",
    "print(isPalindromeStr2('racecar'))"
   ]
  },
  {
   "cell_type": "code",
   "execution_count": 43,
   "id": "704db863",
   "metadata": {},
   "outputs": [],
   "source": [
    "def evenOdd(num: int) -> str:\n",
    "    if num == 0: return \"Neither even nor odd\"\n",
    "    if num % 2 == 0: return \"Even\"\n",
    "    if num % 2 == 1: return \"Odd\""
   ]
  },
  {
   "cell_type": "code",
   "execution_count": 44,
   "id": "e160ed5c",
   "metadata": {},
   "outputs": [
    {
     "data": {
      "text/plain": [
       "'Odd'"
      ]
     },
     "execution_count": 44,
     "metadata": {},
     "output_type": "execute_result"
    }
   ],
   "source": [
    "evenOdd(2345)"
   ]
  },
  {
   "cell_type": "code",
   "execution_count": 54,
   "id": "0c728e7a",
   "metadata": {},
   "outputs": [],
   "source": [
    "def isArmstrong(a: int) -> bool:\n",
    "    \n",
    "    if a < 0:\n",
    "        a = abs(a)\n",
    "\n",
    "    num = a\n",
    "    cubeSum = 0\n",
    "    while a:\n",
    "        digit = a % 10\n",
    "        cubeSum += digit**3\n",
    "        a //= 10\n",
    "    return cubeSum == num"
   ]
  },
  {
   "cell_type": "code",
   "execution_count": 59,
   "id": "6d313a99",
   "metadata": {},
   "outputs": [
    {
     "data": {
      "text/plain": [
       "False"
      ]
     },
     "execution_count": 59,
     "metadata": {},
     "output_type": "execute_result"
    }
   ],
   "source": [
    "isArmstrong(345)"
   ]
  },
  {
   "cell_type": "code",
   "execution_count": 60,
   "id": "04ce4320",
   "metadata": {},
   "outputs": [],
   "source": [
    "def isPrime(num: int) -> bool:\n",
    "    \n",
    "    if num <= 1: return False\n",
    "    for i in range(2, int(num ** 0.5)+1):\n",
    "        if num % i == 0:\n",
    "            return False\n",
    "    return True"
   ]
  },
  {
   "cell_type": "code",
   "execution_count": 66,
   "id": "78a657d6",
   "metadata": {},
   "outputs": [
    {
     "data": {
      "text/plain": [
       "True"
      ]
     },
     "execution_count": 66,
     "metadata": {},
     "output_type": "execute_result"
    }
   ],
   "source": [
    "isPrime(3)"
   ]
  },
  {
   "cell_type": "code",
   "execution_count": 72,
   "id": "bf0e3f2d",
   "metadata": {},
   "outputs": [],
   "source": [
    "def toUSD(money: int) -> float:\n",
    "    return money/85\n",
    "\n",
    "def toRupee(money: int) -> int:\n",
    "    return money*85"
   ]
  },
  {
   "cell_type": "code",
   "execution_count": 75,
   "id": "a771e485",
   "metadata": {},
   "outputs": [
    {
     "data": {
      "text/plain": [
       "141.1764705882353"
      ]
     },
     "execution_count": 75,
     "metadata": {},
     "output_type": "execute_result"
    }
   ],
   "source": [
    "toRupee(2500)\n",
    "toUSD(12000)"
   ]
  },
  {
   "cell_type": "code",
   "execution_count": 76,
   "id": "bf122d67",
   "metadata": {},
   "outputs": [],
   "source": [
    "def toFahrenheit(celsius: int ) -> float:\n",
    "    return (celsius*1.8) + 32"
   ]
  },
  {
   "cell_type": "code",
   "execution_count": 78,
   "id": "e86210b1",
   "metadata": {},
   "outputs": [
    {
     "data": {
      "text/plain": [
       "104.0"
      ]
     },
     "execution_count": 78,
     "metadata": {},
     "output_type": "execute_result"
    }
   ],
   "source": [
    "toFahrenheit(40)"
   ]
  },
  {
   "cell_type": "code",
   "execution_count": 80,
   "id": "83dde6b4",
   "metadata": {},
   "outputs": [],
   "source": [
    "def circleArea(radius: int) -> float: \n",
    "    PI = 3.1415\n",
    "    return PI*radius*radius\n",
    "\n",
    "def squareArea(side: int) -> int:\n",
    "    return side*side\n",
    "\n",
    "def rectangleArea(length: int, breadth: int) -> int:\n",
    "    return length*breadth\n",
    "\n",
    "def triangleArea(base: int, height: int) -> int:\n",
    "    return 0.5*base*height"
   ]
  },
  {
   "cell_type": "code",
   "execution_count": 81,
   "id": "0f2d2ff8",
   "metadata": {},
   "outputs": [
    {
     "name": "stdout",
     "output_type": "stream",
     "text": [
      "78.53750000000001\n",
      "25\n",
      "30\n",
      "15.0\n"
     ]
    }
   ],
   "source": [
    "print(circleArea(5))\n",
    "print(squareArea(5))\n",
    "print(rectangleArea(5, 6))\n",
    "print(triangleArea(5, 6))"
   ]
  },
  {
   "cell_type": "code",
   "execution_count": 84,
   "id": "27d35b4f",
   "metadata": {},
   "outputs": [],
   "source": [
    "def average(nums: list[int]) -> int:\n",
    "    return sum(nums)/len(nums)"
   ]
  },
  {
   "cell_type": "code",
   "execution_count": 85,
   "id": "60fef4c6",
   "metadata": {},
   "outputs": [
    {
     "data": {
      "text/plain": [
       "5.5"
      ]
     },
     "execution_count": 85,
     "metadata": {},
     "output_type": "execute_result"
    }
   ],
   "source": [
    "average([1, 2, 3, 4, 5, 6, 7, 8, 9, 10])"
   ]
  },
  {
   "cell_type": "code",
   "execution_count": 3,
   "id": "00302d9c",
   "metadata": {},
   "outputs": [],
   "source": [
    "def leapYear(year: int) -> bool:\n",
    "    if year % 400 == 0 and year % 100 == 0:\n",
    "        return True\n",
    "    if year % 4 == 0 and year % 100 != 0:\n",
    "        return True\n",
    "    return False\n",
    "\n",
    "def leapYear2(year: int) -> bool:\n",
    "    import calendar\n",
    "    return calendar.isleap(year)"
   ]
  },
  {
   "cell_type": "code",
   "execution_count": 7,
   "id": "e38f6fbd",
   "metadata": {},
   "outputs": [
    {
     "name": "stdout",
     "output_type": "stream",
     "text": [
      "False\n",
      "False\n"
     ]
    }
   ],
   "source": [
    "print(leapYear(2014))\n",
    "print(leapYear2(2014))"
   ]
  },
  {
   "cell_type": "code",
   "execution_count": 3,
   "id": "b3f26a24",
   "metadata": {},
   "outputs": [],
   "source": [
    "def oddNum(n: int) -> None:\n",
    "    for i in range(1, n+1, 2):\n",
    "        print(i, end=\" \")"
   ]
  },
  {
   "cell_type": "code",
   "execution_count": 6,
   "id": "ee86c9ab",
   "metadata": {},
   "outputs": [
    {
     "name": "stdout",
     "output_type": "stream",
     "text": [
      "1 3 5 7 9 11 13 15 17 19 "
     ]
    }
   ],
   "source": [
    "oddNum(20)"
   ]
  },
  {
   "cell_type": "code",
   "execution_count": 7,
   "id": "23c343d7",
   "metadata": {},
   "outputs": [],
   "source": [
    "def evenSquares(n: int) -> None:\n",
    "    for i in range(2, n+1, 2):\n",
    "        print(i*i, end=\" \")"
   ]
  },
  {
   "cell_type": "code",
   "execution_count": 8,
   "id": "7daacd74",
   "metadata": {},
   "outputs": [
    {
     "name": "stdout",
     "output_type": "stream",
     "text": [
      "4 16 36 64 100 "
     ]
    }
   ],
   "source": [
    "evenSquares(10)"
   ]
  },
  {
   "cell_type": "code",
   "execution_count": 9,
   "id": "9e7bb558",
   "metadata": {},
   "outputs": [],
   "source": [
    "def oddCubes(n: int) -> None:\n",
    "    for i in reversed(range(1, n+1, 2)):\n",
    "        print(i**3, end=\" \")"
   ]
  },
  {
   "cell_type": "code",
   "execution_count": 10,
   "id": "472f1fbf",
   "metadata": {},
   "outputs": [
    {
     "name": "stdout",
     "output_type": "stream",
     "text": [
      "729 343 125 27 1 "
     ]
    }
   ],
   "source": [
    "oddCubes(10)"
   ]
  },
  {
   "cell_type": "code",
   "execution_count": 17,
   "id": "1fe61e33",
   "metadata": {},
   "outputs": [],
   "source": [
    "def sumOfDigits(num: int) -> int:\n",
    "    if num < 0:\n",
    "        num = abs(num)\n",
    "    x = 0\n",
    "    while num:\n",
    "        digit = num % 10\n",
    "        x += digit\n",
    "        num //= 10\n",
    "    return x"
   ]
  },
  {
   "cell_type": "code",
   "execution_count": 15,
   "id": "d8fe51f1",
   "metadata": {},
   "outputs": [
    {
     "data": {
      "text/plain": [
       "15"
      ]
     },
     "execution_count": 15,
     "metadata": {},
     "output_type": "execute_result"
    }
   ],
   "source": [
    "sumOfDigits(-12345)"
   ]
  },
  {
   "cell_type": "code",
   "execution_count": 18,
   "id": "11fc8ae6",
   "metadata": {},
   "outputs": [],
   "source": [
    "def randomFive() -> None:\n",
    "    import random\n",
    "    while True:\n",
    "        r = random.randint(1, 10)\n",
    "        print(r, end=' ')\n",
    "        if r == 5:\n",
    "            break\n",
    "        print(', ', end='')"
   ]
  },
  {
   "cell_type": "code",
   "execution_count": 19,
   "id": "e4d235f5",
   "metadata": {},
   "outputs": [
    {
     "name": "stdout",
     "output_type": "stream",
     "text": [
      "2 , 2 , 4 , 9 , 6 , 7 , 7 , 3 , 1 , 1 , 5 "
     ]
    }
   ],
   "source": [
    "randomFive()"
   ]
  },
  {
   "cell_type": "code",
   "execution_count": 5,
   "id": "5ca9781c",
   "metadata": {},
   "outputs": [],
   "source": [
    "def firstDigit(n: int) -> int:\n",
    "    if n < 0:\n",
    "        n = abs(n)\n",
    "    while n >= 10:\n",
    "        n //= 10\n",
    "    return n"
   ]
  },
  {
   "cell_type": "code",
   "execution_count": 9,
   "id": "93ea4a84",
   "metadata": {},
   "outputs": [
    {
     "data": {
      "text/plain": [
       "1"
      ]
     },
     "execution_count": 9,
     "metadata": {},
     "output_type": "execute_result"
    }
   ],
   "source": [
    "firstDigit(1)"
   ]
  }
 ],
 "metadata": {
  "kernelspec": {
   "display_name": "Python (base-env)",
   "language": "python",
   "name": "base-env"
  },
  "language_info": {
   "codemirror_mode": {
    "name": "ipython",
    "version": 3
   },
   "file_extension": ".py",
   "mimetype": "text/x-python",
   "name": "python",
   "nbconvert_exporter": "python",
   "pygments_lexer": "ipython3",
   "version": "3.12.5"
  },
  "vscode": {
   "interpreter": {
    "hash": "cb22319440f11b8bb84e6e602744710fc1e32bd2bad8dcc38bf68177a45fab0d"
   }
  }
 },
 "nbformat": 4,
 "nbformat_minor": 5
}
