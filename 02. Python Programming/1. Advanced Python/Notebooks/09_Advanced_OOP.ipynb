{
 "cells": [
  {
   "cell_type": "markdown",
   "metadata": {},
   "source": [
    "# <span style=\"color:#FEC260\">Advanced OOP</span>\n",
    "\n",
    "- Abstract classes\n",
    "- Operator overloading & dunder or magic methods\n"
   ]
  },
  {
   "cell_type": "code",
   "execution_count": 4,
   "metadata": {},
   "outputs": [],
   "source": [
    "# Abstract classes\n",
    "class AbstractGame:\n",
    "\n",
    "    def start(self):\n",
    "        while True:\n",
    "            start = input(\"Would you like to play ?\")\n",
    "            if start.lower() == \"yes\":\n",
    "                break\n",
    "        self.play()\n",
    "    \n",
    "\n",
    "    def end(self):\n",
    "        print(\"The game is over.\")\n",
    "        self.reset()\n",
    "\n",
    "    \n",
    "    def play(self):\n",
    "        raise NotImplementedError(\"Implement play() !\")\n",
    "\n",
    "\n",
    "    def reset(self):\n",
    "        raise NotImplementedError(\"Implement reset() !\")\n",
    "\n",
    "\n",
    "\n",
    "class Snake_Ladder(AbstractGame):\n",
    "    def __init__(self, rounds):\n",
    "        self.rounds = rounds\n",
    "        self.round = 0\n",
    "    \n",
    "    def reset(self):\n",
    "        self.round = 0\n",
    "\n",
    "    \n",
    "    def play(self):\n",
    "\n",
    "        while self.round < self.rounds:\n",
    "            self.round += 1\n",
    "            print(f\"Welcome to round {self.round}\")\n",
    "            # Snake and ladder game implementation\n",
    "\n",
    "        self.end()"
   ]
  },
  {
   "cell_type": "code",
   "execution_count": 3,
   "metadata": {},
   "outputs": [
    {
     "name": "stdout",
     "output_type": "stream",
     "text": [
      "Welcome to round 1\n",
      "Welcome to round 2\n",
      "Welcome to round 3\n",
      "The game is over.\n"
     ]
    }
   ],
   "source": [
    "game = Snake_Ladder(3)\n",
    "game.start()"
   ]
  },
  {
   "cell_type": "code",
   "execution_count": 5,
   "metadata": {},
   "outputs": [],
   "source": [
    "class Page:\n",
    "\n",
    "    def __init__(self, words, page_number):\n",
    "        self.words = words\n",
    "        self.page_number = page_number\n",
    "\n",
    "\n",
    "    def __add__(self, next):\n",
    "\n",
    "        new_words = self.words + \" \" + next.words\n",
    "        new_page_number = max(self.page_number, next.page_number) + 1\n",
    "        return Page(new_words, new_page_number)"
   ]
  },
  {
   "cell_type": "code",
   "execution_count": 6,
   "metadata": {},
   "outputs": [
    {
     "name": "stdout",
     "output_type": "stream",
     "text": [
      "This is the first page This is the second page 3\n"
     ]
    }
   ],
   "source": [
    "p1 = Page(\"This is the first page\", 1)\n",
    "p2 = Page(\"This is the second page\", 2)\n",
    "p3 = p1 + p2\n",
    "\n",
    "print(p3.words, p3.page_number)"
   ]
  }
 ],
 "metadata": {
  "kernelspec": {
   "display_name": "ML",
   "language": "python",
   "name": "python3"
  },
  "language_info": {
   "codemirror_mode": {
    "name": "ipython",
    "version": 3
   },
   "file_extension": ".py",
   "mimetype": "text/x-python",
   "name": "python",
   "nbconvert_exporter": "python",
   "pygments_lexer": "ipython3",
   "version": "3.11.4"
  },
  "orig_nbformat": 4
 },
 "nbformat": 4,
 "nbformat_minor": 2
}
