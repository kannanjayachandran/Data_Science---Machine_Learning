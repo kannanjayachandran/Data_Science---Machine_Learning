{
 "cells": [
  {
   "cell_type": "markdown",
   "metadata": {},
   "source": [
    "<h1 align=\"center\" style=\"color: orange\">Regular Expressions in Python</h1>"
   ]
  },
  {
   "cell_type": "code",
   "execution_count": 1,
   "metadata": {},
   "outputs": [],
   "source": [
    "import re"
   ]
  },
  {
   "cell_type": "code",
   "execution_count": 4,
   "metadata": {},
   "outputs": [],
   "source": [
    "text_to_search = '''\n",
    "\n",
    "abcdefghijklmnopqurtuvwxyz\n",
    "\n",
    "ABCDEFGHIJKLMNOPQRSTUVWXYZ\n",
    "\n",
    "1234567890\n",
    "$2347.43\n",
    "\n",
    "Ha HaHa Ha Hii Haa\n",
    "\n",
    "MetaCharacters :\n",
    ". ^ $ * + ? { } [ ] | ( )\n",
    "\n",
    "Google.com\n",
    "Amazon.com\n",
    "Facebook.com\n",
    "\n",
    "$97.43\n",
    "\n",
    "abcd\n",
    "This is abcd\n",
    "\n",
    "123-456-789\n",
    "123.456.789\n",
    "123*555*1234\n",
    "123/456/789\n",
    "\n",
    "877-500-1234\n",
    "980-555-1234\n",
    "930-234-3455\n",
    "9830234345\n",
    "\n",
    "Total due\n",
    "$670.54\n",
    "\n",
    "Mr. Peter Griffin\n",
    "Mr Stewie Griffin\n",
    "Ms Glen Quagmire\n",
    "Mrs. Griffin\n",
    "Ms. Meg Griffin\n",
    "Mrs. U\n",
    "Mr. Joe Swanson\n",
    "'''\n",
    "\n",
    "sentence = \"Finally some more things to test the RegEx using Python re module\""
   ]
  },
  {
   "cell_type": "code",
   "execution_count": 6,
   "metadata": {},
   "outputs": [
    {
     "name": "stdout",
     "output_type": "stream",
     "text": [
      "Phone numbers found :  877-500-1234\n"
     ]
    }
   ],
   "source": [
    "# Extract phone numbers\n",
    "phone_numbers_v1 = re.search(r'\\d{3}-\\d{3}-\\d{4}', text_to_search)\n",
    "\n",
    "if phone_numbers_v1:\n",
    "    print(\"Phone numbers found : \", phone_numbers_v1.group(0))"
   ]
  },
  {
   "cell_type": "code",
   "execution_count": 11,
   "metadata": {},
   "outputs": [
    {
     "name": "stdout",
     "output_type": "stream",
     "text": [
      "<re.Match object; span=(2, 6), match='abcd'>\n",
      "<re.Match object; span=(170, 174), match='abcd'>\n",
      "<re.Match object; span=(183, 187), match='abcd'>\n"
     ]
    }
   ],
   "source": [
    "pattern = re.compile(r'abcd')\n",
    "\n",
    "hits = pattern.finditer(text_to_search)\n",
    "for hit in hits:\n",
    "    print(hit)"
   ]
  },
  {
   "cell_type": "code",
   "execution_count": 12,
   "metadata": {},
   "outputs": [
    {
     "name": "stdout",
     "output_type": "stream",
     "text": [
      "<re.Match object; span=(107, 108), match='.'>\n",
      "<re.Match object; span=(140, 141), match='.'>\n",
      "<re.Match object; span=(151, 152), match='.'>\n",
      "<re.Match object; span=(164, 165), match='.'>\n",
      "<re.Match object; span=(204, 205), match='.'>\n",
      "<re.Match object; span=(208, 209), match='.'>\n",
      "<re.Match object; span=(292, 293), match='.'>\n",
      "<re.Match object; span=(346, 347), match='.'>\n",
      "<re.Match object; span=(358, 359), match='.'>\n",
      "<re.Match object; span=(375, 376), match='.'>\n",
      "<re.Match object; span=(381, 382), match='.'>\n",
      "<re.Match object; span=(134, 144), match='Google.com'>\n"
     ]
    }
   ],
   "source": [
    "# we need to escape meta characters as they hold different meanings in regex\n",
    "p2 = re.compile(r'\\.')\n",
    "m1 = p2.finditer(text_to_search)\n",
    "\n",
    "for x in m1:\n",
    "    print(x)\n",
    "\n",
    "# typical use cases are URLs\n",
    "p3 = re.compile(r'Google\\.com')\n",
    "m2 = p3.finditer(text_to_search)\n",
    "\n",
    "for x in m2:\n",
    "    print(x)"
   ]
  },
  {
   "cell_type": "code",
   "execution_count": 29,
   "metadata": {},
   "outputs": [
    {
     "name": "stdout",
     "output_type": "stream",
     "text": [
      "877- : (239, 243)\n",
      "980- : (252, 256)\n"
     ]
    }
   ],
   "source": [
    "# matching phone numbers\n",
    "ph_num = re.compile(r'[89][78]\\d[-.]')\n",
    "\n",
    "valid_numbers = ph_num.finditer(text_to_search)\n",
    "\n",
    "for num in valid_numbers:\n",
    "    print(num.group(), ':', num.span())"
   ]
  },
  {
   "cell_type": "code",
   "execution_count": 15,
   "metadata": {},
   "outputs": [
    {
     "name": "stdout",
     "output_type": "stream",
     "text": [
      "104\n"
     ]
    }
   ],
   "source": [
    "# finding all the occurrences without upper case letters\n",
    "p5 = re.compile(r'[^a-zA-Z\\d]')\n",
    "\n",
    "no_upper = p5.finditer(text_to_search)\n",
    "no_upper_count = 0\n",
    "for lower_case in no_upper:\n",
    "    no_upper_count += 1\n",
    "\n",
    "print(no_upper_count)"
   ]
  },
  {
   "cell_type": "code",
   "execution_count": 27,
   "metadata": {},
   "outputs": [
    {
     "name": "stdout",
     "output_type": "stream",
     "text": [
      "bun\n"
     ]
    }
   ],
   "source": [
    "string2 = \"\"\"\n",
    "pun\n",
    "bun\n",
    "one\n",
    "won\n",
    "\"\"\"\n",
    "\n",
    "# Anything except p then 'un'\n",
    "p6 = re.compile(r'[^p]un')\n",
    "\n",
    "result= p6.finditer(string2)\n",
    "\n",
    "for x in result:\n",
    "    print(x.group())"
   ]
  },
  {
   "cell_type": "code",
   "execution_count": 25,
   "metadata": {},
   "outputs": [
    {
     "name": "stdout",
     "output_type": "stream",
     "text": [
      "123*555*1234\n",
      "877-500-1234\n",
      "980-555-1234\n",
      "930-234-3455\n"
     ]
    }
   ],
   "source": [
    "# using quantifiers\n",
    "ph_num = re.compile(r'\\d{3}.\\d{3}.\\d{4}')\n",
    "\n",
    "valid_numbers = ph_num.finditer(text_to_search)\n",
    "\n",
    "for num in valid_numbers:\n",
    "    print(num.group())"
   ]
  },
  {
   "cell_type": "code",
   "execution_count": 24,
   "metadata": {},
   "outputs": [
    {
     "name": "stdout",
     "output_type": "stream",
     "text": [
      "Mr. Peter : (290, 299)\n",
      "Mr Stewie : (308, 317)\n",
      "Ms Glen : (326, 333)\n",
      "Mrs. Griffin : (343, 355)\n",
      "Ms. Meg : (356, 363)\n",
      "Mrs. U : (372, 378)\n",
      "Mr. Joe : (379, 386)\n"
     ]
    }
   ],
   "source": [
    "# finding all with the `MR.` prefix\n",
    "pattern = re.compile(r'(Mr|Mrs|Ms)\\.?\\s[A-Z]\\w*')\n",
    "\n",
    "result = pattern.finditer(text_to_search)\n",
    "\n",
    "# for r in result:\n",
    "#     print(r)\n",
    "\n",
    "for val in result:\n",
    "    print(val.group(), ':', val.span())"
   ]
  },
  {
   "cell_type": "code",
   "execution_count": 30,
   "metadata": {},
   "outputs": [
    {
     "name": "stdout",
     "output_type": "stream",
     "text": [
      "success\n"
     ]
    }
   ],
   "source": [
    "# Simple e-mail validator\n",
    "def validate_email(email: str) -> bool:\n",
    "\n",
    "    pattern = re.compile(r\"\"\"\n",
    "                                ^                # Start of the string\n",
    "                                [a-zA-Z0-9_.+-]+   # One or more of any alphanumeric character, underscore, dot, plus, or hyphen\n",
    "                                @                # The \"@\" symbol\n",
    "                                [a-zA-Z0-9-]+      # One or more of any alphanumeric character or hyphen\n",
    "                                \\.               # The literal dot character (escaped with backslash)\n",
    "                                [a-zA-Z0-9-.]+     # One or more of any alphanumeric character, dot, or hyphen\n",
    "                                $                # End of the string\n",
    "                         \"\"\", re.VERBOSE)\n",
    "    \n",
    "    validator = pattern.search(email)\n",
    "\n",
    "    return validator\n",
    "\n",
    "\n",
    "result = validate_email('asdf@one.two.in')\n",
    "\n",
    "if result:\n",
    "    print(\"success\")\n",
    "else:\n",
    "    print(\"Enter a valid email..\")"
   ]
  },
  {
   "cell_type": "code",
   "execution_count": 32,
   "metadata": {},
   "outputs": [
    {
     "name": "stdout",
     "output_type": "stream",
     "text": [
      "Your Email address is a#####d@mit.edu.in\n"
     ]
    }
   ],
   "source": [
    "# Masking Email address and Phone number\n",
    "def mask_email(email: str) -> str:\n",
    "    if validate_email(email):\n",
    "        name, domain = email.split('@')\n",
    "        return f\"Your Email address is {name[0]}#####{name[-1]}@{domain}\"\n",
    "    \n",
    "\n",
    "print(mask_email(\"abcd@mit.edu.in\"))"
   ]
  },
  {
   "cell_type": "code",
   "execution_count": 2,
   "metadata": {},
   "outputs": [
    {
     "name": "stdout",
     "output_type": "stream",
     "text": [
      "+91##### 7890\n",
      "+1##### 1234\n",
      "123##### 0\n",
      "+44##### 890\n"
     ]
    }
   ],
   "source": [
    "def mask_phone(num: str) -> str:\n",
    "    \"\"\"\n",
    "    Masks part of the phone number, preserving the country code and last three digits.\n",
    "\n",
    "    Args:\n",
    "        num (str): The phone number as a string.\n",
    "\n",
    "    Returns:\n",
    "        str: The masked phone number with the format \"<country_code>#####<last_3_digits>\",\n",
    "             or 'Invalid phone number' if the input doesn't match the pattern.\n",
    "    \"\"\"\n",
    "    \n",
    "    # Regex pattern to match country code and phone number parts\n",
    "    pattern = re.compile(r\"\"\"\n",
    "        ^                    # Start of string\n",
    "        (\\+?\\d{1,3})         # Captures country code (1-3 digits with optional '+')\n",
    "        [\\s.-]?              # Optional separator (space, hyphen, or dot)\n",
    "        \\(?\\d{1,4}\\)?        # Area code (1-4 digits with optional parentheses)\n",
    "        [\\s.-]?              # Optional separator\n",
    "        \\d{1,4}              # First part of the phone number (1-4 digits)\n",
    "        [\\s.-]?              # Optional separator\n",
    "        (\\d{1,9})            # Last part of the phone number (1-9 digits)\n",
    "        $                    # End of string\n",
    "    \"\"\", re.VERBOSE)\n",
    "    \n",
    "    # Try to match the pattern\n",
    "    matching = pattern.match(num)\n",
    "    \n",
    "    if matching:\n",
    "        country_code, last_digits = matching.group(1), matching.group(2)\n",
    "        # Mask middle part with '#####'\n",
    "        return f\"{country_code}##### {last_digits}\"\n",
    "    \n",
    "    return \"Invalid phone number\"\n",
    "\n",
    "\n",
    "print(mask_phone(\"+91 123-456-7890\"))  # Output: +91#####7890\n",
    "print(mask_phone(\"+1-800-555-1234\"))   # Output: +1#####1234\n",
    "print(mask_phone(\"1234567890\"))        # Output: Invalid phone number\n",
    "print(mask_phone(\"+44 (1234) 567 890\"))  # Output: +44#####890\n"
   ]
  },
  {
   "cell_type": "code",
   "execution_count": 22,
   "metadata": {},
   "outputs": [
    {
     "name": "stdout",
     "output_type": "stream",
     "text": [
      "['$2347.43', '$97.43', '$670.54']\n",
      "$670.54\n"
     ]
    }
   ],
   "source": [
    "# extracting price in dollar\n",
    "\n",
    "all_price = r'\\$[0-9]*\\.[0-9]*'\n",
    "total_due = r'Total due\\n\\$[0-9]*\\.[0-9]*'\n",
    "\n",
    "pattern = re.compile(all_price)\n",
    "amounts = pattern.findall(text_to_search)\n",
    "if amounts:\n",
    "   print(amounts)\n",
    "\n",
    "\n",
    "pattern = re.compile(total_due)\n",
    "total_due = pattern.findall(text_to_search)\n",
    "if total_due:\n",
    "   print(total_due[0].split('\\n')[1])"
   ]
  }
 ],
 "metadata": {
  "kernelspec": {
   "display_name": "ML",
   "language": "python",
   "name": "python3"
  },
  "language_info": {
   "codemirror_mode": {
    "name": "ipython",
    "version": 3
   },
   "file_extension": ".py",
   "mimetype": "text/x-python",
   "name": "python",
   "nbconvert_exporter": "python",
   "pygments_lexer": "ipython3",
   "version": "3.12.5"
  },
  "orig_nbformat": 4
 },
 "nbformat": 4,
 "nbformat_minor": 2
}
