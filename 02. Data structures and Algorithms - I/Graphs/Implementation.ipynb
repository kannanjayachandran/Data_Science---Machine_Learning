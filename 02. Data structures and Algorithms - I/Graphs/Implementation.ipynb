{
 "cells": [
  {
   "cell_type": "markdown",
   "metadata": {},
   "source": [
    "<h1 style=\"color:#FEC260\"> Graphs </h1>"
   ]
  },
  {
   "cell_type": "code",
   "execution_count": 7,
   "metadata": {},
   "outputs": [],
   "source": [
    "import networkx as nx"
   ]
  },
  {
   "cell_type": "code",
   "execution_count": 15,
   "metadata": {},
   "outputs": [
    {
     "name": "stdout",
     "output_type": "stream",
     "text": [
      "[1, 2, 3]\n",
      "[(1, 2)]\n"
     ]
    }
   ],
   "source": [
    "g = nx.Graph()\n",
    "\n",
    "# adding nodes\n",
    "g.add_node(23)\n",
    "g.add_nodes_from([1, 2, 3])\n",
    "\n",
    "# adding edges\n",
    "g.add_edge(23, 1)\n",
    "g.add_edges_from([(23, 2), (1, 2)])\n",
    "\n",
    "# removing a node\n",
    "g.remove_edges_from([(23, 1), ( 23, 2)])\n",
    "g.remove_node(23)\n",
    "\n",
    "\n",
    "# printing the graph\n",
    "print(list(g.nodes))\n",
    "print(list(g.edges))"
   ]
  },
  {
   "cell_type": "markdown",
   "metadata": {},
   "source": [
    "**DFS on a matrix** \n",
    "\n",
    "Count the unique paths from top left to bottom right. A single path may move along 0's and can't visit the same cell twice."
   ]
  },
  {
   "cell_type": "code",
   "execution_count": 17,
   "metadata": {},
   "outputs": [],
   "source": [
    "from typing import Set, List, Tuple\n",
    "\n",
    "\n",
    "def dfs(grid: List[List[int]], r: int, c: int, visit: Set[Tuple]):\n",
    "    \n",
    "    ROW, COL = len(grid), len(grid[0])\n",
    "\n",
    "    # base cases 1\n",
    "    if min(r, c) < 0 or \\\n",
    "          r == ROW or c == COL or \\\n",
    "            (r, c) in visit or grid[r][c] == 1:\n",
    "        return 0\n",
    "    \n",
    "    # base case 2\n",
    "    if r == ROW-1 and c == COL-1:\n",
    "        return 1\n",
    "    \n",
    "    # add the visited node to set\n",
    "    visit.add((r, c))\n",
    "\n",
    "    count = 0\n",
    "    count += dfs(grid, r+1, c, visit)\n",
    "    count += dfs(grid, r-1, c, visit)\n",
    "    count += dfs(grid, r, c+1, visit)\n",
    "    count += dfs(grid, r, c-1, visit)\n",
    "\n",
    "    visit.remove((r, c))\n",
    "\n",
    "    return count"
   ]
  },
  {
   "cell_type": "code",
   "execution_count": 43,
   "metadata": {},
   "outputs": [
    {
     "name": "stdout",
     "output_type": "stream",
     "text": [
      "[[0, 0, 0, 1], [0, 1, 1, 0], [0, 1, 1, 1], [0, 0, 0, 0], [1, 0, 1, 0]]\n"
     ]
    },
    {
     "data": {
      "text/plain": [
       "1"
      ]
     },
     "execution_count": 43,
     "metadata": {},
     "output_type": "execute_result"
    }
   ],
   "source": [
    "from random import choice\n",
    "\n",
    "grid = [[choice([0, 1]) for _ in range(4)] for _ in range(5)]\n",
    "visit = set()\n",
    "\n",
    "print(grid)\n",
    "\n",
    "dfs(grid, 0, 0, visit)"
   ]
  },
  {
   "cell_type": "markdown",
   "metadata": {},
   "source": [
    "**BFS on a matrix**\n",
    "\n",
    "For the above grid find the shortest path from top left to bottom right. A single path may move along 0's and can't visit the same cell twice."
   ]
  },
  {
   "cell_type": "code",
   "execution_count": 57,
   "metadata": {},
   "outputs": [],
   "source": [
    "from collections import deque\n",
    "from typing import List\n",
    "\n",
    "def bfs(grid: List[List[int]]):\n",
    "\n",
    "    R, C = len(grid), len(grid[0])\n",
    "    visit = set()\n",
    "    queue = deque([(0, 0)])\n",
    "\n",
    "    length = 0\n",
    "    while queue:\n",
    "        # process neighbors\n",
    "        neighbors = [(r + dr, c + dc) for r, c in queue for dr, dc in [(0, 1), (0, -1), (1, 0), (-1, 0)]]\n",
    "        queue = deque()  # Clear the queue for the next level\n",
    "\n",
    "        for new_r, new_c in neighbors:\n",
    "            # Check if the new coordinates are within bounds\n",
    "            if 0 <= new_r < R and 0 <= new_c < C and (new_r, new_c) not in visit and grid[new_r][new_c] == 0:\n",
    "                queue.append((new_r, new_c))\n",
    "                visit.add((new_r, new_c))\n",
    "\n",
    "        length += 1\n",
    "    return 0 if length < R + C - 1 else length"
   ]
  },
  {
   "cell_type": "code",
   "execution_count": 60,
   "metadata": {},
   "outputs": [
    {
     "name": "stdout",
     "output_type": "stream",
     "text": [
      "[[0, 0, 0, 0], [0, 0, 0, 0], [1, 1, 1, 0], [1, 1, 1, 0], [0, 1, 1, 0]]\n"
     ]
    },
    {
     "data": {
      "text/plain": [
       "8"
      ]
     },
     "execution_count": 60,
     "metadata": {},
     "output_type": "execute_result"
    }
   ],
   "source": [
    "grid = [[choice([0, 1]) for _ in range(4)] for _ in range(5)]\n",
    "visit = set()\n",
    "\n",
    "print(grid)\n",
    "\n",
    "bfs(grid)"
   ]
  },
  {
   "cell_type": "markdown",
   "metadata": {},
   "source": [
    "**Given directed edges, build Adjacency list**"
   ]
  },
  {
   "cell_type": "code",
   "execution_count": 61,
   "metadata": {},
   "outputs": [],
   "source": [
    "edges = [[\"A\", \"B\"], [\"B\", \"C\"], [\"B\", \"E\"], [\"C\", \"E\"], [\"E\", \"D\"]]\n",
    "\n",
    "adj_list = {}"
   ]
  },
  {
   "cell_type": "code",
   "execution_count": 62,
   "metadata": {},
   "outputs": [
    {
     "data": {
      "text/plain": [
       "{'A': ['B'], 'B': ['C', 'E'], 'C': ['E'], 'E': ['D'], 'D': []}"
      ]
     },
     "execution_count": 62,
     "metadata": {},
     "output_type": "execute_result"
    }
   ],
   "source": [
    "for source, destination in edges:\n",
    "    if source not in adj_list:\n",
    "        adj_list[source] = []\n",
    "    if destination not in adj_list:\n",
    "        adj_list[destination] = []\n",
    "    adj_list[source].append(destination)\n",
    "\n",
    "adj_list"
   ]
  },
  {
   "cell_type": "code",
   "execution_count": 63,
   "metadata": {},
   "outputs": [],
   "source": [
    "# dfs on adjacency list\n",
    "def dfs2(node, target, adj_list, visit):\n",
    "    if node in visit:\n",
    "        return 0\n",
    "    if node == target:\n",
    "        return 1\n",
    "    \n",
    "    count = 0\n",
    "    visit.add(node)\n",
    "\n",
    "    for neighbor in adj_list[node]:\n",
    "        count += dfs2(neighbor, target, adj_list, visit)\n",
    "    visit.remove(node)\n",
    "\n",
    "    return count"
   ]
  },
  {
   "cell_type": "code",
   "execution_count": 64,
   "metadata": {},
   "outputs": [
    {
     "name": "stdout",
     "output_type": "stream",
     "text": [
      "2\n"
     ]
    }
   ],
   "source": [
    "print(dfs2(\"A\", \"E\", adj_list, set()))"
   ]
  },
  {
   "cell_type": "code",
   "execution_count": 65,
   "metadata": {},
   "outputs": [],
   "source": [
    "def bfs2(node, target, adj_list):\n",
    "    length = 0\n",
    "    visit = set()\n",
    "    queue = deque()\n",
    "    visit.add(node)\n",
    "    queue.append(node)\n",
    "\n",
    "    while queue:\n",
    "        for i in range(len(queue)):\n",
    "            curr = queue.popleft()\n",
    "\n",
    "            if curr == target:\n",
    "                return length\n",
    "            for neighbor in adj_list[curr]:\n",
    "                if neighbor not in visit:\n",
    "                    visit.add(neighbor)\n",
    "                    queue.append(neighbor)\n",
    "        length += 1\n",
    "    return length"
   ]
  },
  {
   "cell_type": "code",
   "execution_count": 67,
   "metadata": {},
   "outputs": [
    {
     "name": "stdout",
     "output_type": "stream",
     "text": [
      "3\n"
     ]
    }
   ],
   "source": [
    "print(bfs2(\"A\", \"D\", adj_list))\n",
    "\n",
    "# Note : If the edges have weights, then the above bfs algorithm will not work."
   ]
  }
 ],
 "metadata": {
  "kernelspec": {
   "display_name": "ML",
   "language": "python",
   "name": "python3"
  },
  "language_info": {
   "codemirror_mode": {
    "name": "ipython",
    "version": 3
   },
   "file_extension": ".py",
   "mimetype": "text/x-python",
   "name": "python",
   "nbconvert_exporter": "python",
   "pygments_lexer": "ipython3",
   "version": "3.11.5"
  },
  "orig_nbformat": 4
 },
 "nbformat": 4,
 "nbformat_minor": 2
}
