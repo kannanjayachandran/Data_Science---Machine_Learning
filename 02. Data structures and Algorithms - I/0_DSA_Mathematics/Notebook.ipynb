{
 "cells": [
  {
   "cell_type": "markdown",
   "metadata": {},
   "source": [
    "# <span style=\"color:#FEC260\">DSA Mathematics</span> ~ Problem set"
   ]
  },
  {
   "cell_type": "markdown",
   "metadata": {},
   "source": [
    "**1. Prime Numbers**"
   ]
  },
  {
   "cell_type": "code",
   "execution_count": 11,
   "metadata": {},
   "outputs": [],
   "source": [
    "def isPrime(num: int) -> bool:\n",
    "\n",
    "    if num <= 1: return False\n",
    "    if num == 2 or num == 3: return True\n",
    "    if num % 2 == 0 or num % 3 == 0: return False\n",
    "\n",
    "    i = 5\n",
    "    while i*i <= num:\n",
    "        if num % i  == 0 or num+2 % i == 0:\n",
    "            return False\n",
    "        i += 6\n",
    "    \n",
    "    return True"
   ]
  },
  {
   "cell_type": "code",
   "execution_count": 12,
   "metadata": {},
   "outputs": [
    {
     "data": {
      "text/plain": [
       "True"
      ]
     },
     "execution_count": 12,
     "metadata": {},
     "output_type": "execute_result"
    }
   ],
   "source": [
    "isPrime(17)"
   ]
  },
  {
   "cell_type": "markdown",
   "metadata": {},
   "source": [
    "**2. Prime in a range (Sieve method)**"
   ]
  },
  {
   "cell_type": "code",
   "execution_count": 13,
   "metadata": {},
   "outputs": [],
   "source": [
    "def primeRange(num: int) -> list[int]:\n",
    "\n",
    "    sieve = [True] * (num+1)\n",
    "    sieve[0], sieve[1] = False, False\n",
    "\n",
    "    i = 2\n",
    "    while i*i <= num:\n",
    "        if sieve[i]:\n",
    "           j = i*i\n",
    "           while j <= num: \n",
    "                sieve[j] = False\n",
    "                j += i\n",
    "        i += 1\n",
    "    \n",
    "    return [x for x in range(len(sieve)) if  sieve[x]]"
   ]
  },
  {
   "cell_type": "code",
   "execution_count": 14,
   "metadata": {},
   "outputs": [
    {
     "name": "stdout",
     "output_type": "stream",
     "text": [
      "[2, 3, 5, 7]\n",
      "Passed ✅\n"
     ]
    }
   ],
   "source": [
    "print(primeRange(10))\n",
    "\n",
    "if [2, 3, 5, 7, 11, 13, 17, 19, 23, 29, 31, 37, 41, 43, 47, 53, 59, 61, 67, 71, 73, 79, 83, 89, 97] == primeRange(100):\n",
    "    print('Passed ✅')"
   ]
  },
  {
   "cell_type": "code",
   "execution_count": 15,
   "metadata": {},
   "outputs": [],
   "source": [
    "# sieve method in a given range\n",
    "def findPrimesInRange( start: int, end: int) -> list[int]:\n",
    "    if end <= 1 or start >= end:\n",
    "        return []\n",
    "\n",
    "    sv = [True] * (end + 1)\n",
    "    sv[0], sv[1] = False, False\n",
    "\n",
    "    for i in range(2, int(end**0.5) + 1):\n",
    "        if sv[i]:\n",
    "            for j in range(i * i, end + 1, i):\n",
    "                sv[j] = False\n",
    "\n",
    "    primes_in_range = [x for x in range(max(start, 2), end + 1) if sv[x]]\n",
    "    return primes_in_range"
   ]
  },
  {
   "cell_type": "code",
   "execution_count": 16,
   "metadata": {},
   "outputs": [
    {
     "data": {
      "text/plain": [
       "[11, 13, 17, 19]"
      ]
     },
     "execution_count": 16,
     "metadata": {},
     "output_type": "execute_result"
    }
   ],
   "source": [
    "findPrimesInRange(10, 20)"
   ]
  },
  {
   "cell_type": "markdown",
   "metadata": {},
   "source": [
    "**3. Square root**"
   ]
  },
  {
   "cell_type": "code",
   "execution_count": 17,
   "metadata": {},
   "outputs": [],
   "source": [
    "# using binary search, no decimal part\n",
    "def squareRoot(num: int) -> int: \n",
    "    if num == 0: return 0\n",
    "    if num == 1: return 1\n",
    "\n",
    "    start = 0\n",
    "    end = num\n",
    "\n",
    "    while start <= end:\n",
    "        mid = start + (end-start) // 2\n",
    "        if mid*mid == num:\n",
    "            return mid\n",
    "        if mid*mid > num:\n",
    "            end = mid-1\n",
    "        else:\n",
    "            start = mid+1\n",
    "    return end"
   ]
  },
  {
   "cell_type": "code",
   "execution_count": 18,
   "metadata": {},
   "outputs": [
    {
     "data": {
      "text/plain": [
       "9"
      ]
     },
     "execution_count": 18,
     "metadata": {},
     "output_type": "execute_result"
    }
   ],
   "source": [
    "squareRoot(81)"
   ]
  },
  {
   "cell_type": "code",
   "execution_count": 19,
   "metadata": {},
   "outputs": [],
   "source": [
    "# using binary search, with decimal part\n",
    "def squareRoot2(num: int, precision: int) -> float: \n",
    "    if num == 0 or num == 1: return num\n",
    "\n",
    "    start = 0\n",
    "    end = num\n",
    "    ans = 0.0\n",
    "\n",
    "    while start <= end:\n",
    "        mid = start + (end-start) // 2\n",
    "        if mid*mid == num:\n",
    "            return mid\n",
    "        if mid*mid > num:\n",
    "            end = mid-1\n",
    "        else:\n",
    "            start = mid+1\n",
    "\n",
    "    ans = end\n",
    "    increment = 0.01\n",
    "    for _ in range(precision):\n",
    "        while  ans*ans <= num:\n",
    "            ans += increment\n",
    "        ans -= increment\n",
    "        increment /= 10\n",
    "\n",
    "    return ans"
   ]
  },
  {
   "cell_type": "code",
   "execution_count": 20,
   "metadata": {},
   "outputs": [
    {
     "data": {
      "text/plain": [
       "5.916079699999983"
      ]
     },
     "execution_count": 20,
     "metadata": {},
     "output_type": "execute_result"
    }
   ],
   "source": [
    "squareRoot2(35, 6)"
   ]
  },
  {
   "cell_type": "code",
   "execution_count": 21,
   "metadata": {},
   "outputs": [],
   "source": [
    "# Sqrt using newton-Raphson method\n",
    "def square_root_newton(num: int) -> float:\n",
    "    guess = num\n",
    "    while True:\n",
    "        root = 0.5 * (guess + num / guess)\n",
    "        if abs(root - guess) < 0.0001:  # Adjust the tolerance for accuracy\n",
    "            break\n",
    "        guess = root\n",
    "    return root"
   ]
  },
  {
   "cell_type": "code",
   "execution_count": 23,
   "metadata": {},
   "outputs": [
    {
     "name": "stdout",
     "output_type": "stream",
     "text": [
      "9\n",
      "9.487\n"
     ]
    },
    {
     "data": {
      "text/plain": [
       "9.48683298053788"
      ]
     },
     "execution_count": 23,
     "metadata": {},
     "output_type": "execute_result"
    }
   ],
   "source": [
    "print(squareRoot(90))\n",
    "print(f'{squareRoot2(90, 3):.3f}')\n",
    "square_root_newton(90)"
   ]
  },
  {
   "cell_type": "markdown",
   "metadata": {},
   "source": [
    "**4. Factors of a number**"
   ]
  },
  {
   "cell_type": "code",
   "execution_count": 29,
   "metadata": {},
   "outputs": [],
   "source": [
    "def factors(n):\n",
    "    ans = []\n",
    "    for i in range(1, int(n ** 0.5) + 1):\n",
    "        if n % i == 0:\n",
    "            ans.append(i)\n",
    "            if i != n // i:         # Avoid duplicate entry for perfect squares\n",
    "                ans.append(n // i)\n",
    "    return sorted(ans)"
   ]
  },
  {
   "cell_type": "code",
   "execution_count": 30,
   "metadata": {},
   "outputs": [
    {
     "data": {
      "text/plain": [
       "[1, 2, 4, 5, 10, 20]"
      ]
     },
     "execution_count": 30,
     "metadata": {},
     "output_type": "execute_result"
    }
   ],
   "source": [
    "factors(20)"
   ]
  },
  {
   "cell_type": "markdown",
   "metadata": {},
   "source": [
    "**5. GCD or HCF**"
   ]
  },
  {
   "cell_type": "code",
   "execution_count": 1,
   "metadata": {},
   "outputs": [],
   "source": [
    "def euclid(a: int, b: int) -> int:\n",
    "    while b:\n",
    "        a, b = b, a % b\n",
    "    return a\n",
    "\n",
    "def euclidRecursion(a: int, b: int) -> int:\n",
    "    if b == 0: return a\n",
    "    return euclidRecursion(b, a%b)"
   ]
  },
  {
   "cell_type": "code",
   "execution_count": 2,
   "metadata": {},
   "outputs": [
    {
     "name": "stdout",
     "output_type": "stream",
     "text": [
      "2\n",
      "2\n"
     ]
    }
   ],
   "source": [
    "print(euclid(12, 14))\n",
    "print(euclidRecursion(12, 14))"
   ]
  },
  {
   "cell_type": "code",
   "execution_count": 3,
   "metadata": {},
   "outputs": [],
   "source": [
    "def lcm(a: int, b: int) -> int:\n",
    "    for i in range(max(a, b), a*b+1):\n",
    "        if i % a == 0 and i % b == 0:\n",
    "            return i\n",
    "\n",
    "def lcm2(a: int, b: int) -> int:\n",
    "    return euclid(a, b) // a*b"
   ]
  },
  {
   "cell_type": "code",
   "execution_count": 4,
   "metadata": {},
   "outputs": [
    {
     "name": "stdout",
     "output_type": "stream",
     "text": [
      "18\n"
     ]
    },
    {
     "data": {
      "text/plain": [
       "18"
      ]
     },
     "execution_count": 4,
     "metadata": {},
     "output_type": "execute_result"
    }
   ],
   "source": [
    "print(lcm(6, 18))\n",
    "lcm2(6, 18)"
   ]
  }
 ],
 "metadata": {
  "kernelspec": {
   "display_name": "ML",
   "language": "python",
   "name": "python3"
  },
  "language_info": {
   "codemirror_mode": {
    "name": "ipython",
    "version": 3
   },
   "file_extension": ".py",
   "mimetype": "text/x-python",
   "name": "python",
   "nbconvert_exporter": "python",
   "pygments_lexer": "ipython3",
   "version": "3.11.5"
  },
  "orig_nbformat": 4
 },
 "nbformat": 4,
 "nbformat_minor": 2
}
