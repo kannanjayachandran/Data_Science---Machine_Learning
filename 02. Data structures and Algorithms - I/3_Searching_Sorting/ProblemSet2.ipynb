{
 "cells": [
  {
   "cell_type": "markdown",
   "metadata": {},
   "source": [
    "# <span style=\"color:#FEC260\">Binary Search </span> Problem Set II"
   ]
  },
  {
   "cell_type": "markdown",
   "metadata": {},
   "source": [
    "**Q1 Search insert position**"
   ]
  },
  {
   "cell_type": "code",
   "execution_count": 1,
   "metadata": {},
   "outputs": [],
   "source": [
    "def search_insert_pos(nums: list[int], key: int) -> int:\n",
    "\n",
    "    start, end = 0, len(nums)-1\n",
    "\n",
    "    while start <= end:\n",
    "        mid_idx = start + (end-start) // 2\n",
    "        if nums[mid_idx] == key:\n",
    "            return mid_idx\n",
    "        elif nums[mid_idx] > key:\n",
    "            end = mid_idx - 1\n",
    "        else:\n",
    "            start = mid_idx + 1\n",
    "    return start"
   ]
  },
  {
   "cell_type": "code",
   "execution_count": 2,
   "metadata": {},
   "outputs": [
    {
     "data": {
      "text/plain": [
       "1"
      ]
     },
     "execution_count": 2,
     "metadata": {},
     "output_type": "execute_result"
    }
   ],
   "source": [
    "search_insert_pos([1,3,5,6], 2)"
   ]
  },
  {
   "cell_type": "markdown",
   "metadata": {},
   "source": [
    "**Q2 Find the floor of the square root of a number**"
   ]
  },
  {
   "cell_type": "code",
   "execution_count": 3,
   "metadata": {},
   "outputs": [],
   "source": [
    "def square_root_floor(x: int) -> int:\n",
    "\n",
    "    start, end = 0, x\n",
    "\n",
    "    while start <= end:\n",
    "        mid = start + (end-start) // 2\n",
    "        if mid*mid <= x:\n",
    "            start = mid + 1\n",
    "        else:\n",
    "            end = mid - 1\n",
    "    return end"
   ]
  },
  {
   "cell_type": "code",
   "execution_count": 7,
   "metadata": {},
   "outputs": [
    {
     "data": {
      "text/plain": [
       "5"
      ]
     },
     "execution_count": 7,
     "metadata": {},
     "output_type": "execute_result"
    }
   ],
   "source": [
    "square_root_floor(35)"
   ]
  }
 ],
 "metadata": {
  "kernelspec": {
   "display_name": "ML",
   "language": "python",
   "name": "python3"
  },
  "language_info": {
   "codemirror_mode": {
    "name": "ipython",
    "version": 3
   },
   "file_extension": ".py",
   "mimetype": "text/x-python",
   "name": "python",
   "nbconvert_exporter": "python",
   "pygments_lexer": "ipython3",
   "version": "3.11.4"
  },
  "orig_nbformat": 4
 },
 "nbformat": 4,
 "nbformat_minor": 2
}
