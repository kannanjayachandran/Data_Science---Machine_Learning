{
 "cells": [
  {
   "cell_type": "markdown",
   "metadata": {},
   "source": [
    "# <span style=\"color:#FEC260\"> Searching and Sorting </span> "
   ]
  },
  {
   "cell_type": "markdown",
   "metadata": {},
   "source": [
    "## <span style=\"color:#FEC260\">Searching</span> "
   ]
  },
  {
   "cell_type": "markdown",
   "metadata": {},
   "source": [
    "**Linear Search**"
   ]
  },
  {
   "cell_type": "code",
   "execution_count": 13,
   "metadata": {},
   "outputs": [],
   "source": [
    "def linearSearch(nums: list[int], target: int) -> int:\n",
    "    \n",
    "    for i in range(len(nums)):\n",
    "        if nums[i] == target:\n",
    "            return i\n",
    "    return -1"
   ]
  },
  {
   "cell_type": "code",
   "execution_count": 14,
   "metadata": {},
   "outputs": [
    {
     "data": {
      "text/plain": [
       "5"
      ]
     },
     "execution_count": 14,
     "metadata": {},
     "output_type": "execute_result"
    }
   ],
   "source": [
    "linearSearch([1, 4, 3, 27, 6, 9, 8, 6, 5, 3, 2, 4], 9)"
   ]
  },
  {
   "cell_type": "markdown",
   "metadata": {},
   "source": [
    "**Binary search Iterative implementation { Ascending order }**\n",
    "\n",
    "> There will be at least one element in the input array.\n",
    "\n",
    ">Return the index of the target element, if found, else return -1."
   ]
  },
  {
   "cell_type": "code",
   "execution_count": 1,
   "metadata": {},
   "outputs": [],
   "source": [
    "def binarySearch(nums: list[int], target: int) -> int:\n",
    "\n",
    "    start, end = 0, len(nums)-1\n",
    "\n",
    "    # check array order\n",
    "    if nums[start] > nums[end]: return -1\n",
    "\n",
    "    while start <= end: \n",
    "        mid = start + (end-start) // 2\n",
    "        if nums[mid] == target:\n",
    "            return mid\n",
    "        elif nums[mid] > target:\n",
    "            end = mid-1\n",
    "        else:\n",
    "            start = mid+1\n",
    "    return -1"
   ]
  },
  {
   "cell_type": "code",
   "execution_count": 2,
   "metadata": {},
   "outputs": [
    {
     "data": {
      "text/plain": [
       "7"
      ]
     },
     "execution_count": 2,
     "metadata": {},
     "output_type": "execute_result"
    }
   ],
   "source": [
    "binarySearch([-1, -4, 7, 9, 10, 20, 30, 60, 90], 60)"
   ]
  },
  {
   "cell_type": "markdown",
   "metadata": {},
   "source": [
    "**Binary search within a range**"
   ]
  },
  {
   "cell_type": "code",
   "execution_count": 3,
   "metadata": {},
   "outputs": [],
   "source": [
    "def binarySearch2(nums: list[int], target: int, start: int, end: int) -> int:\n",
    "\n",
    "    # check array order\n",
    "    if nums[start] > nums[end]: return -1\n",
    "\n",
    "    while start <= end: \n",
    "        mid = start + (end-start) // 2\n",
    "        if nums[mid] == target:\n",
    "            return mid\n",
    "        elif nums[mid] > target:\n",
    "            end = mid-1\n",
    "        else:\n",
    "            start = mid+1\n",
    "    return -1"
   ]
  },
  {
   "cell_type": "code",
   "execution_count": 4,
   "metadata": {},
   "outputs": [
    {
     "data": {
      "text/plain": [
       "7"
      ]
     },
     "execution_count": 4,
     "metadata": {},
     "output_type": "execute_result"
    }
   ],
   "source": [
    "binarySearch2([-1, -4, 7, 9, 10, 20, 30, 60, 90], 60, 0, 8)"
   ]
  },
  {
   "cell_type": "markdown",
   "metadata": {},
   "source": [
    "**Binary search Recursive implementation { Ascending order }**"
   ]
  },
  {
   "cell_type": "code",
   "execution_count": 7,
   "metadata": {},
   "outputs": [],
   "source": [
    "def recursiveBS(arr: list[int], target: int, start: int, end: int) -> int: \n",
    "    while start <= end:\n",
    "        mid = start + (end-start) // 2\n",
    "\n",
    "        if arr[mid] == target:\n",
    "            return mid\n",
    "\n",
    "        if arr[mid] > target:\n",
    "            return recursiveBS(arr, target, start, mid-1)\n",
    "        else:\n",
    "           return recursiveBS(arr, target, mid+1, end)\n",
    "    return -1"
   ]
  },
  {
   "cell_type": "code",
   "execution_count": 8,
   "metadata": {},
   "outputs": [
    {
     "data": {
      "text/plain": [
       "5"
      ]
     },
     "execution_count": 8,
     "metadata": {},
     "output_type": "execute_result"
    }
   ],
   "source": [
    "arr = [1, 3, 4, 6, 7, 8, 10]\n",
    "recursiveBS(arr, 8, 0, len(arr)-1)"
   ]
  },
  {
   "cell_type": "markdown",
   "metadata": {},
   "source": [
    "**Binary search {Descending order}**"
   ]
  },
  {
   "cell_type": "code",
   "execution_count": 9,
   "metadata": {},
   "outputs": [],
   "source": [
    "def bsDescending(arr: list[int], target: int, start: int, end: int) -> int:\n",
    "    while start <= end:\n",
    "        mid = start + (end-start) // 2\n",
    "        if arr[mid] == target:\n",
    "            return mid\n",
    "        elif arr[mid] > target:\n",
    "            start = mid+1\n",
    "        else:\n",
    "            end = mid-1\n",
    "    return -1"
   ]
  },
  {
   "cell_type": "code",
   "execution_count": 10,
   "metadata": {},
   "outputs": [
    {
     "data": {
      "text/plain": [
       "1"
      ]
     },
     "execution_count": 10,
     "metadata": {},
     "output_type": "execute_result"
    }
   ],
   "source": [
    "arr = [11, 8, 5, 4, 3, 2, 1]\n",
    "bsDescending(arr, 8, 0, len(arr)-1)"
   ]
  },
  {
   "cell_type": "markdown",
   "metadata": {},
   "source": [
    "**Order agnostic binary search**"
   ]
  },
  {
   "cell_type": "code",
   "execution_count": 11,
   "metadata": {},
   "outputs": [],
   "source": [
    "def orderAgnosticBS(nums: list[int], target: int, start: int, end: int):\n",
    "    if nums[start] < nums[end]:\n",
    "        return recursiveBS(nums, target, start, end)\n",
    "    elif nums[start] > nums[end]:\n",
    "        return bsDescending(nums, target, start, end)\n",
    "    return -1"
   ]
  },
  {
   "cell_type": "code",
   "execution_count": 12,
   "metadata": {},
   "outputs": [
    {
     "name": "stdout",
     "output_type": "stream",
     "text": [
      "5\n",
      "8\n"
     ]
    }
   ],
   "source": [
    "arr = [1, 2, 3, 4, 5, 6, 5, 4, 3, 2, 1]\n",
    "print(orderAgnosticBS(arr, 6, 0, 5))\n",
    "print(orderAgnosticBS(arr, 3, 6, len(arr)-1))"
   ]
  },
  {
   "cell_type": "markdown",
   "metadata": {},
   "source": [
    "## <span style=\"color:#FEC260\">Sorting</span> "
   ]
  },
  {
   "cell_type": "markdown",
   "metadata": {},
   "source": [
    "**Bubble Sort / Sinking Sort / Exchange Sort**"
   ]
  },
  {
   "cell_type": "code",
   "execution_count": 4,
   "metadata": {},
   "outputs": [],
   "source": [
    "def bubble_sort(nums: list[int]) -> list[int]:\n",
    "\n",
    "    n = len(nums)\n",
    "\n",
    "    for _ in range(n-1):\n",
    "        swapped = False\n",
    "        \n",
    "        for i in range(n-1):\n",
    "            if nums[i] > nums[i+1]:\n",
    "                nums[i], nums[i+1] = nums[i+1], nums[i]\n",
    "                swapped = True\n",
    "        if not swapped:\n",
    "            break\n",
    "    \n",
    "    return nums"
   ]
  },
  {
   "cell_type": "code",
   "execution_count": 7,
   "metadata": {},
   "outputs": [
    {
     "data": {
      "text/plain": [
       "[-99, -53, -5, 2, 7, 10, 12, 99]"
      ]
     },
     "execution_count": 7,
     "metadata": {},
     "output_type": "execute_result"
    }
   ],
   "source": [
    "bubble_sort([10, -5, 2, 7, -99, 12, -53, 99])"
   ]
  },
  {
   "cell_type": "markdown",
   "metadata": {},
   "source": [
    "**Insertion Sort**"
   ]
  },
  {
   "cell_type": "code",
   "execution_count": 14,
   "metadata": {},
   "outputs": [],
   "source": [
    "def insertion_sort(nums: list[int]) -> list[int]:\n",
    "\n",
    "    for i in range(1, len(nums)):\n",
    "        j = i\n",
    "        while j > 0 and nums[j] < nums[j-1]:\n",
    "            nums[j], nums[j-1] = nums[j-1], nums[j]\n",
    "            j -= 1\n",
    "    return nums"
   ]
  },
  {
   "cell_type": "code",
   "execution_count": 15,
   "metadata": {},
   "outputs": [
    {
     "data": {
      "text/plain": [
       "[-99, -53, -5, 2, 7, 10, 12, 99]"
      ]
     },
     "execution_count": 15,
     "metadata": {},
     "output_type": "execute_result"
    }
   ],
   "source": [
    "insertion_sort([10, -5, 2, 7, -99, 12, -53, 99])"
   ]
  },
  {
   "cell_type": "markdown",
   "metadata": {},
   "source": [
    "**Merge sort**"
   ]
  },
  {
   "cell_type": "code",
   "execution_count": 12,
   "metadata": {},
   "outputs": [],
   "source": [
    "def helper(leftHalf: list[int], rightHalf: list[int]) -> list[int]:\n",
    "\n",
    "    sorted_arr = [None] * (len(leftHalf) + len(rightHalf))\n",
    "    k = i = j = 0\n",
    "\n",
    "    while i < len(leftHalf) and j < len(rightHalf):\n",
    "        if leftHalf[i] <= rightHalf[j]:\n",
    "            sorted_arr[k] = leftHalf[i]\n",
    "            i += 1\n",
    "        else:\n",
    "            sorted_arr[k] = rightHalf[j]\n",
    "            j += 1\n",
    "        k += 1\n",
    "    \n",
    "    while i < len(leftHalf):\n",
    "        sorted_arr[k] = leftHalf[i]\n",
    "        i += 1\n",
    "        k += 1\n",
    "    \n",
    "    while j < len(rightHalf):\n",
    "        sorted_arr[k] = rightHalf[j]\n",
    "        j += 1\n",
    "        k += 1\n",
    "    \n",
    "    return sorted_arr\n",
    "\n",
    "\n",
    "def merge_sort(arr: list[int]) -> list[int]:\n",
    "    \n",
    "    if len(arr) <= 1:\n",
    "        return arr\n",
    "    \n",
    "    midIdx = len(arr) // 2\n",
    "    leftHalf = arr[:midIdx]\n",
    "    rightHalf = arr[midIdx:]\n",
    "\n",
    "    return helper(merge_sort(leftHalf), merge_sort(rightHalf))"
   ]
  },
  {
   "cell_type": "code",
   "execution_count": 13,
   "metadata": {},
   "outputs": [
    {
     "data": {
      "text/plain": [
       "[-100, -50, 10, 20, 99]"
      ]
     },
     "execution_count": 13,
     "metadata": {},
     "output_type": "execute_result"
    }
   ],
   "source": [
    "merge_sort([-100, 10, 20, -50, 99])"
   ]
  },
  {
   "cell_type": "markdown",
   "metadata": {},
   "source": [
    "**Quick Sort**"
   ]
  },
  {
   "cell_type": "code",
   "execution_count": 1,
   "metadata": {},
   "outputs": [],
   "source": [
    "def quick_sort(arr: list[int]) -> list[int]:\n",
    "    \n",
    "    if len(arr) <= 1:\n",
    "        return arr\n",
    "\n",
    "    pivot = arr[len(arr) // 2]\n",
    "    left = [x for x in arr if x < pivot]\n",
    "    middle = [x for x in arr if x == pivot]\n",
    "    right = [x for x in arr if x > pivot]\n",
    "\n",
    "    return quick_sort(left) + middle + quick_sort(right)"
   ]
  },
  {
   "cell_type": "code",
   "execution_count": 2,
   "metadata": {},
   "outputs": [
    {
     "data": {
      "text/plain": [
       "[1, 2, 3, 4, 5, 6, 7]"
      ]
     },
     "execution_count": 2,
     "metadata": {},
     "output_type": "execute_result"
    }
   ],
   "source": [
    "quick_sort([6, 7, 2, 3, 5, 1, 4])"
   ]
  },
  {
   "cell_type": "markdown",
   "metadata": {},
   "source": [
    "**Heap Sort**"
   ]
  },
  {
   "cell_type": "code",
   "execution_count": 4,
   "metadata": {},
   "outputs": [],
   "source": [
    "def heapify(arr, n, i):\n",
    "    largest = i \n",
    "    left = 2 * i + 1 \n",
    "    right = 2 * i + 2  \n",
    "\n",
    "    # Check if the left child exists and is greater than the root\n",
    "    if left < n and arr[left] > arr[largest]:\n",
    "        largest = left\n",
    "\n",
    "    # Check if the right child exists and is greater than the largest so far\n",
    "    if right < n and arr[right] > arr[largest]:\n",
    "        largest = right\n",
    "\n",
    "    # If the largest is not the root, swap them and recursively heapify the affected subtree\n",
    "    if largest != i:\n",
    "        arr[i], arr[largest] = arr[largest], arr[i]  \n",
    "        heapify(arr, n, largest)\n",
    "\n",
    "def heap_sort(arr):\n",
    "\n",
    "    n = len(arr)\n",
    "\n",
    "    for i in range(n // 2 - 1, -1, -1):\n",
    "        heapify(arr, n, i)\n",
    "\n",
    "    for i in range(n - 1, 0, -1):\n",
    "        arr[i], arr[0] = arr[0], arr[i]  \n",
    "        heapify(arr, i, 0) "
   ]
  },
  {
   "cell_type": "code",
   "execution_count": 6,
   "metadata": {},
   "outputs": [
    {
     "data": {
      "text/plain": [
       "[1, 1, 2, 3, 6, 8, 10]"
      ]
     },
     "execution_count": 6,
     "metadata": {},
     "output_type": "execute_result"
    }
   ],
   "source": [
    "arr = [3, 6, 8, 10, 1, 2, 1]\n",
    "\n",
    "heap_sort(arr)\n",
    "\n",
    "arr"
   ]
  },
  {
   "cell_type": "markdown",
   "metadata": {},
   "source": [
    "**Radix Sort or Counting sort**"
   ]
  },
  {
   "cell_type": "code",
   "execution_count": 7,
   "metadata": {},
   "outputs": [],
   "source": [
    "def counting_sort(arr, exp):\n",
    "    n = len(arr)\n",
    "    output = [0] * n\n",
    "    count = [0] * 10\n",
    "\n",
    "    # Count occurrences of each digit\n",
    "    for i in range(n):\n",
    "        index = (arr[i] // exp)\n",
    "        count[index % 10] += 1\n",
    "\n",
    "    # Calculate the cumulative count\n",
    "    for i in range(1, 10):\n",
    "        count[i] += count[i - 1]\n",
    "\n",
    "    # Build the output array\n",
    "    i = n - 1\n",
    "    while i >= 0:\n",
    "        index = (arr[i] // exp)\n",
    "        output[count[index % 10] - 1] = arr[i]\n",
    "        count[index % 10] -= 1\n",
    "        i -= 1\n",
    "\n",
    "    # Copy the sorted elements back to the original array\n",
    "    for i in range(n):\n",
    "        arr[i] = output[i]\n",
    "\n",
    "def radix_sort(arr):\n",
    "    max_element = max(arr)\n",
    "    exp = 1\n",
    "\n",
    "    while max_element // exp > 0:\n",
    "        counting_sort(arr, exp)\n",
    "        exp *= 10"
   ]
  },
  {
   "cell_type": "code",
   "execution_count": 8,
   "metadata": {},
   "outputs": [
    {
     "data": {
      "text/plain": [
       "[2, 24, 45, 66, 75, 90, 170, 802]"
      ]
     },
     "execution_count": 8,
     "metadata": {},
     "output_type": "execute_result"
    }
   ],
   "source": [
    "arr = [170, 45, 75, 90, 802, 24, 2, 66]\n",
    "\n",
    "radix_sort(arr)\n",
    "\n",
    "arr"
   ]
  },
  {
   "cell_type": "markdown",
   "metadata": {},
   "source": [
    "**Bucket Sort**"
   ]
  },
  {
   "cell_type": "code",
   "execution_count": 2,
   "metadata": {},
   "outputs": [],
   "source": [
    "def bucket_sort(nums):\n",
    "\n",
    "    if len(nums) <= 1:\n",
    "        return nums\n",
    "\n",
    "    min_val = min(nums)\n",
    "    max_val = max(nums)\n",
    "\n",
    "    buckets = [[] for _ in range(len(nums))]\n",
    "    bucket_range = (max_val - min_val) / (len(nums) - 1)\n",
    "\n",
    "    for num in nums:\n",
    "        idx = int((num - min_val) / bucket_range)\n",
    "        buckets[idx].append(num)\n",
    "    \n",
    "    sorted_arr = []\n",
    "    for bucket in buckets:\n",
    "        sorted_arr.extend(bucket)\n",
    "    \n",
    "    return sorted_arr"
   ]
  },
  {
   "cell_type": "code",
   "execution_count": 8,
   "metadata": {},
   "outputs": [
    {
     "data": {
      "text/plain": [
       "[1, 1, 3, 4, 4, 5, 5]"
      ]
     },
     "execution_count": 8,
     "metadata": {},
     "output_type": "execute_result"
    }
   ],
   "source": [
    "bucket_sort([3, 5, 1, 4, 5, 1, 4])"
   ]
  },
  {
   "cell_type": "markdown",
   "metadata": {},
   "source": [
    "**Selection Sort**"
   ]
  },
  {
   "cell_type": "code",
   "execution_count": 9,
   "metadata": {},
   "outputs": [],
   "source": [
    "def selection_sort(nums: list[int]) -> list[int]:\n",
    "\n",
    "    currentIdx = 0\n",
    "    while currentIdx < len(nums)-1:\n",
    "        smallestIdx = currentIdx\n",
    "        for i in range(currentIdx+1, len(nums)):\n",
    "            if nums[smallestIdx] > nums[i]:\n",
    "                smallestIdx = i\n",
    "        \n",
    "        nums[currentIdx], nums[smallestIdx] = nums[smallestIdx], nums[currentIdx]\n",
    "        currentIdx += 1\n",
    "    return nums"
   ]
  },
  {
   "cell_type": "code",
   "execution_count": 11,
   "metadata": {},
   "outputs": [
    {
     "data": {
      "text/plain": [
       "[-100, -50, 10, 20, 99]"
      ]
     },
     "execution_count": 11,
     "metadata": {},
     "output_type": "execute_result"
    }
   ],
   "source": [
    "selection_sort([-100, 10, 20, -50, 99])"
   ]
  }
 ],
 "metadata": {
  "kernelspec": {
   "display_name": "ML",
   "language": "python",
   "name": "python3"
  },
  "language_info": {
   "codemirror_mode": {
    "name": "ipython",
    "version": 3
   },
   "file_extension": ".py",
   "mimetype": "text/x-python",
   "name": "python",
   "nbconvert_exporter": "python",
   "pygments_lexer": "ipython3",
   "version": "3.11.4"
  },
  "orig_nbformat": 4
 },
 "nbformat": 4,
 "nbformat_minor": 2
}
