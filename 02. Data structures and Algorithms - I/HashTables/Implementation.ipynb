{
 "cells": [
  {
   "cell_type": "markdown",
   "metadata": {},
   "source": [
    "# <span style=\"color:#FEC260\">Hash Maps</span> "
   ]
  },
  {
   "cell_type": "code",
   "execution_count": 1,
   "metadata": {},
   "outputs": [],
   "source": [
    "class Pair:\n",
    "    def __init__(self, key, val):\n",
    "        self.val = val\n",
    "        self.key = key\n",
    "    \n",
    "class HashMap:\n",
    "    def __init__(self):\n",
    "        self.size = 0\n",
    "        self.capacity = 2\n",
    "        self.map = [None, None]\n",
    "    \n",
    "    def hash(self, key):\n",
    "        idx = 0\n",
    "        for character in key:\n",
    "            idx += ord(character)\n",
    "        return idx % self.capacity\n",
    "    \n",
    "    def get(self, key):\n",
    "        idx = self.hash(key)\n",
    "\n",
    "        # Open addressing\n",
    "        while self.map[idx] != None:\n",
    "            if self.map[idx] == key:\n",
    "                return self.map[idx].val\n",
    "            idx += 1\n",
    "            idx %= self.capacity\n",
    "        return None\n",
    "    \n",
    "    def put(self, key, val):\n",
    "        idx = self.hash(key)\n",
    "\n",
    "        while True:\n",
    "            if self.map[idx] == None:\n",
    "                self.map[idx] = Pair(key, val)\n",
    "                self.size += 1\n",
    "                if self.size >= self.capacity // 2:\n",
    "                    self.reHash()\n",
    "                return\n",
    "            elif self.map[idx].key == key:\n",
    "                self.map[idx].val = val\n",
    "                return\n",
    "            \n",
    "            idx += 1\n",
    "            idx %= self.capacity\n",
    "\n",
    "    def reHash(self):\n",
    "        self.capacity = 2 * self.capacity\n",
    "        newMap = []\n",
    "        for _ in range(self.capacity):\n",
    "            newMap.append(None)\n",
    "        \n",
    "        oldMap = self.map\n",
    "        self.map = newMap\n",
    "        self.size = 0\n",
    "\n",
    "        for pair in oldMap:\n",
    "            if pair:\n",
    "                self.put(pair.key, pair.val)"
   ]
  }
 ],
 "metadata": {
  "kernelspec": {
   "display_name": "ML",
   "language": "python",
   "name": "python3"
  },
  "language_info": {
   "codemirror_mode": {
    "name": "ipython",
    "version": 3
   },
   "file_extension": ".py",
   "mimetype": "text/x-python",
   "name": "python",
   "nbconvert_exporter": "python",
   "pygments_lexer": "ipython3",
   "version": "3.11.4"
  },
  "orig_nbformat": 4
 },
 "nbformat": 4,
 "nbformat_minor": 2
}
