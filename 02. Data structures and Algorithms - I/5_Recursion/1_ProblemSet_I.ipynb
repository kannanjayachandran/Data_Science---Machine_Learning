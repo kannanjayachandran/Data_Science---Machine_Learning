{
 "cells": [
  {
   "cell_type": "markdown",
   "metadata": {},
   "source": [
    "# <span style=\"color:#FEC260\">Recursion </span> Problem Set I"
   ]
  },
  {
   "cell_type": "markdown",
   "metadata": {},
   "source": [
    "**Q1 Factorial using recursion { Single branch recursion }**"
   ]
  },
  {
   "cell_type": "code",
   "execution_count": 1,
   "metadata": {},
   "outputs": [],
   "source": [
    "def facto(num: int) -> int:\n",
    "    if num <= 1:\n",
    "        return 1\n",
    "    return num * facto(num-1)"
   ]
  },
  {
   "cell_type": "code",
   "execution_count": 2,
   "metadata": {},
   "outputs": [
    {
     "data": {
      "text/plain": [
       "120"
      ]
     },
     "execution_count": 2,
     "metadata": {},
     "output_type": "execute_result"
    }
   ],
   "source": [
    "facto(5)"
   ]
  },
  {
   "cell_type": "markdown",
   "metadata": {
    "vscode": {
     "languageId": "plaintext"
    }
   },
   "source": [
    "**Q2 Fibonacci series { Two branch recursion }**"
   ]
  },
  {
   "cell_type": "code",
   "execution_count": 5,
   "metadata": {},
   "outputs": [],
   "source": [
    "def fib(n: int) -> int:\n",
    "    if n <= 1:\n",
    "        return n\n",
    "    else: \n",
    "        return fib(n-1) + fib(n-2)"
   ]
  },
  {
   "cell_type": "code",
   "execution_count": 6,
   "metadata": {},
   "outputs": [
    {
     "data": {
      "text/plain": [
       "55"
      ]
     },
     "execution_count": 6,
     "metadata": {},
     "output_type": "execute_result"
    }
   ],
   "source": [
    "fib(10)"
   ]
  },
  {
   "cell_type": "markdown",
   "metadata": {},
   "source": [
    "**Q3 Tower of Hanoi**"
   ]
  },
  {
   "cell_type": "code",
   "execution_count": 1,
   "metadata": {},
   "outputs": [
    {
     "name": "stdout",
     "output_type": "stream",
     "text": [
      "Move disk from A to C\n",
      "Move disk from A to B\n",
      "Move disk from C to B\n",
      "Move disk from A to C\n",
      "Move disk from B to A\n",
      "Move disk from B to C\n",
      "Move disk from A to C\n",
      "Move disk from A to B\n",
      "Move disk from C to B\n",
      "Move disk from C to A\n",
      "Move disk from B to A\n",
      "Move disk from C to B\n",
      "Move disk from A to C\n",
      "Move disk from A to B\n",
      "Move disk from C to B\n"
     ]
    }
   ],
   "source": [
    "def hanoi(n, source, destination, helper):\n",
    "    \n",
    "    if n == 1:\n",
    "        print(f'Move disk from {source} to {destination}')\n",
    "        return\n",
    "\n",
    "    hanoi(n-1, source, helper, destination)\n",
    "    print(f'Move disk from {source} to {destination}')\n",
    "\n",
    "    hanoi(n-1, helper, destination, source)\n",
    "\n",
    "hanoi(4,'A','B','C')"
   ]
  }
 ],
 "metadata": {
  "kernelspec": {
   "display_name": "ML",
   "language": "python",
   "name": "python3"
  },
  "language_info": {
   "codemirror_mode": {
    "name": "ipython",
    "version": 3
   },
   "file_extension": ".py",
   "mimetype": "text/x-python",
   "name": "python",
   "nbconvert_exporter": "python",
   "pygments_lexer": "ipython3",
   "version": "3.11.4"
  },
  "orig_nbformat": 4
 },
 "nbformat": 4,
 "nbformat_minor": 2
}
